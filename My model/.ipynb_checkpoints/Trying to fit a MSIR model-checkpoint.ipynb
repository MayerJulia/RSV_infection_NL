{
 "cells": [
  {
   "cell_type": "code",
   "execution_count": 1,
   "id": "ec20282c-e2d7-4de7-ae12-29dfa919e91c",
   "metadata": {},
   "outputs": [
    {
     "name": "stderr",
     "output_type": "stream",
     "text": [
      "Loading required package: nlme\n",
      "\n",
      "This is mgcv 1.8-40. For overview type 'help(\"mgcv-package\")'.\n",
      "\n",
      "-- \u001b[1mAttaching packages\u001b[22m ------------------------------------------------------------------------------- tidyverse 1.3.1 --\n",
      "\n",
      "\u001b[32mv\u001b[39m \u001b[34mtibble \u001b[39m 3.1.7     \u001b[32mv\u001b[39m \u001b[34mdplyr  \u001b[39m 1.0.9\n",
      "\u001b[32mv\u001b[39m \u001b[34mtidyr  \u001b[39m 1.2.0     \u001b[32mv\u001b[39m \u001b[34mstringr\u001b[39m 1.4.0\n",
      "\u001b[32mv\u001b[39m \u001b[34mreadr  \u001b[39m 2.1.2     \u001b[32mv\u001b[39m \u001b[34mforcats\u001b[39m 0.5.1\n",
      "\u001b[32mv\u001b[39m \u001b[34mpurrr  \u001b[39m 0.3.4     \n",
      "\n",
      "-- \u001b[1mConflicts\u001b[22m ---------------------------------------------------------------------------------- tidyverse_conflicts() --\n",
      "\u001b[31mx\u001b[39m \u001b[34mdplyr\u001b[39m::\u001b[32mcollapse()\u001b[39m masks \u001b[34mnlme\u001b[39m::collapse()\n",
      "\u001b[31mx\u001b[39m \u001b[34mdplyr\u001b[39m::\u001b[32mfilter()\u001b[39m   masks \u001b[34mstats\u001b[39m::filter()\n",
      "\u001b[31mx\u001b[39m \u001b[34mdplyr\u001b[39m::\u001b[32mlag()\u001b[39m      masks \u001b[34mstats\u001b[39m::lag()\n",
      "\n",
      "\n",
      "Attaching package: 'lubridate'\n",
      "\n",
      "\n",
      "The following objects are masked from 'package:base':\n",
      "\n",
      "    date, intersect, setdiff, union\n",
      "\n",
      "\n"
     ]
    },
    {
     "ename": "ERROR",
     "evalue": "Error in library(gridExtra): there is no package called 'gridExtra'\n",
     "output_type": "error",
     "traceback": [
      "Error in library(gridExtra): there is no package called 'gridExtra'\nTraceback:\n",
      "1. library(gridExtra)"
     ]
    }
   ],
   "source": [
    "# Load packages\n",
    "library(mgcv)\n",
    "library(ggplot2)\n",
    "library(tidyverse)\n",
    "library(lubridate)\n",
    "library(gridExtra)\n",
    "library(grid)\n",
    "library(writexl)\n",
    "library(magrittr)\n",
    "library(rstatix)"
   ]
  },
  {
   "cell_type": "code",
   "execution_count": 2,
   "id": "ad3239a0-8c40-4da9-997e-4c58e358cf4e",
   "metadata": {},
   "outputs": [
    {
     "data": {
      "text/html": [
       "'C:/Users/julia/OneDrive - London School of Hygiene and Tropical Medicine/Documents/LSHTM/Project'"
      ],
      "text/latex": [
       "'C:/Users/julia/OneDrive - London School of Hygiene and Tropical Medicine/Documents/LSHTM/Project'"
      ],
      "text/markdown": [
       "'C:/Users/julia/OneDrive - London School of Hygiene and Tropical Medicine/Documents/LSHTM/Project'"
      ],
      "text/plain": [
       "[1] \"C:/Users/julia/OneDrive - London School of Hygiene and Tropical Medicine/Documents/LSHTM/Project\""
      ]
     },
     "metadata": {},
     "output_type": "display_data"
    },
    {
     "name": "stderr",
     "output_type": "stream",
     "text": [
      "\u001b[1mRows: \u001b[22m\u001b[34m682\u001b[39m \u001b[1mColumns: \u001b[22m\u001b[34m23\u001b[39m\n",
      "\u001b[36m--\u001b[39m \u001b[1mColumn specification\u001b[22m \u001b[36m------------------------------------------------------------------------------------------------\u001b[39m\n",
      "\u001b[1mDelimiter:\u001b[22m \",\"\n",
      "\u001b[32mdbl\u001b[39m  (20): age_days, infection, IgG_PreF, IgA_PreF, IgG_PostF, IgA_PostF, Ig...\n",
      "\u001b[33mlgl\u001b[39m   (1): IgA_Nn_household\n",
      "\u001b[34mdate\u001b[39m  (2): birthday, consultdate\n",
      "\n",
      "\u001b[36mi\u001b[39m Use `spec()` to retrieve the full column specification for this data.\n",
      "\u001b[36mi\u001b[39m Specify the column types or set `show_col_types = FALSE` to quiet this message.\n"
     ]
    }
   ],
   "source": [
    "PATH <- file.path(\"C:/Users/julia/OneDrive - London School of Hygiene and Tropical Medicine/Documents/LSHTM/Project\") #\"/home/andewegs/1_RSV_scripts/\"\n",
    "setwd(PATH)\n",
    "getwd()\n",
    "rsv.data <- read_csv(file = \"Data/infection_status.csv\")"
   ]
  },
  {
   "cell_type": "code",
   "execution_count": 3,
   "id": "e452152a-b72a-4971-a380-51929121e7aa",
   "metadata": {},
   "outputs": [
    {
     "name": "stderr",
     "output_type": "stream",
     "text": [
      "Warning message:\n",
      "\"package 'deSolve' was built under R version 4.2.0\"\n"
     ]
    }
   ],
   "source": [
    "library(deSolve)"
   ]
  },
  {
   "cell_type": "code",
   "execution_count": 5,
   "id": "a9b85e0c-a1d3-4a01-bcb2-fbf2df84b0c6",
   "metadata": {},
   "outputs": [],
   "source": [
    "#Write the equations\n",
    "msir_equations <- function(time, variables, parameters) {\n",
    "  with(as.list(c(variables, parameters)), {\n",
    "    dM <- -mu*M\n",
    "    dS <- mu*M - beta * I * S\n",
    "    dI <-  beta * I * S - gamma * I\n",
    "    dR <-  gamma * I\n",
    "    return(list(c(dM, dS, dI, dR)))\n",
    "  })\n",
    "}"
   ]
  },
  {
   "cell_type": "code",
   "execution_count": 7,
   "id": "a039f510-ea2d-41ec-bcd6-e6934d4d02a5",
   "metadata": {},
   "outputs": [],
   "source": [
    "#Write the parameters\n",
    "parameters_values <- c(\n",
    "  mu = 0.033, #rate of maternal immunity waning from literature (/day)\n",
    "  beta  = 0.046304300313886, # infectious contact rate (/person/day) estimated from SIR model\n",
    "  gamma = 0.0302914570193872    # recovery rate (/day) estimated from SIR model\n",
    ")"
   ]
  },
  {
   "cell_type": "code",
   "execution_count": 8,
   "id": "9617c2ce-3dc3-4e3e-93f2-ad17ca83fde3",
   "metadata": {},
   "outputs": [
    {
     "data": {
      "text/html": [
       "<table class=\"dataframe\">\n",
       "<caption>A data.frame: 6 × 3</caption>\n",
       "<thead>\n",
       "\t<tr><th></th><th scope=col>age</th><th scope=col>infected</th><th scope=col>cuminfection</th></tr>\n",
       "\t<tr><th></th><th scope=col>&lt;dbl&gt;</th><th scope=col>&lt;int&gt;</th><th scope=col>&lt;int&gt;</th></tr>\n",
       "</thead>\n",
       "<tbody>\n",
       "\t<tr><th scope=row>1808</th><td>1808</td><td>1</td><td>339</td></tr>\n",
       "\t<tr><th scope=row>1821</th><td>1821</td><td>1</td><td>340</td></tr>\n",
       "\t<tr><th scope=row>1823</th><td>1823</td><td>1</td><td>341</td></tr>\n",
       "\t<tr><th scope=row>1841</th><td>1841</td><td>2</td><td>343</td></tr>\n",
       "\t<tr><th scope=row>1843</th><td>1843</td><td>1</td><td>344</td></tr>\n",
       "\t<tr><th scope=row>1854</th><td>1854</td><td>1</td><td>345</td></tr>\n",
       "</tbody>\n",
       "</table>\n"
      ],
      "text/latex": [
       "A data.frame: 6 × 3\n",
       "\\begin{tabular}{r|lll}\n",
       "  & age & infected & cuminfection\\\\\n",
       "  & <dbl> & <int> & <int>\\\\\n",
       "\\hline\n",
       "\t1808 & 1808 & 1 & 339\\\\\n",
       "\t1821 & 1821 & 1 & 340\\\\\n",
       "\t1823 & 1823 & 1 & 341\\\\\n",
       "\t1841 & 1841 & 2 & 343\\\\\n",
       "\t1843 & 1843 & 1 & 344\\\\\n",
       "\t1854 & 1854 & 1 & 345\\\\\n",
       "\\end{tabular}\n"
      ],
      "text/markdown": [
       "\n",
       "A data.frame: 6 × 3\n",
       "\n",
       "| <!--/--> | age &lt;dbl&gt; | infected &lt;int&gt; | cuminfection &lt;int&gt; |\n",
       "|---|---|---|---|\n",
       "| 1808 | 1808 | 1 | 339 |\n",
       "| 1821 | 1821 | 1 | 340 |\n",
       "| 1823 | 1823 | 1 | 341 |\n",
       "| 1841 | 1841 | 2 | 343 |\n",
       "| 1843 | 1843 | 1 | 344 |\n",
       "| 1854 | 1854 | 1 | 345 |\n",
       "\n"
      ],
      "text/plain": [
       "     age  infected cuminfection\n",
       "1808 1808 1        339         \n",
       "1821 1821 1        340         \n",
       "1823 1823 1        341         \n",
       "1841 1841 2        343         \n",
       "1843 1843 1        344         \n",
       "1854 1854 1        345         "
      ]
     },
     "metadata": {},
     "output_type": "display_data"
    }
   ],
   "source": [
    "#Prepare the data\n",
    "rsv_by_age <- rsv.data %>% arrange(age_days)\n",
    "tab <- table(rsv_by_age$age_days, rsv_by_age$infection)\n",
    "dframe <- data.frame(age=rownames(tab), infected=tab[,2])\n",
    "dframe$age <- as.numeric(dframe$age)\n",
    "dframe$cuminfection <- cumsum(dframe$infected)\n",
    "tail(dframe)"
   ]
  },
  {
   "cell_type": "code",
   "execution_count": 15,
   "id": "8f7a34c3-8fdf-4a2a-9b96-c33204dffee7",
   "metadata": {},
   "outputs": [],
   "source": [
    "#initial_values\n",
    "I0 <- 1\n",
    "initial_values <- c(\n",
    "  M = nrow(dframe)-I0, #number with maternal immunity at time = 0\n",
    "  S =    0,  # number of susceptibles at time = 0\n",
    "  I =   I0,  # number of infectious at time = 0\n",
    "  R =   0   # number of recovered (and immune) at time = 0\n",
    ")"
   ]
  },
  {
   "cell_type": "code",
   "execution_count": 12,
   "id": "4e7cfb1b-840e-48a6-b925-75ed7d71957e",
   "metadata": {},
   "outputs": [],
   "source": [
    "time_values <- seq(head(dframe$age,1), tail(dframe$age,1)) # days"
   ]
  },
  {
   "cell_type": "code",
   "execution_count": 16,
   "id": "69ca83a8-83b8-4ab8-85be-ffc50c4f4c5c",
   "metadata": {},
   "outputs": [
    {
     "data": {
      "text/html": [
       "<table class=\"dataframe\">\n",
       "<caption>A data.frame: 1819 × 5</caption>\n",
       "<thead>\n",
       "\t<tr><th scope=col>time</th><th scope=col>M</th><th scope=col>S</th><th scope=col>I</th><th scope=col>R</th></tr>\n",
       "\t<tr><th scope=col>&lt;dbl&gt;</th><th scope=col>&lt;dbl&gt;</th><th scope=col>&lt;dbl&gt;</th><th scope=col>&lt;dbl&gt;</th><th scope=col>&lt;dbl&gt;</th></tr>\n",
       "</thead>\n",
       "<tbody>\n",
       "\t<tr><td>36</td><td>495.0000</td><td> 0.0000000</td><td>  1.000000</td><td>  0.00000000</td></tr>\n",
       "\t<tr><td>37</td><td>478.9316</td><td>15.6330742</td><td>  1.401402</td><td>  0.03393763</td></tr>\n",
       "\t<tr><td>38</td><td>463.3848</td><td>28.6553436</td><td>  3.856013</td><td>  0.10386684</td></tr>\n",
       "\t<tr><td>39</td><td>448.3426</td><td>31.2161422</td><td> 16.080411</td><td>  0.36080693</td></tr>\n",
       "\t<tr><td>40</td><td>433.7888</td><td>14.4457369</td><td> 46.476136</td><td>  1.28933510</td></tr>\n",
       "\t<tr><td>41</td><td>419.7074</td><td> 5.4698716</td><td> 67.765238</td><td>  3.05750755</td></tr>\n",
       "\t<tr><td>42</td><td>406.0831</td><td> 3.8109156</td><td> 80.790654</td><td>  5.31535427</td></tr>\n",
       "\t<tr><td>43</td><td>392.9010</td><td> 3.1638157</td><td> 91.999975</td><td>  7.93517409</td></tr>\n",
       "\t<tr><td>44</td><td>380.1469</td><td> 2.7282913</td><td>102.245449</td><td> 10.87935862</td></tr>\n",
       "\t<tr><td>45</td><td>367.8068</td><td> 2.4025670</td><td>111.669426</td><td> 14.12122118</td></tr>\n",
       "\t<tr><td>46</td><td>355.8672</td><td> 2.1481024</td><td>120.347557</td><td> 17.63709303</td></tr>\n",
       "\t<tr><td>47</td><td>344.3153</td><td> 1.9431983</td><td>128.336269</td><td> 21.40525673</td></tr>\n",
       "\t<tr><td>48</td><td>333.1383</td><td> 1.7743514</td><td>135.681794</td><td> 25.40555779</td></tr>\n",
       "\t<tr><td>49</td><td>322.3241</td><td> 1.6326467</td><td>142.424078</td><td> 29.61913664</td></tr>\n",
       "\t<tr><td>50</td><td>311.8610</td><td> 1.5119283</td><td>148.598778</td><td> 34.02826843</td></tr>\n",
       "\t<tr><td>51</td><td>301.7376</td><td> 1.4077955</td><td>154.238385</td><td> 38.61625938</td></tr>\n",
       "\t<tr><td>52</td><td>291.9427</td><td> 1.3170115</td><td>159.372911</td><td> 43.36736022</td></tr>\n",
       "\t<tr><td>53</td><td>282.4658</td><td> 1.2371388</td><td>164.030331</td><td> 48.26669998</td></tr>\n",
       "\t<tr><td>54</td><td>273.2966</td><td> 1.1663045</td><td>168.236891</td><td> 53.30022757</td></tr>\n",
       "\t<tr><td>55</td><td>264.4250</td><td> 1.1030445</td><td>172.017321</td><td> 58.45466384</td></tr>\n",
       "\t<tr><td>56</td><td>255.8413</td><td> 1.0461970</td><td>175.394995</td><td> 63.71745788</td></tr>\n",
       "\t<tr><td>57</td><td>247.5364</td><td> 0.9948279</td><td>178.392058</td><td> 69.07674791</td></tr>\n",
       "\t<tr><td>58</td><td>239.5010</td><td> 0.9481770</td><td>181.029523</td><td> 74.52132564</td></tr>\n",
       "\t<tr><td>59</td><td>231.7264</td><td> 0.9056195</td><td>183.327355</td><td> 80.04060320</td></tr>\n",
       "\t<tr><td>60</td><td>224.2042</td><td> 0.8666367</td><td>185.304536</td><td> 85.62458246</td></tr>\n",
       "\t<tr><td>61</td><td>216.9262</td><td> 0.8307943</td><td>186.979132</td><td> 91.26382628</td></tr>\n",
       "\t<tr><td>62</td><td>209.8845</td><td> 0.7977261</td><td>188.368338</td><td> 96.94943148</td></tr>\n",
       "\t<tr><td>63</td><td>203.0713</td><td> 0.7671208</td><td>189.488530</td><td>102.67300298</td></tr>\n",
       "\t<tr><td>64</td><td>196.4794</td><td> 0.7387122</td><td>190.355304</td><td>108.42663036</td></tr>\n",
       "\t<tr><td>65</td><td>190.1013</td><td> 0.7122713</td><td>190.983519</td><td>114.20286384</td></tr>\n",
       "\t<tr><td>⋮</td><td>⋮</td><td>⋮</td><td>⋮</td><td>⋮</td></tr>\n",
       "\t<tr><td>1825</td><td>1.866391e-23</td><td>0.04591111</td><td>3.469360e-19</td><td>495.9541</td></tr>\n",
       "\t<tr><td>1826</td><td>1.806768e-23</td><td>0.04591111</td><td>3.374321e-19</td><td>495.9541</td></tr>\n",
       "\t<tr><td>1827</td><td>1.749049e-23</td><td>0.04591111</td><td>3.281884e-19</td><td>495.9541</td></tr>\n",
       "\t<tr><td>1828</td><td>1.693175e-23</td><td>0.04591111</td><td>3.191980e-19</td><td>495.9541</td></tr>\n",
       "\t<tr><td>1829</td><td>1.639085e-23</td><td>0.04591111</td><td>3.104539e-19</td><td>495.9541</td></tr>\n",
       "\t<tr><td>1830</td><td>1.586723e-23</td><td>0.04591111</td><td>3.019494e-19</td><td>495.9541</td></tr>\n",
       "\t<tr><td>1831</td><td>1.536034e-23</td><td>0.04591111</td><td>2.936778e-19</td><td>495.9541</td></tr>\n",
       "\t<tr><td>1832</td><td>1.486964e-23</td><td>0.04591111</td><td>2.856327e-19</td><td>495.9541</td></tr>\n",
       "\t<tr><td>1833</td><td>1.439462e-23</td><td>0.04591111</td><td>2.778081e-19</td><td>495.9541</td></tr>\n",
       "\t<tr><td>1834</td><td>1.393477e-23</td><td>0.04591111</td><td>2.701978e-19</td><td>495.9541</td></tr>\n",
       "\t<tr><td>1835</td><td>1.348961e-23</td><td>0.04591111</td><td>2.627960e-19</td><td>495.9541</td></tr>\n",
       "\t<tr><td>1836</td><td>1.305868e-23</td><td>0.04591111</td><td>2.555970e-19</td><td>495.9541</td></tr>\n",
       "\t<tr><td>1837</td><td>1.264151e-23</td><td>0.04591111</td><td>2.485952e-19</td><td>495.9541</td></tr>\n",
       "\t<tr><td>1838</td><td>1.223766e-23</td><td>0.04591111</td><td>2.417852e-19</td><td>495.9541</td></tr>\n",
       "\t<tr><td>1839</td><td>1.184672e-23</td><td>0.04591111</td><td>2.351617e-19</td><td>495.9541</td></tr>\n",
       "\t<tr><td>1840</td><td>1.146827e-23</td><td>0.04591111</td><td>2.287197e-19</td><td>495.9541</td></tr>\n",
       "\t<tr><td>1841</td><td>1.110191e-23</td><td>0.04591111</td><td>2.224541e-19</td><td>495.9541</td></tr>\n",
       "\t<tr><td>1842</td><td>1.074725e-23</td><td>0.04591111</td><td>2.163602e-19</td><td>495.9541</td></tr>\n",
       "\t<tr><td>1843</td><td>1.040392e-23</td><td>0.04591111</td><td>2.104332e-19</td><td>495.9541</td></tr>\n",
       "\t<tr><td>1844</td><td>1.007156e-23</td><td>0.04591111</td><td>2.046686e-19</td><td>495.9541</td></tr>\n",
       "\t<tr><td>1845</td><td>9.749813e-24</td><td>0.04591111</td><td>1.990619e-19</td><td>495.9541</td></tr>\n",
       "\t<tr><td>1846</td><td>9.438347e-24</td><td>0.04591111</td><td>1.936088e-19</td><td>495.9541</td></tr>\n",
       "\t<tr><td>1847</td><td>9.136832e-24</td><td>0.04591111</td><td>1.883051e-19</td><td>495.9541</td></tr>\n",
       "\t<tr><td>1848</td><td>8.844948e-24</td><td>0.04591111</td><td>1.831467e-19</td><td>495.9541</td></tr>\n",
       "\t<tr><td>1849</td><td>8.562390e-24</td><td>0.04591111</td><td>1.781296e-19</td><td>495.9541</td></tr>\n",
       "\t<tr><td>1850</td><td>8.288857e-24</td><td>0.04591111</td><td>1.732499e-19</td><td>495.9541</td></tr>\n",
       "\t<tr><td>1851</td><td>8.024063e-24</td><td>0.04591111</td><td>1.685039e-19</td><td>495.9541</td></tr>\n",
       "\t<tr><td>1852</td><td>7.767728e-24</td><td>0.04591111</td><td>1.638879e-19</td><td>495.9541</td></tr>\n",
       "\t<tr><td>1853</td><td>7.519582e-24</td><td>0.04591111</td><td>1.593983e-19</td><td>495.9541</td></tr>\n",
       "\t<tr><td>1854</td><td>7.279363e-24</td><td>0.04591111</td><td>1.550318e-19</td><td>495.9541</td></tr>\n",
       "</tbody>\n",
       "</table>\n"
      ],
      "text/latex": [
       "A data.frame: 1819 × 5\n",
       "\\begin{tabular}{lllll}\n",
       " time & M & S & I & R\\\\\n",
       " <dbl> & <dbl> & <dbl> & <dbl> & <dbl>\\\\\n",
       "\\hline\n",
       "\t 36 & 495.0000 &  0.0000000 &   1.000000 &   0.00000000\\\\\n",
       "\t 37 & 478.9316 & 15.6330742 &   1.401402 &   0.03393763\\\\\n",
       "\t 38 & 463.3848 & 28.6553436 &   3.856013 &   0.10386684\\\\\n",
       "\t 39 & 448.3426 & 31.2161422 &  16.080411 &   0.36080693\\\\\n",
       "\t 40 & 433.7888 & 14.4457369 &  46.476136 &   1.28933510\\\\\n",
       "\t 41 & 419.7074 &  5.4698716 &  67.765238 &   3.05750755\\\\\n",
       "\t 42 & 406.0831 &  3.8109156 &  80.790654 &   5.31535427\\\\\n",
       "\t 43 & 392.9010 &  3.1638157 &  91.999975 &   7.93517409\\\\\n",
       "\t 44 & 380.1469 &  2.7282913 & 102.245449 &  10.87935862\\\\\n",
       "\t 45 & 367.8068 &  2.4025670 & 111.669426 &  14.12122118\\\\\n",
       "\t 46 & 355.8672 &  2.1481024 & 120.347557 &  17.63709303\\\\\n",
       "\t 47 & 344.3153 &  1.9431983 & 128.336269 &  21.40525673\\\\\n",
       "\t 48 & 333.1383 &  1.7743514 & 135.681794 &  25.40555779\\\\\n",
       "\t 49 & 322.3241 &  1.6326467 & 142.424078 &  29.61913664\\\\\n",
       "\t 50 & 311.8610 &  1.5119283 & 148.598778 &  34.02826843\\\\\n",
       "\t 51 & 301.7376 &  1.4077955 & 154.238385 &  38.61625938\\\\\n",
       "\t 52 & 291.9427 &  1.3170115 & 159.372911 &  43.36736022\\\\\n",
       "\t 53 & 282.4658 &  1.2371388 & 164.030331 &  48.26669998\\\\\n",
       "\t 54 & 273.2966 &  1.1663045 & 168.236891 &  53.30022757\\\\\n",
       "\t 55 & 264.4250 &  1.1030445 & 172.017321 &  58.45466384\\\\\n",
       "\t 56 & 255.8413 &  1.0461970 & 175.394995 &  63.71745788\\\\\n",
       "\t 57 & 247.5364 &  0.9948279 & 178.392058 &  69.07674791\\\\\n",
       "\t 58 & 239.5010 &  0.9481770 & 181.029523 &  74.52132564\\\\\n",
       "\t 59 & 231.7264 &  0.9056195 & 183.327355 &  80.04060320\\\\\n",
       "\t 60 & 224.2042 &  0.8666367 & 185.304536 &  85.62458246\\\\\n",
       "\t 61 & 216.9262 &  0.8307943 & 186.979132 &  91.26382628\\\\\n",
       "\t 62 & 209.8845 &  0.7977261 & 188.368338 &  96.94943148\\\\\n",
       "\t 63 & 203.0713 &  0.7671208 & 189.488530 & 102.67300298\\\\\n",
       "\t 64 & 196.4794 &  0.7387122 & 190.355304 & 108.42663036\\\\\n",
       "\t 65 & 190.1013 &  0.7122713 & 190.983519 & 114.20286384\\\\\n",
       "\t ⋮ & ⋮ & ⋮ & ⋮ & ⋮\\\\\n",
       "\t 1825 & 1.866391e-23 & 0.04591111 & 3.469360e-19 & 495.9541\\\\\n",
       "\t 1826 & 1.806768e-23 & 0.04591111 & 3.374321e-19 & 495.9541\\\\\n",
       "\t 1827 & 1.749049e-23 & 0.04591111 & 3.281884e-19 & 495.9541\\\\\n",
       "\t 1828 & 1.693175e-23 & 0.04591111 & 3.191980e-19 & 495.9541\\\\\n",
       "\t 1829 & 1.639085e-23 & 0.04591111 & 3.104539e-19 & 495.9541\\\\\n",
       "\t 1830 & 1.586723e-23 & 0.04591111 & 3.019494e-19 & 495.9541\\\\\n",
       "\t 1831 & 1.536034e-23 & 0.04591111 & 2.936778e-19 & 495.9541\\\\\n",
       "\t 1832 & 1.486964e-23 & 0.04591111 & 2.856327e-19 & 495.9541\\\\\n",
       "\t 1833 & 1.439462e-23 & 0.04591111 & 2.778081e-19 & 495.9541\\\\\n",
       "\t 1834 & 1.393477e-23 & 0.04591111 & 2.701978e-19 & 495.9541\\\\\n",
       "\t 1835 & 1.348961e-23 & 0.04591111 & 2.627960e-19 & 495.9541\\\\\n",
       "\t 1836 & 1.305868e-23 & 0.04591111 & 2.555970e-19 & 495.9541\\\\\n",
       "\t 1837 & 1.264151e-23 & 0.04591111 & 2.485952e-19 & 495.9541\\\\\n",
       "\t 1838 & 1.223766e-23 & 0.04591111 & 2.417852e-19 & 495.9541\\\\\n",
       "\t 1839 & 1.184672e-23 & 0.04591111 & 2.351617e-19 & 495.9541\\\\\n",
       "\t 1840 & 1.146827e-23 & 0.04591111 & 2.287197e-19 & 495.9541\\\\\n",
       "\t 1841 & 1.110191e-23 & 0.04591111 & 2.224541e-19 & 495.9541\\\\\n",
       "\t 1842 & 1.074725e-23 & 0.04591111 & 2.163602e-19 & 495.9541\\\\\n",
       "\t 1843 & 1.040392e-23 & 0.04591111 & 2.104332e-19 & 495.9541\\\\\n",
       "\t 1844 & 1.007156e-23 & 0.04591111 & 2.046686e-19 & 495.9541\\\\\n",
       "\t 1845 & 9.749813e-24 & 0.04591111 & 1.990619e-19 & 495.9541\\\\\n",
       "\t 1846 & 9.438347e-24 & 0.04591111 & 1.936088e-19 & 495.9541\\\\\n",
       "\t 1847 & 9.136832e-24 & 0.04591111 & 1.883051e-19 & 495.9541\\\\\n",
       "\t 1848 & 8.844948e-24 & 0.04591111 & 1.831467e-19 & 495.9541\\\\\n",
       "\t 1849 & 8.562390e-24 & 0.04591111 & 1.781296e-19 & 495.9541\\\\\n",
       "\t 1850 & 8.288857e-24 & 0.04591111 & 1.732499e-19 & 495.9541\\\\\n",
       "\t 1851 & 8.024063e-24 & 0.04591111 & 1.685039e-19 & 495.9541\\\\\n",
       "\t 1852 & 7.767728e-24 & 0.04591111 & 1.638879e-19 & 495.9541\\\\\n",
       "\t 1853 & 7.519582e-24 & 0.04591111 & 1.593983e-19 & 495.9541\\\\\n",
       "\t 1854 & 7.279363e-24 & 0.04591111 & 1.550318e-19 & 495.9541\\\\\n",
       "\\end{tabular}\n"
      ],
      "text/markdown": [
       "\n",
       "A data.frame: 1819 × 5\n",
       "\n",
       "| time &lt;dbl&gt; | M &lt;dbl&gt; | S &lt;dbl&gt; | I &lt;dbl&gt; | R &lt;dbl&gt; |\n",
       "|---|---|---|---|---|\n",
       "| 36 | 495.0000 |  0.0000000 |   1.000000 |   0.00000000 |\n",
       "| 37 | 478.9316 | 15.6330742 |   1.401402 |   0.03393763 |\n",
       "| 38 | 463.3848 | 28.6553436 |   3.856013 |   0.10386684 |\n",
       "| 39 | 448.3426 | 31.2161422 |  16.080411 |   0.36080693 |\n",
       "| 40 | 433.7888 | 14.4457369 |  46.476136 |   1.28933510 |\n",
       "| 41 | 419.7074 |  5.4698716 |  67.765238 |   3.05750755 |\n",
       "| 42 | 406.0831 |  3.8109156 |  80.790654 |   5.31535427 |\n",
       "| 43 | 392.9010 |  3.1638157 |  91.999975 |   7.93517409 |\n",
       "| 44 | 380.1469 |  2.7282913 | 102.245449 |  10.87935862 |\n",
       "| 45 | 367.8068 |  2.4025670 | 111.669426 |  14.12122118 |\n",
       "| 46 | 355.8672 |  2.1481024 | 120.347557 |  17.63709303 |\n",
       "| 47 | 344.3153 |  1.9431983 | 128.336269 |  21.40525673 |\n",
       "| 48 | 333.1383 |  1.7743514 | 135.681794 |  25.40555779 |\n",
       "| 49 | 322.3241 |  1.6326467 | 142.424078 |  29.61913664 |\n",
       "| 50 | 311.8610 |  1.5119283 | 148.598778 |  34.02826843 |\n",
       "| 51 | 301.7376 |  1.4077955 | 154.238385 |  38.61625938 |\n",
       "| 52 | 291.9427 |  1.3170115 | 159.372911 |  43.36736022 |\n",
       "| 53 | 282.4658 |  1.2371388 | 164.030331 |  48.26669998 |\n",
       "| 54 | 273.2966 |  1.1663045 | 168.236891 |  53.30022757 |\n",
       "| 55 | 264.4250 |  1.1030445 | 172.017321 |  58.45466384 |\n",
       "| 56 | 255.8413 |  1.0461970 | 175.394995 |  63.71745788 |\n",
       "| 57 | 247.5364 |  0.9948279 | 178.392058 |  69.07674791 |\n",
       "| 58 | 239.5010 |  0.9481770 | 181.029523 |  74.52132564 |\n",
       "| 59 | 231.7264 |  0.9056195 | 183.327355 |  80.04060320 |\n",
       "| 60 | 224.2042 |  0.8666367 | 185.304536 |  85.62458246 |\n",
       "| 61 | 216.9262 |  0.8307943 | 186.979132 |  91.26382628 |\n",
       "| 62 | 209.8845 |  0.7977261 | 188.368338 |  96.94943148 |\n",
       "| 63 | 203.0713 |  0.7671208 | 189.488530 | 102.67300298 |\n",
       "| 64 | 196.4794 |  0.7387122 | 190.355304 | 108.42663036 |\n",
       "| 65 | 190.1013 |  0.7122713 | 190.983519 | 114.20286384 |\n",
       "| ⋮ | ⋮ | ⋮ | ⋮ | ⋮ |\n",
       "| 1825 | 1.866391e-23 | 0.04591111 | 3.469360e-19 | 495.9541 |\n",
       "| 1826 | 1.806768e-23 | 0.04591111 | 3.374321e-19 | 495.9541 |\n",
       "| 1827 | 1.749049e-23 | 0.04591111 | 3.281884e-19 | 495.9541 |\n",
       "| 1828 | 1.693175e-23 | 0.04591111 | 3.191980e-19 | 495.9541 |\n",
       "| 1829 | 1.639085e-23 | 0.04591111 | 3.104539e-19 | 495.9541 |\n",
       "| 1830 | 1.586723e-23 | 0.04591111 | 3.019494e-19 | 495.9541 |\n",
       "| 1831 | 1.536034e-23 | 0.04591111 | 2.936778e-19 | 495.9541 |\n",
       "| 1832 | 1.486964e-23 | 0.04591111 | 2.856327e-19 | 495.9541 |\n",
       "| 1833 | 1.439462e-23 | 0.04591111 | 2.778081e-19 | 495.9541 |\n",
       "| 1834 | 1.393477e-23 | 0.04591111 | 2.701978e-19 | 495.9541 |\n",
       "| 1835 | 1.348961e-23 | 0.04591111 | 2.627960e-19 | 495.9541 |\n",
       "| 1836 | 1.305868e-23 | 0.04591111 | 2.555970e-19 | 495.9541 |\n",
       "| 1837 | 1.264151e-23 | 0.04591111 | 2.485952e-19 | 495.9541 |\n",
       "| 1838 | 1.223766e-23 | 0.04591111 | 2.417852e-19 | 495.9541 |\n",
       "| 1839 | 1.184672e-23 | 0.04591111 | 2.351617e-19 | 495.9541 |\n",
       "| 1840 | 1.146827e-23 | 0.04591111 | 2.287197e-19 | 495.9541 |\n",
       "| 1841 | 1.110191e-23 | 0.04591111 | 2.224541e-19 | 495.9541 |\n",
       "| 1842 | 1.074725e-23 | 0.04591111 | 2.163602e-19 | 495.9541 |\n",
       "| 1843 | 1.040392e-23 | 0.04591111 | 2.104332e-19 | 495.9541 |\n",
       "| 1844 | 1.007156e-23 | 0.04591111 | 2.046686e-19 | 495.9541 |\n",
       "| 1845 | 9.749813e-24 | 0.04591111 | 1.990619e-19 | 495.9541 |\n",
       "| 1846 | 9.438347e-24 | 0.04591111 | 1.936088e-19 | 495.9541 |\n",
       "| 1847 | 9.136832e-24 | 0.04591111 | 1.883051e-19 | 495.9541 |\n",
       "| 1848 | 8.844948e-24 | 0.04591111 | 1.831467e-19 | 495.9541 |\n",
       "| 1849 | 8.562390e-24 | 0.04591111 | 1.781296e-19 | 495.9541 |\n",
       "| 1850 | 8.288857e-24 | 0.04591111 | 1.732499e-19 | 495.9541 |\n",
       "| 1851 | 8.024063e-24 | 0.04591111 | 1.685039e-19 | 495.9541 |\n",
       "| 1852 | 7.767728e-24 | 0.04591111 | 1.638879e-19 | 495.9541 |\n",
       "| 1853 | 7.519582e-24 | 0.04591111 | 1.593983e-19 | 495.9541 |\n",
       "| 1854 | 7.279363e-24 | 0.04591111 | 1.550318e-19 | 495.9541 |\n",
       "\n"
      ],
      "text/plain": [
       "     time M            S          I            R           \n",
       "1    36   495.0000      0.0000000   1.000000     0.00000000\n",
       "2    37   478.9316     15.6330742   1.401402     0.03393763\n",
       "3    38   463.3848     28.6553436   3.856013     0.10386684\n",
       "4    39   448.3426     31.2161422  16.080411     0.36080693\n",
       "5    40   433.7888     14.4457369  46.476136     1.28933510\n",
       "6    41   419.7074      5.4698716  67.765238     3.05750755\n",
       "7    42   406.0831      3.8109156  80.790654     5.31535427\n",
       "8    43   392.9010      3.1638157  91.999975     7.93517409\n",
       "9    44   380.1469      2.7282913 102.245449    10.87935862\n",
       "10   45   367.8068      2.4025670 111.669426    14.12122118\n",
       "11   46   355.8672      2.1481024 120.347557    17.63709303\n",
       "12   47   344.3153      1.9431983 128.336269    21.40525673\n",
       "13   48   333.1383      1.7743514 135.681794    25.40555779\n",
       "14   49   322.3241      1.6326467 142.424078    29.61913664\n",
       "15   50   311.8610      1.5119283 148.598778    34.02826843\n",
       "16   51   301.7376      1.4077955 154.238385    38.61625938\n",
       "17   52   291.9427      1.3170115 159.372911    43.36736022\n",
       "18   53   282.4658      1.2371388 164.030331    48.26669998\n",
       "19   54   273.2966      1.1663045 168.236891    53.30022757\n",
       "20   55   264.4250      1.1030445 172.017321    58.45466384\n",
       "21   56   255.8413      1.0461970 175.394995    63.71745788\n",
       "22   57   247.5364      0.9948279 178.392058    69.07674791\n",
       "23   58   239.5010      0.9481770 181.029523    74.52132564\n",
       "24   59   231.7264      0.9056195 183.327355    80.04060320\n",
       "25   60   224.2042      0.8666367 185.304536    85.62458246\n",
       "26   61   216.9262      0.8307943 186.979132    91.26382628\n",
       "27   62   209.8845      0.7977261 188.368338    96.94943148\n",
       "28   63   203.0713      0.7671208 189.488530   102.67300298\n",
       "29   64   196.4794      0.7387122 190.355304   108.42663036\n",
       "30   65   190.1013      0.7122713 190.983519   114.20286384\n",
       "<U+22EE>    <U+22EE> <U+22EE>     <U+22EE>   <U+22EE>     <U+22EE>    \n",
       "1790 1825 1.866391e-23 0.04591111 3.469360e-19 495.9541    \n",
       "1791 1826 1.806768e-23 0.04591111 3.374321e-19 495.9541    \n",
       "1792 1827 1.749049e-23 0.04591111 3.281884e-19 495.9541    \n",
       "1793 1828 1.693175e-23 0.04591111 3.191980e-19 495.9541    \n",
       "1794 1829 1.639085e-23 0.04591111 3.104539e-19 495.9541    \n",
       "1795 1830 1.586723e-23 0.04591111 3.019494e-19 495.9541    \n",
       "1796 1831 1.536034e-23 0.04591111 2.936778e-19 495.9541    \n",
       "1797 1832 1.486964e-23 0.04591111 2.856327e-19 495.9541    \n",
       "1798 1833 1.439462e-23 0.04591111 2.778081e-19 495.9541    \n",
       "1799 1834 1.393477e-23 0.04591111 2.701978e-19 495.9541    \n",
       "1800 1835 1.348961e-23 0.04591111 2.627960e-19 495.9541    \n",
       "1801 1836 1.305868e-23 0.04591111 2.555970e-19 495.9541    \n",
       "1802 1837 1.264151e-23 0.04591111 2.485952e-19 495.9541    \n",
       "1803 1838 1.223766e-23 0.04591111 2.417852e-19 495.9541    \n",
       "1804 1839 1.184672e-23 0.04591111 2.351617e-19 495.9541    \n",
       "1805 1840 1.146827e-23 0.04591111 2.287197e-19 495.9541    \n",
       "1806 1841 1.110191e-23 0.04591111 2.224541e-19 495.9541    \n",
       "1807 1842 1.074725e-23 0.04591111 2.163602e-19 495.9541    \n",
       "1808 1843 1.040392e-23 0.04591111 2.104332e-19 495.9541    \n",
       "1809 1844 1.007156e-23 0.04591111 2.046686e-19 495.9541    \n",
       "1810 1845 9.749813e-24 0.04591111 1.990619e-19 495.9541    \n",
       "1811 1846 9.438347e-24 0.04591111 1.936088e-19 495.9541    \n",
       "1812 1847 9.136832e-24 0.04591111 1.883051e-19 495.9541    \n",
       "1813 1848 8.844948e-24 0.04591111 1.831467e-19 495.9541    \n",
       "1814 1849 8.562390e-24 0.04591111 1.781296e-19 495.9541    \n",
       "1815 1850 8.288857e-24 0.04591111 1.732499e-19 495.9541    \n",
       "1816 1851 8.024063e-24 0.04591111 1.685039e-19 495.9541    \n",
       "1817 1852 7.767728e-24 0.04591111 1.638879e-19 495.9541    \n",
       "1818 1853 7.519582e-24 0.04591111 1.593983e-19 495.9541    \n",
       "1819 1854 7.279363e-24 0.04591111 1.550318e-19 495.9541    "
      ]
     },
     "metadata": {},
     "output_type": "display_data"
    }
   ],
   "source": [
    "msir_values_1 <- ode(\n",
    "  y = initial_values,\n",
    "  times = time_values,\n",
    "  func = msir_equations,\n",
    "  parms = parameters_values \n",
    ")\n",
    "msir_values_1 <- as.data.frame(msir_values_1)\n",
    "msir_values_1"
   ]
  },
  {
   "cell_type": "code",
   "execution_count": 18,
   "id": "40995576-05a1-492f-a8ec-484dc8b5b765",
   "metadata": {},
   "outputs": [
    {
     "data": {
      "image/png": "[encoded data removed]",
      "text/plain": [
       "plot without title"
      ]
     },
     "metadata": {
      "image/png": {
       "height": 420,
       "width": 420
      }
     },
     "output_type": "display_data"
    }
   ],
   "source": [
    "plot(msir_values_1$time, msir_values_1$R,\n",
    "     type = \"l\", xlab = \"Age in days\", ylab = \"Cumulative number of infected children\")"
   ]
  },
  {
   "cell_type": "code",
   "execution_count": 25,
   "id": "eefd1638-7005-4b51-8188-27de30d46dd1",
   "metadata": {},
   "outputs": [],
   "source": [
    "msir_1 <- function(mu, beta, gamma, M0, S0, I0, R0, times) {\n",
    "  require(deSolve) # for the \"ode\" function\n",
    "# the differential equations:\n",
    "  sir_equations <- function(time, variables, parameters) {\n",
    "    with(as.list(c(variables, parameters)), {\n",
    "      dM <- -mu*M\n",
    "      dS <- mu*M -beta * I * S\n",
    "      dI <-  beta * I * S - gamma * I\n",
    "      dR <-  gamma * I\n",
    "      return(list(c(dS, dI, dR)))\n",
    "    })\n",
    "  }\n",
    "# the parameters values:\n",
    "  parameters_values <- c(mu = mu, beta  = beta, gamma = gamma)\n",
    "# the initial values of variables:\n",
    "  initial_values <- c(M = M0, S = S0, I = I0, R = R0)\n",
    "# solving\n",
    "  out <- ode(initial_values, times, msir_equations, parameters_values)\n",
    "# returning the output:\n",
    "  as.data.frame(out)\n",
    "}"
   ]
  },
  {
   "cell_type": "code",
   "execution_count": 26,
   "id": "20f68e13-bc56-4ac2-8242-d44cf6a365e6",
   "metadata": {},
   "outputs": [
    {
     "data": {
      "image/png": "[encoded data removed]",
      "text/plain": [
       "plot without title"
      ]
     },
     "metadata": {
      "image/png": {
       "height": 420,
       "width": 420
      }
     },
     "output_type": "display_data"
    }
   ],
   "source": [
    "with(dframe, plot(age, cuminfection, pch = 19, col = \"red\", ylim = c(0, 500)))\n",
    "predictions <- msir_1(mu = 0.033, beta = 0.046304300313886, gamma = 0.0302914570193872, M0 = nrow(dframe)-1, S0 = 0, I0 = 1, R0 = 0, times = dframe$age)\n",
    "with(predictions, lines(time, R, col = \"red\"))"
   ]
  }
 ],
 "metadata": {
  "kernelspec": {
   "display_name": "R",
   "language": "R",
   "name": "ir"
  },
  "language_info": {
   "codemirror_mode": "r",
   "file_extension": ".r",
   "mimetype": "text/x-r-source",
   "name": "R",
   "pygments_lexer": "r",
   "version": "4.1.3"
  }
 },
 "nbformat": 4,
 "nbformat_minor": 5
}
