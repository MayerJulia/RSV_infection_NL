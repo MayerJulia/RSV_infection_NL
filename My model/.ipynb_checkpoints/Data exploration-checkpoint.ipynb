{
 "cells": [
  {
   "cell_type": "markdown",
   "id": "4378fc61-6cbc-4029-afa3-7123cf55246a",
   "metadata": {},
   "source": [
    "## Data exploration ##"
   ]
  },
  {
   "cell_type": "code",
   "execution_count": 1,
   "id": "6ffc8d0d-87e7-44c3-82ed-5bfab431833e",
   "metadata": {},
   "outputs": [
    {
     "name": "stderr",
     "output_type": "stream",
     "text": [
      "Loading required package: nlme\n",
      "\n",
      "This is mgcv 1.8-40. For overview type 'help(\"mgcv-package\")'.\n",
      "\n",
      "-- \u001b[1mAttaching packages\u001b[22m ------------------------------------------------------------------------------- tidyverse 1.3.1 --\n",
      "\n",
      "\u001b[32mv\u001b[39m \u001b[34mtibble \u001b[39m 3.1.7     \u001b[32mv\u001b[39m \u001b[34mdplyr  \u001b[39m 1.0.9\n",
      "\u001b[32mv\u001b[39m \u001b[34mtidyr  \u001b[39m 1.2.0     \u001b[32mv\u001b[39m \u001b[34mstringr\u001b[39m 1.4.0\n",
      "\u001b[32mv\u001b[39m \u001b[34mreadr  \u001b[39m 2.1.2     \u001b[32mv\u001b[39m \u001b[34mforcats\u001b[39m 0.5.1\n",
      "\u001b[32mv\u001b[39m \u001b[34mpurrr  \u001b[39m 0.3.4     \n",
      "\n",
      "-- \u001b[1mConflicts\u001b[22m ---------------------------------------------------------------------------------- tidyverse_conflicts() --\n",
      "\u001b[31mx\u001b[39m \u001b[34mdplyr\u001b[39m::\u001b[32mcollapse()\u001b[39m masks \u001b[34mnlme\u001b[39m::collapse()\n",
      "\u001b[31mx\u001b[39m \u001b[34mdplyr\u001b[39m::\u001b[32mfilter()\u001b[39m   masks \u001b[34mstats\u001b[39m::filter()\n",
      "\u001b[31mx\u001b[39m \u001b[34mdplyr\u001b[39m::\u001b[32mlag()\u001b[39m      masks \u001b[34mstats\u001b[39m::lag()\n",
      "\n",
      "\n",
      "Attaching package: 'lubridate'\n",
      "\n",
      "\n",
      "The following objects are masked from 'package:base':\n",
      "\n",
      "    date, intersect, setdiff, union\n",
      "\n",
      "\n",
      "\n",
      "Attaching package: 'gridExtra'\n",
      "\n",
      "\n",
      "The following object is masked from 'package:dplyr':\n",
      "\n",
      "    combine\n",
      "\n",
      "\n",
      "\n",
      "Attaching package: 'magrittr'\n",
      "\n",
      "\n",
      "The following object is masked from 'package:purrr':\n",
      "\n",
      "    set_names\n",
      "\n",
      "\n",
      "The following object is masked from 'package:tidyr':\n",
      "\n",
      "    extract\n",
      "\n",
      "\n"
     ]
    },
    {
     "ename": "ERROR",
     "evalue": "Error in library(rstatix): there is no package called 'rstatix'\n",
     "output_type": "error",
     "traceback": [
      "Error in library(rstatix): there is no package called 'rstatix'\nTraceback:\n",
      "1. library(rstatix)"
     ]
    }
   ],
   "source": [
    "# Load packages\n",
    "library(mgcv)\n",
    "library(ggplot2)\n",
    "library(tidyverse)\n",
    "library(lubridate)\n",
    "library(gridExtra)\n",
    "library(grid)\n",
    "library(writexl)\n",
    "library(magrittr)\n",
    "library(rstatix)"
   ]
  },
  {
   "cell_type": "code",
   "execution_count": 2,
   "id": "fd35eefc-5b12-43f0-8d8c-40c61c3c50a4",
   "metadata": {},
   "outputs": [
    {
     "data": {
      "text/html": [
       "'C:/Users/julia/OneDrive - London School of Hygiene and Tropical Medicine/Documents/LSHTM/Project'"
      ],
      "text/latex": [
       "'C:/Users/julia/OneDrive - London School of Hygiene and Tropical Medicine/Documents/LSHTM/Project'"
      ],
      "text/markdown": [
       "'C:/Users/julia/OneDrive - London School of Hygiene and Tropical Medicine/Documents/LSHTM/Project'"
      ],
      "text/plain": [
       "[1] \"C:/Users/julia/OneDrive - London School of Hygiene and Tropical Medicine/Documents/LSHTM/Project\""
      ]
     },
     "metadata": {},
     "output_type": "display_data"
    },
    {
     "name": "stderr",
     "output_type": "stream",
     "text": [
      "\u001b[1mRows: \u001b[22m\u001b[34m682\u001b[39m \u001b[1mColumns: \u001b[22m\u001b[34m23\u001b[39m\n",
      "\u001b[36m--\u001b[39m \u001b[1mColumn specification\u001b[22m \u001b[36m------------------------------------------------------------------------------------------------\u001b[39m\n",
      "\u001b[1mDelimiter:\u001b[22m \",\"\n",
      "\u001b[32mdbl\u001b[39m  (20): age_days, infection, IgG_PreF, IgA_PreF, IgG_PostF, IgA_PostF, Ig...\n",
      "\u001b[33mlgl\u001b[39m   (1): IgA_Nn_household\n",
      "\u001b[34mdate\u001b[39m  (2): birthday, consultdate\n",
      "\n",
      "\u001b[36mi\u001b[39m Use `spec()` to retrieve the full column specification for this data.\n",
      "\u001b[36mi\u001b[39m Specify the column types or set `show_col_types = FALSE` to quiet this message.\n"
     ]
    }
   ],
   "source": [
    "PATH <- file.path(\"C:/Users/julia/OneDrive - London School of Hygiene and Tropical Medicine/Documents/LSHTM/Project\") #\"/home/andewegs/1_RSV_scripts/\"\n",
    "setwd(PATH)\n",
    "getwd()\n",
    "rsv.data <- read_csv(file = \"Data/infection_status.csv\")"
   ]
  },
  {
   "cell_type": "code",
   "execution_count": 8,
   "id": "279c2211-5bca-4de6-ad48-55ab244e5b2f",
   "metadata": {},
   "outputs": [
    {
     "data": {
      "text/html": [
       "<table class=\"dataframe\">\n",
       "<caption>A tibble: 6 × 23</caption>\n",
       "<thead>\n",
       "\t<tr><th scope=col>age_days</th><th scope=col>birthday</th><th scope=col>consultdate</th><th scope=col>infection</th><th scope=col>IgG_PreF</th><th scope=col>IgA_PreF</th><th scope=col>IgG_PostF</th><th scope=col>IgA_PostF</th><th scope=col>IgG_Ga</th><th scope=col>IgA_Ga</th><th scope=col>⋯</th><th scope=col>IgA_Nn_household</th><th scope=col>household04</th><th scope=col>household59</th><th scope=col>visitnursery_child</th><th scope=col>visitnursery_house</th><th scope=col>pregnancytime</th><th scope=col>contacttotal</th><th scope=col>contact04</th><th scope=col>contact59</th><th scope=col>sex</th></tr>\n",
       "\t<tr><th scope=col>&lt;dbl&gt;</th><th scope=col>&lt;date&gt;</th><th scope=col>&lt;date&gt;</th><th scope=col>&lt;dbl&gt;</th><th scope=col>&lt;dbl&gt;</th><th scope=col>&lt;dbl&gt;</th><th scope=col>&lt;dbl&gt;</th><th scope=col>&lt;dbl&gt;</th><th scope=col>&lt;dbl&gt;</th><th scope=col>&lt;dbl&gt;</th><th scope=col>⋯</th><th scope=col>&lt;lgl&gt;</th><th scope=col>&lt;dbl&gt;</th><th scope=col>&lt;dbl&gt;</th><th scope=col>&lt;dbl&gt;</th><th scope=col>&lt;dbl&gt;</th><th scope=col>&lt;dbl&gt;</th><th scope=col>&lt;dbl&gt;</th><th scope=col>&lt;dbl&gt;</th><th scope=col>&lt;dbl&gt;</th><th scope=col>&lt;dbl&gt;</th></tr>\n",
       "</thead>\n",
       "<tbody>\n",
       "\t<tr><td> 676</td><td>2004-04-01</td><td>2006-02-06</td><td>1</td><td>   0.3565</td><td> 0.60</td><td>   9.3264</td><td> 0.08</td><td> 0.260000</td><td>0.01</td><td>⋯</td><td>NA</td><td>NA</td><td>0</td><td>0</td><td>0</td><td>NA</td><td> 3</td><td> 1</td><td>0</td><td>2</td></tr>\n",
       "\t<tr><td> 600</td><td>2004-07-23</td><td>2006-03-15</td><td>1</td><td> 772.3431</td><td>33.15</td><td> 473.5323</td><td>14.52</td><td> 3.130699</td><td>0.02</td><td>⋯</td><td>NA</td><td> 1</td><td>0</td><td>1</td><td>0</td><td>NA</td><td>29</td><td>20</td><td>0</td><td>1</td></tr>\n",
       "\t<tr><td> 588</td><td>2004-08-09</td><td>2006-03-20</td><td>0</td><td>   0.1800</td><td> 0.03</td><td>   0.2100</td><td> 0.19</td><td> 0.580000</td><td>0.03</td><td>⋯</td><td>NA</td><td> 1</td><td>0</td><td>0</td><td>0</td><td>NA</td><td> 4</td><td> 1</td><td>0</td><td>2</td></tr>\n",
       "\t<tr><td> 591</td><td>2004-08-06</td><td>2006-03-20</td><td>1</td><td> 740.2907</td><td>70.38</td><td> 466.2055</td><td>49.78</td><td> 1.886910</td><td>0.05</td><td>⋯</td><td>NA</td><td> 1</td><td>1</td><td>0</td><td>0</td><td>NA</td><td> 2</td><td> 0</td><td>0</td><td>2</td></tr>\n",
       "\t<tr><td>1184</td><td>2002-12-29</td><td>2006-03-27</td><td>1</td><td>1999.2353</td><td>   NA</td><td>1459.5921</td><td>   NA</td><td>55.896003</td><td>  NA</td><td>⋯</td><td>NA</td><td> 1</td><td>1</td><td>0</td><td>0</td><td>NA</td><td> 6</td><td> 2</td><td>3</td><td>1</td></tr>\n",
       "\t<tr><td> 686</td><td>2004-05-12</td><td>2006-03-29</td><td>1</td><td> 807.2200</td><td>   NA</td><td> 838.7400</td><td>   NA</td><td>15.000000</td><td>  NA</td><td>⋯</td><td>NA</td><td> 1</td><td>0</td><td>0</td><td>0</td><td>NA</td><td> 2</td><td> 0</td><td>0</td><td>2</td></tr>\n",
       "</tbody>\n",
       "</table>\n"
      ],
      "text/latex": [
       "A tibble: 6 × 23\n",
       "\\begin{tabular}{lllllllllllllllllllll}\n",
       " age\\_days & birthday & consultdate & infection & IgG\\_PreF & IgA\\_PreF & IgG\\_PostF & IgA\\_PostF & IgG\\_Ga & IgA\\_Ga & ⋯ & IgA\\_Nn\\_household & household04 & household59 & visitnursery\\_child & visitnursery\\_house & pregnancytime & contacttotal & contact04 & contact59 & sex\\\\\n",
       " <dbl> & <date> & <date> & <dbl> & <dbl> & <dbl> & <dbl> & <dbl> & <dbl> & <dbl> & ⋯ & <lgl> & <dbl> & <dbl> & <dbl> & <dbl> & <dbl> & <dbl> & <dbl> & <dbl> & <dbl>\\\\\n",
       "\\hline\n",
       "\t  676 & 2004-04-01 & 2006-02-06 & 1 &    0.3565 &  0.60 &    9.3264 &  0.08 &  0.260000 & 0.01 & ⋯ & NA & NA & 0 & 0 & 0 & NA &  3 &  1 & 0 & 2\\\\\n",
       "\t  600 & 2004-07-23 & 2006-03-15 & 1 &  772.3431 & 33.15 &  473.5323 & 14.52 &  3.130699 & 0.02 & ⋯ & NA &  1 & 0 & 1 & 0 & NA & 29 & 20 & 0 & 1\\\\\n",
       "\t  588 & 2004-08-09 & 2006-03-20 & 0 &    0.1800 &  0.03 &    0.2100 &  0.19 &  0.580000 & 0.03 & ⋯ & NA &  1 & 0 & 0 & 0 & NA &  4 &  1 & 0 & 2\\\\\n",
       "\t  591 & 2004-08-06 & 2006-03-20 & 1 &  740.2907 & 70.38 &  466.2055 & 49.78 &  1.886910 & 0.05 & ⋯ & NA &  1 & 1 & 0 & 0 & NA &  2 &  0 & 0 & 2\\\\\n",
       "\t 1184 & 2002-12-29 & 2006-03-27 & 1 & 1999.2353 &    NA & 1459.5921 &    NA & 55.896003 &   NA & ⋯ & NA &  1 & 1 & 0 & 0 & NA &  6 &  2 & 3 & 1\\\\\n",
       "\t  686 & 2004-05-12 & 2006-03-29 & 1 &  807.2200 &    NA &  838.7400 &    NA & 15.000000 &   NA & ⋯ & NA &  1 & 0 & 0 & 0 & NA &  2 &  0 & 0 & 2\\\\\n",
       "\\end{tabular}\n"
      ],
      "text/markdown": [
       "\n",
       "A tibble: 6 × 23\n",
       "\n",
       "| age_days &lt;dbl&gt; | birthday &lt;date&gt; | consultdate &lt;date&gt; | infection &lt;dbl&gt; | IgG_PreF &lt;dbl&gt; | IgA_PreF &lt;dbl&gt; | IgG_PostF &lt;dbl&gt; | IgA_PostF &lt;dbl&gt; | IgG_Ga &lt;dbl&gt; | IgA_Ga &lt;dbl&gt; | ⋯ ⋯ | IgA_Nn_household &lt;lgl&gt; | household04 &lt;dbl&gt; | household59 &lt;dbl&gt; | visitnursery_child &lt;dbl&gt; | visitnursery_house &lt;dbl&gt; | pregnancytime &lt;dbl&gt; | contacttotal &lt;dbl&gt; | contact04 &lt;dbl&gt; | contact59 &lt;dbl&gt; | sex &lt;dbl&gt; |\n",
       "|---|---|---|---|---|---|---|---|---|---|---|---|---|---|---|---|---|---|---|---|---|\n",
       "|  676 | 2004-04-01 | 2006-02-06 | 1 |    0.3565 |  0.60 |    9.3264 |  0.08 |  0.260000 | 0.01 | ⋯ | NA | NA | 0 | 0 | 0 | NA |  3 |  1 | 0 | 2 |\n",
       "|  600 | 2004-07-23 | 2006-03-15 | 1 |  772.3431 | 33.15 |  473.5323 | 14.52 |  3.130699 | 0.02 | ⋯ | NA |  1 | 0 | 1 | 0 | NA | 29 | 20 | 0 | 1 |\n",
       "|  588 | 2004-08-09 | 2006-03-20 | 0 |    0.1800 |  0.03 |    0.2100 |  0.19 |  0.580000 | 0.03 | ⋯ | NA |  1 | 0 | 0 | 0 | NA |  4 |  1 | 0 | 2 |\n",
       "|  591 | 2004-08-06 | 2006-03-20 | 1 |  740.2907 | 70.38 |  466.2055 | 49.78 |  1.886910 | 0.05 | ⋯ | NA |  1 | 1 | 0 | 0 | NA |  2 |  0 | 0 | 2 |\n",
       "| 1184 | 2002-12-29 | 2006-03-27 | 1 | 1999.2353 |    NA | 1459.5921 |    NA | 55.896003 |   NA | ⋯ | NA |  1 | 1 | 0 | 0 | NA |  6 |  2 | 3 | 1 |\n",
       "|  686 | 2004-05-12 | 2006-03-29 | 1 |  807.2200 |    NA |  838.7400 |    NA | 15.000000 |   NA | ⋯ | NA |  1 | 0 | 0 | 0 | NA |  2 |  0 | 0 | 2 |\n",
       "\n"
      ],
      "text/plain": [
       "  age_days birthday   consultdate infection IgG_PreF  IgA_PreF IgG_PostF\n",
       "1  676     2004-04-01 2006-02-06  1            0.3565  0.60       9.3264\n",
       "2  600     2004-07-23 2006-03-15  1          772.3431 33.15     473.5323\n",
       "3  588     2004-08-09 2006-03-20  0            0.1800  0.03       0.2100\n",
       "4  591     2004-08-06 2006-03-20  1          740.2907 70.38     466.2055\n",
       "5 1184     2002-12-29 2006-03-27  1         1999.2353    NA    1459.5921\n",
       "6  686     2004-05-12 2006-03-29  1          807.2200    NA     838.7400\n",
       "  IgA_PostF IgG_Ga    IgA_Ga <U+22EF>        IgA_Nn_household household04 household59\n",
       "1  0.08      0.260000 0.01   <U+22EF> NA               NA          0          \n",
       "2 14.52      3.130699 0.02   <U+22EF> NA                1          0          \n",
       "3  0.19      0.580000 0.03   <U+22EF> NA                1          0          \n",
       "4 49.78      1.886910 0.05   <U+22EF> NA                1          1          \n",
       "5    NA     55.896003   NA   <U+22EF> NA                1          1          \n",
       "6    NA     15.000000   NA   <U+22EF> NA                1          0          \n",
       "  visitnursery_child visitnursery_house pregnancytime contacttotal contact04\n",
       "1 0                  0                  NA             3            1       \n",
       "2 1                  0                  NA            29           20       \n",
       "3 0                  0                  NA             4            1       \n",
       "4 0                  0                  NA             2            0       \n",
       "5 0                  0                  NA             6            2       \n",
       "6 0                  0                  NA             2            0       \n",
       "  contact59 sex\n",
       "1 0         2  \n",
       "2 0         1  \n",
       "3 0         2  \n",
       "4 0         2  \n",
       "5 3         1  \n",
       "6 0         2  "
      ]
     },
     "metadata": {},
     "output_type": "display_data"
    }
   ],
   "source": [
    "head(rsv.data)"
   ]
  },
  {
   "cell_type": "code",
   "execution_count": 4,
   "id": "325edc32-87b5-4c9c-aec9-ddde915db784",
   "metadata": {},
   "outputs": [
    {
     "data": {
      "text/html": [
       "682"
      ],
      "text/latex": [
       "682"
      ],
      "text/markdown": [
       "682"
      ],
      "text/plain": [
       "[1] 682"
      ]
     },
     "metadata": {},
     "output_type": "display_data"
    }
   ],
   "source": [
    "#get number of children\n",
    "nrow(rsv.data)"
   ]
  },
  {
   "cell_type": "code",
   "execution_count": 5,
   "id": "67da0099-6199-4881-99f4-2bbe381e08c4",
   "metadata": {},
   "outputs": [
    {
     "data": {
      "text/html": [
       "<style>\n",
       ".dl-inline {width: auto; margin:0; padding: 0}\n",
       ".dl-inline>dt, .dl-inline>dd {float: none; width: auto; display: inline-block}\n",
       ".dl-inline>dt::after {content: \":\\0020\"; padding-right: .5ex}\n",
       ".dl-inline>dt:not(:first-of-type) {padding-left: .5ex}\n",
       "</style><dl class=dl-inline><dt>age_days</dt><dd>0</dd><dt>birthday</dt><dd>0</dd><dt>consultdate</dt><dd>0</dd><dt>infection</dt><dd>0</dd><dt>IgG_PreF</dt><dd>0</dd><dt>IgA_PreF</dt><dd>185</dd><dt>IgG_PostF</dt><dd>0</dd><dt>IgA_PostF</dt><dd>185</dd><dt>IgG_Ga</dt><dd>0</dd><dt>IgA_Ga</dt><dd>185</dd><dt>IgG_Gb</dt><dd>0</dd><dt>IgA_Gb</dt><dd>185</dd><dt>IgG_N</dt><dd>0</dd><dt>IgA_Nn_household</dt><dd>682</dd><dt>household04</dt><dd>61</dd><dt>household59</dt><dd>0</dd><dt>visitnursery_child</dt><dd>22</dd><dt>visitnursery_house</dt><dd>30</dd><dt>pregnancytime</dt><dd>400</dd><dt>contacttotal</dt><dd>96</dd><dt>contact04</dt><dd>178</dd><dt>contact59</dt><dd>178</dd><dt>sex</dt><dd>0</dd></dl>\n"
      ],
      "text/latex": [
       "\\begin{description*}\n",
       "\\item[age\\textbackslash{}\\_days] 0\n",
       "\\item[birthday] 0\n",
       "\\item[consultdate] 0\n",
       "\\item[infection] 0\n",
       "\\item[IgG\\textbackslash{}\\_PreF] 0\n",
       "\\item[IgA\\textbackslash{}\\_PreF] 185\n",
       "\\item[IgG\\textbackslash{}\\_PostF] 0\n",
       "\\item[IgA\\textbackslash{}\\_PostF] 185\n",
       "\\item[IgG\\textbackslash{}\\_Ga] 0\n",
       "\\item[IgA\\textbackslash{}\\_Ga] 185\n",
       "\\item[IgG\\textbackslash{}\\_Gb] 0\n",
       "\\item[IgA\\textbackslash{}\\_Gb] 185\n",
       "\\item[IgG\\textbackslash{}\\_N] 0\n",
       "\\item[IgA\\textbackslash{}\\_Nn\\textbackslash{}\\_household] 682\n",
       "\\item[household04] 61\n",
       "\\item[household59] 0\n",
       "\\item[visitnursery\\textbackslash{}\\_child] 22\n",
       "\\item[visitnursery\\textbackslash{}\\_house] 30\n",
       "\\item[pregnancytime] 400\n",
       "\\item[contacttotal] 96\n",
       "\\item[contact04] 178\n",
       "\\item[contact59] 178\n",
       "\\item[sex] 0\n",
       "\\end{description*}\n"
      ],
      "text/markdown": [
       "age_days\n",
       ":   0birthday\n",
       ":   0consultdate\n",
       ":   0infection\n",
       ":   0IgG_PreF\n",
       ":   0IgA_PreF\n",
       ":   185IgG_PostF\n",
       ":   0IgA_PostF\n",
       ":   185IgG_Ga\n",
       ":   0IgA_Ga\n",
       ":   185IgG_Gb\n",
       ":   0IgA_Gb\n",
       ":   185IgG_N\n",
       ":   0IgA_Nn_household\n",
       ":   682household04\n",
       ":   61household59\n",
       ":   0visitnursery_child\n",
       ":   22visitnursery_house\n",
       ":   30pregnancytime\n",
       ":   400contacttotal\n",
       ":   96contact04\n",
       ":   178contact59\n",
       ":   178sex\n",
       ":   0\n",
       "\n"
      ],
      "text/plain": [
       "          age_days           birthday        consultdate          infection \n",
       "                 0                  0                  0                  0 \n",
       "          IgG_PreF           IgA_PreF          IgG_PostF          IgA_PostF \n",
       "                 0                185                  0                185 \n",
       "            IgG_Ga             IgA_Ga             IgG_Gb             IgA_Gb \n",
       "                 0                185                  0                185 \n",
       "             IgG_N   IgA_Nn_household        household04        household59 \n",
       "                 0                682                 61                  0 \n",
       "visitnursery_child visitnursery_house      pregnancytime       contacttotal \n",
       "                22                 30                400                 96 \n",
       "         contact04          contact59                sex \n",
       "               178                178                  0 "
      ]
     },
     "metadata": {},
     "output_type": "display_data"
    }
   ],
   "source": [
    "#count total missing values in each column of data frame\n",
    "sapply(rsv.data, function(x) sum(is.na(x)))"
   ]
  },
  {
   "cell_type": "code",
   "execution_count": 7,
   "id": "f9d44676-2c33-4723-8cb7-c8ac3f2c6127",
   "metadata": {},
   "outputs": [
    {
     "data": {
      "text/html": [
       "<table class=\"dataframe\">\n",
       "<caption>A tibble: 20 × 7</caption>\n",
       "<thead>\n",
       "\t<tr><th scope=col>variable</th><th scope=col>n</th><th scope=col>min</th><th scope=col>max</th><th scope=col>median</th><th scope=col>mean</th><th scope=col>sd</th></tr>\n",
       "\t<tr><th scope=col>&lt;chr&gt;</th><th scope=col>&lt;dbl&gt;</th><th scope=col>&lt;dbl&gt;</th><th scope=col>&lt;dbl&gt;</th><th scope=col>&lt;dbl&gt;</th><th scope=col>&lt;dbl&gt;</th><th scope=col>&lt;dbl&gt;</th></tr>\n",
       "</thead>\n",
       "<tbody>\n",
       "\t<tr><td>age_days          </td><td>682</td><td>36.000</td><td> 1854.00</td><td>345.000</td><td>537.837</td><td>454.629</td></tr>\n",
       "\t<tr><td>contact04         </td><td>504</td><td> 0.000</td><td>   40.00</td><td>  1.000</td><td>  3.107</td><td>  5.423</td></tr>\n",
       "\t<tr><td>contact59         </td><td>504</td><td> 0.000</td><td>   50.00</td><td>  0.000</td><td>  1.212</td><td>  3.941</td></tr>\n",
       "\t<tr><td>contacttotal      </td><td>586</td><td> 0.000</td><td>  200.00</td><td>  5.000</td><td>  8.718</td><td> 14.406</td></tr>\n",
       "\t<tr><td>household04       </td><td>621</td><td> 1.000</td><td>    3.00</td><td>  1.000</td><td>  1.467</td><td>  0.610</td></tr>\n",
       "\t<tr><td>household59       </td><td>682</td><td> 0.000</td><td>    3.00</td><td>  0.000</td><td>  0.350</td><td>  0.654</td></tr>\n",
       "\t<tr><td>IgA_Ga            </td><td>497</td><td> 0.010</td><td>    7.22</td><td>  0.020</td><td>  0.063</td><td>  0.353</td></tr>\n",
       "\t<tr><td>IgA_Gb            </td><td>497</td><td> 0.010</td><td>   18.30</td><td>  0.020</td><td>  0.100</td><td>  0.860</td></tr>\n",
       "\t<tr><td>IgA_PostF         </td><td>497</td><td> 0.010</td><td>  350.00</td><td>  0.080</td><td>  2.316</td><td> 16.361</td></tr>\n",
       "\t<tr><td>IgA_PreF          </td><td>497</td><td> 0.010</td><td>  350.00</td><td>  0.020</td><td>  2.580</td><td> 18.214</td></tr>\n",
       "\t<tr><td>IgG_Ga            </td><td>682</td><td> 0.046</td><td>  753.43</td><td>  0.840</td><td>  4.875</td><td> 30.105</td></tr>\n",
       "\t<tr><td>IgG_Gb            </td><td>682</td><td> 0.022</td><td>  204.05</td><td>  1.085</td><td>  5.488</td><td> 13.476</td></tr>\n",
       "\t<tr><td>IgG_N             </td><td>682</td><td> 0.190</td><td>13363.92</td><td> 70.010</td><td>224.474</td><td>622.537</td></tr>\n",
       "\t<tr><td>IgG_PostF         </td><td>682</td><td> 0.034</td><td>15000.00</td><td> 57.625</td><td>229.289</td><td>765.074</td></tr>\n",
       "\t<tr><td>IgG_PreF          </td><td>682</td><td> 0.050</td><td>14732.83</td><td> 57.261</td><td>232.593</td><td>694.312</td></tr>\n",
       "\t<tr><td>infection         </td><td>682</td><td> 0.000</td><td>    1.00</td><td>  1.000</td><td>  0.506</td><td>  0.500</td></tr>\n",
       "\t<tr><td>pregnancytime     </td><td>282</td><td>32.000</td><td>   43.00</td><td> 40.000</td><td> 39.433</td><td>  1.667</td></tr>\n",
       "\t<tr><td>sex               </td><td>682</td><td> 1.000</td><td>    2.00</td><td>  1.000</td><td>  1.482</td><td>  0.500</td></tr>\n",
       "\t<tr><td>visitnursery_child</td><td>660</td><td> 0.000</td><td>    1.00</td><td>  0.000</td><td>  0.408</td><td>  0.492</td></tr>\n",
       "\t<tr><td>visitnursery_house</td><td>652</td><td> 0.000</td><td>    1.00</td><td>  0.000</td><td>  0.287</td><td>  0.453</td></tr>\n",
       "</tbody>\n",
       "</table>\n"
      ],
      "text/latex": [
       "A tibble: 20 × 7\n",
       "\\begin{tabular}{lllllll}\n",
       " variable & n & min & max & median & mean & sd\\\\\n",
       " <chr> & <dbl> & <dbl> & <dbl> & <dbl> & <dbl> & <dbl>\\\\\n",
       "\\hline\n",
       "\t age\\_days           & 682 & 36.000 &  1854.00 & 345.000 & 537.837 & 454.629\\\\\n",
       "\t contact04          & 504 &  0.000 &    40.00 &   1.000 &   3.107 &   5.423\\\\\n",
       "\t contact59          & 504 &  0.000 &    50.00 &   0.000 &   1.212 &   3.941\\\\\n",
       "\t contacttotal       & 586 &  0.000 &   200.00 &   5.000 &   8.718 &  14.406\\\\\n",
       "\t household04        & 621 &  1.000 &     3.00 &   1.000 &   1.467 &   0.610\\\\\n",
       "\t household59        & 682 &  0.000 &     3.00 &   0.000 &   0.350 &   0.654\\\\\n",
       "\t IgA\\_Ga             & 497 &  0.010 &     7.22 &   0.020 &   0.063 &   0.353\\\\\n",
       "\t IgA\\_Gb             & 497 &  0.010 &    18.30 &   0.020 &   0.100 &   0.860\\\\\n",
       "\t IgA\\_PostF          & 497 &  0.010 &   350.00 &   0.080 &   2.316 &  16.361\\\\\n",
       "\t IgA\\_PreF           & 497 &  0.010 &   350.00 &   0.020 &   2.580 &  18.214\\\\\n",
       "\t IgG\\_Ga             & 682 &  0.046 &   753.43 &   0.840 &   4.875 &  30.105\\\\\n",
       "\t IgG\\_Gb             & 682 &  0.022 &   204.05 &   1.085 &   5.488 &  13.476\\\\\n",
       "\t IgG\\_N              & 682 &  0.190 & 13363.92 &  70.010 & 224.474 & 622.537\\\\\n",
       "\t IgG\\_PostF          & 682 &  0.034 & 15000.00 &  57.625 & 229.289 & 765.074\\\\\n",
       "\t IgG\\_PreF           & 682 &  0.050 & 14732.83 &  57.261 & 232.593 & 694.312\\\\\n",
       "\t infection          & 682 &  0.000 &     1.00 &   1.000 &   0.506 &   0.500\\\\\n",
       "\t pregnancytime      & 282 & 32.000 &    43.00 &  40.000 &  39.433 &   1.667\\\\\n",
       "\t sex                & 682 &  1.000 &     2.00 &   1.000 &   1.482 &   0.500\\\\\n",
       "\t visitnursery\\_child & 660 &  0.000 &     1.00 &   0.000 &   0.408 &   0.492\\\\\n",
       "\t visitnursery\\_house & 652 &  0.000 &     1.00 &   0.000 &   0.287 &   0.453\\\\\n",
       "\\end{tabular}\n"
      ],
      "text/markdown": [
       "\n",
       "A tibble: 20 × 7\n",
       "\n",
       "| variable &lt;chr&gt; | n &lt;dbl&gt; | min &lt;dbl&gt; | max &lt;dbl&gt; | median &lt;dbl&gt; | mean &lt;dbl&gt; | sd &lt;dbl&gt; |\n",
       "|---|---|---|---|---|---|---|\n",
       "| age_days           | 682 | 36.000 |  1854.00 | 345.000 | 537.837 | 454.629 |\n",
       "| contact04          | 504 |  0.000 |    40.00 |   1.000 |   3.107 |   5.423 |\n",
       "| contact59          | 504 |  0.000 |    50.00 |   0.000 |   1.212 |   3.941 |\n",
       "| contacttotal       | 586 |  0.000 |   200.00 |   5.000 |   8.718 |  14.406 |\n",
       "| household04        | 621 |  1.000 |     3.00 |   1.000 |   1.467 |   0.610 |\n",
       "| household59        | 682 |  0.000 |     3.00 |   0.000 |   0.350 |   0.654 |\n",
       "| IgA_Ga             | 497 |  0.010 |     7.22 |   0.020 |   0.063 |   0.353 |\n",
       "| IgA_Gb             | 497 |  0.010 |    18.30 |   0.020 |   0.100 |   0.860 |\n",
       "| IgA_PostF          | 497 |  0.010 |   350.00 |   0.080 |   2.316 |  16.361 |\n",
       "| IgA_PreF           | 497 |  0.010 |   350.00 |   0.020 |   2.580 |  18.214 |\n",
       "| IgG_Ga             | 682 |  0.046 |   753.43 |   0.840 |   4.875 |  30.105 |\n",
       "| IgG_Gb             | 682 |  0.022 |   204.05 |   1.085 |   5.488 |  13.476 |\n",
       "| IgG_N              | 682 |  0.190 | 13363.92 |  70.010 | 224.474 | 622.537 |\n",
       "| IgG_PostF          | 682 |  0.034 | 15000.00 |  57.625 | 229.289 | 765.074 |\n",
       "| IgG_PreF           | 682 |  0.050 | 14732.83 |  57.261 | 232.593 | 694.312 |\n",
       "| infection          | 682 |  0.000 |     1.00 |   1.000 |   0.506 |   0.500 |\n",
       "| pregnancytime      | 282 | 32.000 |    43.00 |  40.000 |  39.433 |   1.667 |\n",
       "| sex                | 682 |  1.000 |     2.00 |   1.000 |   1.482 |   0.500 |\n",
       "| visitnursery_child | 660 |  0.000 |     1.00 |   0.000 |   0.408 |   0.492 |\n",
       "| visitnursery_house | 652 |  0.000 |     1.00 |   0.000 |   0.287 |   0.453 |\n",
       "\n"
      ],
      "text/plain": [
       "   variable           n   min    max      median  mean    sd     \n",
       "1  age_days           682 36.000  1854.00 345.000 537.837 454.629\n",
       "2  contact04          504  0.000    40.00   1.000   3.107   5.423\n",
       "3  contact59          504  0.000    50.00   0.000   1.212   3.941\n",
       "4  contacttotal       586  0.000   200.00   5.000   8.718  14.406\n",
       "5  household04        621  1.000     3.00   1.000   1.467   0.610\n",
       "6  household59        682  0.000     3.00   0.000   0.350   0.654\n",
       "7  IgA_Ga             497  0.010     7.22   0.020   0.063   0.353\n",
       "8  IgA_Gb             497  0.010    18.30   0.020   0.100   0.860\n",
       "9  IgA_PostF          497  0.010   350.00   0.080   2.316  16.361\n",
       "10 IgA_PreF           497  0.010   350.00   0.020   2.580  18.214\n",
       "11 IgG_Ga             682  0.046   753.43   0.840   4.875  30.105\n",
       "12 IgG_Gb             682  0.022   204.05   1.085   5.488  13.476\n",
       "13 IgG_N              682  0.190 13363.92  70.010 224.474 622.537\n",
       "14 IgG_PostF          682  0.034 15000.00  57.625 229.289 765.074\n",
       "15 IgG_PreF           682  0.050 14732.83  57.261 232.593 694.312\n",
       "16 infection          682  0.000     1.00   1.000   0.506   0.500\n",
       "17 pregnancytime      282 32.000    43.00  40.000  39.433   1.667\n",
       "18 sex                682  1.000     2.00   1.000   1.482   0.500\n",
       "19 visitnursery_child 660  0.000     1.00   0.000   0.408   0.492\n",
       "20 visitnursery_house 652  0.000     1.00   0.000   0.287   0.453"
      ]
     },
     "metadata": {},
     "output_type": "display_data"
    }
   ],
   "source": [
    "get_summary_stats(rsv.data, show = c(\"n\", \"min\", \"max\", \"median\", \"mean\", \"sd\"))"
   ]
  },
  {
   "cell_type": "code",
   "execution_count": 3,
   "id": "39518811-cbc4-4ecd-9cf1-3b15a424a91b",
   "metadata": {},
   "outputs": [],
   "source": [
    "rsv.data <- rsv.data %>%\n",
    "  # Get day of the year of birthday (= number between 1 and 365)\n",
    "  mutate(\n",
    "    Birth_doy = birthday %>% yday()\n",
    "  ) %>%\n",
    "  # Alter number of housefold members 1 == no siblings, >1 == having siblings\n",
    "  mutate(\n",
    "    household04_counts = case_when(\n",
    "      age_days/365 >= 5 ~ (household04 + 1),  #because the child itself is also included in household size\n",
    "      age_days/365 < 5 ~ household04)       #the household04 of children of age 5 should also include the child itself\n",
    "  ) %>%\n",
    "  # Make number of siblings 0-4 years binary factor variable\n",
    "  mutate(\n",
    "    Siblings04 = case_when(\n",
    "      household04_counts <= 1 ~ 'False',\n",
    "      household04_counts > 1 ~ 'True'\n",
    "    ) %>% \n",
    "      factor()\n",
    "  ) %>%\n",
    "  # Make number of siblings 5-9 years binary factor variable\n",
    "  mutate(\n",
    "    Siblings59 = case_when(\n",
    "      household59 <= 0 ~ 'False',\n",
    "      household59 > 0 ~ 'True'\n",
    "    ) %>% \n",
    "      factor()\n",
    "  ) %>% \n",
    "  # Set nursery 0 1 to False True\n",
    "  mutate(\n",
    "    Nursery = case_when(\n",
    "      visitnursery_child == 0 ~ 'False',\n",
    "      visitnursery_child == 1 ~ 'True'\n",
    "    ) %>% \n",
    "      factor()\n",
    "  )"
   ]
  },
  {
   "cell_type": "code",
   "execution_count": 11,
   "id": "6f4272f5-1249-4ea7-abcf-49268a0286ea",
   "metadata": {},
   "outputs": [
    {
     "data": {
      "text/html": [
       "682"
      ],
      "text/latex": [
       "682"
      ],
      "text/markdown": [
       "682"
      ],
      "text/plain": [
       "[1] 682"
      ]
     },
     "metadata": {},
     "output_type": "display_data"
    }
   ],
   "source": [
    "nrow(rsv.data)"
   ]
  },
  {
   "cell_type": "code",
   "execution_count": 14,
   "id": "b7571a15-4641-4fa9-8e60-527d5937a51a",
   "metadata": {},
   "outputs": [
    {
     "data": {
      "text/html": [
       "616"
      ],
      "text/latex": [
       "616"
      ],
      "text/markdown": [
       "616"
      ],
      "text/plain": [
       "[1] 616"
      ]
     },
     "metadata": {},
     "output_type": "display_data"
    }
   ],
   "source": [
    "completeVec <- complete.cases(rsv.data[, c(\"Siblings04\", \"Nursery\")]) ##keeps participants with complete records of Siblings and Nursery only\n",
    "complete.rsv.data <- rsv.data[completeVec,]\n",
    "nrow(complete.rsv.data)"
   ]
  },
  {
   "cell_type": "code",
   "execution_count": 44,
   "id": "d9c21c79-754a-4b59-b58c-62cbbb2dceb0",
   "metadata": {},
   "outputs": [
    {
     "name": "stdout",
     "output_type": "stream",
     "text": [
      " [1] \"2002-10-13\" \"2003-08-22\" \"2004-09-20\" \"2004-02-25\" \"2004-09-03\"\n",
      " [6] \"2002-06-04\" \"2003-08-25\" \"2002-12-04\" \"2001-05-07\" \"2002-06-03\"\n",
      "[11] \"2001-04-24\"\n"
     ]
    }
   ],
   "source": [
    "print(complete.rsv.data$birthday[10:20])\n"
   ]
  },
  {
   "cell_type": "code",
   "execution_count": 31,
   "id": "6a7b041c-6226-4ea2-9f78-f7abf5944d3d",
   "metadata": {},
   "outputs": [
    {
     "name": "stdout",
     "output_type": "stream",
     "text": [
      "[1] \"2004-04-01\"\n"
     ]
    }
   ],
   "source": [
    "print(rsv.data$birthday[1])"
   ]
  },
  {
   "cell_type": "markdown",
   "id": "2e573db9-1d08-4364-8186-09096362e125",
   "metadata": {},
   "source": [
    "## Baseline distribution ##"
   ]
  },
  {
   "cell_type": "code",
   "execution_count": 4,
   "id": "fc324faf-56a5-4c81-9370-48c3566c6c1d",
   "metadata": {},
   "outputs": [],
   "source": [
    "rsv.data <- rsv.data %>%\n",
    " mutate(\n",
    "    Birth_mo = birthday %>% month()\n",
    "  )"
   ]
  },
  {
   "cell_type": "code",
   "execution_count": 5,
   "id": "a0ef1752-cfeb-4797-8c36-dd478b9e6425",
   "metadata": {},
   "outputs": [
    {
     "data": {
      "text/html": [
       "<table class=\"dataframe\">\n",
       "<caption>A tibble: 6 × 35</caption>\n",
       "<thead>\n",
       "\t<tr><th scope=col>age_days</th><th scope=col>birthday</th><th scope=col>consultdate</th><th scope=col>infection</th><th scope=col>IgG_PreF</th><th scope=col>IgA_PreF</th><th scope=col>IgG_PostF</th><th scope=col>IgA_PostF</th><th scope=col>IgG_Ga</th><th scope=col>IgA_Ga</th><th scope=col>⋯</th><th scope=col>Siblings04</th><th scope=col>Siblings59</th><th scope=col>Nursery</th><th scope=col>Birth_mo</th><th scope=col>age_years</th><th scope=col>seasons</th><th scope=col>cohort</th><th scope=col>season_birth</th><th scope=col>nursery_house</th><th scope=col>pre_term</th></tr>\n",
       "\t<tr><th scope=col>&lt;dbl&gt;</th><th scope=col>&lt;date&gt;</th><th scope=col>&lt;date&gt;</th><th scope=col>&lt;dbl&gt;</th><th scope=col>&lt;dbl&gt;</th><th scope=col>&lt;dbl&gt;</th><th scope=col>&lt;dbl&gt;</th><th scope=col>&lt;dbl&gt;</th><th scope=col>&lt;dbl&gt;</th><th scope=col>&lt;dbl&gt;</th><th scope=col>⋯</th><th scope=col>&lt;fct&gt;</th><th scope=col>&lt;fct&gt;</th><th scope=col>&lt;fct&gt;</th><th scope=col>&lt;dbl&gt;</th><th scope=col>&lt;fct&gt;</th><th scope=col>&lt;chr&gt;</th><th scope=col>&lt;chr&gt;</th><th scope=col>&lt;chr&gt;</th><th scope=col>&lt;fct&gt;</th><th scope=col>&lt;fct&gt;</th></tr>\n",
       "</thead>\n",
       "<tbody>\n",
       "\t<tr><td> 676</td><td>2004-04-01</td><td>2006-02-06</td><td>1</td><td>   0.3565</td><td> 0.60</td><td>   9.3264</td><td> 0.08</td><td> 0.260000</td><td>0.01</td><td>⋯</td><td>NA   </td><td>False</td><td>False</td><td> 4</td><td>1-2 years</td><td>2005/2006</td><td>2006/2007</td><td>Spring</td><td>False</td><td>NA</td></tr>\n",
       "\t<tr><td> 600</td><td>2004-07-23</td><td>2006-03-15</td><td>1</td><td> 772.3431</td><td>33.15</td><td> 473.5323</td><td>14.52</td><td> 3.130699</td><td>0.02</td><td>⋯</td><td>False</td><td>False</td><td>True </td><td> 7</td><td>1-2 years</td><td>2005/2006</td><td>2006/2007</td><td>Summer</td><td>False</td><td>NA</td></tr>\n",
       "\t<tr><td> 588</td><td>2004-08-09</td><td>2006-03-20</td><td>0</td><td>   0.1800</td><td> 0.03</td><td>   0.2100</td><td> 0.19</td><td> 0.580000</td><td>0.03</td><td>⋯</td><td>False</td><td>False</td><td>False</td><td> 8</td><td>1-2 years</td><td>2005/2006</td><td>2006/2007</td><td>Summer</td><td>False</td><td>NA</td></tr>\n",
       "\t<tr><td> 591</td><td>2004-08-06</td><td>2006-03-20</td><td>1</td><td> 740.2907</td><td>70.38</td><td> 466.2055</td><td>49.78</td><td> 1.886910</td><td>0.05</td><td>⋯</td><td>False</td><td>True </td><td>False</td><td> 8</td><td>1-2 years</td><td>2005/2006</td><td>2006/2007</td><td>Summer</td><td>False</td><td>NA</td></tr>\n",
       "\t<tr><td>1184</td><td>2002-12-29</td><td>2006-03-27</td><td>1</td><td>1999.2353</td><td>   NA</td><td>1459.5921</td><td>   NA</td><td>55.896003</td><td>  NA</td><td>⋯</td><td>False</td><td>True </td><td>False</td><td>12</td><td>3-4 years</td><td>2005/2006</td><td>2006/2007</td><td>Winter</td><td>False</td><td>NA</td></tr>\n",
       "\t<tr><td> 686</td><td>2004-05-12</td><td>2006-03-29</td><td>1</td><td> 807.2200</td><td>   NA</td><td> 838.7400</td><td>   NA</td><td>15.000000</td><td>  NA</td><td>⋯</td><td>False</td><td>False</td><td>False</td><td> 5</td><td>1-2 years</td><td>2005/2006</td><td>2006/2007</td><td>Spring</td><td>False</td><td>NA</td></tr>\n",
       "</tbody>\n",
       "</table>\n"
      ],
      "text/latex": [
       "A tibble: 6 × 35\n",
       "\\begin{tabular}{lllllllllllllllllllll}\n",
       " age\\_days & birthday & consultdate & infection & IgG\\_PreF & IgA\\_PreF & IgG\\_PostF & IgA\\_PostF & IgG\\_Ga & IgA\\_Ga & ⋯ & Siblings04 & Siblings59 & Nursery & Birth\\_mo & age\\_years & seasons & cohort & season\\_birth & nursery\\_house & pre\\_term\\\\\n",
       " <dbl> & <date> & <date> & <dbl> & <dbl> & <dbl> & <dbl> & <dbl> & <dbl> & <dbl> & ⋯ & <fct> & <fct> & <fct> & <dbl> & <fct> & <chr> & <chr> & <chr> & <fct> & <fct>\\\\\n",
       "\\hline\n",
       "\t  676 & 2004-04-01 & 2006-02-06 & 1 &    0.3565 &  0.60 &    9.3264 &  0.08 &  0.260000 & 0.01 & ⋯ & NA    & False & False &  4 & 1-2 years & 2005/2006 & 2006/2007 & Spring & False & NA\\\\\n",
       "\t  600 & 2004-07-23 & 2006-03-15 & 1 &  772.3431 & 33.15 &  473.5323 & 14.52 &  3.130699 & 0.02 & ⋯ & False & False & True  &  7 & 1-2 years & 2005/2006 & 2006/2007 & Summer & False & NA\\\\\n",
       "\t  588 & 2004-08-09 & 2006-03-20 & 0 &    0.1800 &  0.03 &    0.2100 &  0.19 &  0.580000 & 0.03 & ⋯ & False & False & False &  8 & 1-2 years & 2005/2006 & 2006/2007 & Summer & False & NA\\\\\n",
       "\t  591 & 2004-08-06 & 2006-03-20 & 1 &  740.2907 & 70.38 &  466.2055 & 49.78 &  1.886910 & 0.05 & ⋯ & False & True  & False &  8 & 1-2 years & 2005/2006 & 2006/2007 & Summer & False & NA\\\\\n",
       "\t 1184 & 2002-12-29 & 2006-03-27 & 1 & 1999.2353 &    NA & 1459.5921 &    NA & 55.896003 &   NA & ⋯ & False & True  & False & 12 & 3-4 years & 2005/2006 & 2006/2007 & Winter & False & NA\\\\\n",
       "\t  686 & 2004-05-12 & 2006-03-29 & 1 &  807.2200 &    NA &  838.7400 &    NA & 15.000000 &   NA & ⋯ & False & False & False &  5 & 1-2 years & 2005/2006 & 2006/2007 & Spring & False & NA\\\\\n",
       "\\end{tabular}\n"
      ],
      "text/markdown": [
       "\n",
       "A tibble: 6 × 35\n",
       "\n",
       "| age_days &lt;dbl&gt; | birthday &lt;date&gt; | consultdate &lt;date&gt; | infection &lt;dbl&gt; | IgG_PreF &lt;dbl&gt; | IgA_PreF &lt;dbl&gt; | IgG_PostF &lt;dbl&gt; | IgA_PostF &lt;dbl&gt; | IgG_Ga &lt;dbl&gt; | IgA_Ga &lt;dbl&gt; | ⋯ ⋯ | Siblings04 &lt;fct&gt; | Siblings59 &lt;fct&gt; | Nursery &lt;fct&gt; | Birth_mo &lt;dbl&gt; | age_years &lt;fct&gt; | seasons &lt;chr&gt; | cohort &lt;chr&gt; | season_birth &lt;chr&gt; | nursery_house &lt;fct&gt; | pre_term &lt;fct&gt; |\n",
       "|---|---|---|---|---|---|---|---|---|---|---|---|---|---|---|---|---|---|---|---|---|\n",
       "|  676 | 2004-04-01 | 2006-02-06 | 1 |    0.3565 |  0.60 |    9.3264 |  0.08 |  0.260000 | 0.01 | ⋯ | NA    | False | False |  4 | 1-2 years | 2005/2006 | 2006/2007 | Spring | False | NA |\n",
       "|  600 | 2004-07-23 | 2006-03-15 | 1 |  772.3431 | 33.15 |  473.5323 | 14.52 |  3.130699 | 0.02 | ⋯ | False | False | True  |  7 | 1-2 years | 2005/2006 | 2006/2007 | Summer | False | NA |\n",
       "|  588 | 2004-08-09 | 2006-03-20 | 0 |    0.1800 |  0.03 |    0.2100 |  0.19 |  0.580000 | 0.03 | ⋯ | False | False | False |  8 | 1-2 years | 2005/2006 | 2006/2007 | Summer | False | NA |\n",
       "|  591 | 2004-08-06 | 2006-03-20 | 1 |  740.2907 | 70.38 |  466.2055 | 49.78 |  1.886910 | 0.05 | ⋯ | False | True  | False |  8 | 1-2 years | 2005/2006 | 2006/2007 | Summer | False | NA |\n",
       "| 1184 | 2002-12-29 | 2006-03-27 | 1 | 1999.2353 |    NA | 1459.5921 |    NA | 55.896003 |   NA | ⋯ | False | True  | False | 12 | 3-4 years | 2005/2006 | 2006/2007 | Winter | False | NA |\n",
       "|  686 | 2004-05-12 | 2006-03-29 | 1 |  807.2200 |    NA |  838.7400 |    NA | 15.000000 |   NA | ⋯ | False | False | False |  5 | 1-2 years | 2005/2006 | 2006/2007 | Spring | False | NA |\n",
       "\n"
      ],
      "text/plain": [
       "  age_days birthday   consultdate infection IgG_PreF  IgA_PreF IgG_PostF\n",
       "1  676     2004-04-01 2006-02-06  1            0.3565  0.60       9.3264\n",
       "2  600     2004-07-23 2006-03-15  1          772.3431 33.15     473.5323\n",
       "3  588     2004-08-09 2006-03-20  0            0.1800  0.03       0.2100\n",
       "4  591     2004-08-06 2006-03-20  1          740.2907 70.38     466.2055\n",
       "5 1184     2002-12-29 2006-03-27  1         1999.2353    NA    1459.5921\n",
       "6  686     2004-05-12 2006-03-29  1          807.2200    NA     838.7400\n",
       "  IgA_PostF IgG_Ga    IgA_Ga <U+22EF>        Siblings04 Siblings59 Nursery Birth_mo\n",
       "1  0.08      0.260000 0.01   <U+22EF> NA         False      False    4      \n",
       "2 14.52      3.130699 0.02   <U+22EF> False      False      True     7      \n",
       "3  0.19      0.580000 0.03   <U+22EF> False      False      False    8      \n",
       "4 49.78      1.886910 0.05   <U+22EF> False      True       False    8      \n",
       "5    NA     55.896003   NA   <U+22EF> False      True       False   12      \n",
       "6    NA     15.000000   NA   <U+22EF> False      False      False    5      \n",
       "  age_years seasons   cohort    season_birth nursery_house pre_term\n",
       "1 1-2 years 2005/2006 2006/2007 Spring       False         NA      \n",
       "2 1-2 years 2005/2006 2006/2007 Summer       False         NA      \n",
       "3 1-2 years 2005/2006 2006/2007 Summer       False         NA      \n",
       "4 1-2 years 2005/2006 2006/2007 Summer       False         NA      \n",
       "5 3-4 years 2005/2006 2006/2007 Winter       False         NA      \n",
       "6 1-2 years 2005/2006 2006/2007 Spring       False         NA      "
      ]
     },
     "metadata": {},
     "output_type": "display_data"
    }
   ],
   "source": [
    "season_border = \"10-01\" #MM-DD\n",
    "spring <- c(3, 4, 5)\n",
    "summer <- c(6, 7, 8)\n",
    "autumn <- c (9, 10, 11)\n",
    "winter <- c(1, 2, 12)\n",
    "rsv.data <- rsv.data %>%\n",
    "  mutate(\n",
    "    age_years = case_when(\n",
    "      age_days <= 365 ~ '0-1 year',\n",
    "      age_days > 365 & age_days <= 730 ~ '1-2 years',\n",
    "      age_days > 730 & age_days <= 1095 ~ '2-3 years',\n",
    "      age_days > 1095 & age_days <= 1460 ~ '3-4 years',\n",
    "      age_days > 1460 ~ '5 years'\n",
    "    ) %>% \n",
    "      factor()\n",
    "    ) %>%\n",
    "  mutate(\n",
    "   seasons = case_when(\n",
    "    consultdate < paste(\"2006-\", season_border, sep = \"\")  ~ \"2005/2006\", \n",
    "    (consultdate >= paste(\"2006-\", season_border, sep = \"\") &  consultdate < \"2010-01-01\") ~ \"2006/2007\",\n",
    "    (consultdate >= \"2010-01-01\" &  consultdate < paste(\"2016-\", season_border, sep = \"\")) ~ \"2015/2016\",\n",
    "    consultdate >= paste(\"2016-\", season_border, sep = \"\")  ~ \"2016/2017\")\n",
    "  ) %>% \n",
    "  # Variable for the two cohorts\n",
    "  mutate(\n",
    "    cohort = if_else(seasons == \"2005/2006\" | seasons == \"2006/2007\", \"2006/2007\", \"2016/2017\")\n",
    "      )%>%\n",
    "    mutate(\n",
    "        season_birth = case_when(\n",
    "            Birth_mo %in% spring ~ \"Spring\",\n",
    "            Birth_mo %in% summer ~ \"Summer\",\n",
    "            Birth_mo %in% autumn ~ \"Autumn\",\n",
    "            Birth_mo %in% winter ~ \"Winter\")\n",
    "        ) %>%\n",
    "  mutate(\n",
    "    nursery_house = case_when(\n",
    "      visitnursery_house <= 0 ~ 'False',\n",
    "      visitnursery_house > 0 ~ 'True'\n",
    "    ) %>% \n",
    "      factor()\n",
    "    )%>%\n",
    "    mutate(\n",
    "        pre_term = case_when(\n",
    "            pregnancytime < 37.0 ~ 'True',\n",
    "            pregnancytime >= 37.0 ~ 'False'\n",
    "            ) %>%\n",
    "            factor()\n",
    "        )\n",
    "head(rsv.data)\n"
   ]
  },
  {
   "cell_type": "code",
   "execution_count": 6,
   "id": "ecb8ca17-74d6-4d3d-b6cb-49f4e6f481e4",
   "metadata": {},
   "outputs": [],
   "source": [
    "rsv.data <- rsv.data %>%\n",
    " mutate(\n",
    "    total_cont = case_when(\n",
    "        contacttotal == 0 ~ '0',\n",
    "        contacttotal >= 1 & contacttotal <= 2 ~ '1-2',\n",
    "        contacttotal >= 3 & contacttotal <= 5 ~ '3-5',\n",
    "        contacttotal >= 6 & contacttotal <= 10 ~ '6-10',\n",
    "        contacttotal >= 11 & contacttotal <= 20 ~ '11-20',\n",
    "        contacttotal >= 21 & contacttotal <= 50 ~ '21-50',\n",
    "        contacttotal > 50  ~ '50+'\n",
    "  )\n",
    ")"
   ]
  },
  {
   "cell_type": "code",
   "execution_count": 12,
   "id": "44446f83-b02a-4972-b1ef-ffb27696eb04",
   "metadata": {},
   "outputs": [
    {
     "data": {
      "text/plain": [
       "            total_cont\n",
       "contacttotal  0 1-2 11-20 21-50 3-5 50+ 6-10 <NA>\n",
       "        0    84   0     0     0   0   0    0    0\n",
       "        1     0  31     0     0   0   0    0    0\n",
       "        2     0  57     0     0   0   0    0    0\n",
       "        3     0   0     0     0  45   0    0    0\n",
       "        4     0   0     0     0  50   0    0    0\n",
       "        5     0   0     0     0  42   0    0    0\n",
       "        6     0   0     0     0   0   0   43    0\n",
       "        7     0   0     0     0   0   0   27    0\n",
       "        8     0   0     0     0   0   0   21    0\n",
       "        9     0   0     0     0   0   0   26    0\n",
       "        10    0   0     0     0   0   0   22    0\n",
       "        11    0   0    10     0   0   0    0    0\n",
       "        12    0   0    20     0   0   0    0    0\n",
       "        13    0   0    12     0   0   0    0    0\n",
       "        14    0   0    15     0   0   0    0    0\n",
       "        15    0   0     5     0   0   0    0    0\n",
       "        16    0   0     2     0   0   0    0    0\n",
       "        17    0   0     6     0   0   0    0    0\n",
       "        18    0   0     6     0   0   0    0    0\n",
       "        19    0   0     2     0   0   0    0    0\n",
       "        20    0   0     3     0   0   0    0    0\n",
       "        21    0   0     0     5   0   0    0    0\n",
       "        22    0   0     0     3   0   0    0    0\n",
       "        23    0   0     0     4   0   0    0    0\n",
       "        24    0   0     0     4   0   0    0    0\n",
       "        25    0   0     0     5   0   0    0    0\n",
       "        26    0   0     0     3   0   0    0    0\n",
       "        27    0   0     0     2   0   0    0    0\n",
       "        28    0   0     0     2   0   0    0    0\n",
       "        29    0   0     0     5   0   0    0    0\n",
       "        31    0   0     0     1   0   0    0    0\n",
       "        33    0   0     0     3   0   0    0    0\n",
       "        34    0   0     0     1   0   0    0    0\n",
       "        35    0   0     0     1   0   0    0    0\n",
       "        37    0   0     0     1   0   0    0    0\n",
       "        38    0   0     0     4   0   0    0    0\n",
       "        40    0   0     0     1   0   0    0    0\n",
       "        46    0   0     0     1   0   0    0    0\n",
       "        50    0   0     0     1   0   0    0    0\n",
       "        51    0   0     0     0   0   1    0    0\n",
       "        55    0   0     0     0   0   1    0    0\n",
       "        56    0   0     0     0   0   1    0    0\n",
       "        68    0   0     0     0   0   1    0    0\n",
       "        69    0   0     0     0   0   1    0    0\n",
       "        71    0   0     0     0   0   1    0    0\n",
       "        76    0   0     0     0   0   1    0    0\n",
       "        82    0   0     0     0   0   1    0    0\n",
       "        150   0   0     0     0   0   1    0    0\n",
       "        200   0   0     0     0   0   1    0    0\n",
       "        <NA>  0   0     0     0   0   0    0   96"
      ]
     },
     "metadata": {},
     "output_type": "display_data"
    }
   ],
   "source": [
    "rsv.data %$% table(contacttotal, total_cont, useNA = \"ifany\")"
   ]
  },
  {
   "cell_type": "code",
   "execution_count": 7,
   "id": "4480ac6e-4b27-4249-acb7-320ff5a78931",
   "metadata": {},
   "outputs": [],
   "source": [
    "rsv.data <- rsv.data %>%\n",
    " mutate(\n",
    "    total_cont04 = case_when(\n",
    "        contact04 == 0 ~ '0',\n",
    "        contact04 >= 1 & contact04 <= 2 ~ '1-2',\n",
    "        contact04 >= 3 & contact04 <= 5 ~ '3-5',\n",
    "        contact04 >= 6 & contact04 <= 10 ~ '6-10',\n",
    "        contact04 >= 11 & contact04 <= 20 ~ '11-20',\n",
    "        contact04 >= 21 & contact04 <= 40 ~ '21-40'\n",
    "  )\n",
    ")"
   ]
  },
  {
   "cell_type": "code",
   "execution_count": 14,
   "id": "c9888fd6-0f16-46be-9b6c-9e26aa63ebf6",
   "metadata": {},
   "outputs": [
    {
     "data": {
      "text/plain": [
       "         total_cont04\n",
       "contact04   0 1-2 11-20 21-40 3-5 6-10 <NA>\n",
       "     0    213   0     0     0   0    0    0\n",
       "     1      0  92     0     0   0    0    0\n",
       "     2      0  51     0     0   0    0    0\n",
       "     3      0   0     0     0  29    0    0\n",
       "     4      0   0     0     0  14    0    0\n",
       "     5      0   0     0     0  14    0    0\n",
       "     6      0   0     0     0   0    8    0\n",
       "     7      0   0     0     0   0    7    0\n",
       "     8      0   0     0     0   0   13    0\n",
       "     9      0   0     0     0   0    2    0\n",
       "     10     0   0     0     0   0   21    0\n",
       "     11     0   0     1     0   0    0    0\n",
       "     12     0   0     8     0   0    0    0\n",
       "     14     0   0     3     0   0    0    0\n",
       "     15     0   0     6     0   0    0    0\n",
       "     16     0   0     1     0   0    0    0\n",
       "     17     0   0     1     0   0    0    0\n",
       "     18     0   0     2     0   0    0    0\n",
       "     20     0   0    10     0   0    0    0\n",
       "     22     0   0     0     2   0    0    0\n",
       "     25     0   0     0     1   0    0    0\n",
       "     26     0   0     0     1   0    0    0\n",
       "     27     0   0     0     1   0    0    0\n",
       "     30     0   0     0     2   0    0    0\n",
       "     40     0   0     0     1   0    0    0\n",
       "     <NA>   0   0     0     0   0    0  178"
      ]
     },
     "metadata": {},
     "output_type": "display_data"
    }
   ],
   "source": [
    "rsv.data %$% table(contact04, total_cont04, useNA = \"ifany\")"
   ]
  },
  {
   "cell_type": "code",
   "execution_count": 8,
   "id": "da3ce805-7490-4946-9a39-6b2ab9c47df3",
   "metadata": {},
   "outputs": [],
   "source": [
    "rsv.data <- rsv.data %>%\n",
    " mutate(\n",
    "    total_cont59 = case_when(\n",
    "        contact59 == 0 ~ '0',\n",
    "        contact59 >= 1 & contact59 <= 2 ~ '1-2',\n",
    "        contact59 >= 3 & contact59 <= 5 ~ '3-5',\n",
    "        contact59 >= 6 & contact59 <= 10 ~ '6-10',\n",
    "        contact59 >= 11 & contact59 <= 20 ~ '11-20',\n",
    "        contact59 >= 21 & contact59 <= 50 ~ '21-50'\n",
    "  )\n",
    ")"
   ]
  },
  {
   "cell_type": "code",
   "execution_count": 17,
   "id": "83e9cc33-ff32-4201-82ac-f9c8d72e0ea5",
   "metadata": {},
   "outputs": [
    {
     "data": {
      "text/plain": [
       "         total_cont59\n",
       "contact59   0 1-2 11-20 21-50 3-5 6-10 <NA>\n",
       "     0    352   0     0     0   0    0    0\n",
       "     1      0  60     0     0   0    0    0\n",
       "     2      0  36     0     0   0    0    0\n",
       "     3      0   0     0     0  10    0    0\n",
       "     4      0   0     0     0  17    0    0\n",
       "     5      0   0     0     0   6    0    0\n",
       "     6      0   0     0     0   0    5    0\n",
       "     7      0   0     0     0   0    3    0\n",
       "     9      0   0     0     0   0    1    0\n",
       "     10     0   0     0     0   0    2    0\n",
       "     13     0   0     1     0   0    0    0\n",
       "     14     0   0     1     0   0    0    0\n",
       "     15     0   0     1     0   0    0    0\n",
       "     17     0   0     1     0   0    0    0\n",
       "     18     0   0     1     0   0    0    0\n",
       "     20     0   0     2     0   0    0    0\n",
       "     24     0   0     0     1   0    0    0\n",
       "     25     0   0     0     2   0    0    0\n",
       "     30     0   0     0     1   0    0    0\n",
       "     50     0   0     0     1   0    0    0\n",
       "     <NA>   0   0     0     0   0    0  178"
      ]
     },
     "metadata": {},
     "output_type": "display_data"
    }
   ],
   "source": [
    "rsv.data %$% table(contact59, total_cont59, useNA = \"ifany\")"
   ]
  },
  {
   "cell_type": "code",
   "execution_count": 18,
   "id": "a1356e58-1c35-42d4-b334-7eec10194406",
   "metadata": {},
   "outputs": [
    {
     "data": {
      "text/plain": [
       "age_years\n",
       " 0-1 year 1-2 years 2-3 years 3-4 years   5 years \n",
       "      369       143        73        55        42 "
      ]
     },
     "metadata": {},
     "output_type": "display_data"
    }
   ],
   "source": [
    "rsv.data %$% table(age_years, useNA = \"ifany\")"
   ]
  },
  {
   "cell_type": "code",
   "execution_count": 19,
   "id": "e806f378-d893-4a8e-8611-9c5c84f77ef8",
   "metadata": {},
   "outputs": [
    {
     "data": {
      "text/plain": [
       "season_birth\n",
       "Autumn Spring Summer Winter \n",
       "   173    174    182    153 "
      ]
     },
     "metadata": {},
     "output_type": "display_data"
    }
   ],
   "source": [
    "rsv.data %$% table(season_birth, useNA = \"ifany\")"
   ]
  },
  {
   "cell_type": "code",
   "execution_count": 20,
   "id": "f2dd7054-f362-4a65-a0a7-36c9505d39a5",
   "metadata": {},
   "outputs": [
    {
     "data": {
      "text/plain": [
       "cohort\n",
       "2006/2007 2016/2017 \n",
       "      357       325 "
      ]
     },
     "metadata": {},
     "output_type": "display_data"
    }
   ],
   "source": [
    "rsv.data %$% table(cohort, useNA = \"ifany\")"
   ]
  },
  {
   "cell_type": "code",
   "execution_count": 21,
   "id": "4ec10845-a723-4c8e-b606-891930dab6e1",
   "metadata": {},
   "outputs": [
    {
     "data": {
      "text/plain": [
       "Siblings04\n",
       "False  True  <NA> \n",
       "  367   254    61 "
      ]
     },
     "metadata": {},
     "output_type": "display_data"
    }
   ],
   "source": [
    "rsv.data %$% table(Siblings04, useNA = \"ifany\")"
   ]
  },
  {
   "cell_type": "code",
   "execution_count": 22,
   "id": "87180169-422c-4a9c-bb37-123e748c753c",
   "metadata": {},
   "outputs": [
    {
     "data": {
      "text/plain": [
       "Siblings59\n",
       "False  True \n",
       "  502   180 "
      ]
     },
     "metadata": {},
     "output_type": "display_data"
    }
   ],
   "source": [
    "rsv.data %$% table(Siblings59, useNA = \"ifany\")"
   ]
  },
  {
   "cell_type": "code",
   "execution_count": 23,
   "id": "5c0bd10c-4d44-4c68-b879-be4614cbdc4b",
   "metadata": {},
   "outputs": [
    {
     "data": {
      "text/plain": [
       "Nursery\n",
       "False  True  <NA> \n",
       "  391   269    22 "
      ]
     },
     "metadata": {},
     "output_type": "display_data"
    }
   ],
   "source": [
    "rsv.data %$% table(Nursery, useNA = \"ifany\")"
   ]
  },
  {
   "cell_type": "code",
   "execution_count": 24,
   "id": "a9393945-0323-4815-ac87-f8115d3b1afe",
   "metadata": {},
   "outputs": [
    {
     "data": {
      "text/plain": [
       "nursery_house\n",
       "False  True  <NA> \n",
       "  465   187    30 "
      ]
     },
     "metadata": {},
     "output_type": "display_data"
    }
   ],
   "source": [
    "rsv.data %$% table(nursery_house, useNA = \"ifany\")"
   ]
  },
  {
   "cell_type": "code",
   "execution_count": 25,
   "id": "f3407f6e-14ac-41aa-a919-5ca9b24192c0",
   "metadata": {},
   "outputs": [
    {
     "data": {
      "text/plain": [
       "pre_term\n",
       "False  True  <NA> \n",
       "  270    12   400 "
      ]
     },
     "metadata": {},
     "output_type": "display_data"
    }
   ],
   "source": [
    "rsv.data %$% table(pre_term, useNA = \"ifany\")"
   ]
  },
  {
   "cell_type": "code",
   "execution_count": 26,
   "id": "ab76c8bc-6d19-4cd3-b2aa-cfe83be523df",
   "metadata": {},
   "outputs": [
    {
     "data": {
      "text/plain": [
       "sex\n",
       "  1   2 \n",
       "353 329 "
      ]
     },
     "metadata": {},
     "output_type": "display_data"
    }
   ],
   "source": [
    "rsv.data %$% table(sex, useNA = \"ifany\")"
   ]
  },
  {
   "cell_type": "code",
   "execution_count": 27,
   "id": "48647ce6-dbe0-4ff3-beb7-ee2a7dcf7218",
   "metadata": {},
   "outputs": [
    {
     "data": {
      "text/plain": [
       "total_cont\n",
       "    0   1-2 11-20 21-50   3-5   50+  6-10  <NA> \n",
       "   84    88    81    47   137    10   139    96 "
      ]
     },
     "metadata": {},
     "output_type": "display_data"
    }
   ],
   "source": [
    "rsv.data %$% table(total_cont, useNA = \"ifany\")"
   ]
  },
  {
   "cell_type": "code",
   "execution_count": 28,
   "id": "e3f94fdb-b881-4611-828b-0b8550ed05eb",
   "metadata": {},
   "outputs": [
    {
     "data": {
      "text/plain": [
       "total_cont04\n",
       "    0   1-2 11-20 21-40   3-5  6-10  <NA> \n",
       "  213   143    32     8    57    51   178 "
      ]
     },
     "metadata": {},
     "output_type": "display_data"
    }
   ],
   "source": [
    "rsv.data %$% table(total_cont04, useNA = \"ifany\")"
   ]
  },
  {
   "cell_type": "code",
   "execution_count": 29,
   "id": "e21233fa-e377-4b07-8a29-c6a2c1ec79ab",
   "metadata": {},
   "outputs": [
    {
     "data": {
      "text/plain": [
       "total_cont59\n",
       "    0   1-2 11-20 21-50   3-5  6-10  <NA> \n",
       "  352    96     7     5    33    11   178 "
      ]
     },
     "metadata": {},
     "output_type": "display_data"
    }
   ],
   "source": [
    "rsv.data %$% table(total_cont59, useNA = \"ifany\")"
   ]
  },
  {
   "cell_type": "code",
   "execution_count": 9,
   "id": "0284c45e-a7f1-402b-86c4-2368226a622a",
   "metadata": {},
   "outputs": [
    {
     "data": {
      "text/html": [
       "<table class=\"dataframe\">\n",
       "<caption>A tibble: 6 × 39</caption>\n",
       "<thead>\n",
       "\t<tr><th scope=col>age_days</th><th scope=col>birthday</th><th scope=col>consultdate</th><th scope=col>infection</th><th scope=col>IgG_PreF</th><th scope=col>IgA_PreF</th><th scope=col>IgG_PostF</th><th scope=col>IgA_PostF</th><th scope=col>IgG_Ga</th><th scope=col>IgA_Ga</th><th scope=col>⋯</th><th scope=col>age_years</th><th scope=col>seasons</th><th scope=col>cohort</th><th scope=col>season_birth</th><th scope=col>nursery_house</th><th scope=col>pre_term</th><th scope=col>total_cont</th><th scope=col>total_cont04</th><th scope=col>total_cont59</th><th scope=col>age_at_consul_mo</th></tr>\n",
       "\t<tr><th scope=col>&lt;dbl&gt;</th><th scope=col>&lt;date&gt;</th><th scope=col>&lt;date&gt;</th><th scope=col>&lt;dbl&gt;</th><th scope=col>&lt;dbl&gt;</th><th scope=col>&lt;dbl&gt;</th><th scope=col>&lt;dbl&gt;</th><th scope=col>&lt;dbl&gt;</th><th scope=col>&lt;dbl&gt;</th><th scope=col>&lt;dbl&gt;</th><th scope=col>⋯</th><th scope=col>&lt;fct&gt;</th><th scope=col>&lt;chr&gt;</th><th scope=col>&lt;chr&gt;</th><th scope=col>&lt;chr&gt;</th><th scope=col>&lt;fct&gt;</th><th scope=col>&lt;fct&gt;</th><th scope=col>&lt;chr&gt;</th><th scope=col>&lt;chr&gt;</th><th scope=col>&lt;chr&gt;</th><th scope=col>&lt;dbl&gt;</th></tr>\n",
       "</thead>\n",
       "<tbody>\n",
       "\t<tr><td> 676</td><td>2004-04-01</td><td>2006-02-06</td><td>1</td><td>   0.3565</td><td> 0.60</td><td>   9.3264</td><td> 0.08</td><td> 0.260000</td><td>0.01</td><td>⋯</td><td>1-2 years</td><td>2005/2006</td><td>2006/2007</td><td>Spring</td><td>False</td><td>NA</td><td>3-5  </td><td>1-2  </td><td>0  </td><td>22.20762</td></tr>\n",
       "\t<tr><td> 600</td><td>2004-07-23</td><td>2006-03-15</td><td>1</td><td> 772.3431</td><td>33.15</td><td> 473.5323</td><td>14.52</td><td> 3.130699</td><td>0.02</td><td>⋯</td><td>1-2 years</td><td>2005/2006</td><td>2006/2007</td><td>Summer</td><td>False</td><td>NA</td><td>21-50</td><td>11-20</td><td>0  </td><td>19.71091</td></tr>\n",
       "\t<tr><td> 588</td><td>2004-08-09</td><td>2006-03-20</td><td>0</td><td>   0.1800</td><td> 0.03</td><td>   0.2100</td><td> 0.19</td><td> 0.580000</td><td>0.03</td><td>⋯</td><td>1-2 years</td><td>2005/2006</td><td>2006/2007</td><td>Summer</td><td>False</td><td>NA</td><td>3-5  </td><td>1-2  </td><td>0  </td><td>19.31669</td></tr>\n",
       "\t<tr><td> 591</td><td>2004-08-06</td><td>2006-03-20</td><td>1</td><td> 740.2907</td><td>70.38</td><td> 466.2055</td><td>49.78</td><td> 1.886910</td><td>0.05</td><td>⋯</td><td>1-2 years</td><td>2005/2006</td><td>2006/2007</td><td>Summer</td><td>False</td><td>NA</td><td>1-2  </td><td>0    </td><td>0  </td><td>19.41524</td></tr>\n",
       "\t<tr><td>1184</td><td>2002-12-29</td><td>2006-03-27</td><td>1</td><td>1999.2353</td><td>   NA</td><td>1459.5921</td><td>   NA</td><td>55.896003</td><td>  NA</td><td>⋯</td><td>3-4 years</td><td>2005/2006</td><td>2006/2007</td><td>Winter</td><td>False</td><td>NA</td><td>6-10 </td><td>1-2  </td><td>3-5</td><td>38.89619</td></tr>\n",
       "\t<tr><td> 686</td><td>2004-05-12</td><td>2006-03-29</td><td>1</td><td> 807.2200</td><td>   NA</td><td> 838.7400</td><td>   NA</td><td>15.000000</td><td>  NA</td><td>⋯</td><td>1-2 years</td><td>2005/2006</td><td>2006/2007</td><td>Spring</td><td>False</td><td>NA</td><td>1-2  </td><td>0    </td><td>0  </td><td>22.53614</td></tr>\n",
       "</tbody>\n",
       "</table>\n"
      ],
      "text/latex": [
       "A tibble: 6 × 39\n",
       "\\begin{tabular}{lllllllllllllllllllll}\n",
       " age\\_days & birthday & consultdate & infection & IgG\\_PreF & IgA\\_PreF & IgG\\_PostF & IgA\\_PostF & IgG\\_Ga & IgA\\_Ga & ⋯ & age\\_years & seasons & cohort & season\\_birth & nursery\\_house & pre\\_term & total\\_cont & total\\_cont04 & total\\_cont59 & age\\_at\\_consul\\_mo\\\\\n",
       " <dbl> & <date> & <date> & <dbl> & <dbl> & <dbl> & <dbl> & <dbl> & <dbl> & <dbl> & ⋯ & <fct> & <chr> & <chr> & <chr> & <fct> & <fct> & <chr> & <chr> & <chr> & <dbl>\\\\\n",
       "\\hline\n",
       "\t  676 & 2004-04-01 & 2006-02-06 & 1 &    0.3565 &  0.60 &    9.3264 &  0.08 &  0.260000 & 0.01 & ⋯ & 1-2 years & 2005/2006 & 2006/2007 & Spring & False & NA & 3-5   & 1-2   & 0   & 22.20762\\\\\n",
       "\t  600 & 2004-07-23 & 2006-03-15 & 1 &  772.3431 & 33.15 &  473.5323 & 14.52 &  3.130699 & 0.02 & ⋯ & 1-2 years & 2005/2006 & 2006/2007 & Summer & False & NA & 21-50 & 11-20 & 0   & 19.71091\\\\\n",
       "\t  588 & 2004-08-09 & 2006-03-20 & 0 &    0.1800 &  0.03 &    0.2100 &  0.19 &  0.580000 & 0.03 & ⋯ & 1-2 years & 2005/2006 & 2006/2007 & Summer & False & NA & 3-5   & 1-2   & 0   & 19.31669\\\\\n",
       "\t  591 & 2004-08-06 & 2006-03-20 & 1 &  740.2907 & 70.38 &  466.2055 & 49.78 &  1.886910 & 0.05 & ⋯ & 1-2 years & 2005/2006 & 2006/2007 & Summer & False & NA & 1-2   & 0     & 0   & 19.41524\\\\\n",
       "\t 1184 & 2002-12-29 & 2006-03-27 & 1 & 1999.2353 &    NA & 1459.5921 &    NA & 55.896003 &   NA & ⋯ & 3-4 years & 2005/2006 & 2006/2007 & Winter & False & NA & 6-10  & 1-2   & 3-5 & 38.89619\\\\\n",
       "\t  686 & 2004-05-12 & 2006-03-29 & 1 &  807.2200 &    NA &  838.7400 &    NA & 15.000000 &   NA & ⋯ & 1-2 years & 2005/2006 & 2006/2007 & Spring & False & NA & 1-2   & 0     & 0   & 22.53614\\\\\n",
       "\\end{tabular}\n"
      ],
      "text/markdown": [
       "\n",
       "A tibble: 6 × 39\n",
       "\n",
       "| age_days &lt;dbl&gt; | birthday &lt;date&gt; | consultdate &lt;date&gt; | infection &lt;dbl&gt; | IgG_PreF &lt;dbl&gt; | IgA_PreF &lt;dbl&gt; | IgG_PostF &lt;dbl&gt; | IgA_PostF &lt;dbl&gt; | IgG_Ga &lt;dbl&gt; | IgA_Ga &lt;dbl&gt; | ⋯ ⋯ | age_years &lt;fct&gt; | seasons &lt;chr&gt; | cohort &lt;chr&gt; | season_birth &lt;chr&gt; | nursery_house &lt;fct&gt; | pre_term &lt;fct&gt; | total_cont &lt;chr&gt; | total_cont04 &lt;chr&gt; | total_cont59 &lt;chr&gt; | age_at_consul_mo &lt;dbl&gt; |\n",
       "|---|---|---|---|---|---|---|---|---|---|---|---|---|---|---|---|---|---|---|---|---|\n",
       "|  676 | 2004-04-01 | 2006-02-06 | 1 |    0.3565 |  0.60 |    9.3264 |  0.08 |  0.260000 | 0.01 | ⋯ | 1-2 years | 2005/2006 | 2006/2007 | Spring | False | NA | 3-5   | 1-2   | 0   | 22.20762 |\n",
       "|  600 | 2004-07-23 | 2006-03-15 | 1 |  772.3431 | 33.15 |  473.5323 | 14.52 |  3.130699 | 0.02 | ⋯ | 1-2 years | 2005/2006 | 2006/2007 | Summer | False | NA | 21-50 | 11-20 | 0   | 19.71091 |\n",
       "|  588 | 2004-08-09 | 2006-03-20 | 0 |    0.1800 |  0.03 |    0.2100 |  0.19 |  0.580000 | 0.03 | ⋯ | 1-2 years | 2005/2006 | 2006/2007 | Summer | False | NA | 3-5   | 1-2   | 0   | 19.31669 |\n",
       "|  591 | 2004-08-06 | 2006-03-20 | 1 |  740.2907 | 70.38 |  466.2055 | 49.78 |  1.886910 | 0.05 | ⋯ | 1-2 years | 2005/2006 | 2006/2007 | Summer | False | NA | 1-2   | 0     | 0   | 19.41524 |\n",
       "| 1184 | 2002-12-29 | 2006-03-27 | 1 | 1999.2353 |    NA | 1459.5921 |    NA | 55.896003 |   NA | ⋯ | 3-4 years | 2005/2006 | 2006/2007 | Winter | False | NA | 6-10  | 1-2   | 3-5 | 38.89619 |\n",
       "|  686 | 2004-05-12 | 2006-03-29 | 1 |  807.2200 |    NA |  838.7400 |    NA | 15.000000 |   NA | ⋯ | 1-2 years | 2005/2006 | 2006/2007 | Spring | False | NA | 1-2   | 0     | 0   | 22.53614 |\n",
       "\n"
      ],
      "text/plain": [
       "  age_days birthday   consultdate infection IgG_PreF  IgA_PreF IgG_PostF\n",
       "1  676     2004-04-01 2006-02-06  1            0.3565  0.60       9.3264\n",
       "2  600     2004-07-23 2006-03-15  1          772.3431 33.15     473.5323\n",
       "3  588     2004-08-09 2006-03-20  0            0.1800  0.03       0.2100\n",
       "4  591     2004-08-06 2006-03-20  1          740.2907 70.38     466.2055\n",
       "5 1184     2002-12-29 2006-03-27  1         1999.2353    NA    1459.5921\n",
       "6  686     2004-05-12 2006-03-29  1          807.2200    NA     838.7400\n",
       "  IgA_PostF IgG_Ga    IgA_Ga <U+22EF>        age_years seasons   cohort   \n",
       "1  0.08      0.260000 0.01   <U+22EF> 1-2 years 2005/2006 2006/2007\n",
       "2 14.52      3.130699 0.02   <U+22EF> 1-2 years 2005/2006 2006/2007\n",
       "3  0.19      0.580000 0.03   <U+22EF> 1-2 years 2005/2006 2006/2007\n",
       "4 49.78      1.886910 0.05   <U+22EF> 1-2 years 2005/2006 2006/2007\n",
       "5    NA     55.896003   NA   <U+22EF> 3-4 years 2005/2006 2006/2007\n",
       "6    NA     15.000000   NA   <U+22EF> 1-2 years 2005/2006 2006/2007\n",
       "  season_birth nursery_house pre_term total_cont total_cont04 total_cont59\n",
       "1 Spring       False         NA       3-5        1-2          0           \n",
       "2 Summer       False         NA       21-50      11-20        0           \n",
       "3 Summer       False         NA       3-5        1-2          0           \n",
       "4 Summer       False         NA       1-2        0            0           \n",
       "5 Winter       False         NA       6-10       1-2          3-5         \n",
       "6 Spring       False         NA       1-2        0            0           \n",
       "  age_at_consul_mo\n",
       "1 22.20762        \n",
       "2 19.71091        \n",
       "3 19.31669        \n",
       "4 19.41524        \n",
       "5 38.89619        \n",
       "6 22.53614        "
      ]
     },
     "metadata": {},
     "output_type": "display_data"
    }
   ],
   "source": [
    "rsv.data <- rsv.data %>%\n",
    "  # Get age at consultation (in days)\n",
    "  mutate(\n",
    "    age_at_consul_mo = age_days/30.44 #average month has 30.44 days\n",
    "  )\n",
    "head(rsv.data)"
   ]
  },
  {
   "cell_type": "code",
   "execution_count": 11,
   "id": "fa6d18f3-1262-40ab-813c-fe0289162731",
   "metadata": {},
   "outputs": [
    {
     "data": {
      "text/plain": [
       "   Min. 1st Qu.  Median    Mean 3rd Qu.    Max. \n",
       "   36.0   207.2   345.0   537.8   728.0  1854.0 "
      ]
     },
     "metadata": {},
     "output_type": "display_data"
    }
   ],
   "source": [
    "summary(rsv.data$age_days)"
   ]
  },
  {
   "cell_type": "code",
   "execution_count": 15,
   "id": "8af1d64a-96d9-4025-a3ec-fba5c7dd7157",
   "metadata": {},
   "outputs": [
    {
     "data": {
      "text/plain": [
       "infection\n",
       "  0   1 \n",
       "337 345 "
      ]
     },
     "metadata": {},
     "output_type": "display_data"
    }
   ],
   "source": [
    "rsv.data %$% table(infection, useNA = \"ifany\")"
   ]
  },
  {
   "cell_type": "markdown",
   "id": "20714bbf-e137-4574-a92a-ef2eb5b29668",
   "metadata": {},
   "source": [
    "**Infection by age and season of birth**"
   ]
  },
  {
   "cell_type": "code",
   "execution_count": 62,
   "id": "93422ef5-ef40-4c14-bdbe-dfd841d1c244",
   "metadata": {},
   "outputs": [
    {
     "data": {
      "text/html": [
       "<table class=\"dataframe\">\n",
       "<caption>A data.frame: 5 × 2</caption>\n",
       "<thead>\n",
       "\t<tr><th></th><th scope=col>values</th><th scope=col>infected</th></tr>\n",
       "\t<tr><th></th><th scope=col>&lt;chr&gt;</th><th scope=col>&lt;dbl&gt;</th></tr>\n",
       "</thead>\n",
       "<tbody>\n",
       "\t<tr><th scope=row>0-1 year</th><td>0-1 year </td><td>0.2032520</td></tr>\n",
       "\t<tr><th scope=row>1-2 years</th><td>1-2 years</td><td>0.7202797</td></tr>\n",
       "\t<tr><th scope=row>2-3 years</th><td>2-3 years</td><td>0.9589041</td></tr>\n",
       "\t<tr><th scope=row>3-4 years</th><td>3-4 years</td><td>1.0000000</td></tr>\n",
       "\t<tr><th scope=row>5 years</th><td>5 years  </td><td>1.0000000</td></tr>\n",
       "</tbody>\n",
       "</table>\n"
      ],
      "text/latex": [
       "A data.frame: 5 × 2\n",
       "\\begin{tabular}{r|ll}\n",
       "  & values & infected\\\\\n",
       "  & <chr> & <dbl>\\\\\n",
       "\\hline\n",
       "\t0-1 year & 0-1 year  & 0.2032520\\\\\n",
       "\t1-2 years & 1-2 years & 0.7202797\\\\\n",
       "\t2-3 years & 2-3 years & 0.9589041\\\\\n",
       "\t3-4 years & 3-4 years & 1.0000000\\\\\n",
       "\t5 years & 5 years   & 1.0000000\\\\\n",
       "\\end{tabular}\n"
      ],
      "text/markdown": [
       "\n",
       "A data.frame: 5 × 2\n",
       "\n",
       "| <!--/--> | values &lt;chr&gt; | infected &lt;dbl&gt; |\n",
       "|---|---|---|\n",
       "| 0-1 year | 0-1 year  | 0.2032520 |\n",
       "| 1-2 years | 1-2 years | 0.7202797 |\n",
       "| 2-3 years | 2-3 years | 0.9589041 |\n",
       "| 3-4 years | 3-4 years | 1.0000000 |\n",
       "| 5 years | 5 years   | 1.0000000 |\n",
       "\n"
      ],
      "text/plain": [
       "          values    infected \n",
       "0-1 year  0-1 year  0.2032520\n",
       "1-2 years 1-2 years 0.7202797\n",
       "2-3 years 2-3 years 0.9589041\n",
       "3-4 years 3-4 years 1.0000000\n",
       "5 years   5 years   1.0000000"
      ]
     },
     "metadata": {},
     "output_type": "display_data"
    },
    {
     "data": {
      "image/png": "[encoded data removed]",
      "text/plain": [
       "plot without title"
      ]
     },
     "metadata": {
      "image/png": {
       "height": 420,
       "width": 420
      }
     },
     "output_type": "display_data"
    }
   ],
   "source": [
    "tab <- table(rsv.data$age_years, rsv.data$infection)\n",
    "ptab <- prop.table(tab, margin=1)\n",
    "dframe <- data.frame(values=rownames(tab), infected=ptab[,2])\n",
    "dframe\n",
    "#png(\"infection_by_age.png\")\n",
    "p<-ggplot(data=dframe, aes(x=values, y=infected, fill = values)) +\n",
    "  geom_bar(stat=\"identity\")+\n",
    "  theme_minimal()+\n",
    "  labs(title=\"Proportion infected by age\",\n",
    "        x =\"Age in years\", y = \"Proportion infected\") + scale_fill_discrete(name=\"Age in years\")\n",
    "p\n",
    "#dev.off()"
   ]
  },
  {
   "cell_type": "code",
   "execution_count": 89,
   "id": "1c6bd67d-75fe-4a39-b168-939e1ba0b8ce",
   "metadata": {},
   "outputs": [
    {
     "data": {
      "image/png": "[encoded data removed]",
      "text/plain": [
       "plot without title"
      ]
     },
     "metadata": {
      "image/png": {
       "height": 420,
       "width": 420
      }
     },
     "output_type": "display_data"
    }
   ],
   "source": [
    "#png(\"infection_by_age.png\")\n",
    "ggplot(rsv.data, aes(x = infection, y=..prop.., fill=age_years)) + geom_bar(position=\"dodge\") +\n",
    "labs(title=\"Infection status by age\",\n",
    "        x =\"Infection status\", y = \"Number of participants\") + scale_fill_discrete(name=\"Age in years\")\n",
    "#dev.off()"
   ]
  },
  {
   "cell_type": "code",
   "execution_count": 63,
   "id": "13d88555-387f-458a-a7cc-45467ba92633",
   "metadata": {},
   "outputs": [
    {
     "data": {
      "image/png": "[encoded data removed]",
      "text/plain": [
       "plot without title"
      ]
     },
     "metadata": {
      "image/png": {
       "height": 420,
       "width": 420
      }
     },
     "output_type": "display_data"
    }
   ],
   "source": [
    "zero_one <- rsv.data%>%filter(age_years == '0-1 year')\n",
    "zero_one%>%\n",
    "  ggplot(aes(x = factor(infection),fill = season_birth)) + \n",
    "  geom_bar(position=\"dodge\")"
   ]
  },
  {
   "cell_type": "code",
   "execution_count": 66,
   "id": "33a94d76-31ff-404f-912a-4beb2b6d41e2",
   "metadata": {},
   "outputs": [
    {
     "data": {
      "image/png": "[encoded data removed]",
      "text/plain": [
       "plot without title"
      ]
     },
     "metadata": {
      "image/png": {
       "height": 420,
       "width": 420
      }
     },
     "output_type": "display_data"
    }
   ],
   "source": [
    "one_two <- rsv.data%>%filter(age_years == '1-2 years')\n",
    "one_two%>%\n",
    "  ggplot(aes(x = factor(infection),fill = season_birth)) + \n",
    "  geom_bar(position=\"dodge\")"
   ]
  },
  {
   "cell_type": "code",
   "execution_count": 65,
   "id": "ea031b99-1c9e-4085-bd66-124086fe95b6",
   "metadata": {},
   "outputs": [
    {
     "data": {
      "image/png": "[encoded data removed]",
      "text/plain": [
       "plot without title"
      ]
     },
     "metadata": {
      "image/png": {
       "height": 420,
       "width": 420
      }
     },
     "output_type": "display_data"
    }
   ],
   "source": [
    "two_three <- rsv.data%>%filter(age_years == '2-3 years')\n",
    "two_three%>%\n",
    "  ggplot(aes(x = factor(infection),fill = season_birth)) + \n",
    "  geom_bar(position=\"dodge\")"
   ]
  },
  {
   "cell_type": "code",
   "execution_count": 57,
   "id": "14cc07a0-d065-4627-a565-32d1b7a9075b",
   "metadata": {},
   "outputs": [
    {
     "data": {
      "image/png": "[encoded data removed]",
      "text/plain": [
       "plot without title"
      ]
     },
     "metadata": {
      "image/png": {
       "height": 420,
       "width": 420
      }
     },
     "output_type": "display_data"
    }
   ],
   "source": [
    "rsv.data %>% \n",
    "  ggplot(aes(x = factor(infection),fill = season_birth)) + \n",
    "  geom_bar(position=\"dodge\")"
   ]
  },
  {
   "cell_type": "code",
   "execution_count": 68,
   "id": "adc6a121-e234-4f6c-a04e-5cad3a175c5b",
   "metadata": {},
   "outputs": [
    {
     "data": {
      "text/html": [
       "<table class=\"dataframe\">\n",
       "<caption>A data.frame: 4 × 2</caption>\n",
       "<thead>\n",
       "\t<tr><th></th><th scope=col>values</th><th scope=col>infected</th></tr>\n",
       "\t<tr><th></th><th scope=col>&lt;chr&gt;</th><th scope=col>&lt;dbl&gt;</th></tr>\n",
       "</thead>\n",
       "<tbody>\n",
       "\t<tr><th scope=row>Autumn</th><td>Autumn</td><td>0.4797688</td></tr>\n",
       "\t<tr><th scope=row>Spring</th><td>Spring</td><td>0.6091954</td></tr>\n",
       "\t<tr><th scope=row>Summer</th><td>Summer</td><td>0.5659341</td></tr>\n",
       "\t<tr><th scope=row>Winter</th><td>Winter</td><td>0.3464052</td></tr>\n",
       "</tbody>\n",
       "</table>\n"
      ],
      "text/latex": [
       "A data.frame: 4 × 2\n",
       "\\begin{tabular}{r|ll}\n",
       "  & values & infected\\\\\n",
       "  & <chr> & <dbl>\\\\\n",
       "\\hline\n",
       "\tAutumn & Autumn & 0.4797688\\\\\n",
       "\tSpring & Spring & 0.6091954\\\\\n",
       "\tSummer & Summer & 0.5659341\\\\\n",
       "\tWinter & Winter & 0.3464052\\\\\n",
       "\\end{tabular}\n"
      ],
      "text/markdown": [
       "\n",
       "A data.frame: 4 × 2\n",
       "\n",
       "| <!--/--> | values &lt;chr&gt; | infected &lt;dbl&gt; |\n",
       "|---|---|---|\n",
       "| Autumn | Autumn | 0.4797688 |\n",
       "| Spring | Spring | 0.6091954 |\n",
       "| Summer | Summer | 0.5659341 |\n",
       "| Winter | Winter | 0.3464052 |\n",
       "\n"
      ],
      "text/plain": [
       "       values infected \n",
       "Autumn Autumn 0.4797688\n",
       "Spring Spring 0.6091954\n",
       "Summer Summer 0.5659341\n",
       "Winter Winter 0.3464052"
      ]
     },
     "metadata": {},
     "output_type": "display_data"
    },
    {
     "data": {
      "image/png": "[encoded data removed]",
      "text/plain": [
       "plot without title"
      ]
     },
     "metadata": {
      "image/png": {
       "height": 420,
       "width": 420
      }
     },
     "output_type": "display_data"
    }
   ],
   "source": [
    "tab <- table(rsv.data$season_birth, rsv.data$infection)\n",
    "ptab <- prop.table(tab, margin=1)\n",
    "dframe <- data.frame(values=rownames(tab), infected=ptab[,2])\n",
    "dframe\n",
    "#png(\"infection_by_season.png\")\n",
    "p<-ggplot(data=dframe, aes(x=values, y=infected, fill = values)) +\n",
    "  geom_bar(stat=\"identity\")+\n",
    "  theme_minimal()+\n",
    "  labs(title=\"Proportion infected by season of birth\",\n",
    "        x =\"season of birth\", y = \"Proportion infected\") + scale_fill_discrete(name=\"Season\")\n",
    "p\n",
    "#dev.off()"
   ]
  },
  {
   "cell_type": "markdown",
   "id": "3d8dc1f1-a02e-4d41-abc3-241a7de9ef87",
   "metadata": {},
   "source": [
    "**Ig Distribution by age**"
   ]
  },
  {
   "cell_type": "code",
   "execution_count": 20,
   "id": "3b888b62-9dd6-4d18-b0b8-58df77266acf",
   "metadata": {},
   "outputs": [
    {
     "data": {
      "image/png": "[encoded data removed]",
      "text/plain": [
       "plot without title"
      ]
     },
     "metadata": {
      "image/png": {
       "height": 420,
       "width": 420
      }
     },
     "output_type": "display_data"
    }
   ],
   "source": [
    "ggplot(rsv.data, aes(x = age_years, y=IgG_PreF)) + geom_point(aes(color = factor(infection))) +\n",
    "labs(title=\"IgG preF by age\",\n",
    "        x =\"Age\", y = \"IgG pre F\")"
   ]
  },
  {
   "cell_type": "code",
   "execution_count": 31,
   "id": "70456495-7066-48a8-873f-6a3bf9a0a97c",
   "metadata": {},
   "outputs": [
    {
     "name": "stderr",
     "output_type": "stream",
     "text": [
      "Warning message:\n",
      "\"Removed 1 rows containing non-finite values (stat_boxplot).\"\n"
     ]
    },
    {
     "data": {
      "image/png": "[encoded data removed]",
      "text/plain": [
       "plot without title"
      ]
     },
     "metadata": {
      "image/png": {
       "height": 420,
       "width": 420
      }
     },
     "output_type": "display_data"
    }
   ],
   "source": [
    "ggplot(rsv.data,aes(x=age_years,y=IgG_PreF,fill=factor(infection)))+geom_boxplot()+\n",
    "labs(title=\"IgG preF by age\",\n",
    "        x =\"Age\", y = \"IgG pre F\") +\n",
    "ylim(0,3500)"
   ]
  },
  {
   "cell_type": "code",
   "execution_count": 33,
   "id": "d3f0e2a8-f57c-4875-97a9-9e769dc79099",
   "metadata": {},
   "outputs": [
    {
     "name": "stderr",
     "output_type": "stream",
     "text": [
      "Warning message:\n",
      "\"Removed 187 rows containing non-finite values (stat_boxplot).\"\n"
     ]
    },
    {
     "data": {
      "image/png": "[encoded data removed]",
      "text/plain": [
       "plot without title"
      ]
     },
     "metadata": {
      "image/png": {
       "height": 420,
       "width": 420
      }
     },
     "output_type": "display_data"
    }
   ],
   "source": [
    "ggplot(rsv.data,aes(x=age_years,y=IgA_PreF,fill=factor(infection)))+geom_boxplot()+\n",
    "labs(title=\"IgA preF by age\",\n",
    "        x =\"Age\", y = \"IgA pre F\") +\n",
    "ylim(0, 100)"
   ]
  },
  {
   "cell_type": "code",
   "execution_count": 34,
   "id": "165c4d4f-4af1-4f5b-b09f-987b0a42326c",
   "metadata": {},
   "outputs": [
    {
     "name": "stderr",
     "output_type": "stream",
     "text": [
      "Warning message:\n",
      "\"Removed 28 rows containing non-finite values (stat_boxplot).\"\n"
     ]
    },
    {
     "data": {
      "image/png": "[encoded data removed]",
      "text/plain": [
       "plot without title"
      ]
     },
     "metadata": {
      "image/png": {
       "height": 420,
       "width": 420
      }
     },
     "output_type": "display_data"
    }
   ],
   "source": [
    "ggplot(rsv.data,aes(x=age_years,y=IgG_PostF,fill=factor(infection)))+geom_boxplot()+\n",
    "labs(title=\"IgG post F by age\",\n",
    "        x =\"Age\", y = \"IgG post F\") +\n",
    "ylim(0, 1000)"
   ]
  },
  {
   "cell_type": "code",
   "execution_count": 37,
   "id": "90c1ca71-f7b2-468c-8bf7-337fde8d24f0",
   "metadata": {},
   "outputs": [
    {
     "name": "stderr",
     "output_type": "stream",
     "text": [
      "Warning message:\n",
      "\"Removed 186 rows containing non-finite values (stat_boxplot).\"\n"
     ]
    },
    {
     "data": {
      "image/png": "[encoded data removed]",
      "text/plain": [
       "plot without title"
      ]
     },
     "metadata": {
      "image/png": {
       "height": 420,
       "width": 420
      }
     },
     "output_type": "display_data"
    }
   ],
   "source": [
    "ggplot(rsv.data,aes(x=age_years,y=IgA_PostF,fill=factor(infection)))+geom_boxplot()+\n",
    "labs(title=\"IgA postF by age\",\n",
    "        x =\"Age\", y = \"IgA post F\") +\n",
    "ylim (0,50)"
   ]
  },
  {
   "cell_type": "code",
   "execution_count": 39,
   "id": "a53fadde-f90b-4fd2-8cbc-3141df2f5f05",
   "metadata": {},
   "outputs": [
    {
     "name": "stderr",
     "output_type": "stream",
     "text": [
      "Warning message:\n",
      "\"Removed 1 rows containing non-finite values (stat_boxplot).\"\n"
     ]
    },
    {
     "data": {
      "image/png": "[encoded data removed]",
      "text/plain": [
       "plot without title"
      ]
     },
     "metadata": {
      "image/png": {
       "height": 420,
       "width": 420
      }
     },
     "output_type": "display_data"
    }
   ],
   "source": [
    "ggplot(rsv.data,aes(x=age_years,y=IgG_Ga,fill=factor(infection)))+geom_boxplot()+\n",
    "labs(title=\"IgG Ga by age\",\n",
    "        x =\"Age\", y = \"IgG Ga\") +\n",
    "ylim (0, 110)"
   ]
  },
  {
   "cell_type": "code",
   "execution_count": 41,
   "id": "1feba9b1-7dd5-4460-824a-a609d2b0bb41",
   "metadata": {},
   "outputs": [
    {
     "name": "stderr",
     "output_type": "stream",
     "text": [
      "Warning message:\n",
      "\"Removed 187 rows containing non-finite values (stat_boxplot).\"\n"
     ]
    },
    {
     "data": {
      "image/png": "[encoded data removed]",
      "text/plain": [
       "plot without title"
      ]
     },
     "metadata": {
      "image/png": {
       "height": 420,
       "width": 420
      }
     },
     "output_type": "display_data"
    }
   ],
   "source": [
    "ggplot(rsv.data,aes(x=age_years,y=IgA_Ga,fill=factor(infection)))+geom_boxplot()+\n",
    "labs(title=\"IgA Ga by age\",\n",
    "        x =\"Age\", y = \"IgA Ga\") +\n",
    "ylim (0,1.5)"
   ]
  },
  {
   "cell_type": "code",
   "execution_count": 42,
   "id": "41d75721-e995-4ab1-a65e-5c3b124a0260",
   "metadata": {},
   "outputs": [
    {
     "name": "stderr",
     "output_type": "stream",
     "text": [
      "Warning message:\n",
      "\"Removed 1 rows containing non-finite values (stat_boxplot).\"\n"
     ]
    },
    {
     "data": {
      "image/png": "[encoded data removed]",
      "text/plain": [
       "plot without title"
      ]
     },
     "metadata": {
      "image/png": {
       "height": 420,
       "width": 420
      }
     },
     "output_type": "display_data"
    }
   ],
   "source": [
    "ggplot(rsv.data,aes(x=age_years,y=IgG_Gb,fill=factor(infection)))+geom_boxplot()+\n",
    "labs(title=\"IgG Gb by age\",\n",
    "        x =\"Age\", y = \"IgG Gb\") +\n",
    "ylim (0,120)"
   ]
  },
  {
   "cell_type": "code",
   "execution_count": 44,
   "id": "b686d943-a63f-4364-aa86-4b89bb9a9eb5",
   "metadata": {},
   "outputs": [
    {
     "name": "stderr",
     "output_type": "stream",
     "text": [
      "Warning message:\n",
      "\"Removed 186 rows containing non-finite values (stat_boxplot).\"\n"
     ]
    },
    {
     "data": {
      "image/png": "[encoded data removed]",
      "text/plain": [
       "plot without title"
      ]
     },
     "metadata": {
      "image/png": {
       "height": 420,
       "width": 420
      }
     },
     "output_type": "display_data"
    }
   ],
   "source": [
    "ggplot(rsv.data,aes(x=age_years,y=IgA_Gb,fill=factor(infection)))+geom_boxplot()+\n",
    "labs(title=\"IgA Gb by age\",\n",
    "        x =\"Age\", y = \"IgA Gb\") +\n",
    "ylim (0,4.5)"
   ]
  },
  {
   "cell_type": "code",
   "execution_count": 45,
   "id": "5818758e-1389-4dba-a0b6-a16e00e65340",
   "metadata": {},
   "outputs": [
    {
     "name": "stderr",
     "output_type": "stream",
     "text": [
      "Warning message:\n",
      "\"Removed 3 rows containing non-finite values (stat_boxplot).\"\n"
     ]
    },
    {
     "data": {
      "image/png": "[encoded data removed]",
      "text/plain": [
       "plot without title"
      ]
     },
     "metadata": {
      "image/png": {
       "height": 420,
       "width": 420
      }
     },
     "output_type": "display_data"
    }
   ],
   "source": [
    "ggplot(rsv.data,aes(x=age_years,y=IgG_N,fill=factor(infection)))+geom_boxplot()+\n",
    "labs(title=\"IgG N by age\",\n",
    "        x =\"Age\", y = \"IgG N\") +\n",
    "ylim (0, 3000)"
   ]
  },
  {
   "cell_type": "markdown",
   "id": "7fb4876b-ffa5-47be-9df7-933e9f9c0d15",
   "metadata": {},
   "source": [
    "**Number of contacts by age**"
   ]
  },
  {
   "cell_type": "markdown",
   "id": "83166b48-4481-497b-8689-dfbada65f1e6",
   "metadata": {},
   "source": [
    "***Total contacts***"
   ]
  },
  {
   "cell_type": "code",
   "execution_count": 14,
   "id": "38ca99a1-26c3-4dde-8215-2ae740ebdb4d",
   "metadata": {},
   "outputs": [
    {
     "name": "stderr",
     "output_type": "stream",
     "text": [
      "Warning message:\n",
      "\"Removed 98 rows containing missing values (geom_point).\"\n"
     ]
    },
    {
     "data": {
      "image/png": "[encoded data removed]",
      "text/plain": [
       "plot without title"
      ]
     },
     "metadata": {
      "image/png": {
       "height": 420,
       "width": 420
      }
     },
     "output_type": "display_data"
    }
   ],
   "source": [
    "ggplot(rsv.data, aes(x = age_days, y = contacttotal)) +\n",
    "    geom_point() +\n",
    "labs(title=\"Total number of contacts by age\",\n",
    "        x =\"Age\", y = \"Total contacts\") +\n",
    "ylim (0, 100)"
   ]
  },
  {
   "cell_type": "code",
   "execution_count": 35,
   "id": "e0269b92-05c9-4949-be97-c2dd35f0d4d9",
   "metadata": {},
   "outputs": [
    {
     "name": "stderr",
     "output_type": "stream",
     "text": [
      "`geom_smooth()` using formula 'y ~ x'\n",
      "\n",
      "Warning message:\n",
      "\"Removed 98 rows containing non-finite values (stat_smooth).\"\n",
      "Warning message:\n",
      "\"Removed 98 rows containing missing values (geom_point).\"\n"
     ]
    },
    {
     "data": {
      "image/png": "[encoded data removed]",
      "text/plain": [
       "plot without title"
      ]
     },
     "metadata": {
      "image/png": {
       "height": 420,
       "width": 420
      }
     },
     "output_type": "display_data"
    }
   ],
   "source": [
    "#png(\"contacts_by_age.png\")\n",
    "rsv.data %>% \n",
    "  ggplot(aes(x = age_days, y = contacttotal, color = factor(infection))) + \n",
    "  geom_point() +\n",
    "  geom_smooth(method = lm, se = F) +\n",
    "  theme_bw() +\n",
    "  ylim (0, 100) +\n",
    "labs(title=\"Total number of contacts by age\",\n",
    "        x =\"Age in days\", y = \"Total contacts\", color = \"Infection status\") \n",
    "#dev.off()"
   ]
  },
  {
   "cell_type": "code",
   "execution_count": 41,
   "id": "f9a2b36d-c193-4b0b-af60-b7ebbce1b3c9",
   "metadata": {},
   "outputs": [
    {
     "data": {
      "text/html": [
       "<table class=\"dataframe\">\n",
       "<caption>A tibble: 5 × 6</caption>\n",
       "<thead>\n",
       "\t<tr><th scope=col>age_years</th><th scope=col>mean</th><th scope=col>median</th><th scope=col>sd</th><th scope=col>min</th><th scope=col>max</th></tr>\n",
       "\t<tr><th scope=col>&lt;fct&gt;</th><th scope=col>&lt;dbl&gt;</th><th scope=col>&lt;dbl&gt;</th><th scope=col>&lt;dbl&gt;</th><th scope=col>&lt;dbl&gt;</th><th scope=col>&lt;dbl&gt;</th></tr>\n",
       "</thead>\n",
       "<tbody>\n",
       "\t<tr><td>0-1 year </td><td> 5.243902</td><td> 4.0</td><td> 6.520255</td><td>0</td><td> 71</td></tr>\n",
       "\t<tr><td>1-2 years</td><td> 8.253731</td><td> 5.0</td><td>14.288481</td><td>0</td><td>150</td></tr>\n",
       "\t<tr><td>2-3 years</td><td> 9.125000</td><td> 6.0</td><td>11.323586</td><td>0</td><td> 76</td></tr>\n",
       "\t<tr><td>3-4 years</td><td>17.094340</td><td>10.0</td><td>28.466082</td><td>0</td><td>200</td></tr>\n",
       "\t<tr><td>5 years  </td><td>23.375000</td><td>22.5</td><td>19.636031</td><td>0</td><td> 82</td></tr>\n",
       "</tbody>\n",
       "</table>\n"
      ],
      "text/latex": [
       "A tibble: 5 × 6\n",
       "\\begin{tabular}{llllll}\n",
       " age\\_years & mean & median & sd & min & max\\\\\n",
       " <fct> & <dbl> & <dbl> & <dbl> & <dbl> & <dbl>\\\\\n",
       "\\hline\n",
       "\t 0-1 year  &  5.243902 &  4.0 &  6.520255 & 0 &  71\\\\\n",
       "\t 1-2 years &  8.253731 &  5.0 & 14.288481 & 0 & 150\\\\\n",
       "\t 2-3 years &  9.125000 &  6.0 & 11.323586 & 0 &  76\\\\\n",
       "\t 3-4 years & 17.094340 & 10.0 & 28.466082 & 0 & 200\\\\\n",
       "\t 5 years   & 23.375000 & 22.5 & 19.636031 & 0 &  82\\\\\n",
       "\\end{tabular}\n"
      ],
      "text/markdown": [
       "\n",
       "A tibble: 5 × 6\n",
       "\n",
       "| age_years &lt;fct&gt; | mean &lt;dbl&gt; | median &lt;dbl&gt; | sd &lt;dbl&gt; | min &lt;dbl&gt; | max &lt;dbl&gt; |\n",
       "|---|---|---|---|---|---|\n",
       "| 0-1 year  |  5.243902 |  4.0 |  6.520255 | 0 |  71 |\n",
       "| 1-2 years |  8.253731 |  5.0 | 14.288481 | 0 | 150 |\n",
       "| 2-3 years |  9.125000 |  6.0 | 11.323586 | 0 |  76 |\n",
       "| 3-4 years | 17.094340 | 10.0 | 28.466082 | 0 | 200 |\n",
       "| 5 years   | 23.375000 | 22.5 | 19.636031 | 0 |  82 |\n",
       "\n"
      ],
      "text/plain": [
       "  age_years mean      median sd        min max\n",
       "1 0-1 year   5.243902  4.0    6.520255 0    71\n",
       "2 1-2 years  8.253731  5.0   14.288481 0   150\n",
       "3 2-3 years  9.125000  6.0   11.323586 0    76\n",
       "4 3-4 years 17.094340 10.0   28.466082 0   200\n",
       "5 5 years   23.375000 22.5   19.636031 0    82"
      ]
     },
     "metadata": {},
     "output_type": "display_data"
    }
   ],
   "source": [
    "summ_contact <- rsv.data %>% \n",
    "filter(complete.cases(contacttotal)) %>% \n",
    "group_by(age_years) %>% \n",
    "  summarise(mean = mean(contacttotal),\n",
    "                  median = median(contacttotal),\n",
    "                  sd = sd(contacttotal),\n",
    "                  min = min(contacttotal),\n",
    "                  max = max(contacttotal))\n",
    "summ_contact"
   ]
  },
  {
   "cell_type": "code",
   "execution_count": 46,
   "id": "bb642db1-2d08-40ae-ae04-a5d1ef09189a",
   "metadata": {},
   "outputs": [],
   "source": [
    "write.csv(summ_contact, \"total_contacts_by_age.csv\", row.names = FALSE)"
   ]
  },
  {
   "cell_type": "code",
   "execution_count": 19,
   "id": "f681350e-8665-49dd-94c5-5bfc22f08ba6",
   "metadata": {},
   "outputs": [
    {
     "data": {
      "image/png": "[encoded data removed]",
      "text/plain": [
       "plot without title"
      ]
     },
     "metadata": {
      "image/png": {
       "height": 420,
       "width": 420
      }
     },
     "output_type": "display_data"
    }
   ],
   "source": [
    "#png(\"boxplot_contacts_by_age.png\")\n",
    "rsv.data %>% filter(complete.cases(contacttotal)) %>% \n",
    "group_by(age_years) %>% \n",
    "ggplot(aes(x=age_years,y=contacttotal,fill=factor(infection)))+geom_boxplot()+\n",
    "labs(title=\"Total number of contacts by age and infection status\",\n",
    "        x =\"Age in years\", y = \"Total contacts\", fill = \"Infection status\") \n",
    "#+ ylim(0, 100)\n",
    "#dev.off()"
   ]
  },
  {
   "cell_type": "code",
   "execution_count": 13,
   "id": "63cd158b-be89-48e6-8cce-fda1daeebcff",
   "metadata": {},
   "outputs": [
    {
     "data": {
      "text/html": [
       "<table class=\"dataframe\">\n",
       "<caption>A tibble: 5 × 6</caption>\n",
       "<thead>\n",
       "\t<tr><th scope=col>age_years</th><th scope=col>mean</th><th scope=col>median</th><th scope=col>sd</th><th scope=col>min</th><th scope=col>max</th></tr>\n",
       "\t<tr><th scope=col>&lt;fct&gt;</th><th scope=col>&lt;dbl&gt;</th><th scope=col>&lt;dbl&gt;</th><th scope=col>&lt;dbl&gt;</th><th scope=col>&lt;dbl&gt;</th><th scope=col>&lt;dbl&gt;</th></tr>\n",
       "</thead>\n",
       "<tbody>\n",
       "\t<tr><td>0-1 year </td><td> 6.016129</td><td> 4.0</td><td> 6.323238</td><td>0</td><td> 29</td></tr>\n",
       "\t<tr><td>1-2 years</td><td> 9.347368</td><td> 5.0</td><td>16.588107</td><td>0</td><td>150</td></tr>\n",
       "\t<tr><td>2-3 years</td><td> 9.289855</td><td> 6.0</td><td>11.530141</td><td>0</td><td> 76</td></tr>\n",
       "\t<tr><td>3-4 years</td><td>17.094340</td><td>10.0</td><td>28.466082</td><td>0</td><td>200</td></tr>\n",
       "\t<tr><td>5 years  </td><td>23.375000</td><td>22.5</td><td>19.636031</td><td>0</td><td> 82</td></tr>\n",
       "</tbody>\n",
       "</table>\n"
      ],
      "text/latex": [
       "A tibble: 5 × 6\n",
       "\\begin{tabular}{llllll}\n",
       " age\\_years & mean & median & sd & min & max\\\\\n",
       " <fct> & <dbl> & <dbl> & <dbl> & <dbl> & <dbl>\\\\\n",
       "\\hline\n",
       "\t 0-1 year  &  6.016129 &  4.0 &  6.323238 & 0 &  29\\\\\n",
       "\t 1-2 years &  9.347368 &  5.0 & 16.588107 & 0 & 150\\\\\n",
       "\t 2-3 years &  9.289855 &  6.0 & 11.530141 & 0 &  76\\\\\n",
       "\t 3-4 years & 17.094340 & 10.0 & 28.466082 & 0 & 200\\\\\n",
       "\t 5 years   & 23.375000 & 22.5 & 19.636031 & 0 &  82\\\\\n",
       "\\end{tabular}\n"
      ],
      "text/markdown": [
       "\n",
       "A tibble: 5 × 6\n",
       "\n",
       "| age_years &lt;fct&gt; | mean &lt;dbl&gt; | median &lt;dbl&gt; | sd &lt;dbl&gt; | min &lt;dbl&gt; | max &lt;dbl&gt; |\n",
       "|---|---|---|---|---|---|\n",
       "| 0-1 year  |  6.016129 |  4.0 |  6.323238 | 0 |  29 |\n",
       "| 1-2 years |  9.347368 |  5.0 | 16.588107 | 0 | 150 |\n",
       "| 2-3 years |  9.289855 |  6.0 | 11.530141 | 0 |  76 |\n",
       "| 3-4 years | 17.094340 | 10.0 | 28.466082 | 0 | 200 |\n",
       "| 5 years   | 23.375000 | 22.5 | 19.636031 | 0 |  82 |\n",
       "\n"
      ],
      "text/plain": [
       "  age_years mean      median sd        min max\n",
       "1 0-1 year   6.016129  4.0    6.323238 0    29\n",
       "2 1-2 years  9.347368  5.0   16.588107 0   150\n",
       "3 2-3 years  9.289855  6.0   11.530141 0    76\n",
       "4 3-4 years 17.094340 10.0   28.466082 0   200\n",
       "5 5 years   23.375000 22.5   19.636031 0    82"
      ]
     },
     "metadata": {},
     "output_type": "display_data"
    }
   ],
   "source": [
    "#number of contacts per age group in infected children\n",
    "summ_contact <- rsv.data %>% \n",
    "filter(infection == 1)%>%\n",
    "filter(complete.cases(contacttotal)) %>% \n",
    "group_by(age_years) %>% \n",
    "  summarise(mean = mean(contacttotal),\n",
    "                  median = median(contacttotal),\n",
    "                  sd = sd(contacttotal),\n",
    "                  min = min(contacttotal),\n",
    "                  max = max(contacttotal))\n",
    "summ_contact"
   ]
  },
  {
   "cell_type": "code",
   "execution_count": 14,
   "id": "2fef1c55-379d-4586-9137-54942b463817",
   "metadata": {},
   "outputs": [
    {
     "data": {
      "text/html": [
       "<table class=\"dataframe\">\n",
       "<caption>A tibble: 3 × 6</caption>\n",
       "<thead>\n",
       "\t<tr><th scope=col>age_years</th><th scope=col>mean</th><th scope=col>median</th><th scope=col>sd</th><th scope=col>min</th><th scope=col>max</th></tr>\n",
       "\t<tr><th scope=col>&lt;fct&gt;</th><th scope=col>&lt;dbl&gt;</th><th scope=col>&lt;dbl&gt;</th><th scope=col>&lt;dbl&gt;</th><th scope=col>&lt;dbl&gt;</th><th scope=col>&lt;dbl&gt;</th></tr>\n",
       "</thead>\n",
       "<tbody>\n",
       "\t<tr><td>0-1 year </td><td>5.031111</td><td>4</td><td>6.571306</td><td>0</td><td>71</td></tr>\n",
       "\t<tr><td>1-2 years</td><td>5.589744</td><td>4</td><td>4.859705</td><td>0</td><td>23</td></tr>\n",
       "\t<tr><td>2-3 years</td><td>5.333333</td><td>6</td><td>3.055050</td><td>2</td><td> 8</td></tr>\n",
       "</tbody>\n",
       "</table>\n"
      ],
      "text/latex": [
       "A tibble: 3 × 6\n",
       "\\begin{tabular}{llllll}\n",
       " age\\_years & mean & median & sd & min & max\\\\\n",
       " <fct> & <dbl> & <dbl> & <dbl> & <dbl> & <dbl>\\\\\n",
       "\\hline\n",
       "\t 0-1 year  & 5.031111 & 4 & 6.571306 & 0 & 71\\\\\n",
       "\t 1-2 years & 5.589744 & 4 & 4.859705 & 0 & 23\\\\\n",
       "\t 2-3 years & 5.333333 & 6 & 3.055050 & 2 &  8\\\\\n",
       "\\end{tabular}\n"
      ],
      "text/markdown": [
       "\n",
       "A tibble: 3 × 6\n",
       "\n",
       "| age_years &lt;fct&gt; | mean &lt;dbl&gt; | median &lt;dbl&gt; | sd &lt;dbl&gt; | min &lt;dbl&gt; | max &lt;dbl&gt; |\n",
       "|---|---|---|---|---|---|\n",
       "| 0-1 year  | 5.031111 | 4 | 6.571306 | 0 | 71 |\n",
       "| 1-2 years | 5.589744 | 4 | 4.859705 | 0 | 23 |\n",
       "| 2-3 years | 5.333333 | 6 | 3.055050 | 2 |  8 |\n",
       "\n"
      ],
      "text/plain": [
       "  age_years mean     median sd       min max\n",
       "1 0-1 year  5.031111 4      6.571306 0   71 \n",
       "2 1-2 years 5.589744 4      4.859705 0   23 \n",
       "3 2-3 years 5.333333 6      3.055050 2    8 "
      ]
     },
     "metadata": {},
     "output_type": "display_data"
    }
   ],
   "source": [
    "#number of contacts per age group in uninfected children\n",
    "summ_contact <- rsv.data %>% \n",
    "filter(infection == 0)%>%\n",
    "filter(complete.cases(contacttotal)) %>% \n",
    "group_by(age_years) %>% \n",
    "  summarise(mean = mean(contacttotal),\n",
    "                  median = median(contacttotal),\n",
    "                  sd = sd(contacttotal),\n",
    "                  min = min(contacttotal),\n",
    "                  max = max(contacttotal))\n",
    "summ_contact"
   ]
  },
  {
   "cell_type": "markdown",
   "id": "aa8efeb2-eb9a-42ad-a623-9f19609f557d",
   "metadata": {},
   "source": [
    "***Contacts aged 0-4 years***"
   ]
  },
  {
   "cell_type": "code",
   "execution_count": 15,
   "id": "c8e1045b-078d-46ae-a5a8-9d894f4fcad6",
   "metadata": {},
   "outputs": [
    {
     "name": "stderr",
     "output_type": "stream",
     "text": [
      "`geom_smooth()` using formula 'y ~ x'\n",
      "\n",
      "Warning message:\n",
      "\"Removed 178 rows containing non-finite values (stat_smooth).\"\n",
      "Warning message:\n",
      "\"Removed 178 rows containing missing values (geom_point).\"\n"
     ]
    },
    {
     "data": {
      "image/png": "[encoded data removed]",
      "text/plain": [
       "plot without title"
      ]
     },
     "metadata": {
      "image/png": {
       "height": 420,
       "width": 420
      }
     },
     "output_type": "display_data"
    }
   ],
   "source": [
    "#png(\"contacts_0-4_by_age.png\")\n",
    "rsv.data %>% \n",
    "  ggplot(aes(x = age_days, y = contact04, color = factor(infection))) + \n",
    "  geom_point() +\n",
    "  geom_smooth(method = lm, se = F) +\n",
    "  theme_bw() +\n",
    "  ylim (0, 100) +\n",
    "labs(title=\"Number of contacts aged 0-4years by age\",\n",
    "        x =\"Age in days\", y = \"Number of contacts\", color = \"Infection status\") \n",
    "#dev.off()"
   ]
  },
  {
   "cell_type": "code",
   "execution_count": 16,
   "id": "184ab76a-92fb-4e40-b9c0-ffbdb232343a",
   "metadata": {},
   "outputs": [
    {
     "data": {
      "text/html": [
       "<table class=\"dataframe\">\n",
       "<caption>A tibble: 5 × 6</caption>\n",
       "<thead>\n",
       "\t<tr><th scope=col>age_years</th><th scope=col>mean</th><th scope=col>median</th><th scope=col>sd</th><th scope=col>min</th><th scope=col>max</th></tr>\n",
       "\t<tr><th scope=col>&lt;fct&gt;</th><th scope=col>&lt;dbl&gt;</th><th scope=col>&lt;dbl&gt;</th><th scope=col>&lt;dbl&gt;</th><th scope=col>&lt;dbl&gt;</th><th scope=col>&lt;dbl&gt;</th></tr>\n",
       "</thead>\n",
       "<tbody>\n",
       "\t<tr><td>0-1 year </td><td>1.799197</td><td>0.0</td><td> 3.627827</td><td>0</td><td>27</td></tr>\n",
       "\t<tr><td>1-2 years</td><td>2.586777</td><td>1.0</td><td> 3.940536</td><td>0</td><td>20</td></tr>\n",
       "\t<tr><td>2-3 years</td><td>4.303571</td><td>1.5</td><td> 6.361588</td><td>0</td><td>30</td></tr>\n",
       "\t<tr><td>3-4 years</td><td>5.956522</td><td>2.5</td><td> 6.886239</td><td>0</td><td>30</td></tr>\n",
       "\t<tr><td>5 years  </td><td>9.062500</td><td>5.0</td><td>10.251475</td><td>0</td><td>40</td></tr>\n",
       "</tbody>\n",
       "</table>\n"
      ],
      "text/latex": [
       "A tibble: 5 × 6\n",
       "\\begin{tabular}{llllll}\n",
       " age\\_years & mean & median & sd & min & max\\\\\n",
       " <fct> & <dbl> & <dbl> & <dbl> & <dbl> & <dbl>\\\\\n",
       "\\hline\n",
       "\t 0-1 year  & 1.799197 & 0.0 &  3.627827 & 0 & 27\\\\\n",
       "\t 1-2 years & 2.586777 & 1.0 &  3.940536 & 0 & 20\\\\\n",
       "\t 2-3 years & 4.303571 & 1.5 &  6.361588 & 0 & 30\\\\\n",
       "\t 3-4 years & 5.956522 & 2.5 &  6.886239 & 0 & 30\\\\\n",
       "\t 5 years   & 9.062500 & 5.0 & 10.251475 & 0 & 40\\\\\n",
       "\\end{tabular}\n"
      ],
      "text/markdown": [
       "\n",
       "A tibble: 5 × 6\n",
       "\n",
       "| age_years &lt;fct&gt; | mean &lt;dbl&gt; | median &lt;dbl&gt; | sd &lt;dbl&gt; | min &lt;dbl&gt; | max &lt;dbl&gt; |\n",
       "|---|---|---|---|---|---|\n",
       "| 0-1 year  | 1.799197 | 0.0 |  3.627827 | 0 | 27 |\n",
       "| 1-2 years | 2.586777 | 1.0 |  3.940536 | 0 | 20 |\n",
       "| 2-3 years | 4.303571 | 1.5 |  6.361588 | 0 | 30 |\n",
       "| 3-4 years | 5.956522 | 2.5 |  6.886239 | 0 | 30 |\n",
       "| 5 years   | 9.062500 | 5.0 | 10.251475 | 0 | 40 |\n",
       "\n"
      ],
      "text/plain": [
       "  age_years mean     median sd        min max\n",
       "1 0-1 year  1.799197 0.0     3.627827 0   27 \n",
       "2 1-2 years 2.586777 1.0     3.940536 0   20 \n",
       "3 2-3 years 4.303571 1.5     6.361588 0   30 \n",
       "4 3-4 years 5.956522 2.5     6.886239 0   30 \n",
       "5 5 years   9.062500 5.0    10.251475 0   40 "
      ]
     },
     "metadata": {},
     "output_type": "display_data"
    }
   ],
   "source": [
    "summ_contact04 <- rsv.data %>% \n",
    "filter(complete.cases(contact04)) %>% \n",
    "group_by(age_years) %>% \n",
    "  summarise(mean = mean(contact04),\n",
    "                  median = median(contact04),\n",
    "                  sd = sd(contact04),\n",
    "                  min = min(contact04),\n",
    "                  max = max(contact04))\n",
    "summ_contact04"
   ]
  },
  {
   "cell_type": "code",
   "execution_count": 13,
   "id": "d99ea4cf-8b9f-4202-b027-8d5ef8f2ad37",
   "metadata": {},
   "outputs": [],
   "source": [
    "write.csv(summ_contact04, \"contacts_04_by_age.csv\", row.names = FALSE)"
   ]
  },
  {
   "cell_type": "code",
   "execution_count": 16,
   "id": "53c777fe-8b82-4ab6-86ed-bd33e9c4a4dc",
   "metadata": {},
   "outputs": [
    {
     "data": {
      "image/png": "[encoded data removed]",
      "text/plain": [
       "plot without title"
      ]
     },
     "metadata": {
      "image/png": {
       "height": 420,
       "width": 420
      }
     },
     "output_type": "display_data"
    }
   ],
   "source": [
    "#png(\"boxplot_contacts_04_by_age.png\")\n",
    "rsv.data %>% filter(complete.cases(contact04)) %>% \n",
    "group_by(age_years) %>% \n",
    "ggplot(aes(x=age_years,y=contact04,fill=factor(infection)))+geom_boxplot()+\n",
    "labs(title=\"Number of contacts aged 0-4 years by age and infection status\",\n",
    "        x =\"Age in years\", y = \"Number of contacts\", fill = \"Infection status\") \n",
    "#dev.off()"
   ]
  },
  {
   "cell_type": "code",
   "execution_count": 18,
   "id": "c2adfde2-441a-4864-af73-39d7fa7051e7",
   "metadata": {},
   "outputs": [
    {
     "data": {
      "text/html": [
       "<table class=\"dataframe\">\n",
       "<caption>A tibble: 5 × 6</caption>\n",
       "<thead>\n",
       "\t<tr><th scope=col>age_years</th><th scope=col>mean</th><th scope=col>median</th><th scope=col>sd</th><th scope=col>min</th><th scope=col>max</th></tr>\n",
       "\t<tr><th scope=col>&lt;fct&gt;</th><th scope=col>&lt;dbl&gt;</th><th scope=col>&lt;dbl&gt;</th><th scope=col>&lt;dbl&gt;</th><th scope=col>&lt;dbl&gt;</th><th scope=col>&lt;dbl&gt;</th></tr>\n",
       "</thead>\n",
       "<tbody>\n",
       "\t<tr><td>0-1 year </td><td>2.571429</td><td>1.0</td><td> 4.693737</td><td>0</td><td>20</td></tr>\n",
       "\t<tr><td>1-2 years</td><td>3.333333</td><td>1.5</td><td> 4.394228</td><td>0</td><td>20</td></tr>\n",
       "\t<tr><td>2-3 years</td><td>4.509434</td><td>2.0</td><td> 6.476652</td><td>0</td><td>30</td></tr>\n",
       "\t<tr><td>3-4 years</td><td>5.956522</td><td>2.5</td><td> 6.886239</td><td>0</td><td>30</td></tr>\n",
       "\t<tr><td>5 years  </td><td>9.062500</td><td>5.0</td><td>10.251475</td><td>0</td><td>40</td></tr>\n",
       "</tbody>\n",
       "</table>\n"
      ],
      "text/latex": [
       "A tibble: 5 × 6\n",
       "\\begin{tabular}{llllll}\n",
       " age\\_years & mean & median & sd & min & max\\\\\n",
       " <fct> & <dbl> & <dbl> & <dbl> & <dbl> & <dbl>\\\\\n",
       "\\hline\n",
       "\t 0-1 year  & 2.571429 & 1.0 &  4.693737 & 0 & 20\\\\\n",
       "\t 1-2 years & 3.333333 & 1.5 &  4.394228 & 0 & 20\\\\\n",
       "\t 2-3 years & 4.509434 & 2.0 &  6.476652 & 0 & 30\\\\\n",
       "\t 3-4 years & 5.956522 & 2.5 &  6.886239 & 0 & 30\\\\\n",
       "\t 5 years   & 9.062500 & 5.0 & 10.251475 & 0 & 40\\\\\n",
       "\\end{tabular}\n"
      ],
      "text/markdown": [
       "\n",
       "A tibble: 5 × 6\n",
       "\n",
       "| age_years &lt;fct&gt; | mean &lt;dbl&gt; | median &lt;dbl&gt; | sd &lt;dbl&gt; | min &lt;dbl&gt; | max &lt;dbl&gt; |\n",
       "|---|---|---|---|---|---|\n",
       "| 0-1 year  | 2.571429 | 1.0 |  4.693737 | 0 | 20 |\n",
       "| 1-2 years | 3.333333 | 1.5 |  4.394228 | 0 | 20 |\n",
       "| 2-3 years | 4.509434 | 2.0 |  6.476652 | 0 | 30 |\n",
       "| 3-4 years | 5.956522 | 2.5 |  6.886239 | 0 | 30 |\n",
       "| 5 years   | 9.062500 | 5.0 | 10.251475 | 0 | 40 |\n",
       "\n"
      ],
      "text/plain": [
       "  age_years mean     median sd        min max\n",
       "1 0-1 year  2.571429 1.0     4.693737 0   20 \n",
       "2 1-2 years 3.333333 1.5     4.394228 0   20 \n",
       "3 2-3 years 4.509434 2.0     6.476652 0   30 \n",
       "4 3-4 years 5.956522 2.5     6.886239 0   30 \n",
       "5 5 years   9.062500 5.0    10.251475 0   40 "
      ]
     },
     "metadata": {},
     "output_type": "display_data"
    }
   ],
   "source": [
    "#contacts 0-4 years in infected children\n",
    "summ_contact04 <- rsv.data %>% \n",
    "filter(infection == 1)%>%\n",
    "filter(complete.cases(contact04)) %>% \n",
    "group_by(age_years) %>% \n",
    "  summarise(mean = mean(contact04),\n",
    "                  median = median(contact04),\n",
    "                  sd = sd(contact04),\n",
    "                  min = min(contact04),\n",
    "                  max = max(contact04))\n",
    "summ_contact04"
   ]
  },
  {
   "cell_type": "code",
   "execution_count": 19,
   "id": "d75fa019-67eb-4bf2-99db-e51a65c80958",
   "metadata": {},
   "outputs": [
    {
     "data": {
      "text/html": [
       "<table class=\"dataframe\">\n",
       "<caption>A tibble: 3 × 6</caption>\n",
       "<thead>\n",
       "\t<tr><th scope=col>age_years</th><th scope=col>mean</th><th scope=col>median</th><th scope=col>sd</th><th scope=col>min</th><th scope=col>max</th></tr>\n",
       "\t<tr><th scope=col>&lt;fct&gt;</th><th scope=col>&lt;dbl&gt;</th><th scope=col>&lt;dbl&gt;</th><th scope=col>&lt;dbl&gt;</th><th scope=col>&lt;dbl&gt;</th><th scope=col>&lt;dbl&gt;</th></tr>\n",
       "</thead>\n",
       "<tbody>\n",
       "\t<tr><td>0-1 year </td><td>1.5751295</td><td>0</td><td>3.234869</td><td>0</td><td>27</td></tr>\n",
       "\t<tr><td>1-2 years</td><td>0.8918919</td><td>0</td><td>1.728580</td><td>0</td><td>10</td></tr>\n",
       "\t<tr><td>2-3 years</td><td>0.6666667</td><td>0</td><td>1.154701</td><td>0</td><td> 2</td></tr>\n",
       "</tbody>\n",
       "</table>\n"
      ],
      "text/latex": [
       "A tibble: 3 × 6\n",
       "\\begin{tabular}{llllll}\n",
       " age\\_years & mean & median & sd & min & max\\\\\n",
       " <fct> & <dbl> & <dbl> & <dbl> & <dbl> & <dbl>\\\\\n",
       "\\hline\n",
       "\t 0-1 year  & 1.5751295 & 0 & 3.234869 & 0 & 27\\\\\n",
       "\t 1-2 years & 0.8918919 & 0 & 1.728580 & 0 & 10\\\\\n",
       "\t 2-3 years & 0.6666667 & 0 & 1.154701 & 0 &  2\\\\\n",
       "\\end{tabular}\n"
      ],
      "text/markdown": [
       "\n",
       "A tibble: 3 × 6\n",
       "\n",
       "| age_years &lt;fct&gt; | mean &lt;dbl&gt; | median &lt;dbl&gt; | sd &lt;dbl&gt; | min &lt;dbl&gt; | max &lt;dbl&gt; |\n",
       "|---|---|---|---|---|---|\n",
       "| 0-1 year  | 1.5751295 | 0 | 3.234869 | 0 | 27 |\n",
       "| 1-2 years | 0.8918919 | 0 | 1.728580 | 0 | 10 |\n",
       "| 2-3 years | 0.6666667 | 0 | 1.154701 | 0 |  2 |\n",
       "\n"
      ],
      "text/plain": [
       "  age_years mean      median sd       min max\n",
       "1 0-1 year  1.5751295 0      3.234869 0   27 \n",
       "2 1-2 years 0.8918919 0      1.728580 0   10 \n",
       "3 2-3 years 0.6666667 0      1.154701 0    2 "
      ]
     },
     "metadata": {},
     "output_type": "display_data"
    }
   ],
   "source": [
    "#contacts 0-4 years in uninfected children\n",
    "summ_contact04 <- rsv.data %>% \n",
    "filter(infection == 0)%>%\n",
    "filter(complete.cases(contact04)) %>% \n",
    "group_by(age_years) %>% \n",
    "  summarise(mean = mean(contact04),\n",
    "                  median = median(contact04),\n",
    "                  sd = sd(contact04),\n",
    "                  min = min(contact04),\n",
    "                  max = max(contact04))\n",
    "summ_contact04"
   ]
  },
  {
   "cell_type": "markdown",
   "id": "859ecbf2-74ed-4db1-b707-0d3e0a7c5478",
   "metadata": {},
   "source": [
    "***Contacts aged 5-9 years***"
   ]
  },
  {
   "cell_type": "code",
   "execution_count": 20,
   "id": "adcd0fa3-8e48-4dbb-9b03-5b78555ca4b9",
   "metadata": {},
   "outputs": [
    {
     "name": "stderr",
     "output_type": "stream",
     "text": [
      "`geom_smooth()` using formula 'y ~ x'\n",
      "\n",
      "Warning message:\n",
      "\"Removed 178 rows containing non-finite values (stat_smooth).\"\n",
      "Warning message:\n",
      "\"Removed 178 rows containing missing values (geom_point).\"\n"
     ]
    },
    {
     "data": {
      "image/png": "[encoded data removed]",
      "text/plain": [
       "plot without title"
      ]
     },
     "metadata": {
      "image/png": {
       "height": 420,
       "width": 420
      }
     },
     "output_type": "display_data"
    }
   ],
   "source": [
    "#png(\"contacts_59_by_age.png\")\n",
    "rsv.data %>% \n",
    "  ggplot(aes(x = age_days, y = contact59, color = factor(infection))) + \n",
    "  geom_point() +\n",
    "  geom_smooth(method = lm, se = F) +\n",
    "  theme_bw() +\n",
    "labs(title=\"Number of contacts aged 5-9 years by age\",\n",
    "        x =\"Age in days\", y = \"Number of contacts\", color = \"Infection status\") \n",
    "#dev.off()"
   ]
  },
  {
   "cell_type": "code",
   "execution_count": 21,
   "id": "213f31a5-bb5f-4747-90f6-7e79dc4de619",
   "metadata": {},
   "outputs": [
    {
     "data": {
      "text/html": [
       "<table class=\"dataframe\">\n",
       "<caption>A tibble: 5 × 6</caption>\n",
       "<thead>\n",
       "\t<tr><th scope=col>age_years</th><th scope=col>mean</th><th scope=col>median</th><th scope=col>sd</th><th scope=col>min</th><th scope=col>max</th></tr>\n",
       "\t<tr><th scope=col>&lt;fct&gt;</th><th scope=col>&lt;dbl&gt;</th><th scope=col>&lt;dbl&gt;</th><th scope=col>&lt;dbl&gt;</th><th scope=col>&lt;dbl&gt;</th><th scope=col>&lt;dbl&gt;</th></tr>\n",
       "</thead>\n",
       "<tbody>\n",
       "\t<tr><td>0-1 year </td><td>0.2851406</td><td>0.0</td><td> 0.8297761</td><td>0</td><td> 7</td></tr>\n",
       "\t<tr><td>1-2 years</td><td>0.7272727</td><td>0.0</td><td> 1.6733201</td><td>0</td><td>14</td></tr>\n",
       "\t<tr><td>2-3 years</td><td>1.5535714</td><td>1.0</td><td> 3.0506014</td><td>0</td><td>20</td></tr>\n",
       "\t<tr><td>3-4 years</td><td>2.8043478</td><td>0.5</td><td> 5.4021377</td><td>0</td><td>30</td></tr>\n",
       "\t<tr><td>5 years  </td><td>7.3750000</td><td>3.0</td><td>11.2156285</td><td>0</td><td>50</td></tr>\n",
       "</tbody>\n",
       "</table>\n"
      ],
      "text/latex": [
       "A tibble: 5 × 6\n",
       "\\begin{tabular}{llllll}\n",
       " age\\_years & mean & median & sd & min & max\\\\\n",
       " <fct> & <dbl> & <dbl> & <dbl> & <dbl> & <dbl>\\\\\n",
       "\\hline\n",
       "\t 0-1 year  & 0.2851406 & 0.0 &  0.8297761 & 0 &  7\\\\\n",
       "\t 1-2 years & 0.7272727 & 0.0 &  1.6733201 & 0 & 14\\\\\n",
       "\t 2-3 years & 1.5535714 & 1.0 &  3.0506014 & 0 & 20\\\\\n",
       "\t 3-4 years & 2.8043478 & 0.5 &  5.4021377 & 0 & 30\\\\\n",
       "\t 5 years   & 7.3750000 & 3.0 & 11.2156285 & 0 & 50\\\\\n",
       "\\end{tabular}\n"
      ],
      "text/markdown": [
       "\n",
       "A tibble: 5 × 6\n",
       "\n",
       "| age_years &lt;fct&gt; | mean &lt;dbl&gt; | median &lt;dbl&gt; | sd &lt;dbl&gt; | min &lt;dbl&gt; | max &lt;dbl&gt; |\n",
       "|---|---|---|---|---|---|\n",
       "| 0-1 year  | 0.2851406 | 0.0 |  0.8297761 | 0 |  7 |\n",
       "| 1-2 years | 0.7272727 | 0.0 |  1.6733201 | 0 | 14 |\n",
       "| 2-3 years | 1.5535714 | 1.0 |  3.0506014 | 0 | 20 |\n",
       "| 3-4 years | 2.8043478 | 0.5 |  5.4021377 | 0 | 30 |\n",
       "| 5 years   | 7.3750000 | 3.0 | 11.2156285 | 0 | 50 |\n",
       "\n"
      ],
      "text/plain": [
       "  age_years mean      median sd         min max\n",
       "1 0-1 year  0.2851406 0.0     0.8297761 0    7 \n",
       "2 1-2 years 0.7272727 0.0     1.6733201 0   14 \n",
       "3 2-3 years 1.5535714 1.0     3.0506014 0   20 \n",
       "4 3-4 years 2.8043478 0.5     5.4021377 0   30 \n",
       "5 5 years   7.3750000 3.0    11.2156285 0   50 "
      ]
     },
     "metadata": {},
     "output_type": "display_data"
    }
   ],
   "source": [
    "summ_contact59 <- rsv.data %>% \n",
    "filter(complete.cases(contact59)) %>% \n",
    "group_by(age_years) %>% \n",
    "  summarise(mean = mean(contact59),\n",
    "                  median = median(contact59),\n",
    "                  sd = sd(contact59),\n",
    "                  min = min(contact59),\n",
    "                  max = max(contact59))\n",
    "summ_contact59"
   ]
  },
  {
   "cell_type": "code",
   "execution_count": 26,
   "id": "9014e767-a701-4dc6-94b8-f7e200a49d9f",
   "metadata": {},
   "outputs": [],
   "source": [
    "write.csv(summ_contact59, \"contacts_59_by_age.csv\", row.names = FALSE)"
   ]
  },
  {
   "cell_type": "code",
   "execution_count": 30,
   "id": "02b51726-0790-4ac6-83b1-758f2f4104d8",
   "metadata": {},
   "outputs": [
    {
     "name": "stderr",
     "output_type": "stream",
     "text": [
      "Warning message:\n",
      "\"Removed 1 rows containing non-finite values (stat_boxplot).\"\n"
     ]
    },
    {
     "data": {
      "image/png": "[encoded data removed]",
      "text/plain": [
       "plot without title"
      ]
     },
     "metadata": {
      "image/png": {
       "height": 420,
       "width": 420
      }
     },
     "output_type": "display_data"
    }
   ],
   "source": [
    "#png(\"boxplot_contacts_59_by_age.png\")\n",
    "rsv.data %>% filter(complete.cases(contact59)) %>% \n",
    "group_by(age_years) %>% \n",
    "ggplot(aes(x=age_years, y=contact59, fill=factor(infection))) + geom_boxplot()+\n",
    "labs(title=\"Number of contacts aged 5-9 years by age and infection status\",\n",
    "        x =\"Age in years\", y = \"Number of contacts\", fill = \"Infection status\") + ylim(0, 35)\n",
    "#dev.off()"
   ]
  },
  {
   "cell_type": "code",
   "execution_count": 22,
   "id": "de400cd3-f867-4324-b847-5fbffd3aeeae",
   "metadata": {},
   "outputs": [
    {
     "data": {
      "text/html": [
       "<table class=\"dataframe\">\n",
       "<caption>A tibble: 5 × 6</caption>\n",
       "<thead>\n",
       "\t<tr><th scope=col>age_years</th><th scope=col>mean</th><th scope=col>median</th><th scope=col>sd</th><th scope=col>min</th><th scope=col>max</th></tr>\n",
       "\t<tr><th scope=col>&lt;fct&gt;</th><th scope=col>&lt;dbl&gt;</th><th scope=col>&lt;dbl&gt;</th><th scope=col>&lt;dbl&gt;</th><th scope=col>&lt;dbl&gt;</th><th scope=col>&lt;dbl&gt;</th></tr>\n",
       "</thead>\n",
       "<tbody>\n",
       "\t<tr><td>0-1 year </td><td>0.2857143</td><td>0.0</td><td> 0.8466895</td><td>0</td><td> 5</td></tr>\n",
       "\t<tr><td>1-2 years</td><td>0.6666667</td><td>0.0</td><td> 1.7789487</td><td>0</td><td>14</td></tr>\n",
       "\t<tr><td>2-3 years</td><td>1.5849057</td><td>1.0</td><td> 3.1282458</td><td>0</td><td>20</td></tr>\n",
       "\t<tr><td>3-4 years</td><td>2.8043478</td><td>0.5</td><td> 5.4021377</td><td>0</td><td>30</td></tr>\n",
       "\t<tr><td>5 years  </td><td>7.3750000</td><td>3.0</td><td>11.2156285</td><td>0</td><td>50</td></tr>\n",
       "</tbody>\n",
       "</table>\n"
      ],
      "text/latex": [
       "A tibble: 5 × 6\n",
       "\\begin{tabular}{llllll}\n",
       " age\\_years & mean & median & sd & min & max\\\\\n",
       " <fct> & <dbl> & <dbl> & <dbl> & <dbl> & <dbl>\\\\\n",
       "\\hline\n",
       "\t 0-1 year  & 0.2857143 & 0.0 &  0.8466895 & 0 &  5\\\\\n",
       "\t 1-2 years & 0.6666667 & 0.0 &  1.7789487 & 0 & 14\\\\\n",
       "\t 2-3 years & 1.5849057 & 1.0 &  3.1282458 & 0 & 20\\\\\n",
       "\t 3-4 years & 2.8043478 & 0.5 &  5.4021377 & 0 & 30\\\\\n",
       "\t 5 years   & 7.3750000 & 3.0 & 11.2156285 & 0 & 50\\\\\n",
       "\\end{tabular}\n"
      ],
      "text/markdown": [
       "\n",
       "A tibble: 5 × 6\n",
       "\n",
       "| age_years &lt;fct&gt; | mean &lt;dbl&gt; | median &lt;dbl&gt; | sd &lt;dbl&gt; | min &lt;dbl&gt; | max &lt;dbl&gt; |\n",
       "|---|---|---|---|---|---|\n",
       "| 0-1 year  | 0.2857143 | 0.0 |  0.8466895 | 0 |  5 |\n",
       "| 1-2 years | 0.6666667 | 0.0 |  1.7789487 | 0 | 14 |\n",
       "| 2-3 years | 1.5849057 | 1.0 |  3.1282458 | 0 | 20 |\n",
       "| 3-4 years | 2.8043478 | 0.5 |  5.4021377 | 0 | 30 |\n",
       "| 5 years   | 7.3750000 | 3.0 | 11.2156285 | 0 | 50 |\n",
       "\n"
      ],
      "text/plain": [
       "  age_years mean      median sd         min max\n",
       "1 0-1 year  0.2857143 0.0     0.8466895 0    5 \n",
       "2 1-2 years 0.6666667 0.0     1.7789487 0   14 \n",
       "3 2-3 years 1.5849057 1.0     3.1282458 0   20 \n",
       "4 3-4 years 2.8043478 0.5     5.4021377 0   30 \n",
       "5 5 years   7.3750000 3.0    11.2156285 0   50 "
      ]
     },
     "metadata": {},
     "output_type": "display_data"
    }
   ],
   "source": [
    "#contacts aged 5-9 years among infected children\n",
    "summ_contact59 <- rsv.data %>% \n",
    "filter(complete.cases(contact59)) %>% \n",
    "filter (infection == 1) %>%\n",
    "group_by(age_years) %>% \n",
    "  summarise(mean = mean(contact59),\n",
    "                  median = median(contact59),\n",
    "                  sd = sd(contact59),\n",
    "                  min = min(contact59),\n",
    "                  max = max(contact59))\n",
    "summ_contact59"
   ]
  },
  {
   "cell_type": "code",
   "execution_count": 23,
   "id": "03a2bba9-f468-4b19-b99e-209dc3169025",
   "metadata": {},
   "outputs": [
    {
     "data": {
      "text/html": [
       "<table class=\"dataframe\">\n",
       "<caption>A tibble: 3 × 6</caption>\n",
       "<thead>\n",
       "\t<tr><th scope=col>age_years</th><th scope=col>mean</th><th scope=col>median</th><th scope=col>sd</th><th scope=col>min</th><th scope=col>max</th></tr>\n",
       "\t<tr><th scope=col>&lt;fct&gt;</th><th scope=col>&lt;dbl&gt;</th><th scope=col>&lt;dbl&gt;</th><th scope=col>&lt;dbl&gt;</th><th scope=col>&lt;dbl&gt;</th><th scope=col>&lt;dbl&gt;</th></tr>\n",
       "</thead>\n",
       "<tbody>\n",
       "\t<tr><td>0-1 year </td><td>0.2849741</td><td>0</td><td>0.827038</td><td>0</td><td>7</td></tr>\n",
       "\t<tr><td>1-2 years</td><td>0.8648649</td><td>0</td><td>1.417395</td><td>0</td><td>5</td></tr>\n",
       "\t<tr><td>2-3 years</td><td>1.0000000</td><td>1</td><td>1.000000</td><td>0</td><td>2</td></tr>\n",
       "</tbody>\n",
       "</table>\n"
      ],
      "text/latex": [
       "A tibble: 3 × 6\n",
       "\\begin{tabular}{llllll}\n",
       " age\\_years & mean & median & sd & min & max\\\\\n",
       " <fct> & <dbl> & <dbl> & <dbl> & <dbl> & <dbl>\\\\\n",
       "\\hline\n",
       "\t 0-1 year  & 0.2849741 & 0 & 0.827038 & 0 & 7\\\\\n",
       "\t 1-2 years & 0.8648649 & 0 & 1.417395 & 0 & 5\\\\\n",
       "\t 2-3 years & 1.0000000 & 1 & 1.000000 & 0 & 2\\\\\n",
       "\\end{tabular}\n"
      ],
      "text/markdown": [
       "\n",
       "A tibble: 3 × 6\n",
       "\n",
       "| age_years &lt;fct&gt; | mean &lt;dbl&gt; | median &lt;dbl&gt; | sd &lt;dbl&gt; | min &lt;dbl&gt; | max &lt;dbl&gt; |\n",
       "|---|---|---|---|---|---|\n",
       "| 0-1 year  | 0.2849741 | 0 | 0.827038 | 0 | 7 |\n",
       "| 1-2 years | 0.8648649 | 0 | 1.417395 | 0 | 5 |\n",
       "| 2-3 years | 1.0000000 | 1 | 1.000000 | 0 | 2 |\n",
       "\n"
      ],
      "text/plain": [
       "  age_years mean      median sd       min max\n",
       "1 0-1 year  0.2849741 0      0.827038 0   7  \n",
       "2 1-2 years 0.8648649 0      1.417395 0   5  \n",
       "3 2-3 years 1.0000000 1      1.000000 0   2  "
      ]
     },
     "metadata": {},
     "output_type": "display_data"
    }
   ],
   "source": [
    "#contacts aged 5-9 years among uninfected children\n",
    "summ_contact59 <- rsv.data %>% \n",
    "filter(complete.cases(contact59)) %>% \n",
    "filter (infection == 0) %>%\n",
    "group_by(age_years) %>% \n",
    "  summarise(mean = mean(contact59),\n",
    "                  median = median(contact59),\n",
    "                  sd = sd(contact59),\n",
    "                  min = min(contact59),\n",
    "                  max = max(contact59))\n",
    "summ_contact59"
   ]
  },
  {
   "cell_type": "markdown",
   "id": "b760c61d-547b-460d-a360-a0cb3cc87d20",
   "metadata": {},
   "source": [
    "**Proportion attending day care by age**"
   ]
  },
  {
   "cell_type": "code",
   "execution_count": 27,
   "id": "4fe19fd4-d4eb-4680-9930-b866a5bd8133",
   "metadata": {},
   "outputs": [
    {
     "data": {
      "text/html": [
       "<table class=\"dataframe\">\n",
       "<caption>A data.frame: 5 × 2</caption>\n",
       "<thead>\n",
       "\t<tr><th></th><th scope=col>values</th><th scope=col>daycare</th></tr>\n",
       "\t<tr><th></th><th scope=col>&lt;chr&gt;</th><th scope=col>&lt;dbl&gt;</th></tr>\n",
       "</thead>\n",
       "<tbody>\n",
       "\t<tr><th scope=row>0-1 year</th><td>0-1 year </td><td>0.3126761</td></tr>\n",
       "\t<tr><th scope=row>1-2 years</th><td>1-2 years</td><td>0.4100719</td></tr>\n",
       "\t<tr><th scope=row>2-3 years</th><td>2-3 years</td><td>0.6760563</td></tr>\n",
       "\t<tr><th scope=row>3-4 years</th><td>3-4 years</td><td>0.8703704</td></tr>\n",
       "\t<tr><th scope=row>5 years</th><td>5 years  </td><td>0.1463415</td></tr>\n",
       "</tbody>\n",
       "</table>\n"
      ],
      "text/latex": [
       "A data.frame: 5 × 2\n",
       "\\begin{tabular}{r|ll}\n",
       "  & values & daycare\\\\\n",
       "  & <chr> & <dbl>\\\\\n",
       "\\hline\n",
       "\t0-1 year & 0-1 year  & 0.3126761\\\\\n",
       "\t1-2 years & 1-2 years & 0.4100719\\\\\n",
       "\t2-3 years & 2-3 years & 0.6760563\\\\\n",
       "\t3-4 years & 3-4 years & 0.8703704\\\\\n",
       "\t5 years & 5 years   & 0.1463415\\\\\n",
       "\\end{tabular}\n"
      ],
      "text/markdown": [
       "\n",
       "A data.frame: 5 × 2\n",
       "\n",
       "| <!--/--> | values &lt;chr&gt; | daycare &lt;dbl&gt; |\n",
       "|---|---|---|\n",
       "| 0-1 year | 0-1 year  | 0.3126761 |\n",
       "| 1-2 years | 1-2 years | 0.4100719 |\n",
       "| 2-3 years | 2-3 years | 0.6760563 |\n",
       "| 3-4 years | 3-4 years | 0.8703704 |\n",
       "| 5 years | 5 years   | 0.1463415 |\n",
       "\n"
      ],
      "text/plain": [
       "          values    daycare  \n",
       "0-1 year  0-1 year  0.3126761\n",
       "1-2 years 1-2 years 0.4100719\n",
       "2-3 years 2-3 years 0.6760563\n",
       "3-4 years 3-4 years 0.8703704\n",
       "5 years   5 years   0.1463415"
      ]
     },
     "metadata": {},
     "output_type": "display_data"
    },
    {
     "data": {
      "image/png": "[encoded data removed]",
      "text/plain": [
       "plot without title"
      ]
     },
     "metadata": {
      "image/png": {
       "height": 420,
       "width": 420
      }
     },
     "output_type": "display_data"
    }
   ],
   "source": [
    "tab <- table(rsv.data$age_years, rsv.data$Nursery)\n",
    "ptab <- prop.table(tab, margin=1)\n",
    "dframe <- data.frame(values=rownames(tab), daycare=ptab[,2])\n",
    "dframe\n",
    "#png(\"daycare_by_age.png\")\n",
    "p<-ggplot(data=dframe, aes(x=values, y=daycare, fill = values)) +\n",
    "  geom_bar(stat=\"identity\")+\n",
    "  theme_minimal()+\n",
    "  labs(title=\"Proportion attending day-care by age\",\n",
    "        x =\"Age in years\", y = \"Proportion in day-care\") + scale_fill_discrete(name=\"Age in years\")\n",
    "p\n",
    "#dev.off()"
   ]
  },
  {
   "cell_type": "code",
   "execution_count": 89,
   "id": "82ae1c81-1097-470a-8360-408b1402abe3",
   "metadata": {},
   "outputs": [
    {
     "data": {
      "text/html": [
       "<table class=\"dataframe\">\n",
       "<caption>A data.frame: 5 × 2</caption>\n",
       "<thead>\n",
       "\t<tr><th></th><th scope=col>values</th><th scope=col>daycare</th></tr>\n",
       "\t<tr><th></th><th scope=col>&lt;chr&gt;</th><th scope=col>&lt;dbl&gt;</th></tr>\n",
       "</thead>\n",
       "<tbody>\n",
       "\t<tr><th scope=row>0-1 year</th><td>0-1 year </td><td>0.5352113</td></tr>\n",
       "\t<tr><th scope=row>1-2 years</th><td>1-2 years</td><td>0.4950495</td></tr>\n",
       "\t<tr><th scope=row>2-3 years</th><td>2-3 years</td><td>0.6764706</td></tr>\n",
       "\t<tr><th scope=row>3-4 years</th><td>3-4 years</td><td>0.8703704</td></tr>\n",
       "\t<tr><th scope=row>5 years</th><td>5 years  </td><td>0.1463415</td></tr>\n",
       "</tbody>\n",
       "</table>\n"
      ],
      "text/latex": [
       "A data.frame: 5 × 2\n",
       "\\begin{tabular}{r|ll}\n",
       "  & values & daycare\\\\\n",
       "  & <chr> & <dbl>\\\\\n",
       "\\hline\n",
       "\t0-1 year & 0-1 year  & 0.5352113\\\\\n",
       "\t1-2 years & 1-2 years & 0.4950495\\\\\n",
       "\t2-3 years & 2-3 years & 0.6764706\\\\\n",
       "\t3-4 years & 3-4 years & 0.8703704\\\\\n",
       "\t5 years & 5 years   & 0.1463415\\\\\n",
       "\\end{tabular}\n"
      ],
      "text/markdown": [
       "\n",
       "A data.frame: 5 × 2\n",
       "\n",
       "| <!--/--> | values &lt;chr&gt; | daycare &lt;dbl&gt; |\n",
       "|---|---|---|\n",
       "| 0-1 year | 0-1 year  | 0.5352113 |\n",
       "| 1-2 years | 1-2 years | 0.4950495 |\n",
       "| 2-3 years | 2-3 years | 0.6764706 |\n",
       "| 3-4 years | 3-4 years | 0.8703704 |\n",
       "| 5 years | 5 years   | 0.1463415 |\n",
       "\n"
      ],
      "text/plain": [
       "          values    daycare  \n",
       "0-1 year  0-1 year  0.5352113\n",
       "1-2 years 1-2 years 0.4950495\n",
       "2-3 years 2-3 years 0.6764706\n",
       "3-4 years 3-4 years 0.8703704\n",
       "5 years   5 years   0.1463415"
      ]
     },
     "metadata": {},
     "output_type": "display_data"
    }
   ],
   "source": [
    "#Proportion infected attended daycare\n",
    "infected <- subset(rsv.data, infection == 1)\n",
    "tab <- table(infected$age_years, infected$Nursery)\n",
    "ptab <- prop.table(tab, margin=1)\n",
    "dframe <- data.frame(values=rownames(tab), daycare=ptab[,2])\n",
    "dframe"
   ]
  },
  {
   "cell_type": "code",
   "execution_count": 90,
   "id": "71158937-3111-4778-a2f9-850a658b1a5c",
   "metadata": {},
   "outputs": [
    {
     "data": {
      "text/html": [
       "<table class=\"dataframe\">\n",
       "<caption>A data.frame: 5 × 3</caption>\n",
       "<thead>\n",
       "\t<tr><th></th><th scope=col>values</th><th scope=col>daycare</th><th scope=col>inf</th></tr>\n",
       "\t<tr><th></th><th scope=col>&lt;chr&gt;</th><th scope=col>&lt;dbl&gt;</th><th scope=col>&lt;lgl&gt;</th></tr>\n",
       "</thead>\n",
       "<tbody>\n",
       "\t<tr><th scope=row>0-1 year</th><td>0-1 year </td><td>0.5352113</td><td>TRUE</td></tr>\n",
       "\t<tr><th scope=row>1-2 years</th><td>1-2 years</td><td>0.4950495</td><td>TRUE</td></tr>\n",
       "\t<tr><th scope=row>2-3 years</th><td>2-3 years</td><td>0.6764706</td><td>TRUE</td></tr>\n",
       "\t<tr><th scope=row>3-4 years</th><td>3-4 years</td><td>0.8703704</td><td>TRUE</td></tr>\n",
       "\t<tr><th scope=row>5 years</th><td>5 years  </td><td>0.1463415</td><td>TRUE</td></tr>\n",
       "</tbody>\n",
       "</table>\n"
      ],
      "text/latex": [
       "A data.frame: 5 × 3\n",
       "\\begin{tabular}{r|lll}\n",
       "  & values & daycare & inf\\\\\n",
       "  & <chr> & <dbl> & <lgl>\\\\\n",
       "\\hline\n",
       "\t0-1 year & 0-1 year  & 0.5352113 & TRUE\\\\\n",
       "\t1-2 years & 1-2 years & 0.4950495 & TRUE\\\\\n",
       "\t2-3 years & 2-3 years & 0.6764706 & TRUE\\\\\n",
       "\t3-4 years & 3-4 years & 0.8703704 & TRUE\\\\\n",
       "\t5 years & 5 years   & 0.1463415 & TRUE\\\\\n",
       "\\end{tabular}\n"
      ],
      "text/markdown": [
       "\n",
       "A data.frame: 5 × 3\n",
       "\n",
       "| <!--/--> | values &lt;chr&gt; | daycare &lt;dbl&gt; | inf &lt;lgl&gt; |\n",
       "|---|---|---|---|\n",
       "| 0-1 year | 0-1 year  | 0.5352113 | TRUE |\n",
       "| 1-2 years | 1-2 years | 0.4950495 | TRUE |\n",
       "| 2-3 years | 2-3 years | 0.6764706 | TRUE |\n",
       "| 3-4 years | 3-4 years | 0.8703704 | TRUE |\n",
       "| 5 years | 5 years   | 0.1463415 | TRUE |\n",
       "\n"
      ],
      "text/plain": [
       "          values    daycare   inf \n",
       "0-1 year  0-1 year  0.5352113 TRUE\n",
       "1-2 years 1-2 years 0.4950495 TRUE\n",
       "2-3 years 2-3 years 0.6764706 TRUE\n",
       "3-4 years 3-4 years 0.8703704 TRUE\n",
       "5 years   5 years   0.1463415 TRUE"
      ]
     },
     "metadata": {},
     "output_type": "display_data"
    }
   ],
   "source": [
    "inf <- c(TRUE,TRUE,TRUE,TRUE,TRUE)\n",
    "dframe <-cbind(dframe, inf)\n",
    "dframe"
   ]
  },
  {
   "cell_type": "code",
   "execution_count": 91,
   "id": "ea81a313-11df-41c8-896f-78f7c81a4e7e",
   "metadata": {},
   "outputs": [
    {
     "data": {
      "text/html": [
       "<table class=\"dataframe\">\n",
       "<caption>A data.frame: 5 × 2</caption>\n",
       "<thead>\n",
       "\t<tr><th></th><th scope=col>values</th><th scope=col>daycare</th></tr>\n",
       "\t<tr><th></th><th scope=col>&lt;chr&gt;</th><th scope=col>&lt;dbl&gt;</th></tr>\n",
       "</thead>\n",
       "<tbody>\n",
       "\t<tr><th scope=row>0-1 year</th><td>0-1 year </td><td>0.2570423</td></tr>\n",
       "\t<tr><th scope=row>1-2 years</th><td>1-2 years</td><td>0.1842105</td></tr>\n",
       "\t<tr><th scope=row>2-3 years</th><td>2-3 years</td><td>0.6666667</td></tr>\n",
       "\t<tr><th scope=row>3-4 years</th><td>3-4 years</td><td>      NaN</td></tr>\n",
       "\t<tr><th scope=row>5 years</th><td>5 years  </td><td>      NaN</td></tr>\n",
       "</tbody>\n",
       "</table>\n"
      ],
      "text/latex": [
       "A data.frame: 5 × 2\n",
       "\\begin{tabular}{r|ll}\n",
       "  & values & daycare\\\\\n",
       "  & <chr> & <dbl>\\\\\n",
       "\\hline\n",
       "\t0-1 year & 0-1 year  & 0.2570423\\\\\n",
       "\t1-2 years & 1-2 years & 0.1842105\\\\\n",
       "\t2-3 years & 2-3 years & 0.6666667\\\\\n",
       "\t3-4 years & 3-4 years &       NaN\\\\\n",
       "\t5 years & 5 years   &       NaN\\\\\n",
       "\\end{tabular}\n"
      ],
      "text/markdown": [
       "\n",
       "A data.frame: 5 × 2\n",
       "\n",
       "| <!--/--> | values &lt;chr&gt; | daycare &lt;dbl&gt; |\n",
       "|---|---|---|\n",
       "| 0-1 year | 0-1 year  | 0.2570423 |\n",
       "| 1-2 years | 1-2 years | 0.1842105 |\n",
       "| 2-3 years | 2-3 years | 0.6666667 |\n",
       "| 3-4 years | 3-4 years |       NaN |\n",
       "| 5 years | 5 years   |       NaN |\n",
       "\n"
      ],
      "text/plain": [
       "          values    daycare  \n",
       "0-1 year  0-1 year  0.2570423\n",
       "1-2 years 1-2 years 0.1842105\n",
       "2-3 years 2-3 years 0.6666667\n",
       "3-4 years 3-4 years       NaN\n",
       "5 years   5 years         NaN"
      ]
     },
     "metadata": {},
     "output_type": "display_data"
    }
   ],
   "source": [
    "#Proportion uninfected attended daycare\n",
    "infected <- subset(rsv.data, infection == 0)\n",
    "tab <- table(infected$age_years, infected$Nursery)\n",
    "ptab <- prop.table(tab, margin=1)\n",
    "dframe1 <- data.frame(values=rownames(tab), daycare=ptab[,2])\n",
    "dframe1"
   ]
  },
  {
   "cell_type": "code",
   "execution_count": 92,
   "id": "c3842d16-5741-458d-ba8a-c50b81cd7dfb",
   "metadata": {},
   "outputs": [],
   "source": [
    "for (d in seq_along(dframe1$values)){\n",
    "    if (dframe1$daycare[d] == 'NaN'){\n",
    "        dframe1$daycare[d] <- 0\n",
    "        }\n",
    "    }"
   ]
  },
  {
   "cell_type": "code",
   "execution_count": 93,
   "id": "228b4d5b-c7f3-4dc7-b21d-84728f5a3250",
   "metadata": {},
   "outputs": [
    {
     "data": {
      "text/html": [
       "<table class=\"dataframe\">\n",
       "<caption>A data.frame: 5 × 3</caption>\n",
       "<thead>\n",
       "\t<tr><th></th><th scope=col>values</th><th scope=col>daycare</th><th scope=col>inf</th></tr>\n",
       "\t<tr><th></th><th scope=col>&lt;chr&gt;</th><th scope=col>&lt;dbl&gt;</th><th scope=col>&lt;lgl&gt;</th></tr>\n",
       "</thead>\n",
       "<tbody>\n",
       "\t<tr><th scope=row>0-1 year</th><td>0-1 year </td><td>0.2570423</td><td>FALSE</td></tr>\n",
       "\t<tr><th scope=row>1-2 years</th><td>1-2 years</td><td>0.1842105</td><td>FALSE</td></tr>\n",
       "\t<tr><th scope=row>2-3 years</th><td>2-3 years</td><td>0.6666667</td><td>FALSE</td></tr>\n",
       "\t<tr><th scope=row>3-4 years</th><td>3-4 years</td><td>0.0000000</td><td>FALSE</td></tr>\n",
       "\t<tr><th scope=row>5 years</th><td>5 years  </td><td>0.0000000</td><td>FALSE</td></tr>\n",
       "</tbody>\n",
       "</table>\n"
      ],
      "text/latex": [
       "A data.frame: 5 × 3\n",
       "\\begin{tabular}{r|lll}\n",
       "  & values & daycare & inf\\\\\n",
       "  & <chr> & <dbl> & <lgl>\\\\\n",
       "\\hline\n",
       "\t0-1 year & 0-1 year  & 0.2570423 & FALSE\\\\\n",
       "\t1-2 years & 1-2 years & 0.1842105 & FALSE\\\\\n",
       "\t2-3 years & 2-3 years & 0.6666667 & FALSE\\\\\n",
       "\t3-4 years & 3-4 years & 0.0000000 & FALSE\\\\\n",
       "\t5 years & 5 years   & 0.0000000 & FALSE\\\\\n",
       "\\end{tabular}\n"
      ],
      "text/markdown": [
       "\n",
       "A data.frame: 5 × 3\n",
       "\n",
       "| <!--/--> | values &lt;chr&gt; | daycare &lt;dbl&gt; | inf &lt;lgl&gt; |\n",
       "|---|---|---|---|\n",
       "| 0-1 year | 0-1 year  | 0.2570423 | FALSE |\n",
       "| 1-2 years | 1-2 years | 0.1842105 | FALSE |\n",
       "| 2-3 years | 2-3 years | 0.6666667 | FALSE |\n",
       "| 3-4 years | 3-4 years | 0.0000000 | FALSE |\n",
       "| 5 years | 5 years   | 0.0000000 | FALSE |\n",
       "\n"
      ],
      "text/plain": [
       "          values    daycare   inf  \n",
       "0-1 year  0-1 year  0.2570423 FALSE\n",
       "1-2 years 1-2 years 0.1842105 FALSE\n",
       "2-3 years 2-3 years 0.6666667 FALSE\n",
       "3-4 years 3-4 years 0.0000000 FALSE\n",
       "5 years   5 years   0.0000000 FALSE"
      ]
     },
     "metadata": {},
     "output_type": "display_data"
    }
   ],
   "source": [
    "inf <- c(FALSE,FALSE,FALSE,FALSE,FALSE)\n",
    "dframe1 <-cbind(dframe1, inf)\n",
    "dframe1"
   ]
  },
  {
   "cell_type": "code",
   "execution_count": 94,
   "id": "49c7401e-47b0-418f-93b0-29c88211ad39",
   "metadata": {},
   "outputs": [
    {
     "data": {
      "text/html": [
       "<table class=\"dataframe\">\n",
       "<caption>A data.frame: 10 × 3</caption>\n",
       "<thead>\n",
       "\t<tr><th></th><th scope=col>values</th><th scope=col>daycare</th><th scope=col>inf</th></tr>\n",
       "\t<tr><th></th><th scope=col>&lt;chr&gt;</th><th scope=col>&lt;dbl&gt;</th><th scope=col>&lt;lgl&gt;</th></tr>\n",
       "</thead>\n",
       "<tbody>\n",
       "\t<tr><th scope=row>0-1 year</th><td>0-1 year </td><td>0.5352113</td><td> TRUE</td></tr>\n",
       "\t<tr><th scope=row>1-2 years</th><td>1-2 years</td><td>0.4950495</td><td> TRUE</td></tr>\n",
       "\t<tr><th scope=row>2-3 years</th><td>2-3 years</td><td>0.6764706</td><td> TRUE</td></tr>\n",
       "\t<tr><th scope=row>3-4 years</th><td>3-4 years</td><td>0.8703704</td><td> TRUE</td></tr>\n",
       "\t<tr><th scope=row>5 years</th><td>5 years  </td><td>0.1463415</td><td> TRUE</td></tr>\n",
       "\t<tr><th scope=row>0-1 year1</th><td>0-1 year </td><td>0.2570423</td><td>FALSE</td></tr>\n",
       "\t<tr><th scope=row>1-2 years1</th><td>1-2 years</td><td>0.1842105</td><td>FALSE</td></tr>\n",
       "\t<tr><th scope=row>2-3 years1</th><td>2-3 years</td><td>0.6666667</td><td>FALSE</td></tr>\n",
       "\t<tr><th scope=row>3-4 years1</th><td>3-4 years</td><td>0.0000000</td><td>FALSE</td></tr>\n",
       "\t<tr><th scope=row>5 years1</th><td>5 years  </td><td>0.0000000</td><td>FALSE</td></tr>\n",
       "</tbody>\n",
       "</table>\n"
      ],
      "text/latex": [
       "A data.frame: 10 × 3\n",
       "\\begin{tabular}{r|lll}\n",
       "  & values & daycare & inf\\\\\n",
       "  & <chr> & <dbl> & <lgl>\\\\\n",
       "\\hline\n",
       "\t0-1 year & 0-1 year  & 0.5352113 &  TRUE\\\\\n",
       "\t1-2 years & 1-2 years & 0.4950495 &  TRUE\\\\\n",
       "\t2-3 years & 2-3 years & 0.6764706 &  TRUE\\\\\n",
       "\t3-4 years & 3-4 years & 0.8703704 &  TRUE\\\\\n",
       "\t5 years & 5 years   & 0.1463415 &  TRUE\\\\\n",
       "\t0-1 year1 & 0-1 year  & 0.2570423 & FALSE\\\\\n",
       "\t1-2 years1 & 1-2 years & 0.1842105 & FALSE\\\\\n",
       "\t2-3 years1 & 2-3 years & 0.6666667 & FALSE\\\\\n",
       "\t3-4 years1 & 3-4 years & 0.0000000 & FALSE\\\\\n",
       "\t5 years1 & 5 years   & 0.0000000 & FALSE\\\\\n",
       "\\end{tabular}\n"
      ],
      "text/markdown": [
       "\n",
       "A data.frame: 10 × 3\n",
       "\n",
       "| <!--/--> | values &lt;chr&gt; | daycare &lt;dbl&gt; | inf &lt;lgl&gt; |\n",
       "|---|---|---|---|\n",
       "| 0-1 year | 0-1 year  | 0.5352113 |  TRUE |\n",
       "| 1-2 years | 1-2 years | 0.4950495 |  TRUE |\n",
       "| 2-3 years | 2-3 years | 0.6764706 |  TRUE |\n",
       "| 3-4 years | 3-4 years | 0.8703704 |  TRUE |\n",
       "| 5 years | 5 years   | 0.1463415 |  TRUE |\n",
       "| 0-1 year1 | 0-1 year  | 0.2570423 | FALSE |\n",
       "| 1-2 years1 | 1-2 years | 0.1842105 | FALSE |\n",
       "| 2-3 years1 | 2-3 years | 0.6666667 | FALSE |\n",
       "| 3-4 years1 | 3-4 years | 0.0000000 | FALSE |\n",
       "| 5 years1 | 5 years   | 0.0000000 | FALSE |\n",
       "\n"
      ],
      "text/plain": [
       "           values    daycare   inf  \n",
       "0-1 year   0-1 year  0.5352113  TRUE\n",
       "1-2 years  1-2 years 0.4950495  TRUE\n",
       "2-3 years  2-3 years 0.6764706  TRUE\n",
       "3-4 years  3-4 years 0.8703704  TRUE\n",
       "5 years    5 years   0.1463415  TRUE\n",
       "0-1 year1  0-1 year  0.2570423 FALSE\n",
       "1-2 years1 1-2 years 0.1842105 FALSE\n",
       "2-3 years1 2-3 years 0.6666667 FALSE\n",
       "3-4 years1 3-4 years 0.0000000 FALSE\n",
       "5 years1   5 years   0.0000000 FALSE"
      ]
     },
     "metadata": {},
     "output_type": "display_data"
    }
   ],
   "source": [
    "dframe <-rbind(dframe, dframe1)\n",
    "dframe"
   ]
  },
  {
   "cell_type": "code",
   "execution_count": 99,
   "id": "04a00e9f-b16f-4849-8e0f-16ee951bc308",
   "metadata": {},
   "outputs": [
    {
     "data": {
      "image/png": "[encoded data removed]",
      "text/plain": [
       "plot without title"
      ]
     },
     "metadata": {
      "image/png": {
       "height": 420,
       "width": 420
      }
     },
     "output_type": "display_data"
    }
   ],
   "source": [
    "#png(\"daycare_by_age_and_infections.png\")\n",
    "p<-ggplot(data=dframe, aes(x=values, y=daycare, fill = factor(inf))) +\n",
    "  geom_bar(position = 'dodge', stat=\"identity\")+\n",
    "  theme_minimal()+\n",
    "  labs(title=\"Proportion attending day-care by age\",\n",
    "        x =\"Age in years\", y = \"Proportion in day-care\", fill = \"Infection status\") \n",
    "p\n",
    "#dev.off()"
   ]
  },
  {
   "cell_type": "markdown",
   "id": "63eb1c67-891f-4f3a-bc90-4edd44ee51d0",
   "metadata": {},
   "source": [
    "**Correlation between daycare and contacts**"
   ]
  },
  {
   "cell_type": "code",
   "execution_count": 109,
   "id": "f694f6d7-dfc2-477a-bc4d-6965212c7ac2",
   "metadata": {},
   "outputs": [
    {
     "data": {
      "image/png": "[encoded data removed]",
      "text/plain": [
       "plot without title"
      ]
     },
     "metadata": {
      "image/png": {
       "height": 420,
       "width": 420
      }
     },
     "output_type": "display_data"
    }
   ],
   "source": [
    "#png(\"boxplot_contacts_by_age_and_daycare.png\")\n",
    "rsv.data %>% filter(complete.cases(contacttotal)) %>% \n",
    "filter(complete.cases(Nursery))%>%\n",
    "group_by(age_years) %>% \n",
    "ggplot(aes(x=age_years,y=contacttotal,fill=factor(Nursery)))+geom_boxplot()+\n",
    "labs(title=\"Total number of contacts by age and daycare attendance\",\n",
    "        x =\"Age in years\", y = \"Total contacts\", fill = \"Daycare attendance\") \n",
    "#dev.off()"
   ]
  },
  {
   "cell_type": "markdown",
   "id": "d49f4175-c5c6-4b96-8422-d703cd26e729",
   "metadata": {},
   "source": [
    "## 2006-2007 cohort ##"
   ]
  },
  {
   "cell_type": "code",
   "execution_count": 12,
   "id": "a56187de-25ab-40c8-84a4-b2f495fef9c6",
   "metadata": {},
   "outputs": [
    {
     "data": {
      "text/html": [
       "<table class=\"dataframe\">\n",
       "<caption>A tibble: 6 × 39</caption>\n",
       "<thead>\n",
       "\t<tr><th scope=col>age_days</th><th scope=col>birthday</th><th scope=col>consultdate</th><th scope=col>infection</th><th scope=col>IgG_PreF</th><th scope=col>IgA_PreF</th><th scope=col>IgG_PostF</th><th scope=col>IgA_PostF</th><th scope=col>IgG_Ga</th><th scope=col>IgA_Ga</th><th scope=col>⋯</th><th scope=col>age_years</th><th scope=col>seasons</th><th scope=col>cohort</th><th scope=col>season_birth</th><th scope=col>nursery_house</th><th scope=col>pre_term</th><th scope=col>total_cont</th><th scope=col>total_cont04</th><th scope=col>total_cont59</th><th scope=col>age_at_consul</th></tr>\n",
       "\t<tr><th scope=col>&lt;dbl&gt;</th><th scope=col>&lt;date&gt;</th><th scope=col>&lt;date&gt;</th><th scope=col>&lt;dbl&gt;</th><th scope=col>&lt;dbl&gt;</th><th scope=col>&lt;dbl&gt;</th><th scope=col>&lt;dbl&gt;</th><th scope=col>&lt;dbl&gt;</th><th scope=col>&lt;dbl&gt;</th><th scope=col>&lt;dbl&gt;</th><th scope=col>⋯</th><th scope=col>&lt;fct&gt;</th><th scope=col>&lt;chr&gt;</th><th scope=col>&lt;chr&gt;</th><th scope=col>&lt;chr&gt;</th><th scope=col>&lt;fct&gt;</th><th scope=col>&lt;fct&gt;</th><th scope=col>&lt;chr&gt;</th><th scope=col>&lt;chr&gt;</th><th scope=col>&lt;chr&gt;</th><th scope=col>&lt;dbl&gt;</th></tr>\n",
       "</thead>\n",
       "<tbody>\n",
       "\t<tr><td> 676</td><td>2004-04-01</td><td>2006-02-06</td><td>1</td><td>   0.3565</td><td> 0.60</td><td>   9.3264</td><td> 0.08</td><td> 0.260000</td><td>0.01</td><td>⋯</td><td>1-2 years</td><td>2005/2006</td><td>2006/2007</td><td>Spring</td><td>False</td><td>NA</td><td>3-5  </td><td>1-2  </td><td>0  </td><td> 676</td></tr>\n",
       "\t<tr><td> 600</td><td>2004-07-23</td><td>2006-03-15</td><td>1</td><td> 772.3431</td><td>33.15</td><td> 473.5323</td><td>14.52</td><td> 3.130699</td><td>0.02</td><td>⋯</td><td>1-2 years</td><td>2005/2006</td><td>2006/2007</td><td>Summer</td><td>False</td><td>NA</td><td>21-50</td><td>11-20</td><td>0  </td><td> 600</td></tr>\n",
       "\t<tr><td> 588</td><td>2004-08-09</td><td>2006-03-20</td><td>0</td><td>   0.1800</td><td> 0.03</td><td>   0.2100</td><td> 0.19</td><td> 0.580000</td><td>0.03</td><td>⋯</td><td>1-2 years</td><td>2005/2006</td><td>2006/2007</td><td>Summer</td><td>False</td><td>NA</td><td>3-5  </td><td>1-2  </td><td>0  </td><td> 588</td></tr>\n",
       "\t<tr><td> 591</td><td>2004-08-06</td><td>2006-03-20</td><td>1</td><td> 740.2907</td><td>70.38</td><td> 466.2055</td><td>49.78</td><td> 1.886910</td><td>0.05</td><td>⋯</td><td>1-2 years</td><td>2005/2006</td><td>2006/2007</td><td>Summer</td><td>False</td><td>NA</td><td>1-2  </td><td>0    </td><td>0  </td><td> 591</td></tr>\n",
       "\t<tr><td>1184</td><td>2002-12-29</td><td>2006-03-27</td><td>1</td><td>1999.2353</td><td>   NA</td><td>1459.5921</td><td>   NA</td><td>55.896003</td><td>  NA</td><td>⋯</td><td>3-4 years</td><td>2005/2006</td><td>2006/2007</td><td>Winter</td><td>False</td><td>NA</td><td>6-10 </td><td>1-2  </td><td>3-5</td><td>1184</td></tr>\n",
       "\t<tr><td> 686</td><td>2004-05-12</td><td>2006-03-29</td><td>1</td><td> 807.2200</td><td>   NA</td><td> 838.7400</td><td>   NA</td><td>15.000000</td><td>  NA</td><td>⋯</td><td>1-2 years</td><td>2005/2006</td><td>2006/2007</td><td>Spring</td><td>False</td><td>NA</td><td>1-2  </td><td>0    </td><td>0  </td><td> 686</td></tr>\n",
       "</tbody>\n",
       "</table>\n"
      ],
      "text/latex": [
       "A tibble: 6 × 39\n",
       "\\begin{tabular}{lllllllllllllllllllll}\n",
       " age\\_days & birthday & consultdate & infection & IgG\\_PreF & IgA\\_PreF & IgG\\_PostF & IgA\\_PostF & IgG\\_Ga & IgA\\_Ga & ⋯ & age\\_years & seasons & cohort & season\\_birth & nursery\\_house & pre\\_term & total\\_cont & total\\_cont04 & total\\_cont59 & age\\_at\\_consul\\\\\n",
       " <dbl> & <date> & <date> & <dbl> & <dbl> & <dbl> & <dbl> & <dbl> & <dbl> & <dbl> & ⋯ & <fct> & <chr> & <chr> & <chr> & <fct> & <fct> & <chr> & <chr> & <chr> & <dbl>\\\\\n",
       "\\hline\n",
       "\t  676 & 2004-04-01 & 2006-02-06 & 1 &    0.3565 &  0.60 &    9.3264 &  0.08 &  0.260000 & 0.01 & ⋯ & 1-2 years & 2005/2006 & 2006/2007 & Spring & False & NA & 3-5   & 1-2   & 0   &  676\\\\\n",
       "\t  600 & 2004-07-23 & 2006-03-15 & 1 &  772.3431 & 33.15 &  473.5323 & 14.52 &  3.130699 & 0.02 & ⋯ & 1-2 years & 2005/2006 & 2006/2007 & Summer & False & NA & 21-50 & 11-20 & 0   &  600\\\\\n",
       "\t  588 & 2004-08-09 & 2006-03-20 & 0 &    0.1800 &  0.03 &    0.2100 &  0.19 &  0.580000 & 0.03 & ⋯ & 1-2 years & 2005/2006 & 2006/2007 & Summer & False & NA & 3-5   & 1-2   & 0   &  588\\\\\n",
       "\t  591 & 2004-08-06 & 2006-03-20 & 1 &  740.2907 & 70.38 &  466.2055 & 49.78 &  1.886910 & 0.05 & ⋯ & 1-2 years & 2005/2006 & 2006/2007 & Summer & False & NA & 1-2   & 0     & 0   &  591\\\\\n",
       "\t 1184 & 2002-12-29 & 2006-03-27 & 1 & 1999.2353 &    NA & 1459.5921 &    NA & 55.896003 &   NA & ⋯ & 3-4 years & 2005/2006 & 2006/2007 & Winter & False & NA & 6-10  & 1-2   & 3-5 & 1184\\\\\n",
       "\t  686 & 2004-05-12 & 2006-03-29 & 1 &  807.2200 &    NA &  838.7400 &    NA & 15.000000 &   NA & ⋯ & 1-2 years & 2005/2006 & 2006/2007 & Spring & False & NA & 1-2   & 0     & 0   &  686\\\\\n",
       "\\end{tabular}\n"
      ],
      "text/markdown": [
       "\n",
       "A tibble: 6 × 39\n",
       "\n",
       "| age_days &lt;dbl&gt; | birthday &lt;date&gt; | consultdate &lt;date&gt; | infection &lt;dbl&gt; | IgG_PreF &lt;dbl&gt; | IgA_PreF &lt;dbl&gt; | IgG_PostF &lt;dbl&gt; | IgA_PostF &lt;dbl&gt; | IgG_Ga &lt;dbl&gt; | IgA_Ga &lt;dbl&gt; | ⋯ ⋯ | age_years &lt;fct&gt; | seasons &lt;chr&gt; | cohort &lt;chr&gt; | season_birth &lt;chr&gt; | nursery_house &lt;fct&gt; | pre_term &lt;fct&gt; | total_cont &lt;chr&gt; | total_cont04 &lt;chr&gt; | total_cont59 &lt;chr&gt; | age_at_consul &lt;dbl&gt; |\n",
       "|---|---|---|---|---|---|---|---|---|---|---|---|---|---|---|---|---|---|---|---|---|\n",
       "|  676 | 2004-04-01 | 2006-02-06 | 1 |    0.3565 |  0.60 |    9.3264 |  0.08 |  0.260000 | 0.01 | ⋯ | 1-2 years | 2005/2006 | 2006/2007 | Spring | False | NA | 3-5   | 1-2   | 0   |  676 |\n",
       "|  600 | 2004-07-23 | 2006-03-15 | 1 |  772.3431 | 33.15 |  473.5323 | 14.52 |  3.130699 | 0.02 | ⋯ | 1-2 years | 2005/2006 | 2006/2007 | Summer | False | NA | 21-50 | 11-20 | 0   |  600 |\n",
       "|  588 | 2004-08-09 | 2006-03-20 | 0 |    0.1800 |  0.03 |    0.2100 |  0.19 |  0.580000 | 0.03 | ⋯ | 1-2 years | 2005/2006 | 2006/2007 | Summer | False | NA | 3-5   | 1-2   | 0   |  588 |\n",
       "|  591 | 2004-08-06 | 2006-03-20 | 1 |  740.2907 | 70.38 |  466.2055 | 49.78 |  1.886910 | 0.05 | ⋯ | 1-2 years | 2005/2006 | 2006/2007 | Summer | False | NA | 1-2   | 0     | 0   |  591 |\n",
       "| 1184 | 2002-12-29 | 2006-03-27 | 1 | 1999.2353 |    NA | 1459.5921 |    NA | 55.896003 |   NA | ⋯ | 3-4 years | 2005/2006 | 2006/2007 | Winter | False | NA | 6-10  | 1-2   | 3-5 | 1184 |\n",
       "|  686 | 2004-05-12 | 2006-03-29 | 1 |  807.2200 |    NA |  838.7400 |    NA | 15.000000 |   NA | ⋯ | 1-2 years | 2005/2006 | 2006/2007 | Spring | False | NA | 1-2   | 0     | 0   |  686 |\n",
       "\n"
      ],
      "text/plain": [
       "  age_days birthday   consultdate infection IgG_PreF  IgA_PreF IgG_PostF\n",
       "1  676     2004-04-01 2006-02-06  1            0.3565  0.60       9.3264\n",
       "2  600     2004-07-23 2006-03-15  1          772.3431 33.15     473.5323\n",
       "3  588     2004-08-09 2006-03-20  0            0.1800  0.03       0.2100\n",
       "4  591     2004-08-06 2006-03-20  1          740.2907 70.38     466.2055\n",
       "5 1184     2002-12-29 2006-03-27  1         1999.2353    NA    1459.5921\n",
       "6  686     2004-05-12 2006-03-29  1          807.2200    NA     838.7400\n",
       "  IgA_PostF IgG_Ga    IgA_Ga <U+22EF>        age_years seasons   cohort   \n",
       "1  0.08      0.260000 0.01   <U+22EF> 1-2 years 2005/2006 2006/2007\n",
       "2 14.52      3.130699 0.02   <U+22EF> 1-2 years 2005/2006 2006/2007\n",
       "3  0.19      0.580000 0.03   <U+22EF> 1-2 years 2005/2006 2006/2007\n",
       "4 49.78      1.886910 0.05   <U+22EF> 1-2 years 2005/2006 2006/2007\n",
       "5    NA     55.896003   NA   <U+22EF> 3-4 years 2005/2006 2006/2007\n",
       "6    NA     15.000000   NA   <U+22EF> 1-2 years 2005/2006 2006/2007\n",
       "  season_birth nursery_house pre_term total_cont total_cont04 total_cont59\n",
       "1 Spring       False         NA       3-5        1-2          0           \n",
       "2 Summer       False         NA       21-50      11-20        0           \n",
       "3 Summer       False         NA       3-5        1-2          0           \n",
       "4 Summer       False         NA       1-2        0            0           \n",
       "5 Winter       False         NA       6-10       1-2          3-5         \n",
       "6 Spring       False         NA       1-2        0            0           \n",
       "  age_at_consul\n",
       "1  676         \n",
       "2  600         \n",
       "3  588         \n",
       "4  591         \n",
       "5 1184         \n",
       "6  686         "
      ]
     },
     "metadata": {},
     "output_type": "display_data"
    }
   ],
   "source": [
    "cohort_1 <- subset(rsv.data, cohort == '2006/2007')\n",
    "head(cohort_1)"
   ]
  },
  {
   "cell_type": "code",
   "execution_count": 35,
   "id": "b6bc6374-8166-42ef-801b-567cb5d0dc7a",
   "metadata": {},
   "outputs": [
    {
     "data": {
      "text/plain": [
       "age_years\n",
       " 0-1 year 1-2 years 2-3 years 3-4 years   5 years \n",
       "      219        79        20        18        21 "
      ]
     },
     "metadata": {},
     "output_type": "display_data"
    }
   ],
   "source": [
    "cohort_1 %$% table(age_years, useNA = \"ifany\")"
   ]
  },
  {
   "cell_type": "code",
   "execution_count": 36,
   "id": "af89f161-c926-4c6b-8feb-34b737c26cc3",
   "metadata": {},
   "outputs": [
    {
     "data": {
      "text/plain": [
       "season_birth\n",
       "Autumn Spring Summer Winter \n",
       "    87     91     96     83 "
      ]
     },
     "metadata": {},
     "output_type": "display_data"
    }
   ],
   "source": [
    "cohort_1 %$% table(season_birth, useNA = \"ifany\")"
   ]
  },
  {
   "cell_type": "code",
   "execution_count": 37,
   "id": "3d817fdd-af8b-4fac-80da-e8b0a8ad45b2",
   "metadata": {},
   "outputs": [
    {
     "data": {
      "text/plain": [
       "Siblings04\n",
       "False  True  <NA> \n",
       "  169   169    19 "
      ]
     },
     "metadata": {},
     "output_type": "display_data"
    }
   ],
   "source": [
    "cohort_1 %$% table(Siblings04, useNA = \"ifany\")"
   ]
  },
  {
   "cell_type": "code",
   "execution_count": 38,
   "id": "9e1824ee-1ef0-44c4-9268-166aa6d5cbcb",
   "metadata": {},
   "outputs": [
    {
     "data": {
      "text/plain": [
       "Siblings59\n",
       "False  True \n",
       "  262    95 "
      ]
     },
     "metadata": {},
     "output_type": "display_data"
    }
   ],
   "source": [
    "cohort_1 %$% table(Siblings59, useNA = \"ifany\")"
   ]
  },
  {
   "cell_type": "code",
   "execution_count": 39,
   "id": "c4f9fb76-88b7-4b02-9f00-c7424543be88",
   "metadata": {},
   "outputs": [
    {
     "data": {
      "text/plain": [
       "Nursery\n",
       "False  True  <NA> \n",
       "  235   120     2 "
      ]
     },
     "metadata": {},
     "output_type": "display_data"
    }
   ],
   "source": [
    "cohort_1 %$% table(Nursery, useNA = \"ifany\")"
   ]
  },
  {
   "cell_type": "code",
   "execution_count": 40,
   "id": "2fac3449-08a8-46b1-bdee-90acbdba3a5e",
   "metadata": {},
   "outputs": [
    {
     "data": {
      "text/plain": [
       "nursery_house\n",
       "False  True  <NA> \n",
       "  236   117     4 "
      ]
     },
     "metadata": {},
     "output_type": "display_data"
    }
   ],
   "source": [
    "cohort_1 %$% table(nursery_house, useNA = \"ifany\")"
   ]
  },
  {
   "cell_type": "code",
   "execution_count": 41,
   "id": "1f16f460-e68c-4325-8082-8a0b8d0a6162",
   "metadata": {},
   "outputs": [
    {
     "data": {
      "text/plain": [
       "pre_term\n",
       "False  True  <NA> \n",
       "    0     0   357 "
      ]
     },
     "metadata": {},
     "output_type": "display_data"
    }
   ],
   "source": [
    "cohort_1 %$% table(pre_term, useNA = \"ifany\")"
   ]
  },
  {
   "cell_type": "code",
   "execution_count": 42,
   "id": "2403563e-458b-48a1-88a9-7a33587c71b8",
   "metadata": {},
   "outputs": [
    {
     "data": {
      "text/plain": [
       "sex\n",
       "  1   2 \n",
       "195 162 "
      ]
     },
     "metadata": {},
     "output_type": "display_data"
    }
   ],
   "source": [
    "cohort_1 %$% table(sex, useNA = \"ifany\")"
   ]
  },
  {
   "cell_type": "code",
   "execution_count": 43,
   "id": "453c3f67-3ba1-4146-8b19-ee2babdcd515",
   "metadata": {},
   "outputs": [
    {
     "data": {
      "text/plain": [
       "total_cont\n",
       "    0   1-2 11-20 21-50   3-5   50+  6-10  <NA> \n",
       "   16    45    37    19    72     1    73    94 "
      ]
     },
     "metadata": {},
     "output_type": "display_data"
    }
   ],
   "source": [
    "cohort_1 %$% table(total_cont, useNA = \"ifany\")"
   ]
  },
  {
   "cell_type": "code",
   "execution_count": 44,
   "id": "c5834bfd-accb-41ba-9d52-9d2c461cf758",
   "metadata": {},
   "outputs": [
    {
     "data": {
      "text/plain": [
       "total_cont04\n",
       "    0   1-2 11-20 21-40   3-5  6-10  <NA> \n",
       "  107    83    13     2    31    27    94 "
      ]
     },
     "metadata": {},
     "output_type": "display_data"
    }
   ],
   "source": [
    "cohort_1 %$% table(total_cont04, useNA = \"ifany\")"
   ]
  },
  {
   "cell_type": "code",
   "execution_count": 45,
   "id": "f4048383-0918-41af-9a72-247863f85988",
   "metadata": {},
   "outputs": [
    {
     "data": {
      "text/plain": [
       "total_cont59\n",
       "    0   1-2 11-20 21-50   3-5  6-10  <NA> \n",
       "  190    49     4     1    15     4    94 "
      ]
     },
     "metadata": {},
     "output_type": "display_data"
    }
   ],
   "source": [
    "cohort_1 %$% table(total_cont59, useNA = \"ifany\")"
   ]
  },
  {
   "cell_type": "code",
   "execution_count": 46,
   "id": "54c0c6fb-2f61-44fd-98a2-55849a05ffe9",
   "metadata": {},
   "outputs": [
    {
     "data": {
      "text/plain": [
       "infection\n",
       "  0   1 \n",
       "189 168 "
      ]
     },
     "metadata": {},
     "output_type": "display_data"
    }
   ],
   "source": [
    "cohort_1 %$% table(infection, useNA = \"ifany\")"
   ]
  },
  {
   "cell_type": "code",
   "execution_count": 47,
   "id": "9d51ebeb-f475-417e-8323-7d502de3d55f",
   "metadata": {},
   "outputs": [
    {
     "data": {
      "text/plain": [
       "   Min. 1st Qu.  Median    Mean 3rd Qu.    Max. \n",
       "   36.0   192.0   316.0   470.1   608.0  1843.0 "
      ]
     },
     "metadata": {},
     "output_type": "display_data"
    }
   ],
   "source": [
    "summary(cohort_1$age_days)"
   ]
  },
  {
   "cell_type": "markdown",
   "id": "60433783-b41d-46c2-b38f-e32723cdfc13",
   "metadata": {},
   "source": [
    "## 2016-2017 cohort ##"
   ]
  },
  {
   "cell_type": "code",
   "execution_count": 13,
   "id": "7d48e8c5-a690-4d89-9d63-c77d384db52a",
   "metadata": {},
   "outputs": [
    {
     "data": {
      "text/html": [
       "<table class=\"dataframe\">\n",
       "<caption>A tibble: 6 × 39</caption>\n",
       "<thead>\n",
       "\t<tr><th scope=col>age_days</th><th scope=col>birthday</th><th scope=col>consultdate</th><th scope=col>infection</th><th scope=col>IgG_PreF</th><th scope=col>IgA_PreF</th><th scope=col>IgG_PostF</th><th scope=col>IgA_PostF</th><th scope=col>IgG_Ga</th><th scope=col>IgA_Ga</th><th scope=col>⋯</th><th scope=col>age_years</th><th scope=col>seasons</th><th scope=col>cohort</th><th scope=col>season_birth</th><th scope=col>nursery_house</th><th scope=col>pre_term</th><th scope=col>total_cont</th><th scope=col>total_cont04</th><th scope=col>total_cont59</th><th scope=col>age_at_consul</th></tr>\n",
       "\t<tr><th scope=col>&lt;dbl&gt;</th><th scope=col>&lt;date&gt;</th><th scope=col>&lt;date&gt;</th><th scope=col>&lt;dbl&gt;</th><th scope=col>&lt;dbl&gt;</th><th scope=col>&lt;dbl&gt;</th><th scope=col>&lt;dbl&gt;</th><th scope=col>&lt;dbl&gt;</th><th scope=col>&lt;dbl&gt;</th><th scope=col>&lt;dbl&gt;</th><th scope=col>⋯</th><th scope=col>&lt;fct&gt;</th><th scope=col>&lt;chr&gt;</th><th scope=col>&lt;chr&gt;</th><th scope=col>&lt;chr&gt;</th><th scope=col>&lt;fct&gt;</th><th scope=col>&lt;fct&gt;</th><th scope=col>&lt;chr&gt;</th><th scope=col>&lt;chr&gt;</th><th scope=col>&lt;chr&gt;</th><th scope=col>&lt;dbl&gt;</th></tr>\n",
       "</thead>\n",
       "<tbody>\n",
       "\t<tr><td> 713</td><td>2014-03-04</td><td>2016-02-15</td><td>0</td><td>  0.1000</td><td>  NA</td><td>  1.93</td><td>  NA</td><td>0.90</td><td>  NA</td><td>⋯</td><td>1-2 years</td><td>2015/2016</td><td>2016/2017</td><td>Spring</td><td>False</td><td>False</td><td>0  </td><td>0 </td><td>0  </td><td> 713</td></tr>\n",
       "\t<tr><td>1066</td><td>2013-03-16</td><td>2016-02-15</td><td>1</td><td>181.8966</td><td>1.37</td><td>731.38</td><td>5.35</td><td>1.94</td><td>0.51</td><td>⋯</td><td>2-3 years</td><td>2015/2016</td><td>2016/2017</td><td>Spring</td><td>False</td><td>False</td><td>0  </td><td>0 </td><td>0  </td><td>1066</td></tr>\n",
       "\t<tr><td> 735</td><td>2014-03-19</td><td>2016-03-23</td><td>1</td><td> 98.8800</td><td>0.36</td><td>101.20</td><td>0.59</td><td>0.31</td><td>0.02</td><td>⋯</td><td>2-3 years</td><td>2015/2016</td><td>2016/2017</td><td>Spring</td><td>NA   </td><td>NA   </td><td>NA </td><td>NA</td><td>NA </td><td> 735</td></tr>\n",
       "\t<tr><td> 991</td><td>2013-07-25</td><td>2016-04-11</td><td>0</td><td>  0.2600</td><td>0.02</td><td>  0.94</td><td>0.08</td><td>0.23</td><td>0.02</td><td>⋯</td><td>2-3 years</td><td>2015/2016</td><td>2016/2017</td><td>Summer</td><td>False</td><td>False</td><td>1-2</td><td>0 </td><td>1-2</td><td> 991</td></tr>\n",
       "\t<tr><td>1714</td><td>2011-08-04</td><td>2016-04-13</td><td>1</td><td>461.1900</td><td>8.14</td><td>156.17</td><td>4.32</td><td>6.66</td><td>7.22</td><td>⋯</td><td>5 years  </td><td>2015/2016</td><td>2016/2017</td><td>Summer</td><td>False</td><td>False</td><td>0  </td><td>NA</td><td>NA </td><td>1714</td></tr>\n",
       "\t<tr><td> 734</td><td>2014-05-15</td><td>2016-05-18</td><td>1</td><td> 77.0200</td><td>0.54</td><td>281.68</td><td>1.35</td><td>0.80</td><td>0.14</td><td>⋯</td><td>2-3 years</td><td>2015/2016</td><td>2016/2017</td><td>Spring</td><td>False</td><td>NA   </td><td>0  </td><td>NA</td><td>NA </td><td> 734</td></tr>\n",
       "</tbody>\n",
       "</table>\n"
      ],
      "text/latex": [
       "A tibble: 6 × 39\n",
       "\\begin{tabular}{lllllllllllllllllllll}\n",
       " age\\_days & birthday & consultdate & infection & IgG\\_PreF & IgA\\_PreF & IgG\\_PostF & IgA\\_PostF & IgG\\_Ga & IgA\\_Ga & ⋯ & age\\_years & seasons & cohort & season\\_birth & nursery\\_house & pre\\_term & total\\_cont & total\\_cont04 & total\\_cont59 & age\\_at\\_consul\\\\\n",
       " <dbl> & <date> & <date> & <dbl> & <dbl> & <dbl> & <dbl> & <dbl> & <dbl> & <dbl> & ⋯ & <fct> & <chr> & <chr> & <chr> & <fct> & <fct> & <chr> & <chr> & <chr> & <dbl>\\\\\n",
       "\\hline\n",
       "\t  713 & 2014-03-04 & 2016-02-15 & 0 &   0.1000 &   NA &   1.93 &   NA & 0.90 &   NA & ⋯ & 1-2 years & 2015/2016 & 2016/2017 & Spring & False & False & 0   & 0  & 0   &  713\\\\\n",
       "\t 1066 & 2013-03-16 & 2016-02-15 & 1 & 181.8966 & 1.37 & 731.38 & 5.35 & 1.94 & 0.51 & ⋯ & 2-3 years & 2015/2016 & 2016/2017 & Spring & False & False & 0   & 0  & 0   & 1066\\\\\n",
       "\t  735 & 2014-03-19 & 2016-03-23 & 1 &  98.8800 & 0.36 & 101.20 & 0.59 & 0.31 & 0.02 & ⋯ & 2-3 years & 2015/2016 & 2016/2017 & Spring & NA    & NA    & NA  & NA & NA  &  735\\\\\n",
       "\t  991 & 2013-07-25 & 2016-04-11 & 0 &   0.2600 & 0.02 &   0.94 & 0.08 & 0.23 & 0.02 & ⋯ & 2-3 years & 2015/2016 & 2016/2017 & Summer & False & False & 1-2 & 0  & 1-2 &  991\\\\\n",
       "\t 1714 & 2011-08-04 & 2016-04-13 & 1 & 461.1900 & 8.14 & 156.17 & 4.32 & 6.66 & 7.22 & ⋯ & 5 years   & 2015/2016 & 2016/2017 & Summer & False & False & 0   & NA & NA  & 1714\\\\\n",
       "\t  734 & 2014-05-15 & 2016-05-18 & 1 &  77.0200 & 0.54 & 281.68 & 1.35 & 0.80 & 0.14 & ⋯ & 2-3 years & 2015/2016 & 2016/2017 & Spring & False & NA    & 0   & NA & NA  &  734\\\\\n",
       "\\end{tabular}\n"
      ],
      "text/markdown": [
       "\n",
       "A tibble: 6 × 39\n",
       "\n",
       "| age_days &lt;dbl&gt; | birthday &lt;date&gt; | consultdate &lt;date&gt; | infection &lt;dbl&gt; | IgG_PreF &lt;dbl&gt; | IgA_PreF &lt;dbl&gt; | IgG_PostF &lt;dbl&gt; | IgA_PostF &lt;dbl&gt; | IgG_Ga &lt;dbl&gt; | IgA_Ga &lt;dbl&gt; | ⋯ ⋯ | age_years &lt;fct&gt; | seasons &lt;chr&gt; | cohort &lt;chr&gt; | season_birth &lt;chr&gt; | nursery_house &lt;fct&gt; | pre_term &lt;fct&gt; | total_cont &lt;chr&gt; | total_cont04 &lt;chr&gt; | total_cont59 &lt;chr&gt; | age_at_consul &lt;dbl&gt; |\n",
       "|---|---|---|---|---|---|---|---|---|---|---|---|---|---|---|---|---|---|---|---|---|\n",
       "|  713 | 2014-03-04 | 2016-02-15 | 0 |   0.1000 |   NA |   1.93 |   NA | 0.90 |   NA | ⋯ | 1-2 years | 2015/2016 | 2016/2017 | Spring | False | False | 0   | 0  | 0   |  713 |\n",
       "| 1066 | 2013-03-16 | 2016-02-15 | 1 | 181.8966 | 1.37 | 731.38 | 5.35 | 1.94 | 0.51 | ⋯ | 2-3 years | 2015/2016 | 2016/2017 | Spring | False | False | 0   | 0  | 0   | 1066 |\n",
       "|  735 | 2014-03-19 | 2016-03-23 | 1 |  98.8800 | 0.36 | 101.20 | 0.59 | 0.31 | 0.02 | ⋯ | 2-3 years | 2015/2016 | 2016/2017 | Spring | NA    | NA    | NA  | NA | NA  |  735 |\n",
       "|  991 | 2013-07-25 | 2016-04-11 | 0 |   0.2600 | 0.02 |   0.94 | 0.08 | 0.23 | 0.02 | ⋯ | 2-3 years | 2015/2016 | 2016/2017 | Summer | False | False | 1-2 | 0  | 1-2 |  991 |\n",
       "| 1714 | 2011-08-04 | 2016-04-13 | 1 | 461.1900 | 8.14 | 156.17 | 4.32 | 6.66 | 7.22 | ⋯ | 5 years   | 2015/2016 | 2016/2017 | Summer | False | False | 0   | NA | NA  | 1714 |\n",
       "|  734 | 2014-05-15 | 2016-05-18 | 1 |  77.0200 | 0.54 | 281.68 | 1.35 | 0.80 | 0.14 | ⋯ | 2-3 years | 2015/2016 | 2016/2017 | Spring | False | NA    | 0   | NA | NA  |  734 |\n",
       "\n"
      ],
      "text/plain": [
       "  age_days birthday   consultdate infection IgG_PreF IgA_PreF IgG_PostF\n",
       "1  713     2014-03-04 2016-02-15  0           0.1000   NA       1.93   \n",
       "2 1066     2013-03-16 2016-02-15  1         181.8966 1.37     731.38   \n",
       "3  735     2014-03-19 2016-03-23  1          98.8800 0.36     101.20   \n",
       "4  991     2013-07-25 2016-04-11  0           0.2600 0.02       0.94   \n",
       "5 1714     2011-08-04 2016-04-13  1         461.1900 8.14     156.17   \n",
       "6  734     2014-05-15 2016-05-18  1          77.0200 0.54     281.68   \n",
       "  IgA_PostF IgG_Ga IgA_Ga <U+22EF>        age_years seasons   cohort    season_birth\n",
       "1   NA      0.90     NA   <U+22EF> 1-2 years 2015/2016 2016/2017 Spring      \n",
       "2 5.35      1.94   0.51   <U+22EF> 2-3 years 2015/2016 2016/2017 Spring      \n",
       "3 0.59      0.31   0.02   <U+22EF> 2-3 years 2015/2016 2016/2017 Spring      \n",
       "4 0.08      0.23   0.02   <U+22EF> 2-3 years 2015/2016 2016/2017 Summer      \n",
       "5 4.32      6.66   7.22   <U+22EF> 5 years   2015/2016 2016/2017 Summer      \n",
       "6 1.35      0.80   0.14   <U+22EF> 2-3 years 2015/2016 2016/2017 Spring      \n",
       "  nursery_house pre_term total_cont total_cont04 total_cont59 age_at_consul\n",
       "1 False         False    0          0            0             713         \n",
       "2 False         False    0          0            0            1066         \n",
       "3 NA            NA       NA         NA           NA            735         \n",
       "4 False         False    1-2        0            1-2           991         \n",
       "5 False         False    0          NA           NA           1714         \n",
       "6 False         NA       0          NA           NA            734         "
      ]
     },
     "metadata": {},
     "output_type": "display_data"
    }
   ],
   "source": [
    "cohort_2 <- subset(rsv.data, cohort == '2016/2017')\n",
    "head(cohort_2)"
   ]
  },
  {
   "cell_type": "code",
   "execution_count": 12,
   "id": "e6dae20d-c79c-41e8-9944-1677ffa8dea6",
   "metadata": {},
   "outputs": [
    {
     "data": {
      "text/plain": [
       "age_years\n",
       " 0-1 year 1-2 years 2-3 years 3-4 years   5 years \n",
       "      150        64        53        37        21 "
      ]
     },
     "metadata": {},
     "output_type": "display_data"
    }
   ],
   "source": [
    "cohort_2 %$% table(age_years, useNA = \"ifany\")"
   ]
  },
  {
   "cell_type": "code",
   "execution_count": 13,
   "id": "7ed6602e-f99b-4ebf-b6d5-1d6ebd56905d",
   "metadata": {},
   "outputs": [
    {
     "data": {
      "text/plain": [
       "season_birth\n",
       "Autumn Spring Summer Winter \n",
       "    86     83     86     70 "
      ]
     },
     "metadata": {},
     "output_type": "display_data"
    }
   ],
   "source": [
    "cohort_2 %$% table(season_birth, useNA = \"ifany\")"
   ]
  },
  {
   "cell_type": "code",
   "execution_count": 15,
   "id": "e6b156f5-2e77-4714-98a2-47b2743745d6",
   "metadata": {},
   "outputs": [
    {
     "data": {
      "text/plain": [
       "Siblings04\n",
       "False  True  <NA> \n",
       "  198    85    42 "
      ]
     },
     "metadata": {},
     "output_type": "display_data"
    }
   ],
   "source": [
    "cohort_2 %$% table(Siblings04, useNA = \"ifany\")"
   ]
  },
  {
   "cell_type": "code",
   "execution_count": 16,
   "id": "493d3858-ca39-433e-b8f6-3eda0554cf5f",
   "metadata": {},
   "outputs": [
    {
     "data": {
      "text/plain": [
       "Siblings59\n",
       "False  True \n",
       "  240    85 "
      ]
     },
     "metadata": {},
     "output_type": "display_data"
    }
   ],
   "source": [
    "cohort_2 %$% table(Siblings59, useNA = \"ifany\")"
   ]
  },
  {
   "cell_type": "code",
   "execution_count": 17,
   "id": "cd0484a3-4d6a-43bb-aeff-592ef8383b03",
   "metadata": {},
   "outputs": [
    {
     "data": {
      "text/plain": [
       "Nursery\n",
       "False  True  <NA> \n",
       "  156   149    20 "
      ]
     },
     "metadata": {},
     "output_type": "display_data"
    }
   ],
   "source": [
    "cohort_2 %$% table(Nursery, useNA = \"ifany\")"
   ]
  },
  {
   "cell_type": "code",
   "execution_count": 18,
   "id": "0d6a3ad2-2348-4581-80b9-93b915c5124e",
   "metadata": {},
   "outputs": [
    {
     "data": {
      "text/plain": [
       "nursery_house\n",
       "False  True  <NA> \n",
       "  229    70    26 "
      ]
     },
     "metadata": {},
     "output_type": "display_data"
    }
   ],
   "source": [
    "cohort_2 %$% table(nursery_house, useNA = \"ifany\")"
   ]
  },
  {
   "cell_type": "code",
   "execution_count": 19,
   "id": "5f819e66-7bcd-4849-8f8b-f01823df6ad2",
   "metadata": {},
   "outputs": [
    {
     "data": {
      "text/plain": [
       "pre_term\n",
       "False  True  <NA> \n",
       "  270    12    43 "
      ]
     },
     "metadata": {},
     "output_type": "display_data"
    }
   ],
   "source": [
    "cohort_2 %$% table(pre_term, useNA = \"ifany\")"
   ]
  },
  {
   "cell_type": "code",
   "execution_count": 20,
   "id": "8dd73b52-c21c-41dd-ab48-7e7958cd1a64",
   "metadata": {},
   "outputs": [
    {
     "data": {
      "text/plain": [
       "sex\n",
       "  1   2 \n",
       "158 167 "
      ]
     },
     "metadata": {},
     "output_type": "display_data"
    }
   ],
   "source": [
    "cohort_2 %$% table(sex, useNA = \"ifany\")"
   ]
  },
  {
   "cell_type": "code",
   "execution_count": 21,
   "id": "05f5969e-865b-42b0-a415-fbad2a0b6568",
   "metadata": {},
   "outputs": [
    {
     "data": {
      "text/plain": [
       "total_cont\n",
       "    0   1-2 11-20 21-50   3-5   50+  6-10  <NA> \n",
       "   68    43    44    28    65     9    66     2 "
      ]
     },
     "metadata": {},
     "output_type": "display_data"
    }
   ],
   "source": [
    "cohort_2 %$% table(total_cont, useNA = \"ifany\")"
   ]
  },
  {
   "cell_type": "code",
   "execution_count": 30,
   "id": "f3ffc576-2a35-4001-a06a-f4f4a4616397",
   "metadata": {},
   "outputs": [
    {
     "data": {
      "text/plain": [
       "total_cont04\n",
       "    0   1-2 11-20 21-40   3-5  6-10  <NA> \n",
       "  106    60    19     6    26    24    84 "
      ]
     },
     "metadata": {},
     "output_type": "display_data"
    }
   ],
   "source": [
    "cohort_2 %$% table(total_cont04, useNA = \"ifany\")"
   ]
  },
  {
   "cell_type": "code",
   "execution_count": 29,
   "id": "d52b47ed-ff46-40d1-b031-f2fb3c640dd3",
   "metadata": {},
   "outputs": [
    {
     "data": {
      "text/plain": [
       "total_cont59\n",
       "    0   1-2 11-20 21-50   3-5  6-10  <NA> \n",
       "  162    47     3     4    18     7    84 "
      ]
     },
     "metadata": {},
     "output_type": "display_data"
    }
   ],
   "source": [
    "cohort_2 %$% table(total_cont59, useNA = \"ifany\")"
   ]
  },
  {
   "cell_type": "code",
   "execution_count": 25,
   "id": "32564b54-c3e4-438f-912d-26a85fb6db36",
   "metadata": {},
   "outputs": [
    {
     "data": {
      "text/plain": [
       "infection\n",
       "  0   1 \n",
       "148 177 "
      ]
     },
     "metadata": {},
     "output_type": "display_data"
    }
   ],
   "source": [
    "cohort_2 %$% table(infection, useNA = \"ifany\")"
   ]
  },
  {
   "cell_type": "code",
   "execution_count": 26,
   "id": "90177e84-260f-4aea-ad94-08ba26fff4dd",
   "metadata": {},
   "outputs": [
    {
     "data": {
      "text/plain": [
       "   Min. 1st Qu.  Median    Mean 3rd Qu.    Max. \n",
       "   37.0   230.0   486.0   612.3   932.0  1854.0 "
      ]
     },
     "metadata": {},
     "output_type": "display_data"
    }
   ],
   "source": [
    "summary(cohort_2$age_days)"
   ]
  },
  {
   "cell_type": "markdown",
   "id": "e5b2b312-2939-471f-a5c7-db860c40452e",
   "metadata": {},
   "source": [
    "## Compare the two cohorts ##"
   ]
  },
  {
   "cell_type": "code",
   "execution_count": 12,
   "id": "2a3ec85b-fdc3-4ec5-928a-ca024028434a",
   "metadata": {},
   "outputs": [
    {
     "data": {
      "image/png": "[encoded data removed]",
      "text/plain": [
       "Plot with title \"Age at survey\""
      ]
     },
     "metadata": {
      "image/png": {
       "height": 420,
       "width": 420
      }
     },
     "output_type": "display_data"
    }
   ],
   "source": [
    "# PNG device\n",
    "#png(\"age_at_survey_days.png\")\n",
    "\n",
    "# Code\n",
    "boxplot(age_days ~ cohort, rsv.data,\n",
    "       main = \"Age at survey\",\n",
    "        xlab = \"Cohort\",\n",
    "        ylab = \"Age in days\")\n",
    "\n",
    "# Close device\n",
    "#dev.off()"
   ]
  },
  {
   "cell_type": "code",
   "execution_count": 27,
   "id": "e54a9c8a-6ec9-49f9-ac30-04522028631a",
   "metadata": {},
   "outputs": [
    {
     "data": {
      "image/png": "[encoded data removed]",
      "text/plain": [
       "Plot with title \"Age at survey\""
      ]
     },
     "metadata": {
      "image/png": {
       "height": 420,
       "width": 420
      }
     },
     "output_type": "display_data"
    }
   ],
   "source": [
    "# PNG device\n",
    "#png(\"age_at_survey_months.png\")\n",
    "\n",
    "# Code\n",
    "boxplot(age_at_consul_mo ~ cohort, rsv.data,\n",
    "       main = \"Age at survey\",\n",
    "        xlab = \"Cohort\",\n",
    "        ylab = \"Age in months\")\n",
    "\n",
    "# Close device\n",
    "#dev.off()"
   ]
  },
  {
   "cell_type": "code",
   "execution_count": 73,
   "id": "ef335172-a20e-4114-a903-b8542ace9afb",
   "metadata": {},
   "outputs": [
    {
     "data": {
      "image/png": "[encoded data removed]",
      "text/plain": [
       "plot without title"
      ]
     },
     "metadata": {
      "image/png": {
       "height": 420,
       "width": 420
      }
     },
     "output_type": "display_data"
    }
   ],
   "source": [
    "#png(\"age_years.png\")\n",
    "ggplot(rsv.data, aes(x = age_years, y = ..count.., fill=cohort)) + geom_bar(position=\"dodge\") +\n",
    "labs(title=\"Age in years\",\n",
    "        x =\"Age\", y = \"Number of participants\")\n",
    "#dev.off()"
   ]
  },
  {
   "cell_type": "code",
   "execution_count": 71,
   "id": "7c5b6080-4003-49bf-b2d0-fba8a5aced12",
   "metadata": {},
   "outputs": [
    {
     "data": {
      "image/png": "[encoded data removed]",
      "text/plain": [
       "plot without title"
      ]
     },
     "metadata": {
      "image/png": {
       "height": 420,
       "width": 420
      }
     },
     "output_type": "display_data"
    }
   ],
   "source": [
    "#png(\"season_birth.png\")\n",
    "ggplot(rsv.data, aes(season_birth, fill=cohort)) + geom_bar(position=\"dodge\") +\n",
    "labs(title=\"Season of birth\",\n",
    "        x =\"Season\", y = \"Number of participants\")\n",
    "#dev.off()"
   ]
  },
  {
   "cell_type": "code",
   "execution_count": 77,
   "id": "b2e4cfa6-31d3-4849-b5bc-88606e6454ba",
   "metadata": {},
   "outputs": [
    {
     "data": {
      "image/png": "[encoded data removed]",
      "text/plain": [
       "plot without title"
      ]
     },
     "metadata": {
      "image/png": {
       "height": 420,
       "width": 420
      }
     },
     "output_type": "display_data"
    }
   ],
   "source": [
    "#png(\"siblings04.png\")\n",
    "ggplot(rsv.data, aes(Siblings04, fill=cohort)) + geom_bar(position=\"dodge\") +\n",
    "labs(title=\"Siblings aged 0-4 years\",\n",
    "        x =\"Siblings\", y = \"Number of participants\")\n",
    "#dev.off()"
   ]
  },
  {
   "cell_type": "code",
   "execution_count": 79,
   "id": "cfb8ce6d-56db-4278-b835-76af8741c5ae",
   "metadata": {},
   "outputs": [
    {
     "data": {
      "image/png": "[encoded data removed]",
      "text/plain": [
       "plot without title"
      ]
     },
     "metadata": {
      "image/png": {
       "height": 420,
       "width": 420
      }
     },
     "output_type": "display_data"
    }
   ],
   "source": [
    "#png(\"siblings59.png\")\n",
    "ggplot(rsv.data, aes(Siblings59, fill=cohort)) + geom_bar(position=\"dodge\") +\n",
    "labs(title=\"Siblings aged 5-9 years\",\n",
    "        x =\"Siblings\", y = \"Number of participants\")\n",
    "#dev.off()"
   ]
  }
 ],
 "metadata": {
  "kernelspec": {
   "display_name": "R",
   "language": "R",
   "name": "ir"
  },
  "language_info": {
   "codemirror_mode": "r",
   "file_extension": ".r",
   "mimetype": "text/x-r-source",
   "name": "R",
   "pygments_lexer": "r",
   "version": "4.1.3"
  }
 },
 "nbformat": 4,
 "nbformat_minor": 5
}
