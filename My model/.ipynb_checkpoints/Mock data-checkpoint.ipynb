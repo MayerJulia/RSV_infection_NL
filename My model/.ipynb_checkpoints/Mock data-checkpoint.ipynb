{
 "cells": [
  {
   "cell_type": "code",
   "execution_count": 44,
   "id": "b4dc539a-b644-4405-82df-a69bbae19417",
   "metadata": {},
   "outputs": [],
   "source": [
    "rm(list=ls())\n",
    "set.seed(42)\n",
    "\n",
    "library(tidyverse)\n",
    "library(BayesianTools)\n",
    "library(binom)\n",
    "library(plyr)\n",
    "library(deSolve)\n",
    "library(coda)\n",
    "library(lubridate)\n",
    "theme_set(theme_minimal())"
   ]
  },
  {
   "cell_type": "markdown",
   "id": "2f435dd2-f9e0-402d-b101-921608852529",
   "metadata": {},
   "source": [
    "## Data prep ##"
   ]
  },
  {
   "cell_type": "code",
   "execution_count": 45,
   "id": "146fd8c2-7645-4d4a-8421-0e51bcaaabaa",
   "metadata": {},
   "outputs": [],
   "source": [
    "data <- read.csv(\"https://raw.githubusercontent.com/Stijn-A/RSV_serology/master/data/infection_status_csv.txt\",\n",
    "                 sep=\",\")"
   ]
  },
  {
   "cell_type": "code",
   "execution_count": 46,
   "id": "3dc95ca1-e837-415c-8191-1f5f8a52464a",
   "metadata": {},
   "outputs": [],
   "source": [
    "# Group age into intervals \n",
    "# bi-monthly for 0-2 years and 6-monthly for 2-5 years\n",
    "data$agegrp <- cut(data$age_days,\n",
    "                    breaks=c(seq(0,730, by=30.25*2),\n",
    "                             seq(909,2000, by=30.25*6)), \n",
    "                    include.lowest = T, right=F)\n",
    "# Divide by season of birth\n",
    "spring <- c(3, 4, 5)\n",
    "summer <- c(6, 7, 8)\n",
    "autumn <- c (9, 10, 11)\n",
    "winter <- c(1, 2, 12)\n",
    "\n",
    "data <- data %>%\n",
    "  mutate(\n",
    "    Birth_mo = birthday %>% month()\n",
    "  )%>%\n",
    "  mutate(\n",
    "    season_birth = case_when(\n",
    "      Birth_mo %in% spring ~ \"Spring\",\n",
    "      Birth_mo %in% summer ~ \"Summer\",\n",
    "      Birth_mo %in% autumn ~ \"Autumn\",\n",
    "      Birth_mo %in% winter ~ \"Winter\")\n",
    "  )"
   ]
  },
  {
   "cell_type": "code",
   "execution_count": 34,
   "id": "e1d1bdc8-c653-48a1-8151-2f6583e70894",
   "metadata": {},
   "outputs": [
    {
     "name": "stdout",
     "output_type": "stream",
     "text": [
      " [1] 1 0 0 0 0 0 0 0 0 1 0 0 0 0 1 0 0 0 0 0 1 0 0 0 0 0 0 0 0 0 0 0 0 0 0 0 0 0\n",
      "[39] 0 0 0 0 0 0 0 0 0\n"
     ]
    }
   ],
   "source": [
    "spring <- subset(data, season_birth == \"Spring\")\n",
    "young <- subset(spring, age_days < 9*30.41)\n",
    "print(young$infection)"
   ]
  },
  {
   "cell_type": "code",
   "execution_count": 35,
   "id": "6d9ea007-0eb5-4129-87a6-0f2dd60b98e8",
   "metadata": {},
   "outputs": [
    {
     "name": "stdout",
     "output_type": "stream",
     "text": [
      " [1] 0 0 0 0 0 0 0 0 0 0 0 0 1 0 0 0 0 0 0 0 0 0 0\n"
     ]
    }
   ],
   "source": [
    "summer <- subset(data, season_birth == \"Summer\")\n",
    "young <- subset(summer, age_days < 6*30.41)\n",
    "print(young$infection)"
   ]
  },
  {
   "cell_type": "code",
   "execution_count": 36,
   "id": "0e3571ae-245e-40c4-acca-516b08493c59",
   "metadata": {},
   "outputs": [
    {
     "name": "stdout",
     "output_type": "stream",
     "text": [
      " [1] 0 0 0 0 0 0 0 0 0 0 0 0\n"
     ]
    }
   ],
   "source": [
    "autumn <- subset(data, season_birth == \"Autumn\")\n",
    "young <- subset(spring, age_days < 3*30.41)\n",
    "print(young$infection)"
   ]
  },
  {
   "cell_type": "code",
   "execution_count": 37,
   "id": "fd43bfa4-726a-4870-8d97-b68574d03a45",
   "metadata": {},
   "outputs": [
    {
     "name": "stdout",
     "output_type": "stream",
     "text": [
      "[1] 97\n"
     ]
    }
   ],
   "source": [
    "infected <- subset(data, infection == 1)\n",
    "coucou <- min(infected$age_days)\n",
    "print(coucou)"
   ]
  },
  {
   "cell_type": "code",
   "execution_count": 48,
   "id": "a5481680-72cc-4f2b-bea7-d5889304ed48",
   "metadata": {},
   "outputs": [],
   "source": [
    "for (i in seq_along(data$age_days)){\n",
    "    if ((data$season_birth[i] == \"Spring\") & (data$age_days[i] < 9*30.41)){\n",
    "        data$infection[i] = 0\n",
    "        }\n",
    "    if ((data$season_birth[i] == \"Spring\") & (data$age_days[i] >= 9*30.41)){\n",
    "        data$infection[i] = 1\n",
    "        }\n",
    "    if ((data$season_birth[i] == \"Summer\") & (data$age_days[i] < 6*30.41)){\n",
    "        data$infection[i] = 0\n",
    "        }\n",
    "    if ((data$season_birth[i] == \"Summer\") & (data$age_days[i] >= 6*30.41)){\n",
    "        data$infection[i] = 1\n",
    "        }\n",
    "    if ((data$season_birth[i] == \"Autumn\") & (data$age_days[i] < 3*30.41)){\n",
    "        data$infection[i] = 0\n",
    "    }\n",
    "    if ((data$season_birth[i] == \"Autumn\") & (data$age_days[i] >= 3*30.41)){\n",
    "        data$infection[i] = 1\n",
    "    }\n",
    "    }\n"
   ]
  },
  {
   "cell_type": "code",
   "execution_count": 39,
   "id": "9f869b40-d6b8-4d2f-9a34-763b754dd5d5",
   "metadata": {},
   "outputs": [
    {
     "name": "stdout",
     "output_type": "stream",
     "text": [
      " [1] 0 0 0 0 0 0 0 0 0 0 0 0 0 0 0 0 0 0 0 0 0 0 0 0 0 0 0 0 0 0 0 0 0 0 0 0 0 0\n",
      "[39] 0 0 0 0 0 0 0 0 0\n"
     ]
    }
   ],
   "source": [
    "spring <- subset(data, season_birth == \"Spring\")\n",
    "young <- subset(spring, age_days < 9*30.41)\n",
    "print(young$infection)"
   ]
  },
  {
   "cell_type": "code",
   "execution_count": 49,
   "id": "05be1313-0c85-4ab4-81e3-07918c0bdcba",
   "metadata": {},
   "outputs": [
    {
     "name": "stderr",
     "output_type": "stream",
     "text": [
      "\u001b[1m\u001b[22m`summarise()` has grouped output by 'agegrp'. You can override using the `.groups` argument.\n"
     ]
    }
   ],
   "source": [
    "data_no_season <- data %>% dplyr::group_by(agegrp) %>% \n",
    "  dplyr::summarise(agemid=round(median(age_days)), # Age midpoint in age group\n",
    "                   N=n(), # Total N in age group\n",
    "                   nconv=sum(infection))\n",
    "\n",
    "data <- data %>% dplyr::group_by(agegrp, season_birth) %>% \n",
    "  dplyr::summarise(agemid=round(median(age_days)), # Age midpoint in age group\n",
    "                   N=n(), # Total N in age group\n",
    "                   nconv=sum(infection)) # n seroconverted in age group\n"
   ]
  },
  {
   "cell_type": "code",
   "execution_count": 50,
   "id": "fddf7335-a9bd-4886-86d2-22f1ba59c342",
   "metadata": {},
   "outputs": [],
   "source": [
    "# Calculate seroprevalence and binomial confidence intervals\n",
    "data[,c(\"seroprev_mean\",\"seroprev_low95\",\"seroprev_up95\")] <- binom.confint(data$nconv, data$N, method=\"exact\")[,c(\"mean\",\"lower\",\"upper\")]\n",
    "data_no_season[,c(\"seroprev_mean\",\"seroprev_low95\",\"seroprev_up95\")] <- binom.confint(data_no_season$nconv, data_no_season$N, method=\"exact\")[,c(\"mean\",\"lower\",\"upper\")]"
   ]
  },
  {
   "cell_type": "code",
   "execution_count": 51,
   "id": "3b746ed5-47a5-4f3f-8477-9d1f52c0ac9a",
   "metadata": {},
   "outputs": [
    {
     "data": {
      "image/png": "[encoded data removed]",
      "text/plain": [
       "plot without title"
      ]
     },
     "metadata": {
      "image/png": {
       "height": 420,
       "width": 420
      }
     },
     "output_type": "display_data"
    }
   ],
   "source": [
    "# Plot the whole data frame (difficult to read)\n",
    "ggplot(data) +\n",
    "  geom_point(aes(x=agemid, y=seroprev_mean, colour = season_birth)) +\n",
    "  geom_errorbar(aes(x=agemid, ymin=seroprev_low95, ymax=seroprev_up95, colour = season_birth)) +\n",
    "  ylab(\"Proportion seroconverted\") + xlab(\"age (days)\") + labs(colour = \"season of birth\")"
   ]
  },
  {
   "cell_type": "code",
   "execution_count": 52,
   "id": "7d239d06-b666-496b-9552-e48506e45496",
   "metadata": {},
   "outputs": [
    {
     "data": {
      "image/png": "[encoded data removed]",
      "text/plain": [
       "plot without title"
      ]
     },
     "metadata": {
      "image/png": {
       "height": 420,
       "width": 420
      }
     },
     "output_type": "display_data"
    }
   ],
   "source": [
    "ggplot(data_no_season) +\n",
    "  geom_point(aes(x=agemid, y=seroprev_mean)) +\n",
    "  geom_errorbar(aes(x=agemid, ymin=seroprev_low95, ymax=seroprev_up95)) +\n",
    "  ylab(\"Proportion seroconverted\") + xlab(\"age (days)\") "
   ]
  },
  {
   "cell_type": "code",
   "execution_count": 53,
   "id": "37ccac9a-6452-4d42-b22f-e3fb2e605bb0",
   "metadata": {},
   "outputs": [
    {
     "data": {
      "image/png": "[encoded data removed]",
      "text/plain": [
       "plot without title"
      ]
     },
     "metadata": {
      "image/png": {
       "height": 420,
       "width": 420
      }
     },
     "output_type": "display_data"
    },
    {
     "data": {
      "image/png": "[encoded data removed]",
      "text/plain": [
       "plot without title"
      ]
     },
     "metadata": {
      "image/png": {
       "height": 420,
       "width": 420
      }
     },
     "output_type": "display_data"
    },
    {
     "data": {
      "image/png": "[encoded data removed]",
      "text/plain": [
       "plot without title"
      ]
     },
     "metadata": {
      "image/png": {
       "height": 420,
       "width": 420
      }
     },
     "output_type": "display_data"
    },
    {
     "data": {
      "image/png": "[encoded data removed]",
      "text/plain": [
       "plot without title"
      ]
     },
     "metadata": {
      "image/png": {
       "height": 420,
       "width": 420
      }
     },
     "output_type": "display_data"
    }
   ],
   "source": [
    "spring.df <- subset(data, season_birth == 'Spring')\n",
    "ggplot(spring.df) +\n",
    "  geom_point(aes(x=agemid, y=seroprev_mean), color = 'black') +\n",
    "  geom_errorbar(aes(x=agemid, ymin=seroprev_low95, ymax=seroprev_up95),colour ='black') +\n",
    "  ylab(\"Proportion seroconverted\") + xlab(\"age (days)\") + labs(title =\"Proportion seroconverted born in spring\")\n",
    "\n",
    "summer.df <- subset(data, season_birth == 'Summer')\n",
    "ggplot(summer.df) +\n",
    "  geom_point(aes(x=agemid, y=seroprev_mean), color = 'black') +\n",
    "  geom_errorbar(aes(x=agemid, ymin=seroprev_low95, ymax=seroprev_up95),colour ='black') +\n",
    "  ylab(\"Proportion seroconverted\") + xlab(\"age (days)\") + labs(title =\"Proportion seroconverted born in summer\")\n",
    "\n",
    "autumn.df <- subset(data, season_birth == 'Autumn')\n",
    "ggplot(autumn.df) +\n",
    "  geom_point(aes(x=agemid, y=seroprev_mean), color = 'black') +\n",
    "  geom_errorbar(aes(x=agemid, ymin=seroprev_low95, ymax=seroprev_up95),colour ='black') +\n",
    "  ylab(\"Proportion seroconverted\") + xlab(\"age (days)\") + labs(title =\"Proportion seroconverted born in autumn\")\n",
    "\n",
    "winter.df <- subset(data, season_birth == 'Winter')\n",
    "ggplot(winter.df) +\n",
    "  geom_point(aes(x=agemid, y=seroprev_mean), color = 'black') +\n",
    "  geom_errorbar(aes(x=agemid, ymin=seroprev_low95, ymax=seroprev_up95),colour ='black') +\n",
    "  ylab(\"Proportion seroconverted\") + xlab(\"age (days)\") + labs(title =\"Proportion seroconverted born in winter\")\n"
   ]
  },
  {
   "cell_type": "markdown",
   "id": "3b49eb24-64e3-4213-ba93-f0a02ca39df6",
   "metadata": {},
   "source": [
    "## Model equation ##"
   ]
  },
  {
   "cell_type": "code",
   "execution_count": 75,
   "id": "a8fe8644-cfc7-469e-90ec-dca4d11cc112",
   "metadata": {},
   "outputs": [],
   "source": [
    "model <- function(theta, age, inits, data) {\n",
    "  \n",
    "  catalytic <- function(age, state, param, data) {\n",
    "    \n",
    "    # FOI / seroconversion rate\n",
    "    # Define booleans to know which season the cohort is in\n",
    "    spring_FOI_sp = 0\n",
    "    summer_FOI_sp = 0\n",
    "    autumn_FOI_sp = 0\n",
    "    winter_FOI_sp = 0\n",
    "    spring_FOI_sm = 0\n",
    "    summer_FOI_sm = 0\n",
    "    autumn_FOI_sm = 0\n",
    "    winter_FOI_sm = 0\n",
    "    spring_FOI_au = 0\n",
    "    summer_FOI_au = 0\n",
    "    autumn_FOI_au = 0\n",
    "    winter_FOI_au = 0\n",
    "    spring_FOI_wt = 0\n",
    "    summer_FOI_wt = 0\n",
    "    autumn_FOI_wt = 0\n",
    "    winter_FOI_wt = 0\n",
    "  \n",
    "      if ( (age <= 30.41*3)                                      # FOI of the season in which the children were born\n",
    "           || ((age>=365) & (age <= (365+30.41*3))) \n",
    "           || ((age >= 2*365) & (age <= (2*365+30.41*3))) \n",
    "           || ((age >= 3*365) & (age <= (3*365+30.41*3))) \n",
    "           || ((age >= 4*365) & (age <= (4*365+30.41*3))) \n",
    "           || ((age >= 5*365) & (age <= (5*365+30.41*3))) ){\n",
    "          spring_FOI_sp = 1\n",
    "          summer_FOI_sm = 1\n",
    "          autumn_FOI_au = 1\n",
    "          winter_FOI_wt = 1\n",
    "      } \n",
    "      \n",
    "      if ( (age>30.41*3 & age <=30.41*6 )                       # FOI of the season after the children were born\n",
    "           || ((age > 365 + 30.41*3) & (age <= (365+30.41*6))) \n",
    "           || ((age > 2*365 + 30.41*3) & (age <= (2*365+30.41*6))) \n",
    "           || ((age > 3*365 + 30.41*3) & (age <= (3*365+30.41*6))) \n",
    "           || ((age > 4*365 + 30.41*3) & (age <= (4*365+30.41*6))) \n",
    "           || ((age > 5*365 + 30.41*3) & (age <= (5*365+30.41*6))) ){\n",
    "          summer_FOI_sp = 1\n",
    "          autumn_FOI_sm = 1\n",
    "          winter_FOI_au = 1\n",
    "          spring_FOI_wt = 1\n",
    "      } \n",
    "      \n",
    "      if ( (age > 30.41*6 & age <= 30.41*9 )                     # FOI 2 seasons after birth\n",
    "           || ((age > 365+30.41*6) & (age <= (365+30.41*9))) \n",
    "           || ((age > 2*365 + 30.41*6) & (age <= (2*365+30.41*9))) \n",
    "           || ((age > 3*365 + 30.41*6) & (age <= (3*365+30.41*9))) \n",
    "           || ((age > 4*365 + 30.41*6) & (age <= (4*365+30.41*9))) \n",
    "           || ((age > 5*365 + 30.41*6) & (age <= (5*365+30.41*9))) ){\n",
    "          autumn_FOI_sp = 1\n",
    "          winter_FOI_sm = 1\n",
    "          spring_FOI_au = 1\n",
    "          summer_FOI_wt = 1\n",
    "      } \n",
    "      \n",
    "      if ( (age > 30.41*9 & age <= 30.41*12 )                     # FOI 3 seasons after birth\n",
    "           || ((age > 365+30.41*9) & (age <= (365+30.41*12))) \n",
    "           || ((age > 2*365 + 30.41*9) & (age <= (2*365+30.41*12))) \n",
    "           || ((age > 3*365 + 30.41*9) & (age <= (3*365+30.41*12))) \n",
    "           || ((age > 4*365 + 30.41*9) & (age <= (4*365+30.41*12))) \n",
    "           || ((age > 5*365 + 30.41*9) & (age <= (5*365+30.41*12))) ){\n",
    "          winter_FOI_sp = 1\n",
    "          spring_FOI_sm = 1\n",
    "          summer_FOI_au = 1\n",
    "          autumn_FOI_wt = 1\n",
    "      } \n",
    "    \n",
    "      # FOI for each birth cohort\n",
    "      lambda_sp = param[[\"P\"]]*spring_FOI_sp + param[[\"M\"]]*summer_FOI_sp + param[[\"A\"]]*autumn_FOI_sp + param[[\"W\"]]*winter_FOI_sp\n",
    "      lambda_sm = param[[\"P\"]]*spring_FOI_sm + param[[\"M\"]]*summer_FOI_sm + param[[\"A\"]]*autumn_FOI_sm + param[[\"W\"]]*winter_FOI_sm\n",
    "      lambda_au = param[[\"P\"]]*spring_FOI_au + param[[\"M\"]]*summer_FOI_au + param[[\"A\"]]*autumn_FOI_au + param[[\"W\"]]*winter_FOI_au\n",
    "      lambda_wt = param[[\"P\"]]*spring_FOI_wt + param[[\"M\"]]*summer_FOI_wt + param[[\"A\"]]*autumn_FOI_wt + param[[\"W\"]]*winter_FOI_wt\n",
    "    \n",
    "    # waning maternal immunity, same for all children\n",
    "    mu = param[[\"B\"]] \n",
    "    \n",
    "    # states \n",
    "    # proportion with maternal immunity\n",
    "    M_sp = exp(state[2]) # born in spring\n",
    "    M_sm = exp(state[3]) # born in summer\n",
    "    M_au = exp(state[4]) # born in autumn\n",
    "    M_wt = exp(state[1]) # born in winter\n",
    "    # Susceptible\n",
    "    S_sp = exp(state[6]) # susceptible born in spring\n",
    "    S_sm = exp(state[7]) # susceptible born in summer\n",
    "    S_au = exp(state[8]) # susceptible born in autumn\n",
    "    S_wt = exp(state[5]) # susceptible born in winter\n",
    "    #Seroconverted\n",
    "    Z_sp = exp(state[10]) # seroconverted after infection born in spring\n",
    "    Z_sm = exp(state[11]) # seroconverted after infection born in summer\n",
    "    Z_au = exp(state[12]) # seroconverted after infection born in autumn\n",
    "    Z_wt = exp(state[9]) # seroconverted after infection born in winter\n",
    "    #Z_all = exp(state[13]) # all seroconverted\n",
    "    \n",
    "      \n",
    "    \n",
    "    # changes in states\n",
    "    dM_wt = -mu*M_wt\n",
    "    dM_sp = -mu*M_sp\n",
    "    dM_sm = -mu*M_sm\n",
    "    dM_au = -mu*M_au\n",
    "    dS_wt = + mu*M_wt - lambda_wt*S_wt\n",
    "    dS_sp = + mu*M_sp - lambda_sp*S_sp \n",
    "    dS_sm = + mu*M_sm - lambda_sm*S_sm \n",
    "    dS_au = + mu*M_au - lambda_au*S_au \n",
    "    dZ_wt = + lambda_wt*S_wt\n",
    "    dZ_sp = + lambda_sp*S_sp\n",
    "    dZ_sm = + lambda_sm*S_sm \n",
    "    dZ_au = + lambda_au*S_au\n",
    "    \n",
    "    #dZ_all = + lambda_sp*S_sp + lambda_sm*S_sm + lambda_au*S_au + lambda_wt*S_wt\n",
    "    \n",
    "    \n",
    "    return(list(c(dM_wt/M_wt, dM_sp/M_sp,dM_sm/M_sm, dM_au/M_au,\n",
    "                  dS_wt/S_wt, dS_sp/S_sp, dS_sm/S_sm, dS_au/S_au,  \n",
    "                  dZ_wt/Z_wt, dZ_sp/Z_sp, dZ_sm/Z_sm, dZ_au/Z_au), \n",
    "                  #dZ_all/Z_all), \n",
    "                lambda_sp=lambda_sp, lambda_sm = lambda_sm, \n",
    "                lambda_au = lambda_au, lambda_wt = lambda_wt,\n",
    "                mu=mu))\n",
    "    \n",
    "    \n",
    "  }\n",
    "  \n",
    "traj <- data.frame(ode(y=c(M_sp=log(inits[[\"M_sp\"]]),\n",
    "                             M_sm=log(inits[[\"M_sm\"]]),\n",
    "                             M_au=log(inits[[\"M_au\"]]),\n",
    "                             M_wt=log(inits[[\"M_wt\"]]),\n",
    "                             S_sp=log(inits[[\"S_sp\"]]),\n",
    "                             S_sm=log(inits[[\"S_sm\"]]),\n",
    "                             S_au=log(inits[[\"S_au\"]]),\n",
    "                             S_wt=log(inits[[\"S_wt\"]]),\n",
    "                             Z_sp=log(inits[[\"Z_sp\"]]),\n",
    "                             Z_sm=log(inits[[\"Z_sm\"]]),\n",
    "                             Z_au=log(inits[[\"Z_au\"]]),\n",
    "                             Z_wt=log(inits[[\"Z_wt\"]])),\n",
    "                             #Z_all = log(inits[[\"Z_all\"]])),\n",
    "                         times=age, \n",
    "                         func=catalytic, \n",
    "                         parms=theta, \n",
    "                         data = data,\n",
    "                         method=\"lsoda\",\n",
    "                         verbose=F))\n",
    "  \n",
    "  #traj$conv <- exp(traj$Z_all) # cumulative seroconversion (=observed state)\n",
    "  #traj$inc <- c(inits[[\"Z_all\"]], diff(exp(traj$Z_all))) # incident seroconversion\n",
    "  traj$conv_spring <- exp(traj$Z_sp) # cumulative seroconversion in spring cohort (=observed state)\n",
    "  traj$inc_spring <- c(inits[[\"Z_sp\"]], diff(exp(traj$Z_sp))) # incident seroconversion\n",
    "  traj$conv_summer <- exp(traj$Z_sm) # cumulative seroconversion in summer cohort (=observed state)\n",
    "  traj$inc_summer <- c(inits[[\"Z_sm\"]], diff(exp(traj$Z_sm))) # incident seroconversion\n",
    "  traj$conv_autumn <- exp(traj$Z_au) # cumulative seroconversion in autumn cohort (=observed state)\n",
    "  traj$inc_autumn <- c(inits[[\"Z_au\"]], diff(exp(traj$Z_au))) # incident seroconversion\n",
    "  traj$conv_winter <- exp(traj$Z_wt) # cumulative seroconversion in winter cohort (=observed state)\n",
    "  traj$inc_winter <- c(inits[[\"Z_wt\"]], diff(exp(traj$Z_wt))) # incident seroconversion\n",
    "  traj$Z_all = 0.26*traj$Z_sp + 0.29*traj$Z_sp + 0.24*traj$Z_sp + 0.20*traj$Z_sp\n",
    "  traj$conv <- exp(traj$Z_all)\n",
    "  return(traj)\n",
    "  \n",
    "}"
   ]
  },
  {
   "cell_type": "markdown",
   "id": "9b599107-f463-4f75-88ef-e83ce51c2547",
   "metadata": {},
   "source": [
    "## Trajectory simulation ##"
   ]
  },
  {
   "cell_type": "code",
   "execution_count": 72,
   "id": "111ad1cf-e83b-4935-a698-66501b07b525",
   "metadata": {},
   "outputs": [],
   "source": [
    "# This function draws n samples from the posterior to calculate the posterior predictive uncertainty (95%)\n",
    "\n",
    "maketrajsim <- function(trace, theta, age, model, inits, ndraw, data) {\n",
    "  \n",
    "  #Draw n fitted parameter vectors theta from the MCMC object\n",
    "  sample <- getSample(trace, parametersOnly = TRUE, thin=1, numSamples=ndraw) #trace is a sampler, parametersOnly = T means that likelihood, posterior and prior values are not provided in the output, thin = thinning parameter\n",
    "  \n",
    "  traj.rep <- adply(.data=sample, .margins=1, .progress=\"text\", .parallel=F, .fun=function(x) { #split sample by 1 = rows and apply function\n",
    "    \n",
    "    #Define the theta as the estimated parameters from the current draw and the fixed parameters\n",
    "    theta.sample <- c(x, theta[!is.na(theta)])\n",
    "    \n",
    "    #Simulate trajectory for selected theta\n",
    "    traj <- match.fun(model)(theta.sample, age, inits, data) #match.fun extracts the underlying function\n",
    "    traj <- cbind(as.data.frame(t(x)), traj)\n",
    "  })\n",
    "  \n",
    "  colnames(traj.rep)[1] <- \"replicate\"\n",
    "  return(traj.rep)\n",
    "  \n",
    "}"
   ]
  },
  {
   "cell_type": "code",
   "execution_count": 77,
   "id": "b1592446-11f2-4360-81b3-cfeb6edfc334",
   "metadata": {},
   "outputs": [],
   "source": [
    "# THETA ---------------------------------------------------------\n",
    "\n",
    "# P = mean FOI (proportion infected per day) for children born in spring\n",
    "# M = mean FOI for children born in summer\n",
    "# A = mean FOI for children born in autumn\n",
    "# W = mean FOI for children born in winter\n",
    "# B = rate of waning maternal immunity\n",
    "theta <- c(P=0.02002, M=0.02001, A=0.02003, W=0.02004, B = 0.01) # these are just random values, to be fitted\n",
    "\n",
    "# INITS ---------------------------------------------------------\n",
    "\n",
    "#Should this add up to 1?\n",
    "inits <- c(M_sp=(1-9*1e-12), M_sm = (1-9*1e-12), M_au= (1-9*1e-12), M_wt = (1-9*1e-12),\n",
    "           S_sp=1e-12, S_sm=1e-12, S_au=1e-12, S_wt=1e-12, \n",
    "           Z_sp = 1e-12, Z_sm=1e-12, Z_au=1e-12, Z_wt=1e-12,\n",
    "           Z_all = 1e-12) # initial conditions for the states (as proportions)\n",
    "# --> since we integrate on a log-scale, the initial conditions cannot be 0 (not defined on a log-scale)\n",
    "\n",
    "# SIMULATION TIME  ---------------------------------------------------------\n",
    "data <- arrange(data, agemid)\n",
    "agepred <- data$agemid"
   ]
  },
  {
   "cell_type": "code",
   "execution_count": 78,
   "id": "bce01dd6-8031-4e6f-b032-72b8f4d2deb1",
   "metadata": {},
   "outputs": [
    {
     "data": {
      "image/png": "[encoded data removed]",
      "text/plain": [
       "plot without title"
      ]
     },
     "metadata": {
      "image/png": {
       "height": 420,
       "width": 420
      }
     },
     "output_type": "display_data"
    },
    {
     "data": {
      "image/png": "[encoded data removed]",
      "text/plain": [
       "plot without title"
      ]
     },
     "metadata": {
      "image/png": {
       "height": 420,
       "width": 420
      }
     },
     "output_type": "display_data"
    },
    {
     "data": {
      "image/png": "[encoded data removed]",
      "text/plain": [
       "plot without title"
      ]
     },
     "metadata": {
      "image/png": {
       "height": 420,
       "width": 420
      }
     },
     "output_type": "display_data"
    },
    {
     "data": {
      "image/png": "[encoded data removed]",
      "text/plain": [
       "plot without title"
      ]
     },
     "metadata": {
      "image/png": {
       "height": 420,
       "width": 420
      }
     },
     "output_type": "display_data"
    },
    {
     "data": {
      "image/png": "[encoded data removed]",
      "text/plain": [
       "plot without title"
      ]
     },
     "metadata": {
      "image/png": {
       "height": 420,
       "width": 420
      }
     },
     "output_type": "display_data"
    },
    {
     "data": {
      "image/png": "[encoded data removed]",
      "text/plain": [
       "plot without title"
      ]
     },
     "metadata": {
      "image/png": {
       "height": 420,
       "width": 420
      }
     },
     "output_type": "display_data"
    }
   ],
   "source": [
    "# TEST MODEL  --------------------------------------------------------\n",
    "test <- model(theta, agepred, inits, data)\n",
    "ggplot(test) + geom_line(aes(x=time, y=conv))\n",
    "ggplot(test) + geom_line(aes(x=time, y=lambda_sp)) #should vary\n",
    "ggplot(test) + geom_line(aes(x=time, y=lambda_sm))\n",
    "ggplot(test) + geom_line(aes(x=time, y=lambda_au))\n",
    "ggplot(test) + geom_line(aes(x=time, y=mu))\n",
    "\n",
    "ggplot(test) + geom_line(aes(x=time, y=lambda_sp, color = 'Spring')) + \n",
    "  geom_line(aes(x=time, y=lambda_sm, color = 'Summer')) + \n",
    "  geom_line(aes(x=time, y=lambda_au, color = 'Autumn')) + \n",
    "  geom_line(aes(x=time, y=lambda_wt, color = 'Winter')) +  \n",
    "  xlab(\"Age (days)\") + ylab(\"FOI\") + ggtitle(\"FOI for the four birth cohorts\") +\n",
    "  labs(color = 'Season')"
   ]
  },
  {
   "cell_type": "code",
   "execution_count": 80,
   "id": "3d3c0a91-2c5b-4ca4-bac6-5ab664e64fa4",
   "metadata": {},
   "outputs": [
    {
     "data": {
      "text/html": [
       "-186.63466242897"
      ],
      "text/latex": [
       "-186.63466242897"
      ],
      "text/markdown": [
       "-186.63466242897"
      ],
      "text/plain": [
       "[1] -186.6347"
      ]
     },
     "metadata": {},
     "output_type": "display_data"
    }
   ],
   "source": [
    "# LOG LIKELIHOOD FUNCTION ---------------------------------------------------------\n",
    "\n",
    "loglik <- function(theta, age, data, model, inits) {\n",
    "    \n",
    " traj <- match.fun(model)(theta, age, inits)   \n",
    "  \n",
    "  # Whole data\n",
    "  nconv <- data$nconv[!is.na(data$nconv)] # n seroconverted at each age point  (data)\n",
    "  N <- data$N[!is.na(data$nconv)] # total N at each age point  (data) \n",
    "  prob <- traj$conv[traj$time %in% data$agemid] # proportion seroconverted at each age point (model output)\n",
    "  \n",
    "  ll_all <- sum(dbinom(x=nconv,\n",
    "                   size=N,\n",
    "                   prob=prob,\n",
    "                   log=TRUE), na.rm=TRUE)\n",
    "  \n",
    "  # Spring birth cohort\n",
    "  spring_cohort <- subset(data, season_birth == \"Spring\")\n",
    "  nconv_sp <- spring_cohort$nconv[!is.na(spring_cohort$nconv)] # n seroconverted at each age point  (data)\n",
    "  N_sp <- spring_cohort$N[!is.na(spring_cohort$nconv)] # total N at each age point  (data) \n",
    "  prob_sp <- traj$conv_spring[traj$time %in% spring_cohort$agemid] # proportion seroconverted at each age point (model output)\n",
    "  \n",
    "  ll_sp <- sum(dbinom(x=nconv_sp,\n",
    "                      size=N_sp,\n",
    "                      prob=prob_sp,\n",
    "                      log=TRUE), na.rm=TRUE)\n",
    "  \n",
    "  #Summer birth cohort\n",
    "  summer_cohort <- subset(data, season_birth == \"Summer\")\n",
    "  nconv_sm <- summer_cohort$nconv[!is.na(summer_cohort$nconv)] # n seroconverted at each age point  (data)\n",
    "  N_sm <- summer_cohort$N[!is.na(summer_cohort$nconv)] # total N at each age point  (data) \n",
    "  prob_sm <- traj$conv_summer[traj$time %in% summer_cohort$agemid] # proportion seroconverted at each age point (model output)\n",
    "  \n",
    "  ll_sm <- sum(dbinom(x=nconv_sm,\n",
    "                      size=N_sm,\n",
    "                      prob=prob_sm,\n",
    "                      log=TRUE), na.rm=TRUE)\n",
    "  \n",
    "  #Autumn birth cohort\n",
    "  autumn_cohort <- subset(data, season_birth == \"Autumn\")\n",
    "  nconv_au <- autumn_cohort$nconv[!is.na(autumn_cohort$nconv)] # n seroconverted at each age point  (data)\n",
    "  N_au <- autumn_cohort$N[!is.na(autumn_cohort$nconv)] # total N at each age point  (data) \n",
    "  prob_au <- traj$conv_autumn[traj$time %in% autumn_cohort$agemid] # proportion seroconverted at each age point (model output)\n",
    "  \n",
    "  ll_au <- sum(dbinom(x=nconv_au,\n",
    "                      size=N_au,\n",
    "                      prob=prob_au,\n",
    "                      log=TRUE), na.rm=TRUE)\n",
    "  \n",
    "  # Winter birth cohort\n",
    "  winter_cohort <- subset(data, season_birth == \"Winter\")\n",
    "  nconv_wt <- winter_cohort$nconv[!is.na(winter_cohort$nconv)] # n seroconverted at each age point  (data)\n",
    "  N_wt <- winter_cohort$N[!is.na(winter_cohort$nconv)] # total N at each age point  (data) \n",
    "  prob_wt <- traj$conv_winter[traj$time %in% winter_cohort$agemid] # proportion seroconverted at each age point (model output)\n",
    "  \n",
    "  ll_wt <- sum(dbinom(x=nconv_wt,\n",
    "                      size=N_wt,\n",
    "                      prob=prob_wt,\n",
    "                      log=TRUE), na.rm=TRUE)\n",
    "  \n",
    "  ll = sum(ll_sp, ll_sm, ll_au, ll_wt)\n",
    "  \n",
    "  return(ll_all)\n",
    "  \n",
    "} \n",
    "\n",
    "# Test function\n",
    "loglik(theta, agepred, data, model, inits)"
   ]
  },
  {
   "cell_type": "code",
   "execution_count": 81,
   "id": "ef7eab5a-1a72-4db7-a94a-e16a2bd068d7",
   "metadata": {},
   "outputs": [],
   "source": [
    "# Wrapper for BT: loglik can only take the fitted parameters as argument\n",
    "loglik_wrapper <- function(par) {\n",
    "  \n",
    "  parX = theta\n",
    "  parX[index] = par\n",
    "  \n",
    "  return(loglik(theta = parX,\n",
    "                age = agepred, \n",
    "                data = data,\n",
    "                model = match.fun(model),\n",
    "                inits = inits))\n",
    "} "
   ]
  },
  {
   "cell_type": "markdown",
   "id": "4a0f1b82-7275-47ed-bf70-85520c10d580",
   "metadata": {},
   "source": [
    "## Fitting ##"
   ]
  },
  {
   "cell_type": "code",
   "execution_count": 82,
   "id": "03e659be-1bce-4fc5-b013-fcad0641ef8b",
   "metadata": {},
   "outputs": [
    {
     "name": "stdout",
     "output_type": "stream",
     "text": [
      "BT runMCMC: trying to find optimal start and covariance values"
     ]
    },
    {
     "name": "stderr",
     "output_type": "stream",
     "text": [
      "BT runMCMC: Optimization finished, setting startValues to 0.0058156886124335 0.0137675307837655 0.00557758129629153 2.84668870576872e-07 0.115025551217156  - Setting covariance to 1.17714049267943e-38 -6.52530446799852e-55 7.30289413793629e-63 6.53444232561604e-46 4.29582008613293e-64 -6.52530446799852e-55 1.17714049267943e-38 -4.38173655339607e-63 -3.92066543528915e-46 -2.57749207375298e-64 7.30289413793629e-63 -4.38173655339607e-63 1.17714049267943e-38 1.31557245299624e-47 8.64873042715692e-66 6.53444232561604e-46 -3.92066543528915e-46 1.31557245299624e-47 1.17714049267944e-30 7.73866148821312e-49 4.29582008613293e-64 -2.57749207375298e-64 8.64873042715692e-66 7.73866148821312e-49 1.17714049267943e-38 \n",
      "\n"
     ]
    },
    {
     "name": "stdout",
     "output_type": "stream",
     "text": [
      " Running Metropolis-MCMC, chain  1 iteration 160000 of 160000 . Current logp:  -159.5694  Please wait! \r"
     ]
    },
    {
     "name": "stderr",
     "output_type": "stream",
     "text": [
      "runMCMC terminated after 8961.75seconds\n",
      "\n"
     ]
    },
    {
     "name": "stdout",
     "output_type": "stream",
     "text": [
      "BT runMCMC: trying to find optimal start and covariance values"
     ]
    },
    {
     "name": "stderr",
     "output_type": "stream",
     "text": [
      "BT runMCMC: Optimization finished, setting startValues to 0.00264454434304223 0.0998908128475239 0.0998644555966049 0.0474658883787809 0.0855102437411441  - Setting covariance to 2.3471864326647e-34 -1.216421146869e-40 -1.0315629531002e-40 6.67293182041386e-56 3.71060711408274e-56 -1.216421146869e-40 1.56520384177867e-26 7.82395423068256e-27 -7.5980791962024e-42 -4.23696829488522e-42 -1.0315629531002e-40 7.82395423068256e-27 1.56437795946765e-26 -5.92559938525371e-42 -3.27534026089865e-42 6.67293182041386e-56 -7.5980791962024e-42 -5.92559938525371e-42 2.3471864326647e-34 2.13821176807376e-50 3.71060711408274e-56 -4.23696829488522e-42 -3.27534026089865e-42 2.13821176807376e-50 2.3471864326647e-34 \n",
      "\n"
     ]
    },
    {
     "name": "stdout",
     "output_type": "stream",
     "text": [
      " Running Metropolis-MCMC, chain  2 iteration 7800 of 160000 . Current logp:  -163.6957  Please wait! \r"
     ]
    },
    {
     "name": "stderr",
     "output_type": "stream",
     "text": [
      "Warning message in dbinom(x = nconv_wt, size = N_wt, prob = prob_wt, log = TRUE):\n",
      "\"NaNs produced\"\n"
     ]
    },
    {
     "name": "stdout",
     "output_type": "stream",
     "text": [
      " Running Metropolis-MCMC, chain  2 iteration 9700 of 160000 . Current logp:  -164.2564  Please wait! \r"
     ]
    },
    {
     "name": "stderr",
     "output_type": "stream",
     "text": [
      "Warning message in dbinom(x = nconv_wt, size = N_wt, prob = prob_wt, log = TRUE):\n",
      "\"NaNs produced\"\n"
     ]
    },
    {
     "name": "stdout",
     "output_type": "stream",
     "text": [
      " Running Metropolis-MCMC, chain  2 iteration 24900 of 160000 . Current logp:  -160.8667  Please wait! \r"
     ]
    },
    {
     "name": "stderr",
     "output_type": "stream",
     "text": [
      "Warning message in dbinom(x = nconv_au, size = N_au, prob = prob_au, log = TRUE):\n",
      "\"NaNs produced\"\n"
     ]
    },
    {
     "name": "stdout",
     "output_type": "stream",
     "text": [
      " Running Metropolis-MCMC, chain  2 iteration 57400 of 160000 . Current logp:  -161.8921  Please wait! \r"
     ]
    },
    {
     "name": "stderr",
     "output_type": "stream",
     "text": [
      "Warning message in dbinom(x = nconv_au, size = N_au, prob = prob_au, log = TRUE):\n",
      "\"NaNs produced\"\n"
     ]
    },
    {
     "name": "stdout",
     "output_type": "stream",
     "text": [
      " Running Metropolis-MCMC, chain  2 iteration 73100 of 160000 . Current logp:  -161.2468  Please wait! \r"
     ]
    },
    {
     "name": "stderr",
     "output_type": "stream",
     "text": [
      "Warning message in dbinom(x = nconv_au, size = N_au, prob = prob_au, log = TRUE):\n",
      "\"NaNs produced\"\n"
     ]
    },
    {
     "name": "stdout",
     "output_type": "stream",
     "text": [
      " Running Metropolis-MCMC, chain  2 iteration 78500 of 160000 . Current logp:  -165.3863  Please wait! \r"
     ]
    },
    {
     "name": "stderr",
     "output_type": "stream",
     "text": [
      "Warning message in dbinom(x = nconv_wt, size = N_wt, prob = prob_wt, log = TRUE):\n",
      "\"NaNs produced\"\n"
     ]
    },
    {
     "name": "stdout",
     "output_type": "stream",
     "text": [
      " Running Metropolis-MCMC, chain  2 iteration 85300 of 160000 . Current logp:  -164.4931  Please wait! \r"
     ]
    },
    {
     "name": "stderr",
     "output_type": "stream",
     "text": [
      "Warning message in dbinom(x = nconv_au, size = N_au, prob = prob_au, log = TRUE):\n",
      "\"NaNs produced\"\n"
     ]
    },
    {
     "name": "stdout",
     "output_type": "stream",
     "text": [
      " Running Metropolis-MCMC, chain  2 iteration 89800 of 160000 . Current logp:  -161.0082  Please wait! \r"
     ]
    },
    {
     "name": "stderr",
     "output_type": "stream",
     "text": [
      "Warning message in dbinom(x = nconv_wt, size = N_wt, prob = prob_wt, log = TRUE):\n",
      "\"NaNs produced\"\n"
     ]
    },
    {
     "name": "stdout",
     "output_type": "stream",
     "text": [
      " Running Metropolis-MCMC, chain  2 iteration 102900 of 160000 . Current logp:  -165.302  Please wait!  \r"
     ]
    },
    {
     "name": "stderr",
     "output_type": "stream",
     "text": [
      "Warning message in dbinom(x = nconv_au, size = N_au, prob = prob_au, log = TRUE):\n",
      "\"NaNs produced\"\n"
     ]
    },
    {
     "name": "stdout",
     "output_type": "stream",
     "text": [
      " Running Metropolis-MCMC, chain  2 iteration 122100 of 160000 . Current logp:  -164.9858  Please wait! \r"
     ]
    },
    {
     "name": "stderr",
     "output_type": "stream",
     "text": [
      "Warning message in dbinom(x = nconv_au, size = N_au, prob = prob_au, log = TRUE):\n",
      "\"NaNs produced\"\n"
     ]
    },
    {
     "name": "stdout",
     "output_type": "stream",
     "text": [
      " Running Metropolis-MCMC, chain  2 iteration 131800 of 160000 . Current logp:  -160.5395  Please wait! \r"
     ]
    },
    {
     "name": "stderr",
     "output_type": "stream",
     "text": [
      "Warning message in dbinom(x = nconv_au, size = N_au, prob = prob_au, log = TRUE):\n",
      "\"NaNs produced\"\n"
     ]
    },
    {
     "name": "stdout",
     "output_type": "stream",
     "text": [
      " Running Metropolis-MCMC, chain  2 iteration 135300 of 160000 . Current logp:  -163.5699  Please wait! \r"
     ]
    },
    {
     "name": "stderr",
     "output_type": "stream",
     "text": [
      "Warning message in dbinom(x = nconv_au, size = N_au, prob = prob_au, log = TRUE):\n",
      "\"NaNs produced\"\n"
     ]
    },
    {
     "name": "stdout",
     "output_type": "stream",
     "text": [
      " Running Metropolis-MCMC, chain  2 iteration 160000 of 160000 . Current logp:  -162.1981  Please wait! \r"
     ]
    },
    {
     "name": "stderr",
     "output_type": "stream",
     "text": [
      "runMCMC terminated after 9807.13seconds\n",
      "\n"
     ]
    },
    {
     "data": {
      "text/plain": [
       "    user   system  elapsed \n",
       "15441.76   157.28 18768.94 "
      ]
     },
     "metadata": {},
     "output_type": "display_data"
    }
   ],
   "source": [
    "# Estimated params\n",
    "estpars <- c(\"P\", \"M\", \"A\", \"W\", \"B\") # parameters to estimate, can be modified\n",
    "index <- which(names(theta) %in% estpars) # index of estimated params\n",
    "\n",
    "\n",
    "# Priors\n",
    "lower = c(P=0, M=0, A=0, W=0, B = 0)\n",
    "upper = c(P=0.1, M=0.1, A=0.1, W = 0.1, B = 0.2)\n",
    "\n",
    "prior <- createUniformPrior(lower=lower[estpars], \n",
    "                            upper=upper[estpars])\n",
    "# MCMC settings\n",
    "nchains <- 2\n",
    "cpus <- 1 # or 2 if you want parallel, but it does not seem to be faster?\n",
    "mcmc_settings <- list(iterations = 2*80000, \n",
    "                      nrChains = nchains)\n",
    "sampler <- \"Metropolis\"\n",
    "\n",
    "if (cpus == 1) {\n",
    "  bayesianSetup <- createBayesianSetup(prior = prior,\n",
    "                                       likelihood = loglik_wrapper,\n",
    "                                       names = names(theta[index]),\n",
    "                                       parallel = FALSE)\n",
    "  \n",
    "  system.time({trace <- runMCMC(bayesianSetup = bayesianSetup, \n",
    "                                sampler = sampler, \n",
    "                                settings = mcmc_settings)})\n",
    "  \n",
    "}"
   ]
  },
  {
   "cell_type": "code",
   "execution_count": 83,
   "id": "da965cbb-3727-4778-b3d2-def93d81a82e",
   "metadata": {},
   "outputs": [
    {
     "data": {
      "image/png": "[encoded data removed]",
      "text/plain": [
       "Plot with title \"Density of A\""
      ]
     },
     "metadata": {
      "image/png": {
       "height": 420,
       "width": 420
      }
     },
     "output_type": "display_data"
    },
    {
     "data": {
      "image/png": "[encoded data removed]",
      "text/plain": [
       "Plot with title \"Density of B\""
      ]
     },
     "metadata": {
      "image/png": {
       "height": 420,
       "width": 420
      }
     },
     "output_type": "display_data"
    },
    {
     "data": {
      "text/plain": [
       "Potential scale reduction factors:\n",
       "\n",
       "  Point est. Upper C.I.\n",
       "P       2.29      10.76\n",
       "M       4.01      21.42\n",
       "A       5.27      27.80\n",
       "W       1.68       6.96\n",
       "B       3.58      20.55\n",
       "\n",
       "Multivariate psrf\n",
       "\n",
       "5.1"
      ]
     },
     "metadata": {},
     "output_type": "display_data"
    },
    {
     "data": {
      "image/png": "[encoded data removed]",
      "text/plain": [
       "Plot with title \"B\""
      ]
     },
     "metadata": {
      "image/png": {
       "height": 420,
       "width": 420
      }
     },
     "output_type": "display_data"
    },
    {
     "data": {
      "image/png": "[encoded data removed]",
      "text/plain": [
       "plot without title"
      ]
     },
     "metadata": {
      "image/png": {
       "height": 420,
       "width": 420
      }
     },
     "output_type": "display_data"
    },
    {
     "data": {
      "image/png": "[encoded data removed]",
      "text/plain": [
       "Plot with title \"NA\""
      ]
     },
     "metadata": {
      "image/png": {
       "height": 420,
       "width": 420
      }
     },
     "output_type": "display_data"
    }
   ],
   "source": [
    "nburn <- 20000\n",
    "plot(trace, parametersOnly = TRUE, start =nburn)\n",
    "\n",
    "# check convergence and correlations\n",
    "gelmanDiagnostics(trace, plot=TRUE, start=nburn)\n",
    "correlationPlot(getSample(trace, parametersOnly = TRUE, coda=TRUE, start=nburn), density=\"smooth\", thin=50)\n",
    "marginalPlot(trace, prior=T, singlePanel=T, start=nburn, nDrawsPrior = 1000)"
   ]
  },
  {
   "cell_type": "code",
   "execution_count": 84,
   "id": "5950a907-a586-4cab-9624-518a3b8eef8f",
   "metadata": {},
   "outputs": [],
   "source": [
    "tracefinal <- getSample(trace, parametersOnly = TRUE, coda=TRUE, start=nburn)"
   ]
  },
  {
   "cell_type": "code",
   "execution_count": 85,
   "id": "9c85999e-88cb-408b-8902-34e70ef7c2c7",
   "metadata": {},
   "outputs": [
    {
     "name": "stdout",
     "output_type": "stream",
     "text": [
      "  |======================================================================| 100%\n"
     ]
    }
   ],
   "source": [
    "trajsim <- maketrajsim(tracefinal, theta, agepred, model, inits, 1000)\n",
    "trajquantiles <- plyr::ddply(.data=trajsim, .variables=\"time\", function(x) quantile(x[,\"conv\"], prob = c(0.025, 0.5, 0.975), na.rm=T)) \n",
    "colnames(trajquantiles) <- c(\"agemid\", \"low95\", \"median\", \"up95\")\n",
    "\n",
    "lambda_spquantiles <- plyr::ddply(.data=trajsim, .variables=\"time\", function(x) quantile(x[,\"lambda_sp\"], prob = c(0.025, 0.5, 0.975), na.rm=T)) \n",
    "colnames(lambda_spquantiles) <- c(\"agemid\", \"low95\", \"median\", \"up95\")\n",
    "\n",
    "lambda_smquantiles <- plyr::ddply(.data=trajsim, .variables=\"time\", function(x) quantile(x[,\"lambda_sm\"], prob = c(0.025, 0.5, 0.975), na.rm=T)) \n",
    "colnames(lambda_smquantiles) <- c(\"agemid\", \"low95\", \"median\", \"up95\")\n",
    "\n",
    "lambda_auquantiles <- plyr::ddply(.data=trajsim, .variables=\"time\", function(x) quantile(x[,\"lambda_au\"], prob = c(0.025, 0.5, 0.975), na.rm=T)) \n",
    "colnames(lambda_auquantiles) <- c(\"agemid\", \"low95\", \"median\", \"up95\")\n",
    "\n",
    "lambda_wtquantiles <- plyr::ddply(.data=trajsim, .variables=\"time\", function(x) quantile(x[,\"lambda_wt\"], prob = c(0.025, 0.5, 0.975), na.rm=T)) \n",
    "colnames(lambda_wtquantiles) <- c(\"agemid\", \"low95\", \"median\", \"up95\")\n",
    "\n",
    "wquantiles <- plyr::ddply(.data=trajsim, .variables=\"time\", function(x) quantile(x[,\"mu\"], prob = c(0.025, 0.5, 0.975), na.rm=T)) \n",
    "colnames(wquantiles) <- c(\"agemid\", \"low95\", \"median\", \"up95\")\n",
    "\n",
    "Pquantiles <- plyr::ddply(.data=trajsim, .variables=\"time\", function(x) quantile(x[,\"P\"], prob = c(0.025, 0.5, 0.975), na.rm=T)) \n",
    "colnames(Pquantiles) <- c(\"agemid\", \"low95\", \"median\", \"up95\")\n",
    "\n",
    "Mquantiles <- plyr::ddply(.data=trajsim, .variables=\"time\", function(x) quantile(x[,\"M\"], prob = c(0.025, 0.5, 0.975), na.rm=T)) \n",
    "colnames(Mquantiles) <- c(\"agemid\", \"low95\", \"median\", \"up95\")\n",
    "\n",
    "Aquantiles <- plyr::ddply(.data=trajsim, .variables=\"time\", function(x) quantile(x[,\"A\"], prob = c(0.025, 0.5, 0.975), na.rm=T)) \n",
    "colnames(Aquantiles) <- c(\"agemid\", \"low95\", \"median\", \"up95\")\n",
    "\n",
    "Wquantiles <- plyr::ddply(.data=trajsim, .variables=\"time\", function(x) quantile(x[,\"W\"], prob = c(0.025, 0.5, 0.975), na.rm=T)) \n",
    "colnames(Wquantiles) <- c(\"agemid\", \"low95\", \"median\", \"up95\")\n"
   ]
  },
  {
   "cell_type": "code",
   "execution_count": 86,
   "id": "c841d513-f82d-45ba-9a86-e7b64918f9b2",
   "metadata": {},
   "outputs": [
    {
     "data": {
      "text/html": [
       "<table class=\"dataframe\">\n",
       "<caption>A data.frame: 6 × 4</caption>\n",
       "<thead>\n",
       "\t<tr><th></th><th scope=col>agemid</th><th scope=col>low95</th><th scope=col>median</th><th scope=col>up95</th></tr>\n",
       "\t<tr><th></th><th scope=col>&lt;dbl&gt;</th><th scope=col>&lt;dbl&gt;</th><th scope=col>&lt;dbl&gt;</th><th scope=col>&lt;dbl&gt;</th></tr>\n",
       "</thead>\n",
       "<tbody>\n",
       "\t<tr><th scope=row>1</th><td>42</td><td>0.002779747</td><td>0.007065751</td><td>0.03681979</td></tr>\n",
       "\t<tr><th scope=row>2</th><td>47</td><td>0.002779747</td><td>0.007065751</td><td>0.03681979</td></tr>\n",
       "\t<tr><th scope=row>3</th><td>53</td><td>0.002779747</td><td>0.007065751</td><td>0.03681979</td></tr>\n",
       "\t<tr><th scope=row>4</th><td>59</td><td>0.002779747</td><td>0.007065751</td><td>0.03681979</td></tr>\n",
       "\t<tr><th scope=row>5</th><td>85</td><td>0.002779747</td><td>0.007065751</td><td>0.03681979</td></tr>\n",
       "\t<tr><th scope=row>6</th><td>96</td><td>0.002779747</td><td>0.007065751</td><td>0.03681979</td></tr>\n",
       "</tbody>\n",
       "</table>\n"
      ],
      "text/latex": [
       "A data.frame: 6 × 4\n",
       "\\begin{tabular}{r|llll}\n",
       "  & agemid & low95 & median & up95\\\\\n",
       "  & <dbl> & <dbl> & <dbl> & <dbl>\\\\\n",
       "\\hline\n",
       "\t1 & 42 & 0.002779747 & 0.007065751 & 0.03681979\\\\\n",
       "\t2 & 47 & 0.002779747 & 0.007065751 & 0.03681979\\\\\n",
       "\t3 & 53 & 0.002779747 & 0.007065751 & 0.03681979\\\\\n",
       "\t4 & 59 & 0.002779747 & 0.007065751 & 0.03681979\\\\\n",
       "\t5 & 85 & 0.002779747 & 0.007065751 & 0.03681979\\\\\n",
       "\t6 & 96 & 0.002779747 & 0.007065751 & 0.03681979\\\\\n",
       "\\end{tabular}\n"
      ],
      "text/markdown": [
       "\n",
       "A data.frame: 6 × 4\n",
       "\n",
       "| <!--/--> | agemid &lt;dbl&gt; | low95 &lt;dbl&gt; | median &lt;dbl&gt; | up95 &lt;dbl&gt; |\n",
       "|---|---|---|---|---|\n",
       "| 1 | 42 | 0.002779747 | 0.007065751 | 0.03681979 |\n",
       "| 2 | 47 | 0.002779747 | 0.007065751 | 0.03681979 |\n",
       "| 3 | 53 | 0.002779747 | 0.007065751 | 0.03681979 |\n",
       "| 4 | 59 | 0.002779747 | 0.007065751 | 0.03681979 |\n",
       "| 5 | 85 | 0.002779747 | 0.007065751 | 0.03681979 |\n",
       "| 6 | 96 | 0.002779747 | 0.007065751 | 0.03681979 |\n",
       "\n"
      ],
      "text/plain": [
       "  agemid low95       median      up95      \n",
       "1 42     0.002779747 0.007065751 0.03681979\n",
       "2 47     0.002779747 0.007065751 0.03681979\n",
       "3 53     0.002779747 0.007065751 0.03681979\n",
       "4 59     0.002779747 0.007065751 0.03681979\n",
       "5 85     0.002779747 0.007065751 0.03681979\n",
       "6 96     0.002779747 0.007065751 0.03681979"
      ]
     },
     "metadata": {},
     "output_type": "display_data"
    }
   ],
   "source": [
    "head(Pquantiles)"
   ]
  },
  {
   "cell_type": "code",
   "execution_count": 87,
   "id": "09a8817b-cad4-4d8b-a0d8-7a37ec8d0ffe",
   "metadata": {},
   "outputs": [
    {
     "data": {
      "text/html": [
       "<table class=\"dataframe\">\n",
       "<caption>A data.frame: 6 × 4</caption>\n",
       "<thead>\n",
       "\t<tr><th></th><th scope=col>agemid</th><th scope=col>low95</th><th scope=col>median</th><th scope=col>up95</th></tr>\n",
       "\t<tr><th></th><th scope=col>&lt;dbl&gt;</th><th scope=col>&lt;dbl&gt;</th><th scope=col>&lt;dbl&gt;</th><th scope=col>&lt;dbl&gt;</th></tr>\n",
       "</thead>\n",
       "<tbody>\n",
       "\t<tr><th scope=row>1</th><td>42</td><td>7.500843e-05</td><td>0.001838591</td><td>0.03486611</td></tr>\n",
       "\t<tr><th scope=row>2</th><td>47</td><td>7.500843e-05</td><td>0.001838591</td><td>0.03486611</td></tr>\n",
       "\t<tr><th scope=row>3</th><td>53</td><td>7.500843e-05</td><td>0.001838591</td><td>0.03486611</td></tr>\n",
       "\t<tr><th scope=row>4</th><td>59</td><td>7.500843e-05</td><td>0.001838591</td><td>0.03486611</td></tr>\n",
       "\t<tr><th scope=row>5</th><td>85</td><td>7.500843e-05</td><td>0.001838591</td><td>0.03486611</td></tr>\n",
       "\t<tr><th scope=row>6</th><td>96</td><td>7.500843e-05</td><td>0.001838591</td><td>0.03486611</td></tr>\n",
       "</tbody>\n",
       "</table>\n"
      ],
      "text/latex": [
       "A data.frame: 6 × 4\n",
       "\\begin{tabular}{r|llll}\n",
       "  & agemid & low95 & median & up95\\\\\n",
       "  & <dbl> & <dbl> & <dbl> & <dbl>\\\\\n",
       "\\hline\n",
       "\t1 & 42 & 7.500843e-05 & 0.001838591 & 0.03486611\\\\\n",
       "\t2 & 47 & 7.500843e-05 & 0.001838591 & 0.03486611\\\\\n",
       "\t3 & 53 & 7.500843e-05 & 0.001838591 & 0.03486611\\\\\n",
       "\t4 & 59 & 7.500843e-05 & 0.001838591 & 0.03486611\\\\\n",
       "\t5 & 85 & 7.500843e-05 & 0.001838591 & 0.03486611\\\\\n",
       "\t6 & 96 & 7.500843e-05 & 0.001838591 & 0.03486611\\\\\n",
       "\\end{tabular}\n"
      ],
      "text/markdown": [
       "\n",
       "A data.frame: 6 × 4\n",
       "\n",
       "| <!--/--> | agemid &lt;dbl&gt; | low95 &lt;dbl&gt; | median &lt;dbl&gt; | up95 &lt;dbl&gt; |\n",
       "|---|---|---|---|---|\n",
       "| 1 | 42 | 7.500843e-05 | 0.001838591 | 0.03486611 |\n",
       "| 2 | 47 | 7.500843e-05 | 0.001838591 | 0.03486611 |\n",
       "| 3 | 53 | 7.500843e-05 | 0.001838591 | 0.03486611 |\n",
       "| 4 | 59 | 7.500843e-05 | 0.001838591 | 0.03486611 |\n",
       "| 5 | 85 | 7.500843e-05 | 0.001838591 | 0.03486611 |\n",
       "| 6 | 96 | 7.500843e-05 | 0.001838591 | 0.03486611 |\n",
       "\n"
      ],
      "text/plain": [
       "  agemid low95        median      up95      \n",
       "1 42     7.500843e-05 0.001838591 0.03486611\n",
       "2 47     7.500843e-05 0.001838591 0.03486611\n",
       "3 53     7.500843e-05 0.001838591 0.03486611\n",
       "4 59     7.500843e-05 0.001838591 0.03486611\n",
       "5 85     7.500843e-05 0.001838591 0.03486611\n",
       "6 96     7.500843e-05 0.001838591 0.03486611"
      ]
     },
     "metadata": {},
     "output_type": "display_data"
    }
   ],
   "source": [
    "head(Wquantiles)"
   ]
  },
  {
   "cell_type": "code",
   "execution_count": 88,
   "id": "723b7ae8-cbdd-4ac6-8114-98573c329555",
   "metadata": {},
   "outputs": [
    {
     "data": {
      "text/html": [
       "<table class=\"dataframe\">\n",
       "<caption>A data.frame: 6 × 4</caption>\n",
       "<thead>\n",
       "\t<tr><th></th><th scope=col>agemid</th><th scope=col>low95</th><th scope=col>median</th><th scope=col>up95</th></tr>\n",
       "\t<tr><th></th><th scope=col>&lt;dbl&gt;</th><th scope=col>&lt;dbl&gt;</th><th scope=col>&lt;dbl&gt;</th><th scope=col>&lt;dbl&gt;</th></tr>\n",
       "</thead>\n",
       "<tbody>\n",
       "\t<tr><th scope=row>1</th><td>42</td><td>0.008748463</td><td>0.02061517</td><td>0.09490728</td></tr>\n",
       "\t<tr><th scope=row>2</th><td>47</td><td>0.008748463</td><td>0.02061517</td><td>0.09490728</td></tr>\n",
       "\t<tr><th scope=row>3</th><td>53</td><td>0.008748463</td><td>0.02061517</td><td>0.09490728</td></tr>\n",
       "\t<tr><th scope=row>4</th><td>59</td><td>0.008748463</td><td>0.02061517</td><td>0.09490728</td></tr>\n",
       "\t<tr><th scope=row>5</th><td>85</td><td>0.008748463</td><td>0.02061517</td><td>0.09490728</td></tr>\n",
       "\t<tr><th scope=row>6</th><td>96</td><td>0.008748463</td><td>0.02061517</td><td>0.09490728</td></tr>\n",
       "</tbody>\n",
       "</table>\n"
      ],
      "text/latex": [
       "A data.frame: 6 × 4\n",
       "\\begin{tabular}{r|llll}\n",
       "  & agemid & low95 & median & up95\\\\\n",
       "  & <dbl> & <dbl> & <dbl> & <dbl>\\\\\n",
       "\\hline\n",
       "\t1 & 42 & 0.008748463 & 0.02061517 & 0.09490728\\\\\n",
       "\t2 & 47 & 0.008748463 & 0.02061517 & 0.09490728\\\\\n",
       "\t3 & 53 & 0.008748463 & 0.02061517 & 0.09490728\\\\\n",
       "\t4 & 59 & 0.008748463 & 0.02061517 & 0.09490728\\\\\n",
       "\t5 & 85 & 0.008748463 & 0.02061517 & 0.09490728\\\\\n",
       "\t6 & 96 & 0.008748463 & 0.02061517 & 0.09490728\\\\\n",
       "\\end{tabular}\n"
      ],
      "text/markdown": [
       "\n",
       "A data.frame: 6 × 4\n",
       "\n",
       "| <!--/--> | agemid &lt;dbl&gt; | low95 &lt;dbl&gt; | median &lt;dbl&gt; | up95 &lt;dbl&gt; |\n",
       "|---|---|---|---|---|\n",
       "| 1 | 42 | 0.008748463 | 0.02061517 | 0.09490728 |\n",
       "| 2 | 47 | 0.008748463 | 0.02061517 | 0.09490728 |\n",
       "| 3 | 53 | 0.008748463 | 0.02061517 | 0.09490728 |\n",
       "| 4 | 59 | 0.008748463 | 0.02061517 | 0.09490728 |\n",
       "| 5 | 85 | 0.008748463 | 0.02061517 | 0.09490728 |\n",
       "| 6 | 96 | 0.008748463 | 0.02061517 | 0.09490728 |\n",
       "\n"
      ],
      "text/plain": [
       "  agemid low95       median     up95      \n",
       "1 42     0.008748463 0.02061517 0.09490728\n",
       "2 47     0.008748463 0.02061517 0.09490728\n",
       "3 53     0.008748463 0.02061517 0.09490728\n",
       "4 59     0.008748463 0.02061517 0.09490728\n",
       "5 85     0.008748463 0.02061517 0.09490728\n",
       "6 96     0.008748463 0.02061517 0.09490728"
      ]
     },
     "metadata": {},
     "output_type": "display_data"
    }
   ],
   "source": [
    "head(Mquantiles)"
   ]
  },
  {
   "cell_type": "code",
   "execution_count": 89,
   "id": "e4924ece-0a47-4b0a-93fd-cc09354454e2",
   "metadata": {},
   "outputs": [
    {
     "data": {
      "text/html": [
       "<table class=\"dataframe\">\n",
       "<caption>A data.frame: 6 × 4</caption>\n",
       "<thead>\n",
       "\t<tr><th></th><th scope=col>agemid</th><th scope=col>low95</th><th scope=col>median</th><th scope=col>up95</th></tr>\n",
       "\t<tr><th></th><th scope=col>&lt;dbl&gt;</th><th scope=col>&lt;dbl&gt;</th><th scope=col>&lt;dbl&gt;</th><th scope=col>&lt;dbl&gt;</th></tr>\n",
       "</thead>\n",
       "<tbody>\n",
       "\t<tr><th scope=row>1</th><td>42</td><td>0.0007235298</td><td>0.0175492</td><td>0.09790648</td></tr>\n",
       "\t<tr><th scope=row>2</th><td>47</td><td>0.0007235298</td><td>0.0175492</td><td>0.09790648</td></tr>\n",
       "\t<tr><th scope=row>3</th><td>53</td><td>0.0007235298</td><td>0.0175492</td><td>0.09790648</td></tr>\n",
       "\t<tr><th scope=row>4</th><td>59</td><td>0.0007235298</td><td>0.0175492</td><td>0.09790648</td></tr>\n",
       "\t<tr><th scope=row>5</th><td>85</td><td>0.0007235298</td><td>0.0175492</td><td>0.09790648</td></tr>\n",
       "\t<tr><th scope=row>6</th><td>96</td><td>0.0007235298</td><td>0.0175492</td><td>0.09790648</td></tr>\n",
       "</tbody>\n",
       "</table>\n"
      ],
      "text/latex": [
       "A data.frame: 6 × 4\n",
       "\\begin{tabular}{r|llll}\n",
       "  & agemid & low95 & median & up95\\\\\n",
       "  & <dbl> & <dbl> & <dbl> & <dbl>\\\\\n",
       "\\hline\n",
       "\t1 & 42 & 0.0007235298 & 0.0175492 & 0.09790648\\\\\n",
       "\t2 & 47 & 0.0007235298 & 0.0175492 & 0.09790648\\\\\n",
       "\t3 & 53 & 0.0007235298 & 0.0175492 & 0.09790648\\\\\n",
       "\t4 & 59 & 0.0007235298 & 0.0175492 & 0.09790648\\\\\n",
       "\t5 & 85 & 0.0007235298 & 0.0175492 & 0.09790648\\\\\n",
       "\t6 & 96 & 0.0007235298 & 0.0175492 & 0.09790648\\\\\n",
       "\\end{tabular}\n"
      ],
      "text/markdown": [
       "\n",
       "A data.frame: 6 × 4\n",
       "\n",
       "| <!--/--> | agemid &lt;dbl&gt; | low95 &lt;dbl&gt; | median &lt;dbl&gt; | up95 &lt;dbl&gt; |\n",
       "|---|---|---|---|---|\n",
       "| 1 | 42 | 0.0007235298 | 0.0175492 | 0.09790648 |\n",
       "| 2 | 47 | 0.0007235298 | 0.0175492 | 0.09790648 |\n",
       "| 3 | 53 | 0.0007235298 | 0.0175492 | 0.09790648 |\n",
       "| 4 | 59 | 0.0007235298 | 0.0175492 | 0.09790648 |\n",
       "| 5 | 85 | 0.0007235298 | 0.0175492 | 0.09790648 |\n",
       "| 6 | 96 | 0.0007235298 | 0.0175492 | 0.09790648 |\n",
       "\n"
      ],
      "text/plain": [
       "  agemid low95        median    up95      \n",
       "1 42     0.0007235298 0.0175492 0.09790648\n",
       "2 47     0.0007235298 0.0175492 0.09790648\n",
       "3 53     0.0007235298 0.0175492 0.09790648\n",
       "4 59     0.0007235298 0.0175492 0.09790648\n",
       "5 85     0.0007235298 0.0175492 0.09790648\n",
       "6 96     0.0007235298 0.0175492 0.09790648"
      ]
     },
     "metadata": {},
     "output_type": "display_data"
    }
   ],
   "source": [
    "head(Aquantiles)"
   ]
  },
  {
   "cell_type": "code",
   "execution_count": 90,
   "id": "4902db72-11e8-467d-88ac-3d7dd5f5ea8d",
   "metadata": {},
   "outputs": [
    {
     "data": {
      "text/html": [
       "<table class=\"dataframe\">\n",
       "<caption>A data.frame: 6 × 4</caption>\n",
       "<thead>\n",
       "\t<tr><th></th><th scope=col>agemid</th><th scope=col>low95</th><th scope=col>median</th><th scope=col>up95</th></tr>\n",
       "\t<tr><th></th><th scope=col>&lt;dbl&gt;</th><th scope=col>&lt;dbl&gt;</th><th scope=col>&lt;dbl&gt;</th><th scope=col>&lt;dbl&gt;</th></tr>\n",
       "</thead>\n",
       "<tbody>\n",
       "\t<tr><th scope=row>1</th><td>42</td><td>0.006400049</td><td>0.009497335</td><td>0.1902034</td></tr>\n",
       "\t<tr><th scope=row>2</th><td>47</td><td>0.006400049</td><td>0.009497335</td><td>0.1902034</td></tr>\n",
       "\t<tr><th scope=row>3</th><td>53</td><td>0.006400049</td><td>0.009497335</td><td>0.1902034</td></tr>\n",
       "\t<tr><th scope=row>4</th><td>59</td><td>0.006400049</td><td>0.009497335</td><td>0.1902034</td></tr>\n",
       "\t<tr><th scope=row>5</th><td>85</td><td>0.006400049</td><td>0.009497335</td><td>0.1902034</td></tr>\n",
       "\t<tr><th scope=row>6</th><td>96</td><td>0.006400049</td><td>0.009497335</td><td>0.1902034</td></tr>\n",
       "</tbody>\n",
       "</table>\n"
      ],
      "text/latex": [
       "A data.frame: 6 × 4\n",
       "\\begin{tabular}{r|llll}\n",
       "  & agemid & low95 & median & up95\\\\\n",
       "  & <dbl> & <dbl> & <dbl> & <dbl>\\\\\n",
       "\\hline\n",
       "\t1 & 42 & 0.006400049 & 0.009497335 & 0.1902034\\\\\n",
       "\t2 & 47 & 0.006400049 & 0.009497335 & 0.1902034\\\\\n",
       "\t3 & 53 & 0.006400049 & 0.009497335 & 0.1902034\\\\\n",
       "\t4 & 59 & 0.006400049 & 0.009497335 & 0.1902034\\\\\n",
       "\t5 & 85 & 0.006400049 & 0.009497335 & 0.1902034\\\\\n",
       "\t6 & 96 & 0.006400049 & 0.009497335 & 0.1902034\\\\\n",
       "\\end{tabular}\n"
      ],
      "text/markdown": [
       "\n",
       "A data.frame: 6 × 4\n",
       "\n",
       "| <!--/--> | agemid &lt;dbl&gt; | low95 &lt;dbl&gt; | median &lt;dbl&gt; | up95 &lt;dbl&gt; |\n",
       "|---|---|---|---|---|\n",
       "| 1 | 42 | 0.006400049 | 0.009497335 | 0.1902034 |\n",
       "| 2 | 47 | 0.006400049 | 0.009497335 | 0.1902034 |\n",
       "| 3 | 53 | 0.006400049 | 0.009497335 | 0.1902034 |\n",
       "| 4 | 59 | 0.006400049 | 0.009497335 | 0.1902034 |\n",
       "| 5 | 85 | 0.006400049 | 0.009497335 | 0.1902034 |\n",
       "| 6 | 96 | 0.006400049 | 0.009497335 | 0.1902034 |\n",
       "\n"
      ],
      "text/plain": [
       "  agemid low95       median      up95     \n",
       "1 42     0.006400049 0.009497335 0.1902034\n",
       "2 47     0.006400049 0.009497335 0.1902034\n",
       "3 53     0.006400049 0.009497335 0.1902034\n",
       "4 59     0.006400049 0.009497335 0.1902034\n",
       "5 85     0.006400049 0.009497335 0.1902034\n",
       "6 96     0.006400049 0.009497335 0.1902034"
      ]
     },
     "metadata": {},
     "output_type": "display_data"
    }
   ],
   "source": [
    "head(wquantiles)"
   ]
  },
  {
   "cell_type": "code",
   "execution_count": 69,
   "id": "7a389608-d28a-4f4a-a043-6f0b8dd307d4",
   "metadata": {},
   "outputs": [],
   "source": [
    "write.csv(lambda_spquantiles, \"S_lambda_sp2.csv\")\n",
    "write.csv(lambda_smquantiles, \"S_lambda_sm2.csv\")\n",
    "write.csv(lambda_auquantiles, \"S_lambda_au2.csv\")\n",
    "write.csv(lambda_auquantiles, \"S_lambda_wt2.csv\")\n",
    "\n",
    "write.csv(Pquantiles, \"S_Pquantiles2.csv\")\n",
    "write.csv(Mquantiles, \"S_Mquantiles2.csv\")\n",
    "write.csv(Aquantiles, \"S_Aquantiles2.csv\")\n",
    "write.csv(Wquantiles, \"S_Wquantiles2.csv\")\n",
    "write.csv(wquantiles, \"S_Immunity_quantiles2.csv\")\n",
    "\n",
    "write.csv(trajquantiles, \"S_trajquantiles2.csv\")\n",
    "write.csv(trajsim, \"S_trajsim2.csv\")"
   ]
  }
 ],
 "metadata": {
  "kernelspec": {
   "display_name": "R",
   "language": "R",
   "name": "ir"
  },
  "language_info": {
   "codemirror_mode": "r",
   "file_extension": ".r",
   "mimetype": "text/x-r-source",
   "name": "R",
   "pygments_lexer": "r",
   "version": "4.1.3"
  }
 },
 "nbformat": 4,
 "nbformat_minor": 5
}
