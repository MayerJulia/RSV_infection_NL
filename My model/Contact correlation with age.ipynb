{
 "cells": [
  {
   "cell_type": "code",
   "execution_count": 16,
   "id": "0324dcc0-09c8-4392-8760-90b38e220da2",
   "metadata": {},
   "outputs": [
    {
     "name": "stderr",
     "output_type": "stream",
     "text": [
      "\n",
      "Attaching package: 'ggpubr'\n",
      "\n",
      "\n",
      "The following object is masked from 'package:plyr':\n",
      "\n",
      "    mutate\n",
      "\n",
      "\n"
     ]
    }
   ],
   "source": [
    "rm(list=ls())\n",
    "set.seed(42)\n",
    "\n",
    "library(tidyverse)\n",
    "library(plyr)\n",
    "library(coda)\n",
    "library(lubridate)\n",
    "library(ggpubr)\n",
    "theme_set(theme_minimal())"
   ]
  },
  {
   "cell_type": "code",
   "execution_count": 2,
   "id": "be0b6196-0ab5-498e-8a7e-00ee615c5e0c",
   "metadata": {},
   "outputs": [],
   "source": [
    "# DATA PREP  ------------------------------------------------------------\n",
    "\n",
    "data <- read.csv(\"https://raw.githubusercontent.com/Stijn-A/RSV_serology/master/data/infection_status_csv.txt\",\n",
    "                 sep=\",\")\n",
    "\n",
    "# Group age into intervals \n",
    "# bi-monthly for 0-2 years and 6-monthly for 2-5 years\n",
    "data$agegrp <- cut(data$age_days,\n",
    "                   breaks=c(seq(0,730, by=30.25*2),\n",
    "                            seq(909,2000, by=30.25*6)), \n",
    "                   include.lowest = T, right=F)\n",
    "\n",
    "season_border = \"10-01\" #MM-DD\n",
    "spring <- c(3, 4, 5)\n",
    "summer <- c(6, 7, 8)\n",
    "autumn <- c (9, 10, 11)\n",
    "winter <- c(1, 2, 12)\n",
    "\n",
    "# Define categories like in the original model\n",
    "data <- data %>%\n",
    "  # Get day of the year of birthday (= number between 1 and 365)\n",
    "  mutate(\n",
    "    Birth_doy = birthday %>% yday()\n",
    "  ) %>%\n",
    "  # Alter number of housefold members 1 == no siblings, >1 == having siblings\n",
    "  mutate(\n",
    "    household04_counts = case_when(\n",
    "      age_days/365 >= 5 ~ (household04 + 1),  #because the child itself is also included in household size\n",
    "      age_days/365 < 5 ~ household04)       #the household04 of children of age 5 should also include the child itself\n",
    "  ) %>%\n",
    "  # Make number of siblings 0-4 years binary factor variable\n",
    "  mutate(\n",
    "    Siblings04 = case_when(\n",
    "      household04_counts <= 1 ~ 'False',\n",
    "      household04_counts > 1 ~ 'True'\n",
    "    ) %>% \n",
    "      factor()\n",
    "  ) %>%\n",
    "  # Make number of siblings 5-9 years binary factor variable\n",
    "  mutate(\n",
    "    Siblings59 = case_when(\n",
    "      household59 <= 0 ~ 'False',\n",
    "      household59 > 0 ~ 'True'\n",
    "    ) %>% \n",
    "      factor()\n",
    "  ) %>% \n",
    "  # Set nursery 0 1 to False True\n",
    "  mutate(\n",
    "    Nursery = case_when(\n",
    "      visitnursery_child == 0 ~ 'False',\n",
    "      visitnursery_child == 1 ~ 'True'\n",
    "    ) %>% \n",
    "      factor()\n",
    "  )\n",
    "data <- data %>%\n",
    "  mutate(\n",
    "    Birth_mo = birthday %>% month()\n",
    "  )%>%\n",
    "  mutate(\n",
    "    seasons = case_when(\n",
    "      consultdate < paste(\"2006-\", season_border, sep = \"\")  ~ \"2005/2006\", \n",
    "      (consultdate >= paste(\"2006-\", season_border, sep = \"\") &  consultdate < \"2010-01-01\") ~ \"2006/2007\",\n",
    "      (consultdate >= \"2010-01-01\" &  consultdate < paste(\"2016-\", season_border, sep = \"\")) ~ \"2015/2016\",\n",
    "      consultdate >= paste(\"2016-\", season_border, sep = \"\")  ~ \"2016/2017\")\n",
    "  ) %>% \n",
    "  # Variable for the two cohorts\n",
    "  mutate(\n",
    "    cohort = if_else(seasons == \"2005/2006\" | seasons == \"2006/2007\", \"2006/2007\", \"2016/2017\")\n",
    "  )%>%\n",
    "  mutate(\n",
    "    season_birth = case_when(\n",
    "      Birth_mo %in% spring ~ \"Spring\",\n",
    "      Birth_mo %in% summer ~ \"Summer\",\n",
    "      Birth_mo %in% autumn ~ \"Autumn\",\n",
    "      Birth_mo %in% winter ~ \"Winter\")\n",
    "  ) %>%\n",
    "  mutate(\n",
    "    nursery_house = case_when(\n",
    "      visitnursery_house <= 0 ~ 'False',\n",
    "      visitnursery_house > 0 ~ 'True'\n",
    "    ) %>% \n",
    "      factor()\n",
    "  )%>%\n",
    "  mutate(\n",
    "    pre_term = case_when(\n",
    "      pregnancytime < 37.0 ~ 'True',\n",
    "      pregnancytime >= 37.0 ~ 'False'\n",
    "    ) %>%\n",
    "      factor()\n",
    "  )\n",
    "\n",
    "# Group number of contacts\n",
    "data <- data %>%\n",
    "  mutate(\n",
    "    total_cont = case_when(\n",
    "      contacttotal == 0 ~ '0',\n",
    "      contacttotal >= 1 & contacttotal <= 2 ~ '1-2',\n",
    "      contacttotal >= 3 & contacttotal <= 5 ~ '3-5',\n",
    "      contacttotal >= 6 & contacttotal <= 10 ~ '6-10',\n",
    "      contacttotal >= 11 & contacttotal <= 20 ~ '11-20',\n",
    "      contacttotal >= 21 & contacttotal <= 50 ~ '21-50',\n",
    "      contacttotal > 50  ~ '50+'\n",
    "    )\n",
    "  )%>%\n",
    "  mutate(\n",
    "    total_cont59 = case_when(\n",
    "      contact59 == 0 ~ '0',\n",
    "      contact59 >= 1 & contact59 <= 2 ~ '1-2',\n",
    "      contact59 >= 3 & contact59 <= 5 ~ '3-5',\n",
    "      contact59 >= 6 & contact59 <= 10 ~ '6-10',\n",
    "      contact59 >= 11 & contact59 <= 20 ~ '11-20',\n",
    "      contact59 >= 21 & contact59 <= 50 ~ '21-50'\n",
    "    )\n",
    "  )%>%\n",
    "  mutate(\n",
    "    total_cont04 = case_when(\n",
    "      contact04 == 0 ~ '0',\n",
    "      contact04 >= 1 & contact04 <= 2 ~ '1-2',\n",
    "      contact04 >= 3 & contact04 <= 5 ~ '3-5',\n",
    "      contact04 >= 6 & contact04 <= 10 ~ '6-10',\n",
    "      contact04 >= 11 & contact04 <= 20 ~ '11-20',\n",
    "      contact04 >= 21 & contact04 <= 40 ~ '21-40'\n",
    "    )\n",
    "  )\n"
   ]
  },
  {
   "cell_type": "code",
   "execution_count": 39,
   "id": "e1a37931-6d1e-4ad0-b88f-00c5f70502b1",
   "metadata": {},
   "outputs": [
    {
     "data": {
      "image/png": "[encoded data removed]",
      "text/plain": [
       "plot without title"
      ]
     },
     "metadata": {
      "image/png": {
       "height": 420,
       "width": 420
      }
     },
     "output_type": "display_data"
    }
   ],
   "source": [
    "# Infection by age--------------------------------------------------------------\n",
    "tab <- table(data$agegrp, data$infection)\n",
    "ptab <- prop.table(tab, margin=1)\n",
    "dframe <- data.frame(values=rownames(tab), infected=ptab[,2])\n",
    "p<-ggplot(data=dframe, aes(x=values, y=infected, fill = values)) +\n",
    "  geom_bar(stat=\"identity\")+\n",
    "  theme_minimal()+\n",
    "  labs(title=\"Proportion infected by age\",\n",
    "       x =\"Age in days\", y = \"Proportion infected\") + scale_fill_discrete(name=\"Age in days\")\n",
    "p\n"
   ]
  },
  {
   "cell_type": "markdown",
   "id": "5845017c-997b-475b-98a7-a0fa13b67876",
   "metadata": {},
   "source": [
    "# All contacts #"
   ]
  },
  {
   "cell_type": "code",
   "execution_count": 40,
   "id": "363daf0d-75a8-4876-bd9c-dcc20c79e05e",
   "metadata": {},
   "outputs": [
    {
     "data": {
      "image/png": "[encoded data removed]",
      "text/plain": [
       "plot without title"
      ]
     },
     "metadata": {
      "image/png": {
       "height": 420,
       "width": 420
      }
     },
     "output_type": "display_data"
    }
   ],
   "source": [
    "# Contacts by age---------------------------------------------------------------\n",
    "data %>% filter(complete.cases(contacttotal)) %>% \n",
    "  group_by(agegrp) %>% \n",
    "  ggplot(aes(x=agegrp,y=contacttotal,fill=factor(infection)))+geom_boxplot()+\n",
    "  labs(title=\"Total number of contacts by age and infection status\",\n",
    "       x =\"Age in days\", y = \"Total contacts\", fill = \"Infection status\") "
   ]
  },
  {
   "cell_type": "code",
   "execution_count": 43,
   "id": "e633a032-0b28-4c87-9bf3-16fb8aaf299f",
   "metadata": {},
   "outputs": [],
   "source": [
    "#Correlation between total number of contacts and age\n",
    "contacts <- data %>% filter(complete.cases(contacttotal))"
   ]
  },
  {
   "cell_type": "code",
   "execution_count": 42,
   "id": "0e304e99-11f6-4f71-af28-a9e3d7fd1187",
   "metadata": {},
   "outputs": [
    {
     "data": {
      "text/html": [
       "0.341267962521953"
      ],
      "text/latex": [
       "0.341267962521953"
      ],
      "text/markdown": [
       "0.341267962521953"
      ],
      "text/plain": [
       "[1] 0.341268"
      ]
     },
     "metadata": {},
     "output_type": "display_data"
    }
   ],
   "source": [
    "cor(contacts$age_days, contacts$contacttotal)"
   ]
  },
  {
   "cell_type": "code",
   "execution_count": 3,
   "id": "1f4a1027-90c7-453c-bb5c-a48fcdfa12d2",
   "metadata": {},
   "outputs": [],
   "source": [
    "contacts <- read.csv(\"https://raw.githubusercontent.com/Stijn-A/RSV_serology/master/data/infection_status_csv.txt\",\n",
    "                 sep=\",\")\n",
    "\n",
    "# Group age into intervals \n",
    "# bi-monthly for 0-2 years and 6-monthly for 2-5 years\n",
    "contacts$agegrp <- cut(contacts$age_days,\n",
    "                   breaks=c(seq(0,730, by=30.25*2),\n",
    "                            seq(909,2000, by=30.25*6)), \n",
    "                   include.lowest = T, right=F)\n",
    "\n",
    "contacts <- contacts %>% filter(complete.cases(contacttotal))\n",
    "\n",
    "contacts <- contacts %>% dplyr::group_by(agegrp) %>% \n",
    "  dplyr::summarise(agemid=round(median(age_days)),\n",
    "                  total_contacts = round(median(contacttotal)))"
   ]
  },
  {
   "cell_type": "code",
   "execution_count": 4,
   "id": "492b1ead-98b5-41e8-b903-bf331b094941",
   "metadata": {},
   "outputs": [
    {
     "data": {
      "text/html": [
       "0.880851401185013"
      ],
      "text/latex": [
       "0.880851401185013"
      ],
      "text/markdown": [
       "0.880851401185013"
      ],
      "text/plain": [
       "[1] 0.8808514"
      ]
     },
     "metadata": {},
     "output_type": "display_data"
    }
   ],
   "source": [
    "cor(contacts$agemid, contacts$total_contacts)"
   ]
  },
  {
   "cell_type": "code",
   "execution_count": 5,
   "id": "8504c29f-6a56-4c57-aaec-f58988b7d2fe",
   "metadata": {},
   "outputs": [
    {
     "name": "stdout",
     "output_type": "stream",
     "text": [
      "\n",
      "Call:\n",
      "lm(formula = contacttotal ~ age_days, data = data)\n",
      "\n",
      "Coefficients:\n",
      "(Intercept)     age_days  \n",
      "    2.50639      0.01068  \n",
      "\n"
     ]
    }
   ],
   "source": [
    "linearMod <- lm(contacttotal ~ age_days, data=data)  # build linear regression model on full data\n",
    "print(linearMod)"
   ]
  },
  {
   "cell_type": "code",
   "execution_count": 6,
   "id": "85a77041-0a47-418e-811a-e52f612ef3f3",
   "metadata": {},
   "outputs": [
    {
     "name": "stdout",
     "output_type": "stream",
     "text": [
      "\n",
      "Call:\n",
      "lm(formula = total_contacts ~ agemid, data = contacts)\n",
      "\n",
      "Coefficients:\n",
      "(Intercept)       agemid  \n",
      "    0.27373      0.01062  \n",
      "\n"
     ]
    },
    {
     "data": {
      "image/png": "[encoded data removed]",
      "text/plain": [
       "Plot with title \"\""
      ]
     },
     "metadata": {
      "image/png": {
       "height": 420,
       "width": 420
      }
     },
     "output_type": "display_data"
    },
    {
     "data": {
      "image/png": "[encoded data removed]",
      "text/plain": [
       "Plot with title \"\""
      ]
     },
     "metadata": {
      "image/png": {
       "height": 420,
       "width": 420
      }
     },
     "output_type": "display_data"
    },
    {
     "data": {
      "image/png": "[encoded data removed]",
      "text/plain": [
       "Plot with title \"\""
      ]
     },
     "metadata": {
      "image/png": {
       "height": 420,
       "width": 420
      }
     },
     "output_type": "display_data"
    },
    {
     "data": {
      "image/png": "[encoded data removed]",
      "text/plain": [
       "Plot with title \"\""
      ]
     },
     "metadata": {
      "image/png": {
       "height": 420,
       "width": 420
      }
     },
     "output_type": "display_data"
    }
   ],
   "source": [
    "linearMod <- lm(total_contacts ~ agemid, data=contacts)  # build linear regression model on full data\n",
    "print(linearMod)\n",
    "plot(linearMod)"
   ]
  },
  {
   "cell_type": "code",
   "execution_count": 7,
   "id": "d1ca6c96-1846-405a-b3f5-086613a53d00",
   "metadata": {},
   "outputs": [
    {
     "data": {
      "text/plain": [
       "\n",
       "Call:\n",
       "lm(formula = total_contacts ~ agemid, data = contacts)\n",
       "\n",
       "Residuals:\n",
       "    Min      1Q  Median      3Q     Max \n",
       "-5.0392 -2.5038  0.4436  1.1764  9.5037 \n",
       "\n",
       "Coefficients:\n",
       "            Estimate Std. Error t value Pr(>|t|)    \n",
       "(Intercept) 0.273734   1.260981   0.217    0.831    \n",
       "agemid      0.010617   0.001384   7.672 6.42e-07 ***\n",
       "---\n",
       "Signif. codes:  0 '***' 0.001 '**' 0.01 '*' 0.05 '.' 0.1 ' ' 1\n",
       "\n",
       "Residual standard error: 3.308 on 17 degrees of freedom\n",
       "Multiple R-squared:  0.7759,\tAdjusted R-squared:  0.7627 \n",
       "F-statistic: 58.86 on 1 and 17 DF,  p-value: 6.424e-07\n"
      ]
     },
     "metadata": {},
     "output_type": "display_data"
    }
   ],
   "source": [
    "summary(linearMod)"
   ]
  },
  {
   "cell_type": "code",
   "execution_count": 8,
   "id": "5dbb2e18-3fb1-42d1-85bb-efbc30f85fc1",
   "metadata": {},
   "outputs": [
    {
     "name": "stderr",
     "output_type": "stream",
     "text": [
      "\n",
      "Attaching package: 'ggpubr'\n",
      "\n",
      "\n",
      "The following object is masked from 'package:plyr':\n",
      "\n",
      "    mutate\n",
      "\n",
      "\n",
      "`geom_smooth()` using formula 'y ~ x'\n",
      "\n"
     ]
    },
    {
     "data": {
      "image/png": "[encoded data removed]",
      "text/plain": [
       "plot without title"
      ]
     },
     "metadata": {
      "image/png": {
       "height": 420,
       "width": 420
      }
     },
     "output_type": "display_data"
    }
   ],
   "source": [
    "p<-ggplot(contacts, aes(x=agemid, y=total_contacts))+\n",
    "                     geom_point() + geom_smooth(method=\"lm\", col=\"black\") +\n",
    "                     stat_regline_equation(label.x = 3, label.y = 7) +\n",
    "                     labs(title = \"Number of total contacts by age\",\n",
    "                      x = \"Age midpoint\",\n",
    "                      y = \"Number of total contacts\")\n",
    "p"
   ]
  },
  {
   "cell_type": "code",
   "execution_count": 12,
   "id": "abb872e3-6a9a-4b39-8860-7f880194eb5a",
   "metadata": {},
   "outputs": [
    {
     "data": {
      "text/html": [
       "0.88647224098126"
      ],
      "text/latex": [
       "0.88647224098126"
      ],
      "text/markdown": [
       "0.88647224098126"
      ],
      "text/plain": [
       "[1] 0.8864722"
      ]
     },
     "metadata": {},
     "output_type": "display_data"
    }
   ],
   "source": [
    "#now looking at infected only\n",
    "contacts_inf <- read.csv(\"https://raw.githubusercontent.com/Stijn-A/RSV_serology/master/data/infection_status_csv.txt\",\n",
    "                 sep=\",\")\n",
    "\n",
    "# Group age into intervals \n",
    "# bi-monthly for 0-2 years and 6-monthly for 2-5 years\n",
    "contacts_inf$agegrp <- cut(contacts_inf$age_days,\n",
    "                   breaks=c(seq(0,730, by=30.25*2),\n",
    "                            seq(909,2000, by=30.25*6)), \n",
    "                   include.lowest = T, right=F)\n",
    "\n",
    "contacts_inf <- contacts_inf %>% filter(complete.cases(contacttotal))\n",
    "contacts_inf <- contacts_inf %>% filter(infection == 1)\n",
    "\n",
    "contacts_inf <- contacts_inf %>% dplyr::group_by(agegrp) %>% \n",
    "  dplyr::summarise(agemid=round(median(age_days)),\n",
    "                  total_contacts = round(median(contacttotal)))\n",
    "cor(contacts_inf$agemid, contacts_inf$total_contacts)"
   ]
  },
  {
   "cell_type": "code",
   "execution_count": 16,
   "id": "7062441e-19a6-4e58-8384-8f81fe210546",
   "metadata": {},
   "outputs": [
    {
     "name": "stderr",
     "output_type": "stream",
     "text": [
      "`geom_smooth()` using formula 'y ~ x'\n",
      "\n"
     ]
    },
    {
     "data": {
      "image/png": "[encoded data removed]",
      "text/plain": [
       "plot without title"
      ]
     },
     "metadata": {
      "image/png": {
       "height": 420,
       "width": 420
      }
     },
     "output_type": "display_data"
    }
   ],
   "source": [
    "p<-ggplot(contacts_inf, aes(x=agemid, y=total_contacts))+\n",
    "                     geom_point() + geom_smooth(method=\"lm\", col=\"black\") +\n",
    "                     stat_regline_equation(label.x = 3, label.y = 7) +\n",
    "                     labs(title = \"Number of total contacts by age among infected children\",\n",
    "                      x = \"Age midpoint\",\n",
    "                      y = \"Number of total contacts\")\n",
    "p"
   ]
  },
  {
   "cell_type": "code",
   "execution_count": 19,
   "id": "616a5ed3-1208-402c-b357-8ac189642170",
   "metadata": {},
   "outputs": [
    {
     "data": {
      "text/plain": [
       "\n",
       "Call:\n",
       "lm(formula = total_contacts ~ agemid, data = contacts_inf)\n",
       "\n",
       "Residuals:\n",
       "    Min      1Q  Median      3Q     Max \n",
       "-4.8971 -2.3071 -0.0105  1.3805  9.3222 \n",
       "\n",
       "Coefficients:\n",
       "             Estimate Std. Error t value Pr(>|t|)    \n",
       "(Intercept) -0.506769   1.375141  -0.369    0.717    \n",
       "agemid       0.011246   0.001468   7.662 9.66e-07 ***\n",
       "---\n",
       "Signif. codes:  0 '***' 0.001 '**' 0.01 '*' 0.05 '.' 0.1 ' ' 1\n",
       "\n",
       "Residual standard error: 3.357 on 16 degrees of freedom\n",
       "Multiple R-squared:  0.7858,\tAdjusted R-squared:  0.7724 \n",
       "F-statistic: 58.71 on 1 and 16 DF,  p-value: 9.662e-07\n"
      ]
     },
     "metadata": {},
     "output_type": "display_data"
    }
   ],
   "source": [
    "linearMod <- lm(total_contacts ~ agemid, data=contacts_inf)\n",
    "summary(linearMod)"
   ]
  },
  {
   "cell_type": "code",
   "execution_count": 14,
   "id": "d9725cb1-48fa-4ac6-ac39-5e4718517280",
   "metadata": {},
   "outputs": [
    {
     "data": {
      "text/html": [
       "-0.0367850447984131"
      ],
      "text/latex": [
       "-0.0367850447984131"
      ],
      "text/markdown": [
       "-0.0367850447984131"
      ],
      "text/plain": [
       "[1] -0.03678504"
      ]
     },
     "metadata": {},
     "output_type": "display_data"
    }
   ],
   "source": [
    "#now looking at uninfected only\n",
    "contacts_uninf <- read.csv(\"https://raw.githubusercontent.com/Stijn-A/RSV_serology/master/data/infection_status_csv.txt\",\n",
    "                 sep=\",\")\n",
    "\n",
    "# Group age into intervals \n",
    "# bi-monthly for 0-2 years and 6-monthly for 2-5 years\n",
    "contacts_uninf$agegrp <- cut(contacts_uninf$age_days,\n",
    "                   breaks=c(seq(0,730, by=30.25*2),\n",
    "                            seq(909,2000, by=30.25*6)), \n",
    "                   include.lowest = T, right=F)\n",
    "\n",
    "contacts_uninf <- contacts_uninf %>% filter(complete.cases(contacttotal))\n",
    "contacts_uninf <- contacts_uninf %>% filter(infection == 0)\n",
    "\n",
    "contacts_uninf <- contacts_uninf %>% dplyr::group_by(agegrp) %>% \n",
    "  dplyr::summarise(agemid=round(median(age_days)),\n",
    "                  total_contacts = round(median(contacttotal)))\n",
    "cor(contacts_uninf$agemid, contacts_uninf$total_contacts)"
   ]
  },
  {
   "cell_type": "code",
   "execution_count": 18,
   "id": "e288a7c1-65be-4ac6-9686-61b22a4d138e",
   "metadata": {},
   "outputs": [
    {
     "name": "stderr",
     "output_type": "stream",
     "text": [
      "`geom_smooth()` using formula 'y ~ x'\n",
      "\n"
     ]
    },
    {
     "data": {
      "image/png": "[encoded data removed]",
      "text/plain": [
       "plot without title"
      ]
     },
     "metadata": {
      "image/png": {
       "height": 420,
       "width": 420
      }
     },
     "output_type": "display_data"
    }
   ],
   "source": [
    "p<-ggplot(contacts_uninf, aes(x=agemid, y=total_contacts))+\n",
    "                     geom_point() + geom_smooth(method=\"lm\", col=\"black\") +\n",
    "                     stat_regline_equation(label.x = 3, label.y = 7) +\n",
    "                     labs(title = \"Number of total contacts by age\",\n",
    "                      x = \"Age midpoint\",\n",
    "                      y = \"Number of total contacts among uninfected children\")\n",
    "p"
   ]
  },
  {
   "cell_type": "code",
   "execution_count": 20,
   "id": "b216e361-cdb8-4d65-b837-7d91112496ea",
   "metadata": {},
   "outputs": [
    {
     "data": {
      "text/plain": [
       "\n",
       "Call:\n",
       "lm(formula = total_contacts ~ agemid, data = contacts_uninf)\n",
       "\n",
       "Residuals:\n",
       "    Min      1Q  Median      3Q     Max \n",
       "-2.2153 -0.9400  0.3436  0.8647  1.9163 \n",
       "\n",
       "Coefficients:\n",
       "              Estimate Std. Error t value Pr(>|t|)    \n",
       "(Intercept)  4.2250607  0.7539551   5.604 0.000115 ***\n",
       "agemid      -0.0001887  0.0014796  -0.128 0.900646    \n",
       "---\n",
       "Signif. codes:  0 '***' 0.001 '**' 0.01 '*' 0.05 '.' 0.1 ' ' 1\n",
       "\n",
       "Residual standard error: 1.463 on 12 degrees of freedom\n",
       "Multiple R-squared:  0.001353,\tAdjusted R-squared:  -0.08187 \n",
       "F-statistic: 0.01626 on 1 and 12 DF,  p-value: 0.9006\n"
      ]
     },
     "metadata": {},
     "output_type": "display_data"
    }
   ],
   "source": [
    "linearMod <- lm(total_contacts ~ agemid, data=contacts_uninf)\n",
    "summary(linearMod)"
   ]
  },
  {
   "cell_type": "markdown",
   "id": "3d639f5c-9102-4d62-ba64-b7e6de0fbab9",
   "metadata": {},
   "source": [
    "**By season of birth**"
   ]
  },
  {
   "cell_type": "code",
   "execution_count": 19,
   "id": "8aa3c9bc-9bb1-4097-8887-e1a7d7dd97f5",
   "metadata": {},
   "outputs": [
    {
     "data": {
      "text/html": [
       "0.853792143521112"
      ],
      "text/latex": [
       "0.853792143521112"
      ],
      "text/markdown": [
       "0.853792143521112"
      ],
      "text/plain": [
       "[1] 0.8537921"
      ]
     },
     "metadata": {},
     "output_type": "display_data"
    }
   ],
   "source": [
    "# Spring\n",
    "contacts <- read.csv(\"https://raw.githubusercontent.com/Stijn-A/RSV_serology/master/data/infection_status_csv.txt\",\n",
    "                 sep=\",\")\n",
    "\n",
    "spring <- c(3, 4, 5)\n",
    "summer <- c(6, 7, 8)\n",
    "autumn <- c (9, 10, 11)\n",
    "winter <- c(1, 2, 12)\n",
    "\n",
    "contacts <- contacts %>%\n",
    "mutate(\n",
    "    Birth_mo = birthday %>% month()\n",
    "  )%>%\n",
    "  mutate(\n",
    "    season_birth = case_when(\n",
    "      Birth_mo %in% spring ~ \"Spring\",\n",
    "      Birth_mo %in% summer ~ \"Summer\",\n",
    "      Birth_mo %in% autumn ~ \"Autumn\",\n",
    "      Birth_mo %in% winter ~ \"Winter\"))\n",
    "\n",
    "# Group age into intervals \n",
    "# bi-monthly for 0-2 years and 6-monthly for 2-5 years\n",
    "contacts$agegrp <- cut(contacts$age_days,\n",
    "                   breaks=c(seq(0,730, by=30.25*2),\n",
    "                            seq(909,2000, by=30.25*6)), \n",
    "                   include.lowest = T, right=F)\n",
    "\n",
    "\n",
    "contacts_sp <- subset (contacts, season_birth == 'Spring')\n",
    "contacts_sp <- contacts_sp%>% filter(complete.cases(contacttotal))\n",
    "\n",
    "contacts_sp <- contacts_sp %>% dplyr::group_by(agegrp) %>% \n",
    "  dplyr::summarise(agemid=round(median(age_days)),\n",
    "                  total_contacts = round(median(contacttotal)))\n",
    "cor(contacts_sp$agemid, contacts_sp$total_contacts)\n"
   ]
  },
  {
   "cell_type": "code",
   "execution_count": 20,
   "id": "ee676e5e-403b-4892-a885-26ccad7c5b11",
   "metadata": {},
   "outputs": [
    {
     "name": "stderr",
     "output_type": "stream",
     "text": [
      "`geom_smooth()` using formula 'y ~ x'\n",
      "\n"
     ]
    },
    {
     "data": {
      "image/png": "[encoded data removed]",
      "text/plain": [
       "plot without title"
      ]
     },
     "metadata": {
      "image/png": {
       "height": 420,
       "width": 420
      }
     },
     "output_type": "display_data"
    }
   ],
   "source": [
    "p<-ggplot(contacts_sp, aes(x=agemid, y=total_contacts))+\n",
    "                     geom_point() + geom_smooth(method=\"lm\", col=\"black\") +\n",
    "                     stat_regline_equation(label.x = 3, label.y = 7) +\n",
    "                     labs(title = \"Number of total contacts by age\",\n",
    "                      x = \"Age midpoint\",\n",
    "                      y = \"Number of total contacts among uninfected children\")\n",
    "p"
   ]
  },
  {
   "cell_type": "code",
   "execution_count": 21,
   "id": "588b6636-865a-4849-a1c4-ca588ecd8630",
   "metadata": {},
   "outputs": [
    {
     "data": {
      "text/plain": [
       "\n",
       "Call:\n",
       "lm(formula = total_contacts ~ agemid, data = contacts_sp)\n",
       "\n",
       "Residuals:\n",
       "    Min      1Q  Median      3Q     Max \n",
       "-8.7830 -3.7711  0.0675  2.3901 11.3046 \n",
       "\n",
       "Coefficients:\n",
       "             Estimate Std. Error t value Pr(>|t|)    \n",
       "(Intercept) -0.055982   2.039846  -0.027    0.978    \n",
       "agemid       0.015142   0.002239   6.762 3.32e-06 ***\n",
       "---\n",
       "Signif. codes:  0 '***' 0.001 '**' 0.01 '*' 0.05 '.' 0.1 ' ' 1\n",
       "\n",
       "Residual standard error: 5.361 on 17 degrees of freedom\n",
       "Multiple R-squared:  0.729,\tAdjusted R-squared:  0.713 \n",
       "F-statistic: 45.72 on 1 and 17 DF,  p-value: 3.323e-06\n"
      ]
     },
     "metadata": {},
     "output_type": "display_data"
    }
   ],
   "source": [
    "linearMod <- lm(total_contacts ~ agemid, data=contacts_sp)\n",
    "summary(linearMod)"
   ]
  },
  {
   "cell_type": "code",
   "execution_count": 22,
   "id": "56819d9e-ebda-445f-b32a-00f053335394",
   "metadata": {},
   "outputs": [
    {
     "data": {
      "text/html": [
       "0.824036312463002"
      ],
      "text/latex": [
       "0.824036312463002"
      ],
      "text/markdown": [
       "0.824036312463002"
      ],
      "text/plain": [
       "[1] 0.8240363"
      ]
     },
     "metadata": {},
     "output_type": "display_data"
    }
   ],
   "source": [
    "#summer\n",
    "contacts_sm <- subset (contacts, season_birth == 'Summer')\n",
    "contacts_sm <- contacts_sm%>% filter(complete.cases(contacttotal))\n",
    "\n",
    "contacts_sm <- contacts_sm %>% dplyr::group_by(agegrp) %>% \n",
    "  dplyr::summarise(agemid=round(median(age_days)),\n",
    "                  total_contacts = round(median(contacttotal)))\n",
    "cor(contacts_sm$agemid, contacts_sm$total_contacts)\n"
   ]
  },
  {
   "cell_type": "code",
   "execution_count": 26,
   "id": "cf6c9ed4-57ea-4555-bad9-6d455f7ce85c",
   "metadata": {},
   "outputs": [
    {
     "name": "stderr",
     "output_type": "stream",
     "text": [
      "`geom_smooth()` using formula 'y ~ x'\n",
      "\n"
     ]
    },
    {
     "data": {
      "image/png": "[encoded data removed]",
      "text/plain": [
       "plot without title"
      ]
     },
     "metadata": {
      "image/png": {
       "height": 420,
       "width": 420
      }
     },
     "output_type": "display_data"
    }
   ],
   "source": [
    "p<-ggplot(contacts_sm, aes(x=agemid, y=total_contacts))+\n",
    "                     geom_point() + geom_smooth(method=\"lm\", col=\"black\") +\n",
    "                     stat_regline_equation(label.x = 3, label.y = 7) +\n",
    "                     labs(title = \"Number of total contacts by age for the summer birth cohort\",\n",
    "                      x = \"Age midpoint\",\n",
    "                      y = \"Number of total contacts among uninfected children\")\n",
    "p"
   ]
  },
  {
   "cell_type": "code",
   "execution_count": 24,
   "id": "bcb5be74-5746-45f2-81a5-57b55957fd55",
   "metadata": {},
   "outputs": [
    {
     "data": {
      "text/plain": [
       "\n",
       "Call:\n",
       "lm(formula = total_contacts ~ agemid, data = contacts_sm)\n",
       "\n",
       "Residuals:\n",
       "    Min      1Q  Median      3Q     Max \n",
       "-4.1250 -2.0222 -0.6904  1.4470 10.0487 \n",
       "\n",
       "Coefficients:\n",
       "            Estimate Std. Error t value Pr(>|t|)    \n",
       "(Intercept) 0.465865   1.352425   0.344    0.735    \n",
       "agemid      0.009492   0.001632   5.818 2.62e-05 ***\n",
       "---\n",
       "Signif. codes:  0 '***' 0.001 '**' 0.01 '*' 0.05 '.' 0.1 ' ' 1\n",
       "\n",
       "Residual standard error: 3.426 on 16 degrees of freedom\n",
       "Multiple R-squared:  0.679,\tAdjusted R-squared:  0.659 \n",
       "F-statistic: 33.85 on 1 and 16 DF,  p-value: 2.618e-05\n"
      ]
     },
     "metadata": {},
     "output_type": "display_data"
    }
   ],
   "source": [
    "linearMod <- lm(total_contacts ~ agemid, data=contacts_sm)\n",
    "summary(linearMod)"
   ]
  },
  {
   "cell_type": "code",
   "execution_count": 29,
   "id": "6a32bdf5-3dea-4ba2-9eeb-34e00f098e08",
   "metadata": {},
   "outputs": [
    {
     "data": {
      "text/html": [
       "0.368878361607512"
      ],
      "text/latex": [
       "0.368878361607512"
      ],
      "text/markdown": [
       "0.368878361607512"
      ],
      "text/plain": [
       "[1] 0.3688784"
      ]
     },
     "metadata": {},
     "output_type": "display_data"
    }
   ],
   "source": [
    "#autumn\n",
    "contacts_au <- subset (contacts, season_birth == 'Autumn')\n",
    "contacts_au <- contacts_au%>% filter(complete.cases(contacttotal))\n",
    "\n",
    "contacts_au <- contacts_au %>% dplyr::group_by(agegrp) %>% \n",
    "  dplyr::summarise(agemid=round(median(age_days)),\n",
    "                  total_contacts = round(median(contacttotal)))\n",
    "cor(contacts_au$agemid, contacts_au$total_contacts)\n"
   ]
  },
  {
   "cell_type": "code",
   "execution_count": 27,
   "id": "be6710bb-c4f0-48cf-893a-52e0471195aa",
   "metadata": {},
   "outputs": [
    {
     "name": "stderr",
     "output_type": "stream",
     "text": [
      "`geom_smooth()` using formula 'y ~ x'\n",
      "\n"
     ]
    },
    {
     "data": {
      "image/png": "[encoded data removed]",
      "text/plain": [
       "plot without title"
      ]
     },
     "metadata": {
      "image/png": {
       "height": 420,
       "width": 420
      }
     },
     "output_type": "display_data"
    }
   ],
   "source": [
    "p<-ggplot(contacts_au, aes(x=agemid, y=total_contacts))+\n",
    "                     geom_point() + geom_smooth(method=\"lm\", col=\"black\") +\n",
    "                     stat_regline_equation(label.x = 3, label.y = 7) +\n",
    "                     labs(title = \"Number of total contacts by age for the autumn birth cohort\",\n",
    "                      x = \"Age midpoint\",\n",
    "                      y = \"Number of total contacts among uninfected children\")\n",
    "p"
   ]
  },
  {
   "cell_type": "code",
   "execution_count": 28,
   "id": "88b7ab4c-e2b4-42d5-ac72-fc01781f44c8",
   "metadata": {},
   "outputs": [
    {
     "data": {
      "text/plain": [
       "\n",
       "Call:\n",
       "lm(formula = total_contacts ~ agemid, data = contacts_au)\n",
       "\n",
       "Residuals:\n",
       "    Min      1Q  Median      3Q     Max \n",
       "-6.8493 -1.0059 -0.2201  1.5029  5.6369 \n",
       "\n",
       "Coefficients:\n",
       "            Estimate Std. Error t value Pr(>|t|)   \n",
       "(Intercept) 3.583089   1.203246   2.978  0.00888 **\n",
       "agemid      0.002052   0.001292   1.587  0.13197   \n",
       "---\n",
       "Signif. codes:  0 '***' 0.001 '**' 0.01 '*' 0.05 '.' 0.1 ' ' 1\n",
       "\n",
       "Residual standard error: 3.063 on 16 degrees of freedom\n",
       "Multiple R-squared:  0.1361,\tAdjusted R-squared:  0.08208 \n",
       "F-statistic:  2.52 on 1 and 16 DF,  p-value: 0.132\n"
      ]
     },
     "metadata": {},
     "output_type": "display_data"
    }
   ],
   "source": [
    "linearMod <- lm(total_contacts ~ agemid, data=contacts_au)\n",
    "summary(linearMod)"
   ]
  },
  {
   "cell_type": "code",
   "execution_count": 30,
   "id": "16d242d3-4951-46b3-b2f4-efdb078fa066",
   "metadata": {},
   "outputs": [
    {
     "data": {
      "text/html": [
       "0.858932309997268"
      ],
      "text/latex": [
       "0.858932309997268"
      ],
      "text/markdown": [
       "0.858932309997268"
      ],
      "text/plain": [
       "[1] 0.8589323"
      ]
     },
     "metadata": {},
     "output_type": "display_data"
    }
   ],
   "source": [
    "#winter\n",
    "contacts_wt <- subset (contacts, season_birth == 'Winter')\n",
    "contacts_wt <- contacts_wt%>% filter(complete.cases(contacttotal))\n",
    "\n",
    "contacts_wt <- contacts_wt %>% dplyr::group_by(agegrp) %>% \n",
    "  dplyr::summarise(agemid=round(median(age_days)),\n",
    "                  total_contacts = round(median(contacttotal)))\n",
    "cor(contacts_wt$agemid, contacts_wt$total_contacts)\n"
   ]
  },
  {
   "cell_type": "code",
   "execution_count": 32,
   "id": "5742b598-1e27-496f-91d3-fd261b05bc3e",
   "metadata": {},
   "outputs": [
    {
     "name": "stderr",
     "output_type": "stream",
     "text": [
      "`geom_smooth()` using formula 'y ~ x'\n",
      "\n"
     ]
    },
    {
     "data": {
      "image/png": "[encoded data removed]",
      "text/plain": [
       "plot without title"
      ]
     },
     "metadata": {
      "image/png": {
       "height": 420,
       "width": 420
      }
     },
     "output_type": "display_data"
    }
   ],
   "source": [
    "p<-ggplot(contacts_wt, aes(x=agemid, y=total_contacts))+\n",
    "                     geom_point() + geom_smooth(method=\"lm\", col=\"black\") +\n",
    "                     stat_regline_equation(label.x = 3, label.y = 7) +\n",
    "                     labs(title = \"Number of total contacts by age for the winter birth cohort\",\n",
    "                      x = \"Age midpoint\",\n",
    "                      y = \"Number of total contacts among uninfected children\")\n",
    "p"
   ]
  },
  {
   "cell_type": "code",
   "execution_count": 33,
   "id": "0e75aebc-fd3f-4ebb-80b4-b0e1527ccb68",
   "metadata": {},
   "outputs": [
    {
     "data": {
      "text/plain": [
       "\n",
       "Call:\n",
       "lm(formula = total_contacts ~ agemid, data = contacts_wt)\n",
       "\n",
       "Residuals:\n",
       "   Min     1Q Median     3Q    Max \n",
       "-6.246 -4.260  1.357  2.773  6.111 \n",
       "\n",
       "Coefficients:\n",
       "             Estimate Std. Error t value Pr(>|t|)    \n",
       "(Intercept) -0.989400   1.747305  -0.566    0.579    \n",
       "agemid       0.012427   0.001852   6.709 5.02e-06 ***\n",
       "---\n",
       "Signif. codes:  0 '***' 0.001 '**' 0.01 '*' 0.05 '.' 0.1 ' ' 1\n",
       "\n",
       "Residual standard error: 4.254 on 16 degrees of freedom\n",
       "Multiple R-squared:  0.7378,\tAdjusted R-squared:  0.7214 \n",
       "F-statistic: 45.01 on 1 and 16 DF,  p-value: 5.017e-06\n"
      ]
     },
     "metadata": {},
     "output_type": "display_data"
    }
   ],
   "source": [
    "linearMod <- lm(total_contacts ~ agemid, data=contacts_wt)\n",
    "summary(linearMod)"
   ]
  },
  {
   "cell_type": "markdown",
   "id": "3de98c71-1756-46dd-bf90-b927af0f096a",
   "metadata": {},
   "source": [
    "# Contacts aged 0-4 years #"
   ]
  },
  {
   "cell_type": "code",
   "execution_count": 21,
   "id": "27164caa-88b7-4e9c-a5db-33c2cf5beb82",
   "metadata": {},
   "outputs": [],
   "source": [
    "contacts_04 <- read.csv(\"https://raw.githubusercontent.com/Stijn-A/RSV_serology/master/data/infection_status_csv.txt\",\n",
    "                 sep=\",\")\n",
    "\n",
    "# Group age into intervals \n",
    "# bi-monthly for 0-2 years and 6-monthly for 2-5 years\n",
    "contacts_04$agegrp <- cut(contacts_04$age_days,\n",
    "                   breaks=c(seq(0,730, by=30.25*2),\n",
    "                            seq(909,2000, by=30.25*6)), \n",
    "                   include.lowest = T, right=F)\n",
    "\n",
    "contacts_04 <- contacts_04 %>% filter(complete.cases(contact04))\n",
    "\n",
    "contacts_04 <- contacts_04 %>% dplyr::group_by(agegrp) %>% \n",
    "  dplyr::summarise(agemid=round(median(age_days)),\n",
    "                  contact = round(median(contact04)))"
   ]
  },
  {
   "cell_type": "code",
   "execution_count": 22,
   "id": "189b8ec3-effa-4d7c-b2a5-119f659ac7cc",
   "metadata": {},
   "outputs": [
    {
     "data": {
      "text/html": [
       "0.839960623859508"
      ],
      "text/latex": [
       "0.839960623859508"
      ],
      "text/markdown": [
       "0.839960623859508"
      ],
      "text/plain": [
       "[1] 0.8399606"
      ]
     },
     "metadata": {},
     "output_type": "display_data"
    }
   ],
   "source": [
    "cor(contacts_04$agemid, contacts_04$contact)"
   ]
  },
  {
   "cell_type": "code",
   "execution_count": 25,
   "id": "9bd65a39-008d-4a51-9f24-e3bb0a74feba",
   "metadata": {},
   "outputs": [
    {
     "data": {
      "text/html": [
       "0.746353350508703"
      ],
      "text/latex": [
       "0.746353350508703"
      ],
      "text/markdown": [
       "0.746353350508703"
      ],
      "text/plain": [
       "[1] 0.7463534"
      ]
     },
     "metadata": {},
     "output_type": "display_data"
    }
   ],
   "source": [
    "#now looking at infected only\n",
    "contacts_inf <- read.csv(\"https://raw.githubusercontent.com/Stijn-A/RSV_serology/master/data/infection_status_csv.txt\",\n",
    "                 sep=\",\")\n",
    "\n",
    "# Group age into intervals \n",
    "# bi-monthly for 0-2 years and 6-monthly for 2-5 years\n",
    "contacts_inf$agegrp <- cut(contacts_inf$age_days,\n",
    "                   breaks=c(seq(0,730, by=30.25*2),\n",
    "                            seq(909,2000, by=30.25*6)), \n",
    "                   include.lowest = T, right=F)\n",
    "\n",
    "contacts_inf <- contacts_inf %>% filter(complete.cases(contact04))\n",
    "contacts_inf <- contacts_inf %>% filter(infection == 1)\n",
    "\n",
    "contacts_inf <- contacts_inf %>% dplyr::group_by(agegrp) %>% \n",
    "  dplyr::summarise(agemid=round(median(age_days)),\n",
    "                  total_contacts = round(median(contact04)))\n",
    "cor(contacts_inf$agemid, contacts_inf$total_contacts)"
   ]
  },
  {
   "cell_type": "code",
   "execution_count": 27,
   "id": "d21f50ce-a849-4ad2-8b66-83be616565eb",
   "metadata": {},
   "outputs": [
    {
     "data": {
      "text/html": [
       "0.231117294125137"
      ],
      "text/latex": [
       "0.231117294125137"
      ],
      "text/markdown": [
       "0.231117294125137"
      ],
      "text/plain": [
       "[1] 0.2311173"
      ]
     },
     "metadata": {},
     "output_type": "display_data"
    }
   ],
   "source": [
    "#now looking at uninfected only\n",
    "contacts_uninf <- read.csv(\"https://raw.githubusercontent.com/Stijn-A/RSV_serology/master/data/infection_status_csv.txt\",\n",
    "                 sep=\",\")\n",
    "\n",
    "# Group age into intervals \n",
    "# bi-monthly for 0-2 years and 6-monthly for 2-5 years\n",
    "contacts_uninf$agegrp <- cut(contacts_uninf$age_days,\n",
    "                   breaks=c(seq(0,730, by=30.25*2),\n",
    "                            seq(909,2000, by=30.25*6)), \n",
    "                   include.lowest = T, right=F)\n",
    "\n",
    "contacts_uninf <- contacts_uninf %>% filter(complete.cases(contact04))\n",
    "contacts_uninf <- contacts_uninf %>% filter(infection == 0)\n",
    "\n",
    "contacts_uninf <- contacts_uninf %>% dplyr::group_by(agegrp) %>% \n",
    "  dplyr::summarise(agemid=round(median(age_days)),\n",
    "                  total_contacts = round(median(contact04)))\n",
    "cor(contacts_uninf$agemid, contacts_uninf$total_contacts)"
   ]
  },
  {
   "cell_type": "markdown",
   "id": "988dc397-5936-4531-abcd-08114c8f7eb6",
   "metadata": {},
   "source": [
    "# Contacts aged 5-9 years #"
   ]
  },
  {
   "cell_type": "code",
   "execution_count": 23,
   "id": "c390bdad-51ae-4441-82a9-2e44295463a0",
   "metadata": {},
   "outputs": [],
   "source": [
    "contacts_59 <- read.csv(\"https://raw.githubusercontent.com/Stijn-A/RSV_serology/master/data/infection_status_csv.txt\",\n",
    "                 sep=\",\")\n",
    "\n",
    "# Group age into intervals \n",
    "# bi-monthly for 0-2 years and 6-monthly for 2-5 years\n",
    "contacts_59$agegrp <- cut(contacts_59$age_days,\n",
    "                   breaks=c(seq(0,730, by=30.25*2),\n",
    "                            seq(909,2000, by=30.25*6)), \n",
    "                   include.lowest = T, right=F)\n",
    "\n",
    "contacts_59 <- contacts_59 %>% filter(complete.cases(contact59))\n",
    "\n",
    "contacts_59 <- contacts_59 %>% dplyr::group_by(agegrp) %>% \n",
    "  dplyr::summarise(agemid=round(median(age_days)),\n",
    "                  contact = round(median(contact59)))"
   ]
  },
  {
   "cell_type": "code",
   "execution_count": 24,
   "id": "3331a123-f030-498a-9dfe-3c5dc697fe46",
   "metadata": {},
   "outputs": [
    {
     "data": {
      "text/html": [
       "0.635108051619434"
      ],
      "text/latex": [
       "0.635108051619434"
      ],
      "text/markdown": [
       "0.635108051619434"
      ],
      "text/plain": [
       "[1] 0.6351081"
      ]
     },
     "metadata": {},
     "output_type": "display_data"
    }
   ],
   "source": [
    "cor(contacts_59$agemid, contacts_59$contact)"
   ]
  },
  {
   "cell_type": "code",
   "execution_count": 29,
   "id": "2018f35a-5f80-405f-b131-d84f807b1c2d",
   "metadata": {},
   "outputs": [
    {
     "data": {
      "text/html": [
       "0.598289778978913"
      ],
      "text/latex": [
       "0.598289778978913"
      ],
      "text/markdown": [
       "0.598289778978913"
      ],
      "text/plain": [
       "[1] 0.5982898"
      ]
     },
     "metadata": {},
     "output_type": "display_data"
    }
   ],
   "source": [
    "#now looking at infected only\n",
    "contacts_inf <- read.csv(\"https://raw.githubusercontent.com/Stijn-A/RSV_serology/master/data/infection_status_csv.txt\",\n",
    "                 sep=\",\")\n",
    "\n",
    "# Group age into intervals \n",
    "# bi-monthly for 0-2 years and 6-monthly for 2-5 years\n",
    "contacts_inf$agegrp <- cut(contacts_inf$age_days,\n",
    "                   breaks=c(seq(0,730, by=30.25*2),\n",
    "                            seq(909,2000, by=30.25*6)), \n",
    "                   include.lowest = T, right=F)\n",
    "\n",
    "contacts_inf <- contacts_inf %>% filter(complete.cases(contact59))\n",
    "contacts_inf <- contacts_inf %>% filter(infection == 1)\n",
    "\n",
    "contacts_inf <- contacts_inf %>% dplyr::group_by(agegrp) %>% \n",
    "  dplyr::summarise(agemid=round(median(age_days)),\n",
    "                  total_contacts = round(median(contact59)))\n",
    "cor(contacts_inf$agemid, contacts_inf$total_contacts)"
   ]
  },
  {
   "cell_type": "code",
   "execution_count": 28,
   "id": "8105769f-e518-407c-944b-67e97f69dacf",
   "metadata": {},
   "outputs": [
    {
     "data": {
      "text/html": [
       "0.548706309881105"
      ],
      "text/latex": [
       "0.548706309881105"
      ],
      "text/markdown": [
       "0.548706309881105"
      ],
      "text/plain": [
       "[1] 0.5487063"
      ]
     },
     "metadata": {},
     "output_type": "display_data"
    }
   ],
   "source": [
    "#now looking at uninfected only\n",
    "contacts_uninf <- read.csv(\"https://raw.githubusercontent.com/Stijn-A/RSV_serology/master/data/infection_status_csv.txt\",\n",
    "                 sep=\",\")\n",
    "\n",
    "# Group age into intervals \n",
    "# bi-monthly for 0-2 years and 6-monthly for 2-5 years\n",
    "contacts_uninf$agegrp <- cut(contacts_uninf$age_days,\n",
    "                   breaks=c(seq(0,730, by=30.25*2),\n",
    "                            seq(909,2000, by=30.25*6)), \n",
    "                   include.lowest = T, right=F)\n",
    "\n",
    "contacts_uninf <- contacts_uninf %>% filter(complete.cases(contact59))\n",
    "contacts_uninf <- contacts_uninf %>% filter(infection == 0)\n",
    "\n",
    "contacts_uninf <- contacts_uninf %>% dplyr::group_by(agegrp) %>% \n",
    "  dplyr::summarise(agemid=round(median(age_days)),\n",
    "                  total_contacts = round(median(contact59)))\n",
    "cor(contacts_uninf$agemid, contacts_uninf$total_contacts)"
   ]
  }
 ],
 "metadata": {
  "kernelspec": {
   "display_name": "R",
   "language": "R",
   "name": "ir"
  },
  "language_info": {
   "codemirror_mode": "r",
   "file_extension": ".r",
   "mimetype": "text/x-r-source",
   "name": "R",
   "pygments_lexer": "r",
   "version": "4.1.3"
  }
 },
 "nbformat": 4,
 "nbformat_minor": 5
}
