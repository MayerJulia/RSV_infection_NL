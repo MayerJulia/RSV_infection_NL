{
 "cells": [
  {
   "cell_type": "code",
   "execution_count": 40,
   "id": "40c6054e-c66e-450d-a666-675da0ac5908",
   "metadata": {},
   "outputs": [
    {
     "name": "stderr",
     "output_type": "stream",
     "text": [
      "\u001b[1mRows: \u001b[22m\u001b[34m682\u001b[39m \u001b[1mColumns: \u001b[22m\u001b[34m23\u001b[39m\n",
      "\u001b[36m--\u001b[39m \u001b[1mColumn specification\u001b[22m \u001b[36m------------------------------------------------------------------------------------------------\u001b[39m\n",
      "\u001b[1mDelimiter:\u001b[22m \",\"\n",
      "\u001b[32mdbl\u001b[39m  (20): age_days, infection, IgG_PreF, IgA_PreF, IgG_PostF, IgA_PostF, Ig...\n",
      "\u001b[33mlgl\u001b[39m   (1): IgA_Nn_household\n",
      "\u001b[34mdate\u001b[39m  (2): birthday, consultdate\n",
      "\n",
      "\u001b[36mi\u001b[39m Use `spec()` to retrieve the full column specification for this data.\n",
      "\u001b[36mi\u001b[39m Specify the column types or set `show_col_types = FALSE` to quiet this message.\n"
     ]
    }
   ],
   "source": [
    "PATH <- file.path(\"C:/Users/julia/OneDrive - London School of Hygiene and Tropical Medicine/Documents/LSHTM/Project\") #\"/home/andewegs/1_RSV_scripts/\"\n",
    "setwd(PATH)\n",
    "#getwd()\n",
    "library(tidyverse)\n",
    "rsv.data <- read_csv(file = \"Data/infection_status.csv\")"
   ]
  },
  {
   "cell_type": "code",
   "execution_count": 41,
   "id": "5d3acb44-3e35-473c-9a7f-b12ef0e5eeb3",
   "metadata": {},
   "outputs": [
    {
     "data": {
      "text/html": [
       "<table class=\"dataframe\">\n",
       "<caption>A data.frame: 6 × 3</caption>\n",
       "<thead>\n",
       "\t<tr><th></th><th scope=col>age</th><th scope=col>infected</th><th scope=col>cuminfection</th></tr>\n",
       "\t<tr><th></th><th scope=col>&lt;dbl&gt;</th><th scope=col>&lt;int&gt;</th><th scope=col>&lt;int&gt;</th></tr>\n",
       "</thead>\n",
       "<tbody>\n",
       "\t<tr><th scope=row>1808</th><td>1808</td><td>1</td><td>339</td></tr>\n",
       "\t<tr><th scope=row>1821</th><td>1821</td><td>1</td><td>340</td></tr>\n",
       "\t<tr><th scope=row>1823</th><td>1823</td><td>1</td><td>341</td></tr>\n",
       "\t<tr><th scope=row>1841</th><td>1841</td><td>2</td><td>343</td></tr>\n",
       "\t<tr><th scope=row>1843</th><td>1843</td><td>1</td><td>344</td></tr>\n",
       "\t<tr><th scope=row>1854</th><td>1854</td><td>1</td><td>345</td></tr>\n",
       "</tbody>\n",
       "</table>\n"
      ],
      "text/latex": [
       "A data.frame: 6 × 3\n",
       "\\begin{tabular}{r|lll}\n",
       "  & age & infected & cuminfection\\\\\n",
       "  & <dbl> & <int> & <int>\\\\\n",
       "\\hline\n",
       "\t1808 & 1808 & 1 & 339\\\\\n",
       "\t1821 & 1821 & 1 & 340\\\\\n",
       "\t1823 & 1823 & 1 & 341\\\\\n",
       "\t1841 & 1841 & 2 & 343\\\\\n",
       "\t1843 & 1843 & 1 & 344\\\\\n",
       "\t1854 & 1854 & 1 & 345\\\\\n",
       "\\end{tabular}\n"
      ],
      "text/markdown": [
       "\n",
       "A data.frame: 6 × 3\n",
       "\n",
       "| <!--/--> | age &lt;dbl&gt; | infected &lt;int&gt; | cuminfection &lt;int&gt; |\n",
       "|---|---|---|---|\n",
       "| 1808 | 1808 | 1 | 339 |\n",
       "| 1821 | 1821 | 1 | 340 |\n",
       "| 1823 | 1823 | 1 | 341 |\n",
       "| 1841 | 1841 | 2 | 343 |\n",
       "| 1843 | 1843 | 1 | 344 |\n",
       "| 1854 | 1854 | 1 | 345 |\n",
       "\n"
      ],
      "text/plain": [
       "     age  infected cuminfection\n",
       "1808 1808 1        339         \n",
       "1821 1821 1        340         \n",
       "1823 1823 1        341         \n",
       "1841 1841 2        343         \n",
       "1843 1843 1        344         \n",
       "1854 1854 1        345         "
      ]
     },
     "metadata": {},
     "output_type": "display_data"
    }
   ],
   "source": [
    "#get true number of infected and recovered children\n",
    "rsv_by_age <- rsv.data %>% arrange(age_days)\n",
    "tab <- table(rsv_by_age$age_days, rsv_by_age$infection)\n",
    "true_hist <- data.frame(age=rownames(tab), infected=tab[,2])\n",
    "true_hist$age <- as.numeric(true_hist$age)\n",
    "true_hist$cuminfection <- cumsum(true_hist$infected\n",
    "tail(true_hist)"
   ]
  },
  {
   "cell_type": "code",
   "execution_count": 42,
   "id": "af89d61a-da9c-4799-8880-d7f3626d2b1c",
   "metadata": {},
   "outputs": [
    {
     "data": {
      "text/html": [
       "<table class=\"dataframe\">\n",
       "<caption>A data.frame: 6 × 4</caption>\n",
       "<thead>\n",
       "\t<tr><th></th><th scope=col>age</th><th scope=col>infected</th><th scope=col>cuminfection</th><th scope=col>susceptible</th></tr>\n",
       "\t<tr><th></th><th scope=col>&lt;dbl&gt;</th><th scope=col>&lt;int&gt;</th><th scope=col>&lt;int&gt;</th><th scope=col>&lt;int&gt;</th></tr>\n",
       "</thead>\n",
       "<tbody>\n",
       "\t<tr><th scope=row>1808</th><td>1808</td><td>1</td><td>339</td><td>343</td></tr>\n",
       "\t<tr><th scope=row>1821</th><td>1821</td><td>1</td><td>340</td><td>342</td></tr>\n",
       "\t<tr><th scope=row>1823</th><td>1823</td><td>1</td><td>341</td><td>341</td></tr>\n",
       "\t<tr><th scope=row>1841</th><td>1841</td><td>2</td><td>343</td><td>339</td></tr>\n",
       "\t<tr><th scope=row>1843</th><td>1843</td><td>1</td><td>344</td><td>338</td></tr>\n",
       "\t<tr><th scope=row>1854</th><td>1854</td><td>1</td><td>345</td><td>337</td></tr>\n",
       "</tbody>\n",
       "</table>\n"
      ],
      "text/latex": [
       "A data.frame: 6 × 4\n",
       "\\begin{tabular}{r|llll}\n",
       "  & age & infected & cuminfection & susceptible\\\\\n",
       "  & <dbl> & <int> & <int> & <int>\\\\\n",
       "\\hline\n",
       "\t1808 & 1808 & 1 & 339 & 343\\\\\n",
       "\t1821 & 1821 & 1 & 340 & 342\\\\\n",
       "\t1823 & 1823 & 1 & 341 & 341\\\\\n",
       "\t1841 & 1841 & 2 & 343 & 339\\\\\n",
       "\t1843 & 1843 & 1 & 344 & 338\\\\\n",
       "\t1854 & 1854 & 1 & 345 & 337\\\\\n",
       "\\end{tabular}\n"
      ],
      "text/markdown": [
       "\n",
       "A data.frame: 6 × 4\n",
       "\n",
       "| <!--/--> | age &lt;dbl&gt; | infected &lt;int&gt; | cuminfection &lt;int&gt; | susceptible &lt;int&gt; |\n",
       "|---|---|---|---|---|\n",
       "| 1808 | 1808 | 1 | 339 | 343 |\n",
       "| 1821 | 1821 | 1 | 340 | 342 |\n",
       "| 1823 | 1823 | 1 | 341 | 341 |\n",
       "| 1841 | 1841 | 2 | 343 | 339 |\n",
       "| 1843 | 1843 | 1 | 344 | 338 |\n",
       "| 1854 | 1854 | 1 | 345 | 337 |\n",
       "\n"
      ],
      "text/plain": [
       "     age  infected cuminfection susceptible\n",
       "1808 1808 1        339          343        \n",
       "1821 1821 1        340          342        \n",
       "1823 1823 1        341          341        \n",
       "1841 1841 2        343          339        \n",
       "1843 1843 1        344          338        \n",
       "1854 1854 1        345          337        "
      ]
     },
     "metadata": {},
     "output_type": "display_data"
    }
   ],
   "source": [
    "#add susceptible\n",
    "N <- nrow(rsv_by_age)\n",
    "true_hist$susceptible <- N - true_hist$cuminfection\n",
    "tail(true_hist)"
   ]
  },
  {
   "cell_type": "code",
   "execution_count": 38,
   "id": "343205b1-d6e7-4288-b47c-c0eebf10fca4",
   "metadata": {},
   "outputs": [
    {
     "data": {
      "image/png": "[encoded data removed]",
      "text/plain": [
       "Plot with title \"True epidemic\""
      ]
     },
     "metadata": {
      "image/png": {
       "height": 420,
       "width": 420
      }
     },
     "output_type": "display_data"
    }
   ],
   "source": [
    "#png(\"true epidemic.png\")\n",
    "cols <- names(true_hist) %in% c('age')\n",
    "hist_no_time <- true_hist[!cols]\n",
    "par(mar = c(4.1, 5.1, 0.5, 0.5), las = 1)\n",
    "cols <- c(I = \"#8c8cd9\", R = \"#cc0044\", S = \"#999966\")\n",
    "matplot(hist_no_time, type = \"l\", \n",
    "        xlab = \"Time\", ylab = \"Number of individuals\",\n",
    "        col = cols, lty = 1, lwd = 2)\n",
    "legend(\"left\", lwd = 2, col = cols, legend = names(cols), bty = \"n\")\n",
    "title(\"True epidemic\", line = 0)\n",
    "#dev.off()"
   ]
  },
  {
   "cell_type": "markdown",
   "id": "3241b970-7a91-40ce-b6f5-8d26ecf38f8b",
   "metadata": {},
   "source": [
    "Now mcstate"
   ]
  },
  {
   "cell_type": "code",
   "execution_count": 44,
   "id": "21bb39e4-a406-48bb-af77-e5b1b917d7b2",
   "metadata": {},
   "outputs": [],
   "source": [
    "#define a dataframe with all days between the youngest age and the oldest age\n",
    "min = head(dframe$age,1)\n",
    "max = tail(dframe$age,1)\n",
    "days <- seq(min, max)\n",
    "infections <- rep(0, max-min+1)\n",
    "\n",
    "df <- data.frame(days, infections)"
   ]
  },
  {
   "cell_type": "code",
   "execution_count": 45,
   "id": "74c5941c-6c45-4d4f-b80c-c01ce04c35f9",
   "metadata": {},
   "outputs": [],
   "source": [
    "rsv_by_age <- rsv.data %>% arrange(age_days)\n",
    "tab <- table(rsv_by_age$age_days, rsv_by_age$infection)\n",
    "dframe <- data.frame(age=rownames(tab), infected=tab[,2])\n",
    "dframe$age <- as.numeric(dframe$age)\n",
    "dframe$cuminfection <- cumsum(dframe$infected)"
   ]
  },
  {
   "cell_type": "code",
   "execution_count": 47,
   "id": "dc1222b8-a61f-4573-97a4-bc69d981f3a7",
   "metadata": {},
   "outputs": [
    {
     "data": {
      "text/html": [
       "<table class=\"dataframe\">\n",
       "<caption>A data.frame: 6 × 3</caption>\n",
       "<thead>\n",
       "\t<tr><th></th><th scope=col>age</th><th scope=col>infected</th><th scope=col>cuminfection</th></tr>\n",
       "\t<tr><th></th><th scope=col>&lt;dbl&gt;</th><th scope=col>&lt;int&gt;</th><th scope=col>&lt;int&gt;</th></tr>\n",
       "</thead>\n",
       "<tbody>\n",
       "\t<tr><th scope=row>1808</th><td>1808</td><td>1</td><td>339</td></tr>\n",
       "\t<tr><th scope=row>1821</th><td>1821</td><td>1</td><td>340</td></tr>\n",
       "\t<tr><th scope=row>1823</th><td>1823</td><td>1</td><td>341</td></tr>\n",
       "\t<tr><th scope=row>1841</th><td>1841</td><td>2</td><td>343</td></tr>\n",
       "\t<tr><th scope=row>1843</th><td>1843</td><td>1</td><td>344</td></tr>\n",
       "\t<tr><th scope=row>1854</th><td>1854</td><td>1</td><td>345</td></tr>\n",
       "</tbody>\n",
       "</table>\n"
      ],
      "text/latex": [
       "A data.frame: 6 × 3\n",
       "\\begin{tabular}{r|lll}\n",
       "  & age & infected & cuminfection\\\\\n",
       "  & <dbl> & <int> & <int>\\\\\n",
       "\\hline\n",
       "\t1808 & 1808 & 1 & 339\\\\\n",
       "\t1821 & 1821 & 1 & 340\\\\\n",
       "\t1823 & 1823 & 1 & 341\\\\\n",
       "\t1841 & 1841 & 2 & 343\\\\\n",
       "\t1843 & 1843 & 1 & 344\\\\\n",
       "\t1854 & 1854 & 1 & 345\\\\\n",
       "\\end{tabular}\n"
      ],
      "text/markdown": [
       "\n",
       "A data.frame: 6 × 3\n",
       "\n",
       "| <!--/--> | age &lt;dbl&gt; | infected &lt;int&gt; | cuminfection &lt;int&gt; |\n",
       "|---|---|---|---|\n",
       "| 1808 | 1808 | 1 | 339 |\n",
       "| 1821 | 1821 | 1 | 340 |\n",
       "| 1823 | 1823 | 1 | 341 |\n",
       "| 1841 | 1841 | 2 | 343 |\n",
       "| 1843 | 1843 | 1 | 344 |\n",
       "| 1854 | 1854 | 1 | 345 |\n",
       "\n"
      ],
      "text/plain": [
       "     age  infected cuminfection\n",
       "1808 1808 1        339         \n",
       "1821 1821 1        340         \n",
       "1823 1823 1        341         \n",
       "1841 1841 2        343         \n",
       "1843 1843 1        344         \n",
       "1854 1854 1        345         "
      ]
     },
     "metadata": {},
     "output_type": "display_data"
    }
   ],
   "source": [
    "tail(dframe)"
   ]
  },
  {
   "cell_type": "code",
   "execution_count": 48,
   "id": "e11ff308-0e76-4e81-93c9-a8df23a75909",
   "metadata": {},
   "outputs": [],
   "source": [
    "for (d in seq_along(df$days))\n",
    "    for (a in seq_along(dframe$age))\n",
    "     if (df$days[d] == dframe$age[a])\n",
    "         df$infections[d] <- dframe$infected[a]"
   ]
  },
  {
   "cell_type": "code",
   "execution_count": 50,
   "id": "690c9d38-1a04-4ec8-b10e-90e8d4053508",
   "metadata": {},
   "outputs": [
    {
     "data": {
      "text/html": [
       "<table class=\"dataframe\">\n",
       "<caption>A paged_df: 6 × 5</caption>\n",
       "<thead>\n",
       "\t<tr><th></th><th scope=col>days_start</th><th scope=col>days_end</th><th scope=col>step_start</th><th scope=col>step_end</th><th scope=col>infections</th></tr>\n",
       "\t<tr><th></th><th scope=col>&lt;int&gt;</th><th scope=col>&lt;int&gt;</th><th scope=col>&lt;int&gt;</th><th scope=col>&lt;int&gt;</th><th scope=col>&lt;dbl&gt;</th></tr>\n",
       "</thead>\n",
       "<tbody>\n",
       "\t<tr><th scope=row>1</th><td>35</td><td>36</td><td>35</td><td>36</td><td>0</td></tr>\n",
       "\t<tr><th scope=row>2</th><td>36</td><td>37</td><td>36</td><td>37</td><td>0</td></tr>\n",
       "\t<tr><th scope=row>3</th><td>37</td><td>38</td><td>37</td><td>38</td><td>0</td></tr>\n",
       "\t<tr><th scope=row>4</th><td>38</td><td>39</td><td>38</td><td>39</td><td>0</td></tr>\n",
       "\t<tr><th scope=row>5</th><td>39</td><td>40</td><td>39</td><td>40</td><td>0</td></tr>\n",
       "\t<tr><th scope=row>6</th><td>40</td><td>41</td><td>40</td><td>41</td><td>0</td></tr>\n",
       "</tbody>\n",
       "</table>\n"
      ],
      "text/latex": [
       "A paged\\_df: 6 × 5\n",
       "\\begin{tabular}{r|lllll}\n",
       "  & days\\_start & days\\_end & step\\_start & step\\_end & infections\\\\\n",
       "  & <int> & <int> & <int> & <int> & <dbl>\\\\\n",
       "\\hline\n",
       "\t1 & 35 & 36 & 35 & 36 & 0\\\\\n",
       "\t2 & 36 & 37 & 36 & 37 & 0\\\\\n",
       "\t3 & 37 & 38 & 37 & 38 & 0\\\\\n",
       "\t4 & 38 & 39 & 38 & 39 & 0\\\\\n",
       "\t5 & 39 & 40 & 39 & 40 & 0\\\\\n",
       "\t6 & 40 & 41 & 40 & 41 & 0\\\\\n",
       "\\end{tabular}\n"
      ],
      "text/markdown": [
       "\n",
       "A paged_df: 6 × 5\n",
       "\n",
       "| <!--/--> | days_start &lt;int&gt; | days_end &lt;int&gt; | step_start &lt;int&gt; | step_end &lt;int&gt; | infections &lt;dbl&gt; |\n",
       "|---|---|---|---|---|---|\n",
       "| 1 | 35 | 36 | 35 | 36 | 0 |\n",
       "| 2 | 36 | 37 | 36 | 37 | 0 |\n",
       "| 3 | 37 | 38 | 37 | 38 | 0 |\n",
       "| 4 | 38 | 39 | 38 | 39 | 0 |\n",
       "| 5 | 39 | 40 | 39 | 40 | 0 |\n",
       "| 6 | 40 | 41 | 40 | 41 | 0 |\n",
       "\n"
      ],
      "text/plain": [
       "  days_start days_end step_start step_end infections\n",
       "1 35         36       35         36       0         \n",
       "2 36         37       36         37       0         \n",
       "3 37         38       37         38       0         \n",
       "4 38         39       38         39       0         \n",
       "5 39         40       39         40       0         \n",
       "6 40         41       40         41       0         "
      ]
     },
     "metadata": {},
     "output_type": "display_data"
    }
   ],
   "source": [
    "dt <- 1\n",
    "sir_data <- mcstate::particle_filter_data(data = df,\n",
    "                                          time = \"days\",\n",
    "                                          rate = 1 / dt)\n",
    "head(rmarkdown::paged_table(sir_data))"
   ]
  },
  {
   "cell_type": "code",
   "execution_count": 61,
   "id": "9ff22d93-8b6f-4634-a19b-9490c3c5c8b7",
   "metadata": {},
   "outputs": [],
   "source": [
    "case_compare <- function(state, observed, pars = NULL) {\n",
    "  exp_noise <- 1e6\n",
    "\n",
    "  incidence_modelled <- state[4 , drop = TRUE]\n",
    "  incidence_observed <- observed$infections\n",
    "  lambda <- incidence_modelled +\n",
    "    rexp(n = length(incidence_modelled), rate = exp_noise)\n",
    "  dpois(x = incidence_observed, lambda = lambda, log = TRUE)\n",
    "}"
   ]
  },
  {
   "cell_type": "code",
   "execution_count": 52,
   "id": "4775d8dd-0958-44ce-82cf-1c57875e8984",
   "metadata": {},
   "outputs": [],
   "source": [
    "incidence_compare <- function(state, prev_state, observed, pars = NULL) {\n",
    "  exp_noise <- 1e6\n",
    "\n",
    "  lambda <- state[4, , drop = TRUE] +\n",
    "    rexp(n = length(incidence_modelled), rate = exp_noise)\n",
    "  dpois(x = observed$infections, lambda = lambda, log = TRUE)\n",
    "}"
   ]
  },
  {
   "cell_type": "code",
   "execution_count": 53,
   "id": "e721ac83-a5ee-4d27-8342-f86581fd8f2f",
   "metadata": {},
   "outputs": [
    {
     "data": {
      "text/html": [
       "682"
      ],
      "text/latex": [
       "682"
      ],
      "text/markdown": [
       "682"
      ],
      "text/plain": [
       "[1] 682"
      ]
     },
     "metadata": {},
     "output_type": "display_data"
    }
   ],
   "source": [
    "nrow(rsv_by_age)"
   ]
  },
  {
   "cell_type": "code",
   "execution_count": 57,
   "id": "1e486be5-b103-44a3-97ea-d16cbb9e1a45",
   "metadata": {},
   "outputs": [
    {
     "data": {
      "text/html": [
       "'C:/Users/julia'"
      ],
      "text/latex": [
       "'C:/Users/julia'"
      ],
      "text/markdown": [
       "'C:/Users/julia'"
      ],
      "text/plain": [
       "[1] \"C:/Users/julia\""
      ]
     },
     "metadata": {},
     "output_type": "display_data"
    }
   ],
   "source": [
    "\n",
    "setwd(\"C:/Users/julia\")\n",
    "getwd()"
   ]
  },
  {
   "cell_type": "code",
   "execution_count": 66,
   "id": "fa52fa00-e692-474e-ae1b-14491ffde487",
   "metadata": {},
   "outputs": [
    {
     "name": "stderr",
     "output_type": "stream",
     "text": [
      "Using cached model\n",
      "\n"
     ]
    }
   ],
   "source": [
    "#model with S = 682\n",
    "library(odin.dust)\n",
    "gen_sir <- odin.dust::odin_dust(\"sir.R\")\n",
    "sir_model <- gen_sir$new(pars = list(dt = 1,\n",
    "                                     S_ini = 681,\n",
    "                                     I_ini = 1,\n",
    "                                     beta = 0.2,\n",
    "                                     gamma = 0.1),\n",
    "                         step = 1,\n",
    "                         n_particles = 10L,\n",
    "                         n_threads = 4L,\n",
    "                         seed = 1L)"
   ]
  },
  {
   "cell_type": "code",
   "execution_count": 69,
   "id": "f7923fb0-4b40-4bb5-8b63-27e5bd4f06fe",
   "metadata": {},
   "outputs": [],
   "source": [
    "n_particles <- 10L\n",
    "filter <- mcstate::particle_filter$new(data = sir_data,\n",
    "                                       model = gen_sir,\n",
    "                                       n_particles = n_particles,\n",
    "                                       compare = case_compare,\n",
    "                                       seed = 1L)"
   ]
  },
  {
   "cell_type": "code",
   "execution_count": 70,
   "id": "a2d2e157-8e0a-482f-a1da-61e45d2401c5",
   "metadata": {},
   "outputs": [
    {
     "ename": "ERROR",
     "evalue": "Error: Expected a vector of length 10 for 'index' but given 1\n",
     "output_type": "error",
     "traceback": [
      "Error: Expected a vector of length 10 for 'index' but given 1\nTraceback:\n",
      "1. filter$run(save_history = TRUE, pars = list(dt = dt))",
      "2. filter_run(self, private, pars, save_history, save_restart, min_log_likelihood)",
      "3. filter_run_simple(self, private, pars, save_history, save_restart, \n .     min_log_likelihood)",
      "4. obj$run()",
      "5. self$step(nrow(private$steps))",
      "6. private$step_r(step_index, partial)",
      "7. model$reorder(kappa)",
      "8. private$methods_$reorder(private$ptr_, index)   # at line 142 of file C:/Users/julia/AppData/Local/Temp/Rtmp6BA7vg/file1864695f2cbd/R/dust.R"
     ]
    }
   ],
   "source": [
    "filter$run(save_history = TRUE, pars = list(dt = dt))"
   ]
  }
 ],
 "metadata": {
  "kernelspec": {
   "display_name": "R",
   "language": "R",
   "name": "ir"
  },
  "language_info": {
   "codemirror_mode": "r",
   "file_extension": ".r",
   "mimetype": "text/x-r-source",
   "name": "R",
   "pygments_lexer": "r",
   "version": "4.1.3"
  }
 },
 "nbformat": 4,
 "nbformat_minor": 5
}
