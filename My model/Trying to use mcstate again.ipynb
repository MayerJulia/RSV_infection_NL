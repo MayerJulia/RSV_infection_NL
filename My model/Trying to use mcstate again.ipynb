{
 "cells": [
  {
   "cell_type": "code",
   "execution_count": 3,
   "id": "40c6054e-c66e-450d-a666-675da0ac5908",
   "metadata": {},
   "outputs": [
    {
     "name": "stderr",
     "output_type": "stream",
     "text": [
      "-- \u001b[1mAttaching packages\u001b[22m ------------------------------------------------------------------------------- tidyverse 1.3.1 --\n",
      "\n",
      "\u001b[32mv\u001b[39m \u001b[34mggplot2\u001b[39m 3.3.6     \u001b[32mv\u001b[39m \u001b[34mpurrr  \u001b[39m 0.3.4\n",
      "\u001b[32mv\u001b[39m \u001b[34mtibble \u001b[39m 3.1.7     \u001b[32mv\u001b[39m \u001b[34mdplyr  \u001b[39m 1.0.9\n",
      "\u001b[32mv\u001b[39m \u001b[34mtidyr  \u001b[39m 1.2.0     \u001b[32mv\u001b[39m \u001b[34mstringr\u001b[39m 1.4.0\n",
      "\u001b[32mv\u001b[39m \u001b[34mreadr  \u001b[39m 2.1.2     \u001b[32mv\u001b[39m \u001b[34mforcats\u001b[39m 0.5.1\n",
      "\n",
      "-- \u001b[1mConflicts\u001b[22m ---------------------------------------------------------------------------------- tidyverse_conflicts() --\n",
      "\u001b[31mx\u001b[39m \u001b[34mdplyr\u001b[39m::\u001b[32mfilter()\u001b[39m masks \u001b[34mstats\u001b[39m::filter()\n",
      "\u001b[31mx\u001b[39m \u001b[34mdplyr\u001b[39m::\u001b[32mlag()\u001b[39m    masks \u001b[34mstats\u001b[39m::lag()\n",
      "\n",
      "\u001b[1mRows: \u001b[22m\u001b[34m682\u001b[39m \u001b[1mColumns: \u001b[22m\u001b[34m23\u001b[39m\n",
      "\u001b[36m--\u001b[39m \u001b[1mColumn specification\u001b[22m \u001b[36m------------------------------------------------------------------------------------------------\u001b[39m\n",
      "\u001b[1mDelimiter:\u001b[22m \",\"\n",
      "\u001b[32mdbl\u001b[39m  (20): age_days, infection, IgG_PreF, IgA_PreF, IgG_PostF, IgA_PostF, Ig...\n",
      "\u001b[33mlgl\u001b[39m   (1): IgA_Nn_household\n",
      "\u001b[34mdate\u001b[39m  (2): birthday, consultdate\n",
      "\n",
      "\u001b[36mi\u001b[39m Use `spec()` to retrieve the full column specification for this data.\n",
      "\u001b[36mi\u001b[39m Specify the column types or set `show_col_types = FALSE` to quiet this message.\n"
     ]
    }
   ],
   "source": [
    "PATH <- file.path(\"C:/Users/julia/OneDrive - London School of Hygiene and Tropical Medicine/Documents/LSHTM/Project\") #\"/home/andewegs/1_RSV_scripts/\"\n",
    "setwd(PATH)\n",
    "#getwd()\n",
    "library(tidyverse)\n",
    "rsv.data <- read_csv(file = \"Data/infection_status.csv\")"
   ]
  },
  {
   "cell_type": "code",
   "execution_count": 4,
   "id": "5d3acb44-3e35-473c-9a7f-b12ef0e5eeb3",
   "metadata": {},
   "outputs": [
    {
     "data": {
      "text/html": [
       "<table class=\"dataframe\">\n",
       "<caption>A data.frame: 6 × 3</caption>\n",
       "<thead>\n",
       "\t<tr><th></th><th scope=col>age</th><th scope=col>infected</th><th scope=col>cuminfection</th></tr>\n",
       "\t<tr><th></th><th scope=col>&lt;dbl&gt;</th><th scope=col>&lt;int&gt;</th><th scope=col>&lt;int&gt;</th></tr>\n",
       "</thead>\n",
       "<tbody>\n",
       "\t<tr><th scope=row>1808</th><td>1808</td><td>1</td><td>339</td></tr>\n",
       "\t<tr><th scope=row>1821</th><td>1821</td><td>1</td><td>340</td></tr>\n",
       "\t<tr><th scope=row>1823</th><td>1823</td><td>1</td><td>341</td></tr>\n",
       "\t<tr><th scope=row>1841</th><td>1841</td><td>2</td><td>343</td></tr>\n",
       "\t<tr><th scope=row>1843</th><td>1843</td><td>1</td><td>344</td></tr>\n",
       "\t<tr><th scope=row>1854</th><td>1854</td><td>1</td><td>345</td></tr>\n",
       "</tbody>\n",
       "</table>\n"
      ],
      "text/latex": [
       "A data.frame: 6 × 3\n",
       "\\begin{tabular}{r|lll}\n",
       "  & age & infected & cuminfection\\\\\n",
       "  & <dbl> & <int> & <int>\\\\\n",
       "\\hline\n",
       "\t1808 & 1808 & 1 & 339\\\\\n",
       "\t1821 & 1821 & 1 & 340\\\\\n",
       "\t1823 & 1823 & 1 & 341\\\\\n",
       "\t1841 & 1841 & 2 & 343\\\\\n",
       "\t1843 & 1843 & 1 & 344\\\\\n",
       "\t1854 & 1854 & 1 & 345\\\\\n",
       "\\end{tabular}\n"
      ],
      "text/markdown": [
       "\n",
       "A data.frame: 6 × 3\n",
       "\n",
       "| <!--/--> | age &lt;dbl&gt; | infected &lt;int&gt; | cuminfection &lt;int&gt; |\n",
       "|---|---|---|---|\n",
       "| 1808 | 1808 | 1 | 339 |\n",
       "| 1821 | 1821 | 1 | 340 |\n",
       "| 1823 | 1823 | 1 | 341 |\n",
       "| 1841 | 1841 | 2 | 343 |\n",
       "| 1843 | 1843 | 1 | 344 |\n",
       "| 1854 | 1854 | 1 | 345 |\n",
       "\n"
      ],
      "text/plain": [
       "     age  infected cuminfection\n",
       "1808 1808 1        339         \n",
       "1821 1821 1        340         \n",
       "1823 1823 1        341         \n",
       "1841 1841 2        343         \n",
       "1843 1843 1        344         \n",
       "1854 1854 1        345         "
      ]
     },
     "metadata": {},
     "output_type": "display_data"
    }
   ],
   "source": [
    "#get true number of infected and recovered children\n",
    "rsv_by_age <- rsv.data %>% arrange(age_days)\n",
    "tab <- table(rsv_by_age$age_days, rsv_by_age$infection)\n",
    "true_hist <- data.frame(age=rownames(tab), infected=tab[,2])\n",
    "true_hist$age <- as.numeric(true_hist$age)\n",
    "true_hist$cuminfection <- cumsum(true_hist$infected)\n",
    "tail(true_hist)"
   ]
  },
  {
   "cell_type": "code",
   "execution_count": 5,
   "id": "af89d61a-da9c-4799-8880-d7f3626d2b1c",
   "metadata": {},
   "outputs": [
    {
     "data": {
      "text/html": [
       "<table class=\"dataframe\">\n",
       "<caption>A data.frame: 6 × 4</caption>\n",
       "<thead>\n",
       "\t<tr><th></th><th scope=col>age</th><th scope=col>infected</th><th scope=col>cuminfection</th><th scope=col>susceptible</th></tr>\n",
       "\t<tr><th></th><th scope=col>&lt;dbl&gt;</th><th scope=col>&lt;int&gt;</th><th scope=col>&lt;int&gt;</th><th scope=col>&lt;int&gt;</th></tr>\n",
       "</thead>\n",
       "<tbody>\n",
       "\t<tr><th scope=row>1808</th><td>1808</td><td>1</td><td>339</td><td>343</td></tr>\n",
       "\t<tr><th scope=row>1821</th><td>1821</td><td>1</td><td>340</td><td>342</td></tr>\n",
       "\t<tr><th scope=row>1823</th><td>1823</td><td>1</td><td>341</td><td>341</td></tr>\n",
       "\t<tr><th scope=row>1841</th><td>1841</td><td>2</td><td>343</td><td>339</td></tr>\n",
       "\t<tr><th scope=row>1843</th><td>1843</td><td>1</td><td>344</td><td>338</td></tr>\n",
       "\t<tr><th scope=row>1854</th><td>1854</td><td>1</td><td>345</td><td>337</td></tr>\n",
       "</tbody>\n",
       "</table>\n"
      ],
      "text/latex": [
       "A data.frame: 6 × 4\n",
       "\\begin{tabular}{r|llll}\n",
       "  & age & infected & cuminfection & susceptible\\\\\n",
       "  & <dbl> & <int> & <int> & <int>\\\\\n",
       "\\hline\n",
       "\t1808 & 1808 & 1 & 339 & 343\\\\\n",
       "\t1821 & 1821 & 1 & 340 & 342\\\\\n",
       "\t1823 & 1823 & 1 & 341 & 341\\\\\n",
       "\t1841 & 1841 & 2 & 343 & 339\\\\\n",
       "\t1843 & 1843 & 1 & 344 & 338\\\\\n",
       "\t1854 & 1854 & 1 & 345 & 337\\\\\n",
       "\\end{tabular}\n"
      ],
      "text/markdown": [
       "\n",
       "A data.frame: 6 × 4\n",
       "\n",
       "| <!--/--> | age &lt;dbl&gt; | infected &lt;int&gt; | cuminfection &lt;int&gt; | susceptible &lt;int&gt; |\n",
       "|---|---|---|---|---|\n",
       "| 1808 | 1808 | 1 | 339 | 343 |\n",
       "| 1821 | 1821 | 1 | 340 | 342 |\n",
       "| 1823 | 1823 | 1 | 341 | 341 |\n",
       "| 1841 | 1841 | 2 | 343 | 339 |\n",
       "| 1843 | 1843 | 1 | 344 | 338 |\n",
       "| 1854 | 1854 | 1 | 345 | 337 |\n",
       "\n"
      ],
      "text/plain": [
       "     age  infected cuminfection susceptible\n",
       "1808 1808 1        339          343        \n",
       "1821 1821 1        340          342        \n",
       "1823 1823 1        341          341        \n",
       "1841 1841 2        343          339        \n",
       "1843 1843 1        344          338        \n",
       "1854 1854 1        345          337        "
      ]
     },
     "metadata": {},
     "output_type": "display_data"
    }
   ],
   "source": [
    "#add susceptible\n",
    "N <- nrow(rsv_by_age)\n",
    "true_hist$susceptible <- N - true_hist$cuminfection\n",
    "tail(true_hist)"
   ]
  },
  {
   "cell_type": "code",
   "execution_count": 6,
   "id": "343205b1-d6e7-4288-b47c-c0eebf10fca4",
   "metadata": {},
   "outputs": [
    {
     "data": {
      "image/png": "[encoded data removed]",
      "text/plain": [
       "Plot with title \"True epidemic\""
      ]
     },
     "metadata": {
      "image/png": {
       "height": 420,
       "width": 420
      }
     },
     "output_type": "display_data"
    }
   ],
   "source": [
    "#png(\"true epidemic.png\")\n",
    "cols <- names(true_hist) %in% c('age')\n",
    "hist_no_time <- true_hist[!cols]\n",
    "par(mar = c(4.1, 5.1, 0.5, 0.5), las = 1)\n",
    "cols <- c(I = \"#8c8cd9\", R = \"#cc0044\", S = \"#999966\")\n",
    "matplot(hist_no_time, type = \"l\", \n",
    "        xlab = \"Time\", ylab = \"Number of individuals\",\n",
    "        col = cols, lty = 1, lwd = 2)\n",
    "legend(\"left\", lwd = 2, col = cols, legend = names(cols), bty = \"n\")\n",
    "title(\"True epidemic\", line = 0)\n",
    "#dev.off()"
   ]
  },
  {
   "cell_type": "code",
   "execution_count": 61,
   "id": "ce744dba-e5cb-4933-88d8-fbc9e7daadff",
   "metadata": {},
   "outputs": [],
   "source": [
    "#build a true history with all days\n",
    "min = head(true_hist$age,1)\n",
    "max = tail(true_hist$age,1)\n",
    "days <- seq(min, max)\n",
    "infected <- rep(0, max-min+1)\n",
    "susceptible <- rep(0, max-min+1)\n",
    "recovered <- rep(0, max-min+1)\n",
    "\n",
    "true_hist_all <- data.frame(days, susceptible,infected, recovered)"
   ]
  },
  {
   "cell_type": "code",
   "execution_count": 63,
   "id": "cb5eb8c8-853c-41e4-939c-d9aaa43f4375",
   "metadata": {},
   "outputs": [],
   "source": [
    "for (d in seq_along(true_hist_all$days)){\n",
    "    for (a in seq_along(true_hist$age)){\n",
    "     if (true_hist_all$days[d] == true_hist$age[a]){\n",
    "         true_hist_all$susceptible[d] <- true_hist$susceptible[a]\n",
    "         true_hist_all$infected[d] <- true_hist$infected[a]\n",
    "         true_hist_all$recovered[d] <- true_hist$cuminfection[a]\n",
    "     }\n",
    "   }\n",
    "}"
   ]
  },
  {
   "cell_type": "code",
   "execution_count": 66,
   "id": "7d71f542-6292-491a-8f61-65f9d7944db7",
   "metadata": {},
   "outputs": [],
   "source": [
    "for (d in seq_along(true_hist_all$days)){\n",
    "     if (true_hist_all$susceptible[d] == 0){\n",
    "         true_hist_all$susceptible[d] <- true_hist_all$susceptible[d-1]\n",
    "     }\n",
    "}"
   ]
  },
  {
   "cell_type": "code",
   "execution_count": 71,
   "id": "acdcdd37-bae5-46ed-a924-c027017ab4da",
   "metadata": {},
   "outputs": [],
   "source": [
    "N = nrow(rsv_by_age)\n",
    "true_hist_all$recovered <- N - true_hist_all$susceptible - true_hist_all$infected"
   ]
  },
  {
   "cell_type": "code",
   "execution_count": 72,
   "id": "edf07a23-1d77-47ef-adec-c4766ede7fc6",
   "metadata": {},
   "outputs": [
    {
     "data": {
      "text/html": [
       "<table class=\"dataframe\">\n",
       "<caption>A data.frame: 1819 × 4</caption>\n",
       "<thead>\n",
       "\t<tr><th scope=col>days</th><th scope=col>susceptible</th><th scope=col>infected</th><th scope=col>recovered</th></tr>\n",
       "\t<tr><th scope=col>&lt;int&gt;</th><th scope=col>&lt;dbl&gt;</th><th scope=col>&lt;dbl&gt;</th><th scope=col>&lt;dbl&gt;</th></tr>\n",
       "</thead>\n",
       "<tbody>\n",
       "\t<tr><td>36</td><td>682</td><td>0</td><td>0</td></tr>\n",
       "\t<tr><td>37</td><td>682</td><td>0</td><td>0</td></tr>\n",
       "\t<tr><td>38</td><td>682</td><td>0</td><td>0</td></tr>\n",
       "\t<tr><td>39</td><td>682</td><td>0</td><td>0</td></tr>\n",
       "\t<tr><td>40</td><td>682</td><td>0</td><td>0</td></tr>\n",
       "\t<tr><td>41</td><td>682</td><td>0</td><td>0</td></tr>\n",
       "\t<tr><td>42</td><td>682</td><td>0</td><td>0</td></tr>\n",
       "\t<tr><td>43</td><td>682</td><td>0</td><td>0</td></tr>\n",
       "\t<tr><td>44</td><td>682</td><td>0</td><td>0</td></tr>\n",
       "\t<tr><td>45</td><td>682</td><td>0</td><td>0</td></tr>\n",
       "\t<tr><td>46</td><td>682</td><td>0</td><td>0</td></tr>\n",
       "\t<tr><td>47</td><td>682</td><td>0</td><td>0</td></tr>\n",
       "\t<tr><td>48</td><td>682</td><td>0</td><td>0</td></tr>\n",
       "\t<tr><td>49</td><td>682</td><td>0</td><td>0</td></tr>\n",
       "\t<tr><td>50</td><td>682</td><td>0</td><td>0</td></tr>\n",
       "\t<tr><td>51</td><td>682</td><td>0</td><td>0</td></tr>\n",
       "\t<tr><td>52</td><td>682</td><td>0</td><td>0</td></tr>\n",
       "\t<tr><td>53</td><td>682</td><td>0</td><td>0</td></tr>\n",
       "\t<tr><td>54</td><td>682</td><td>0</td><td>0</td></tr>\n",
       "\t<tr><td>55</td><td>682</td><td>0</td><td>0</td></tr>\n",
       "\t<tr><td>56</td><td>682</td><td>0</td><td>0</td></tr>\n",
       "\t<tr><td>57</td><td>682</td><td>0</td><td>0</td></tr>\n",
       "\t<tr><td>58</td><td>682</td><td>0</td><td>0</td></tr>\n",
       "\t<tr><td>59</td><td>682</td><td>0</td><td>0</td></tr>\n",
       "\t<tr><td>60</td><td>682</td><td>0</td><td>0</td></tr>\n",
       "\t<tr><td>61</td><td>682</td><td>0</td><td>0</td></tr>\n",
       "\t<tr><td>62</td><td>682</td><td>0</td><td>0</td></tr>\n",
       "\t<tr><td>63</td><td>682</td><td>0</td><td>0</td></tr>\n",
       "\t<tr><td>64</td><td>682</td><td>0</td><td>0</td></tr>\n",
       "\t<tr><td>65</td><td>682</td><td>0</td><td>0</td></tr>\n",
       "\t<tr><td>⋮</td><td>⋮</td><td>⋮</td><td>⋮</td></tr>\n",
       "\t<tr><td>1825</td><td>341</td><td>0</td><td>341</td></tr>\n",
       "\t<tr><td>1826</td><td>341</td><td>0</td><td>341</td></tr>\n",
       "\t<tr><td>1827</td><td>341</td><td>0</td><td>341</td></tr>\n",
       "\t<tr><td>1828</td><td>341</td><td>0</td><td>341</td></tr>\n",
       "\t<tr><td>1829</td><td>341</td><td>0</td><td>341</td></tr>\n",
       "\t<tr><td>1830</td><td>341</td><td>0</td><td>341</td></tr>\n",
       "\t<tr><td>1831</td><td>341</td><td>0</td><td>341</td></tr>\n",
       "\t<tr><td>1832</td><td>341</td><td>0</td><td>341</td></tr>\n",
       "\t<tr><td>1833</td><td>341</td><td>0</td><td>341</td></tr>\n",
       "\t<tr><td>1834</td><td>341</td><td>0</td><td>341</td></tr>\n",
       "\t<tr><td>1835</td><td>341</td><td>0</td><td>341</td></tr>\n",
       "\t<tr><td>1836</td><td>341</td><td>0</td><td>341</td></tr>\n",
       "\t<tr><td>1837</td><td>341</td><td>0</td><td>341</td></tr>\n",
       "\t<tr><td>1838</td><td>341</td><td>0</td><td>341</td></tr>\n",
       "\t<tr><td>1839</td><td>341</td><td>0</td><td>341</td></tr>\n",
       "\t<tr><td>1840</td><td>341</td><td>0</td><td>341</td></tr>\n",
       "\t<tr><td>1841</td><td>339</td><td>2</td><td>341</td></tr>\n",
       "\t<tr><td>1842</td><td>339</td><td>0</td><td>343</td></tr>\n",
       "\t<tr><td>1843</td><td>338</td><td>1</td><td>343</td></tr>\n",
       "\t<tr><td>1844</td><td>338</td><td>0</td><td>344</td></tr>\n",
       "\t<tr><td>1845</td><td>338</td><td>0</td><td>344</td></tr>\n",
       "\t<tr><td>1846</td><td>338</td><td>0</td><td>344</td></tr>\n",
       "\t<tr><td>1847</td><td>338</td><td>0</td><td>344</td></tr>\n",
       "\t<tr><td>1848</td><td>338</td><td>0</td><td>344</td></tr>\n",
       "\t<tr><td>1849</td><td>338</td><td>0</td><td>344</td></tr>\n",
       "\t<tr><td>1850</td><td>338</td><td>0</td><td>344</td></tr>\n",
       "\t<tr><td>1851</td><td>338</td><td>0</td><td>344</td></tr>\n",
       "\t<tr><td>1852</td><td>338</td><td>0</td><td>344</td></tr>\n",
       "\t<tr><td>1853</td><td>338</td><td>0</td><td>344</td></tr>\n",
       "\t<tr><td>1854</td><td>337</td><td>1</td><td>344</td></tr>\n",
       "</tbody>\n",
       "</table>\n"
      ],
      "text/latex": [
       "A data.frame: 1819 × 4\n",
       "\\begin{tabular}{llll}\n",
       " days & susceptible & infected & recovered\\\\\n",
       " <int> & <dbl> & <dbl> & <dbl>\\\\\n",
       "\\hline\n",
       "\t 36 & 682 & 0 & 0\\\\\n",
       "\t 37 & 682 & 0 & 0\\\\\n",
       "\t 38 & 682 & 0 & 0\\\\\n",
       "\t 39 & 682 & 0 & 0\\\\\n",
       "\t 40 & 682 & 0 & 0\\\\\n",
       "\t 41 & 682 & 0 & 0\\\\\n",
       "\t 42 & 682 & 0 & 0\\\\\n",
       "\t 43 & 682 & 0 & 0\\\\\n",
       "\t 44 & 682 & 0 & 0\\\\\n",
       "\t 45 & 682 & 0 & 0\\\\\n",
       "\t 46 & 682 & 0 & 0\\\\\n",
       "\t 47 & 682 & 0 & 0\\\\\n",
       "\t 48 & 682 & 0 & 0\\\\\n",
       "\t 49 & 682 & 0 & 0\\\\\n",
       "\t 50 & 682 & 0 & 0\\\\\n",
       "\t 51 & 682 & 0 & 0\\\\\n",
       "\t 52 & 682 & 0 & 0\\\\\n",
       "\t 53 & 682 & 0 & 0\\\\\n",
       "\t 54 & 682 & 0 & 0\\\\\n",
       "\t 55 & 682 & 0 & 0\\\\\n",
       "\t 56 & 682 & 0 & 0\\\\\n",
       "\t 57 & 682 & 0 & 0\\\\\n",
       "\t 58 & 682 & 0 & 0\\\\\n",
       "\t 59 & 682 & 0 & 0\\\\\n",
       "\t 60 & 682 & 0 & 0\\\\\n",
       "\t 61 & 682 & 0 & 0\\\\\n",
       "\t 62 & 682 & 0 & 0\\\\\n",
       "\t 63 & 682 & 0 & 0\\\\\n",
       "\t 64 & 682 & 0 & 0\\\\\n",
       "\t 65 & 682 & 0 & 0\\\\\n",
       "\t ⋮ & ⋮ & ⋮ & ⋮\\\\\n",
       "\t 1825 & 341 & 0 & 341\\\\\n",
       "\t 1826 & 341 & 0 & 341\\\\\n",
       "\t 1827 & 341 & 0 & 341\\\\\n",
       "\t 1828 & 341 & 0 & 341\\\\\n",
       "\t 1829 & 341 & 0 & 341\\\\\n",
       "\t 1830 & 341 & 0 & 341\\\\\n",
       "\t 1831 & 341 & 0 & 341\\\\\n",
       "\t 1832 & 341 & 0 & 341\\\\\n",
       "\t 1833 & 341 & 0 & 341\\\\\n",
       "\t 1834 & 341 & 0 & 341\\\\\n",
       "\t 1835 & 341 & 0 & 341\\\\\n",
       "\t 1836 & 341 & 0 & 341\\\\\n",
       "\t 1837 & 341 & 0 & 341\\\\\n",
       "\t 1838 & 341 & 0 & 341\\\\\n",
       "\t 1839 & 341 & 0 & 341\\\\\n",
       "\t 1840 & 341 & 0 & 341\\\\\n",
       "\t 1841 & 339 & 2 & 341\\\\\n",
       "\t 1842 & 339 & 0 & 343\\\\\n",
       "\t 1843 & 338 & 1 & 343\\\\\n",
       "\t 1844 & 338 & 0 & 344\\\\\n",
       "\t 1845 & 338 & 0 & 344\\\\\n",
       "\t 1846 & 338 & 0 & 344\\\\\n",
       "\t 1847 & 338 & 0 & 344\\\\\n",
       "\t 1848 & 338 & 0 & 344\\\\\n",
       "\t 1849 & 338 & 0 & 344\\\\\n",
       "\t 1850 & 338 & 0 & 344\\\\\n",
       "\t 1851 & 338 & 0 & 344\\\\\n",
       "\t 1852 & 338 & 0 & 344\\\\\n",
       "\t 1853 & 338 & 0 & 344\\\\\n",
       "\t 1854 & 337 & 1 & 344\\\\\n",
       "\\end{tabular}\n"
      ],
      "text/markdown": [
       "\n",
       "A data.frame: 1819 × 4\n",
       "\n",
       "| days &lt;int&gt; | susceptible &lt;dbl&gt; | infected &lt;dbl&gt; | recovered &lt;dbl&gt; |\n",
       "|---|---|---|---|\n",
       "| 36 | 682 | 0 | 0 |\n",
       "| 37 | 682 | 0 | 0 |\n",
       "| 38 | 682 | 0 | 0 |\n",
       "| 39 | 682 | 0 | 0 |\n",
       "| 40 | 682 | 0 | 0 |\n",
       "| 41 | 682 | 0 | 0 |\n",
       "| 42 | 682 | 0 | 0 |\n",
       "| 43 | 682 | 0 | 0 |\n",
       "| 44 | 682 | 0 | 0 |\n",
       "| 45 | 682 | 0 | 0 |\n",
       "| 46 | 682 | 0 | 0 |\n",
       "| 47 | 682 | 0 | 0 |\n",
       "| 48 | 682 | 0 | 0 |\n",
       "| 49 | 682 | 0 | 0 |\n",
       "| 50 | 682 | 0 | 0 |\n",
       "| 51 | 682 | 0 | 0 |\n",
       "| 52 | 682 | 0 | 0 |\n",
       "| 53 | 682 | 0 | 0 |\n",
       "| 54 | 682 | 0 | 0 |\n",
       "| 55 | 682 | 0 | 0 |\n",
       "| 56 | 682 | 0 | 0 |\n",
       "| 57 | 682 | 0 | 0 |\n",
       "| 58 | 682 | 0 | 0 |\n",
       "| 59 | 682 | 0 | 0 |\n",
       "| 60 | 682 | 0 | 0 |\n",
       "| 61 | 682 | 0 | 0 |\n",
       "| 62 | 682 | 0 | 0 |\n",
       "| 63 | 682 | 0 | 0 |\n",
       "| 64 | 682 | 0 | 0 |\n",
       "| 65 | 682 | 0 | 0 |\n",
       "| ⋮ | ⋮ | ⋮ | ⋮ |\n",
       "| 1825 | 341 | 0 | 341 |\n",
       "| 1826 | 341 | 0 | 341 |\n",
       "| 1827 | 341 | 0 | 341 |\n",
       "| 1828 | 341 | 0 | 341 |\n",
       "| 1829 | 341 | 0 | 341 |\n",
       "| 1830 | 341 | 0 | 341 |\n",
       "| 1831 | 341 | 0 | 341 |\n",
       "| 1832 | 341 | 0 | 341 |\n",
       "| 1833 | 341 | 0 | 341 |\n",
       "| 1834 | 341 | 0 | 341 |\n",
       "| 1835 | 341 | 0 | 341 |\n",
       "| 1836 | 341 | 0 | 341 |\n",
       "| 1837 | 341 | 0 | 341 |\n",
       "| 1838 | 341 | 0 | 341 |\n",
       "| 1839 | 341 | 0 | 341 |\n",
       "| 1840 | 341 | 0 | 341 |\n",
       "| 1841 | 339 | 2 | 341 |\n",
       "| 1842 | 339 | 0 | 343 |\n",
       "| 1843 | 338 | 1 | 343 |\n",
       "| 1844 | 338 | 0 | 344 |\n",
       "| 1845 | 338 | 0 | 344 |\n",
       "| 1846 | 338 | 0 | 344 |\n",
       "| 1847 | 338 | 0 | 344 |\n",
       "| 1848 | 338 | 0 | 344 |\n",
       "| 1849 | 338 | 0 | 344 |\n",
       "| 1850 | 338 | 0 | 344 |\n",
       "| 1851 | 338 | 0 | 344 |\n",
       "| 1852 | 338 | 0 | 344 |\n",
       "| 1853 | 338 | 0 | 344 |\n",
       "| 1854 | 337 | 1 | 344 |\n",
       "\n"
      ],
      "text/plain": [
       "     days susceptible infected recovered\n",
       "1    36   682         0        0        \n",
       "2    37   682         0        0        \n",
       "3    38   682         0        0        \n",
       "4    39   682         0        0        \n",
       "5    40   682         0        0        \n",
       "6    41   682         0        0        \n",
       "7    42   682         0        0        \n",
       "8    43   682         0        0        \n",
       "9    44   682         0        0        \n",
       "10   45   682         0        0        \n",
       "11   46   682         0        0        \n",
       "12   47   682         0        0        \n",
       "13   48   682         0        0        \n",
       "14   49   682         0        0        \n",
       "15   50   682         0        0        \n",
       "16   51   682         0        0        \n",
       "17   52   682         0        0        \n",
       "18   53   682         0        0        \n",
       "19   54   682         0        0        \n",
       "20   55   682         0        0        \n",
       "21   56   682         0        0        \n",
       "22   57   682         0        0        \n",
       "23   58   682         0        0        \n",
       "24   59   682         0        0        \n",
       "25   60   682         0        0        \n",
       "26   61   682         0        0        \n",
       "27   62   682         0        0        \n",
       "28   63   682         0        0        \n",
       "29   64   682         0        0        \n",
       "30   65   682         0        0        \n",
       "<U+22EE>    <U+22EE> <U+22EE>    <U+22EE> <U+22EE> \n",
       "1790 1825 341         0        341      \n",
       "1791 1826 341         0        341      \n",
       "1792 1827 341         0        341      \n",
       "1793 1828 341         0        341      \n",
       "1794 1829 341         0        341      \n",
       "1795 1830 341         0        341      \n",
       "1796 1831 341         0        341      \n",
       "1797 1832 341         0        341      \n",
       "1798 1833 341         0        341      \n",
       "1799 1834 341         0        341      \n",
       "1800 1835 341         0        341      \n",
       "1801 1836 341         0        341      \n",
       "1802 1837 341         0        341      \n",
       "1803 1838 341         0        341      \n",
       "1804 1839 341         0        341      \n",
       "1805 1840 341         0        341      \n",
       "1806 1841 339         2        341      \n",
       "1807 1842 339         0        343      \n",
       "1808 1843 338         1        343      \n",
       "1809 1844 338         0        344      \n",
       "1810 1845 338         0        344      \n",
       "1811 1846 338         0        344      \n",
       "1812 1847 338         0        344      \n",
       "1813 1848 338         0        344      \n",
       "1814 1849 338         0        344      \n",
       "1815 1850 338         0        344      \n",
       "1816 1851 338         0        344      \n",
       "1817 1852 338         0        344      \n",
       "1818 1853 338         0        344      \n",
       "1819 1854 337         1        344      "
      ]
     },
     "metadata": {},
     "output_type": "display_data"
    }
   ],
   "source": [
    "true_hist_all"
   ]
  },
  {
   "cell_type": "markdown",
   "id": "3241b970-7a91-40ce-b6f5-8d26ecf38f8b",
   "metadata": {},
   "source": [
    "Now mcstate"
   ]
  },
  {
   "cell_type": "code",
   "execution_count": 7,
   "id": "74c5941c-6c45-4d4f-b80c-c01ce04c35f9",
   "metadata": {},
   "outputs": [],
   "source": [
    "rsv_by_age <- rsv.data %>% arrange(age_days)\n",
    "tab <- table(rsv_by_age$age_days, rsv_by_age$infection)\n",
    "dframe <- data.frame(age=rownames(tab), infected=tab[,2])\n",
    "dframe$age <- as.numeric(dframe$age)\n",
    "dframe$cuminfection <- cumsum(dframe$infected)"
   ]
  },
  {
   "cell_type": "code",
   "execution_count": 6,
   "id": "dc1222b8-a61f-4573-97a4-bc69d981f3a7",
   "metadata": {},
   "outputs": [
    {
     "data": {
      "text/html": [
       "<table class=\"dataframe\">\n",
       "<caption>A data.frame: 6 × 3</caption>\n",
       "<thead>\n",
       "\t<tr><th></th><th scope=col>age</th><th scope=col>infected</th><th scope=col>cuminfection</th></tr>\n",
       "\t<tr><th></th><th scope=col>&lt;dbl&gt;</th><th scope=col>&lt;int&gt;</th><th scope=col>&lt;int&gt;</th></tr>\n",
       "</thead>\n",
       "<tbody>\n",
       "\t<tr><th scope=row>1808</th><td>1808</td><td>1</td><td>339</td></tr>\n",
       "\t<tr><th scope=row>1821</th><td>1821</td><td>1</td><td>340</td></tr>\n",
       "\t<tr><th scope=row>1823</th><td>1823</td><td>1</td><td>341</td></tr>\n",
       "\t<tr><th scope=row>1841</th><td>1841</td><td>2</td><td>343</td></tr>\n",
       "\t<tr><th scope=row>1843</th><td>1843</td><td>1</td><td>344</td></tr>\n",
       "\t<tr><th scope=row>1854</th><td>1854</td><td>1</td><td>345</td></tr>\n",
       "</tbody>\n",
       "</table>\n"
      ],
      "text/latex": [
       "A data.frame: 6 × 3\n",
       "\\begin{tabular}{r|lll}\n",
       "  & age & infected & cuminfection\\\\\n",
       "  & <dbl> & <int> & <int>\\\\\n",
       "\\hline\n",
       "\t1808 & 1808 & 1 & 339\\\\\n",
       "\t1821 & 1821 & 1 & 340\\\\\n",
       "\t1823 & 1823 & 1 & 341\\\\\n",
       "\t1841 & 1841 & 2 & 343\\\\\n",
       "\t1843 & 1843 & 1 & 344\\\\\n",
       "\t1854 & 1854 & 1 & 345\\\\\n",
       "\\end{tabular}\n"
      ],
      "text/markdown": [
       "\n",
       "A data.frame: 6 × 3\n",
       "\n",
       "| <!--/--> | age &lt;dbl&gt; | infected &lt;int&gt; | cuminfection &lt;int&gt; |\n",
       "|---|---|---|---|\n",
       "| 1808 | 1808 | 1 | 339 |\n",
       "| 1821 | 1821 | 1 | 340 |\n",
       "| 1823 | 1823 | 1 | 341 |\n",
       "| 1841 | 1841 | 2 | 343 |\n",
       "| 1843 | 1843 | 1 | 344 |\n",
       "| 1854 | 1854 | 1 | 345 |\n",
       "\n"
      ],
      "text/plain": [
       "     age  infected cuminfection\n",
       "1808 1808 1        339         \n",
       "1821 1821 1        340         \n",
       "1823 1823 1        341         \n",
       "1841 1841 2        343         \n",
       "1843 1843 1        344         \n",
       "1854 1854 1        345         "
      ]
     },
     "metadata": {},
     "output_type": "display_data"
    }
   ],
   "source": [
    "tail(dframe)"
   ]
  },
  {
   "cell_type": "code",
   "execution_count": 9,
   "id": "4cb436a1-5c99-4415-909e-01c31ca5a432",
   "metadata": {},
   "outputs": [],
   "source": [
    "#get only participants aged 97 days or more\n",
    "dframe2 <- subset(dframe, age>=97)"
   ]
  },
  {
   "cell_type": "code",
   "execution_count": 10,
   "id": "d24ade78-c68e-4b42-bc4a-8453faafc1e7",
   "metadata": {},
   "outputs": [],
   "source": [
    "#define a dataframe with all days between the youngest age and the oldest age\n",
    "min = head(dframe2$age,1)\n",
    "max = tail(dframe2$age,1)\n",
    "days <- seq(min, max)\n",
    "infections <- rep(0, max-min+1)\n",
    "\n",
    "df <- data.frame(days, infections)"
   ]
  },
  {
   "cell_type": "code",
   "execution_count": 11,
   "id": "e11ff308-0e76-4e81-93c9-a8df23a75909",
   "metadata": {},
   "outputs": [],
   "source": [
    "for (d in seq_along(df$days))\n",
    "    for (a in seq_along(dframe2$age))\n",
    "     if (df$days[d] == dframe2$age[a])\n",
    "         df$infections[d] <- dframe2$infected[a]"
   ]
  },
  {
   "cell_type": "code",
   "execution_count": 12,
   "id": "690c9d38-1a04-4ec8-b10e-90e8d4053508",
   "metadata": {},
   "outputs": [
    {
     "data": {
      "text/html": [
       "<table class=\"dataframe\">\n",
       "<caption>A paged_df: 6 × 5</caption>\n",
       "<thead>\n",
       "\t<tr><th></th><th scope=col>days_start</th><th scope=col>days_end</th><th scope=col>step_start</th><th scope=col>step_end</th><th scope=col>infections</th></tr>\n",
       "\t<tr><th></th><th scope=col>&lt;int&gt;</th><th scope=col>&lt;int&gt;</th><th scope=col>&lt;int&gt;</th><th scope=col>&lt;int&gt;</th><th scope=col>&lt;dbl&gt;</th></tr>\n",
       "</thead>\n",
       "<tbody>\n",
       "\t<tr><th scope=row>1</th><td> 96</td><td> 97</td><td> 96</td><td> 97</td><td>2</td></tr>\n",
       "\t<tr><th scope=row>2</th><td> 97</td><td> 98</td><td> 97</td><td> 98</td><td>0</td></tr>\n",
       "\t<tr><th scope=row>3</th><td> 98</td><td> 99</td><td> 98</td><td> 99</td><td>0</td></tr>\n",
       "\t<tr><th scope=row>4</th><td> 99</td><td>100</td><td> 99</td><td>100</td><td>0</td></tr>\n",
       "\t<tr><th scope=row>5</th><td>100</td><td>101</td><td>100</td><td>101</td><td>0</td></tr>\n",
       "\t<tr><th scope=row>6</th><td>101</td><td>102</td><td>101</td><td>102</td><td>1</td></tr>\n",
       "</tbody>\n",
       "</table>\n"
      ],
      "text/latex": [
       "A paged\\_df: 6 × 5\n",
       "\\begin{tabular}{r|lllll}\n",
       "  & days\\_start & days\\_end & step\\_start & step\\_end & infections\\\\\n",
       "  & <int> & <int> & <int> & <int> & <dbl>\\\\\n",
       "\\hline\n",
       "\t1 &  96 &  97 &  96 &  97 & 2\\\\\n",
       "\t2 &  97 &  98 &  97 &  98 & 0\\\\\n",
       "\t3 &  98 &  99 &  98 &  99 & 0\\\\\n",
       "\t4 &  99 & 100 &  99 & 100 & 0\\\\\n",
       "\t5 & 100 & 101 & 100 & 101 & 0\\\\\n",
       "\t6 & 101 & 102 & 101 & 102 & 1\\\\\n",
       "\\end{tabular}\n"
      ],
      "text/markdown": [
       "\n",
       "A paged_df: 6 × 5\n",
       "\n",
       "| <!--/--> | days_start &lt;int&gt; | days_end &lt;int&gt; | step_start &lt;int&gt; | step_end &lt;int&gt; | infections &lt;dbl&gt; |\n",
       "|---|---|---|---|---|---|\n",
       "| 1 |  96 |  97 |  96 |  97 | 2 |\n",
       "| 2 |  97 |  98 |  97 |  98 | 0 |\n",
       "| 3 |  98 |  99 |  98 |  99 | 0 |\n",
       "| 4 |  99 | 100 |  99 | 100 | 0 |\n",
       "| 5 | 100 | 101 | 100 | 101 | 0 |\n",
       "| 6 | 101 | 102 | 101 | 102 | 1 |\n",
       "\n"
      ],
      "text/plain": [
       "  days_start days_end step_start step_end infections\n",
       "1  96         97       96         97      2         \n",
       "2  97         98       97         98      0         \n",
       "3  98         99       98         99      0         \n",
       "4  99        100       99        100      0         \n",
       "5 100        101      100        101      0         \n",
       "6 101        102      101        102      1         "
      ]
     },
     "metadata": {},
     "output_type": "display_data"
    }
   ],
   "source": [
    "dt <- 1\n",
    "sir_data <- mcstate::particle_filter_data(data = df,\n",
    "                                          time = \"days\",\n",
    "                                          rate = 1 / dt)\n",
    "head(rmarkdown::paged_table(sir_data))"
   ]
  },
  {
   "cell_type": "code",
   "execution_count": 13,
   "id": "9ff22d93-8b6f-4634-a19b-9490c3c5c8b7",
   "metadata": {},
   "outputs": [],
   "source": [
    "case_compare <- function(state, observed, pars = NULL) {\n",
    "  exp_noise <- 1e6\n",
    "\n",
    "  incidence_modelled <- state[4 , drop = TRUE]\n",
    "  incidence_observed <- observed$infections\n",
    "  lambda <- incidence_modelled +\n",
    "    rexp(n = length(incidence_modelled), rate = exp_noise)\n",
    "  dpois(x = incidence_observed, lambda = lambda, log = TRUE)\n",
    "}"
   ]
  },
  {
   "cell_type": "code",
   "execution_count": 14,
   "id": "4775d8dd-0958-44ce-82cf-1c57875e8984",
   "metadata": {},
   "outputs": [],
   "source": [
    "incidence_compare <- function(state, prev_state, observed, pars = NULL) {\n",
    "  exp_noise <- 1e6\n",
    "\n",
    "  lambda <- state[4, , drop = TRUE] +\n",
    "    rexp(n = length(incidence_modelled), rate = exp_noise)\n",
    "  dpois(x = observed$infections, lambda = lambda, log = TRUE)\n",
    "}"
   ]
  },
  {
   "cell_type": "code",
   "execution_count": 12,
   "id": "e721ac83-a5ee-4d27-8342-f86581fd8f2f",
   "metadata": {},
   "outputs": [
    {
     "data": {
      "text/html": [
       "682"
      ],
      "text/latex": [
       "682"
      ],
      "text/markdown": [
       "682"
      ],
      "text/plain": [
       "[1] 682"
      ]
     },
     "metadata": {},
     "output_type": "display_data"
    }
   ],
   "source": [
    "nrow(rsv_by_age)"
   ]
  },
  {
   "cell_type": "code",
   "execution_count": 15,
   "id": "1e486be5-b103-44a3-97ea-d16cbb9e1a45",
   "metadata": {},
   "outputs": [
    {
     "data": {
      "text/html": [
       "'C:/Users/julia'"
      ],
      "text/latex": [
       "'C:/Users/julia'"
      ],
      "text/markdown": [
       "'C:/Users/julia'"
      ],
      "text/plain": [
       "[1] \"C:/Users/julia\""
      ]
     },
     "metadata": {},
     "output_type": "display_data"
    }
   ],
   "source": [
    "\n",
    "setwd(\"C:/Users/julia\")\n",
    "getwd()"
   ]
  },
  {
   "cell_type": "code",
   "execution_count": 2,
   "id": "fa52fa00-e692-474e-ae1b-14491ffde487",
   "metadata": {},
   "outputs": [
    {
     "name": "stderr",
     "output_type": "stream",
     "text": [
      "Loading required namespace: pkgbuild\n",
      "\n",
      "\u001b[36mi\u001b[39m 18 functions decorated with [[cpp11::register]]\n",
      "\n",
      "\u001b[32mv\u001b[39m generated file \u001b[34m\u001b[34mcpp11.R\u001b[34m\u001b[39m\n",
      "\n",
      "\u001b[32mv\u001b[39m generated file \u001b[34m\u001b[34mcpp11.cpp\u001b[34m\u001b[39m\n",
      "\n",
      "Re-compiling sir77a075f7\n",
      "\n"
     ]
    },
    {
     "name": "stdout",
     "output_type": "stream",
     "text": [
      "\u001b[90m-\u001b[39m\u001b[90m  \u001b[39m\u001b[90minstalling *source* package 'sir77a075f7' ...\u001b[39m\u001b[36m\u001b[36m (459ms)\u001b[36m\u001b[39m\n",
      "   ** using staged installation\n",
      "   ** libs\n",
      "   g++  -std=gnu++11 -I\"C:/Users/julia/anaconda3/lib/R/include\" -DNDEBUG  -I'C:/Users/julia/anaconda3/Lib/R/library/cpp11/include'     -IC:/Users/julia/anaconda3/Lib/R/library/dust/include -DHAVE_INLINE -fopenmp   -O2 -Wall  -march=x86-64 -mtune=generic  -Wall -pedantic -c cpp11.cpp -o cpp11.o\n",
      "   g++  -std=gnu++11 -I\"C:/Users/julia/anaconda3/lib/R/include\" -DNDEBUG  -I'C:/Users/julia/anaconda3/Lib/R/library/cpp11/include'     -IC:/Users/julia/anaconda3/Lib/R/library/dust/include -DHAVE_INLINE -fopenmp   -O2 -Wall  -march=x86-64 -mtune=generic  -Wall -pedantic -c dust.cpp -o dust.o\n",
      "   dust.cpp: In function 'cpp11::sexp dust::dust_info(const dust::pars_type<T>&) [with T = sir]':\n",
      "   dust.cpp:298:28: warning: variable 'internal' set but not used [-Wunused-but-set-variable]\n",
      "     298 |   const sir::internal_type internal = pars.internal;\n",
      "         |                            ^~~~~~~~\n",
      "   g++ -shared -s -o sir77a075f7.dll tmp.def cpp11.o dust.o -fopenmp -LC:/Users/julia/anaconda3/lib/R/bin/x64 -lR\n",
      "   installing to C:/Users/julia/AppData/Local/Temp/RtmpotOghU/devtools_install_378871001c95/00LOCK-file3788573137ec/00new/sir77a075f7/libs/x64\n",
      "\u001b[90m-\u001b[39m\u001b[90m  \u001b[39m\u001b[90mDONE (sir77a075f7)\u001b[39m\u001b[36m\u001b[39m\n",
      "\r"
     ]
    },
    {
     "name": "stderr",
     "output_type": "stream",
     "text": [
      "\u001b[36mi\u001b[39m Loading \u001b[34m\u001b[34msir77a075f7\u001b[34m\u001b[39m\n",
      "\n"
     ]
    }
   ],
   "source": [
    "#model with S = 682\n",
    "library(odin.dust)\n",
    "gen_sir <- odin.dust::odin_dust(\"sir.R\")\n",
    "sir_model <- gen_sir$new(pars = list(dt = 1,\n",
    "                                     S_ini = 681,\n",
    "                                     I_ini = 1,\n",
    "                                     beta = 0.2,\n",
    "                                     gamma = 0.1),\n",
    "                         step = 1,\n",
    "                         n_particles = 10L,\n",
    "                         n_threads = 4L,\n",
    "                         seed = 1L)"
   ]
  },
  {
   "cell_type": "code",
   "execution_count": 16,
   "id": "98237136-f558-4c26-a48b-af76e56dc6fc",
   "metadata": {},
   "outputs": [
    {
     "data": {
      "text/html": [
       "10"
      ],
      "text/latex": [
       "10"
      ],
      "text/markdown": [
       "10"
      ],
      "text/plain": [
       "[1] 10"
      ]
     },
     "metadata": {},
     "output_type": "display_data"
    }
   ],
   "source": [
    "sir_model$n_particles()"
   ]
  },
  {
   "cell_type": "code",
   "execution_count": 19,
   "id": "f7923fb0-4b40-4bb5-8b63-27e5bd4f06fe",
   "metadata": {},
   "outputs": [],
   "source": [
    "n_particles <- 1L\n",
    "filter <- mcstate::particle_filter$new(data = sir_data,\n",
    "                                       model = gen_sir,\n",
    "                                       n_particles = n_particles,\n",
    "                                       compare = case_compare,\n",
    "                                       seed = 1L)"
   ]
  },
  {
   "cell_type": "code",
   "execution_count": 20,
   "id": "a2d2e157-8e0a-482f-a1da-61e45d2401c5",
   "metadata": {},
   "outputs": [
    {
     "data": {
      "text/html": [
       "-1388970.16742277"
      ],
      "text/latex": [
       "-1388970.16742277"
      ],
      "text/markdown": [
       "-1388970.16742277"
      ],
      "text/plain": [
       "[1] -1388970"
      ]
     },
     "metadata": {},
     "output_type": "display_data"
    }
   ],
   "source": [
    "filter$run(save_history = TRUE, pars = list(dt = dt))"
   ]
  },
  {
   "cell_type": "code",
   "execution_count": 118,
   "id": "2af76b94-8c56-4a33-b35e-8621ead93f23",
   "metadata": {},
   "outputs": [
    {
     "data": {
      "image/png": "[encoded data removed]",
      "text/plain": [
       "plot without title"
      ]
     },
     "metadata": {
      "image/png": {
       "height": 420,
       "width": 420
      }
     },
     "output_type": "display_data"
    }
   ],
   "source": [
    "plot_particle_filter <- function(history, true_history, times, obs_end = NULL) {\n",
    "  if (is.null(obs_end)) {\n",
    "    obs_end <- max(times)\n",
    "  }\n",
    "\n",
    "  par(mar = c(4.1, 5.1, 0.5, 0.5), las = 1)\n",
    "  cols <- c(S = \"#8c8cd9\", I = \"#cc0044\", R = \"#999966\")\n",
    "  matplot(times, (history[1, , -1]), type = \"l\",\n",
    "          xlab = \"Time\", ylab = \"Number of individuals\",\n",
    "          col = cols[[\"S\"]], lty = 1, ylim = range(history))\n",
    "  matlines(times, (history[2, , -1]), col = cols[[\"I\"]], lty = 1)\n",
    "  matlines(times, (history[3, , -1]), col = cols[[\"R\"]], lty = 1)\n",
    "  matpoints(t(times), t(true_history[,2, -1]), pch = 19,col = cols[\"S\"])\n",
    "  matpoints(t(times), t(true_history[,3, -1]), pch = 19,col = cols[\"I\"])\n",
    "  matpoints(t(times), t(true_history[,4, -1]), pch = 19,col = cols[\"R\"])\n",
    "  legend(\"right\", lwd = 1, col = cols, legend = names(cols), bty = \"n\")\n",
    "}\n",
    "\n",
    "true_history <- subset(true_hist_all, days>=97)\n",
    "plot_particle_filter(filter$history(), true_history, df$days)"
   ]
  }
 ],
 "metadata": {
  "kernelspec": {
   "display_name": "R",
   "language": "R",
   "name": "ir"
  },
  "language_info": {
   "codemirror_mode": "r",
   "file_extension": ".r",
   "mimetype": "text/x-r-source",
   "name": "R",
   "pygments_lexer": "r",
   "version": "4.1.3"
  }
 },
 "nbformat": 4,
 "nbformat_minor": 5
}
