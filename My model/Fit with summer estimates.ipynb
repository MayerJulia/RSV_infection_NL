{
 "cells": [
  {
   "cell_type": "code",
   "execution_count": 1,
   "id": "93ef51ee-768a-4e75-b4d4-656ad0ce4614",
   "metadata": {},
   "outputs": [
    {
     "name": "stderr",
     "output_type": "stream",
     "text": [
      "-- \u001b[1mAttaching packages\u001b[22m ------------------------------------------------------------------------------- tidyverse 1.3.1 --\n",
      "\n",
      "\u001b[32mv\u001b[39m \u001b[34mggplot2\u001b[39m 3.3.6     \u001b[32mv\u001b[39m \u001b[34mpurrr  \u001b[39m 0.3.4\n",
      "\u001b[32mv\u001b[39m \u001b[34mtibble \u001b[39m 3.1.7     \u001b[32mv\u001b[39m \u001b[34mdplyr  \u001b[39m 1.0.9\n",
      "\u001b[32mv\u001b[39m \u001b[34mtidyr  \u001b[39m 1.2.0     \u001b[32mv\u001b[39m \u001b[34mstringr\u001b[39m 1.4.0\n",
      "\u001b[32mv\u001b[39m \u001b[34mreadr  \u001b[39m 2.1.2     \u001b[32mv\u001b[39m \u001b[34mforcats\u001b[39m 0.5.1\n",
      "\n",
      "-- \u001b[1mConflicts\u001b[22m ---------------------------------------------------------------------------------- tidyverse_conflicts() --\n",
      "\u001b[31mx\u001b[39m \u001b[34mdplyr\u001b[39m::\u001b[32mfilter()\u001b[39m masks \u001b[34mstats\u001b[39m::filter()\n",
      "\u001b[31mx\u001b[39m \u001b[34mdplyr\u001b[39m::\u001b[32mlag()\u001b[39m    masks \u001b[34mstats\u001b[39m::lag()\n",
      "\n",
      "------------------------------------------------------------------------------\n",
      "\n",
      "You have loaded plyr after dplyr - this is likely to cause problems.\n",
      "If you need functions from both plyr and dplyr, please load plyr first, then dplyr:\n",
      "library(plyr); library(dplyr)\n",
      "\n",
      "------------------------------------------------------------------------------\n",
      "\n",
      "\n",
      "Attaching package: 'plyr'\n",
      "\n",
      "\n",
      "The following objects are masked from 'package:dplyr':\n",
      "\n",
      "    arrange, count, desc, failwith, id, mutate, rename, summarise,\n",
      "    summarize\n",
      "\n",
      "\n",
      "The following object is masked from 'package:purrr':\n",
      "\n",
      "    compact\n",
      "\n",
      "\n",
      "\n",
      "Attaching package: 'lubridate'\n",
      "\n",
      "\n",
      "The following objects are masked from 'package:base':\n",
      "\n",
      "    date, intersect, setdiff, union\n",
      "\n",
      "\n"
     ]
    }
   ],
   "source": [
    "################################################################\n",
    "# RSV seroconversion MSc project\n",
    "# Adding season of birth\n",
    "# Author: Julia Mayer\n",
    "# Last updated: 18.07.2022\n",
    "################################################################\n",
    "\n",
    "\n",
    "# HOUSEKEEPING ------------------------------------------------------------\n",
    "\n",
    "rm(list=ls())\n",
    "set.seed(42)\n",
    "\n",
    "library(tidyverse)\n",
    "library(BayesianTools)\n",
    "library(binom)\n",
    "library(plyr)\n",
    "library(deSolve)\n",
    "library(coda)\n",
    "library(lubridate)\n",
    "theme_set(theme_minimal())\n"
   ]
  },
  {
   "cell_type": "code",
   "execution_count": 2,
   "id": "db465b2c-54f4-4ade-8379-4beb08d31039",
   "metadata": {},
   "outputs": [
    {
     "name": "stderr",
     "output_type": "stream",
     "text": [
      "\u001b[1m\u001b[22m`summarise()` has grouped output by 'agegrp'. You can override using the `.groups` argument.\n"
     ]
    }
   ],
   "source": [
    "\n",
    "# DATA PREP  ------------------------------------------------------------\n",
    "\n",
    "data <- read.csv(\"https://raw.githubusercontent.com/Stijn-A/RSV_serology/master/data/infection_status_csv.txt\",\n",
    "                 sep=\",\")\n",
    "# use if offline\n",
    "#library(readr)\n",
    "#data <- read_csv(\"LSHTM/Project/Data/infection_status.csv\")\n",
    "\n",
    "# Group age into intervals \n",
    "# bi-monthly for 0-2 years and 6-monthly for 2-5 years\n",
    "data$agegrp <- cut(data$age_days,\n",
    "                   breaks=c(seq(0,730, by=30.25*2),\n",
    "                            seq(909,2000, by=30.25*6)), \n",
    "                   include.lowest = T, right=F)\n",
    "# Divide by season of birth\n",
    "spring <- c(3, 4, 5)\n",
    "summer <- c(6, 7, 8)\n",
    "autumn <- c (9, 10, 11)\n",
    "winter <- c(1, 2, 12)\n",
    "\n",
    "data <- data %>%\n",
    "  mutate(\n",
    "    Birth_mo = birthday %>% month()\n",
    "  )%>%\n",
    "  mutate(\n",
    "    season_birth = case_when(\n",
    "      Birth_mo %in% spring ~ \"Spring\",\n",
    "      Birth_mo %in% summer ~ \"Summer\",\n",
    "      Birth_mo %in% autumn ~ \"Autumn\",\n",
    "      Birth_mo %in% winter ~ \"Winter\")\n",
    "  )\n",
    "\n",
    "data_no_season <- data %>% dplyr::group_by(agegrp) %>% \n",
    "  dplyr::summarise(agemid=round(median(age_days)), # Age midpoint in age group\n",
    "                   N=n(), # Total N in age group\n",
    "                   nconv=sum(infection))\n",
    "\n",
    "data <- data %>% dplyr::group_by(agegrp, season_birth) %>% \n",
    "  dplyr::summarise(agemid=round(median(age_days)), # Age midpoint in age group\n",
    "                   N=n(), # Total N in age group\n",
    "                   nconv=sum(infection)) # n seroconverted in age group\n",
    "\n",
    "# Calculate seroprevalence and binomial confidence intervals\n",
    "data[,c(\"seroprev_mean\",\"seroprev_low95\",\"seroprev_up95\")] <- binom.confint(data$nconv, data$N, method=\"exact\")[,c(\"mean\",\"lower\",\"upper\")]\n",
    "data_no_season[,c(\"seroprev_mean\",\"seroprev_low95\",\"seroprev_up95\")] <- binom.confint(data_no_season$nconv, data_no_season$N, method=\"exact\")[,c(\"mean\",\"lower\",\"upper\")]"
   ]
  },
  {
   "cell_type": "code",
   "execution_count": 3,
   "id": "dfaa56d1-3bec-4642-9b96-fa35ccf088b1",
   "metadata": {},
   "outputs": [
    {
     "data": {
      "image/png": "[encoded data removed]",
      "text/plain": [
       "plot without title"
      ]
     },
     "metadata": {
      "image/png": {
       "height": 420,
       "width": 420
      }
     },
     "output_type": "display_data"
    }
   ],
   "source": [
    "# Plot the whole data frame (difficult to read)\n",
    "ggplot(data) +\n",
    "  geom_point(aes(x=agemid, y=seroprev_mean, colour = season_birth)) +\n",
    "  geom_errorbar(aes(x=agemid, ymin=seroprev_low95, ymax=seroprev_up95, colour = season_birth)) +\n",
    "  ylab(\"Proportion seroconverted\") + xlab(\"age (days)\") + labs(colour = \"season of birth\")"
   ]
  },
  {
   "cell_type": "code",
   "execution_count": 4,
   "id": "f8bc0295-ff2d-45a6-ba25-44ad7b505a73",
   "metadata": {},
   "outputs": [
    {
     "data": {
      "image/png": "[encoded data removed]",
      "text/plain": [
       "plot without title"
      ]
     },
     "metadata": {
      "image/png": {
       "height": 420,
       "width": 420
      }
     },
     "output_type": "display_data"
    }
   ],
   "source": [
    "ggplot(data_no_season) +\n",
    "  geom_point(aes(x=agemid, y=seroprev_mean)) +\n",
    "  geom_errorbar(aes(x=agemid, ymin=seroprev_low95, ymax=seroprev_up95)) +\n",
    "  ylab(\"Proportion seroconverted\") + xlab(\"age (days)\") "
   ]
  },
  {
   "cell_type": "code",
   "execution_count": 5,
   "id": "25f8d042-5ad0-48a6-a93c-ebf6e73f07a9",
   "metadata": {},
   "outputs": [
    {
     "data": {
      "image/png": "[encoded data removed]",
      "text/plain": [
       "plot without title"
      ]
     },
     "metadata": {
      "image/png": {
       "height": 420,
       "width": 420
      }
     },
     "output_type": "display_data"
    }
   ],
   "source": [
    "#Plot by season\n",
    "spring.df <- subset(data, season_birth == 'Spring')\n",
    "ggplot(spring.df) +\n",
    "  geom_point(aes(x=agemid, y=seroprev_mean), color = 'black') +\n",
    "  geom_errorbar(aes(x=agemid, ymin=seroprev_low95, ymax=seroprev_up95),colour ='black') +\n",
    "  ylab(\"Proportion seroconverted\") + xlab(\"age (days)\") + labs(title =\"Proportion seroconverted born in spring\")"
   ]
  },
  {
   "cell_type": "code",
   "execution_count": 6,
   "id": "edf3f0c2-af38-4595-b9dc-2173ea8b20cf",
   "metadata": {},
   "outputs": [
    {
     "data": {
      "image/png": "[encoded data removed]",
      "text/plain": [
       "plot without title"
      ]
     },
     "metadata": {
      "image/png": {
       "height": 420,
       "width": 420
      }
     },
     "output_type": "display_data"
    }
   ],
   "source": [
    "summer.df <- subset(data, season_birth == 'Summer')\n",
    "ggplot(summer.df) +\n",
    "  geom_point(aes(x=agemid, y=seroprev_mean), color = 'black') +\n",
    "  geom_errorbar(aes(x=agemid, ymin=seroprev_low95, ymax=seroprev_up95),colour ='black') +\n",
    "  ylab(\"Proportion seroconverted\") + xlab(\"age (days)\") + labs(title =\"Proportion seroconverted born in summer\")\n"
   ]
  },
  {
   "cell_type": "code",
   "execution_count": 7,
   "id": "18a68369-e30f-45bf-8bce-41e0f18c74f3",
   "metadata": {},
   "outputs": [
    {
     "data": {
      "image/png": "[encoded data removed]",
      "text/plain": [
       "plot without title"
      ]
     },
     "metadata": {
      "image/png": {
       "height": 420,
       "width": 420
      }
     },
     "output_type": "display_data"
    }
   ],
   "source": [
    "autumn.df <- subset(data, season_birth == 'Autumn')\n",
    "ggplot(autumn.df) +\n",
    "  geom_point(aes(x=agemid, y=seroprev_mean), color = 'black') +\n",
    "  geom_errorbar(aes(x=agemid, ymin=seroprev_low95, ymax=seroprev_up95),colour ='black') +\n",
    "  ylab(\"Proportion seroconverted\") + xlab(\"age (days)\") + labs(title =\"Proportion seroconverted born in autumn\")"
   ]
  },
  {
   "cell_type": "code",
   "execution_count": 8,
   "id": "0b5e7015-3108-4dd6-a7ab-bd6d1f3c440a",
   "metadata": {},
   "outputs": [
    {
     "data": {
      "image/png": "[encoded data removed]",
      "text/plain": [
       "plot without title"
      ]
     },
     "metadata": {
      "image/png": {
       "height": 420,
       "width": 420
      }
     },
     "output_type": "display_data"
    }
   ],
   "source": [
    "winter.df <- subset(data, season_birth == 'Winter')\n",
    "ggplot(winter.df) +\n",
    "  geom_point(aes(x=agemid, y=seroprev_mean), color = 'black') +\n",
    "  geom_errorbar(aes(x=agemid, ymin=seroprev_low95, ymax=seroprev_up95),colour ='black') +\n",
    "  ylab(\"Proportion seroconverted\") + xlab(\"age (days)\") + labs(title =\"Proportion seroconverted born in winter\")"
   ]
  },
  {
   "cell_type": "code",
   "execution_count": 9,
   "id": "be9a98d7-1f40-4a65-b64b-cc616c2dbc1b",
   "metadata": {},
   "outputs": [],
   "source": [
    "# Notes:\n",
    "# - The states are integrated on a log-scale to avoid negative states, which is why we log-transform them when in the model input and exponentiate them inside the model\n",
    "#- There is one model for each season of birth\n",
    "\n",
    "# Children born in spring\n",
    "model_sp <- function(theta, age, inits) {\n",
    "  \n",
    "  #Children born in spring\n",
    "  catalytic <- function(age, state, param) {\n",
    "    \n",
    "    # FOI / seroconversion rate\n",
    "    spring_FOI = 0\n",
    "    summer_FOI = 0\n",
    "    autumn_FOI = 0\n",
    "    winter_FOI = 0\n",
    "    \n",
    "    if ( (age<= 30.35*3)                                      #experience the spring FOI during spring\n",
    "        || ( (age>=365) & (age <=(365+30.25*3)) ) \n",
    "        || ( (age >= 2*365) & (age <= (2*365+30.24*3))) \n",
    "        || ((age >= 3*365) & (age <= (3*365+30.24*3))) \n",
    "        || ((age >= 4*365) & (age <= (4*365+30.24*3))) \n",
    "        || ((age >= 5*365) & (age <= (5*365+30.24*3))) ){\n",
    "      spring_FOI = 1\n",
    "    } \n",
    "    \n",
    "    if ( (age>30.35*3 & age <=30.35*6 )                       #experience the summer FOI during summer\n",
    "         || ( (age>365+30.35*3) & (age <=(365+30.25*6)) ) \n",
    "         || ( (age > 2*365 + 30.35*3) & (age <= (2*365+30.24*6))) \n",
    "         || ((age > 3*365 + 30.35*3) & (age <= (3*365+30.24*6))) \n",
    "         || ((age > 4*365 + 30.35*3) & (age <= (4*365+30.24*6))) \n",
    "         || ((age > 5*365 + 30.35*3) & (age <= (5*365+30.24*6))) ){\n",
    "      summer_FOI = 1\n",
    "    } \n",
    "    \n",
    "    if ( (age>30.35*6 & age <=30.35*9 )                     # experience the autumn FOI during autumn\n",
    "         || ( (age>365+30.35*6) & (age <=(365+30.25*9)) ) \n",
    "         || ( (age > 2*365 + 30.35*6) & (age <= (2*365+30.24*9))) \n",
    "         || ((age > 3*365 + 30.35*6) & (age <= (3*365+30.24*9))) \n",
    "         || ((age > 4*365 + 30.35*6) & (age <= (4*365+30.24*9))) \n",
    "         || ((age > 5*365 + 30.35*6) & (age <= (5*365+30.24*9))) ){\n",
    "      autumn_FOI = 1\n",
    "    } \n",
    "    \n",
    "    if ( (age>30.35*9 & age <=30.35*12 )                     #experience the winter FOI during winter\n",
    "         || ( (age>365+30.35*9) & (age <=(365+30.25*12)) ) \n",
    "         || ( (age > 2*365 + 30.35*9) & (age <= (2*365+30.24*12))) \n",
    "         || ((age > 3*365 + 30.35*9) & (age <= (3*365+30.24*12))) \n",
    "         || ((age > 4*365 + 30.35*9) & (age <= (4*365+30.25*12))) \n",
    "         || ((age > 5*365 + 30.35*9) & (age <= (5*365+30.24*12))) ){\n",
    "      winter_FOI = 1\n",
    "    } \n",
    "    \n",
    "    lambda = param[[\"P\"]]*spring_FOI + param[[\"M\"]]*summer_FOI + param[[\"A\"]]*autumn_FOI + param[[\"W\"]]*winter_FOI #FOI depends on the season\n",
    "    mu = param[[\"B\"]] \n",
    "    \n",
    "    # states \n",
    "    # proportion with maternal immunity\n",
    "    M = exp(state[1]) # born in spring\n",
    "    # Susceptible\n",
    "    S = exp(state[2]) # susceptible born in spring\n",
    "    #Seroconverted\n",
    "    Z = exp(state[3]) # seroconverted after infection born in spring\n",
    "    \n",
    "    # changes in states\n",
    "    dM = - mu*M\n",
    "    dS = + mu *M  - lambda *S  \n",
    "    dZ  = + lambda *S \n",
    "   \n",
    "    return(list(c(dM /M ,\n",
    "                  dS /S , \n",
    "                  dZ /Z ), \n",
    "                lambda =lambda ,\n",
    "                mu =mu ))\n",
    "    \n",
    "    \n",
    "  }\n",
    "  \n",
    "traj <- data.frame(ode(y=c(M =log(inits[[\"M\"]]),\n",
    "                             S =log(inits[[\"S\"]]),\n",
    "                             Z =log(inits[[\"Z\"]])),\n",
    "                         times=age, \n",
    "                         func=catalytic, \n",
    "                         parms=theta, \n",
    "                         method=\"lsoda\",\n",
    "                         verbose=F))\n",
    "  \n",
    "\n",
    "  \n",
    "  traj$conv <- exp(traj$Z ) # cumulative seroconversion (=observed state)\n",
    "  traj$inc <- c(inits[[\"Z\"]], diff(exp(traj$Z ))) # incident seroconversion\n",
    "  \n",
    "  return(traj)\n",
    "  \n",
    "}\n",
    "\n",
    "model_sm <- function(theta, age, inits) {\n",
    "  \n",
    "  catalytic <- function(age, state, param) {\n",
    "    \n",
    "    spring_FOI = 0\n",
    "    summer_FOI = 0\n",
    "    autumn_FOI = 0\n",
    "    winter_FOI = 0\n",
    "    \n",
    "    if ( (age<= 30.35*3)                                      #experience the summer FOI during summer\n",
    "         || ( (age>=365) & (age <=(365+30.25*3)) ) \n",
    "         || ( (age >= 2*365) & (age <= (2*365+30.24*3))) \n",
    "         || ((age >= 3*365) & (age <= (3*365+30.24*3))) \n",
    "         || ((age >= 4*365) & (age <= (4*365+30.24*3))) \n",
    "         || ((age >= 5*365) & (age <= (5*365+30.24*3))) ){\n",
    "      summer_FOI = 1\n",
    "    } \n",
    "    \n",
    "    if ( (age>30.35*3 & age <=30.35*6 )                       #experience the autumn FOI during autumn\n",
    "         || ( (age>365+30.35*3) & (age <=(365+30.25*6)) ) \n",
    "         || ( (age > 2*365 + 30.35*3) & (age <= (2*365+30.24*6))) \n",
    "         || ((age > 3*365 + 30.35*3) & (age <= (3*365+30.24*6))) \n",
    "         || ((age > 4*365 + 30.35*3) & (age <= (4*365+30.24*6))) \n",
    "         || ((age > 5*365 + 30.35*3) & (age <= (5*365+30.24*6))) ){\n",
    "      autumn_FOI = 1\n",
    "    } \n",
    "    \n",
    "    if ( (age>30.35*6 & age <=30.35*9 )                     # experience the winter FOI during winter\n",
    "         || ( (age>365+30.35*6) & (age <=(365+30.25*9)) ) \n",
    "         || ( (age > 2*365 + 30.35*6) & (age <= (2*365+30.24*9))) \n",
    "         || ((age > 3*365 + 30.35*6) & (age <= (3*365+30.24*9))) \n",
    "         || ((age > 4*365 + 30.35*6) & (age <= (4*365+30.24*9))) \n",
    "         || ((age > 5*365 + 30.35*6) & (age <= (5*365+30.24*9))) ){\n",
    "      winter_FOI = 1\n",
    "    } \n",
    "    \n",
    "    if ( (age>30.35*9 & age <=30.35*12 )                     #experience the spring FOI during spring\n",
    "         || ( (age>365+30.35*9) & (age <=(365+30.25*12)) ) \n",
    "         || ( (age > 2*365 + 30.35*9) & (age <= (2*365+30.24*12))) \n",
    "         || ((age > 3*365 + 30.35*9) & (age <= (3*365+30.24*12))) \n",
    "         || ((age > 4*365 + 30.35*9) & (age <= (4*365+30.24*12))) \n",
    "         || ((age > 5*365 + 30.35*9) & (age <= (5*365+30.24*12))) ){\n",
    "      spring_FOI = 1\n",
    "    } \n",
    "    \n",
    "    lambda   = param[[\"P\"]]*spring_FOI + param[[\"M\"]]*summer_FOI + param[[\"A\"]]*autumn_FOI + param[[\"W\"]]*winter_FOI\n",
    "    # waning maternal immunity, same for all children\n",
    "    mu   = param[[\"B\"]] \n",
    "    \n",
    "    # states \n",
    "    M   = exp(state[1]) # born in summer\n",
    "    S   = exp(state[2]) # susceptible born in summer\n",
    "    Z   = exp(state[3]) # seroconverted after infection born in summer\n",
    "    \n",
    "    # changes in states\n",
    "    dM   = -mu  *M  \n",
    "    dS   = + mu  *M   - lambda  *S   \n",
    "    dZ   = + lambda  *S   \n",
    "    \n",
    "    return(list(c(dM  /M  ,dS  /S  ,dZ  /Z  ), lambda   = lambda  ,\n",
    "                mu  =mu  ))\n",
    "    \n",
    "    \n",
    "  }\n",
    "  \n",
    "  traj <- data.frame(ode(y=c(M  =log(inits[[\"M\"]]),\n",
    "                             S  =log(inits[[\"S\"]]),\n",
    "                             Z  =log(inits[[\"Z\"]])),\n",
    "                         times=age, \n",
    "                         func=catalytic, \n",
    "                         parms=theta, \n",
    "                         method=\"lsoda\",\n",
    "                         verbose=F))\n",
    "  \n",
    "  \n",
    "  \n",
    "  traj$conv <- exp(traj$Z  ) # cumulative seroconversion (=observed state)\n",
    "  traj$inc <- c(inits[[\"Z\"]], diff(exp(traj$Z  ))) # incident seroconversion\n",
    "  \n",
    "  return(traj)\n",
    "  \n",
    "}\n",
    "\n",
    "model_au <- function(theta, age, inits) {\n",
    "  \n",
    "  catalytic <- function(age, state, param) {\n",
    "    \n",
    "    spring_FOI = 0\n",
    "    summer_FOI = 0\n",
    "    autumn_FOI = 0\n",
    "    winter_FOI = 0\n",
    "    \n",
    "    if ( (age<= 30.35*3)                                      #experience the autumn FOI during autumn\n",
    "         || ( (age>=365) & (age <=(365+30.25*3)) ) \n",
    "         || ( (age >= 2*365) & (age <= (2*365+30.24*3))) \n",
    "         || ((age >= 3*365) & (age <= (3*365+30.24*3))) \n",
    "         || ((age >= 4*365) & (age <= (4*365+30.24*3))) \n",
    "         || ((age >= 5*365) & (age <= (5*365+30.24*3))) ){\n",
    "      autumn_FOI = 1\n",
    "    } \n",
    "    \n",
    "    if ( (age>30.35*3 & age <=30.35*6 )                       #experience the winter FOI during winter\n",
    "         || ( (age>365+30.35*3) & (age <=(365+30.25*6)) ) \n",
    "         || ( (age > 2*365 + 30.35*3) & (age <= (2*365+30.24*6))) \n",
    "         || ((age > 3*365 + 30.35*3) & (age <= (3*365+30.24*6))) \n",
    "         || ((age > 4*365 + 30.35*3) & (age <= (4*365+30.24*6))) \n",
    "         || ((age > 5*365 + 30.35*3) & (age <= (5*365+30.24*6))) ){\n",
    "      winter_FOI = 1\n",
    "    } \n",
    "    \n",
    "    if ( (age>30.35*6 & age <=30.35*9 )                     # experience the spring FOI during spring\n",
    "         || ( (age>365+30.35*6) & (age <=(365+30.25*9)) ) \n",
    "         || ( (age > 2*365 + 30.35*6) & (age <= (2*365+30.24*9))) \n",
    "         || ((age > 3*365 + 30.35*6) & (age <= (3*365+30.24*9))) \n",
    "         || ((age > 4*365 + 30.35*6) & (age <= (4*365+30.24*9))) \n",
    "         || ((age > 5*365 + 30.35*6) & (age <= (5*365+30.24*9))) ){\n",
    "      spring_FOI = 1\n",
    "    } \n",
    "    \n",
    "    if ( (age>30.35*9 & age <=30.35*12 )                     #experience the summer FOI during summer\n",
    "         || ( (age>365+30.35*9) & (age <=(365+30.25*12)) ) \n",
    "         || ( (age > 2*365 + 30.35*9) & (age <= (2*365+30.24*12))) \n",
    "         || ((age > 3*365 + 30.35*9) & (age <= (3*365+30.24*12))) \n",
    "         || ((age > 4*365 + 30.35*9) & (age <= (4*365+30.25*12))) \n",
    "         || ((age > 5*365 + 30.35*9) & (age <= (5*365+30.24*12))) ){\n",
    "     summer_FOI = 1\n",
    "    } \n",
    "    \n",
    "    lambda   = param[[\"P\"]]*spring_FOI + param[[\"M\"]]*summer_FOI + param[[\"A\"]]*autumn_FOI + param[[\"W\"]]*winter_FOI\n",
    "    \n",
    "    # waning maternal immunity, same for all children\n",
    "    mu   = param[[\"B\"]] \n",
    "    \n",
    "    # states \n",
    "    # proportion with maternal immunity\n",
    "    M   = exp(state[1]) # born in autumn\n",
    "    # Susceptible\n",
    "    S   = exp(state[2]) #susceptible born in autumn\n",
    "    #Seroconverted\n",
    "    Z   = exp(state[3]) # seroconverted after infection born in autumn\n",
    "    \n",
    "    # changes in states\n",
    "    dM   = -mu  *M  \n",
    "    dS   = + mu  *M   - lambda  *S   \n",
    "    dZ   = + lambda  *S  \n",
    "    \n",
    "    return(list(c(dM  /M  ,\n",
    "                  dS  /S  , dZ  /Z  ), \n",
    "                lambda   = lambda  , \n",
    "                mu  =mu  ))\n",
    "    \n",
    "    \n",
    "  }\n",
    "  \n",
    "  traj <- data.frame(ode(y=c(M  =log(inits[[\"M\"]]),\n",
    "                             S  =log(inits[[\"S\"]]),\n",
    "                             Z  =log(inits[[\"Z\"]])),\n",
    "                         times=age, \n",
    "                         func=catalytic, \n",
    "                         parms=theta, \n",
    "                         method=\"lsoda\",\n",
    "                         verbose=F))\n",
    "  \n",
    "  \n",
    "  \n",
    "  traj$conv <- exp(traj$Z  ) # cumulative seroconversion (=observed state)\n",
    "  traj$inc <- c(inits[[\"Z\"]], diff(exp(traj$Z  )))\n",
    "  return(traj)\n",
    "  \n",
    "}\n",
    "\n",
    "model_wt <- function(theta, age, inits) {\n",
    "  \n",
    "  catalytic <- function(age, state, param) {\n",
    "    \n",
    "    \n",
    "    #FOI\n",
    "    spring_FOI = 0\n",
    "    summer_FOI = 0\n",
    "    autumn_FOI = 0\n",
    "    winter_FOI = 0\n",
    "    \n",
    "    if ( (age<= 30.35*3)                                      #experience the winter FOI during winter\n",
    "         || ( (age>=365) & (age <=(365+30.25*3)) ) \n",
    "         || ( (age >= 2*365) & (age <= (2*365+30.24*3))) \n",
    "         || ((age >= 3*365) & (age <= (3*365+30.24*3))) \n",
    "         || ((age >= 4*365) & (age <= (4*365+30.24*3))) \n",
    "         || ((age >= 5*365) & (age <= (5*365+30.24*3))) ){\n",
    "      winter_FOI = 1\n",
    "    } \n",
    "    \n",
    "    if ( (age>30.35*3 & age <=30.35*6 )                       #experience the spring FOI during spring\n",
    "         || ( (age>365+30.35*3) & (age <=(365+30.25*6)) ) \n",
    "         || ( (age > 2*365 + 30.35*3) & (age <= (2*365+30.24*6))) \n",
    "         || ((age > 3*365 + 30.35*3) & (age <= (3*365+30.24*6))) \n",
    "         || ((age > 4*365 + 30.35*3) & (age <= (4*365+30.24*6))) \n",
    "         || ((age > 5*365 + 30.35*3) & (age <= (5*365+30.24*6))) ){\n",
    "      spring_FOI = 1\n",
    "    } \n",
    "    \n",
    "    if ( (age>30.35*6 & age <=30.35*9 )                     # experience the summer FOI during summer\n",
    "         || ( (age>365+30.35*6) & (age <=(365+30.25*9)) ) \n",
    "         || ( (age > 2*365 + 30.35*6) & (age <= (2*365+30.24*9))) \n",
    "         || ((age > 3*365 + 30.35*6) & (age <= (3*365+30.24*9))) \n",
    "         || ((age > 4*365 + 30.35*6) & (age <= (4*365+30.24*9))) \n",
    "         || ((age > 5*365 + 30.35*6) & (age <= (5*365+30.24*9))) ){\n",
    "      summer_FOI = 1\n",
    "    } \n",
    "    \n",
    "    if ( (age>30.35*9 & age <=30.35*12 )                     #experience the autumn FOI during autumn\n",
    "         || ( (age>365+30.35*9) & (age <=(365+30.25*12)) ) \n",
    "         || ( (age > 2*365 + 30.35*9) & (age <= (2*365+30.24*12))) \n",
    "         || ((age > 3*365 + 30.35*9) & (age <= (3*365+30.24*12))) \n",
    "         || ((age > 4*365 + 30.35*9) & (age <= (4*365+30.24*12))) \n",
    "         || ((age > 5*365 + 30.35*9) & (age <= (5*365+30.24*12))) ){\n",
    "      autumn_FOI = 1\n",
    "    } \n",
    "    \n",
    "    lambda   = param[[\"P\"]]*spring_FOI + param[[\"M\"]]*summer_FOI + param[[\"A\"]]*autumn_FOI + param[[\"W\"]]*winter_FOI\n",
    "    # waning maternal immunity, same for all children\n",
    "    mu   = param[[\"B\"]] \n",
    "    \n",
    "    # states \n",
    "    # proportion with maternal immunity\n",
    "    M   = exp(state[1]) # born in winter\n",
    "    # Susceptible\n",
    "    S   = exp(state[2]) #susceptible born in winter\n",
    "    #Seroconverted\n",
    "    Z   = exp(state[3]) # seroconverted after infection born in winter\n",
    "    \n",
    "    # changes in states\n",
    "    dM   = -mu  *M  \n",
    "    dS   = + mu  *M   - lambda  *S  \n",
    "    dZ   = + lambda  *S  \n",
    "    \n",
    "    return(list(c(dM  /M  ,\n",
    "                 dS  /S  , \n",
    "                  dZ  /Z  ), \n",
    "                 lambda   = lambda  ,\n",
    "                mu  =mu  ))\n",
    "    \n",
    "    \n",
    "  }\n",
    "  \n",
    "  traj <- data.frame(ode(y=c(M  =log(inits[[\"M\"]]),\n",
    "                             S  =log(inits[[\"S\"]]),\n",
    "                             Z  =log(inits[[\"Z\"]])),\n",
    "                         times=age, \n",
    "                         func=catalytic, \n",
    "                         parms=theta, \n",
    "                         method=\"lsoda\",\n",
    "                         verbose=F))\n",
    "  \n",
    "  \n",
    "  \n",
    "  traj$conv <- exp(traj$Z  ) # cumulative seroconversion (=observed state)\n",
    "  traj$inc <- c(inits[[\"Z\"]], diff(exp(traj$Z  ))) # incident seroconversion\n",
    "  \n",
    "  return(traj)\n",
    "  \n",
    "}\n",
    "\n",
    "#bring all models together\n",
    "model_all <- function(theta, data, inits){\n",
    "  traj <- data.frame(matrix(ncol = 8, nrow=0))\n",
    "  colnames(traj) <- c('time', 'M', 'S', 'Z', 'lambda', 'mu', 'conv', 'inc')\n",
    "  \n",
    "  spring.df <- subset(data, season_birth == 'Spring')\n",
    "  age_sp <- spring.df$agemid\n",
    "  traj_sp <- model_sp(theta, age_sp, inits)\n",
    "  traj <- rbind(traj, traj_sp)\n",
    "\n",
    "  summer.df <- subset(data, season_birth == 'Summer')\n",
    "  age_sm <- summer.df$agemid\n",
    "  traj_sm <- model_sm(theta, age_sm, inits)\n",
    "  traj <- rbind(traj, traj_sm)\n",
    "\n",
    "  autumn.df <- subset(data, season_birth == 'Autumn')\n",
    "  age_au <- autumn.df$agemid\n",
    "  traj_au <- model_au(theta, age_au, inits)\n",
    "  traj <- rbind(traj, traj_au)\n",
    "\n",
    "  winter.df <- subset(data, season_birth == 'Winter')\n",
    "  age_wt <- winter.df$agemid\n",
    "  traj_wt <- model_wt(theta, age_wt, inits)\n",
    "  traj <- rbind(traj, traj_wt)\n",
    "  \n",
    "  result = list(traj,traj_sp, traj_sm, traj_au, traj_wt)\n",
    "  \n",
    "  return (result)\n",
    "}"
   ]
  },
  {
   "cell_type": "code",
   "execution_count": 10,
   "id": "481583e8-98ca-427b-b18b-0101f0092b3f",
   "metadata": {},
   "outputs": [],
   "source": [
    "# MODEL EQUATION  ------------------------------------------------------------\n",
    "# TRAJECTORY SIMULATION  ------------------------------------------------------------\n",
    "\n",
    "# This function draws n samples from the posterior to calculate the posterior predictive uncertainty (95%)\n",
    "\n",
    "maketrajsim <- function(trace, theta, age, model, inits, ndraw) {\n",
    "  \n",
    "  #Draw n fitted parameter vectors theta from the MCMC object\n",
    "  sample <- getSample(trace, parametersOnly = TRUE, thin=1, numSamples=ndraw) #trace is a sampler, parametersOnly = T means that likelihood, posterior and prior values are not provided in the output, thin = thinning parameter\n",
    "  \n",
    "  traj.rep <- adply(.data=sample, .margins=1, .progress=\"text\", .parallel=F, .fun=function(x) { #split sample by 1 = rows and apply function\n",
    "    \n",
    "    #Define the theta as the estimated parameters from the current draw and the fixed parameters\n",
    "    theta.sample <- c(x, theta[!is.na(theta)])\n",
    "    \n",
    "    #Simulate trajectory for selected theta\n",
    "    traj <- match.fun(model)(theta.sample, age, inits) #match.fun extracts the underlying function\n",
    "    traj <- cbind(as.data.frame(t(x)), traj)\n",
    "  })\n",
    "  \n",
    "  colnames(traj.rep)[1] <- \"replicate\"\n",
    "  return(traj.rep)\n",
    "  \n",
    "}\n",
    "\n",
    "maketrajsim2 <- function(trace, theta, age, model, data, inits, ndraw, season) {\n",
    "  \n",
    "  #Draw n fitted parameter vectors theta from the MCMC object\n",
    "  sample <- getSample(trace, parametersOnly = TRUE, thin=1, numSamples=ndraw) #trace is a sampler, parametersOnly = T means that likelihood, posterior and prior values are not provided in the output, thin = thinning parameter\n",
    "  \n",
    "  traj.rep <- adply(.data=sample, .margins=1, .progress=\"text\", .parallel=F, .fun=function(x) { #split sample by 1 = rows and apply function\n",
    "    \n",
    "    #Define the theta as the estimated parameters from the current draw and the fixed parameters\n",
    "    theta.sample <- c(x, theta[!is.na(theta)])\n",
    "    \n",
    "    #Simulate trajectory for selected theta\n",
    "    traj <- as.data.frame(match.fun(model)(theta.sample, data, inits)[season]) #match.fun extracts the underlying function\n",
    "    traj <- cbind(as.data.frame(t(x)), traj)\n",
    "  })\n",
    "  \n",
    "  colnames(traj.rep)[1] <- \"replicate\"\n",
    "  return(traj.rep)\n",
    "  \n",
    "}\n"
   ]
  },
  {
   "cell_type": "code",
   "execution_count": 11,
   "id": "290df061-10d8-4dce-9905-4640dcce8fde",
   "metadata": {},
   "outputs": [],
   "source": [
    "# THETA ---------------------------------------------------------\n",
    "\n",
    "# P = mean FOI (proportion infected per day) for children born in Spring\n",
    "# M = mean FOI for children born in summer\n",
    "# A = mean FOI for children born in autumn\n",
    "# W = mean FOI for children born in winter\n",
    "# B = rate of waning maternal immunity\n",
    "theta <- c(P = 0.00156, M = 0.00842, A=0.00233, W = 0.00298, B = 0.0201) # these are just random values, to be fitted\n",
    "\n",
    "# INITS ---------------------------------------------------------\n",
    "inits <- c(M=1-1e-12-1e-12, S=1e-12, Z=1e-12)\n",
    "\n",
    "# SIMULATION TIME  ---------------------------------------------------------\n",
    "data <- arrange(data, agemid)\n",
    "agepred <- data$agemid\n",
    "agepred_sp <- spring.df$agemid\n",
    "agepred_sm <- summer.df$agemid\n",
    "agepred_au <- autumn.df$agemid\n",
    "agepred_wt <- winter.df$agemid"
   ]
  },
  {
   "cell_type": "code",
   "execution_count": 12,
   "id": "ba6fc101-7dd3-43e5-9429-5a3274f402ae",
   "metadata": {},
   "outputs": [],
   "source": [
    "# TEST MODEL  --------------------------------------------------------\n",
    "test_all <- as.data.frame(model_all (theta, data, inits)[1])\n",
    "test_sp2 <- as.data.frame(model_all (theta, data, inits)[2])\n",
    "test_sm2 <- as.data.frame(model_all (theta, data, inits)[3])\n",
    "test_au2 <- as.data.frame(model_all (theta, data, inits)[4])\n",
    "test_wt2 <- as.data.frame(model_all (theta, data, inits)[5])\n"
   ]
  },
  {
   "cell_type": "code",
   "execution_count": 13,
   "id": "66b871a8-341a-41bb-a498-223ea36eb897",
   "metadata": {},
   "outputs": [
    {
     "data": {
      "image/png": "[encoded data removed]",
      "text/plain": [
       "plot without title"
      ]
     },
     "metadata": {
      "image/png": {
       "height": 420,
       "width": 420
      }
     },
     "output_type": "display_data"
    }
   ],
   "source": [
    "ggplot(test_all) + geom_line(aes(x=time, y=conv))"
   ]
  },
  {
   "cell_type": "code",
   "execution_count": 14,
   "id": "4691aa79-44c5-46c4-8843-7cd0ed9d2a9e",
   "metadata": {},
   "outputs": [
    {
     "data": {
      "image/png": "[encoded data removed]",
      "text/plain": [
       "plot without title"
      ]
     },
     "metadata": {
      "image/png": {
       "height": 420,
       "width": 420
      }
     },
     "output_type": "display_data"
    }
   ],
   "source": [
    "ggplot(test_sp2) + geom_line(aes(x=time, y=conv))"
   ]
  },
  {
   "cell_type": "code",
   "execution_count": 15,
   "id": "96a3b4e1-7592-40fd-937a-f13b93ce186c",
   "metadata": {},
   "outputs": [
    {
     "data": {
      "image/png": "[encoded data removed]",
      "text/plain": [
       "plot without title"
      ]
     },
     "metadata": {
      "image/png": {
       "height": 420,
       "width": 420
      }
     },
     "output_type": "display_data"
    }
   ],
   "source": [
    "ggplot(test_sm2) + geom_line(aes(x=time, y=conv))"
   ]
  },
  {
   "cell_type": "code",
   "execution_count": 16,
   "id": "4ca2473c-6df2-4806-b02d-ffba5109a37f",
   "metadata": {},
   "outputs": [
    {
     "data": {
      "image/png": "[encoded data removed]",
      "text/plain": [
       "plot without title"
      ]
     },
     "metadata": {
      "image/png": {
       "height": 420,
       "width": 420
      }
     },
     "output_type": "display_data"
    }
   ],
   "source": [
    "ggplot(test_au2) + geom_line(aes(x=time, y=conv))"
   ]
  },
  {
   "cell_type": "code",
   "execution_count": 17,
   "id": "188a9a70-8346-4d20-85ae-28e5c6b9810f",
   "metadata": {},
   "outputs": [
    {
     "data": {
      "image/png": "[encoded data removed]",
      "text/plain": [
       "plot without title"
      ]
     },
     "metadata": {
      "image/png": {
       "height": 420,
       "width": 420
      }
     },
     "output_type": "display_data"
    }
   ],
   "source": [
    "ggplot(test_wt2) + geom_line(aes(x=time, y=conv))"
   ]
  },
  {
   "cell_type": "code",
   "execution_count": 18,
   "id": "1807ff78-72c3-4d3e-b662-7c95788cf177",
   "metadata": {},
   "outputs": [
    {
     "data": {
      "image/png": "[encoded data removed]",
      "text/plain": [
       "plot without title"
      ]
     },
     "metadata": {
      "image/png": {
       "height": 420,
       "width": 420
      }
     },
     "output_type": "display_data"
    }
   ],
   "source": [
    "ggplot(test_all) + geom_line(aes(x=time, y=lambda))"
   ]
  },
  {
   "cell_type": "code",
   "execution_count": 19,
   "id": "69c756e3-3dc7-415d-a5b7-340e26b43f25",
   "metadata": {},
   "outputs": [
    {
     "data": {
      "image/png": "[encoded data removed]",
      "text/plain": [
       "plot without title"
      ]
     },
     "metadata": {
      "image/png": {
       "height": 420,
       "width": 420
      }
     },
     "output_type": "display_data"
    }
   ],
   "source": [
    "ggplot(test_sp2) + geom_line(aes(x=time, y=lambda)) #should vary"
   ]
  },
  {
   "cell_type": "code",
   "execution_count": 20,
   "id": "7bfd2128-5462-4f77-96d2-5c05e9b89c6a",
   "metadata": {},
   "outputs": [
    {
     "data": {
      "image/png": "[encoded data removed]",
      "text/plain": [
       "plot without title"
      ]
     },
     "metadata": {
      "image/png": {
       "height": 420,
       "width": 420
      }
     },
     "output_type": "display_data"
    }
   ],
   "source": [
    "ggplot(test_sm2) + geom_line(aes(x=time, y=lambda)) #should vary"
   ]
  },
  {
   "cell_type": "code",
   "execution_count": 21,
   "id": "ed19254c-1bf9-48ae-b8ae-88e9fd68d905",
   "metadata": {},
   "outputs": [
    {
     "data": {
      "image/png": "[encoded data removed]",
      "text/plain": [
       "plot without title"
      ]
     },
     "metadata": {
      "image/png": {
       "height": 420,
       "width": 420
      }
     },
     "output_type": "display_data"
    }
   ],
   "source": [
    "ggplot(test_au2) + geom_line(aes(x=time, y=lambda)) #should vary"
   ]
  },
  {
   "cell_type": "code",
   "execution_count": 22,
   "id": "8c1fe519-b0d5-4484-bb37-3b64bd9a89c2",
   "metadata": {},
   "outputs": [
    {
     "data": {
      "image/png": "[encoded data removed]",
      "text/plain": [
       "plot without title"
      ]
     },
     "metadata": {
      "image/png": {
       "height": 420,
       "width": 420
      }
     },
     "output_type": "display_data"
    }
   ],
   "source": [
    "ggplot(test_wt2) + geom_line(aes(x=time, y=lambda)) #should vary"
   ]
  },
  {
   "cell_type": "code",
   "execution_count": 24,
   "id": "a063fdfd-c85e-4679-b671-d5e2041b0c93",
   "metadata": {},
   "outputs": [
    {
     "data": {
      "image/png": "[encoded data removed]",
      "text/plain": [
       "plot without title"
      ]
     },
     "metadata": {
      "image/png": {
       "height": 420,
       "width": 420
      }
     },
     "output_type": "display_data"
    }
   ],
   "source": [
    "ggplot(test_all) + geom_line(aes(x=time, y=mu))"
   ]
  },
  {
   "cell_type": "code",
   "execution_count": 25,
   "id": "bf7cac79-e607-498f-b8b9-b1c6df9b38fa",
   "metadata": {},
   "outputs": [
    {
     "data": {
      "image/png": "[encoded data removed]",
      "text/plain": [
       "plot without title"
      ]
     },
     "metadata": {
      "image/png": {
       "height": 420,
       "width": 420
      }
     },
     "output_type": "display_data"
    }
   ],
   "source": [
    "ggplot(test_sp2) + geom_line(aes(x=time, y=mu)) #should be constant"
   ]
  },
  {
   "cell_type": "code",
   "execution_count": 26,
   "id": "686b851f-1316-4ef5-851f-c4be0e9b31e9",
   "metadata": {},
   "outputs": [
    {
     "data": {
      "image/png": "[encoded data removed]",
      "text/plain": [
       "plot without title"
      ]
     },
     "metadata": {
      "image/png": {
       "height": 420,
       "width": 420
      }
     },
     "output_type": "display_data"
    }
   ],
   "source": [
    "ggplot(test_sm2) + geom_line(aes(x=time, y=mu)) #should be constant"
   ]
  },
  {
   "cell_type": "code",
   "execution_count": 27,
   "id": "ea759c34-4801-4ad6-a90a-b55d594ca6fa",
   "metadata": {},
   "outputs": [
    {
     "data": {
      "image/png": "[encoded data removed]",
      "text/plain": [
       "plot without title"
      ]
     },
     "metadata": {
      "image/png": {
       "height": 420,
       "width": 420
      }
     },
     "output_type": "display_data"
    }
   ],
   "source": [
    "ggplot(test_au2) + geom_line(aes(x=time, y=mu)) #should be constant"
   ]
  },
  {
   "cell_type": "code",
   "execution_count": 28,
   "id": "9f5487ed-7326-46a0-81f5-f1be65e2b58e",
   "metadata": {},
   "outputs": [
    {
     "data": {
      "image/png": "[encoded data removed]",
      "text/plain": [
       "plot without title"
      ]
     },
     "metadata": {
      "image/png": {
       "height": 420,
       "width": 420
      }
     },
     "output_type": "display_data"
    }
   ],
   "source": [
    "ggplot(test_wt2) + geom_line(aes(x=time, y=mu)) #should be constant"
   ]
  },
  {
   "cell_type": "code",
   "execution_count": 29,
   "id": "5d9edefa-4137-4ed6-822d-bc6d9b9766ee",
   "metadata": {},
   "outputs": [],
   "source": [
    "# LOG LIKELIHOOD FUNCTION ---------------------------------------------------------\n",
    "\n",
    "# Log-likelihood for individual season models\n",
    "loglik <- function(theta, age, data, model, inits) {\n",
    "  \n",
    "  traj <- match.fun(model)(theta, age, inits)\n",
    "  \n",
    "  nconv <- data$nconv[!is.na(data$nconv)] # n seroconverted at each age point  (data)\n",
    "  N <- data$N[!is.na(data$nconv)] # total N at each age point  (data) \n",
    "  prob <- traj$conv[traj$time %in% data$agemid] # proportion seroconverted at each age point (model output)\n",
    "  \n",
    "  ll <- sum(dbinom(x=nconv,\n",
    "                   size=N,\n",
    "                   prob=prob,\n",
    "                   log=TRUE), na.rm=TRUE)\n",
    "  \n",
    "  return(ll)\n",
    "  \n",
    "} \n",
    "\n",
    "# Log-likelihood for the whole dataset\n",
    "# Season should be 1 for the whole dataset\n",
    "# Season = 2 --> spring, season = 3 --> summer, season = 4 --> autumn, season = 5 --> winter\n",
    "loglik2 <- function(theta, data, model, season, inits) {\n",
    "  \n",
    "  traj <- as.data.frame(match.fun(model)(theta, data, inits)[season])\n",
    "  if (season == 2){\n",
    "    data <- subset(data, season_birth == 'Spring')\n",
    "  }else if (season == 3){\n",
    "    data <- subset(data, season_birth == 'Summer')\n",
    "  }else if (season == 4){\n",
    "    data <- subset(data, season_birth == 'Autumn')\n",
    "  }else if (season == 5){\n",
    "    data <- subset(data, season_birth == 'Winter')\n",
    "  }\n",
    "  \n",
    "  nconv <- data$nconv[!is.na(data$nconv)] # n seroconverted at each age point  (data)\n",
    "  N <- data$N[!is.na(data$nconv)] # total N at each age point  (data) \n",
    "  prob <- traj$conv[traj$time %in% data$agemid] # proportion seroconverted at each age point (model output)\n",
    "  \n",
    "  ll <- sum(dbinom(x=nconv,\n",
    "                   size=N,\n",
    "                   prob=prob,\n",
    "                   log=TRUE), na.rm=TRUE)\n",
    "  \n",
    "  return(ll)\n",
    "  \n",
    "} \n"
   ]
  },
  {
   "cell_type": "code",
   "execution_count": 30,
   "id": "9573f514-12f6-4c5f-a163-2349e9c07f29",
   "metadata": {},
   "outputs": [
    {
     "data": {
      "text/html": [
       "-1352.15073476216"
      ],
      "text/latex": [
       "-1352.15073476216"
      ],
      "text/markdown": [
       "-1352.15073476216"
      ],
      "text/plain": [
       "[1] -1352.151"
      ]
     },
     "metadata": {},
     "output_type": "display_data"
    }
   ],
   "source": [
    "#Test likelihood function for each season\n",
    "loglik2(theta, data, model_all, 1, inits)"
   ]
  },
  {
   "cell_type": "code",
   "execution_count": 31,
   "id": "c91244cc-f727-4f42-b7b2-b8315448d148",
   "metadata": {},
   "outputs": [
    {
     "data": {
      "text/html": [
       "-24.9027591140522"
      ],
      "text/latex": [
       "-24.9027591140522"
      ],
      "text/markdown": [
       "-24.9027591140522"
      ],
      "text/plain": [
       "[1] -24.90276"
      ]
     },
     "metadata": {},
     "output_type": "display_data"
    },
    {
     "data": {
      "text/html": [
       "-24.9027591140522"
      ],
      "text/latex": [
       "-24.9027591140522"
      ],
      "text/markdown": [
       "-24.9027591140522"
      ],
      "text/plain": [
       "[1] -24.90276"
      ]
     },
     "metadata": {},
     "output_type": "display_data"
    }
   ],
   "source": [
    "loglik(theta, agepred_sp, spring.df, model_sp, inits) # spring\n",
    "loglik2(theta, data, model_all, 2, inits)"
   ]
  },
  {
   "cell_type": "code",
   "execution_count": 32,
   "id": "2ed5e25e-9668-4d9b-b472-fa77b65720ef",
   "metadata": {},
   "outputs": [
    {
     "data": {
      "text/html": [
       "-19.9988349055934"
      ],
      "text/latex": [
       "-19.9988349055934"
      ],
      "text/markdown": [
       "-19.9988349055934"
      ],
      "text/plain": [
       "[1] -19.99883"
      ]
     },
     "metadata": {},
     "output_type": "display_data"
    },
    {
     "data": {
      "text/html": [
       "-19.9988349055934"
      ],
      "text/latex": [
       "-19.9988349055934"
      ],
      "text/markdown": [
       "-19.9988349055934"
      ],
      "text/plain": [
       "[1] -19.99883"
      ]
     },
     "metadata": {},
     "output_type": "display_data"
    }
   ],
   "source": [
    "loglik(theta, agepred_sm, summer.df, model_sm, inits) # summer\n",
    "loglik2(theta, data, model_all, 3, inits)"
   ]
  },
  {
   "cell_type": "code",
   "execution_count": 33,
   "id": "fed95181-1d76-4420-bbc3-d5d451b84323",
   "metadata": {},
   "outputs": [
    {
     "data": {
      "text/html": [
       "-28.866295430204"
      ],
      "text/latex": [
       "-28.866295430204"
      ],
      "text/markdown": [
       "-28.866295430204"
      ],
      "text/plain": [
       "[1] -28.8663"
      ]
     },
     "metadata": {},
     "output_type": "display_data"
    },
    {
     "data": {
      "text/html": [
       "-28.866295430204"
      ],
      "text/latex": [
       "-28.866295430204"
      ],
      "text/markdown": [
       "-28.866295430204"
      ],
      "text/plain": [
       "[1] -28.8663"
      ]
     },
     "metadata": {},
     "output_type": "display_data"
    }
   ],
   "source": [
    "loglik(theta, agepred_au, autumn.df, model_au, inits) # autumn\n",
    "loglik2(theta, data, model_all, 4, inits)"
   ]
  },
  {
   "cell_type": "code",
   "execution_count": 34,
   "id": "ebb7ea0e-a5d1-43cb-ba25-59b1074f72a3",
   "metadata": {},
   "outputs": [
    {
     "data": {
      "text/html": [
       "-31.6998799536262"
      ],
      "text/latex": [
       "-31.6998799536262"
      ],
      "text/markdown": [
       "-31.6998799536262"
      ],
      "text/plain": [
       "[1] -31.69988"
      ]
     },
     "metadata": {},
     "output_type": "display_data"
    },
    {
     "data": {
      "text/html": [
       "-31.6998799536262"
      ],
      "text/latex": [
       "-31.6998799536262"
      ],
      "text/markdown": [
       "-31.6998799536262"
      ],
      "text/plain": [
       "[1] -31.69988"
      ]
     },
     "metadata": {},
     "output_type": "display_data"
    }
   ],
   "source": [
    "loglik(theta, agepred_wt, winter.df, model_wt, inits) # winter\n",
    "loglik2(theta, data, model_all, 5, inits)"
   ]
  },
  {
   "cell_type": "code",
   "execution_count": 39,
   "id": "d3c68c63-346e-4413-8318-21161a6c3cbf",
   "metadata": {},
   "outputs": [
    {
     "data": {
      "text/html": [
       "'data.frame'"
      ],
      "text/latex": [
       "'data.frame'"
      ],
      "text/markdown": [
       "'data.frame'"
      ],
      "text/plain": [
       "[1] \"data.frame\""
      ]
     },
     "metadata": {},
     "output_type": "display_data"
    }
   ],
   "source": [
    "class(test_sm2)"
   ]
  },
  {
   "cell_type": "code",
   "execution_count": 44,
   "id": "84f98f9b-38b0-4f0f-b693-cb4eda542191",
   "metadata": {},
   "outputs": [
    {
     "data": {
      "image/png": "[encoded data removed]",
      "text/plain": [
       "plot without title"
      ]
     },
     "metadata": {
      "image/png": {
       "height": 420,
       "width": 420
      }
     },
     "output_type": "display_data"
    }
   ],
   "source": [
    "fit <- ggplot() + theme_bw() + ggtitle(\"Model fit for summer cohort\") +\n",
    "  geom_point(data=summer.df, aes(x=agemid, y=seroprev_mean, colour = season_birth)) +\n",
    "  geom_linerange(data=summer.df, aes(x=agemid, ymin=seroprev_low95, ymax=seroprev_up95)) +\n",
    "  geom_line(data=test_sm2, aes(x=time, y=conv), color=\"red\") +\n",
    "  xlab(\"age (days)\") + ylab(\"proportion seroconverted\") + labs(colour = \"season of birth\")\n",
    "\n",
    "fit"
   ]
  },
  {
   "cell_type": "code",
   "execution_count": 45,
   "id": "8b60619f-78d1-4f0a-b0ef-8859968c38e4",
   "metadata": {},
   "outputs": [
    {
     "data": {
      "image/png": "[encoded data removed]",
      "text/plain": [
       "plot without title"
      ]
     },
     "metadata": {
      "image/png": {
       "height": 420,
       "width": 420
      }
     },
     "output_type": "display_data"
    }
   ],
   "source": [
    "fit <- ggplot() + theme_bw() + ggtitle(\"Model fit for spring cohort\") +\n",
    "  geom_point(data=spring.df, aes(x=agemid, y=seroprev_mean, colour = season_birth)) +\n",
    "  geom_linerange(data=spring.df, aes(x=agemid, ymin=seroprev_low95, ymax=seroprev_up95)) +\n",
    "  geom_line(data=test_sp2, aes(x=time, y=conv), color=\"red\") +\n",
    "  xlab(\"age (days)\") + ylab(\"proportion seroconverted\") + labs(colour = \"season of birth\")\n",
    "\n",
    "fit"
   ]
  },
  {
   "cell_type": "code",
   "execution_count": 46,
   "id": "1dd78156-33ea-464b-a5aa-b42fd364f643",
   "metadata": {},
   "outputs": [
    {
     "data": {
      "image/png": "[encoded data removed]",
      "text/plain": [
       "plot without title"
      ]
     },
     "metadata": {
      "image/png": {
       "height": 420,
       "width": 420
      }
     },
     "output_type": "display_data"
    }
   ],
   "source": [
    "fit <- ggplot() + theme_bw() + ggtitle(\"Model fit for autumn cohort\") +\n",
    "  geom_point(data=autumn.df, aes(x=agemid, y=seroprev_mean, colour = season_birth)) +\n",
    "  geom_linerange(data=autumn.df, aes(x=agemid, ymin=seroprev_low95, ymax=seroprev_up95)) +\n",
    "  geom_line(data=test_au2, aes(x=time, y=conv), color=\"red\") +\n",
    "  xlab(\"age (days)\") + ylab(\"proportion seroconverted\") + labs(colour = \"season of birth\")\n",
    "\n",
    "fit"
   ]
  },
  {
   "cell_type": "code",
   "execution_count": 51,
   "id": "1dd6b06e-7e49-4677-b3da-da54cdeb339a",
   "metadata": {},
   "outputs": [
    {
     "data": {
      "image/png": "[encoded data removed]",
      "text/plain": [
       "plot without title"
      ]
     },
     "metadata": {
      "image/png": {
       "height": 420,
       "width": 420
      }
     },
     "output_type": "display_data"
    }
   ],
   "source": [
    "fit <- ggplot() + theme_bw() + ggtitle(\"Model fit for winter\") +\n",
    "  geom_point(data=winter.df, aes(x=agemid, y=seroprev_mean, colour = season_birth)) +\n",
    "  geom_linerange(data=winter.df, aes(x=agemid, ymin=seroprev_low95, ymax=seroprev_up95)) +\n",
    "  geom_line(data=test_wt2, aes(x=time, y=conv), color=\"red\") +\n",
    "  xlab(\"age (days)\") + ylab(\"proportion seroconverted\") + labs(colour = \"season of birth\")\n",
    "\n",
    "fit"
   ]
  },
  {
   "cell_type": "code",
   "execution_count": 48,
   "id": "8393fae6-be48-43e6-a6bb-9ac8746bbf0c",
   "metadata": {},
   "outputs": [
    {
     "data": {
      "image/png": "[encoded data removed]",
      "text/plain": [
       "plot without title"
      ]
     },
     "metadata": {
      "image/png": {
       "height": 420,
       "width": 420
      }
     },
     "output_type": "display_data"
    }
   ],
   "source": [
    "fit <- ggplot() + theme_bw() + ggtitle(\"Model fit\") +\n",
    "  geom_point(data=data_no_season, aes(x=agemid, y=seroprev_mean, colour = season_birth)) +\n",
    "  geom_linerange(data=data_no_season, aes(x=agemid, ymin=seroprev_low95, ymax=seroprev_up95)) +\n",
    "  geom_line(data=test_all, aes(x=time, y=conv), color=\"red\") +\n",
    "  xlab(\"age (days)\") + ylab(\"proportion seroconverted\") + labs(colour = \"season of birth\")\n",
    "\n",
    "fit"
   ]
  },
  {
   "cell_type": "code",
   "execution_count": 35,
   "id": "138f1d9c-e09d-4e76-9e04-34f522f5e734",
   "metadata": {},
   "outputs": [],
   "source": [
    "seas = 4\n",
    "# Wrapper for BT: loglik can only take the fitted parameters as argument\n",
    "# Wrapper for model_all function\n",
    "loglik_wrapper <- function(par) {\n",
    "  \n",
    "  parX = theta\n",
    "  parX[index] = par\n",
    "  \n",
    "  return(loglik2(theta = parX,\n",
    "                data = data,\n",
    "                model = match.fun(model_all),\n",
    "                season = seas,\n",
    "                inits = inits))\n",
    "} \n",
    "\n",
    "# Wrappers per season\n",
    "loglik_wrapper_sp <- function(par) {\n",
    "  \n",
    "  parX = theta\n",
    "  parX[index] = par\n",
    "  \n",
    "  return(loglik(theta = parX,\n",
    "                age = agepred_sp, \n",
    "                data = spring.df,\n",
    "                model = match.fun(model_sp),\n",
    "                inits = inits))\n",
    "} \n",
    "\n",
    "loglik_wrapper_sm <- function(par) {\n",
    "  \n",
    "  parX = theta\n",
    "  parX[index] = par\n",
    "  \n",
    "  return(loglik(theta = parX,\n",
    "                age = agepred_sm, \n",
    "                data = summer.df,\n",
    "                model = match.fun(model_sm),\n",
    "                inits = inits))\n",
    "}\n",
    "\n",
    "loglik_wrapper_au <- function(par) {\n",
    "  \n",
    "  parX = theta\n",
    "  parX[index] = par\n",
    "  \n",
    "  return(loglik(theta = parX,\n",
    "                age = agepred_au, \n",
    "                data = autumn.df,\n",
    "                model = match.fun(model_au),\n",
    "                inits = inits))\n",
    "}\n",
    "\n",
    "loglik_wrapper_wt <- function(par) {\n",
    "  \n",
    "  parX = theta\n",
    "  parX[index] = par\n",
    "  \n",
    "  return(loglik(theta = parX,\n",
    "                age = agepred_wt, \n",
    "                data = winter.df,\n",
    "                model = match.fun(model_wt),\n",
    "                inits = inits))\n",
    "}"
   ]
  },
  {
   "cell_type": "code",
   "execution_count": null,
   "id": "5ae808b2-859b-4ccd-9b9b-9ffaaacd8e23",
   "metadata": {},
   "outputs": [],
   "source": [
    "# FITTING -------------------------------------------\n",
    "\n",
    "# Estimated params\n",
    "estpars <- c(\"P\", \"M\", \"A\", \"W\", \"B\") # parameters to estimate, can be modified\n",
    "index <- which(names(theta) %in% estpars) # index of estimated params\n",
    "\n",
    "\n",
    "# Priors\n",
    "lower = c(P=0, M=0, A=0, W=0, B = 0)\n",
    "upper = c(P=0.1, M=0.1, A=0.1, W=0.1, B = 0.2)\n",
    "\n",
    "prior <- createUniformPrior(lower=lower[estpars], \n",
    "                            upper=upper[estpars])\n",
    "# MCMC settings\n",
    "nchains <- 2\n",
    "cpus <- 2 # or 2 if you want parallel, but it does not seem to be faster?\n",
    "mcmc_settings <- list(iterations = 2*80000, \n",
    "                      nrChains = nchains)\n",
    "sampler <- \"Metropolis\"\n",
    "\n",
    "bayesianSetup <- createBayesianSetup(prior = prior,\n",
    "                                        likelihood = loglik_wrapper,\n",
    "                                        names = names(theta[index]),\n",
    "                                        parallel = FALSE)\n",
    "\n",
    "system.time({trace <- runMCMC(bayesianSetup = bayesianSetup, \n",
    "                                 sampler = sampler, \n",
    "                                 settings = mcmc_settings)})\n",
    "\n",
    "'#if (cpus == 1) {\n",
    "  #spring\n",
    "  bayesianSetup_sp <- createBayesianSetup(prior = prior,\n",
    "                                       likelihood = loglik_wrapper_sp,\n",
    "                                       names = names(theta[index]),\n",
    "                                       parallel = FALSE)\n",
    "  \n",
    "  system.time({trace_sp <- runMCMC(bayesianSetup = bayesianSetup_sp, \n",
    "                                sampler = sampler, \n",
    "                                settings = mcmc_settings)})\n",
    "  \n",
    "  #summer\n",
    "  bayesianSetup_sm <- createBayesianSetup(prior = prior,\n",
    "                                          likelihood = loglik_wrapper_sm,\n",
    "                                          names = names(theta[index]),\n",
    "                                          parallel = FALSE)\n",
    "  \n",
    "  system.time({trace_sm <- runMCMC(bayesianSetup = bayesianSetup_sm, \n",
    "                                   sampler = sampler, \n",
    "                                   settings = mcmc_settings)})\n",
    "  \n",
    "  #autumn\n",
    "  bayesianSetup_au <- createBayesianSetup(prior = prior,\n",
    "                                          likelihood = loglik_wrapper_au,\n",
    "                                          names = names(theta[index]),\n",
    "                                          parallel = FALSE)\n",
    "  \n",
    "  system.time({trace_au <- runMCMC(bayesianSetup = bayesianSetup_au, \n",
    "                                   sampler = sampler, \n",
    "                                   settings = mcmc_settings)})\n",
    "  \n",
    "  # winter\n",
    "  bayesianSetup_wt <- createBayesianSetup(prior = prior,\n",
    "                                          likelihood = loglik_wrapper_wt,\n",
    "                                          names = names(theta[index]),\n",
    "                                          parallel = FALSE)\n",
    "  \n",
    "  system.time({trace_wt <- runMCMC(bayesianSetup = bayesianSetup_wt, \n",
    "                                   sampler = sampler, \n",
    "                                   settings = mcmc_settings)})\n",
    "  \n",
    "}#'"
   ]
  },
  {
   "cell_type": "code",
   "execution_count": null,
   "id": "e3323ed1-04d1-4740-86cd-372d8f4120be",
   "metadata": {},
   "outputs": [],
   "source": [
    "\n",
    "# DIAGNOSTICS -----------------------------------------------\n",
    "plot(trace)\n",
    "\n",
    "'#\n",
    "plot(trace_sp)\n",
    "plot(trace_sm) \n",
    "plot(trace_au)\n",
    "plot(trace_wt) \n",
    "#'"
   ]
  },
  {
   "cell_type": "code",
   "execution_count": null,
   "id": "ca4bbac7-e351-4bf2-9d44-293dadf87285",
   "metadata": {},
   "outputs": [],
   "source": [
    "# burn-in\n",
    "nburn <- 10000\n",
    "plot(trace, parametersOnly = TRUE, start=nburn)\n",
    "'#\n",
    "plot(trace_sp, parametersOnly = TRUE, start=nburn)\n",
    "plot(trace_sm, parametersOnly = TRUE, start=nburn)\n",
    "plot(trace_au, parametersOnly = TRUE, start=nburn)\n",
    "plot(trace_wt, parametersOnly = TRUE, start=nburn)#'\n",
    "\n",
    "# check convergence and correlations\n",
    "gelmanDiagnostics(trace, plot=TRUE, start=nburn)\n",
    "'#\n",
    "gelmanDiagnostics(trace_sp, plot=TRUE, start=nburn)\n",
    "gelmanDiagnostics(trace_sm, plot=TRUE, start=nburn)\n",
    "gelmanDiagnostics(trace_au, plot=TRUE, start=nburn)\n",
    "gelmanDiagnostics(trace_wt, plot=TRUE, start=nburn)#'\n",
    "\n",
    "correlationPlot(getSample(trace, parametersOnly = TRUE, coda=TRUE, start=nburn), density=\"smooth\", thin=50)\n",
    "marginalPlot(trace, prior=T, singlePanel=T, start=nburn, nDrawsPrior = 1000)\n",
    "\n",
    "# remove burn-in for trajsim simulation\n",
    "tracefinal <- getSample(trace, parametersOnly = TRUE, coda=TRUE, start=nburn)\n",
    "plot(tracefinal)\n",
    "effectiveSize(tracefinal)\n",
    "\n",
    "'#\n",
    "tracefinal_sp <- getSample(trace_sp, parametersOnly = TRUE, coda=TRUE, start=nburn)\n",
    "plot(tracefinal_sp)\n",
    "effectiveSize(tracefinal_sp)\n",
    "\n",
    "tracefinal_sm <- getSample(trace_sm, parametersOnly = TRUE, coda=TRUE, start=nburn)\n",
    "plot(tracefinal_sm)\n",
    "effectiveSize(tracefinal_sm)\n",
    "\n",
    "tracefinal_au <- getSample(trace_au, parametersOnly = TRUE, coda=TRUE, start=nburn)\n",
    "plot(tracefinal_au)\n",
    "effectiveSize(tracefinal_au)\n",
    "\n",
    "tracefinal_wt <- getSample(trace_wt, parametersOnly = TRUE, coda=TRUE, start=nburn)\n",
    "plot(tracefinal_wt)\n",
    "effectiveSize(tracefinal_wt)#'\n",
    "\n",
    "# Posterior summary\n",
    "summary(tracefinal)\n",
    "\n",
    "'#\n",
    "summary(tracefinal_sp)\n",
    "summary(tracefinal_sm)\n",
    "summary(tracefinal_wt)\n",
    "summary(tracefinal_au)#'\n",
    "\n",
    "# save the trace\n",
    "#saveRDS(trace_sp, \"trace_FOI_w_all_season_together_prop.rds\")\n",
    "\n",
    "\n",
    "# POSTPROCESSING AND RESULTS -----------------------------------\n",
    "\n",
    "# Calculate simulated trajectory quantiles\n",
    "trajsim <- maketrajsim2(tracefinal, theta, agepred, model_all, data, inits, 1000, seas) \n",
    "trajquantiles <- plyr::ddply(.data=trajsim, .variables=\"time\", function(x) quantile(x[,\"conv\"], prob = c(0.025, 0.5, 0.975), na.rm=T)) \n",
    "colnames(trajquantiles) <- c(\"agemid\", \"low95\", \"median\", \"up95\")\n",
    "\n",
    "lambda_quantiles <- plyr::ddply(.data=trajsim, .variables=\"time\", function(x) quantile(x[,\"lambda\"], prob = c(0.025, 0.5, 0.975), na.rm=T)) \n",
    "colnames(lambda_quantiles) <- c(\"agemid\", \"low95\", \"median\", \"up95\")\n",
    "\n",
    "wquantiles <- plyr::ddply(.data=trajsim, .variables=\"time\", function(x) quantile(x[,\"mu\"], prob = c(0.025, 0.5, 0.975), na.rm=T)) \n",
    "colnames(wquantiles) <- c(\"agemid\", \"low95\", \"median\", \"up95\")\n",
    "\n",
    "\n",
    "'#\n",
    "#Spring\n",
    "trajsim_sp <- maketrajsim(tracefinal_sp, theta, agepred_sp, model_sp, inits, 1000)\n",
    "trajquantiles_sp <- plyr::ddply(.data=trajsim, .variables=\"time\", function(x) quantile(x[,\"conv\"], prob = c(0.025, 0.5, 0.975), na.rm=T)) \n",
    "colnames(trajquantiles_sp) <- c(\"agemid\", \"low95\", \"median\", \"up95\")\n",
    "\n",
    "lambda_spquantiles <- plyr::ddply(.data=trajsim_sp, .variables=\"time\", function(x) quantile(x[,\"lambda\"], prob = c(0.025, 0.5, 0.975), na.rm=T)) \n",
    "colnames(lambda_spquantiles) <- c(\"agemid\", \"low95\", \"median\", \"up95\")\n",
    "\n",
    "wquantiles_sp <- plyr::ddply(.data=trajsim_sp, .variables=\"time\", function(x) quantile(x[,\"mu\"], prob = c(0.025, 0.5, 0.975), na.rm=T)) \n",
    "colnames(wquantiles_sp) <- c(\"agemid\", \"low95\", \"median\", \"up95\")\n",
    "\n",
    "#Summer\n",
    "trajsim_sm <- maketrajsim(tracefinal_sm, theta, agepred_sm, model_sm, inits, 1000)\n",
    "trajquantiles_sm <- plyr::ddply(.data=trajsim_sm, .variables=\"time\", function(x) quantile(x[,\"conv\"], prob = c(0.025, 0.5, 0.975), na.rm=T)) \n",
    "colnames(trajquantiles_sm) <- c(\"agemid\", \"low95\", \"median\", \"up95\")\n",
    "\n",
    "lambda_smquantiles <- plyr::ddply(.data=trajsim_sm, .variables=\"time\", function(x) quantile(x[,\"lambda\"], prob = c(0.025, 0.5, 0.975), na.rm=T)) \n",
    "colnames(lambda_smquantiles) <- c(\"agemid\", \"low95\", \"median\", \"up95\")\n",
    "wquantiles_sm <- plyr::ddply(.data=trajsim_sm, .variables=\"time\", function(x) quantile(x[,\"mu\"], prob = c(0.025, 0.5, 0.975), na.rm=T)) \n",
    "colnames(wquantiles_sm) <- c(\"agemid\", \"low95\", \"median\", \"up95\")\n",
    "\n",
    "#Autumn\n",
    "trajsim_au <- maketrajsim(tracefinal_au, theta, agepred_au, model_au, inits, 1000)\n",
    "trajquantiles_au <- plyr::ddply(.data=trajsim_au, .variables=\"time\", function(x) quantile(x[,\"conv\"], prob = c(0.025, 0.5, 0.975), na.rm=T)) \n",
    "colnames(trajquantiles_au) <- c(\"agemid\", \"low95\", \"median\", \"up95\")\n",
    "\n",
    "lambda_auquantiles <- plyr::ddply(.data=trajsim_au, .variables=\"time\", function(x) quantile(x[,\"lambda\"], prob = c(0.025, 0.5, 0.975), na.rm=T)) \n",
    "colnames(lambda_auquantiles) <- c(\"agemid\", \"low95\", \"median\", \"up95\")\n",
    "\n",
    "wquantiles_au <- plyr::ddply(.data=trajsim_au, .variables=\"time\", function(x) quantile(x[,\"mu\"], prob = c(0.025, 0.5, 0.975), na.rm=T)) \n",
    "colnames(wquantiles_au) <- c(\"agemid\", \"low95\", \"median\", \"up95\")\n",
    "\n",
    "#Winter\n",
    "trajsim_wt <- maketrajsim(tracefinal_wt, theta, agepred_wt, model_wt, inits, 1000)\n",
    "trajquantiles_wt <- plyr::ddply(.data=trajsim_wt, .variables=\"time\", function(x) quantile(x[,\"conv\"], prob = c(0.025, 0.5, 0.975), na.rm=T)) \n",
    "colnames(trajquantiles_wt) <- c(\"agemid\", \"low95\", \"median\", \"up95\")\n",
    "\n",
    "lambda_wtquantiles <- plyr::ddply(.data=trajsim_wt, .variables=\"time\", function(x) quantile(x[,\"lambda\"], prob = c(0.025, 0.5, 0.975), na.rm=T)) \n",
    "colnames(lambda_wtquantiles) <- c(\"agemid\", \"low95\", \"median\", \"up95\")\n",
    "\n",
    "wquantiles_wt <- plyr::ddply(.data=trajsim_wt, .variables=\"time\", function(x) quantile(x[,\"mu\"], prob = c(0.025, 0.5, 0.975), na.rm=T)) \n",
    "colnames(wquantiles_wt) <- c(\"agemid\", \"low95\", \"median\", \"up95\")\n",
    "#'\n",
    "\n",
    "\n",
    "\n",
    "# Plot fit and FOI\n",
    "fit <- ggplot() + theme_bw() + ggtitle(\"Model fit\") +\n",
    "  geom_point(data=summer.df, aes(x=agemid, y=seroprev_mean, colour = season_birth)) +\n",
    "  geom_linerange(data=summer.df, aes(x=agemid, ymin=seroprev_low95, ymax=seroprev_up95)) +\n",
    "  geom_ribbon(data=trajquantiles, aes(x=agemid, ymin=low95, ymax=up95), fill=\"red\", alpha=0.3) +\n",
    "  geom_line(data=trajquantiles, aes(x=agemid, y=median), color=\"red\") +\n",
    "  xlab(\"age (days)\") + ylab(\"proportion seroconverted\") + labs(colour = \"season of birth\")\n",
    "\n",
    "fit\n",
    "\n",
    "fit_no_season <- ggplot() + theme_bw() + ggtitle(\"Model fit\") +\n",
    "  geom_point(data=data, aes(x=agemid, y=seroprev_mean, colour = season_birth)) +\n",
    "  geom_linerange(data=data, aes(x=agemid, ymin=seroprev_low95, ymax=seroprev_up95)) +\n",
    "  geom_ribbon(data=trajquantiles, aes(x=agemid, ymin=low95, ymax=up95), fill=\"red\", alpha=0.3) +\n",
    "  geom_line(data=trajquantiles, aes(x=agemid, y=median), color=\"red\") +\n",
    "  xlab(\"age (days)\") + ylab(\"proportion seroconverted\") + labs(colour = \"season of birth\")\n",
    "fit_no_season\n",
    "\n",
    "\n",
    "lambda <- ggplot() + theme_bw() + ggtitle(\"FOI over time\") +\n",
    "  geom_ribbon(data=lambda_quantiles, aes(x=agemid, ymin=low95, ymax=up95), fill=\"red\", alpha=0.3) +\n",
    "  geom_line(data=lambda_quantiles, aes(x=agemid, y=median), color=\"red\") +\n",
    "  xlab(\"age (days)\") + ylab(\"FOI\") \n",
    "lambda\n",
    "\n",
    "w <- ggplot() + theme_bw() + ggtitle(\"Waning maternal immunity\") +\n",
    "  geom_ribbon(data=wquantiles, aes(x=agemid, ymin=low95, ymax=up95), fill=\"red\", alpha=0.3) +\n",
    "  geom_line(data=wquantiles, aes(x=agemid, y=median), color=\"red\") +\n",
    "  xlab(\"age (days)\") + ylab(\"Maternal immunity\") \n",
    "w\n",
    "\n",
    "'#\n",
    "fit_sp <- ggplot() + theme_bw() + ggtitle(\"model fit in spring\") +\n",
    "  geom_point(data=spring.df, aes(x=agemid, y=seroprev_mean)) +\n",
    "  geom_linerange(data=spring.df, aes(x=agemid, ymin=seroprev_low95, ymax=seroprev_up95)) +\n",
    "  geom_ribbon(data=trajquantiles, aes(x=agemid, ymin=low95, ymax=up95), fill=\"red\", alpha=0.3) +\n",
    "  geom_line(data=trajquantiles, aes(x=agemid, y=median), color=\"red\") +\n",
    "  xlab(\"age (days)\") + ylab(\"proportion seroconverted\") \n",
    "\n",
    "\n",
    "fit_sp\n",
    "\n",
    "lambda_sp <- ggplot() + theme_bw() + ggtitle(\"FOI in spring\") +\n",
    "  geom_ribbon(data=lambda_spquantiles, aes(x=agemid, ymin=low95, ymax=up95), fill=\"red\", alpha=0.3) +\n",
    "  geom_line(data=lambda_spquantiles, aes(x=agemid, y=median), color=\"red\") +\n",
    "  xlab(\"age (days)\") + ylab(\"FOI\") \n",
    "lambda_sp\n",
    "\n",
    "fit_sm <- ggplot() + theme_bw() + ggtitle(\"model fit in summer\") +\n",
    "  geom_point(data=summer.df, aes(x=agemid, y=seroprev_mean)) +\n",
    "  geom_linerange(data=summer.df, aes(x=agemid, ymin=seroprev_low95, ymax=seroprev_up95)) +\n",
    "  geom_ribbon(data=trajquantiles_sm, aes(x=agemid, ymin=low95, ymax=up95), fill=\"red\", alpha=0.3) +\n",
    "  geom_line(data=trajquantiles_sm, aes(x=agemid, y=median), color=\"red\") +\n",
    "  xlab(\"age (days)\") + ylab(\"proportion seroconverted\") \n",
    "\n",
    "\n",
    "fit_sm\n",
    "\n",
    "lambda_sm <- ggplot() + theme_bw() + ggtitle(\"FOI in summer\") +\n",
    "  geom_ribbon(data=lambda_smquantiles, aes(x=agemid, ymin=low95, ymax=up95), fill=\"red\", alpha=0.3) +\n",
    "  geom_line(data=lambda_smquantiles, aes(x=agemid, y=median), color=\"red\") +\n",
    "  xlab(\"age (days)\") + ylab(\"FOI\") \n",
    "lambda_sm\n",
    "\n",
    "fit_au <- ggplot() + theme_bw() + ggtitle(\"model fit in autumn\") +\n",
    "  geom_point(data=autumn.df, aes(x=agemid, y=seroprev_mean)) +\n",
    "  geom_linerange(data=autumn.df, aes(x=agemid, ymin=seroprev_low95, ymax=seroprev_up95)) +\n",
    "  geom_ribbon(data=trajquantiles_au, aes(x=agemid, ymin=low95, ymax=up95), fill=\"red\", alpha=0.3) +\n",
    "  geom_line(data=trajquantiles_au, aes(x=agemid, y=median), color=\"red\") +\n",
    "  xlab(\"age (days)\") + ylab(\"proportion seroconverted\") \n",
    "\n",
    "\n",
    "fit_au\n",
    "\n",
    "lambda_au <- ggplot() + theme_bw() + ggtitle(\"FOI in autumn\") +\n",
    "  geom_ribbon(data=lambda_auquantiles, aes(x=agemid, ymin=low95, ymax=up95), fill=\"red\", alpha=0.3) +\n",
    "  geom_line(data=lambda_auquantiles, aes(x=agemid, y=median), color=\"red\") +\n",
    "  xlab(\"age (days)\") + ylab(\"FOI\") \n",
    "lambda_au\n",
    "\n",
    "w_au <- ggplot() + theme_bw() + ggtitle(\"Waning maternal immunity in autumn\") +\n",
    "  geom_ribbon(data=wquantiles, aes(x=agemid, ymin=low95, ymax=up95), fill=\"red\", alpha=0.3) +\n",
    "  geom_line(data=wquantiles, aes(x=agemid, y=median), color=\"red\") +\n",
    "  xlab(\"age (days)\") + ylab(\"Maternal immunity\") \n",
    "\n",
    "\n",
    "w_au\n",
    "\n",
    "\n",
    "fit_wt <- ggplot() + theme_bw() + ggtitle(\"model fit in winter\") +\n",
    "  geom_point(data=winter.df, aes(x=agemid, y=seroprev_mean)) +\n",
    "  geom_linerange(data=winter.df, aes(x=agemid, ymin=seroprev_low95, ymax=seroprev_up95)) +\n",
    "  geom_ribbon(data=trajquantiles_wt, aes(x=agemid, ymin=low95, ymax=up95), fill=\"red\", alpha=0.3) +\n",
    "  geom_line(data=trajquantiles_wt, aes(x=agemid, y=median), color=\"red\") +\n",
    "  xlab(\"age (days)\") + ylab(\"proportion seroconverted\") \n",
    "\n",
    "\n",
    "fit_wt\n",
    "\n",
    "\n",
    "lambda_wt <- ggplot() + theme_bw() + ggtitle(\"FOI in winter\") +\n",
    "  geom_ribbon(data=lambda_wtquantiles, aes(x=agemid, ymin=low95, ymax=up95), fill=\"red\", alpha=0.3) +\n",
    "  geom_line(data=lambda_wtquantiles, aes(x=agemid, y=median), color=\"red\") +\n",
    "  xlab(\"age (days)\") + ylab(\"FOI\") \n",
    "lambda_wt\n",
    "\n",
    "w_wt <- ggplot() + theme_bw() + ggtitle(\"Waning maternal immunity in winter\") +\n",
    "  geom_ribbon(data=wquantiles, aes(x=agemid, ymin=low95, ymax=up95), fill=\"red\", alpha=0.3) +\n",
    "  geom_line(data=wquantiles, aes(x=agemid, y=median), color=\"red\") +\n",
    "  xlab(\"age (days)\") + ylab(\"Maternal immunity\") \n",
    "\n",
    "\n",
    "w_wt\n",
    "#'\n",
    "\n",
    "\n",
    "\n"
   ]
  }
 ],
 "metadata": {
  "kernelspec": {
   "display_name": "R",
   "language": "R",
   "name": "ir"
  },
  "language_info": {
   "codemirror_mode": "r",
   "file_extension": ".r",
   "mimetype": "text/x-r-source",
   "name": "R",
   "pygments_lexer": "r",
   "version": "4.1.3"
  }
 },
 "nbformat": 4,
 "nbformat_minor": 5
}
