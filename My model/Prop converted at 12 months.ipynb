{
 "cells": [
  {
   "cell_type": "code",
   "execution_count": 1,
   "id": "b33f5b4f-7ad4-4460-855a-6bf9af49325e",
   "metadata": {},
   "outputs": [
    {
     "name": "stderr",
     "output_type": "stream",
     "text": [
      "-- \u001b[1mAttaching packages\u001b[22m ------------------------------------------------------------------------------- tidyverse 1.3.1 --\n",
      "\n",
      "\u001b[32mv\u001b[39m \u001b[34mggplot2\u001b[39m 3.3.6     \u001b[32mv\u001b[39m \u001b[34mpurrr  \u001b[39m 0.3.4\n",
      "\u001b[32mv\u001b[39m \u001b[34mtibble \u001b[39m 3.1.7     \u001b[32mv\u001b[39m \u001b[34mdplyr  \u001b[39m 1.0.9\n",
      "\u001b[32mv\u001b[39m \u001b[34mtidyr  \u001b[39m 1.2.0     \u001b[32mv\u001b[39m \u001b[34mstringr\u001b[39m 1.4.0\n",
      "\u001b[32mv\u001b[39m \u001b[34mreadr  \u001b[39m 2.1.2     \u001b[32mv\u001b[39m \u001b[34mforcats\u001b[39m 0.5.1\n",
      "\n",
      "-- \u001b[1mConflicts\u001b[22m ---------------------------------------------------------------------------------- tidyverse_conflicts() --\n",
      "\u001b[31mx\u001b[39m \u001b[34mdplyr\u001b[39m::\u001b[32mfilter()\u001b[39m masks \u001b[34mstats\u001b[39m::filter()\n",
      "\u001b[31mx\u001b[39m \u001b[34mdplyr\u001b[39m::\u001b[32mlag()\u001b[39m    masks \u001b[34mstats\u001b[39m::lag()\n",
      "\n",
      "------------------------------------------------------------------------------\n",
      "\n",
      "You have loaded plyr after dplyr - this is likely to cause problems.\n",
      "If you need functions from both plyr and dplyr, please load plyr first, then dplyr:\n",
      "library(plyr); library(dplyr)\n",
      "\n",
      "------------------------------------------------------------------------------\n",
      "\n",
      "\n",
      "Attaching package: 'plyr'\n",
      "\n",
      "\n",
      "The following objects are masked from 'package:dplyr':\n",
      "\n",
      "    arrange, count, desc, failwith, id, mutate, rename, summarise,\n",
      "    summarize\n",
      "\n",
      "\n",
      "The following object is masked from 'package:purrr':\n",
      "\n",
      "    compact\n",
      "\n",
      "\n",
      "\n",
      "Attaching package: 'lubridate'\n",
      "\n",
      "\n",
      "The following objects are masked from 'package:base':\n",
      "\n",
      "    date, intersect, setdiff, union\n",
      "\n",
      "\n"
     ]
    }
   ],
   "source": [
    "rm(list=ls())\n",
    "set.seed(42)\n",
    "\n",
    "library(tidyverse)\n",
    "library(BayesianTools)\n",
    "library(binom)\n",
    "library(plyr)\n",
    "library(deSolve)\n",
    "library(coda)\n",
    "library(lubridate)\n",
    "theme_set(theme_minimal())"
   ]
  },
  {
   "cell_type": "code",
   "execution_count": 2,
   "id": "9c8a8665-01f1-4751-9fab-34157b1a0e75",
   "metadata": {},
   "outputs": [],
   "source": [
    "data <- read.csv(\"https://raw.githubusercontent.com/Stijn-A/RSV_serology/master/data/infection_status_csv.txt\",\n",
    "                 sep=\",\")"
   ]
  },
  {
   "cell_type": "code",
   "execution_count": 3,
   "id": "03d169ba-e4a7-45c5-b024-67c49311534f",
   "metadata": {},
   "outputs": [],
   "source": [
    "young <- subset(data, age_days <= 365)"
   ]
  },
  {
   "cell_type": "code",
   "execution_count": 15,
   "id": "b08c63f8-8d07-48c6-843a-b4d77a6a1d38",
   "metadata": {},
   "outputs": [
    {
     "data": {
      "text/html": [
       "369"
      ],
      "text/latex": [
       "369"
      ],
      "text/markdown": [
       "369"
      ],
      "text/plain": [
       "[1] 369"
      ]
     },
     "metadata": {},
     "output_type": "display_data"
    }
   ],
   "source": [
    "length(young$age_days)"
   ]
  },
  {
   "cell_type": "code",
   "execution_count": 7,
   "id": "bde40774-29ea-4a91-8812-776434ef50f3",
   "metadata": {},
   "outputs": [
    {
     "data": {
      "text/html": [
       "<table class=\"dataframe\">\n",
       "<caption>A data.frame: 2 × 2</caption>\n",
       "<thead>\n",
       "\t<tr><th scope=col>x</th><th scope=col>freq</th></tr>\n",
       "\t<tr><th scope=col>&lt;lgl&gt;</th><th scope=col>&lt;int&gt;</th></tr>\n",
       "</thead>\n",
       "<tbody>\n",
       "\t<tr><td>FALSE</td><td>294</td></tr>\n",
       "\t<tr><td> TRUE</td><td> 75</td></tr>\n",
       "</tbody>\n",
       "</table>\n"
      ],
      "text/latex": [
       "A data.frame: 2 × 2\n",
       "\\begin{tabular}{ll}\n",
       " x & freq\\\\\n",
       " <lgl> & <int>\\\\\n",
       "\\hline\n",
       "\t FALSE & 294\\\\\n",
       "\t  TRUE &  75\\\\\n",
       "\\end{tabular}\n"
      ],
      "text/markdown": [
       "\n",
       "A data.frame: 2 × 2\n",
       "\n",
       "| x &lt;lgl&gt; | freq &lt;int&gt; |\n",
       "|---|---|\n",
       "| FALSE | 294 |\n",
       "|  TRUE |  75 |\n",
       "\n"
      ],
      "text/plain": [
       "  x     freq\n",
       "1 FALSE 294 \n",
       "2  TRUE  75 "
      ]
     },
     "metadata": {},
     "output_type": "display_data"
    }
   ],
   "source": [
    "count(young$infection == 1)"
   ]
  },
  {
   "cell_type": "code",
   "execution_count": 16,
   "id": "2c4c7435-84c6-4791-93aa-7df5eef90bb8",
   "metadata": {},
   "outputs": [
    {
     "name": "stdout",
     "output_type": "stream",
     "text": [
      "[1] 0.203252\n"
     ]
    }
   ],
   "source": [
    "n <- 75\n",
    "N = length(young$age_days)\n",
    "prop <- n/N\n",
    "print(prop)"
   ]
  },
  {
   "cell_type": "code",
   "execution_count": 17,
   "id": "cba8a73f-c09b-4dcf-bb0a-8a9f93398664",
   "metadata": {},
   "outputs": [],
   "source": [
    "# Group age into intervals \n",
    "# bi-monthly for 0-2 years and 6-monthly for 2-5 years\n",
    "data$agegrp <- cut(data$age_days,\n",
    "                    breaks=c(seq(0,730, by=30.25*2),\n",
    "                             seq(909,2000, by=30.25*6)), \n",
    "                    include.lowest = T, right=F)\n",
    "# Divide by season of birth\n",
    "spring <- c(3, 4, 5)\n",
    "summer <- c(6, 7, 8)\n",
    "autumn <- c (9, 10, 11)\n",
    "winter <- c(1, 2, 12)\n",
    "\n",
    "data <- data %>%\n",
    "  mutate(\n",
    "    Birth_mo = birthday %>% month()\n",
    "  )%>%\n",
    "  mutate(\n",
    "    season_birth = case_when(\n",
    "      Birth_mo %in% spring ~ \"Spring\",\n",
    "      Birth_mo %in% summer ~ \"Summer\",\n",
    "      Birth_mo %in% autumn ~ \"Autumn\",\n",
    "      Birth_mo %in% winter ~ \"Winter\")\n",
    "  )"
   ]
  },
  {
   "cell_type": "code",
   "execution_count": 31,
   "id": "27053fb5-509e-45b9-b537-55f75e040f16",
   "metadata": {},
   "outputs": [],
   "source": [
    "young_sp <- subset(data, season_birth == \"Spring\" & age_days <= 365)\n",
    "young_sm <- subset(data, season_birth == \"Summer\" & age_days <= 365)\n",
    "young_au <- subset(data, season_birth == \"Autumn\" & age_days <= 365)\n",
    "young_wt <- subset(data, season_birth == \"Winter\" & age_days <= 365)"
   ]
  },
  {
   "cell_type": "code",
   "execution_count": 23,
   "id": "00394fa2-dd1e-40e0-b812-dbdfb29eb1fc",
   "metadata": {},
   "outputs": [
    {
     "name": "stdout",
     "output_type": "stream",
     "text": [
      "[1] 0.3333333\n"
     ]
    }
   ],
   "source": [
    "inf_sp <- subset (young_sp, infection == 1)\n",
    "n <- length(inf_sp$age_days)\n",
    "N = length(young_sp$age_days)\n",
    "prop <- n/N\n",
    "print(prop)"
   ]
  },
  {
   "cell_type": "code",
   "execution_count": 25,
   "id": "576a6a2c-89d0-438f-9e56-11d49af4a5be",
   "metadata": {},
   "outputs": [
    {
     "name": "stdout",
     "output_type": "stream",
     "text": [
      "[1] 0.3020833\n"
     ]
    }
   ],
   "source": [
    "inf_sm <- subset(young_sm, infection == 1)\n",
    "n <- length(inf_sm$age_days)\n",
    "N = length(young_sm$age_days)\n",
    "prop <- n/N\n",
    "print(prop)"
   ]
  },
  {
   "cell_type": "code",
   "execution_count": 26,
   "id": "43e79023-2001-4da6-b9fa-2346c439aecf",
   "metadata": {},
   "outputs": [
    {
     "name": "stdout",
     "output_type": "stream",
     "text": [
      "[1] 0.1414141\n"
     ]
    }
   ],
   "source": [
    "inf_au <- subset(young_au, infection == 1)\n",
    "n <- length(inf_au$age_days)\n",
    "N = length(young_au$age_days)\n",
    "prop <- n/N\n",
    "print(prop)"
   ]
  },
  {
   "cell_type": "code",
   "execution_count": 32,
   "id": "61ac3512-7353-4aef-b164-8a3c2227e0cb",
   "metadata": {},
   "outputs": [
    {
     "name": "stdout",
     "output_type": "stream",
     "text": [
      "[1] 0.05376344\n"
     ]
    }
   ],
   "source": [
    "inf_wt <- subset (young_wt, infection == 1)\n",
    "n <- length(inf_wt$age_days)\n",
    "N = length(young_wt$age_days)\n",
    "prop <- n/N\n",
    "print(prop)"
   ]
  },
  {
   "cell_type": "code",
   "execution_count": null,
   "id": "1c308055-21fe-4ef8-b30d-dc32280290bb",
   "metadata": {},
   "outputs": [],
   "source": []
  }
 ],
 "metadata": {
  "kernelspec": {
   "display_name": "R",
   "language": "R",
   "name": "ir"
  },
  "language_info": {
   "codemirror_mode": "r",
   "file_extension": ".r",
   "mimetype": "text/x-r-source",
   "name": "R",
   "pygments_lexer": "r",
   "version": "4.1.3"
  }
 },
 "nbformat": 4,
 "nbformat_minor": 5
}
