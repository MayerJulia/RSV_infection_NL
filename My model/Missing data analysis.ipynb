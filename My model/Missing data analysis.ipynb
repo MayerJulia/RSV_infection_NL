{
 "cells": [
  {
   "cell_type": "code",
   "execution_count": 1,
   "id": "79236c7e-2460-4bb5-92d6-abfea6160aa7",
   "metadata": {},
   "outputs": [
    {
     "name": "stderr",
     "output_type": "stream",
     "text": [
      "Loading required package: nlme\n",
      "\n",
      "This is mgcv 1.8-40. For overview type 'help(\"mgcv-package\")'.\n",
      "\n",
      "-- \u001b[1mAttaching packages\u001b[22m ------------------------------------------------------------------------------- tidyverse 1.3.1 --\n",
      "\n",
      "\u001b[32mv\u001b[39m \u001b[34mtibble \u001b[39m 3.1.7     \u001b[32mv\u001b[39m \u001b[34mdplyr  \u001b[39m 1.0.9\n",
      "\u001b[32mv\u001b[39m \u001b[34mtidyr  \u001b[39m 1.2.0     \u001b[32mv\u001b[39m \u001b[34mstringr\u001b[39m 1.4.0\n",
      "\u001b[32mv\u001b[39m \u001b[34mreadr  \u001b[39m 2.1.2     \u001b[32mv\u001b[39m \u001b[34mforcats\u001b[39m 0.5.1\n",
      "\u001b[32mv\u001b[39m \u001b[34mpurrr  \u001b[39m 0.3.4     \n",
      "\n",
      "-- \u001b[1mConflicts\u001b[22m ---------------------------------------------------------------------------------- tidyverse_conflicts() --\n",
      "\u001b[31mx\u001b[39m \u001b[34mdplyr\u001b[39m::\u001b[32mcollapse()\u001b[39m masks \u001b[34mnlme\u001b[39m::collapse()\n",
      "\u001b[31mx\u001b[39m \u001b[34mdplyr\u001b[39m::\u001b[32mfilter()\u001b[39m   masks \u001b[34mstats\u001b[39m::filter()\n",
      "\u001b[31mx\u001b[39m \u001b[34mdplyr\u001b[39m::\u001b[32mlag()\u001b[39m      masks \u001b[34mstats\u001b[39m::lag()\n",
      "\n",
      "\n",
      "Attaching package: 'lubridate'\n",
      "\n",
      "\n",
      "The following objects are masked from 'package:base':\n",
      "\n",
      "    date, intersect, setdiff, union\n",
      "\n",
      "\n",
      "\n",
      "Attaching package: 'gridExtra'\n",
      "\n",
      "\n",
      "The following object is masked from 'package:dplyr':\n",
      "\n",
      "    combine\n",
      "\n",
      "\n",
      "\n",
      "Attaching package: 'magrittr'\n",
      "\n",
      "\n",
      "The following object is masked from 'package:purrr':\n",
      "\n",
      "    set_names\n",
      "\n",
      "\n",
      "The following object is masked from 'package:tidyr':\n",
      "\n",
      "    extract\n",
      "\n",
      "\n",
      "\n",
      "Attaching package: 'rstatix'\n",
      "\n",
      "\n",
      "The following object is masked from 'package:stats':\n",
      "\n",
      "    filter\n",
      "\n",
      "\n",
      "\n",
      "Attaching package: 'mice'\n",
      "\n",
      "\n",
      "The following object is masked from 'package:stats':\n",
      "\n",
      "    filter\n",
      "\n",
      "\n",
      "The following objects are masked from 'package:base':\n",
      "\n",
      "    cbind, rbind\n",
      "\n",
      "\n"
     ]
    }
   ],
   "source": [
    "# Load packages\n",
    "library(mgcv)\n",
    "library(ggplot2)\n",
    "library(tidyverse)\n",
    "library(lubridate)\n",
    "library(gridExtra)\n",
    "library(grid)\n",
    "library(writexl)\n",
    "library(magrittr)\n",
    "library(rstatix)\n",
    "library(mice)"
   ]
  },
  {
   "cell_type": "code",
   "execution_count": 2,
   "id": "f32b87f1-3c5e-4561-9f67-a9301e9fca7b",
   "metadata": {},
   "outputs": [
    {
     "data": {
      "text/html": [
       "'C:/Users/julia/OneDrive - London School of Hygiene and Tropical Medicine/Documents/LSHTM/Project'"
      ],
      "text/latex": [
       "'C:/Users/julia/OneDrive - London School of Hygiene and Tropical Medicine/Documents/LSHTM/Project'"
      ],
      "text/markdown": [
       "'C:/Users/julia/OneDrive - London School of Hygiene and Tropical Medicine/Documents/LSHTM/Project'"
      ],
      "text/plain": [
       "[1] \"C:/Users/julia/OneDrive - London School of Hygiene and Tropical Medicine/Documents/LSHTM/Project\""
      ]
     },
     "metadata": {},
     "output_type": "display_data"
    },
    {
     "name": "stderr",
     "output_type": "stream",
     "text": [
      "\u001b[1mRows: \u001b[22m\u001b[34m682\u001b[39m \u001b[1mColumns: \u001b[22m\u001b[34m23\u001b[39m\n",
      "\u001b[36m--\u001b[39m \u001b[1mColumn specification\u001b[22m \u001b[36m------------------------------------------------------------------------------------------------\u001b[39m\n",
      "\u001b[1mDelimiter:\u001b[22m \",\"\n",
      "\u001b[32mdbl\u001b[39m  (20): age_days, infection, IgG_PreF, IgA_PreF, IgG_PostF, IgA_PostF, Ig...\n",
      "\u001b[33mlgl\u001b[39m   (1): IgA_Nn_household\n",
      "\u001b[34mdate\u001b[39m  (2): birthday, consultdate\n",
      "\n",
      "\u001b[36mi\u001b[39m Use `spec()` to retrieve the full column specification for this data.\n",
      "\u001b[36mi\u001b[39m Specify the column types or set `show_col_types = FALSE` to quiet this message.\n"
     ]
    }
   ],
   "source": [
    "PATH <- file.path(\"C:/Users/julia/OneDrive - London School of Hygiene and Tropical Medicine/Documents/LSHTM/Project\") #\"/home/andewegs/1_RSV_scripts/\"\n",
    "setwd(PATH)\n",
    "getwd()\n",
    "rsv.data <- read_csv(file = \"Data/infection_status.csv\")"
   ]
  },
  {
   "cell_type": "code",
   "execution_count": 3,
   "id": "50b54b4f-41de-4bc1-a2f1-d1aa51f00c37",
   "metadata": {},
   "outputs": [],
   "source": [
    "rsv.data <- rsv.data %>%\n",
    "  # Get day of the year of birthday (= number between 1 and 365)\n",
    "  mutate(\n",
    "    Birth_doy = birthday %>% yday()\n",
    "  ) %>%\n",
    "  # Alter number of housefold members 1 == no siblings, >1 == having siblings\n",
    "  mutate(\n",
    "    household04_counts = case_when(\n",
    "      age_days/365 >= 5 ~ (household04 + 1),  #because the child itself is also included in household size\n",
    "      age_days/365 < 5 ~ household04)       #the household04 of children of age 5 should also include the child itself\n",
    "  ) %>%\n",
    "  # Make number of siblings 0-4 years binary factor variable\n",
    "  mutate(\n",
    "    Siblings04 = case_when(\n",
    "      household04_counts <= 1 ~ 'False',\n",
    "      household04_counts > 1 ~ 'True'\n",
    "    ) %>% \n",
    "      factor()\n",
    "  ) %>%\n",
    "  # Make number of siblings 5-9 years binary factor variable\n",
    "  mutate(\n",
    "    Siblings59 = case_when(\n",
    "      household59 <= 0 ~ 'False',\n",
    "      household59 > 0 ~ 'True'\n",
    "    ) %>% \n",
    "      factor()\n",
    "  ) %>% \n",
    "  # Set nursery 0 1 to False True\n",
    "  mutate(\n",
    "    Nursery = case_when(\n",
    "      visitnursery_child == 0 ~ 'False',\n",
    "      visitnursery_child == 1 ~ 'True'\n",
    "    ) %>% \n",
    "      factor()\n",
    "  )"
   ]
  },
  {
   "cell_type": "code",
   "execution_count": 4,
   "id": "bc4111ab-661d-4f37-92e3-6c50a2c341ef",
   "metadata": {},
   "outputs": [],
   "source": [
    "rsv.data <- rsv.data %>%\n",
    " mutate(\n",
    "    Birth_mo = birthday %>% month()\n",
    "  )"
   ]
  },
  {
   "cell_type": "code",
   "execution_count": 5,
   "id": "e3c9506f-8158-4d96-9d6e-51030c230222",
   "metadata": {},
   "outputs": [],
   "source": [
    "season_border = \"10-01\" #MM-DD\n",
    "spring <- c(3, 4, 5)\n",
    "summer <- c(6, 7, 8)\n",
    "autumn <- c (9, 10, 11)\n",
    "winter <- c(1, 2, 12)\n",
    "rsv.data <- rsv.data %>%\n",
    "  mutate(\n",
    "    age_years = case_when(\n",
    "      age_days <= 30.41*6 ~ '0-6 months',\n",
    "      age_days > 30.41*6 & age_days <= 30.41*12 ~ '6-12 months',\n",
    "      age_days > 30.41*12 & age_days <= 30.41*24 ~ '1-2 years',\n",
    "      age_days > 30.41*24 & age_days <= 30.41*36 ~ '2-3 years',\n",
    "      age_days > 30.41*36 & age_days <= 30.41*48 ~ '3-4 years',\n",
    "      age_days > 30.41*48  ~ '4-5 years'\n",
    "    ) %>% \n",
    "      factor()\n",
    "    ) %>%\n",
    "  mutate(\n",
    "   seasons = case_when(\n",
    "    consultdate < paste(\"2006-\", season_border, sep = \"\")  ~ \"2005/2006\", \n",
    "    (consultdate >= paste(\"2006-\", season_border, sep = \"\") &  consultdate < \"2010-01-01\") ~ \"2006/2007\",\n",
    "    (consultdate >= \"2010-01-01\" &  consultdate < paste(\"2016-\", season_border, sep = \"\")) ~ \"2015/2016\",\n",
    "    consultdate >= paste(\"2016-\", season_border, sep = \"\")  ~ \"2016/2017\")\n",
    "  ) %>% \n",
    "  # Variable for the two cohorts\n",
    "  mutate(\n",
    "    cohort = if_else(seasons == \"2005/2006\" | seasons == \"2006/2007\", \"2006/2007\", \"2016/2017\")\n",
    "      )%>%\n",
    "    mutate(\n",
    "        season_birth = case_when(\n",
    "            Birth_mo %in% spring ~ \"Spring\",\n",
    "            Birth_mo %in% summer ~ \"Summer\",\n",
    "            Birth_mo %in% autumn ~ \"Autumn\",\n",
    "            Birth_mo %in% winter ~ \"Winter\")\n",
    "        ) %>%\n",
    "  mutate(\n",
    "    nursery_house = case_when(\n",
    "      visitnursery_house <= 0 ~ 'False',\n",
    "      visitnursery_house > 0 ~ 'True'\n",
    "    ) %>% \n",
    "      factor()\n",
    "    )%>%\n",
    "    mutate(\n",
    "        pre_term = case_when(\n",
    "            pregnancytime < 37.0 ~ 'True',\n",
    "            pregnancytime >= 37.0 ~ 'False'\n",
    "            ) %>%\n",
    "            factor()\n",
    "        )"
   ]
  },
  {
   "cell_type": "code",
   "execution_count": 6,
   "id": "6c91b2d7-072a-4626-94b2-e027d5e03fb5",
   "metadata": {},
   "outputs": [],
   "source": [
    "rsv.data <- rsv.data %>%\n",
    " mutate(\n",
    "    total_cont = case_when(\n",
    "        contacttotal == 0 ~ '0',\n",
    "        contacttotal >= 1 & contacttotal <= 2 ~ '1-2',\n",
    "        contacttotal >= 3 & contacttotal <= 5 ~ '3-5',\n",
    "        contacttotal >= 6 & contacttotal <= 10 ~ '6-10',\n",
    "        contacttotal >= 11 & contacttotal <= 20 ~ '11-20',\n",
    "        contacttotal >= 21 & contacttotal <= 50 ~ '21-50',\n",
    "        contacttotal > 50  ~ '50+'\n",
    "  )\n",
    ")%>%\n",
    "mutate(\n",
    "    total_cont04 = case_when(\n",
    "        contact04 == 0 ~ '0',\n",
    "        contact04 >= 1 & contact04 <= 2 ~ '1-2',\n",
    "        contact04 >= 3 & contact04 <= 5 ~ '3-5',\n",
    "        contact04 >= 6 & contact04 <= 10 ~ '6-10',\n",
    "        contact04 >= 11 & contact04 <= 20 ~ '11-20',\n",
    "        contact04 >= 21 & contact04 <= 40 ~ '21-40'\n",
    "  )\n",
    ")%>%\n",
    " mutate(\n",
    "    total_cont59 = case_when(\n",
    "        contact59 == 0 ~ '0',\n",
    "        contact59 >= 1 & contact59 <= 2 ~ '1-2',\n",
    "        contact59 >= 3 & contact59 <= 5 ~ '3-5',\n",
    "        contact59 >= 6 & contact59 <= 10 ~ '6-10',\n",
    "        contact59 >= 11 & contact59 <= 20 ~ '11-20',\n",
    "        contact59 >= 21 & contact59 <= 50 ~ '21-50'\n",
    "  )\n",
    ")"
   ]
  },
  {
   "cell_type": "code",
   "execution_count": 8,
   "id": "dbbfe493-d7d0-489c-9b2c-2f73b0d38b01",
   "metadata": {},
   "outputs": [],
   "source": [
    "# remove redundant parameters\n",
    "clean <- subset(rsv.data, select = -c(contact04, contact59, contacttotal, visitnursery_child, visitnursery_house, pregnancytime, household04))"
   ]
  },
  {
   "cell_type": "code",
   "execution_count": 20,
   "id": "b3d4899a-750b-4e6a-a045-4c03da2cb08f",
   "metadata": {},
   "outputs": [],
   "source": [
    "#look at total contacts and nursery only since they are used in the model\n",
    "clean_subs <- subset(clean, select = c(total_cont, Nursery))\n",
    "missing_cont <- subset(clean_subs, is.na(total_cont) == T)\n",
    "missing_cont_and_nursery <- subset(missing_cont, is.na(Nursery) == T)"
   ]
  },
  {
   "cell_type": "code",
   "execution_count": 21,
   "id": "b49fbfc5-7696-462e-ab58-565aead18252",
   "metadata": {},
   "outputs": [
    {
     "data": {
      "text/html": [
       "<table class=\"dataframe\">\n",
       "<caption>A matrix: 5 × 3 of type dbl</caption>\n",
       "<thead>\n",
       "\t<tr><th></th><th scope=col>Nursery</th><th scope=col>total_cont</th><th scope=col></th></tr>\n",
       "</thead>\n",
       "<tbody>\n",
       "\t<tr><th scope=row>568</th><td> 1</td><td> 1</td><td>  0</td></tr>\n",
       "\t<tr><th scope=row>92</th><td> 1</td><td> 0</td><td>  1</td></tr>\n",
       "\t<tr><th scope=row>18</th><td> 0</td><td> 1</td><td>  1</td></tr>\n",
       "\t<tr><th scope=row>4</th><td> 0</td><td> 0</td><td>  2</td></tr>\n",
       "\t<tr><th scope=row></th><td>22</td><td>96</td><td>118</td></tr>\n",
       "</tbody>\n",
       "</table>\n"
      ],
      "text/latex": [
       "A matrix: 5 × 3 of type dbl\n",
       "\\begin{tabular}{r|lll}\n",
       "  & Nursery & total\\_cont & \\\\\n",
       "\\hline\n",
       "\t568 &  1 &  1 &   0\\\\\n",
       "\t92 &  1 &  0 &   1\\\\\n",
       "\t18 &  0 &  1 &   1\\\\\n",
       "\t4 &  0 &  0 &   2\\\\\n",
       "\t & 22 & 96 & 118\\\\\n",
       "\\end{tabular}\n"
      ],
      "text/markdown": [
       "\n",
       "A matrix: 5 × 3 of type dbl\n",
       "\n",
       "| <!--/--> | Nursery | total_cont | <!----> |\n",
       "|---|---|---|---|\n",
       "| 568 |  1 |  1 |   0 |\n",
       "| 92 |  1 |  0 |   1 |\n",
       "| 18 |  0 |  1 |   1 |\n",
       "| 4 |  0 |  0 |   2 |\n",
       "| <!----> | 22 | 96 | 118 |\n",
       "\n"
      ],
      "text/plain": [
       "    Nursery total_cont    \n",
       "568  1       1           0\n",
       "92   1       0           1\n",
       "18   0       1           1\n",
       "4    0       0           2\n",
       "    22      96         118"
      ]
     },
     "metadata": {},
     "output_type": "display_data"
    },
    {
     "data": {
      "image/png": "[encoded data removed]",
      "text/plain": [
       "plot without title"
      ]
     },
     "metadata": {
      "image/png": {
       "height": 540,
       "width": 570
      }
     },
     "output_type": "display_data"
    }
   ],
   "source": [
    "md.pattern(clean_subs, plot = TRUE, rotate.names = FALSE)"
   ]
  },
  {
   "cell_type": "code",
   "execution_count": 11,
   "id": "7688091b-3aa4-4b7b-925d-8bbd3e487866",
   "metadata": {},
   "outputs": [
    {
     "data": {
      "text/html": [
       "<table class=\"dataframe\">\n",
       "<caption>A matrix: 36 × 32 of type dbl</caption>\n",
       "<thead>\n",
       "\t<tr><th></th><th scope=col>age_days</th><th scope=col>birthday</th><th scope=col>consultdate</th><th scope=col>infection</th><th scope=col>IgG_PreF</th><th scope=col>IgG_PostF</th><th scope=col>IgG_Ga</th><th scope=col>IgG_Gb</th><th scope=col>IgG_N</th><th scope=col>household59</th><th scope=col>⋯</th><th scope=col>total_cont</th><th scope=col>total_cont04</th><th scope=col>total_cont59</th><th scope=col>IgA_PreF</th><th scope=col>IgA_PostF</th><th scope=col>IgA_Ga</th><th scope=col>IgA_Gb</th><th scope=col>pre_term</th><th scope=col>IgA_Nn_household</th><th scope=col></th></tr>\n",
       "</thead>\n",
       "<tbody>\n",
       "\t<tr><th scope=row>132</th><td>1</td><td>1</td><td>1</td><td>1</td><td>1</td><td>1</td><td>1</td><td>1</td><td>1</td><td>1</td><td>⋯</td><td> 1</td><td>  1</td><td>  1</td><td>  1</td><td>  1</td><td>  1</td><td>  1</td><td>  1</td><td>  0</td><td>   1</td></tr>\n",
       "\t<tr><th scope=row>201</th><td>1</td><td>1</td><td>1</td><td>1</td><td>1</td><td>1</td><td>1</td><td>1</td><td>1</td><td>1</td><td>⋯</td><td> 1</td><td>  1</td><td>  1</td><td>  1</td><td>  1</td><td>  1</td><td>  1</td><td>  0</td><td>  0</td><td>   2</td></tr>\n",
       "\t<tr><th scope=row>76</th><td>1</td><td>1</td><td>1</td><td>1</td><td>1</td><td>1</td><td>1</td><td>1</td><td>1</td><td>1</td><td>⋯</td><td> 1</td><td>  1</td><td>  1</td><td>  0</td><td>  0</td><td>  0</td><td>  0</td><td>  1</td><td>  0</td><td>   5</td></tr>\n",
       "\t<tr><th scope=row>62</th><td>1</td><td>1</td><td>1</td><td>1</td><td>1</td><td>1</td><td>1</td><td>1</td><td>1</td><td>1</td><td>⋯</td><td> 1</td><td>  1</td><td>  1</td><td>  0</td><td>  0</td><td>  0</td><td>  0</td><td>  0</td><td>  0</td><td>   6</td></tr>\n",
       "\t<tr><th scope=row>30</th><td>1</td><td>1</td><td>1</td><td>1</td><td>1</td><td>1</td><td>1</td><td>1</td><td>1</td><td>1</td><td>⋯</td><td> 1</td><td>  0</td><td>  0</td><td>  1</td><td>  1</td><td>  1</td><td>  1</td><td>  1</td><td>  0</td><td>   3</td></tr>\n",
       "\t<tr><th scope=row>6</th><td>1</td><td>1</td><td>1</td><td>1</td><td>1</td><td>1</td><td>1</td><td>1</td><td>1</td><td>1</td><td>⋯</td><td> 1</td><td>  0</td><td>  0</td><td>  1</td><td>  1</td><td>  1</td><td>  1</td><td>  0</td><td>  0</td><td>   4</td></tr>\n",
       "\t<tr><th scope=row>17</th><td>1</td><td>1</td><td>1</td><td>1</td><td>1</td><td>1</td><td>1</td><td>1</td><td>1</td><td>1</td><td>⋯</td><td> 1</td><td>  0</td><td>  0</td><td>  0</td><td>  0</td><td>  0</td><td>  0</td><td>  1</td><td>  0</td><td>   7</td></tr>\n",
       "\t<tr><th scope=row>3</th><td>1</td><td>1</td><td>1</td><td>1</td><td>1</td><td>1</td><td>1</td><td>1</td><td>1</td><td>1</td><td>⋯</td><td> 1</td><td>  0</td><td>  0</td><td>  0</td><td>  0</td><td>  0</td><td>  0</td><td>  0</td><td>  0</td><td>   8</td></tr>\n",
       "\t<tr><th scope=row>79</th><td>1</td><td>1</td><td>1</td><td>1</td><td>1</td><td>1</td><td>1</td><td>1</td><td>1</td><td>1</td><td>⋯</td><td> 0</td><td>  0</td><td>  0</td><td>  1</td><td>  1</td><td>  1</td><td>  1</td><td>  0</td><td>  0</td><td>   5</td></tr>\n",
       "\t<tr><th scope=row>4</th><td>1</td><td>1</td><td>1</td><td>1</td><td>1</td><td>1</td><td>1</td><td>1</td><td>1</td><td>1</td><td>⋯</td><td> 0</td><td>  0</td><td>  0</td><td>  0</td><td>  0</td><td>  0</td><td>  0</td><td>  0</td><td>  0</td><td>   9</td></tr>\n",
       "\t<tr><th scope=row>8</th><td>1</td><td>1</td><td>1</td><td>1</td><td>1</td><td>1</td><td>1</td><td>1</td><td>1</td><td>1</td><td>⋯</td><td> 1</td><td>  1</td><td>  1</td><td>  1</td><td>  1</td><td>  1</td><td>  1</td><td>  1</td><td>  0</td><td>   3</td></tr>\n",
       "\t<tr><th scope=row>7</th><td>1</td><td>1</td><td>1</td><td>1</td><td>1</td><td>1</td><td>1</td><td>1</td><td>1</td><td>1</td><td>⋯</td><td> 1</td><td>  1</td><td>  1</td><td>  1</td><td>  1</td><td>  1</td><td>  1</td><td>  0</td><td>  0</td><td>   4</td></tr>\n",
       "\t<tr><th scope=row>2</th><td>1</td><td>1</td><td>1</td><td>1</td><td>1</td><td>1</td><td>1</td><td>1</td><td>1</td><td>1</td><td>⋯</td><td> 1</td><td>  1</td><td>  1</td><td>  0</td><td>  0</td><td>  0</td><td>  0</td><td>  1</td><td>  0</td><td>   7</td></tr>\n",
       "\t<tr><th scope=row>2</th><td>1</td><td>1</td><td>1</td><td>1</td><td>1</td><td>1</td><td>1</td><td>1</td><td>1</td><td>1</td><td>⋯</td><td> 1</td><td>  1</td><td>  1</td><td>  0</td><td>  0</td><td>  0</td><td>  0</td><td>  0</td><td>  0</td><td>   8</td></tr>\n",
       "\t<tr><th scope=row>2</th><td>1</td><td>1</td><td>1</td><td>1</td><td>1</td><td>1</td><td>1</td><td>1</td><td>1</td><td>1</td><td>⋯</td><td> 1</td><td>  0</td><td>  0</td><td>  1</td><td>  1</td><td>  1</td><td>  1</td><td>  1</td><td>  0</td><td>   5</td></tr>\n",
       "\t<tr><th scope=row>5</th><td>1</td><td>1</td><td>1</td><td>1</td><td>1</td><td>1</td><td>1</td><td>1</td><td>1</td><td>1</td><td>⋯</td><td> 1</td><td>  0</td><td>  0</td><td>  1</td><td>  1</td><td>  1</td><td>  1</td><td>  0</td><td>  0</td><td>   6</td></tr>\n",
       "\t<tr><th scope=row>9</th><td>1</td><td>1</td><td>1</td><td>1</td><td>1</td><td>1</td><td>1</td><td>1</td><td>1</td><td>1</td><td>⋯</td><td> 1</td><td>  0</td><td>  0</td><td>  0</td><td>  0</td><td>  0</td><td>  0</td><td>  0</td><td>  0</td><td>  10</td></tr>\n",
       "\t<tr><th scope=row>6</th><td>1</td><td>1</td><td>1</td><td>1</td><td>1</td><td>1</td><td>1</td><td>1</td><td>1</td><td>1</td><td>⋯</td><td> 0</td><td>  0</td><td>  0</td><td>  1</td><td>  1</td><td>  1</td><td>  1</td><td>  0</td><td>  0</td><td>   7</td></tr>\n",
       "\t<tr><th scope=row>1</th><td>1</td><td>1</td><td>1</td><td>1</td><td>1</td><td>1</td><td>1</td><td>1</td><td>1</td><td>1</td><td>⋯</td><td> 0</td><td>  0</td><td>  0</td><td>  0</td><td>  0</td><td>  0</td><td>  0</td><td>  0</td><td>  0</td><td>  11</td></tr>\n",
       "\t<tr><th scope=row>3</th><td>1</td><td>1</td><td>1</td><td>1</td><td>1</td><td>1</td><td>1</td><td>1</td><td>1</td><td>1</td><td>⋯</td><td> 1</td><td>  1</td><td>  1</td><td>  1</td><td>  1</td><td>  1</td><td>  1</td><td>  1</td><td>  0</td><td>   2</td></tr>\n",
       "\t<tr><th scope=row>1</th><td>1</td><td>1</td><td>1</td><td>1</td><td>1</td><td>1</td><td>1</td><td>1</td><td>1</td><td>1</td><td>⋯</td><td> 1</td><td>  0</td><td>  0</td><td>  0</td><td>  0</td><td>  0</td><td>  0</td><td>  1</td><td>  0</td><td>   8</td></tr>\n",
       "\t<tr><th scope=row>1</th><td>1</td><td>1</td><td>1</td><td>1</td><td>1</td><td>1</td><td>1</td><td>1</td><td>1</td><td>1</td><td>⋯</td><td> 1</td><td>  0</td><td>  0</td><td>  0</td><td>  0</td><td>  0</td><td>  0</td><td>  0</td><td>  0</td><td>   9</td></tr>\n",
       "\t<tr><th scope=row>1</th><td>1</td><td>1</td><td>1</td><td>1</td><td>1</td><td>1</td><td>1</td><td>1</td><td>1</td><td>1</td><td>⋯</td><td> 0</td><td>  0</td><td>  0</td><td>  1</td><td>  1</td><td>  1</td><td>  1</td><td>  0</td><td>  0</td><td>   6</td></tr>\n",
       "\t<tr><th scope=row>1</th><td>1</td><td>1</td><td>1</td><td>1</td><td>1</td><td>1</td><td>1</td><td>1</td><td>1</td><td>1</td><td>⋯</td><td> 1</td><td>  0</td><td>  0</td><td>  0</td><td>  0</td><td>  0</td><td>  0</td><td>  0</td><td>  0</td><td>  11</td></tr>\n",
       "\t<tr><th scope=row>1</th><td>1</td><td>1</td><td>1</td><td>1</td><td>1</td><td>1</td><td>1</td><td>1</td><td>1</td><td>1</td><td>⋯</td><td> 0</td><td>  0</td><td>  0</td><td>  0</td><td>  0</td><td>  0</td><td>  0</td><td>  0</td><td>  0</td><td>  12</td></tr>\n",
       "\t<tr><th scope=row>1</th><td>1</td><td>1</td><td>1</td><td>1</td><td>1</td><td>1</td><td>1</td><td>1</td><td>1</td><td>1</td><td>⋯</td><td> 1</td><td>  1</td><td>  1</td><td>  1</td><td>  1</td><td>  1</td><td>  1</td><td>  1</td><td>  0</td><td>   3</td></tr>\n",
       "\t<tr><th scope=row>1</th><td>1</td><td>1</td><td>1</td><td>1</td><td>1</td><td>1</td><td>1</td><td>1</td><td>1</td><td>1</td><td>⋯</td><td> 1</td><td>  1</td><td>  1</td><td>  1</td><td>  1</td><td>  1</td><td>  1</td><td>  0</td><td>  0</td><td>   4</td></tr>\n",
       "\t<tr><th scope=row>2</th><td>1</td><td>1</td><td>1</td><td>1</td><td>1</td><td>1</td><td>1</td><td>1</td><td>1</td><td>1</td><td>⋯</td><td> 1</td><td>  1</td><td>  1</td><td>  0</td><td>  0</td><td>  0</td><td>  0</td><td>  0</td><td>  0</td><td>   8</td></tr>\n",
       "\t<tr><th scope=row>1</th><td>1</td><td>1</td><td>1</td><td>1</td><td>1</td><td>1</td><td>1</td><td>1</td><td>1</td><td>1</td><td>⋯</td><td> 1</td><td>  0</td><td>  0</td><td>  1</td><td>  1</td><td>  1</td><td>  1</td><td>  1</td><td>  0</td><td>   5</td></tr>\n",
       "\t<tr><th scope=row>5</th><td>1</td><td>1</td><td>1</td><td>1</td><td>1</td><td>1</td><td>1</td><td>1</td><td>1</td><td>1</td><td>⋯</td><td> 1</td><td>  1</td><td>  1</td><td>  1</td><td>  1</td><td>  1</td><td>  1</td><td>  1</td><td>  0</td><td>   5</td></tr>\n",
       "\t<tr><th scope=row>2</th><td>1</td><td>1</td><td>1</td><td>1</td><td>1</td><td>1</td><td>1</td><td>1</td><td>1</td><td>1</td><td>⋯</td><td> 1</td><td>  1</td><td>  1</td><td>  0</td><td>  0</td><td>  0</td><td>  0</td><td>  1</td><td>  0</td><td>   9</td></tr>\n",
       "\t<tr><th scope=row>2</th><td>1</td><td>1</td><td>1</td><td>1</td><td>1</td><td>1</td><td>1</td><td>1</td><td>1</td><td>1</td><td>⋯</td><td> 1</td><td>  0</td><td>  0</td><td>  1</td><td>  1</td><td>  1</td><td>  1</td><td>  1</td><td>  0</td><td>   7</td></tr>\n",
       "\t<tr><th scope=row>4</th><td>1</td><td>1</td><td>1</td><td>1</td><td>1</td><td>1</td><td>1</td><td>1</td><td>1</td><td>1</td><td>⋯</td><td> 1</td><td>  0</td><td>  0</td><td>  1</td><td>  1</td><td>  1</td><td>  1</td><td>  0</td><td>  0</td><td>   8</td></tr>\n",
       "\t<tr><th scope=row>3</th><td>1</td><td>1</td><td>1</td><td>1</td><td>1</td><td>1</td><td>1</td><td>1</td><td>1</td><td>1</td><td>⋯</td><td> 0</td><td>  0</td><td>  0</td><td>  1</td><td>  1</td><td>  1</td><td>  1</td><td>  0</td><td>  0</td><td>   9</td></tr>\n",
       "\t<tr><th scope=row>1</th><td>1</td><td>1</td><td>1</td><td>1</td><td>1</td><td>1</td><td>1</td><td>1</td><td>1</td><td>1</td><td>⋯</td><td> 0</td><td>  0</td><td>  0</td><td>  0</td><td>  0</td><td>  0</td><td>  0</td><td>  0</td><td>  0</td><td>  13</td></tr>\n",
       "\t<tr><th scope=row></th><td>0</td><td>0</td><td>0</td><td>0</td><td>0</td><td>0</td><td>0</td><td>0</td><td>0</td><td>0</td><td>⋯</td><td>96</td><td>178</td><td>178</td><td>185</td><td>185</td><td>185</td><td>185</td><td>400</td><td>682</td><td>2448</td></tr>\n",
       "</tbody>\n",
       "</table>\n"
      ],
      "text/latex": [
       "A matrix: 36 × 32 of type dbl\n",
       "\\begin{tabular}{r|lllllllllllllllllllll}\n",
       "  & age\\_days & birthday & consultdate & infection & IgG\\_PreF & IgG\\_PostF & IgG\\_Ga & IgG\\_Gb & IgG\\_N & household59 & ⋯ & total\\_cont & total\\_cont04 & total\\_cont59 & IgA\\_PreF & IgA\\_PostF & IgA\\_Ga & IgA\\_Gb & pre\\_term & IgA\\_Nn\\_household & \\\\\n",
       "\\hline\n",
       "\t132 & 1 & 1 & 1 & 1 & 1 & 1 & 1 & 1 & 1 & 1 & ⋯ &  1 &   1 &   1 &   1 &   1 &   1 &   1 &   1 &   0 &    1\\\\\n",
       "\t201 & 1 & 1 & 1 & 1 & 1 & 1 & 1 & 1 & 1 & 1 & ⋯ &  1 &   1 &   1 &   1 &   1 &   1 &   1 &   0 &   0 &    2\\\\\n",
       "\t76 & 1 & 1 & 1 & 1 & 1 & 1 & 1 & 1 & 1 & 1 & ⋯ &  1 &   1 &   1 &   0 &   0 &   0 &   0 &   1 &   0 &    5\\\\\n",
       "\t62 & 1 & 1 & 1 & 1 & 1 & 1 & 1 & 1 & 1 & 1 & ⋯ &  1 &   1 &   1 &   0 &   0 &   0 &   0 &   0 &   0 &    6\\\\\n",
       "\t30 & 1 & 1 & 1 & 1 & 1 & 1 & 1 & 1 & 1 & 1 & ⋯ &  1 &   0 &   0 &   1 &   1 &   1 &   1 &   1 &   0 &    3\\\\\n",
       "\t6 & 1 & 1 & 1 & 1 & 1 & 1 & 1 & 1 & 1 & 1 & ⋯ &  1 &   0 &   0 &   1 &   1 &   1 &   1 &   0 &   0 &    4\\\\\n",
       "\t17 & 1 & 1 & 1 & 1 & 1 & 1 & 1 & 1 & 1 & 1 & ⋯ &  1 &   0 &   0 &   0 &   0 &   0 &   0 &   1 &   0 &    7\\\\\n",
       "\t3 & 1 & 1 & 1 & 1 & 1 & 1 & 1 & 1 & 1 & 1 & ⋯ &  1 &   0 &   0 &   0 &   0 &   0 &   0 &   0 &   0 &    8\\\\\n",
       "\t79 & 1 & 1 & 1 & 1 & 1 & 1 & 1 & 1 & 1 & 1 & ⋯ &  0 &   0 &   0 &   1 &   1 &   1 &   1 &   0 &   0 &    5\\\\\n",
       "\t4 & 1 & 1 & 1 & 1 & 1 & 1 & 1 & 1 & 1 & 1 & ⋯ &  0 &   0 &   0 &   0 &   0 &   0 &   0 &   0 &   0 &    9\\\\\n",
       "\t8 & 1 & 1 & 1 & 1 & 1 & 1 & 1 & 1 & 1 & 1 & ⋯ &  1 &   1 &   1 &   1 &   1 &   1 &   1 &   1 &   0 &    3\\\\\n",
       "\t7 & 1 & 1 & 1 & 1 & 1 & 1 & 1 & 1 & 1 & 1 & ⋯ &  1 &   1 &   1 &   1 &   1 &   1 &   1 &   0 &   0 &    4\\\\\n",
       "\t2 & 1 & 1 & 1 & 1 & 1 & 1 & 1 & 1 & 1 & 1 & ⋯ &  1 &   1 &   1 &   0 &   0 &   0 &   0 &   1 &   0 &    7\\\\\n",
       "\t2 & 1 & 1 & 1 & 1 & 1 & 1 & 1 & 1 & 1 & 1 & ⋯ &  1 &   1 &   1 &   0 &   0 &   0 &   0 &   0 &   0 &    8\\\\\n",
       "\t2 & 1 & 1 & 1 & 1 & 1 & 1 & 1 & 1 & 1 & 1 & ⋯ &  1 &   0 &   0 &   1 &   1 &   1 &   1 &   1 &   0 &    5\\\\\n",
       "\t5 & 1 & 1 & 1 & 1 & 1 & 1 & 1 & 1 & 1 & 1 & ⋯ &  1 &   0 &   0 &   1 &   1 &   1 &   1 &   0 &   0 &    6\\\\\n",
       "\t9 & 1 & 1 & 1 & 1 & 1 & 1 & 1 & 1 & 1 & 1 & ⋯ &  1 &   0 &   0 &   0 &   0 &   0 &   0 &   0 &   0 &   10\\\\\n",
       "\t6 & 1 & 1 & 1 & 1 & 1 & 1 & 1 & 1 & 1 & 1 & ⋯ &  0 &   0 &   0 &   1 &   1 &   1 &   1 &   0 &   0 &    7\\\\\n",
       "\t1 & 1 & 1 & 1 & 1 & 1 & 1 & 1 & 1 & 1 & 1 & ⋯ &  0 &   0 &   0 &   0 &   0 &   0 &   0 &   0 &   0 &   11\\\\\n",
       "\t3 & 1 & 1 & 1 & 1 & 1 & 1 & 1 & 1 & 1 & 1 & ⋯ &  1 &   1 &   1 &   1 &   1 &   1 &   1 &   1 &   0 &    2\\\\\n",
       "\t1 & 1 & 1 & 1 & 1 & 1 & 1 & 1 & 1 & 1 & 1 & ⋯ &  1 &   0 &   0 &   0 &   0 &   0 &   0 &   1 &   0 &    8\\\\\n",
       "\t1 & 1 & 1 & 1 & 1 & 1 & 1 & 1 & 1 & 1 & 1 & ⋯ &  1 &   0 &   0 &   0 &   0 &   0 &   0 &   0 &   0 &    9\\\\\n",
       "\t1 & 1 & 1 & 1 & 1 & 1 & 1 & 1 & 1 & 1 & 1 & ⋯ &  0 &   0 &   0 &   1 &   1 &   1 &   1 &   0 &   0 &    6\\\\\n",
       "\t1 & 1 & 1 & 1 & 1 & 1 & 1 & 1 & 1 & 1 & 1 & ⋯ &  1 &   0 &   0 &   0 &   0 &   0 &   0 &   0 &   0 &   11\\\\\n",
       "\t1 & 1 & 1 & 1 & 1 & 1 & 1 & 1 & 1 & 1 & 1 & ⋯ &  0 &   0 &   0 &   0 &   0 &   0 &   0 &   0 &   0 &   12\\\\\n",
       "\t1 & 1 & 1 & 1 & 1 & 1 & 1 & 1 & 1 & 1 & 1 & ⋯ &  1 &   1 &   1 &   1 &   1 &   1 &   1 &   1 &   0 &    3\\\\\n",
       "\t1 & 1 & 1 & 1 & 1 & 1 & 1 & 1 & 1 & 1 & 1 & ⋯ &  1 &   1 &   1 &   1 &   1 &   1 &   1 &   0 &   0 &    4\\\\\n",
       "\t2 & 1 & 1 & 1 & 1 & 1 & 1 & 1 & 1 & 1 & 1 & ⋯ &  1 &   1 &   1 &   0 &   0 &   0 &   0 &   0 &   0 &    8\\\\\n",
       "\t1 & 1 & 1 & 1 & 1 & 1 & 1 & 1 & 1 & 1 & 1 & ⋯ &  1 &   0 &   0 &   1 &   1 &   1 &   1 &   1 &   0 &    5\\\\\n",
       "\t5 & 1 & 1 & 1 & 1 & 1 & 1 & 1 & 1 & 1 & 1 & ⋯ &  1 &   1 &   1 &   1 &   1 &   1 &   1 &   1 &   0 &    5\\\\\n",
       "\t2 & 1 & 1 & 1 & 1 & 1 & 1 & 1 & 1 & 1 & 1 & ⋯ &  1 &   1 &   1 &   0 &   0 &   0 &   0 &   1 &   0 &    9\\\\\n",
       "\t2 & 1 & 1 & 1 & 1 & 1 & 1 & 1 & 1 & 1 & 1 & ⋯ &  1 &   0 &   0 &   1 &   1 &   1 &   1 &   1 &   0 &    7\\\\\n",
       "\t4 & 1 & 1 & 1 & 1 & 1 & 1 & 1 & 1 & 1 & 1 & ⋯ &  1 &   0 &   0 &   1 &   1 &   1 &   1 &   0 &   0 &    8\\\\\n",
       "\t3 & 1 & 1 & 1 & 1 & 1 & 1 & 1 & 1 & 1 & 1 & ⋯ &  0 &   0 &   0 &   1 &   1 &   1 &   1 &   0 &   0 &    9\\\\\n",
       "\t1 & 1 & 1 & 1 & 1 & 1 & 1 & 1 & 1 & 1 & 1 & ⋯ &  0 &   0 &   0 &   0 &   0 &   0 &   0 &   0 &   0 &   13\\\\\n",
       "\t & 0 & 0 & 0 & 0 & 0 & 0 & 0 & 0 & 0 & 0 & ⋯ & 96 & 178 & 178 & 185 & 185 & 185 & 185 & 400 & 682 & 2448\\\\\n",
       "\\end{tabular}\n"
      ],
      "text/markdown": [
       "\n",
       "A matrix: 36 × 32 of type dbl\n",
       "\n",
       "| <!--/--> | age_days | birthday | consultdate | infection | IgG_PreF | IgG_PostF | IgG_Ga | IgG_Gb | IgG_N | household59 | ⋯ | total_cont | total_cont04 | total_cont59 | IgA_PreF | IgA_PostF | IgA_Ga | IgA_Gb | pre_term | IgA_Nn_household | <!----> |\n",
       "|---|---|---|---|---|---|---|---|---|---|---|---|---|---|---|---|---|---|---|---|---|---|\n",
       "| 132 | 1 | 1 | 1 | 1 | 1 | 1 | 1 | 1 | 1 | 1 | ⋯ |  1 |   1 |   1 |   1 |   1 |   1 |   1 |   1 |   0 |    1 |\n",
       "| 201 | 1 | 1 | 1 | 1 | 1 | 1 | 1 | 1 | 1 | 1 | ⋯ |  1 |   1 |   1 |   1 |   1 |   1 |   1 |   0 |   0 |    2 |\n",
       "| 76 | 1 | 1 | 1 | 1 | 1 | 1 | 1 | 1 | 1 | 1 | ⋯ |  1 |   1 |   1 |   0 |   0 |   0 |   0 |   1 |   0 |    5 |\n",
       "| 62 | 1 | 1 | 1 | 1 | 1 | 1 | 1 | 1 | 1 | 1 | ⋯ |  1 |   1 |   1 |   0 |   0 |   0 |   0 |   0 |   0 |    6 |\n",
       "| 30 | 1 | 1 | 1 | 1 | 1 | 1 | 1 | 1 | 1 | 1 | ⋯ |  1 |   0 |   0 |   1 |   1 |   1 |   1 |   1 |   0 |    3 |\n",
       "| 6 | 1 | 1 | 1 | 1 | 1 | 1 | 1 | 1 | 1 | 1 | ⋯ |  1 |   0 |   0 |   1 |   1 |   1 |   1 |   0 |   0 |    4 |\n",
       "| 17 | 1 | 1 | 1 | 1 | 1 | 1 | 1 | 1 | 1 | 1 | ⋯ |  1 |   0 |   0 |   0 |   0 |   0 |   0 |   1 |   0 |    7 |\n",
       "| 3 | 1 | 1 | 1 | 1 | 1 | 1 | 1 | 1 | 1 | 1 | ⋯ |  1 |   0 |   0 |   0 |   0 |   0 |   0 |   0 |   0 |    8 |\n",
       "| 79 | 1 | 1 | 1 | 1 | 1 | 1 | 1 | 1 | 1 | 1 | ⋯ |  0 |   0 |   0 |   1 |   1 |   1 |   1 |   0 |   0 |    5 |\n",
       "| 4 | 1 | 1 | 1 | 1 | 1 | 1 | 1 | 1 | 1 | 1 | ⋯ |  0 |   0 |   0 |   0 |   0 |   0 |   0 |   0 |   0 |    9 |\n",
       "| 8 | 1 | 1 | 1 | 1 | 1 | 1 | 1 | 1 | 1 | 1 | ⋯ |  1 |   1 |   1 |   1 |   1 |   1 |   1 |   1 |   0 |    3 |\n",
       "| 7 | 1 | 1 | 1 | 1 | 1 | 1 | 1 | 1 | 1 | 1 | ⋯ |  1 |   1 |   1 |   1 |   1 |   1 |   1 |   0 |   0 |    4 |\n",
       "| 2 | 1 | 1 | 1 | 1 | 1 | 1 | 1 | 1 | 1 | 1 | ⋯ |  1 |   1 |   1 |   0 |   0 |   0 |   0 |   1 |   0 |    7 |\n",
       "| 2 | 1 | 1 | 1 | 1 | 1 | 1 | 1 | 1 | 1 | 1 | ⋯ |  1 |   1 |   1 |   0 |   0 |   0 |   0 |   0 |   0 |    8 |\n",
       "| 2 | 1 | 1 | 1 | 1 | 1 | 1 | 1 | 1 | 1 | 1 | ⋯ |  1 |   0 |   0 |   1 |   1 |   1 |   1 |   1 |   0 |    5 |\n",
       "| 5 | 1 | 1 | 1 | 1 | 1 | 1 | 1 | 1 | 1 | 1 | ⋯ |  1 |   0 |   0 |   1 |   1 |   1 |   1 |   0 |   0 |    6 |\n",
       "| 9 | 1 | 1 | 1 | 1 | 1 | 1 | 1 | 1 | 1 | 1 | ⋯ |  1 |   0 |   0 |   0 |   0 |   0 |   0 |   0 |   0 |   10 |\n",
       "| 6 | 1 | 1 | 1 | 1 | 1 | 1 | 1 | 1 | 1 | 1 | ⋯ |  0 |   0 |   0 |   1 |   1 |   1 |   1 |   0 |   0 |    7 |\n",
       "| 1 | 1 | 1 | 1 | 1 | 1 | 1 | 1 | 1 | 1 | 1 | ⋯ |  0 |   0 |   0 |   0 |   0 |   0 |   0 |   0 |   0 |   11 |\n",
       "| 3 | 1 | 1 | 1 | 1 | 1 | 1 | 1 | 1 | 1 | 1 | ⋯ |  1 |   1 |   1 |   1 |   1 |   1 |   1 |   1 |   0 |    2 |\n",
       "| 1 | 1 | 1 | 1 | 1 | 1 | 1 | 1 | 1 | 1 | 1 | ⋯ |  1 |   0 |   0 |   0 |   0 |   0 |   0 |   1 |   0 |    8 |\n",
       "| 1 | 1 | 1 | 1 | 1 | 1 | 1 | 1 | 1 | 1 | 1 | ⋯ |  1 |   0 |   0 |   0 |   0 |   0 |   0 |   0 |   0 |    9 |\n",
       "| 1 | 1 | 1 | 1 | 1 | 1 | 1 | 1 | 1 | 1 | 1 | ⋯ |  0 |   0 |   0 |   1 |   1 |   1 |   1 |   0 |   0 |    6 |\n",
       "| 1 | 1 | 1 | 1 | 1 | 1 | 1 | 1 | 1 | 1 | 1 | ⋯ |  1 |   0 |   0 |   0 |   0 |   0 |   0 |   0 |   0 |   11 |\n",
       "| 1 | 1 | 1 | 1 | 1 | 1 | 1 | 1 | 1 | 1 | 1 | ⋯ |  0 |   0 |   0 |   0 |   0 |   0 |   0 |   0 |   0 |   12 |\n",
       "| 1 | 1 | 1 | 1 | 1 | 1 | 1 | 1 | 1 | 1 | 1 | ⋯ |  1 |   1 |   1 |   1 |   1 |   1 |   1 |   1 |   0 |    3 |\n",
       "| 1 | 1 | 1 | 1 | 1 | 1 | 1 | 1 | 1 | 1 | 1 | ⋯ |  1 |   1 |   1 |   1 |   1 |   1 |   1 |   0 |   0 |    4 |\n",
       "| 2 | 1 | 1 | 1 | 1 | 1 | 1 | 1 | 1 | 1 | 1 | ⋯ |  1 |   1 |   1 |   0 |   0 |   0 |   0 |   0 |   0 |    8 |\n",
       "| 1 | 1 | 1 | 1 | 1 | 1 | 1 | 1 | 1 | 1 | 1 | ⋯ |  1 |   0 |   0 |   1 |   1 |   1 |   1 |   1 |   0 |    5 |\n",
       "| 5 | 1 | 1 | 1 | 1 | 1 | 1 | 1 | 1 | 1 | 1 | ⋯ |  1 |   1 |   1 |   1 |   1 |   1 |   1 |   1 |   0 |    5 |\n",
       "| 2 | 1 | 1 | 1 | 1 | 1 | 1 | 1 | 1 | 1 | 1 | ⋯ |  1 |   1 |   1 |   0 |   0 |   0 |   0 |   1 |   0 |    9 |\n",
       "| 2 | 1 | 1 | 1 | 1 | 1 | 1 | 1 | 1 | 1 | 1 | ⋯ |  1 |   0 |   0 |   1 |   1 |   1 |   1 |   1 |   0 |    7 |\n",
       "| 4 | 1 | 1 | 1 | 1 | 1 | 1 | 1 | 1 | 1 | 1 | ⋯ |  1 |   0 |   0 |   1 |   1 |   1 |   1 |   0 |   0 |    8 |\n",
       "| 3 | 1 | 1 | 1 | 1 | 1 | 1 | 1 | 1 | 1 | 1 | ⋯ |  0 |   0 |   0 |   1 |   1 |   1 |   1 |   0 |   0 |    9 |\n",
       "| 1 | 1 | 1 | 1 | 1 | 1 | 1 | 1 | 1 | 1 | 1 | ⋯ |  0 |   0 |   0 |   0 |   0 |   0 |   0 |   0 |   0 |   13 |\n",
       "| <!----> | 0 | 0 | 0 | 0 | 0 | 0 | 0 | 0 | 0 | 0 | ⋯ | 96 | 178 | 178 | 185 | 185 | 185 | 185 | 400 | 682 | 2448 |\n",
       "\n"
      ],
      "text/plain": [
       "    age_days birthday consultdate infection IgG_PreF IgG_PostF IgG_Ga IgG_Gb\n",
       "132 1        1        1           1         1        1         1      1     \n",
       "201 1        1        1           1         1        1         1      1     \n",
       "76  1        1        1           1         1        1         1      1     \n",
       "62  1        1        1           1         1        1         1      1     \n",
       "30  1        1        1           1         1        1         1      1     \n",
       "6   1        1        1           1         1        1         1      1     \n",
       "17  1        1        1           1         1        1         1      1     \n",
       "3   1        1        1           1         1        1         1      1     \n",
       "79  1        1        1           1         1        1         1      1     \n",
       "4   1        1        1           1         1        1         1      1     \n",
       "8   1        1        1           1         1        1         1      1     \n",
       "7   1        1        1           1         1        1         1      1     \n",
       "2   1        1        1           1         1        1         1      1     \n",
       "2   1        1        1           1         1        1         1      1     \n",
       "2   1        1        1           1         1        1         1      1     \n",
       "5   1        1        1           1         1        1         1      1     \n",
       "9   1        1        1           1         1        1         1      1     \n",
       "6   1        1        1           1         1        1         1      1     \n",
       "1   1        1        1           1         1        1         1      1     \n",
       "3   1        1        1           1         1        1         1      1     \n",
       "1   1        1        1           1         1        1         1      1     \n",
       "1   1        1        1           1         1        1         1      1     \n",
       "1   1        1        1           1         1        1         1      1     \n",
       "1   1        1        1           1         1        1         1      1     \n",
       "1   1        1        1           1         1        1         1      1     \n",
       "1   1        1        1           1         1        1         1      1     \n",
       "1   1        1        1           1         1        1         1      1     \n",
       "2   1        1        1           1         1        1         1      1     \n",
       "1   1        1        1           1         1        1         1      1     \n",
       "5   1        1        1           1         1        1         1      1     \n",
       "2   1        1        1           1         1        1         1      1     \n",
       "2   1        1        1           1         1        1         1      1     \n",
       "4   1        1        1           1         1        1         1      1     \n",
       "3   1        1        1           1         1        1         1      1     \n",
       "1   1        1        1           1         1        1         1      1     \n",
       "    0        0        0           0         0        0         0      0     \n",
       "    IgG_N household59 <U+22EF>        total_cont total_cont04 total_cont59 IgA_PreF\n",
       "132 1     1           <U+22EF>  1           1            1            1     \n",
       "201 1     1           <U+22EF>  1           1            1            1     \n",
       "76  1     1           <U+22EF>  1           1            1            0     \n",
       "62  1     1           <U+22EF>  1           1            1            0     \n",
       "30  1     1           <U+22EF>  1           0            0            1     \n",
       "6   1     1           <U+22EF>  1           0            0            1     \n",
       "17  1     1           <U+22EF>  1           0            0            0     \n",
       "3   1     1           <U+22EF>  1           0            0            0     \n",
       "79  1     1           <U+22EF>  0           0            0            1     \n",
       "4   1     1           <U+22EF>  0           0            0            0     \n",
       "8   1     1           <U+22EF>  1           1            1            1     \n",
       "7   1     1           <U+22EF>  1           1            1            1     \n",
       "2   1     1           <U+22EF>  1           1            1            0     \n",
       "2   1     1           <U+22EF>  1           1            1            0     \n",
       "2   1     1           <U+22EF>  1           0            0            1     \n",
       "5   1     1           <U+22EF>  1           0            0            1     \n",
       "9   1     1           <U+22EF>  1           0            0            0     \n",
       "6   1     1           <U+22EF>  0           0            0            1     \n",
       "1   1     1           <U+22EF>  0           0            0            0     \n",
       "3   1     1           <U+22EF>  1           1            1            1     \n",
       "1   1     1           <U+22EF>  1           0            0            0     \n",
       "1   1     1           <U+22EF>  1           0            0            0     \n",
       "1   1     1           <U+22EF>  0           0            0            1     \n",
       "1   1     1           <U+22EF>  1           0            0            0     \n",
       "1   1     1           <U+22EF>  0           0            0            0     \n",
       "1   1     1           <U+22EF>  1           1            1            1     \n",
       "1   1     1           <U+22EF>  1           1            1            1     \n",
       "2   1     1           <U+22EF>  1           1            1            0     \n",
       "1   1     1           <U+22EF>  1           0            0            1     \n",
       "5   1     1           <U+22EF>  1           1            1            1     \n",
       "2   1     1           <U+22EF>  1           1            1            0     \n",
       "2   1     1           <U+22EF>  1           0            0            1     \n",
       "4   1     1           <U+22EF>  1           0            0            1     \n",
       "3   1     1           <U+22EF>  0           0            0            1     \n",
       "1   1     1           <U+22EF>  0           0            0            0     \n",
       "    0     0           <U+22EF> 96         178          178          185     \n",
       "    IgA_PostF IgA_Ga IgA_Gb pre_term IgA_Nn_household     \n",
       "132   1         1      1      1        0                 1\n",
       "201   1         1      1      0        0                 2\n",
       "76    0         0      0      1        0                 5\n",
       "62    0         0      0      0        0                 6\n",
       "30    1         1      1      1        0                 3\n",
       "6     1         1      1      0        0                 4\n",
       "17    0         0      0      1        0                 7\n",
       "3     0         0      0      0        0                 8\n",
       "79    1         1      1      0        0                 5\n",
       "4     0         0      0      0        0                 9\n",
       "8     1         1      1      1        0                 3\n",
       "7     1         1      1      0        0                 4\n",
       "2     0         0      0      1        0                 7\n",
       "2     0         0      0      0        0                 8\n",
       "2     1         1      1      1        0                 5\n",
       "5     1         1      1      0        0                 6\n",
       "9     0         0      0      0        0                10\n",
       "6     1         1      1      0        0                 7\n",
       "1     0         0      0      0        0                11\n",
       "3     1         1      1      1        0                 2\n",
       "1     0         0      0      1        0                 8\n",
       "1     0         0      0      0        0                 9\n",
       "1     1         1      1      0        0                 6\n",
       "1     0         0      0      0        0                11\n",
       "1     0         0      0      0        0                12\n",
       "1     1         1      1      1        0                 3\n",
       "1     1         1      1      0        0                 4\n",
       "2     0         0      0      0        0                 8\n",
       "1     1         1      1      1        0                 5\n",
       "5     1         1      1      1        0                 5\n",
       "2     0         0      0      1        0                 9\n",
       "2     1         1      1      1        0                 7\n",
       "4     1         1      1      0        0                 8\n",
       "3     1         1      1      0        0                 9\n",
       "1     0         0      0      0        0                13\n",
       "    185       185    185    400      682              2448"
      ]
     },
     "metadata": {},
     "output_type": "display_data"
    },
    {
     "data": {
      "image/png": "[encoded data removed]",
      "text/plain": [
       "plot without title"
      ]
     },
     "metadata": {
      "image/png": {
       "height": 420,
       "width": 420
      }
     },
     "output_type": "display_data"
    }
   ],
   "source": [
    "md.pattern(clean, plot = TRUE, rotate.names = FALSE)"
   ]
  },
  {
   "cell_type": "code",
   "execution_count": 19,
   "id": "67d73811-fb28-44c6-b9c0-c532692df6a9",
   "metadata": {},
   "outputs": [
    {
     "name": "stderr",
     "output_type": "stream",
     "text": [
      "Warning message:\n",
      "\"attributes are not identical across measure variables;\n",
      "they will be dropped\"\n",
      "\u001b[1m\u001b[22m`summarise()` has grouped output by 'key', 'total'. You can override using the `.groups` argument.\n",
      "Warning message:\n",
      "\"Removed 18 rows containing missing values (position_stack).\"\n"
     ]
    },
    {
     "data": {
      "image/png": "[encoded data removed]",
      "text/plain": [
       "plot without title"
      ]
     },
     "metadata": {
      "image/png": {
       "height": 540,
       "width": 570
      }
     },
     "output_type": "display_data"
    }
   ],
   "source": [
    "missing.values <- clean %>%\n",
    "  gather(key = \"key\", value = \"val\") %>%\n",
    "  mutate(isna = is.na(val)) %>%\n",
    "  group_by(key) %>%\n",
    "  mutate(total = n()) %>%\n",
    "  group_by(key, total, isna) %>%\n",
    "  summarise(num.isna = n()) %>%\n",
    "  mutate(pct = num.isna / total * 100)\n",
    "\n",
    "levels <- (missing.values  %>% filter(isna == T) %>% arrange(desc(pct)))$key\n",
    "\n",
    "percentage.plot <- missing.values %>%\n",
    "      ggplot() +\n",
    "        geom_bar(aes(x = reorder(key, desc(pct)), \n",
    "                     y = pct, fill=isna), \n",
    "                 stat = 'identity', alpha=0.8) +\n",
    "      scale_x_discrete(limits = levels) +\n",
    "      scale_fill_manual(name = \"\", \n",
    "                        values = c('steelblue', 'tomato3'), labels = c(\"Present\", \"Missing\")) +\n",
    "      coord_flip() +\n",
    "      labs(title = \"Percentage of missing values\", x =\n",
    "             'Variable', y = \"% of missing values\")\n",
    "\n",
    "percentage.plot"
   ]
  },
  {
   "cell_type": "code",
   "execution_count": 16,
   "id": "df719873-89b5-4832-b78d-8319e6945c8e",
   "metadata": {},
   "outputs": [
    {
     "name": "stderr",
     "output_type": "stream",
     "text": [
      "Warning message:\n",
      "\"attributes are not identical across measure variables;\n",
      "they will be dropped\"\n",
      "Warning message:\n",
      "\"Removed 12276 rows containing missing values (geom_raster).\"\n"
     ]
    },
    {
     "data": {
      "image/png": "[encoded data removed]",
      "text/plain": [
       "plot without title"
      ]
     },
     "metadata": {
      "image/png": {
       "height": 540,
       "width": 570
      }
     },
     "output_type": "display_data"
    }
   ],
   "source": [
    "options(repr.plot.width = 9.5, repr.plot.height = 9) \n",
    "row.plot <- clean %>%\n",
    "  mutate(id = row_number()) %>%\n",
    "  gather(-id, key = \"key\", value = \"val\") %>%\n",
    "  mutate(isna = is.na(val)) %>%\n",
    "  ggplot(aes(key, id, fill = isna)) +\n",
    "    geom_raster(alpha=0.8) +\n",
    "    scale_fill_manual(name = \"\",\n",
    "        values = c('steelblue', 'tomato3'),\n",
    "        labels = c(\"Present\", \"Missing\")) +\n",
    "    scale_x_discrete(limits = levels) +\n",
    "    labs(x = \"Variable\",\n",
    "           y = \"Row Number\", title = \"Missing values in rows\") +\n",
    "    coord_flip()\n",
    "\n",
    "row.plot"
   ]
  },
  {
   "cell_type": "code",
   "execution_count": 24,
   "id": "dd068b95-1d2b-4faa-a380-238104786f47",
   "metadata": {},
   "outputs": [
    {
     "data": {
      "text/html": [
       "<table class=\"dataframe\">\n",
       "<caption>A tibble: 19 × 7</caption>\n",
       "<thead>\n",
       "\t<tr><th scope=col>variable</th><th scope=col>n</th><th scope=col>min</th><th scope=col>max</th><th scope=col>median</th><th scope=col>mean</th><th scope=col>sd</th></tr>\n",
       "\t<tr><th scope=col>&lt;chr&gt;</th><th scope=col>&lt;dbl&gt;</th><th scope=col>&lt;dbl&gt;</th><th scope=col>&lt;dbl&gt;</th><th scope=col>&lt;dbl&gt;</th><th scope=col>&lt;dbl&gt;</th><th scope=col>&lt;dbl&gt;</th></tr>\n",
       "</thead>\n",
       "<tbody>\n",
       "\t<tr><td>age_days          </td><td>96</td><td>36.00</td><td>1843.000</td><td>181.000</td><td>269.771</td><td>302.966</td></tr>\n",
       "\t<tr><td>Birth_doy         </td><td>96</td><td> 8.00</td><td> 364.000</td><td>207.500</td><td>201.615</td><td>103.485</td></tr>\n",
       "\t<tr><td>Birth_mo          </td><td>96</td><td> 1.00</td><td>  12.000</td><td>  7.000</td><td>  7.094</td><td>  3.412</td></tr>\n",
       "\t<tr><td>household04       </td><td>84</td><td> 1.00</td><td>   3.000</td><td>  1.000</td><td>  1.548</td><td>  0.609</td></tr>\n",
       "\t<tr><td>household04_counts</td><td>84</td><td> 1.00</td><td>   3.000</td><td>  1.000</td><td>  1.548</td><td>  0.609</td></tr>\n",
       "\t<tr><td>household59       </td><td>96</td><td> 0.00</td><td>   3.000</td><td>  0.000</td><td>  0.292</td><td>  0.614</td></tr>\n",
       "\t<tr><td>IgA_Ga            </td><td>89</td><td> 0.01</td><td>   1.000</td><td>  0.020</td><td>  0.040</td><td>  0.105</td></tr>\n",
       "\t<tr><td>IgA_Gb            </td><td>89</td><td> 0.01</td><td>   0.530</td><td>  0.020</td><td>  0.028</td><td>  0.056</td></tr>\n",
       "\t<tr><td>IgA_PostF         </td><td>89</td><td> 0.02</td><td>  29.860</td><td>  0.050</td><td>  1.385</td><td>  4.940</td></tr>\n",
       "\t<tr><td>IgA_PreF          </td><td>89</td><td> 0.02</td><td>  32.250</td><td>  0.020</td><td>  0.714</td><td>  3.537</td></tr>\n",
       "\t<tr><td>IgG_Ga            </td><td>96</td><td> 0.05</td><td>  41.361</td><td>  0.782</td><td>  2.772</td><td>  5.965</td></tr>\n",
       "\t<tr><td>IgG_Gb            </td><td>96</td><td> 0.05</td><td> 119.870</td><td>  1.585</td><td>  5.663</td><td> 13.768</td></tr>\n",
       "\t<tr><td>IgG_N             </td><td>96</td><td> 0.96</td><td>1398.900</td><td> 67.284</td><td>157.523</td><td>246.957</td></tr>\n",
       "\t<tr><td>IgG_PostF         </td><td>96</td><td> 0.15</td><td>1938.090</td><td> 45.738</td><td>151.881</td><td>296.034</td></tr>\n",
       "\t<tr><td>IgG_PreF          </td><td>96</td><td> 0.10</td><td>2222.818</td><td> 44.017</td><td>138.715</td><td>286.674</td></tr>\n",
       "\t<tr><td>infection         </td><td>96</td><td> 0.00</td><td>   1.000</td><td>  0.000</td><td>  0.271</td><td>  0.447</td></tr>\n",
       "\t<tr><td>sex               </td><td>96</td><td> 1.00</td><td>   2.000</td><td>  1.000</td><td>  1.417</td><td>  0.496</td></tr>\n",
       "\t<tr><td>visitnursery_child</td><td>92</td><td> 0.00</td><td>   1.000</td><td>  0.000</td><td>  0.196</td><td>  0.399</td></tr>\n",
       "\t<tr><td>visitnursery_house</td><td>90</td><td> 0.00</td><td>   1.000</td><td>  0.000</td><td>  0.278</td><td>  0.450</td></tr>\n",
       "</tbody>\n",
       "</table>\n"
      ],
      "text/latex": [
       "A tibble: 19 × 7\n",
       "\\begin{tabular}{lllllll}\n",
       " variable & n & min & max & median & mean & sd\\\\\n",
       " <chr> & <dbl> & <dbl> & <dbl> & <dbl> & <dbl> & <dbl>\\\\\n",
       "\\hline\n",
       "\t age\\_days           & 96 & 36.00 & 1843.000 & 181.000 & 269.771 & 302.966\\\\\n",
       "\t Birth\\_doy          & 96 &  8.00 &  364.000 & 207.500 & 201.615 & 103.485\\\\\n",
       "\t Birth\\_mo           & 96 &  1.00 &   12.000 &   7.000 &   7.094 &   3.412\\\\\n",
       "\t household04        & 84 &  1.00 &    3.000 &   1.000 &   1.548 &   0.609\\\\\n",
       "\t household04\\_counts & 84 &  1.00 &    3.000 &   1.000 &   1.548 &   0.609\\\\\n",
       "\t household59        & 96 &  0.00 &    3.000 &   0.000 &   0.292 &   0.614\\\\\n",
       "\t IgA\\_Ga             & 89 &  0.01 &    1.000 &   0.020 &   0.040 &   0.105\\\\\n",
       "\t IgA\\_Gb             & 89 &  0.01 &    0.530 &   0.020 &   0.028 &   0.056\\\\\n",
       "\t IgA\\_PostF          & 89 &  0.02 &   29.860 &   0.050 &   1.385 &   4.940\\\\\n",
       "\t IgA\\_PreF           & 89 &  0.02 &   32.250 &   0.020 &   0.714 &   3.537\\\\\n",
       "\t IgG\\_Ga             & 96 &  0.05 &   41.361 &   0.782 &   2.772 &   5.965\\\\\n",
       "\t IgG\\_Gb             & 96 &  0.05 &  119.870 &   1.585 &   5.663 &  13.768\\\\\n",
       "\t IgG\\_N              & 96 &  0.96 & 1398.900 &  67.284 & 157.523 & 246.957\\\\\n",
       "\t IgG\\_PostF          & 96 &  0.15 & 1938.090 &  45.738 & 151.881 & 296.034\\\\\n",
       "\t IgG\\_PreF           & 96 &  0.10 & 2222.818 &  44.017 & 138.715 & 286.674\\\\\n",
       "\t infection          & 96 &  0.00 &    1.000 &   0.000 &   0.271 &   0.447\\\\\n",
       "\t sex                & 96 &  1.00 &    2.000 &   1.000 &   1.417 &   0.496\\\\\n",
       "\t visitnursery\\_child & 92 &  0.00 &    1.000 &   0.000 &   0.196 &   0.399\\\\\n",
       "\t visitnursery\\_house & 90 &  0.00 &    1.000 &   0.000 &   0.278 &   0.450\\\\\n",
       "\\end{tabular}\n"
      ],
      "text/markdown": [
       "\n",
       "A tibble: 19 × 7\n",
       "\n",
       "| variable &lt;chr&gt; | n &lt;dbl&gt; | min &lt;dbl&gt; | max &lt;dbl&gt; | median &lt;dbl&gt; | mean &lt;dbl&gt; | sd &lt;dbl&gt; |\n",
       "|---|---|---|---|---|---|---|\n",
       "| age_days           | 96 | 36.00 | 1843.000 | 181.000 | 269.771 | 302.966 |\n",
       "| Birth_doy          | 96 |  8.00 |  364.000 | 207.500 | 201.615 | 103.485 |\n",
       "| Birth_mo           | 96 |  1.00 |   12.000 |   7.000 |   7.094 |   3.412 |\n",
       "| household04        | 84 |  1.00 |    3.000 |   1.000 |   1.548 |   0.609 |\n",
       "| household04_counts | 84 |  1.00 |    3.000 |   1.000 |   1.548 |   0.609 |\n",
       "| household59        | 96 |  0.00 |    3.000 |   0.000 |   0.292 |   0.614 |\n",
       "| IgA_Ga             | 89 |  0.01 |    1.000 |   0.020 |   0.040 |   0.105 |\n",
       "| IgA_Gb             | 89 |  0.01 |    0.530 |   0.020 |   0.028 |   0.056 |\n",
       "| IgA_PostF          | 89 |  0.02 |   29.860 |   0.050 |   1.385 |   4.940 |\n",
       "| IgA_PreF           | 89 |  0.02 |   32.250 |   0.020 |   0.714 |   3.537 |\n",
       "| IgG_Ga             | 96 |  0.05 |   41.361 |   0.782 |   2.772 |   5.965 |\n",
       "| IgG_Gb             | 96 |  0.05 |  119.870 |   1.585 |   5.663 |  13.768 |\n",
       "| IgG_N              | 96 |  0.96 | 1398.900 |  67.284 | 157.523 | 246.957 |\n",
       "| IgG_PostF          | 96 |  0.15 | 1938.090 |  45.738 | 151.881 | 296.034 |\n",
       "| IgG_PreF           | 96 |  0.10 | 2222.818 |  44.017 | 138.715 | 286.674 |\n",
       "| infection          | 96 |  0.00 |    1.000 |   0.000 |   0.271 |   0.447 |\n",
       "| sex                | 96 |  1.00 |    2.000 |   1.000 |   1.417 |   0.496 |\n",
       "| visitnursery_child | 92 |  0.00 |    1.000 |   0.000 |   0.196 |   0.399 |\n",
       "| visitnursery_house | 90 |  0.00 |    1.000 |   0.000 |   0.278 |   0.450 |\n",
       "\n"
      ],
      "text/plain": [
       "   variable           n  min   max      median  mean    sd     \n",
       "1  age_days           96 36.00 1843.000 181.000 269.771 302.966\n",
       "2  Birth_doy          96  8.00  364.000 207.500 201.615 103.485\n",
       "3  Birth_mo           96  1.00   12.000   7.000   7.094   3.412\n",
       "4  household04        84  1.00    3.000   1.000   1.548   0.609\n",
       "5  household04_counts 84  1.00    3.000   1.000   1.548   0.609\n",
       "6  household59        96  0.00    3.000   0.000   0.292   0.614\n",
       "7  IgA_Ga             89  0.01    1.000   0.020   0.040   0.105\n",
       "8  IgA_Gb             89  0.01    0.530   0.020   0.028   0.056\n",
       "9  IgA_PostF          89  0.02   29.860   0.050   1.385   4.940\n",
       "10 IgA_PreF           89  0.02   32.250   0.020   0.714   3.537\n",
       "11 IgG_Ga             96  0.05   41.361   0.782   2.772   5.965\n",
       "12 IgG_Gb             96  0.05  119.870   1.585   5.663  13.768\n",
       "13 IgG_N              96  0.96 1398.900  67.284 157.523 246.957\n",
       "14 IgG_PostF          96  0.15 1938.090  45.738 151.881 296.034\n",
       "15 IgG_PreF           96  0.10 2222.818  44.017 138.715 286.674\n",
       "16 infection          96  0.00    1.000   0.000   0.271   0.447\n",
       "17 sex                96  1.00    2.000   1.000   1.417   0.496\n",
       "18 visitnursery_child 92  0.00    1.000   0.000   0.196   0.399\n",
       "19 visitnursery_house 90  0.00    1.000   0.000   0.278   0.450"
      ]
     },
     "metadata": {},
     "output_type": "display_data"
    }
   ],
   "source": [
    "missing_cont <- subset(rsv.data, is.na(total_cont) == T)\n",
    "get_summary_stats(missing_cont, show = c(\"n\", \"min\", \"max\", \"median\", \"mean\", \"sd\"))"
   ]
  },
  {
   "cell_type": "code",
   "execution_count": 25,
   "id": "5cf02afc-14cc-4756-bb34-7bbd97cea51a",
   "metadata": {},
   "outputs": [
    {
     "data": {
      "text/html": [
       "<style>\n",
       ".dl-inline {width: auto; margin:0; padding: 0}\n",
       ".dl-inline>dt, .dl-inline>dd {float: none; width: auto; display: inline-block}\n",
       ".dl-inline>dt::after {content: \":\\0020\"; padding-right: .5ex}\n",
       ".dl-inline>dt:not(:first-of-type) {padding-left: .5ex}\n",
       "</style><dl class=dl-inline><dt>age_days</dt><dd>0</dd><dt>birthday</dt><dd>0</dd><dt>consultdate</dt><dd>0</dd><dt>infection</dt><dd>0</dd><dt>IgG_PreF</dt><dd>0</dd><dt>IgA_PreF</dt><dd>7</dd><dt>IgG_PostF</dt><dd>0</dd><dt>IgA_PostF</dt><dd>7</dd><dt>IgG_Ga</dt><dd>0</dd><dt>IgA_Ga</dt><dd>7</dd><dt>IgG_Gb</dt><dd>0</dd><dt>IgA_Gb</dt><dd>7</dd><dt>IgG_N</dt><dd>0</dd><dt>IgA_Nn_household</dt><dd>96</dd><dt>household04</dt><dd>12</dd><dt>household59</dt><dd>0</dd><dt>visitnursery_child</dt><dd>4</dd><dt>visitnursery_house</dt><dd>6</dd><dt>pregnancytime</dt><dd>96</dd><dt>contacttotal</dt><dd>96</dd><dt>contact04</dt><dd>96</dd><dt>contact59</dt><dd>96</dd><dt>sex</dt><dd>0</dd><dt>Birth_doy</dt><dd>0</dd><dt>household04_counts</dt><dd>12</dd><dt>Siblings04</dt><dd>12</dd><dt>Siblings59</dt><dd>0</dd><dt>Nursery</dt><dd>4</dd><dt>Birth_mo</dt><dd>0</dd><dt>age_years</dt><dd>0</dd><dt>seasons</dt><dd>0</dd><dt>cohort</dt><dd>0</dd><dt>season_birth</dt><dd>0</dd><dt>nursery_house</dt><dd>6</dd><dt>pre_term</dt><dd>96</dd><dt>total_cont</dt><dd>96</dd><dt>total_cont04</dt><dd>96</dd><dt>total_cont59</dt><dd>96</dd></dl>\n"
      ],
      "text/latex": [
       "\\begin{description*}\n",
       "\\item[age\\textbackslash{}\\_days] 0\n",
       "\\item[birthday] 0\n",
       "\\item[consultdate] 0\n",
       "\\item[infection] 0\n",
       "\\item[IgG\\textbackslash{}\\_PreF] 0\n",
       "\\item[IgA\\textbackslash{}\\_PreF] 7\n",
       "\\item[IgG\\textbackslash{}\\_PostF] 0\n",
       "\\item[IgA\\textbackslash{}\\_PostF] 7\n",
       "\\item[IgG\\textbackslash{}\\_Ga] 0\n",
       "\\item[IgA\\textbackslash{}\\_Ga] 7\n",
       "\\item[IgG\\textbackslash{}\\_Gb] 0\n",
       "\\item[IgA\\textbackslash{}\\_Gb] 7\n",
       "\\item[IgG\\textbackslash{}\\_N] 0\n",
       "\\item[IgA\\textbackslash{}\\_Nn\\textbackslash{}\\_household] 96\n",
       "\\item[household04] 12\n",
       "\\item[household59] 0\n",
       "\\item[visitnursery\\textbackslash{}\\_child] 4\n",
       "\\item[visitnursery\\textbackslash{}\\_house] 6\n",
       "\\item[pregnancytime] 96\n",
       "\\item[contacttotal] 96\n",
       "\\item[contact04] 96\n",
       "\\item[contact59] 96\n",
       "\\item[sex] 0\n",
       "\\item[Birth\\textbackslash{}\\_doy] 0\n",
       "\\item[household04\\textbackslash{}\\_counts] 12\n",
       "\\item[Siblings04] 12\n",
       "\\item[Siblings59] 0\n",
       "\\item[Nursery] 4\n",
       "\\item[Birth\\textbackslash{}\\_mo] 0\n",
       "\\item[age\\textbackslash{}\\_years] 0\n",
       "\\item[seasons] 0\n",
       "\\item[cohort] 0\n",
       "\\item[season\\textbackslash{}\\_birth] 0\n",
       "\\item[nursery\\textbackslash{}\\_house] 6\n",
       "\\item[pre\\textbackslash{}\\_term] 96\n",
       "\\item[total\\textbackslash{}\\_cont] 96\n",
       "\\item[total\\textbackslash{}\\_cont04] 96\n",
       "\\item[total\\textbackslash{}\\_cont59] 96\n",
       "\\end{description*}\n"
      ],
      "text/markdown": [
       "age_days\n",
       ":   0birthday\n",
       ":   0consultdate\n",
       ":   0infection\n",
       ":   0IgG_PreF\n",
       ":   0IgA_PreF\n",
       ":   7IgG_PostF\n",
       ":   0IgA_PostF\n",
       ":   7IgG_Ga\n",
       ":   0IgA_Ga\n",
       ":   7IgG_Gb\n",
       ":   0IgA_Gb\n",
       ":   7IgG_N\n",
       ":   0IgA_Nn_household\n",
       ":   96household04\n",
       ":   12household59\n",
       ":   0visitnursery_child\n",
       ":   4visitnursery_house\n",
       ":   6pregnancytime\n",
       ":   96contacttotal\n",
       ":   96contact04\n",
       ":   96contact59\n",
       ":   96sex\n",
       ":   0Birth_doy\n",
       ":   0household04_counts\n",
       ":   12Siblings04\n",
       ":   12Siblings59\n",
       ":   0Nursery\n",
       ":   4Birth_mo\n",
       ":   0age_years\n",
       ":   0seasons\n",
       ":   0cohort\n",
       ":   0season_birth\n",
       ":   0nursery_house\n",
       ":   6pre_term\n",
       ":   96total_cont\n",
       ":   96total_cont04\n",
       ":   96total_cont59\n",
       ":   96\n",
       "\n"
      ],
      "text/plain": [
       "          age_days           birthday        consultdate          infection \n",
       "                 0                  0                  0                  0 \n",
       "          IgG_PreF           IgA_PreF          IgG_PostF          IgA_PostF \n",
       "                 0                  7                  0                  7 \n",
       "            IgG_Ga             IgA_Ga             IgG_Gb             IgA_Gb \n",
       "                 0                  7                  0                  7 \n",
       "             IgG_N   IgA_Nn_household        household04        household59 \n",
       "                 0                 96                 12                  0 \n",
       "visitnursery_child visitnursery_house      pregnancytime       contacttotal \n",
       "                 4                  6                 96                 96 \n",
       "         contact04          contact59                sex          Birth_doy \n",
       "                96                 96                  0                  0 \n",
       "household04_counts         Siblings04         Siblings59            Nursery \n",
       "                12                 12                  0                  4 \n",
       "          Birth_mo          age_years            seasons             cohort \n",
       "                 0                  0                  0                  0 \n",
       "      season_birth      nursery_house           pre_term         total_cont \n",
       "                 0                  6                 96                 96 \n",
       "      total_cont04       total_cont59 \n",
       "                96                 96 "
      ]
     },
     "metadata": {},
     "output_type": "display_data"
    }
   ],
   "source": [
    "#count total missing values in each column of data frame\n",
    "sapply(missing_cont, function(x) sum(is.na(x)))"
   ]
  },
  {
   "cell_type": "code",
   "execution_count": 43,
   "id": "60fae406-acc5-411f-9b12-d9d3fb15307e",
   "metadata": {},
   "outputs": [
    {
     "data": {
      "text/plain": [
       "age_years\n",
       " 0-6 months   1-2 years   2-3 years   3-4 years   4-5 years 6-12 months \n",
       "     51.042       9.375       1.042       2.083       2.083      34.375 "
      ]
     },
     "metadata": {},
     "output_type": "display_data"
    }
   ],
   "source": [
    "missing_cont %$% prop.table(table(age_years, useNA = \"ifany\"))*100"
   ]
  },
  {
   "cell_type": "code",
   "execution_count": 44,
   "id": "72462d65-489c-45ff-a73b-3aa3ae743ccd",
   "metadata": {},
   "outputs": [
    {
     "data": {
      "text/plain": [
       "infection\n",
       "    0     1 \n",
       "72.92 27.08 "
      ]
     },
     "metadata": {},
     "output_type": "display_data"
    }
   ],
   "source": [
    "missing_cont %$% prop.table(table(infection, useNA = \"ifany\"))*100"
   ]
  },
  {
   "cell_type": "code",
   "execution_count": 45,
   "id": "7715e867-c1fd-49fa-bdb5-b91f12b61e33",
   "metadata": {},
   "outputs": [
    {
     "data": {
      "text/plain": [
       "season_birth\n",
       "Autumn Spring Summer Winter \n",
       " 28.12  22.92  25.00  23.96 "
      ]
     },
     "metadata": {},
     "output_type": "display_data"
    }
   ],
   "source": [
    "missing_cont %$% prop.table(table(season_birth, useNA = \"ifany\"))*100"
   ]
  },
  {
   "cell_type": "code",
   "execution_count": 46,
   "id": "73b639f8-5399-4933-be90-4ecfa59be356",
   "metadata": {},
   "outputs": [
    {
     "data": {
      "text/plain": [
       "Nursery\n",
       " False   True   <NA> \n",
       "77.083 18.750  4.167 "
      ]
     },
     "metadata": {},
     "output_type": "display_data"
    }
   ],
   "source": [
    "missing_cont %$% prop.table(table(Nursery, useNA = \"ifany\"))*100"
   ]
  },
  {
   "cell_type": "code",
   "execution_count": 47,
   "id": "66b5d787-1b17-451b-866b-d29351b0ee18",
   "metadata": {},
   "outputs": [
    {
     "data": {
      "text/html": [
       "<table class=\"dataframe\">\n",
       "<caption>A data.frame: 6 × 2</caption>\n",
       "<thead>\n",
       "\t<tr><th></th><th scope=col>values</th><th scope=col>infected</th></tr>\n",
       "\t<tr><th></th><th scope=col>&lt;chr&gt;</th><th scope=col>&lt;dbl&gt;</th></tr>\n",
       "</thead>\n",
       "<tbody>\n",
       "\t<tr><th scope=row>0-6 months</th><td>0-6 months </td><td>  4.082</td></tr>\n",
       "\t<tr><th scope=row>6-12 months</th><td>6-12 months</td><td> 33.333</td></tr>\n",
       "\t<tr><th scope=row>1-2 years</th><td>1-2 years  </td><td> 88.889</td></tr>\n",
       "\t<tr><th scope=row>2-3 years</th><td>2-3 years  </td><td>100.000</td></tr>\n",
       "\t<tr><th scope=row>3-4 years</th><td>3-4 years  </td><td>100.000</td></tr>\n",
       "\t<tr><th scope=row>4-5 years</th><td>4-5 years  </td><td>100.000</td></tr>\n",
       "</tbody>\n",
       "</table>\n"
      ],
      "text/latex": [
       "A data.frame: 6 × 2\n",
       "\\begin{tabular}{r|ll}\n",
       "  & values & infected\\\\\n",
       "  & <chr> & <dbl>\\\\\n",
       "\\hline\n",
       "\t0-6 months & 0-6 months  &   4.082\\\\\n",
       "\t6-12 months & 6-12 months &  33.333\\\\\n",
       "\t1-2 years & 1-2 years   &  88.889\\\\\n",
       "\t2-3 years & 2-3 years   & 100.000\\\\\n",
       "\t3-4 years & 3-4 years   & 100.000\\\\\n",
       "\t4-5 years & 4-5 years   & 100.000\\\\\n",
       "\\end{tabular}\n"
      ],
      "text/markdown": [
       "\n",
       "A data.frame: 6 × 2\n",
       "\n",
       "| <!--/--> | values &lt;chr&gt; | infected &lt;dbl&gt; |\n",
       "|---|---|---|\n",
       "| 0-6 months | 0-6 months  |   4.082 |\n",
       "| 6-12 months | 6-12 months |  33.333 |\n",
       "| 1-2 years | 1-2 years   |  88.889 |\n",
       "| 2-3 years | 2-3 years   | 100.000 |\n",
       "| 3-4 years | 3-4 years   | 100.000 |\n",
       "| 4-5 years | 4-5 years   | 100.000 |\n",
       "\n"
      ],
      "text/plain": [
       "            values      infected\n",
       "0-6 months  0-6 months    4.082 \n",
       "6-12 months 6-12 months  33.333 \n",
       "1-2 years   1-2 years    88.889 \n",
       "2-3 years   2-3 years   100.000 \n",
       "3-4 years   3-4 years   100.000 \n",
       "4-5 years   4-5 years   100.000 "
      ]
     },
     "metadata": {},
     "output_type": "display_data"
    }
   ],
   "source": [
    "options(digits = 4)  \n",
    "tab <- table(missing_cont$age_years, missing_cont$infection)\n",
    "ptab <- prop.table(tab, margin=1)*100\n",
    "dframe <- data.frame(values=rownames(tab), infected=ptab[,2])\n",
    "dframe <- dframe[c(1,6,2:5), ]\n",
    "dframe"
   ]
  },
  {
   "cell_type": "code",
   "execution_count": 35,
   "id": "7528607c-0499-458d-b6bf-8b7fba9db097",
   "metadata": {},
   "outputs": [
    {
     "data": {
      "text/html": [
       "<table class=\"dataframe\">\n",
       "<caption>A tibble: 16 × 7</caption>\n",
       "<thead>\n",
       "\t<tr><th scope=col>variable</th><th scope=col>n</th><th scope=col>min</th><th scope=col>max</th><th scope=col>median</th><th scope=col>mean</th><th scope=col>sd</th></tr>\n",
       "\t<tr><th scope=col>&lt;chr&gt;</th><th scope=col>&lt;dbl&gt;</th><th scope=col>&lt;dbl&gt;</th><th scope=col>&lt;dbl&gt;</th><th scope=col>&lt;dbl&gt;</th><th scope=col>&lt;dbl&gt;</th><th scope=col>&lt;dbl&gt;</th></tr>\n",
       "</thead>\n",
       "<tbody>\n",
       "\t<tr><td>age_days          </td><td>586</td><td>37.000</td><td> 1854.00</td><td>373.000</td><td>581.753</td><td>460.408</td></tr>\n",
       "\t<tr><td>Birth_doy         </td><td>586</td><td> 1.000</td><td>  365.00</td><td>192.500</td><td>187.411</td><td>102.164</td></tr>\n",
       "\t<tr><td>Birth_mo          </td><td>586</td><td> 1.000</td><td>   12.00</td><td>  7.000</td><td>  6.676</td><td>  3.368</td></tr>\n",
       "\t<tr><td>household04_counts</td><td>537</td><td> 1.000</td><td>    3.00</td><td>  1.000</td><td>  1.458</td><td>  0.610</td></tr>\n",
       "\t<tr><td>household59       </td><td>586</td><td> 0.000</td><td>    3.00</td><td>  0.000</td><td>  0.360</td><td>  0.660</td></tr>\n",
       "\t<tr><td>IgA_Ga            </td><td>408</td><td> 0.010</td><td>    7.22</td><td>  0.020</td><td>  0.067</td><td>  0.387</td></tr>\n",
       "\t<tr><td>IgA_Gb            </td><td>408</td><td> 0.010</td><td>   18.30</td><td>  0.020</td><td>  0.116</td><td>  0.948</td></tr>\n",
       "\t<tr><td>IgA_PostF         </td><td>408</td><td> 0.010</td><td>  350.00</td><td>  0.090</td><td>  2.519</td><td> 17.908</td></tr>\n",
       "\t<tr><td>IgA_PreF          </td><td>408</td><td> 0.010</td><td>  350.00</td><td>  0.020</td><td>  2.988</td><td> 20.017</td></tr>\n",
       "\t<tr><td>IgG_Ga            </td><td>586</td><td> 0.046</td><td>  753.43</td><td>  0.848</td><td>  5.220</td><td> 32.379</td></tr>\n",
       "\t<tr><td>IgG_Gb            </td><td>586</td><td> 0.022</td><td>  204.05</td><td>  0.953</td><td>  5.459</td><td> 13.440</td></tr>\n",
       "\t<tr><td>IgG_N             </td><td>586</td><td> 0.190</td><td>13363.92</td><td> 73.475</td><td>235.442</td><td>663.620</td></tr>\n",
       "\t<tr><td>IgG_PostF         </td><td>586</td><td> 0.034</td><td>15000.00</td><td> 61.985</td><td>241.970</td><td>816.099</td></tr>\n",
       "\t<tr><td>IgG_PreF          </td><td>586</td><td> 0.050</td><td>14732.83</td><td> 59.837</td><td>247.972</td><td>739.019</td></tr>\n",
       "\t<tr><td>infection         </td><td>586</td><td> 0.000</td><td>    1.00</td><td>  1.000</td><td>  0.544</td><td>  0.498</td></tr>\n",
       "\t<tr><td>sex               </td><td>586</td><td> 1.000</td><td>    2.00</td><td>  1.000</td><td>  1.493</td><td>  0.500</td></tr>\n",
       "</tbody>\n",
       "</table>\n"
      ],
      "text/latex": [
       "A tibble: 16 × 7\n",
       "\\begin{tabular}{lllllll}\n",
       " variable & n & min & max & median & mean & sd\\\\\n",
       " <chr> & <dbl> & <dbl> & <dbl> & <dbl> & <dbl> & <dbl>\\\\\n",
       "\\hline\n",
       "\t age\\_days           & 586 & 37.000 &  1854.00 & 373.000 & 581.753 & 460.408\\\\\n",
       "\t Birth\\_doy          & 586 &  1.000 &   365.00 & 192.500 & 187.411 & 102.164\\\\\n",
       "\t Birth\\_mo           & 586 &  1.000 &    12.00 &   7.000 &   6.676 &   3.368\\\\\n",
       "\t household04\\_counts & 537 &  1.000 &     3.00 &   1.000 &   1.458 &   0.610\\\\\n",
       "\t household59        & 586 &  0.000 &     3.00 &   0.000 &   0.360 &   0.660\\\\\n",
       "\t IgA\\_Ga             & 408 &  0.010 &     7.22 &   0.020 &   0.067 &   0.387\\\\\n",
       "\t IgA\\_Gb             & 408 &  0.010 &    18.30 &   0.020 &   0.116 &   0.948\\\\\n",
       "\t IgA\\_PostF          & 408 &  0.010 &   350.00 &   0.090 &   2.519 &  17.908\\\\\n",
       "\t IgA\\_PreF           & 408 &  0.010 &   350.00 &   0.020 &   2.988 &  20.017\\\\\n",
       "\t IgG\\_Ga             & 586 &  0.046 &   753.43 &   0.848 &   5.220 &  32.379\\\\\n",
       "\t IgG\\_Gb             & 586 &  0.022 &   204.05 &   0.953 &   5.459 &  13.440\\\\\n",
       "\t IgG\\_N              & 586 &  0.190 & 13363.92 &  73.475 & 235.442 & 663.620\\\\\n",
       "\t IgG\\_PostF          & 586 &  0.034 & 15000.00 &  61.985 & 241.970 & 816.099\\\\\n",
       "\t IgG\\_PreF           & 586 &  0.050 & 14732.83 &  59.837 & 247.972 & 739.019\\\\\n",
       "\t infection          & 586 &  0.000 &     1.00 &   1.000 &   0.544 &   0.498\\\\\n",
       "\t sex                & 586 &  1.000 &     2.00 &   1.000 &   1.493 &   0.500\\\\\n",
       "\\end{tabular}\n"
      ],
      "text/markdown": [
       "\n",
       "A tibble: 16 × 7\n",
       "\n",
       "| variable &lt;chr&gt; | n &lt;dbl&gt; | min &lt;dbl&gt; | max &lt;dbl&gt; | median &lt;dbl&gt; | mean &lt;dbl&gt; | sd &lt;dbl&gt; |\n",
       "|---|---|---|---|---|---|---|\n",
       "| age_days           | 586 | 37.000 |  1854.00 | 373.000 | 581.753 | 460.408 |\n",
       "| Birth_doy          | 586 |  1.000 |   365.00 | 192.500 | 187.411 | 102.164 |\n",
       "| Birth_mo           | 586 |  1.000 |    12.00 |   7.000 |   6.676 |   3.368 |\n",
       "| household04_counts | 537 |  1.000 |     3.00 |   1.000 |   1.458 |   0.610 |\n",
       "| household59        | 586 |  0.000 |     3.00 |   0.000 |   0.360 |   0.660 |\n",
       "| IgA_Ga             | 408 |  0.010 |     7.22 |   0.020 |   0.067 |   0.387 |\n",
       "| IgA_Gb             | 408 |  0.010 |    18.30 |   0.020 |   0.116 |   0.948 |\n",
       "| IgA_PostF          | 408 |  0.010 |   350.00 |   0.090 |   2.519 |  17.908 |\n",
       "| IgA_PreF           | 408 |  0.010 |   350.00 |   0.020 |   2.988 |  20.017 |\n",
       "| IgG_Ga             | 586 |  0.046 |   753.43 |   0.848 |   5.220 |  32.379 |\n",
       "| IgG_Gb             | 586 |  0.022 |   204.05 |   0.953 |   5.459 |  13.440 |\n",
       "| IgG_N              | 586 |  0.190 | 13363.92 |  73.475 | 235.442 | 663.620 |\n",
       "| IgG_PostF          | 586 |  0.034 | 15000.00 |  61.985 | 241.970 | 816.099 |\n",
       "| IgG_PreF           | 586 |  0.050 | 14732.83 |  59.837 | 247.972 | 739.019 |\n",
       "| infection          | 586 |  0.000 |     1.00 |   1.000 |   0.544 |   0.498 |\n",
       "| sex                | 586 |  1.000 |     2.00 |   1.000 |   1.493 |   0.500 |\n",
       "\n"
      ],
      "text/plain": [
       "   variable           n   min    max      median  mean    sd     \n",
       "1  age_days           586 37.000  1854.00 373.000 581.753 460.408\n",
       "2  Birth_doy          586  1.000   365.00 192.500 187.411 102.164\n",
       "3  Birth_mo           586  1.000    12.00   7.000   6.676   3.368\n",
       "4  household04_counts 537  1.000     3.00   1.000   1.458   0.610\n",
       "5  household59        586  0.000     3.00   0.000   0.360   0.660\n",
       "6  IgA_Ga             408  0.010     7.22   0.020   0.067   0.387\n",
       "7  IgA_Gb             408  0.010    18.30   0.020   0.116   0.948\n",
       "8  IgA_PostF          408  0.010   350.00   0.090   2.519  17.908\n",
       "9  IgA_PreF           408  0.010   350.00   0.020   2.988  20.017\n",
       "10 IgG_Ga             586  0.046   753.43   0.848   5.220  32.379\n",
       "11 IgG_Gb             586  0.022   204.05   0.953   5.459  13.440\n",
       "12 IgG_N              586  0.190 13363.92  73.475 235.442 663.620\n",
       "13 IgG_PostF          586  0.034 15000.00  61.985 241.970 816.099\n",
       "14 IgG_PreF           586  0.050 14732.83  59.837 247.972 739.019\n",
       "15 infection          586  0.000     1.00   1.000   0.544   0.498\n",
       "16 sex                586  1.000     2.00   1.000   1.493   0.500"
      ]
     },
     "metadata": {},
     "output_type": "display_data"
    }
   ],
   "source": [
    "get_summary_stats(complete_cont, show = c(\"n\", \"min\", \"max\", \"median\", \"mean\", \"sd\"))"
   ]
  },
  {
   "cell_type": "code",
   "execution_count": 57,
   "id": "9a3873bb-063a-41aa-acbf-170f52188021",
   "metadata": {},
   "outputs": [
    {
     "data": {
      "text/html": [
       "<table class=\"dataframe\">\n",
       "<caption>A data.frame: 6 × 2</caption>\n",
       "<thead>\n",
       "\t<tr><th></th><th scope=col>values</th><th scope=col>infected</th></tr>\n",
       "\t<tr><th></th><th scope=col>&lt;chr&gt;</th><th scope=col>&lt;dbl&gt;</th></tr>\n",
       "</thead>\n",
       "<tbody>\n",
       "\t<tr><th scope=row>0-6 months</th><td>0-6 months </td><td>  5.263</td></tr>\n",
       "\t<tr><th scope=row>6-12 months</th><td>6-12 months</td><td> 29.843</td></tr>\n",
       "\t<tr><th scope=row>1-2 years</th><td>1-2 years  </td><td> 70.370</td></tr>\n",
       "\t<tr><th scope=row>2-3 years</th><td>2-3 years  </td><td> 95.833</td></tr>\n",
       "\t<tr><th scope=row>3-4 years</th><td>3-4 years  </td><td>100.000</td></tr>\n",
       "\t<tr><th scope=row>4-5 years</th><td>4-5 years  </td><td>100.000</td></tr>\n",
       "</tbody>\n",
       "</table>\n"
      ],
      "text/latex": [
       "A data.frame: 6 × 2\n",
       "\\begin{tabular}{r|ll}\n",
       "  & values & infected\\\\\n",
       "  & <chr> & <dbl>\\\\\n",
       "\\hline\n",
       "\t0-6 months & 0-6 months  &   5.263\\\\\n",
       "\t6-12 months & 6-12 months &  29.843\\\\\n",
       "\t1-2 years & 1-2 years   &  70.370\\\\\n",
       "\t2-3 years & 2-3 years   &  95.833\\\\\n",
       "\t3-4 years & 3-4 years   & 100.000\\\\\n",
       "\t4-5 years & 4-5 years   & 100.000\\\\\n",
       "\\end{tabular}\n"
      ],
      "text/markdown": [
       "\n",
       "A data.frame: 6 × 2\n",
       "\n",
       "| <!--/--> | values &lt;chr&gt; | infected &lt;dbl&gt; |\n",
       "|---|---|---|\n",
       "| 0-6 months | 0-6 months  |   5.263 |\n",
       "| 6-12 months | 6-12 months |  29.843 |\n",
       "| 1-2 years | 1-2 years   |  70.370 |\n",
       "| 2-3 years | 2-3 years   |  95.833 |\n",
       "| 3-4 years | 3-4 years   | 100.000 |\n",
       "| 4-5 years | 4-5 years   | 100.000 |\n",
       "\n"
      ],
      "text/plain": [
       "            values      infected\n",
       "0-6 months  0-6 months    5.263 \n",
       "6-12 months 6-12 months  29.843 \n",
       "1-2 years   1-2 years    70.370 \n",
       "2-3 years   2-3 years    95.833 \n",
       "3-4 years   3-4 years   100.000 \n",
       "4-5 years   4-5 years   100.000 "
      ]
     },
     "metadata": {},
     "output_type": "display_data"
    }
   ],
   "source": [
    "complete_cont <- subset(rsv.data, is.na(total_cont) == F)\n",
    "tab <- table(complete_cont$age_years, complete_cont$infection)\n",
    "ptab <- prop.table(tab, margin=1)*100\n",
    "dframe <- data.frame(values=rownames(tab), infected=ptab[,2])\n",
    "dframe <- dframe[c(1,6,2:5), ]\n",
    "dframe"
   ]
  },
  {
   "cell_type": "code",
   "execution_count": 41,
   "id": "abe564bb-d4b4-4402-adf0-4079a5606e73",
   "metadata": {},
   "outputs": [
    {
     "data": {
      "text/plain": [
       "season_birth\n",
       "Autumn Spring Summer Winter \n",
       " 24.91  25.94  26.96  22.18 "
      ]
     },
     "metadata": {},
     "output_type": "display_data"
    }
   ],
   "source": [
    "complete_cont %$% prop.table(table(season_birth, useNA = \"ifany\"))*100"
   ]
  },
  {
   "cell_type": "code",
   "execution_count": 49,
   "id": "fe1f3d35-7bae-4df9-9635-e9f6576dc94d",
   "metadata": {},
   "outputs": [
    {
     "data": {
      "text/plain": [
       "Nursery\n",
       " False   True   <NA> \n",
       "54.096 42.833  3.072 "
      ]
     },
     "metadata": {},
     "output_type": "display_data"
    }
   ],
   "source": [
    "complete_cont %$% prop.table(table(Nursery, useNA = \"ifany\"))*100"
   ]
  },
  {
   "cell_type": "code",
   "execution_count": 58,
   "id": "6fa0c851-0002-4591-aade-d670967517c3",
   "metadata": {},
   "outputs": [
    {
     "data": {
      "text/html": [
       "<table class=\"dataframe\">\n",
       "<caption>A data.frame: 6 × 2</caption>\n",
       "<thead>\n",
       "\t<tr><th></th><th scope=col>values</th><th scope=col>Nursery</th></tr>\n",
       "\t<tr><th></th><th scope=col>&lt;chr&gt;</th><th scope=col>&lt;dbl&gt;</th></tr>\n",
       "</thead>\n",
       "<tbody>\n",
       "\t<tr><th scope=row>0-6 months</th><td>0-6 months </td><td>19.78</td></tr>\n",
       "\t<tr><th scope=row>6-12 months</th><td>6-12 months</td><td>43.41</td></tr>\n",
       "\t<tr><th scope=row>1-2 years</th><td>1-2 years  </td><td>40.60</td></tr>\n",
       "\t<tr><th scope=row>2-3 years</th><td>2-3 years  </td><td>67.61</td></tr>\n",
       "\t<tr><th scope=row>3-4 years</th><td>3-4 years  </td><td>88.46</td></tr>\n",
       "\t<tr><th scope=row>4-5 years</th><td>4-5 years  </td><td>15.38</td></tr>\n",
       "</tbody>\n",
       "</table>\n"
      ],
      "text/latex": [
       "A data.frame: 6 × 2\n",
       "\\begin{tabular}{r|ll}\n",
       "  & values & Nursery\\\\\n",
       "  & <chr> & <dbl>\\\\\n",
       "\\hline\n",
       "\t0-6 months & 0-6 months  & 19.78\\\\\n",
       "\t6-12 months & 6-12 months & 43.41\\\\\n",
       "\t1-2 years & 1-2 years   & 40.60\\\\\n",
       "\t2-3 years & 2-3 years   & 67.61\\\\\n",
       "\t3-4 years & 3-4 years   & 88.46\\\\\n",
       "\t4-5 years & 4-5 years   & 15.38\\\\\n",
       "\\end{tabular}\n"
      ],
      "text/markdown": [
       "\n",
       "A data.frame: 6 × 2\n",
       "\n",
       "| <!--/--> | values &lt;chr&gt; | Nursery &lt;dbl&gt; |\n",
       "|---|---|---|\n",
       "| 0-6 months | 0-6 months  | 19.78 |\n",
       "| 6-12 months | 6-12 months | 43.41 |\n",
       "| 1-2 years | 1-2 years   | 40.60 |\n",
       "| 2-3 years | 2-3 years   | 67.61 |\n",
       "| 3-4 years | 3-4 years   | 88.46 |\n",
       "| 4-5 years | 4-5 years   | 15.38 |\n",
       "\n"
      ],
      "text/plain": [
       "            values      Nursery\n",
       "0-6 months  0-6 months  19.78  \n",
       "6-12 months 6-12 months 43.41  \n",
       "1-2 years   1-2 years   40.60  \n",
       "2-3 years   2-3 years   67.61  \n",
       "3-4 years   3-4 years   88.46  \n",
       "4-5 years   4-5 years   15.38  "
      ]
     },
     "metadata": {},
     "output_type": "display_data"
    }
   ],
   "source": [
    "complete_cont <- subset(rsv.data, is.na(total_cont) == F)\n",
    "tab <- table(complete_cont$age_years, complete_cont$Nursery)\n",
    "ptab <- prop.table(tab, margin=1)*100\n",
    "dframe <- data.frame(values=rownames(tab), Nursery=ptab[,2])\n",
    "dframe <- dframe[c(1,6,2:5), ]\n",
    "dframe"
   ]
  },
  {
   "cell_type": "code",
   "execution_count": 51,
   "id": "0b5292b5-4894-4e25-914c-05ddd5bf3834",
   "metadata": {},
   "outputs": [
    {
     "data": {
      "text/html": [
       "<table class=\"dataframe\">\n",
       "<caption>A data.frame: 6 × 2</caption>\n",
       "<thead>\n",
       "\t<tr><th></th><th scope=col>values</th><th scope=col>Nursery</th></tr>\n",
       "\t<tr><th></th><th scope=col>&lt;chr&gt;</th><th scope=col>&lt;dbl&gt;</th></tr>\n",
       "</thead>\n",
       "<tbody>\n",
       "\t<tr><th scope=row>0-6 months</th><td>0-6 months </td><td>14.29</td></tr>\n",
       "\t<tr><th scope=row>6-12 months</th><td>6-12 months</td><td>21.88</td></tr>\n",
       "\t<tr><th scope=row>1-2 years</th><td>1-2 years  </td><td>42.86</td></tr>\n",
       "\t<tr><th scope=row>2-3 years</th><td>2-3 years  </td><td>  NaN</td></tr>\n",
       "\t<tr><th scope=row>3-4 years</th><td>3-4 years  </td><td>50.00</td></tr>\n",
       "\t<tr><th scope=row>4-5 years</th><td>4-5 years  </td><td> 0.00</td></tr>\n",
       "</tbody>\n",
       "</table>\n"
      ],
      "text/latex": [
       "A data.frame: 6 × 2\n",
       "\\begin{tabular}{r|ll}\n",
       "  & values & Nursery\\\\\n",
       "  & <chr> & <dbl>\\\\\n",
       "\\hline\n",
       "\t0-6 months & 0-6 months  & 14.29\\\\\n",
       "\t6-12 months & 6-12 months & 21.88\\\\\n",
       "\t1-2 years & 1-2 years   & 42.86\\\\\n",
       "\t2-3 years & 2-3 years   &   NaN\\\\\n",
       "\t3-4 years & 3-4 years   & 50.00\\\\\n",
       "\t4-5 years & 4-5 years   &  0.00\\\\\n",
       "\\end{tabular}\n"
      ],
      "text/markdown": [
       "\n",
       "A data.frame: 6 × 2\n",
       "\n",
       "| <!--/--> | values &lt;chr&gt; | Nursery &lt;dbl&gt; |\n",
       "|---|---|---|\n",
       "| 0-6 months | 0-6 months  | 14.29 |\n",
       "| 6-12 months | 6-12 months | 21.88 |\n",
       "| 1-2 years | 1-2 years   | 42.86 |\n",
       "| 2-3 years | 2-3 years   |   NaN |\n",
       "| 3-4 years | 3-4 years   | 50.00 |\n",
       "| 4-5 years | 4-5 years   |  0.00 |\n",
       "\n"
      ],
      "text/plain": [
       "            values      Nursery\n",
       "0-6 months  0-6 months  14.29  \n",
       "6-12 months 6-12 months 21.88  \n",
       "1-2 years   1-2 years   42.86  \n",
       "2-3 years   2-3 years     NaN  \n",
       "3-4 years   3-4 years   50.00  \n",
       "4-5 years   4-5 years    0.00  "
      ]
     },
     "metadata": {},
     "output_type": "display_data"
    }
   ],
   "source": [
    "tab <- table(missing_cont$age_years, missing_cont$Nursery)\n",
    "ptab <- prop.table(tab, margin=1)*100\n",
    "dframe <- data.frame(values=rownames(tab), Nursery=ptab[,2])\n",
    "dframe <- dframe[c(1,6,2:5), ]\n",
    "dframe"
   ]
  },
  {
   "cell_type": "code",
   "execution_count": 71,
   "id": "3913785a-e2a6-40ee-9a77-1bae33af9964",
   "metadata": {},
   "outputs": [],
   "source": [
    "age_gp <- subset(rsv.data, age_years == \"0-6 months\")\n",
    "age_gp <- age_gp %>%\n",
    "mutate(\n",
    "    missing = case_when(\n",
    "      is.na(total_cont) == T ~ \"Missing\",  #because the child itself is also included in household size\n",
    "      is.na(total_cont) == F ~ \"Not missing\"       #the household04 of children of age 5 should also include the child itself\n",
    "      )\n",
    "    )%>%\n",
    "    mutate(\n",
    "        infection = case_when(\n",
    "            infection == 1 ~ \"Infected\",\n",
    "            infection == 0 ~ \"Not infected\"\n",
    "            )\n",
    "        )"
   ]
  },
  {
   "cell_type": "code",
   "execution_count": 74,
   "id": "0bbd7409-ab44-4de6-8df8-ecc221b668d1",
   "metadata": {},
   "outputs": [],
   "source": [
    "one <- subset(age_gp, missing == \"Missing\")\n",
    "two <- subset(age_gp, missing == \"Not missing\")"
   ]
  },
  {
   "cell_type": "code",
   "execution_count": 75,
   "id": "ba60c9a2-c4e2-42f1-8da3-c771a5d22a7f",
   "metadata": {},
   "outputs": [],
   "source": [
    "three <- rbind(one, two)"
   ]
  },
  {
   "cell_type": "code",
   "execution_count": 77,
   "id": "fd2b455a-d052-481e-85ec-9c83bb2bce7b",
   "metadata": {},
   "outputs": [
    {
     "name": "stdout",
     "output_type": "stream",
     "text": [
      "             \n",
      "              Infected Not infected\n",
      "  Missing            2           47\n",
      "  Not missing        5           90\n"
     ]
    },
    {
     "name": "stderr",
     "output_type": "stream",
     "text": [
      "Warning message in chisq.test(car.data):\n",
      "\"Chi-squared approximation may be incorrect\"\n"
     ]
    },
    {
     "name": "stdout",
     "output_type": "stream",
     "text": [
      "\n",
      "\tPearson's Chi-squared test with Yates' continuity correction\n",
      "\n",
      "data:  car.data\n",
      "X-squared = 2e-30, df = 1, p-value = 1\n",
      "\n"
     ]
    }
   ],
   "source": [
    "car.data = table(three$missing, three$infection) \n",
    "print(car.data)\n",
    "\n",
    "# Perform the Chi-Square test.\n",
    "print(chisq.test(car.data))"
   ]
  },
  {
   "cell_type": "code",
   "execution_count": 78,
   "id": "fa23d4d3-871c-4d18-b1f3-6397e8e428d5",
   "metadata": {},
   "outputs": [],
   "source": [
    "age_gp <- subset(rsv.data, age_years == \"6-12 months\")\n",
    "age_gp <- age_gp %>%\n",
    "mutate(\n",
    "    missing = case_when(\n",
    "      is.na(total_cont) == T ~ \"Missing\",  #because the child itself is also included in household size\n",
    "      is.na(total_cont) == F ~ \"Not missing\"       #the household04 of children of age 5 should also include the child itself\n",
    "      )\n",
    "    )%>%\n",
    "    mutate(\n",
    "        infection = case_when(\n",
    "            infection == 1 ~ \"Infected\",\n",
    "            infection == 0 ~ \"Not infected\"\n",
    "            )\n",
    "        )"
   ]
  },
  {
   "cell_type": "code",
   "execution_count": 79,
   "id": "6119bb42-2dd0-4927-8b4e-c308552bfbcf",
   "metadata": {},
   "outputs": [
    {
     "name": "stdout",
     "output_type": "stream",
     "text": [
      "             \n",
      "              Infected Not infected\n",
      "  Missing           11           22\n",
      "  Not missing       57          134\n",
      "\n",
      "\tPearson's Chi-squared test with Yates' continuity correction\n",
      "\n",
      "data:  car.data\n",
      "X-squared = 0.039, df = 1, p-value = 0.8\n",
      "\n"
     ]
    }
   ],
   "source": [
    "one <- subset(age_gp, missing == \"Missing\")\n",
    "two <- subset(age_gp, missing == \"Not missing\")\n",
    "three <- rbind(one, two)\n",
    "car.data = table(three$missing, three$infection) \n",
    "print(car.data)\n",
    "\n",
    "# Perform the Chi-Square test.\n",
    "print(chisq.test(car.data))"
   ]
  },
  {
   "cell_type": "code",
   "execution_count": 81,
   "id": "579d9985-eb95-4753-8365-4438fd4142a4",
   "metadata": {},
   "outputs": [
    {
     "name": "stdout",
     "output_type": "stream",
     "text": [
      "             \n",
      "              Infected Not infected\n",
      "  Missing            8            1\n",
      "  Not missing       95           40\n"
     ]
    },
    {
     "name": "stderr",
     "output_type": "stream",
     "text": [
      "Warning message in chisq.test(car.data):\n",
      "\"Chi-squared approximation may be incorrect\"\n"
     ]
    },
    {
     "name": "stdout",
     "output_type": "stream",
     "text": [
      "\n",
      "\tPearson's Chi-squared test with Yates' continuity correction\n",
      "\n",
      "data:  car.data\n",
      "X-squared = 0.66, df = 1, p-value = 0.4\n",
      "\n"
     ]
    }
   ],
   "source": [
    "age_gp <- subset(rsv.data, age_years == \"1-2 years\")\n",
    "age_gp <- age_gp %>%\n",
    "mutate(\n",
    "    missing = case_when(\n",
    "      is.na(total_cont) == T ~ \"Missing\",  #because the child itself is also included in household size\n",
    "      is.na(total_cont) == F ~ \"Not missing\"       #the household04 of children of age 5 should also include the child itself\n",
    "      )\n",
    "    )%>%\n",
    "    mutate(\n",
    "        infection = case_when(\n",
    "            infection == 1 ~ \"Infected\",\n",
    "            infection == 0 ~ \"Not infected\"\n",
    "            )\n",
    "        )\n",
    "\n",
    "one <- subset(age_gp, missing == \"Missing\")\n",
    "two <- subset(age_gp, missing == \"Not missing\")\n",
    "three <- rbind(one, two)\n",
    "car.data = table(three$missing, three$infection) \n",
    "print(car.data)\n",
    "\n",
    "# Perform the Chi-Square test.\n",
    "print(chisq.test(car.data))"
   ]
  },
  {
   "cell_type": "code",
   "execution_count": 82,
   "id": "dda05687-123f-479e-a1ae-49b76444b5f4",
   "metadata": {},
   "outputs": [
    {
     "name": "stdout",
     "output_type": "stream",
     "text": [
      "             \n",
      "              Infected Not infected\n",
      "  Missing            1            0\n",
      "  Not missing       69            3\n"
     ]
    },
    {
     "name": "stderr",
     "output_type": "stream",
     "text": [
      "Warning message in chisq.test(car.data):\n",
      "\"Chi-squared approximation may be incorrect\"\n"
     ]
    },
    {
     "name": "stdout",
     "output_type": "stream",
     "text": [
      "\n",
      "\tPearson's Chi-squared test with Yates' continuity correction\n",
      "\n",
      "data:  car.data\n",
      "X-squared = 3.5e-29, df = 1, p-value = 1\n",
      "\n"
     ]
    }
   ],
   "source": [
    "age_gp <- subset(rsv.data, age_years == \"2-3 years\")\n",
    "age_gp <- age_gp %>%\n",
    "mutate(\n",
    "    missing = case_when(\n",
    "      is.na(total_cont) == T ~ \"Missing\",  #because the child itself is also included in household size\n",
    "      is.na(total_cont) == F ~ \"Not missing\"       #the household04 of children of age 5 should also include the child itself\n",
    "      )\n",
    "    )%>%\n",
    "    mutate(\n",
    "        infection = case_when(\n",
    "            infection == 1 ~ \"Infected\",\n",
    "            infection == 0 ~ \"Not infected\"\n",
    "            )\n",
    "        )\n",
    "\n",
    "one <- subset(age_gp, missing == \"Missing\")\n",
    "two <- subset(age_gp, missing == \"Not missing\")\n",
    "three <- rbind(one, two)\n",
    "car.data = table(three$missing, three$infection) \n",
    "print(car.data)\n",
    "\n",
    "# Perform the Chi-Square test.\n",
    "print(chisq.test(car.data))"
   ]
  },
  {
   "cell_type": "code",
   "execution_count": 101,
   "id": "a2f259db-d1ea-491d-a9f8-f6bb6326f30a",
   "metadata": {},
   "outputs": [
    {
     "name": "stdout",
     "output_type": "stream",
     "text": [
      "             \n",
      "              False True\n",
      "  Missing        42    7\n",
      "  Not missing    73   18\n",
      "\n",
      "\tPearson's Chi-squared test with Yates' continuity correction\n",
      "\n",
      "data:  car.data\n",
      "X-squared = 0.33, df = 1, p-value = 0.6\n",
      "\n"
     ]
    }
   ],
   "source": [
    "age_gp <- subset(rsv.data, age_years == \"0-6 months\")\n",
    "age_gp <- age_gp %>%\n",
    "mutate(\n",
    "    missing = case_when(\n",
    "      is.na(total_cont) == T ~ \"Missing\",  #because the child itself is also included in household size\n",
    "      is.na(total_cont) == F ~ \"Not missing\"       #the household04 of children of age 5 should also include the child itself\n",
    "      )\n",
    "    )\n",
    "\n",
    "one <- subset(age_gp, missing == \"Missing\")\n",
    "two <- subset(age_gp, missing == \"Not missing\")\n",
    "three <- rbind(one, two)\n",
    "car.data = table(three$missing, three$Nursery) \n",
    "print(car.data)\n",
    "\n",
    "# Perform the Chi-Square test.\n",
    "print(chisq.test(car.data))"
   ]
  },
  {
   "cell_type": "code",
   "execution_count": 102,
   "id": "141fac40-e989-48c0-b2fc-67abced769ae",
   "metadata": {},
   "outputs": [
    {
     "name": "stdout",
     "output_type": "stream",
     "text": [
      "             \n",
      "              False True\n",
      "  Missing        25    7\n",
      "  Not missing   103   79\n",
      "\n",
      "\tPearson's Chi-squared test with Yates' continuity correction\n",
      "\n",
      "data:  car.data\n",
      "X-squared = 4.4, df = 1, p-value = 0.04\n",
      "\n"
     ]
    }
   ],
   "source": [
    "age_gp <- subset(rsv.data, age_years == \"6-12 months\")\n",
    "age_gp <- age_gp %>%\n",
    "mutate(\n",
    "    missing = case_when(\n",
    "      is.na(total_cont) == T ~ \"Missing\",  #because the child itself is also included in household size\n",
    "      is.na(total_cont) == F ~ \"Not missing\"       #the household04 of children of age 5 should also include the child itself\n",
    "      )\n",
    "    )\n",
    "\n",
    "one <- subset(age_gp, missing == \"Missing\")\n",
    "two <- subset(age_gp, missing == \"Not missing\")\n",
    "three <- rbind(one, two)\n",
    "car.data = table(three$missing, three$Nursery) \n",
    "print(car.data)\n",
    "\n",
    "# Perform the Chi-Square test.\n",
    "print(chisq.test(car.data))"
   ]
  },
  {
   "cell_type": "code",
   "execution_count": 103,
   "id": "03987790-c3af-4a2d-8b1e-3b3dfee8425e",
   "metadata": {},
   "outputs": [
    {
     "name": "stdout",
     "output_type": "stream",
     "text": [
      "             \n",
      "              False True\n",
      "  Missing         4    3\n",
      "  Not missing    79   54\n"
     ]
    },
    {
     "name": "stderr",
     "output_type": "stream",
     "text": [
      "Warning message in chisq.test(car.data):\n",
      "\"Chi-squared approximation may be incorrect\"\n"
     ]
    },
    {
     "name": "stdout",
     "output_type": "stream",
     "text": [
      "\n",
      "\tPearson's Chi-squared test with Yates' continuity correction\n",
      "\n",
      "data:  car.data\n",
      "X-squared = 2e-30, df = 1, p-value = 1\n",
      "\n"
     ]
    }
   ],
   "source": [
    "age_gp <- subset(rsv.data, age_years == \"1-2 years\")\n",
    "age_gp <- age_gp %>%\n",
    "mutate(\n",
    "    missing = case_when(\n",
    "      is.na(total_cont) == T ~ \"Missing\",  #because the child itself is also included in household size\n",
    "      is.na(total_cont) == F ~ \"Not missing\"       #the household04 of children of age 5 should also include the child itself\n",
    "      )\n",
    "    )\n",
    "\n",
    "one <- subset(age_gp, missing == \"Missing\")\n",
    "two <- subset(age_gp, missing == \"Not missing\")\n",
    "three <- rbind(one, two)\n",
    "car.data = table(three$missing, three$Nursery) \n",
    "print(car.data)\n",
    "\n",
    "# Perform the Chi-Square test.\n",
    "print(chisq.test(car.data))"
   ]
  },
  {
   "cell_type": "code",
   "execution_count": 105,
   "id": "f23c7ce3-da23-4e19-ad95-b1e8c0b096a8",
   "metadata": {},
   "outputs": [
    {
     "name": "stdout",
     "output_type": "stream",
     "text": [
      "             \n",
      "              False True\n",
      "  Missing         0    0\n",
      "  Not missing    23   48\n"
     ]
    },
    {
     "name": "stderr",
     "output_type": "stream",
     "text": [
      "Warning message in chisq.test(car.data):\n",
      "\"Chi-squared approximation may be incorrect\"\n"
     ]
    },
    {
     "name": "stdout",
     "output_type": "stream",
     "text": [
      "\n",
      "\tPearson's Chi-squared test\n",
      "\n",
      "data:  car.data\n",
      "X-squared = NaN, df = 1, p-value = NA\n",
      "\n"
     ]
    }
   ],
   "source": [
    "age_gp <- subset(rsv.data, age_years == \"2-3 years\")\n",
    "age_gp <- age_gp %>%\n",
    "mutate(\n",
    "    missing = case_when(\n",
    "      is.na(total_cont) == T ~ \"Missing\",  #because the child itself is also included in household size\n",
    "      is.na(total_cont) == F ~ \"Not missing\"       #the household04 of children of age 5 should also include the child itself\n",
    "      )\n",
    "    )\n",
    "\n",
    "one <- subset(age_gp, missing == \"Missing\")\n",
    "two <- subset(age_gp, missing == \"Not missing\")\n",
    "three <- rbind(one, two)\n",
    "car.data = table(three$missing, three$Nursery) \n",
    "print(car.data)\n",
    "\n",
    "# Perform the Chi-Square test.\n",
    "print(chisq.test(car.data))"
   ]
  },
  {
   "cell_type": "code",
   "execution_count": 106,
   "id": "efcd91f5-680c-4bcf-8c13-d65c4d4d01b8",
   "metadata": {},
   "outputs": [
    {
     "name": "stdout",
     "output_type": "stream",
     "text": [
      "             \n",
      "              False True\n",
      "  Missing         1    1\n",
      "  Not missing     6   46\n"
     ]
    },
    {
     "name": "stderr",
     "output_type": "stream",
     "text": [
      "Warning message in chisq.test(car.data):\n",
      "\"Chi-squared approximation may be incorrect\"\n"
     ]
    },
    {
     "name": "stdout",
     "output_type": "stream",
     "text": [
      "\n",
      "\tPearson's Chi-squared test with Yates' continuity correction\n",
      "\n",
      "data:  car.data\n",
      "X-squared = 0.27, df = 1, p-value = 0.6\n",
      "\n"
     ]
    }
   ],
   "source": [
    "age_gp <- subset(rsv.data, age_years == \"3-4 years\")\n",
    "age_gp <- age_gp %>%\n",
    "mutate(\n",
    "    missing = case_when(\n",
    "      is.na(total_cont) == T ~ \"Missing\",  #because the child itself is also included in household size\n",
    "      is.na(total_cont) == F ~ \"Not missing\"       #the household04 of children of age 5 should also include the child itself\n",
    "      )\n",
    "    )\n",
    "\n",
    "one <- subset(age_gp, missing == \"Missing\")\n",
    "two <- subset(age_gp, missing == \"Not missing\")\n",
    "three <- rbind(one, two)\n",
    "car.data = table(three$missing, three$Nursery) \n",
    "print(car.data)\n",
    "\n",
    "# Perform the Chi-Square test.\n",
    "print(chisq.test(car.data))"
   ]
  },
  {
   "cell_type": "code",
   "execution_count": 107,
   "id": "5c60e9cb-6f7f-4fcc-b9cd-d55c8e1453b7",
   "metadata": {},
   "outputs": [
    {
     "name": "stdout",
     "output_type": "stream",
     "text": [
      "             \n",
      "              False True\n",
      "  Missing         2    0\n",
      "  Not missing    33    6\n"
     ]
    },
    {
     "name": "stderr",
     "output_type": "stream",
     "text": [
      "Warning message in chisq.test(car.data):\n",
      "\"Chi-squared approximation may be incorrect\"\n"
     ]
    },
    {
     "name": "stdout",
     "output_type": "stream",
     "text": [
      "\n",
      "\tPearson's Chi-squared test with Yates' continuity correction\n",
      "\n",
      "data:  car.data\n",
      "X-squared = 4.5e-29, df = 1, p-value = 1\n",
      "\n"
     ]
    }
   ],
   "source": [
    "age_gp <- subset(rsv.data, age_years == \"4-5 years\")\n",
    "age_gp <- age_gp %>%\n",
    "mutate(\n",
    "    missing = case_when(\n",
    "      is.na(total_cont) == T ~ \"Missing\",  #because the child itself is also included in household size\n",
    "      is.na(total_cont) == F ~ \"Not missing\"       #the household04 of children of age 5 should also include the child itself\n",
    "      )\n",
    "    )\n",
    "\n",
    "one <- subset(age_gp, missing == \"Missing\")\n",
    "two <- subset(age_gp, missing == \"Not missing\")\n",
    "three <- rbind(one, two)\n",
    "car.data = table(three$missing, three$Nursery) \n",
    "print(car.data)\n",
    "\n",
    "# Perform the Chi-Square test.\n",
    "print(chisq.test(car.data))"
   ]
  },
  {
   "cell_type": "code",
   "execution_count": null,
   "id": "527b94b9-1af4-4324-a799-41a561092e0b",
   "metadata": {},
   "outputs": [],
   "source": [
    "age_gp <- subset(rsv.data, age_years == \"0-6 months\")\n",
    "age_gp <- age_gp %>%\n",
    "mutate(\n",
    "    missing = case_when(\n",
    "      is.na(total_cont) == T ~ \"Missing\",  #because the child itself is also included in household size\n",
    "      is.na(total_cont) == F ~ \"Not missing\"       #the household04 of children of age 5 should also include the child itself\n",
    "      )\n",
    "    )\n",
    "\n",
    "one <- subset(age_gp, missing == \"Missing\")\n",
    "two <- subset(age_gp, missing == \"Not missing\")\n",
    "three <- rbind(one, two)\n",
    "car.data = table(three$missing, three$Nursery) \n",
    "print(car.data)\n",
    "\n",
    "# Perform the Chi-Square test.\n",
    "print(chisq.test(car.data))"
   ]
  }
 ],
 "metadata": {
  "kernelspec": {
   "display_name": "R",
   "language": "R",
   "name": "ir"
  },
  "language_info": {
   "codemirror_mode": "r",
   "file_extension": ".r",
   "mimetype": "text/x-r-source",
   "name": "R",
   "pygments_lexer": "r",
   "version": "4.1.3"
  }
 },
 "nbformat": 4,
 "nbformat_minor": 5
}
