{
 "cells": [
  {
   "cell_type": "code",
   "execution_count": 1,
   "id": "d7939bdc-2bb9-4f00-851a-3ff63293d584",
   "metadata": {},
   "outputs": [
    {
     "name": "stderr",
     "output_type": "stream",
     "text": [
      "Loading required namespace: pkgbuild\n",
      "\n",
      "\u001b[36mi\u001b[39m 18 functions decorated with [[cpp11::register]]\n",
      "\n",
      "\u001b[32mv\u001b[39m generated file \u001b[34m\u001b[34mcpp11.R\u001b[34m\u001b[39m\n",
      "\n",
      "\u001b[32mv\u001b[39m generated file \u001b[34m\u001b[34mcpp11.cpp\u001b[34m\u001b[39m\n",
      "\n",
      "Re-compiling sir77a075f7\n",
      "\n"
     ]
    },
    {
     "name": "stdout",
     "output_type": "stream",
     "text": [
      "\u001b[90m-\u001b[39m\u001b[90m  \u001b[39m\u001b[90minstalling *source* package 'sir77a075f7' ...\u001b[39m\u001b[36m\u001b[39m\n",
      "   ** using staged installation\n",
      "   ** libs\n",
      "   g++  -std=gnu++11 -I\"C:/Users/julia/anaconda3/lib/R/include\" -DNDEBUG  -I'C:/Users/julia/OneDrive - London School of Hygiene and Tropical Medicine/Documents/R/win-library/4.1/cpp11/include'     -IC:/Users/julia/anaconda3/Lib/R/library/dust/include -DHAVE_INLINE -fopenmp   -O2 -Wall  -march=x86-64 -mtune=generic  -Wall -pedantic -c cpp11.cpp -o cpp11.o\n",
      "   g++  -std=gnu++11 -I\"C:/Users/julia/anaconda3/lib/R/include\" -DNDEBUG  -I'C:/Users/julia/OneDrive - London School of Hygiene and Tropical Medicine/Documents/R/win-library/4.1/cpp11/include'     -IC:/Users/julia/anaconda3/Lib/R/library/dust/include -DHAVE_INLINE -fopenmp   -O2 -Wall  -march=x86-64 -mtune=generic  -Wall -pedantic -c dust.cpp -o dust.o\n",
      "   dust.cpp: In function 'cpp11::sexp dust::dust_info(const dust::pars_type<T>&) [with T = sir]':\n",
      "   dust.cpp:298:28: warning: variable 'internal' set but not used [-Wunused-but-set-variable]\n",
      "     298 |   const sir::internal_type internal = pars.internal;\n",
      "         |                            ^~~~~~~~\n",
      "   g++ -shared -s -o sir77a075f7.dll tmp.def cpp11.o dust.o -fopenmp -LC:/Users/julia/anaconda3/lib/R/bin/x64 -lR\n",
      "   installing to C:/Users/julia/AppData/Local/Temp/RtmpopCtHt/devtools_install_14f82075329e/00LOCK-file14f8435448a2/00new/sir77a075f7/libs/x64\n",
      "\u001b[90m-\u001b[39m\u001b[90m  \u001b[39m\u001b[90mDONE (sir77a075f7)\u001b[39m\u001b[36m\u001b[39m\n",
      "\r"
     ]
    },
    {
     "name": "stderr",
     "output_type": "stream",
     "text": [
      "\u001b[36mi\u001b[39m Loading \u001b[34m\u001b[34msir77a075f7\u001b[34m\u001b[39m\n",
      "\n"
     ]
    }
   ],
   "source": [
    "library(odin.dust)\n",
    "gen_sir <- odin.dust::odin_dust(\"sir.R\")"
   ]
  },
  {
   "cell_type": "code",
   "execution_count": 56,
   "id": "1b83429f-931e-4d69-a3be-eae16a963ff4",
   "metadata": {},
   "outputs": [
    {
     "data": {
      "text/html": [
       "'C:/Users/julia/OneDrive - London School of Hygiene and Tropical Medicine/Documents/LSHTM/Project'"
      ],
      "text/latex": [
       "'C:/Users/julia/OneDrive - London School of Hygiene and Tropical Medicine/Documents/LSHTM/Project'"
      ],
      "text/markdown": [
       "'C:/Users/julia/OneDrive - London School of Hygiene and Tropical Medicine/Documents/LSHTM/Project'"
      ],
      "text/plain": [
       "[1] \"C:/Users/julia/OneDrive - London School of Hygiene and Tropical Medicine/Documents/LSHTM/Project\""
      ]
     },
     "metadata": {},
     "output_type": "display_data"
    },
    {
     "name": "stderr",
     "output_type": "stream",
     "text": [
      "\u001b[1mRows: \u001b[22m\u001b[34m682\u001b[39m \u001b[1mColumns: \u001b[22m\u001b[34m23\u001b[39m\n",
      "\u001b[36m--\u001b[39m \u001b[1mColumn specification\u001b[22m \u001b[36m------------------------------------------------------------------------------------------------\u001b[39m\n",
      "\u001b[1mDelimiter:\u001b[22m \",\"\n",
      "\u001b[32mdbl\u001b[39m  (20): age_days, infection, IgG_PreF, IgA_PreF, IgG_PostF, IgA_PostF, Ig...\n",
      "\u001b[33mlgl\u001b[39m   (1): IgA_Nn_household\n",
      "\u001b[34mdate\u001b[39m  (2): birthday, consultdate\n",
      "\n",
      "\u001b[36mi\u001b[39m Use `spec()` to retrieve the full column specification for this data.\n",
      "\u001b[36mi\u001b[39m Specify the column types or set `show_col_types = FALSE` to quiet this message.\n"
     ]
    }
   ],
   "source": [
    "#load true data\n",
    "PATH <- file.path(\"C:/Users/julia/OneDrive - London School of Hygiene and Tropical Medicine/Documents/LSHTM/Project\") #\"/home/andewegs/1_RSV_scripts/\"\n",
    "setwd(PATH)\n",
    "getwd()\n",
    "library(tidyverse)\n",
    "rsv.data <- read_csv(file = \"Data/infection_status.csv\")"
   ]
  },
  {
   "cell_type": "code",
   "execution_count": 57,
   "id": "4ba76b18-841a-43de-9f50-9f85ea7f3bb5",
   "metadata": {},
   "outputs": [
    {
     "data": {
      "text/html": [
       "<table class=\"dataframe\">\n",
       "<caption>A data.frame: 6 × 3</caption>\n",
       "<thead>\n",
       "\t<tr><th></th><th scope=col>age</th><th scope=col>infected</th><th scope=col>cuminfection</th></tr>\n",
       "\t<tr><th></th><th scope=col>&lt;dbl&gt;</th><th scope=col>&lt;int&gt;</th><th scope=col>&lt;int&gt;</th></tr>\n",
       "</thead>\n",
       "<tbody>\n",
       "\t<tr><th scope=row>1808</th><td>1808</td><td>1</td><td>339</td></tr>\n",
       "\t<tr><th scope=row>1821</th><td>1821</td><td>1</td><td>340</td></tr>\n",
       "\t<tr><th scope=row>1823</th><td>1823</td><td>1</td><td>341</td></tr>\n",
       "\t<tr><th scope=row>1841</th><td>1841</td><td>2</td><td>343</td></tr>\n",
       "\t<tr><th scope=row>1843</th><td>1843</td><td>1</td><td>344</td></tr>\n",
       "\t<tr><th scope=row>1854</th><td>1854</td><td>1</td><td>345</td></tr>\n",
       "</tbody>\n",
       "</table>\n"
      ],
      "text/latex": [
       "A data.frame: 6 × 3\n",
       "\\begin{tabular}{r|lll}\n",
       "  & age & infected & cuminfection\\\\\n",
       "  & <dbl> & <int> & <int>\\\\\n",
       "\\hline\n",
       "\t1808 & 1808 & 1 & 339\\\\\n",
       "\t1821 & 1821 & 1 & 340\\\\\n",
       "\t1823 & 1823 & 1 & 341\\\\\n",
       "\t1841 & 1841 & 2 & 343\\\\\n",
       "\t1843 & 1843 & 1 & 344\\\\\n",
       "\t1854 & 1854 & 1 & 345\\\\\n",
       "\\end{tabular}\n"
      ],
      "text/markdown": [
       "\n",
       "A data.frame: 6 × 3\n",
       "\n",
       "| <!--/--> | age &lt;dbl&gt; | infected &lt;int&gt; | cuminfection &lt;int&gt; |\n",
       "|---|---|---|---|\n",
       "| 1808 | 1808 | 1 | 339 |\n",
       "| 1821 | 1821 | 1 | 340 |\n",
       "| 1823 | 1823 | 1 | 341 |\n",
       "| 1841 | 1841 | 2 | 343 |\n",
       "| 1843 | 1843 | 1 | 344 |\n",
       "| 1854 | 1854 | 1 | 345 |\n",
       "\n"
      ],
      "text/plain": [
       "     age  infected cuminfection\n",
       "1808 1808 1        339         \n",
       "1821 1821 1        340         \n",
       "1823 1823 1        341         \n",
       "1841 1841 2        343         \n",
       "1843 1843 1        344         \n",
       "1854 1854 1        345         "
      ]
     },
     "metadata": {},
     "output_type": "display_data"
    }
   ],
   "source": [
    "rsv_by_age <- rsv.data %>% arrange(age_days)\n",
    "tab <- table(rsv_by_age$age_days, rsv_by_age$infection)\n",
    "dframe <- data.frame(age=rownames(tab), infected=tab[,2])\n",
    "dframe$age <- as.numeric(dframe$age)\n",
    "dframe$cuminfection <- cumsum(dframe$infected)\n",
    "tail(dframe)"
   ]
  },
  {
   "cell_type": "code",
   "execution_count": 53,
   "id": "45a00a25-cfb6-4c80-ae04-50965843b7db",
   "metadata": {},
   "outputs": [],
   "source": [
    "#model with S = 635 = number of participants aged 97 days or more\n",
    "sir_model <- gen_sir$new(pars = list(dt = 1,\n",
    "                                     S_ini = 635,\n",
    "                                     I_ini = 1,\n",
    "                                     beta = 0.2,\n",
    "                                     gamma = 0.1),\n",
    "                         step = 1,\n",
    "                         n_particles = 10L,\n",
    "                         n_threads = 4L,\n",
    "                         seed = 1L)"
   ]
  },
  {
   "cell_type": "code",
   "execution_count": 23,
   "id": "bad2c63c-b959-4186-9ad8-aded41b77603",
   "metadata": {},
   "outputs": [
    {
     "data": {
      "text/html": [
       "<table class=\"dataframe\">\n",
       "<caption>A matrix: 4 × 10 of type dbl</caption>\n",
       "<tbody>\n",
       "\t<tr><td>  0</td><td>  0</td><td>  0</td><td>  0</td><td>  0</td><td>  0</td><td>  0</td><td>  0</td><td>  0</td><td>  0</td></tr>\n",
       "\t<tr><td>635</td><td>635</td><td>635</td><td>635</td><td>635</td><td>635</td><td>635</td><td>635</td><td>635</td><td>635</td></tr>\n",
       "\t<tr><td>  1</td><td>  1</td><td>  1</td><td>  1</td><td>  1</td><td>  1</td><td>  1</td><td>  1</td><td>  1</td><td>  1</td></tr>\n",
       "\t<tr><td>  0</td><td>  0</td><td>  0</td><td>  0</td><td>  0</td><td>  0</td><td>  0</td><td>  0</td><td>  0</td><td>  0</td></tr>\n",
       "</tbody>\n",
       "</table>\n"
      ],
      "text/latex": [
       "A matrix: 4 × 10 of type dbl\n",
       "\\begin{tabular}{llllllllll}\n",
       "\t   0 &   0 &   0 &   0 &   0 &   0 &   0 &   0 &   0 &   0\\\\\n",
       "\t 635 & 635 & 635 & 635 & 635 & 635 & 635 & 635 & 635 & 635\\\\\n",
       "\t   1 &   1 &   1 &   1 &   1 &   1 &   1 &   1 &   1 &   1\\\\\n",
       "\t   0 &   0 &   0 &   0 &   0 &   0 &   0 &   0 &   0 &   0\\\\\n",
       "\\end{tabular}\n"
      ],
      "text/markdown": [
       "\n",
       "A matrix: 4 × 10 of type dbl\n",
       "\n",
       "|   0 |   0 |   0 |   0 |   0 |   0 |   0 |   0 |   0 |   0 |\n",
       "| 635 | 635 | 635 | 635 | 635 | 635 | 635 | 635 | 635 | 635 |\n",
       "|   1 |   1 |   1 |   1 |   1 |   1 |   1 |   1 |   1 |   1 |\n",
       "|   0 |   0 |   0 |   0 |   0 |   0 |   0 |   0 |   0 |   0 |\n",
       "\n"
      ],
      "text/plain": [
       "     [,1] [,2] [,3] [,4] [,5] [,6] [,7] [,8] [,9] [,10]\n",
       "[1,]   0    0    0    0    0    0    0    0    0    0  \n",
       "[2,] 635  635  635  635  635  635  635  635  635  635  \n",
       "[3,]   1    1    1    1    1    1    1    1    1    1  \n",
       "[4,]   0    0    0    0    0    0    0    0    0    0  "
      ]
     },
     "metadata": {},
     "output_type": "display_data"
    }
   ],
   "source": [
    "#check the state\n",
    "sir_model$state()"
   ]
  },
  {
   "cell_type": "code",
   "execution_count": 54,
   "id": "8a0e1a3c-c73b-4a58-a43e-92381bf0284a",
   "metadata": {},
   "outputs": [
    {
     "data": {
      "image/png": "[encoded data removed]",
      "text/plain": [
       "Plot with title \"Epidemic for beta = 0.2 and gamma = 0.1\""
      ]
     },
     "metadata": {
      "image/png": {
       "height": 420,
       "width": 420
      }
     },
     "output_type": "display_data"
    }
   ],
   "source": [
    "#plot the epidemic\n",
    "\n",
    "n_steps <- 1818\n",
    "x <- array(NA, dim = c(sir_model$info()$len, n_particles= 10L, n_steps))\n",
    "\n",
    "for (t in seq_len(n_steps)) {\n",
    "  x[ , , t] <- sir_model$run(t)\n",
    "}\n",
    "time <- x[1, 1, ]\n",
    "x <- x[-1, , ]\n",
    "\n",
    "#png(\"SIR with beta=0.2, gamma = 0.1.png\")\n",
    "par(mar = c(4.1, 5.1, 0.5, 0.5), las = 1)\n",
    "cols <- c(S = \"#8c8cd9\", I = \"#cc0044\", R = \"#999966\", True_R = \"#00FF7F\")\n",
    "matplot(time, t(x[1, , ]), type = \"l\",\n",
    "         xlab = \"Time\", ylab = \"Number of individuals\",\n",
    "         col = cols[[\"S\"]], lty = 1, ylim = range(x))\n",
    "matlines(time, t(x[2, , ]), col = cols[[\"I\"]], lty = 1)\n",
    "matlines(time, t(x[3, , ]), col = cols[[\"R\"]], lty = 1)\n",
    "matlines(dframe$age, dframe$cuminfection, col = cols[[\"True_R\"]], lty = 1)\n",
    "legend(\"right\", lwd = 1, col = cols, legend = names(cols), bty = \"n\")\n",
    "title(\"Epidemic for beta = 0.2 and gamma = 0.1\")\n",
    "#dev.off()"
   ]
  },
  {
   "cell_type": "code",
   "execution_count": 55,
   "id": "898f51d9-9ac0-47d5-b02b-0b6a75bae482",
   "metadata": {},
   "outputs": [
    {
     "data": {
      "text/html": [
       "<table class=\"dataframe\">\n",
       "<caption>A matrix: 4 × 10 of type dbl</caption>\n",
       "<tbody>\n",
       "\t<tr><td>1818</td><td>1818</td><td>1818</td><td>1818</td><td>1818</td><td>1818</td><td>1818</td><td>1818</td><td>1818</td><td>1818</td></tr>\n",
       "\t<tr><td> 634</td><td> 129</td><td> 162</td><td> 153</td><td>  92</td><td> 632</td><td> 149</td><td>  85</td><td> 635</td><td>  94</td></tr>\n",
       "\t<tr><td>   0</td><td>   0</td><td>   0</td><td>   0</td><td>   0</td><td>   0</td><td>   0</td><td>   0</td><td>   0</td><td>   0</td></tr>\n",
       "\t<tr><td>   2</td><td> 507</td><td> 474</td><td> 483</td><td> 544</td><td>   4</td><td> 487</td><td> 551</td><td>   1</td><td> 542</td></tr>\n",
       "</tbody>\n",
       "</table>\n"
      ],
      "text/latex": [
       "A matrix: 4 × 10 of type dbl\n",
       "\\begin{tabular}{llllllllll}\n",
       "\t 1818 & 1818 & 1818 & 1818 & 1818 & 1818 & 1818 & 1818 & 1818 & 1818\\\\\n",
       "\t  634 &  129 &  162 &  153 &   92 &  632 &  149 &   85 &  635 &   94\\\\\n",
       "\t    0 &    0 &    0 &    0 &    0 &    0 &    0 &    0 &    0 &    0\\\\\n",
       "\t    2 &  507 &  474 &  483 &  544 &    4 &  487 &  551 &    1 &  542\\\\\n",
       "\\end{tabular}\n"
      ],
      "text/markdown": [
       "\n",
       "A matrix: 4 × 10 of type dbl\n",
       "\n",
       "| 1818 | 1818 | 1818 | 1818 | 1818 | 1818 | 1818 | 1818 | 1818 | 1818 |\n",
       "|  634 |  129 |  162 |  153 |   92 |  632 |  149 |   85 |  635 |   94 |\n",
       "|    0 |    0 |    0 |    0 |    0 |    0 |    0 |    0 |    0 |    0 |\n",
       "|    2 |  507 |  474 |  483 |  544 |    4 |  487 |  551 |    1 |  542 |\n",
       "\n"
      ],
      "text/plain": [
       "     [,1] [,2] [,3] [,4] [,5] [,6] [,7] [,8] [,9] [,10]\n",
       "[1,] 1818 1818 1818 1818 1818 1818 1818 1818 1818 1818 \n",
       "[2,]  634  129  162  153   92  632  149   85  635   94 \n",
       "[3,]    0    0    0    0    0    0    0    0    0    0 \n",
       "[4,]    2  507  474  483  544    4  487  551    1  542 "
      ]
     },
     "metadata": {},
     "output_type": "display_data"
    }
   ],
   "source": [
    "sir_model$state()"
   ]
  }
 ],
 "metadata": {
  "kernelspec": {
   "display_name": "R",
   "language": "R",
   "name": "ir"
  },
  "language_info": {
   "codemirror_mode": "r",
   "file_extension": ".r",
   "mimetype": "text/x-r-source",
   "name": "R",
   "pygments_lexer": "r",
   "version": "4.1.3"
  }
 },
 "nbformat": 4,
 "nbformat_minor": 5
}
