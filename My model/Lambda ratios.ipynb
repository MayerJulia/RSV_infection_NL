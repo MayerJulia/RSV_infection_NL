{
 "cells": [
  {
   "cell_type": "code",
   "execution_count": 2,
   "id": "749dacdf-eee4-41a4-bd46-b4ced15e78e4",
   "metadata": {},
   "outputs": [
    {
     "data": {
      "text/html": [
       "'C:/Users/julia/OneDrive - London School of Hygiene and Tropical Medicine/Documents/LSHTM/Project/RSV_infection_NL/CSV files'"
      ],
      "text/latex": [
       "'C:/Users/julia/OneDrive - London School of Hygiene and Tropical Medicine/Documents/LSHTM/Project/RSV\\_infection\\_NL/CSV files'"
      ],
      "text/markdown": [
       "'C:/Users/julia/OneDrive - London School of Hygiene and Tropical Medicine/Documents/LSHTM/Project/RSV_infection_NL/CSV files'"
      ],
      "text/plain": [
       "[1] \"C:/Users/julia/OneDrive - London School of Hygiene and Tropical Medicine/Documents/LSHTM/Project/RSV_infection_NL/CSV files\""
      ]
     },
     "metadata": {},
     "output_type": "display_data"
    }
   ],
   "source": [
    "setwd(\"../CSV files\")\n",
    "getwd()\n",
    "trajsim2 <- read.csv(\"Daycare with addition/Updating contacts every 6 months/add_DEzs_trajsim_ll.csv\")"
   ]
  },
  {
   "cell_type": "code",
   "execution_count": 3,
   "id": "370c9d5b-7eec-476e-bca7-d239d594cdca",
   "metadata": {},
   "outputs": [
    {
     "data": {
      "text/html": [
       "<style>\n",
       ".list-inline {list-style: none; margin:0; padding: 0}\n",
       ".list-inline>li {display: inline-block}\n",
       ".list-inline>li:not(:last-child)::after {content: \"\\00b7\"; padding: 0 .5ex}\n",
       "</style>\n",
       "<ol class=list-inline><li>'X'</li><li>'replicate'</li><li>'P'</li><li>'M'</li><li>'A'</li><li>'W'</li><li>'B'</li><li>'C'</li><li>'D'</li><li>'time'</li><li>'M_sp'</li><li>'M_sm'</li><li>'M_au'</li><li>'M_wt'</li><li>'S_sp'</li><li>'S_sm'</li><li>'S_au'</li><li>'S_wt'</li><li>'Z_sp'</li><li>'Z_sm'</li><li>'Z_au'</li><li>'Z_wt'</li><li>'lambda_sp'</li><li>'lambda_sm'</li><li>'lambda_au'</li><li>'lambda_wt'</li><li>'mu'</li><li>'conv_spring'</li><li>'inc_spring'</li><li>'conv_summer'</li><li>'inc_summer'</li><li>'conv_autumn'</li><li>'inc_autumn'</li><li>'conv_winter'</li><li>'inc_winter'</li><li>'Z_all'</li><li>'conv'</li></ol>\n"
      ],
      "text/latex": [
       "\\begin{enumerate*}\n",
       "\\item 'X'\n",
       "\\item 'replicate'\n",
       "\\item 'P'\n",
       "\\item 'M'\n",
       "\\item 'A'\n",
       "\\item 'W'\n",
       "\\item 'B'\n",
       "\\item 'C'\n",
       "\\item 'D'\n",
       "\\item 'time'\n",
       "\\item 'M\\_sp'\n",
       "\\item 'M\\_sm'\n",
       "\\item 'M\\_au'\n",
       "\\item 'M\\_wt'\n",
       "\\item 'S\\_sp'\n",
       "\\item 'S\\_sm'\n",
       "\\item 'S\\_au'\n",
       "\\item 'S\\_wt'\n",
       "\\item 'Z\\_sp'\n",
       "\\item 'Z\\_sm'\n",
       "\\item 'Z\\_au'\n",
       "\\item 'Z\\_wt'\n",
       "\\item 'lambda\\_sp'\n",
       "\\item 'lambda\\_sm'\n",
       "\\item 'lambda\\_au'\n",
       "\\item 'lambda\\_wt'\n",
       "\\item 'mu'\n",
       "\\item 'conv\\_spring'\n",
       "\\item 'inc\\_spring'\n",
       "\\item 'conv\\_summer'\n",
       "\\item 'inc\\_summer'\n",
       "\\item 'conv\\_autumn'\n",
       "\\item 'inc\\_autumn'\n",
       "\\item 'conv\\_winter'\n",
       "\\item 'inc\\_winter'\n",
       "\\item 'Z\\_all'\n",
       "\\item 'conv'\n",
       "\\end{enumerate*}\n"
      ],
      "text/markdown": [
       "1. 'X'\n",
       "2. 'replicate'\n",
       "3. 'P'\n",
       "4. 'M'\n",
       "5. 'A'\n",
       "6. 'W'\n",
       "7. 'B'\n",
       "8. 'C'\n",
       "9. 'D'\n",
       "10. 'time'\n",
       "11. 'M_sp'\n",
       "12. 'M_sm'\n",
       "13. 'M_au'\n",
       "14. 'M_wt'\n",
       "15. 'S_sp'\n",
       "16. 'S_sm'\n",
       "17. 'S_au'\n",
       "18. 'S_wt'\n",
       "19. 'Z_sp'\n",
       "20. 'Z_sm'\n",
       "21. 'Z_au'\n",
       "22. 'Z_wt'\n",
       "23. 'lambda_sp'\n",
       "24. 'lambda_sm'\n",
       "25. 'lambda_au'\n",
       "26. 'lambda_wt'\n",
       "27. 'mu'\n",
       "28. 'conv_spring'\n",
       "29. 'inc_spring'\n",
       "30. 'conv_summer'\n",
       "31. 'inc_summer'\n",
       "32. 'conv_autumn'\n",
       "33. 'inc_autumn'\n",
       "34. 'conv_winter'\n",
       "35. 'inc_winter'\n",
       "36. 'Z_all'\n",
       "37. 'conv'\n",
       "\n",
       "\n"
      ],
      "text/plain": [
       " [1] \"X\"           \"replicate\"   \"P\"           \"M\"           \"A\"          \n",
       " [6] \"W\"           \"B\"           \"C\"           \"D\"           \"time\"       \n",
       "[11] \"M_sp\"        \"M_sm\"        \"M_au\"        \"M_wt\"        \"S_sp\"       \n",
       "[16] \"S_sm\"        \"S_au\"        \"S_wt\"        \"Z_sp\"        \"Z_sm\"       \n",
       "[21] \"Z_au\"        \"Z_wt\"        \"lambda_sp\"   \"lambda_sm\"   \"lambda_au\"  \n",
       "[26] \"lambda_wt\"   \"mu\"          \"conv_spring\" \"inc_spring\"  \"conv_summer\"\n",
       "[31] \"inc_summer\"  \"conv_autumn\" \"inc_autumn\"  \"conv_winter\" \"inc_winter\" \n",
       "[36] \"Z_all\"       \"conv\"       "
      ]
     },
     "metadata": {},
     "output_type": "display_data"
    }
   ],
   "source": [
    "colnames(trajsim2)"
   ]
  },
  {
   "cell_type": "code",
   "execution_count": 45,
   "id": "ca8d54d6-6646-4262-9615-f470a5bba2f1",
   "metadata": {},
   "outputs": [],
   "source": [
    "lambda_sp <- trajsim2$lambda_sp\n",
    "lambda_sm <- trajsim2$lambda_sm\n",
    "lambda_au <- trajsim2$lambda_au\n",
    "lambda_wt <- trajsim2$lambda_wt"
   ]
  },
  {
   "cell_type": "code",
   "execution_count": 47,
   "id": "f87280f2-213a-415b-bf62-28d7d762bbb6",
   "metadata": {},
   "outputs": [],
   "source": [
    "trajsim2$ratiowp <- lambda_sp/lambda_wt\n",
    "ratio_winter_spring <- plyr::ddply(.data=trajsim2, .variables=\"time\", function(x) quantile(x[,\"ratiowp\"], prob = c(0.025, 0.5, 0.975), na.rm=T))\n",
    "                                   \n",
    "trajsim2$ratiowm <- lambda_sm/lambda_wt\n",
    "ratio_winter_summer <- plyr::ddply(.data=trajsim2, .variables=\"time\", function(x) quantile(x[,\"ratiowm\"], prob = c(0.025, 0.5, 0.975), na.rm=T)) \n",
    "                                   \n",
    "trajsim2$ratiowa <- lambda_au/lambda_wt\n",
    "ratio_winter_autumn <- plyr::ddply(.data=trajsim2, .variables=\"time\", function(x) quantile(x[,\"ratiowa\"], prob = c(0.025, 0.5, 0.975), na.rm=T)) \n",
    "                                   \n",
    "trajsim2$ratiopa <- lambda_au/lambda_sp\n",
    "ratio_spring_autumn <- plyr::ddply(.data=trajsim2, .variables=\"time\", function(x) quantile(x[,\"ratiopa\"], prob = c(0.025, 0.5, 0.975), na.rm=T))  \n",
    "                                  \n",
    "trajsim2$ratiopm <- lambda_sm/lambda_sp\n",
    "ratio_spring_summer <- plyr::ddply(.data=trajsim2, .variables=\"time\", function(x) quantile(x[,\"ratiopm\"], prob = c(0.025, 0.5, 0.975), na.rm=T)) \n",
    "                                   \n",
    "trajsim2$ratioam <- lambda_sm/lambda_au\n",
    "ratio_autumn_summer <- plyr::ddply(.data=trajsim2, .variables=\"time\", function(x) quantile(x[,\"ratioam\"], prob = c(0.025, 0.5, 0.975), na.rm=T))                                   "
   ]
  },
  {
   "cell_type": "code",
   "execution_count": 48,
   "id": "7daff530-5ae5-450f-8aac-917a49d1045d",
   "metadata": {},
   "outputs": [
    {
     "data": {
      "text/html": [
       "<table class=\"dataframe\">\n",
       "<caption>A data.frame: 6 × 4</caption>\n",
       "<thead>\n",
       "\t<tr><th></th><th scope=col>time</th><th scope=col>2.5%</th><th scope=col>50%</th><th scope=col>97.5%</th></tr>\n",
       "\t<tr><th></th><th scope=col>&lt;int&gt;</th><th scope=col>&lt;dbl&gt;</th><th scope=col>&lt;dbl&gt;</th><th scope=col>&lt;dbl&gt;</th></tr>\n",
       "</thead>\n",
       "<tbody>\n",
       "\t<tr><th scope=row>1</th><td>37</td><td>0.05347556</td><td>0.4555145</td><td>0.9616329</td></tr>\n",
       "\t<tr><th scope=row>2</th><td>41</td><td>0.05347556</td><td>0.4555145</td><td>0.9616329</td></tr>\n",
       "\t<tr><th scope=row>3</th><td>53</td><td>0.05347556</td><td>0.4555145</td><td>0.9616329</td></tr>\n",
       "\t<tr><th scope=row>4</th><td>57</td><td>0.05347556</td><td>0.4555145</td><td>0.9616329</td></tr>\n",
       "\t<tr><th scope=row>5</th><td>59</td><td>0.05347556</td><td>0.4555145</td><td>0.9616329</td></tr>\n",
       "\t<tr><th scope=row>6</th><td>82</td><td>0.05347556</td><td>0.4555145</td><td>0.9616329</td></tr>\n",
       "</tbody>\n",
       "</table>\n"
      ],
      "text/latex": [
       "A data.frame: 6 × 4\n",
       "\\begin{tabular}{r|llll}\n",
       "  & time & 2.5\\% & 50\\% & 97.5\\%\\\\\n",
       "  & <int> & <dbl> & <dbl> & <dbl>\\\\\n",
       "\\hline\n",
       "\t1 & 37 & 0.05347556 & 0.4555145 & 0.9616329\\\\\n",
       "\t2 & 41 & 0.05347556 & 0.4555145 & 0.9616329\\\\\n",
       "\t3 & 53 & 0.05347556 & 0.4555145 & 0.9616329\\\\\n",
       "\t4 & 57 & 0.05347556 & 0.4555145 & 0.9616329\\\\\n",
       "\t5 & 59 & 0.05347556 & 0.4555145 & 0.9616329\\\\\n",
       "\t6 & 82 & 0.05347556 & 0.4555145 & 0.9616329\\\\\n",
       "\\end{tabular}\n"
      ],
      "text/markdown": [
       "\n",
       "A data.frame: 6 × 4\n",
       "\n",
       "| <!--/--> | time &lt;int&gt; | 2.5% &lt;dbl&gt; | 50% &lt;dbl&gt; | 97.5% &lt;dbl&gt; |\n",
       "|---|---|---|---|---|\n",
       "| 1 | 37 | 0.05347556 | 0.4555145 | 0.9616329 |\n",
       "| 2 | 41 | 0.05347556 | 0.4555145 | 0.9616329 |\n",
       "| 3 | 53 | 0.05347556 | 0.4555145 | 0.9616329 |\n",
       "| 4 | 57 | 0.05347556 | 0.4555145 | 0.9616329 |\n",
       "| 5 | 59 | 0.05347556 | 0.4555145 | 0.9616329 |\n",
       "| 6 | 82 | 0.05347556 | 0.4555145 | 0.9616329 |\n",
       "\n"
      ],
      "text/plain": [
       "  time 2.5%       50%       97.5%    \n",
       "1 37   0.05347556 0.4555145 0.9616329\n",
       "2 41   0.05347556 0.4555145 0.9616329\n",
       "3 53   0.05347556 0.4555145 0.9616329\n",
       "4 57   0.05347556 0.4555145 0.9616329\n",
       "5 59   0.05347556 0.4555145 0.9616329\n",
       "6 82   0.05347556 0.4555145 0.9616329"
      ]
     },
     "metadata": {},
     "output_type": "display_data"
    }
   ],
   "source": [
    "head(ratio_spring_summer)"
   ]
  },
  {
   "cell_type": "code",
   "execution_count": 9,
   "id": "123b52f8-a6ab-4594-b3f7-ef0d8c17b9ac",
   "metadata": {},
   "outputs": [],
   "source": [
    "write.csv(ratio_winter_autumn, \"risk_ratio_winter_autumn.csv\")\n",
    "write.csv(ratio_winter_spring, \"risk_ratio_winter_spring.csv\")\n",
    "write.csv(ratio_winter_summer, \"risk_ratio_winter_summer.csv\")\n",
    "write.csv(ratio_autumn_summer, \"risk_ratio_autumn_summer.csv\")\n",
    "write.csv(ratio_spring_autumn, \"risk_ratio_autumn_spring.csv\")\n",
    "write.csv(ratio_spring_summer, \"risk_ratio_spring_summer.csv\")"
   ]
  },
  {
   "cell_type": "code",
   "execution_count": 36,
   "id": "335d8626-11fa-4f1f-a737-b0dd85841fad",
   "metadata": {},
   "outputs": [],
   "source": [
    "spring <- trajsim2$P\n",
    "winter <- trajsim2$W\n",
    "autumn <- trajsim2$A\n",
    "summer <- trajsim2$M"
   ]
  },
  {
   "cell_type": "code",
   "execution_count": 39,
   "id": "90c74fba-76fa-41b3-add7-13426c19e3b3",
   "metadata": {},
   "outputs": [],
   "source": [
    "spring <- (spring + summer)\n",
    "autumn <- autumn + summer\n",
    "winter <- winter + summer"
   ]
  },
  {
   "cell_type": "code",
   "execution_count": 49,
   "id": "886f5cc6-51cc-4604-a825-350421674231",
   "metadata": {},
   "outputs": [],
   "source": [
    "trajsim2$rratiowm <- summer/winter\n",
    "rr_winter_summer <- plyr::ddply(.data=trajsim2, .variables=\"time\", function(x) quantile(x[,\"rratiowm\"], prob = c(0.025, 0.5, 0.975), na.rm=T))\n",
    "                                \n",
    "trajsim2$rratiopm <- summer/spring\n",
    "rratio_spring_summer <- plyr::ddply(.data=trajsim2, .variables=\"time\", function(x) quantile(x[,\"rratiopm\"], prob = c(0.025, 0.5, 0.975), na.rm=T))   \n",
    "                                    \n",
    "trajsim2$rratioam <- summer/autumn\n",
    "rratio_autumn_summer <- plyr::ddply(.data=trajsim2, .variables=\"time\", function(x) quantile(x[,\"rratioam\"], prob = c(0.025, 0.5, 0.975), na.rm=T)) \n",
    "                                    "
   ]
  },
  {
   "cell_type": "code",
   "execution_count": 50,
   "id": "c40f8de9-38cb-43e4-86a6-71d387e1da8e",
   "metadata": {},
   "outputs": [
    {
     "data": {
      "text/html": [
       "<table class=\"dataframe\">\n",
       "<caption>A data.frame: 6 × 4</caption>\n",
       "<thead>\n",
       "\t<tr><th></th><th scope=col>time</th><th scope=col>2.5%</th><th scope=col>50%</th><th scope=col>97.5%</th></tr>\n",
       "\t<tr><th></th><th scope=col>&lt;int&gt;</th><th scope=col>&lt;dbl&gt;</th><th scope=col>&lt;dbl&gt;</th><th scope=col>&lt;dbl&gt;</th></tr>\n",
       "</thead>\n",
       "<tbody>\n",
       "\t<tr><th scope=row>1</th><td>37</td><td>0.001246135</td><td>0.0644415</td><td>0.8138968</td></tr>\n",
       "\t<tr><th scope=row>2</th><td>41</td><td>0.001246135</td><td>0.0644415</td><td>0.8138968</td></tr>\n",
       "\t<tr><th scope=row>3</th><td>53</td><td>0.001246135</td><td>0.0644415</td><td>0.8138968</td></tr>\n",
       "\t<tr><th scope=row>4</th><td>57</td><td>0.001246135</td><td>0.0644415</td><td>0.8138968</td></tr>\n",
       "\t<tr><th scope=row>5</th><td>59</td><td>0.001246135</td><td>0.0644415</td><td>0.8138968</td></tr>\n",
       "\t<tr><th scope=row>6</th><td>82</td><td>0.001246135</td><td>0.0644415</td><td>0.8138968</td></tr>\n",
       "</tbody>\n",
       "</table>\n"
      ],
      "text/latex": [
       "A data.frame: 6 × 4\n",
       "\\begin{tabular}{r|llll}\n",
       "  & time & 2.5\\% & 50\\% & 97.5\\%\\\\\n",
       "  & <int> & <dbl> & <dbl> & <dbl>\\\\\n",
       "\\hline\n",
       "\t1 & 37 & 0.001246135 & 0.0644415 & 0.8138968\\\\\n",
       "\t2 & 41 & 0.001246135 & 0.0644415 & 0.8138968\\\\\n",
       "\t3 & 53 & 0.001246135 & 0.0644415 & 0.8138968\\\\\n",
       "\t4 & 57 & 0.001246135 & 0.0644415 & 0.8138968\\\\\n",
       "\t5 & 59 & 0.001246135 & 0.0644415 & 0.8138968\\\\\n",
       "\t6 & 82 & 0.001246135 & 0.0644415 & 0.8138968\\\\\n",
       "\\end{tabular}\n"
      ],
      "text/markdown": [
       "\n",
       "A data.frame: 6 × 4\n",
       "\n",
       "| <!--/--> | time &lt;int&gt; | 2.5% &lt;dbl&gt; | 50% &lt;dbl&gt; | 97.5% &lt;dbl&gt; |\n",
       "|---|---|---|---|---|\n",
       "| 1 | 37 | 0.001246135 | 0.0644415 | 0.8138968 |\n",
       "| 2 | 41 | 0.001246135 | 0.0644415 | 0.8138968 |\n",
       "| 3 | 53 | 0.001246135 | 0.0644415 | 0.8138968 |\n",
       "| 4 | 57 | 0.001246135 | 0.0644415 | 0.8138968 |\n",
       "| 5 | 59 | 0.001246135 | 0.0644415 | 0.8138968 |\n",
       "| 6 | 82 | 0.001246135 | 0.0644415 | 0.8138968 |\n",
       "\n"
      ],
      "text/plain": [
       "  time 2.5%        50%       97.5%    \n",
       "1 37   0.001246135 0.0644415 0.8138968\n",
       "2 41   0.001246135 0.0644415 0.8138968\n",
       "3 53   0.001246135 0.0644415 0.8138968\n",
       "4 57   0.001246135 0.0644415 0.8138968\n",
       "5 59   0.001246135 0.0644415 0.8138968\n",
       "6 82   0.001246135 0.0644415 0.8138968"
      ]
     },
     "metadata": {},
     "output_type": "display_data"
    }
   ],
   "source": [
    "head(rr_winter_summer)"
   ]
  },
  {
   "cell_type": "code",
   "execution_count": 42,
   "id": "bc09a3ac-7d3b-40c2-893a-7bbca8d098b3",
   "metadata": {},
   "outputs": [
    {
     "data": {
      "text/html": [
       "<table class=\"dataframe\">\n",
       "<caption>A data.frame: 6 × 4</caption>\n",
       "<thead>\n",
       "\t<tr><th></th><th scope=col>time</th><th scope=col>2.5%</th><th scope=col>50%</th><th scope=col>97.5%</th></tr>\n",
       "\t<tr><th></th><th scope=col>&lt;int&gt;</th><th scope=col>&lt;dbl&gt;</th><th scope=col>&lt;dbl&gt;</th><th scope=col>&lt;dbl&gt;</th></tr>\n",
       "</thead>\n",
       "<tbody>\n",
       "\t<tr><th scope=row>1</th><td>37</td><td>0.007130847</td><td>0.2426935</td><td>0.9218919</td></tr>\n",
       "\t<tr><th scope=row>2</th><td>41</td><td>0.007130847</td><td>0.2426935</td><td>0.9218919</td></tr>\n",
       "\t<tr><th scope=row>3</th><td>53</td><td>0.007130847</td><td>0.2426935</td><td>0.9218919</td></tr>\n",
       "\t<tr><th scope=row>4</th><td>57</td><td>0.007130847</td><td>0.2426935</td><td>0.9218919</td></tr>\n",
       "\t<tr><th scope=row>5</th><td>59</td><td>0.007130847</td><td>0.2426935</td><td>0.9218919</td></tr>\n",
       "\t<tr><th scope=row>6</th><td>82</td><td>0.007130847</td><td>0.2426935</td><td>0.9218919</td></tr>\n",
       "</tbody>\n",
       "</table>\n"
      ],
      "text/latex": [
       "A data.frame: 6 × 4\n",
       "\\begin{tabular}{r|llll}\n",
       "  & time & 2.5\\% & 50\\% & 97.5\\%\\\\\n",
       "  & <int> & <dbl> & <dbl> & <dbl>\\\\\n",
       "\\hline\n",
       "\t1 & 37 & 0.007130847 & 0.2426935 & 0.9218919\\\\\n",
       "\t2 & 41 & 0.007130847 & 0.2426935 & 0.9218919\\\\\n",
       "\t3 & 53 & 0.007130847 & 0.2426935 & 0.9218919\\\\\n",
       "\t4 & 57 & 0.007130847 & 0.2426935 & 0.9218919\\\\\n",
       "\t5 & 59 & 0.007130847 & 0.2426935 & 0.9218919\\\\\n",
       "\t6 & 82 & 0.007130847 & 0.2426935 & 0.9218919\\\\\n",
       "\\end{tabular}\n"
      ],
      "text/markdown": [
       "\n",
       "A data.frame: 6 × 4\n",
       "\n",
       "| <!--/--> | time &lt;int&gt; | 2.5% &lt;dbl&gt; | 50% &lt;dbl&gt; | 97.5% &lt;dbl&gt; |\n",
       "|---|---|---|---|---|\n",
       "| 1 | 37 | 0.007130847 | 0.2426935 | 0.9218919 |\n",
       "| 2 | 41 | 0.007130847 | 0.2426935 | 0.9218919 |\n",
       "| 3 | 53 | 0.007130847 | 0.2426935 | 0.9218919 |\n",
       "| 4 | 57 | 0.007130847 | 0.2426935 | 0.9218919 |\n",
       "| 5 | 59 | 0.007130847 | 0.2426935 | 0.9218919 |\n",
       "| 6 | 82 | 0.007130847 | 0.2426935 | 0.9218919 |\n",
       "\n"
      ],
      "text/plain": [
       "  time 2.5%        50%       97.5%    \n",
       "1 37   0.007130847 0.2426935 0.9218919\n",
       "2 41   0.007130847 0.2426935 0.9218919\n",
       "3 53   0.007130847 0.2426935 0.9218919\n",
       "4 57   0.007130847 0.2426935 0.9218919\n",
       "5 59   0.007130847 0.2426935 0.9218919\n",
       "6 82   0.007130847 0.2426935 0.9218919"
      ]
     },
     "metadata": {},
     "output_type": "display_data"
    }
   ],
   "source": [
    "head(rratio_spring_summer)"
   ]
  },
  {
   "cell_type": "code",
   "execution_count": 43,
   "id": "7068115d-ca11-4759-ae45-1b831667289c",
   "metadata": {},
   "outputs": [
    {
     "data": {
      "text/html": [
       "<table class=\"dataframe\">\n",
       "<caption>A data.frame: 6 × 4</caption>\n",
       "<thead>\n",
       "\t<tr><th></th><th scope=col>time</th><th scope=col>2.5%</th><th scope=col>50%</th><th scope=col>97.5%</th></tr>\n",
       "\t<tr><th></th><th scope=col>&lt;int&gt;</th><th scope=col>&lt;dbl&gt;</th><th scope=col>&lt;dbl&gt;</th><th scope=col>&lt;dbl&gt;</th></tr>\n",
       "</thead>\n",
       "<tbody>\n",
       "\t<tr><th scope=row>1</th><td>37</td><td>0.0005444115</td><td>0.02479887</td><td>0.5898315</td></tr>\n",
       "\t<tr><th scope=row>2</th><td>41</td><td>0.0005444115</td><td>0.02479887</td><td>0.5898315</td></tr>\n",
       "\t<tr><th scope=row>3</th><td>53</td><td>0.0005444115</td><td>0.02479887</td><td>0.5898315</td></tr>\n",
       "\t<tr><th scope=row>4</th><td>57</td><td>0.0005444115</td><td>0.02479887</td><td>0.5898315</td></tr>\n",
       "\t<tr><th scope=row>5</th><td>59</td><td>0.0005444115</td><td>0.02479887</td><td>0.5898315</td></tr>\n",
       "\t<tr><th scope=row>6</th><td>82</td><td>0.0005444115</td><td>0.02479887</td><td>0.5898315</td></tr>\n",
       "</tbody>\n",
       "</table>\n"
      ],
      "text/latex": [
       "A data.frame: 6 × 4\n",
       "\\begin{tabular}{r|llll}\n",
       "  & time & 2.5\\% & 50\\% & 97.5\\%\\\\\n",
       "  & <int> & <dbl> & <dbl> & <dbl>\\\\\n",
       "\\hline\n",
       "\t1 & 37 & 0.0005444115 & 0.02479887 & 0.5898315\\\\\n",
       "\t2 & 41 & 0.0005444115 & 0.02479887 & 0.5898315\\\\\n",
       "\t3 & 53 & 0.0005444115 & 0.02479887 & 0.5898315\\\\\n",
       "\t4 & 57 & 0.0005444115 & 0.02479887 & 0.5898315\\\\\n",
       "\t5 & 59 & 0.0005444115 & 0.02479887 & 0.5898315\\\\\n",
       "\t6 & 82 & 0.0005444115 & 0.02479887 & 0.5898315\\\\\n",
       "\\end{tabular}\n"
      ],
      "text/markdown": [
       "\n",
       "A data.frame: 6 × 4\n",
       "\n",
       "| <!--/--> | time &lt;int&gt; | 2.5% &lt;dbl&gt; | 50% &lt;dbl&gt; | 97.5% &lt;dbl&gt; |\n",
       "|---|---|---|---|---|\n",
       "| 1 | 37 | 0.0005444115 | 0.02479887 | 0.5898315 |\n",
       "| 2 | 41 | 0.0005444115 | 0.02479887 | 0.5898315 |\n",
       "| 3 | 53 | 0.0005444115 | 0.02479887 | 0.5898315 |\n",
       "| 4 | 57 | 0.0005444115 | 0.02479887 | 0.5898315 |\n",
       "| 5 | 59 | 0.0005444115 | 0.02479887 | 0.5898315 |\n",
       "| 6 | 82 | 0.0005444115 | 0.02479887 | 0.5898315 |\n",
       "\n"
      ],
      "text/plain": [
       "  time 2.5%         50%        97.5%    \n",
       "1 37   0.0005444115 0.02479887 0.5898315\n",
       "2 41   0.0005444115 0.02479887 0.5898315\n",
       "3 53   0.0005444115 0.02479887 0.5898315\n",
       "4 57   0.0005444115 0.02479887 0.5898315\n",
       "5 59   0.0005444115 0.02479887 0.5898315\n",
       "6 82   0.0005444115 0.02479887 0.5898315"
      ]
     },
     "metadata": {},
     "output_type": "display_data"
    }
   ],
   "source": [
    "head (rratio_autumn_summer)"
   ]
  },
  {
   "cell_type": "code",
   "execution_count": 34,
   "id": "a7caed37-badd-4a98-82ee-369488419fd1",
   "metadata": {},
   "outputs": [],
   "source": [
    "#trajsim2$spring_month <- spring * 30.41\n",
    "spring_month <- plyr::ddply(.data=trajsim2, .variables=\"time\", function(x) quantile(x[,\"spring_month\"], prob = c(0.25, 0.5, 0.75), na.rm=T))"
   ]
  },
  {
   "cell_type": "code",
   "execution_count": 35,
   "id": "0e1d3707-1490-45fb-9514-24f2cd71a007",
   "metadata": {},
   "outputs": [
    {
     "data": {
      "text/html": [
       "<table class=\"dataframe\">\n",
       "<caption>A data.frame: 6 × 4</caption>\n",
       "<thead>\n",
       "\t<tr><th></th><th scope=col>time</th><th scope=col>25%</th><th scope=col>50%</th><th scope=col>75%</th></tr>\n",
       "\t<tr><th></th><th scope=col>&lt;int&gt;</th><th scope=col>&lt;dbl&gt;</th><th scope=col>&lt;dbl&gt;</th><th scope=col>&lt;dbl&gt;</th></tr>\n",
       "</thead>\n",
       "<tbody>\n",
       "\t<tr><th scope=row>1</th><td>37</td><td>0.05372901</td><td>0.09294714</td><td>0.1519094</td></tr>\n",
       "\t<tr><th scope=row>2</th><td>41</td><td>0.05372901</td><td>0.09294714</td><td>0.1519094</td></tr>\n",
       "\t<tr><th scope=row>3</th><td>53</td><td>0.05372901</td><td>0.09294714</td><td>0.1519094</td></tr>\n",
       "\t<tr><th scope=row>4</th><td>57</td><td>0.05372901</td><td>0.09294714</td><td>0.1519094</td></tr>\n",
       "\t<tr><th scope=row>5</th><td>59</td><td>0.05372901</td><td>0.09294714</td><td>0.1519094</td></tr>\n",
       "\t<tr><th scope=row>6</th><td>82</td><td>0.05372901</td><td>0.09294714</td><td>0.1519094</td></tr>\n",
       "</tbody>\n",
       "</table>\n"
      ],
      "text/latex": [
       "A data.frame: 6 × 4\n",
       "\\begin{tabular}{r|llll}\n",
       "  & time & 25\\% & 50\\% & 75\\%\\\\\n",
       "  & <int> & <dbl> & <dbl> & <dbl>\\\\\n",
       "\\hline\n",
       "\t1 & 37 & 0.05372901 & 0.09294714 & 0.1519094\\\\\n",
       "\t2 & 41 & 0.05372901 & 0.09294714 & 0.1519094\\\\\n",
       "\t3 & 53 & 0.05372901 & 0.09294714 & 0.1519094\\\\\n",
       "\t4 & 57 & 0.05372901 & 0.09294714 & 0.1519094\\\\\n",
       "\t5 & 59 & 0.05372901 & 0.09294714 & 0.1519094\\\\\n",
       "\t6 & 82 & 0.05372901 & 0.09294714 & 0.1519094\\\\\n",
       "\\end{tabular}\n"
      ],
      "text/markdown": [
       "\n",
       "A data.frame: 6 × 4\n",
       "\n",
       "| <!--/--> | time &lt;int&gt; | 25% &lt;dbl&gt; | 50% &lt;dbl&gt; | 75% &lt;dbl&gt; |\n",
       "|---|---|---|---|---|\n",
       "| 1 | 37 | 0.05372901 | 0.09294714 | 0.1519094 |\n",
       "| 2 | 41 | 0.05372901 | 0.09294714 | 0.1519094 |\n",
       "| 3 | 53 | 0.05372901 | 0.09294714 | 0.1519094 |\n",
       "| 4 | 57 | 0.05372901 | 0.09294714 | 0.1519094 |\n",
       "| 5 | 59 | 0.05372901 | 0.09294714 | 0.1519094 |\n",
       "| 6 | 82 | 0.05372901 | 0.09294714 | 0.1519094 |\n",
       "\n"
      ],
      "text/plain": [
       "  time 25%        50%        75%      \n",
       "1 37   0.05372901 0.09294714 0.1519094\n",
       "2 41   0.05372901 0.09294714 0.1519094\n",
       "3 53   0.05372901 0.09294714 0.1519094\n",
       "4 57   0.05372901 0.09294714 0.1519094\n",
       "5 59   0.05372901 0.09294714 0.1519094\n",
       "6 82   0.05372901 0.09294714 0.1519094"
      ]
     },
     "metadata": {},
     "output_type": "display_data"
    }
   ],
   "source": [
    "head(spring_month)"
   ]
  },
  {
   "cell_type": "code",
   "execution_count": 33,
   "id": "8f84706a-fc79-4265-aece-47d105149701",
   "metadata": {},
   "outputs": [
    {
     "data": {
      "text/html": [
       "<table class=\"dataframe\">\n",
       "<caption>A data.frame: 6 × 4</caption>\n",
       "<thead>\n",
       "\t<tr><th></th><th scope=col>time</th><th scope=col>25%</th><th scope=col>50%</th><th scope=col>75%</th></tr>\n",
       "\t<tr><th></th><th scope=col>&lt;int&gt;</th><th scope=col>&lt;dbl&gt;</th><th scope=col>&lt;dbl&gt;</th><th scope=col>&lt;dbl&gt;</th></tr>\n",
       "</thead>\n",
       "<tbody>\n",
       "\t<tr><th scope=row>1</th><td>37</td><td>0.008279995</td><td>0.01933189</td><td>0.03839393</td></tr>\n",
       "\t<tr><th scope=row>2</th><td>41</td><td>0.008279995</td><td>0.01933189</td><td>0.03839393</td></tr>\n",
       "\t<tr><th scope=row>3</th><td>53</td><td>0.008279995</td><td>0.01933189</td><td>0.03839393</td></tr>\n",
       "\t<tr><th scope=row>4</th><td>57</td><td>0.008279995</td><td>0.01933189</td><td>0.03839393</td></tr>\n",
       "\t<tr><th scope=row>5</th><td>59</td><td>0.008279995</td><td>0.01933189</td><td>0.03839393</td></tr>\n",
       "\t<tr><th scope=row>6</th><td>82</td><td>0.008279995</td><td>0.01933189</td><td>0.03839393</td></tr>\n",
       "</tbody>\n",
       "</table>\n"
      ],
      "text/latex": [
       "A data.frame: 6 × 4\n",
       "\\begin{tabular}{r|llll}\n",
       "  & time & 25\\% & 50\\% & 75\\%\\\\\n",
       "  & <int> & <dbl> & <dbl> & <dbl>\\\\\n",
       "\\hline\n",
       "\t1 & 37 & 0.008279995 & 0.01933189 & 0.03839393\\\\\n",
       "\t2 & 41 & 0.008279995 & 0.01933189 & 0.03839393\\\\\n",
       "\t3 & 53 & 0.008279995 & 0.01933189 & 0.03839393\\\\\n",
       "\t4 & 57 & 0.008279995 & 0.01933189 & 0.03839393\\\\\n",
       "\t5 & 59 & 0.008279995 & 0.01933189 & 0.03839393\\\\\n",
       "\t6 & 82 & 0.008279995 & 0.01933189 & 0.03839393\\\\\n",
       "\\end{tabular}\n"
      ],
      "text/markdown": [
       "\n",
       "A data.frame: 6 × 4\n",
       "\n",
       "| <!--/--> | time &lt;int&gt; | 25% &lt;dbl&gt; | 50% &lt;dbl&gt; | 75% &lt;dbl&gt; |\n",
       "|---|---|---|---|---|\n",
       "| 1 | 37 | 0.008279995 | 0.01933189 | 0.03839393 |\n",
       "| 2 | 41 | 0.008279995 | 0.01933189 | 0.03839393 |\n",
       "| 3 | 53 | 0.008279995 | 0.01933189 | 0.03839393 |\n",
       "| 4 | 57 | 0.008279995 | 0.01933189 | 0.03839393 |\n",
       "| 5 | 59 | 0.008279995 | 0.01933189 | 0.03839393 |\n",
       "| 6 | 82 | 0.008279995 | 0.01933189 | 0.03839393 |\n",
       "\n"
      ],
      "text/plain": [
       "  time 25%         50%        75%       \n",
       "1 37   0.008279995 0.01933189 0.03839393\n",
       "2 41   0.008279995 0.01933189 0.03839393\n",
       "3 53   0.008279995 0.01933189 0.03839393\n",
       "4 57   0.008279995 0.01933189 0.03839393\n",
       "5 59   0.008279995 0.01933189 0.03839393\n",
       "6 82   0.008279995 0.01933189 0.03839393"
      ]
     },
     "metadata": {},
     "output_type": "display_data"
    }
   ],
   "source": [
    "#trajsim2$summer_month <- summer * 30.41\n",
    "summer_month <- plyr::ddply(.data=trajsim2, .variables=\"time\", function(x) quantile(x[,\"summer_month\"], prob = c(0.25, 0.5, 0.75), na.rm=T))\n",
    "head(summer_month)                            "
   ]
  },
  {
   "cell_type": "code",
   "execution_count": 31,
   "id": "e2233111-35b8-4a77-81a0-50cf0a5e1bdb",
   "metadata": {},
   "outputs": [
    {
     "data": {
      "text/html": [
       "<table class=\"dataframe\">\n",
       "<caption>A data.frame: 6 × 4</caption>\n",
       "<thead>\n",
       "\t<tr><th></th><th scope=col>time</th><th scope=col>2.5%</th><th scope=col>50%</th><th scope=col>97.5%</th></tr>\n",
       "\t<tr><th></th><th scope=col>&lt;int&gt;</th><th scope=col>&lt;dbl&gt;</th><th scope=col>&lt;dbl&gt;</th><th scope=col>&lt;dbl&gt;</th></tr>\n",
       "</thead>\n",
       "<tbody>\n",
       "\t<tr><th scope=row>1</th><td>37</td><td>0.06990524</td><td>0.7927218</td><td>2.907931</td></tr>\n",
       "\t<tr><th scope=row>2</th><td>41</td><td>0.06990524</td><td>0.7927218</td><td>2.907931</td></tr>\n",
       "\t<tr><th scope=row>3</th><td>53</td><td>0.06990524</td><td>0.7927218</td><td>2.907931</td></tr>\n",
       "\t<tr><th scope=row>4</th><td>57</td><td>0.06990524</td><td>0.7927218</td><td>2.907931</td></tr>\n",
       "\t<tr><th scope=row>5</th><td>59</td><td>0.06990524</td><td>0.7927218</td><td>2.907931</td></tr>\n",
       "\t<tr><th scope=row>6</th><td>82</td><td>0.06990524</td><td>0.7927218</td><td>2.907931</td></tr>\n",
       "</tbody>\n",
       "</table>\n"
      ],
      "text/latex": [
       "A data.frame: 6 × 4\n",
       "\\begin{tabular}{r|llll}\n",
       "  & time & 2.5\\% & 50\\% & 97.5\\%\\\\\n",
       "  & <int> & <dbl> & <dbl> & <dbl>\\\\\n",
       "\\hline\n",
       "\t1 & 37 & 0.06990524 & 0.7927218 & 2.907931\\\\\n",
       "\t2 & 41 & 0.06990524 & 0.7927218 & 2.907931\\\\\n",
       "\t3 & 53 & 0.06990524 & 0.7927218 & 2.907931\\\\\n",
       "\t4 & 57 & 0.06990524 & 0.7927218 & 2.907931\\\\\n",
       "\t5 & 59 & 0.06990524 & 0.7927218 & 2.907931\\\\\n",
       "\t6 & 82 & 0.06990524 & 0.7927218 & 2.907931\\\\\n",
       "\\end{tabular}\n"
      ],
      "text/markdown": [
       "\n",
       "A data.frame: 6 × 4\n",
       "\n",
       "| <!--/--> | time &lt;int&gt; | 2.5% &lt;dbl&gt; | 50% &lt;dbl&gt; | 97.5% &lt;dbl&gt; |\n",
       "|---|---|---|---|---|\n",
       "| 1 | 37 | 0.06990524 | 0.7927218 | 2.907931 |\n",
       "| 2 | 41 | 0.06990524 | 0.7927218 | 2.907931 |\n",
       "| 3 | 53 | 0.06990524 | 0.7927218 | 2.907931 |\n",
       "| 4 | 57 | 0.06990524 | 0.7927218 | 2.907931 |\n",
       "| 5 | 59 | 0.06990524 | 0.7927218 | 2.907931 |\n",
       "| 6 | 82 | 0.06990524 | 0.7927218 | 2.907931 |\n",
       "\n"
      ],
      "text/plain": [
       "  time 2.5%       50%       97.5%   \n",
       "1 37   0.06990524 0.7927218 2.907931\n",
       "2 41   0.06990524 0.7927218 2.907931\n",
       "3 53   0.06990524 0.7927218 2.907931\n",
       "4 57   0.06990524 0.7927218 2.907931\n",
       "5 59   0.06990524 0.7927218 2.907931\n",
       "6 82   0.06990524 0.7927218 2.907931"
      ]
     },
     "metadata": {},
     "output_type": "display_data"
    }
   ],
   "source": [
    "#trajsim2$autumn_month <- autumn * 30.41\n",
    "autumn_month <- plyr::ddply(.data=trajsim2, .variables=\"time\", function(x) quantile(x[,\"autumn_month\"], prob = c(0.025, 0.5, 0.975), na.rm=T))\n",
    " head(autumn_month)                           "
   ]
  },
  {
   "cell_type": "code",
   "execution_count": 32,
   "id": "df8398c7-2e86-4331-89af-9fe0e3838b9d",
   "metadata": {},
   "outputs": [
    {
     "data": {
      "text/html": [
       "<table class=\"dataframe\">\n",
       "<caption>A data.frame: 6 × 4</caption>\n",
       "<thead>\n",
       "\t<tr><th></th><th scope=col>time</th><th scope=col>25%</th><th scope=col>50%</th><th scope=col>75%</th></tr>\n",
       "\t<tr><th></th><th scope=col>&lt;int&gt;</th><th scope=col>&lt;dbl&gt;</th><th scope=col>&lt;dbl&gt;</th><th scope=col>&lt;dbl&gt;</th></tr>\n",
       "</thead>\n",
       "<tbody>\n",
       "\t<tr><th scope=row>1</th><td>37</td><td>0.1415266</td><td>0.3019709</td><td>0.6801185</td></tr>\n",
       "\t<tr><th scope=row>2</th><td>41</td><td>0.1415266</td><td>0.3019709</td><td>0.6801185</td></tr>\n",
       "\t<tr><th scope=row>3</th><td>53</td><td>0.1415266</td><td>0.3019709</td><td>0.6801185</td></tr>\n",
       "\t<tr><th scope=row>4</th><td>57</td><td>0.1415266</td><td>0.3019709</td><td>0.6801185</td></tr>\n",
       "\t<tr><th scope=row>5</th><td>59</td><td>0.1415266</td><td>0.3019709</td><td>0.6801185</td></tr>\n",
       "\t<tr><th scope=row>6</th><td>82</td><td>0.1415266</td><td>0.3019709</td><td>0.6801185</td></tr>\n",
       "</tbody>\n",
       "</table>\n"
      ],
      "text/latex": [
       "A data.frame: 6 × 4\n",
       "\\begin{tabular}{r|llll}\n",
       "  & time & 25\\% & 50\\% & 75\\%\\\\\n",
       "  & <int> & <dbl> & <dbl> & <dbl>\\\\\n",
       "\\hline\n",
       "\t1 & 37 & 0.1415266 & 0.3019709 & 0.6801185\\\\\n",
       "\t2 & 41 & 0.1415266 & 0.3019709 & 0.6801185\\\\\n",
       "\t3 & 53 & 0.1415266 & 0.3019709 & 0.6801185\\\\\n",
       "\t4 & 57 & 0.1415266 & 0.3019709 & 0.6801185\\\\\n",
       "\t5 & 59 & 0.1415266 & 0.3019709 & 0.6801185\\\\\n",
       "\t6 & 82 & 0.1415266 & 0.3019709 & 0.6801185\\\\\n",
       "\\end{tabular}\n"
      ],
      "text/markdown": [
       "\n",
       "A data.frame: 6 × 4\n",
       "\n",
       "| <!--/--> | time &lt;int&gt; | 25% &lt;dbl&gt; | 50% &lt;dbl&gt; | 75% &lt;dbl&gt; |\n",
       "|---|---|---|---|---|\n",
       "| 1 | 37 | 0.1415266 | 0.3019709 | 0.6801185 |\n",
       "| 2 | 41 | 0.1415266 | 0.3019709 | 0.6801185 |\n",
       "| 3 | 53 | 0.1415266 | 0.3019709 | 0.6801185 |\n",
       "| 4 | 57 | 0.1415266 | 0.3019709 | 0.6801185 |\n",
       "| 5 | 59 | 0.1415266 | 0.3019709 | 0.6801185 |\n",
       "| 6 | 82 | 0.1415266 | 0.3019709 | 0.6801185 |\n",
       "\n"
      ],
      "text/plain": [
       "  time 25%       50%       75%      \n",
       "1 37   0.1415266 0.3019709 0.6801185\n",
       "2 41   0.1415266 0.3019709 0.6801185\n",
       "3 53   0.1415266 0.3019709 0.6801185\n",
       "4 57   0.1415266 0.3019709 0.6801185\n",
       "5 59   0.1415266 0.3019709 0.6801185\n",
       "6 82   0.1415266 0.3019709 0.6801185"
      ]
     },
     "metadata": {},
     "output_type": "display_data"
    }
   ],
   "source": [
    "#trajsim2$winter_month <- winter * 30.41\n",
    "winter_month <- plyr::ddply(.data=trajsim2, .variables=\"time\", function(x) quantile(x[,\"winter_month\"], prob = c(0.25, 0.5, 0.75), na.rm=T))\n",
    " head(winter_month)  "
   ]
  },
  {
   "cell_type": "code",
   "execution_count": 54,
   "id": "2977b3ef-37a6-4da5-9308-e8bbab8cc9a2",
   "metadata": {},
   "outputs": [
    {
     "data": {
      "text/html": [
       "<table class=\"dataframe\">\n",
       "<caption>A data.frame: 1 × 4</caption>\n",
       "<thead>\n",
       "\t<tr><th></th><th scope=col>time</th><th scope=col>2.5%</th><th scope=col>50%</th><th scope=col>97.5%</th></tr>\n",
       "\t<tr><th></th><th scope=col>&lt;int&gt;</th><th scope=col>&lt;dbl&gt;</th><th scope=col>&lt;dbl&gt;</th><th scope=col>&lt;dbl&gt;</th></tr>\n",
       "</thead>\n",
       "<tbody>\n",
       "\t<tr><th scope=row>1</th><td>37</td><td>0.1874588</td><td>3.265821</td><td>75.52506</td></tr>\n",
       "</tbody>\n",
       "</table>\n"
      ],
      "text/latex": [
       "A data.frame: 1 × 4\n",
       "\\begin{tabular}{r|llll}\n",
       "  & time & 2.5\\% & 50\\% & 97.5\\%\\\\\n",
       "  & <int> & <dbl> & <dbl> & <dbl>\\\\\n",
       "\\hline\n",
       "\t1 & 37 & 0.1874588 & 3.265821 & 75.52506\\\\\n",
       "\\end{tabular}\n"
      ],
      "text/markdown": [
       "\n",
       "A data.frame: 1 × 4\n",
       "\n",
       "| <!--/--> | time &lt;int&gt; | 2.5% &lt;dbl&gt; | 50% &lt;dbl&gt; | 97.5% &lt;dbl&gt; |\n",
       "|---|---|---|---|---|\n",
       "| 1 | 37 | 0.1874588 | 3.265821 | 75.52506 |\n",
       "\n"
      ],
      "text/plain": [
       "  time 2.5%      50%      97.5%   \n",
       "1 37   0.1874588 3.265821 75.52506"
      ]
     },
     "metadata": {},
     "output_type": "display_data"
    }
   ],
   "source": [
    "trajsim2$ratiowp <- winter/spring\n",
    "ratio_winter_spring <- plyr::ddply(.data=trajsim2, .variables=\"time\", function(x) quantile(x[,\"ratiowp\"], prob = c(0.025, 0.5, 0.975), na.rm=T)) \n",
    "head(ratio_winter_spring, 1)"
   ]
  },
  {
   "cell_type": "code",
   "execution_count": 52,
   "id": "1961cf8d-c783-4b1a-8d7a-52fb0cce3ed7",
   "metadata": {},
   "outputs": [
    {
     "data": {
      "text/html": [
       "<table class=\"dataframe\">\n",
       "<caption>A data.frame: 1 × 4</caption>\n",
       "<thead>\n",
       "\t<tr><th></th><th scope=col>time</th><th scope=col>2.5%</th><th scope=col>50%</th><th scope=col>97.5%</th></tr>\n",
       "\t<tr><th></th><th scope=col>&lt;int&gt;</th><th scope=col>&lt;dbl&gt;</th><th scope=col>&lt;dbl&gt;</th><th scope=col>&lt;dbl&gt;</th></tr>\n",
       "</thead>\n",
       "<tbody>\n",
       "\t<tr><th scope=row>1</th><td>37</td><td>0.0299268</td><td>0.4226058</td><td>11.56846</td></tr>\n",
       "</tbody>\n",
       "</table>\n"
      ],
      "text/latex": [
       "A data.frame: 1 × 4\n",
       "\\begin{tabular}{r|llll}\n",
       "  & time & 2.5\\% & 50\\% & 97.5\\%\\\\\n",
       "  & <int> & <dbl> & <dbl> & <dbl>\\\\\n",
       "\\hline\n",
       "\t1 & 37 & 0.0299268 & 0.4226058 & 11.56846\\\\\n",
       "\\end{tabular}\n"
      ],
      "text/markdown": [
       "\n",
       "A data.frame: 1 × 4\n",
       "\n",
       "| <!--/--> | time &lt;int&gt; | 2.5% &lt;dbl&gt; | 50% &lt;dbl&gt; | 97.5% &lt;dbl&gt; |\n",
       "|---|---|---|---|---|\n",
       "| 1 | 37 | 0.0299268 | 0.4226058 | 11.56846 |\n",
       "\n"
      ],
      "text/plain": [
       "  time 2.5%      50%       97.5%   \n",
       "1 37   0.0299268 0.4226058 11.56846"
      ]
     },
     "metadata": {},
     "output_type": "display_data"
    }
   ],
   "source": [
    "trajsim2$ratiowa <- winter/autumn\n",
    "ratio_winter_autumn <- plyr::ddply(.data=trajsim2, .variables=\"time\", function(x) quantile(x[,\"ratiowa\"], prob = c(0.025, 0.5, 0.975), na.rm=T)) \n",
    " head(ratio_winter_autumn, 1)                                  "
   ]
  },
  {
   "cell_type": "code",
   "execution_count": 53,
   "id": "d539b673-e1a5-45ac-bba4-e5c47a0efb74",
   "metadata": {},
   "outputs": [
    {
     "data": {
      "text/html": [
       "<table class=\"dataframe\">\n",
       "<caption>A data.frame: 1 × 4</caption>\n",
       "<thead>\n",
       "\t<tr><th></th><th scope=col>time</th><th scope=col>2.5%</th><th scope=col>50%</th><th scope=col>97.5%</th></tr>\n",
       "\t<tr><th></th><th scope=col>&lt;int&gt;</th><th scope=col>&lt;dbl&gt;</th><th scope=col>&lt;dbl&gt;</th><th scope=col>&lt;dbl&gt;</th></tr>\n",
       "</thead>\n",
       "<tbody>\n",
       "\t<tr><th scope=row>1</th><td>37</td><td>0.009167357</td><td>0.1178982</td><td>2.667575</td></tr>\n",
       "</tbody>\n",
       "</table>\n"
      ],
      "text/latex": [
       "A data.frame: 1 × 4\n",
       "\\begin{tabular}{r|llll}\n",
       "  & time & 2.5\\% & 50\\% & 97.5\\%\\\\\n",
       "  & <int> & <dbl> & <dbl> & <dbl>\\\\\n",
       "\\hline\n",
       "\t1 & 37 & 0.009167357 & 0.1178982 & 2.667575\\\\\n",
       "\\end{tabular}\n"
      ],
      "text/markdown": [
       "\n",
       "A data.frame: 1 × 4\n",
       "\n",
       "| <!--/--> | time &lt;int&gt; | 2.5% &lt;dbl&gt; | 50% &lt;dbl&gt; | 97.5% &lt;dbl&gt; |\n",
       "|---|---|---|---|---|\n",
       "| 1 | 37 | 0.009167357 | 0.1178982 | 2.667575 |\n",
       "\n"
      ],
      "text/plain": [
       "  time 2.5%        50%       97.5%   \n",
       "1 37   0.009167357 0.1178982 2.667575"
      ]
     },
     "metadata": {},
     "output_type": "display_data"
    }
   ],
   "source": [
    "trajsim2$ratiopa <- spring/autumn\n",
    "ratio_spring_autumn <- plyr::ddply(.data=trajsim2, .variables=\"time\", function(x) quantile(x[,\"ratiopa\"], prob = c(0.025, 0.5, 0.975), na.rm=T)) \n",
    " head(ratio_spring_autumn, 1)                                  "
   ]
  },
  {
   "cell_type": "code",
   "execution_count": null,
   "id": "74a016a6-7032-4191-b1c6-c6d9585ecf77",
   "metadata": {},
   "outputs": [],
   "source": [
    "trajsim3 <-  read.csv(\"Mock data/Updating contacts every 6 months/add_DEzs_trajsim_ll.csv\")"
   ]
  }
 ],
 "metadata": {
  "kernelspec": {
   "display_name": "R",
   "language": "R",
   "name": "ir"
  },
  "language_info": {
   "codemirror_mode": "r",
   "file_extension": ".r",
   "mimetype": "text/x-r-source",
   "name": "R",
   "pygments_lexer": "r",
   "version": "4.1.3"
  }
 },
 "nbformat": 4,
 "nbformat_minor": 5
}
