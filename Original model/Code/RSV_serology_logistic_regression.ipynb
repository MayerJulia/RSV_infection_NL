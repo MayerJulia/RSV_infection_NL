{
 "cells": [
  {
   "cell_type": "markdown",
   "id": "61c58127-6723-4947-9303-d729c7e0c04e",
   "metadata": {},
   "source": [
    "## Generalized Additive Models, Logistic regression for RSV serology. ##\n",
    "Authors: Stijn Andeweg, Jan van de Kassteele and Michiel van Boven"
   ]
  },
  {
   "cell_type": "code",
   "execution_count": 1,
   "id": "b193115a-0192-41aa-b6a1-51c5ec553cd9",
   "metadata": {},
   "outputs": [
    {
     "name": "stderr",
     "output_type": "stream",
     "text": [
      "Loading required package: nlme\n",
      "\n",
      "This is mgcv 1.8-40. For overview type 'help(\"mgcv-package\")'.\n",
      "\n",
      "Warning message:\n",
      "\"package 'ggplot2' was built under R version 4.2.0\"\n",
      "Warning message:\n",
      "\"package 'tidyverse' was built under R version 4.2.0\"\n",
      "-- \u001b[1mAttaching packages\u001b[22m ------------------------------------------------------------------------------- tidyverse 1.3.1 --\n",
      "\n",
      "\u001b[32mv\u001b[39m \u001b[34mtibble \u001b[39m 3.1.6     \u001b[32mv\u001b[39m \u001b[34mdplyr  \u001b[39m 1.0.7\n",
      "\u001b[32mv\u001b[39m \u001b[34mtidyr  \u001b[39m 1.1.4     \u001b[32mv\u001b[39m \u001b[34mstringr\u001b[39m 1.4.0\n",
      "\u001b[32mv\u001b[39m \u001b[34mreadr  \u001b[39m 2.1.2     \u001b[32mv\u001b[39m \u001b[34mforcats\u001b[39m 0.5.1\n",
      "\u001b[32mv\u001b[39m \u001b[34mpurrr  \u001b[39m 0.3.4     \n",
      "\n",
      "Warning message:\n",
      "\"package 'stringr' was built under R version 4.2.0\"\n",
      "Warning message:\n",
      "\"package 'forcats' was built under R version 4.2.0\"\n",
      "-- \u001b[1mConflicts\u001b[22m ---------------------------------------------------------------------------------- tidyverse_conflicts() --\n",
      "\u001b[31mx\u001b[39m \u001b[34mdplyr\u001b[39m::\u001b[32mcollapse()\u001b[39m masks \u001b[34mnlme\u001b[39m::collapse()\n",
      "\u001b[31mx\u001b[39m \u001b[34mdplyr\u001b[39m::\u001b[32mfilter()\u001b[39m   masks \u001b[34mstats\u001b[39m::filter()\n",
      "\u001b[31mx\u001b[39m \u001b[34mdplyr\u001b[39m::\u001b[32mlag()\u001b[39m      masks \u001b[34mstats\u001b[39m::lag()\n",
      "\n",
      "\n",
      "Attaching package: 'lubridate'\n",
      "\n",
      "\n",
      "The following objects are masked from 'package:base':\n",
      "\n",
      "    date, intersect, setdiff, union\n",
      "\n",
      "\n",
      "Warning message:\n",
      "\"package 'gridExtra' was built under R version 4.2.0\"\n",
      "\n",
      "Attaching package: 'gridExtra'\n",
      "\n",
      "\n",
      "The following object is masked from 'package:dplyr':\n",
      "\n",
      "    combine\n",
      "\n",
      "\n"
     ]
    }
   ],
   "source": [
    "# Load packages\n",
    "library(mgcv)\n",
    "library(ggplot2)\n",
    "library(tidyverse)\n",
    "library(lubridate)\n",
    "library(gridExtra)\n",
    "library(grid)\n",
    "library(writexl)"
   ]
  },
  {
   "cell_type": "code",
   "execution_count": 2,
   "id": "c189f420-0292-4552-8bc4-47946f6f0c76",
   "metadata": {},
   "outputs": [
    {
     "data": {
      "text/html": [
       "'C:/Users/julia/OneDrive - London School of Hygiene and Tropical Medicine/Documents/LSHTM/Project'"
      ],
      "text/latex": [
       "'C:/Users/julia/OneDrive - London School of Hygiene and Tropical Medicine/Documents/LSHTM/Project'"
      ],
      "text/markdown": [
       "'C:/Users/julia/OneDrive - London School of Hygiene and Tropical Medicine/Documents/LSHTM/Project'"
      ],
      "text/plain": [
       "[1] \"C:/Users/julia/OneDrive - London School of Hygiene and Tropical Medicine/Documents/LSHTM/Project\""
      ]
     },
     "metadata": {},
     "output_type": "display_data"
    }
   ],
   "source": [
    "folder <- \"RSV_serology\"\n",
    "PATH <- file.path(\"C:/Users/julia/OneDrive - London School of Hygiene and Tropical Medicine/Documents/LSHTM/Project\") #\"/home/andewegs/1_RSV_scripts/\"\n",
    "setwd(PATH)\n",
    "getwd()"
   ]
  },
  {
   "cell_type": "code",
   "execution_count": 3,
   "id": "2778497c-fb72-46f1-93eb-482e15051718",
   "metadata": {},
   "outputs": [],
   "source": [
    "figure_folder <- '/home/andewegs/1_RSV_scripts/tensor_splines/figures/final_models/'\n",
    "\n",
    "# set colors in figures\n",
    "color_1 = '#0072B2' #Blue\n",
    "color_2 = '#E69F00' #Orange"
   ]
  },
  {
   "cell_type": "markdown",
   "id": "9be54b7f-4aef-4248-a82b-001c94e5519e",
   "metadata": {},
   "source": [
    "## DATA ##"
   ]
  },
  {
   "cell_type": "code",
   "execution_count": 4,
   "id": "fe2b577b-ef23-4662-8cdd-d8e361adc7c8",
   "metadata": {},
   "outputs": [
    {
     "name": "stderr",
     "output_type": "stream",
     "text": [
      "\u001b[1mRows: \u001b[22m\u001b[34m682\u001b[39m \u001b[1mColumns: \u001b[22m\u001b[34m23\u001b[39m\n",
      "\u001b[36m--\u001b[39m \u001b[1mColumn specification\u001b[22m \u001b[36m------------------------------------------------------------------------------------------------\u001b[39m\n",
      "\u001b[1mDelimiter:\u001b[22m \",\"\n",
      "\u001b[32mdbl\u001b[39m  (20): age_days, infection, IgG_PreF, IgA_PreF, IgG_PostF, IgA_PostF, Ig...\n",
      "\u001b[33mlgl\u001b[39m   (1): IgA_Nn_household\n",
      "\u001b[34mdate\u001b[39m  (2): birthday, consultdate\n",
      "\n",
      "\u001b[36mi\u001b[39m Use `spec()` to retrieve the full column specification for this data.\n",
      "\u001b[36mi\u001b[39m Specify the column types or set `show_col_types = FALSE` to quiet this message.\n"
     ]
    }
   ],
   "source": [
    "rsv.data_org <- read_csv(file = \"Data/infection_status.csv\")"
   ]
  },
  {
   "cell_type": "code",
   "execution_count": 5,
   "id": "38171282-fee6-4d2a-aee3-109a7a2c4777",
   "metadata": {},
   "outputs": [],
   "source": [
    "season_border = \"10-01\" #MM-DD\n",
    "# Some modifications\n",
    "rsv.data <- rsv.data_org %>%\n",
    "  # Get day of the year of birthday (= number between 1 and 365)\n",
    "  mutate(\n",
    "    Birth_doy = birthday %>% yday()\n",
    "  ) %>%\n",
    "  # Alter number of housefold members 1 == no siblings, >1 == having siblings\n",
    "  mutate(\n",
    "    household04_counts = case_when(\n",
    "      age_days/365 >= 5 ~ (household04 + 1),  #because the child itself is also included in household size\n",
    "      age_days/365 < 5 ~ household04)       #the household04 of children of age 5 should also include the child itself\n",
    "  ) %>%\n",
    "  # Make number of siblings 0-4 years binary factor variable\n",
    "  mutate(\n",
    "    Siblings04 = case_when(\n",
    "      household04_counts <= 1 ~ 'False',\n",
    "      household04_counts > 1 ~ 'True'\n",
    "    ) %>% \n",
    "      factor()\n",
    "  ) %>%\n",
    "  # Make number of siblings 5-9 years binary factor variable\n",
    "  mutate(\n",
    "    Siblings59 = case_when(\n",
    "      household59 <= 0 ~ 'False',\n",
    "      household59 > 0 ~ 'True'\n",
    "    ) %>% \n",
    "      factor()\n",
    "  ) %>% \n",
    "  # Set nursery 0 1 to False True\n",
    "  mutate(\n",
    "    Nursery = case_when(\n",
    "      visitnursery_child == 0 ~ 'False',\n",
    "      visitnursery_child == 1 ~ 'True'\n",
    "    ) %>% \n",
    "      factor()\n",
    "  ) %>% \n",
    "  # Set variable for the different seasons.\n",
    "  mutate(seasons = case_when(\n",
    "    consultdate < paste(\"2006-\", season_border, sep = \"\")  ~ \"2005/2006\", \n",
    "    (consultdate >= paste(\"2006-\", season_border, sep = \"\") &  consultdate < \"2010-01-01\") ~ \"2006/2007\",\n",
    "    (consultdate >= \"2010-01-01\" &  consultdate < paste(\"2016-\", season_border, sep = \"\")) ~ \"2015/2016\",\n",
    "    consultdate >= paste(\"2016-\", season_border, sep = \"\")  ~ \"2016/2017\")\n",
    "  ) %>% \n",
    "  # Variable for the two cohorts\n",
    "  mutate(\n",
    "    cohort = if_else(seasons == \"2005/2006\" | seasons == \"2006/2007\", \"2006/2007\", \"2016/2017\"))\n",
    "\n",
    "# Only keep data with the variables of intrest n = 616\n",
    "completeVec <- complete.cases(rsv.data[, c(\"Siblings04\", \"Nursery\")])\n",
    "rsv.data <- rsv.data[completeVec,]"
   ]
  },
  {
   "cell_type": "code",
   "execution_count": 18,
   "id": "6d478e9c-0530-4f87-bd71-208dc80bd645",
   "metadata": {},
   "outputs": [
    {
     "data": {
      "text/html": [
       "<style>\n",
       ".list-inline {list-style: none; margin:0; padding: 0}\n",
       ".list-inline>li {display: inline-block}\n",
       ".list-inline>li:not(:last-child)::after {content: \"\\00b7\"; padding: 0 .5ex}\n",
       "</style>\n",
       "<ol class=list-inline><li><time datetime=\"2006-08-21\">2006-08-21</time></li><li><time datetime=\"2006-08-30\">2006-08-30</time></li><li><time datetime=\"2006-08-30\">2006-08-30</time></li><li><time datetime=\"2006-09-11\">2006-09-11</time></li><li><time datetime=\"2006-09-18\">2006-09-18</time></li><li><time datetime=\"2006-09-27\">2006-09-27</time></li><li><time datetime=\"2006-10-04\">2006-10-04</time></li><li><time datetime=\"2006-10-04\">2006-10-04</time></li><li><time datetime=\"2006-10-11\">2006-10-11</time></li><li><time datetime=\"2006-10-11\">2006-10-11</time></li><li><time datetime=\"2006-10-11\">2006-10-11</time></li></ol>\n"
      ],
      "text/latex": [
       "\\begin{enumerate*}\n",
       "\\item 2006-08-21\n",
       "\\item 2006-08-30\n",
       "\\item 2006-08-30\n",
       "\\item 2006-09-11\n",
       "\\item 2006-09-18\n",
       "\\item 2006-09-27\n",
       "\\item 2006-10-04\n",
       "\\item 2006-10-04\n",
       "\\item 2006-10-11\n",
       "\\item 2006-10-11\n",
       "\\item 2006-10-11\n",
       "\\end{enumerate*}\n"
      ],
      "text/markdown": [
       "1. 2006-08-21\n",
       "2. 2006-08-30\n",
       "3. 2006-08-30\n",
       "4. 2006-09-11\n",
       "5. 2006-09-18\n",
       "6. 2006-09-27\n",
       "7. 2006-10-04\n",
       "8. 2006-10-04\n",
       "9. 2006-10-11\n",
       "10. 2006-10-11\n",
       "11. 2006-10-11\n",
       "\n",
       "\n"
      ],
      "text/plain": [
       " [1] \"2006-08-21\" \"2006-08-30\" \"2006-08-30\" \"2006-09-11\" \"2006-09-18\"\n",
       " [6] \"2006-09-27\" \"2006-10-04\" \"2006-10-04\" \"2006-10-11\" \"2006-10-11\"\n",
       "[11] \"2006-10-11\""
      ]
     },
     "metadata": {},
     "output_type": "display_data"
    }
   ],
   "source": [
    "rsv.data$consultdate[30:40]"
   ]
  },
  {
   "cell_type": "code",
   "execution_count": 19,
   "id": "b391579b-a940-4bfc-bac3-14684e9ddb4c",
   "metadata": {},
   "outputs": [
    {
     "data": {
      "text/html": [
       "<style>\n",
       ".list-inline {list-style: none; margin:0; padding: 0}\n",
       ".list-inline>li {display: inline-block}\n",
       ".list-inline>li:not(:last-child)::after {content: \"\\00b7\"; padding: 0 .5ex}\n",
       "</style>\n",
       "<ol class=list-inline><li>'2005/2006'</li><li>'2005/2006'</li><li>'2005/2006'</li><li>'2005/2006'</li><li>'2005/2006'</li><li>'2005/2006'</li><li>'2006/2007'</li><li>'2006/2007'</li><li>'2006/2007'</li><li>'2006/2007'</li><li>'2006/2007'</li></ol>\n"
      ],
      "text/latex": [
       "\\begin{enumerate*}\n",
       "\\item '2005/2006'\n",
       "\\item '2005/2006'\n",
       "\\item '2005/2006'\n",
       "\\item '2005/2006'\n",
       "\\item '2005/2006'\n",
       "\\item '2005/2006'\n",
       "\\item '2006/2007'\n",
       "\\item '2006/2007'\n",
       "\\item '2006/2007'\n",
       "\\item '2006/2007'\n",
       "\\item '2006/2007'\n",
       "\\end{enumerate*}\n"
      ],
      "text/markdown": [
       "1. '2005/2006'\n",
       "2. '2005/2006'\n",
       "3. '2005/2006'\n",
       "4. '2005/2006'\n",
       "5. '2005/2006'\n",
       "6. '2005/2006'\n",
       "7. '2006/2007'\n",
       "8. '2006/2007'\n",
       "9. '2006/2007'\n",
       "10. '2006/2007'\n",
       "11. '2006/2007'\n",
       "\n",
       "\n"
      ],
      "text/plain": [
       " [1] \"2005/2006\" \"2005/2006\" \"2005/2006\" \"2005/2006\" \"2005/2006\" \"2005/2006\"\n",
       " [7] \"2006/2007\" \"2006/2007\" \"2006/2007\" \"2006/2007\" \"2006/2007\""
      ]
     },
     "metadata": {},
     "output_type": "display_data"
    }
   ],
   "source": [
    "rsv.data$seasons[30:40]"
   ]
  },
  {
   "cell_type": "code",
   "execution_count": 10,
   "id": "de9f77c2-a548-43fa-aa44-aaa90f01dae3",
   "metadata": {},
   "outputs": [
    {
     "data": {
      "text/html": [
       "<style>\n",
       ".list-inline {list-style: none; margin:0; padding: 0}\n",
       ".list-inline>li {display: inline-block}\n",
       ".list-inline>li:not(:last-child)::after {content: \"\\00b7\"; padding: 0 .5ex}\n",
       "</style>\n",
       "<ol class=list-inline><li>'2006/2007'</li><li>'2006/2007'</li><li>'2006/2007'</li><li>'2006/2007'</li><li>'2006/2007'</li><li>'2006/2007'</li></ol>\n"
      ],
      "text/latex": [
       "\\begin{enumerate*}\n",
       "\\item '2006/2007'\n",
       "\\item '2006/2007'\n",
       "\\item '2006/2007'\n",
       "\\item '2006/2007'\n",
       "\\item '2006/2007'\n",
       "\\item '2006/2007'\n",
       "\\end{enumerate*}\n"
      ],
      "text/markdown": [
       "1. '2006/2007'\n",
       "2. '2006/2007'\n",
       "3. '2006/2007'\n",
       "4. '2006/2007'\n",
       "5. '2006/2007'\n",
       "6. '2006/2007'\n",
       "\n",
       "\n"
      ],
      "text/plain": [
       "[1] \"2006/2007\" \"2006/2007\" \"2006/2007\" \"2006/2007\" \"2006/2007\" \"2006/2007\""
      ]
     },
     "metadata": {},
     "output_type": "display_data"
    }
   ],
   "source": [
    "head(rsv.data$cohort)"
   ]
  },
  {
   "cell_type": "code",
   "execution_count": 20,
   "id": "a0b75ea1-a0ac-4d17-b6ad-b904f7b093f1",
   "metadata": {},
   "outputs": [
    {
     "data": {
      "text/html": [
       "616"
      ],
      "text/latex": [
       "616"
      ],
      "text/markdown": [
       "616"
      ],
      "text/plain": [
       "[1] 616"
      ]
     },
     "metadata": {},
     "output_type": "display_data"
    }
   ],
   "source": [
    "nrow(rsv.data)"
   ]
  },
  {
   "cell_type": "markdown",
   "id": "429d515c-a372-4141-b72a-89ca2d48f433",
   "metadata": {},
   "source": [
    "## Analysis ##"
   ]
  },
  {
   "cell_type": "markdown",
   "id": "375faa64-0193-49c9-bec6-9cedd444c4c9",
   "metadata": {},
   "source": [
    "**Model 1 with age and birth doy**"
   ]
  },
  {
   "cell_type": "code",
   "execution_count": 6,
   "id": "78ed773c-9ef3-4c5f-9cfa-63fa5e41b96b",
   "metadata": {},
   "outputs": [
    {
     "name": "stderr",
     "output_type": "stream",
     "text": [
      "Warning message in smooth.construct.tensor.smooth.spec(object, dk$data, dk$knots):\n",
      "\"reparameterization unstable for margin: not done\"\n"
     ]
    },
    {
     "data": {
      "text/plain": [
       "\n",
       "Family: binomial \n",
       "Link function: logit \n",
       "\n",
       "Formula:\n",
       "infection ~ ti(age_days, bs = \"ps\", k = 25) + ti(Birth_doy, bs = \"cp\", \n",
       "    k = 11)\n",
       "\n",
       "Parametric coefficients:\n",
       "            Estimate Std. Error z value Pr(>|z|)\n",
       "(Intercept)    1.714      1.291   1.328    0.184\n",
       "\n",
       "Approximate significance of smooth terms:\n",
       "                edf Ref.df Chi.sq p-value    \n",
       "ti(age_days)  3.000      3 140.08 < 2e-16 ***\n",
       "ti(Birth_doy) 2.252     10  11.13 0.00218 ** \n",
       "---\n",
       "Signif. codes:  0 '***' 0.001 '**' 0.01 '*' 0.05 '.' 0.1 ' ' 1\n",
       "\n",
       "R-sq.(adj) =  0.538   Deviance explained = 48.5%\n",
       "-REML = 217.93  Scale est. = 1         n = 616"
      ]
     },
     "metadata": {},
     "output_type": "display_data"
    }
   ],
   "source": [
    "model1 <- gam(\n",
    "  formula = infection ~ \n",
    "    ti(age_days, bs = \"ps\", k = 25) +  #definition of tensor product smooths and interactions within gam model formulae. te produces a full tensor product smooth, while ti produces a tensor product interaction, appropriate when the main effects (and any lower interactions) are also present.\n",
    "    ti(Birth_doy, bs = \"cp\", k = 11),# +\n",
    "  #ti(age_days, Birth_doy, bs = c(\"ps\", \"cp\")),\n",
    "  knots = list(Birth_doy = c(1, 365)),\n",
    "  family = binomial,\n",
    "  method = \"REML\",  #restricted maximum likelihood \n",
    "  data = rsv.data)\n",
    "summary(model1)"
   ]
  },
  {
   "cell_type": "code",
   "execution_count": 7,
   "id": "5ebc92ef-b3bc-4bb9-91bf-916275b27a25",
   "metadata": {},
   "outputs": [],
   "source": [
    "# Generate some fake data for the model prediction\n",
    "rsv.preddata <- expand.grid(\n",
    "  age_days = as.matrix(c(30,60,90,120,150,180,270,365,547,730,900,1095)),\n",
    "  Birth_doy = seq(from = 1, to = 365, by = 1))"
   ]
  },
  {
   "cell_type": "code",
   "execution_count": 8,
   "id": "6cfebc89-1ce2-4255-b852-74500bf7c5df",
   "metadata": {},
   "outputs": [],
   "source": [
    "# Make predictions for each combination using the GAM model\n",
    "# Do this in a temporary tibble, because two columns are produced: fit and se.fit\n",
    "tmp <- predict(\n",
    "  object = model1,\n",
    "  newdata = rsv.preddata,\n",
    "  type = \"link\",\n",
    "  se.fit = TRUE) %>%\n",
    "  as_tibble"
   ]
  },
  {
   "cell_type": "code",
   "execution_count": 9,
   "id": "25676be6-45ac-4041-a432-67d71a7d5ce4",
   "metadata": {},
   "outputs": [],
   "source": [
    "# Bind tmp to rsv.preddata and calculate the p_inf including 95% lower and upper bound\n",
    "rsv.doy_age.preddata <- bind_cols(rsv.preddata, tmp) %>%\n",
    "  mutate(\n",
    "    fit_lwr = fit + qnorm(0.025)*se.fit,   \n",
    "    fit_upr = fit + qnorm(0.975)*se.fit,\n",
    "    p_inf = fit %>% plogis,                #create vector of probabilities from log odds\n",
    "    p_inf_lwr = fit_lwr %>% plogis,\n",
    "    p_inf_upr = fit_upr %>% plogis)"
   ]
  },
  {
   "cell_type": "code",
   "execution_count": 10,
   "id": "fe6e3e06-b463-439e-918f-8e108ded627e",
   "metadata": {},
   "outputs": [
    {
     "name": "stderr",
     "output_type": "stream",
     "text": [
      "Saving 6.67 x 6.67 in image\n",
      "\n"
     ]
    },
    {
     "data": {
      "image/png": "[encoded data removed]",
      "text/plain": [
       "plot without title"
      ]
     },
     "metadata": {
      "image/png": {
       "height": 420,
       "width": 420
      }
     },
     "output_type": "display_data"
    }
   ],
   "source": [
    "#Plot results\n",
    "doy_age <- ggplot(\n",
    "  data = rsv.doy_age.preddata,\n",
    "  mapping = aes(\n",
    "    x = Birth_doy, y = p_inf, ymin = p_inf_lwr, ymax = p_inf_upr)) +\n",
    "  geom_ribbon(\n",
    "    alpha = 0.25) +\n",
    "  geom_line() +\n",
    "  ylab(\"Probability of prior infection\") +\n",
    "  xlab(\"Birth day of year\") +\n",
    "  facet_wrap(\n",
    "    facets = ~ age_days, labeller = labeller(age_days = \n",
    "                                               c(\"30\" = \"Age: 30 days\",\n",
    "                                                 \"60\" = \"Age: 60 days\",\n",
    "                                                 \"90\" = \"Age: 90 days\",\n",
    "                                                 \"120\" = \"Age: 120 days\",\n",
    "                                                 \"150\" = \"Age: 150 days\",\n",
    "                                                 \"180\" = \"Age: 180 days\",\n",
    "                                                 \"270\" = \"Age: 270 days\",\n",
    "                                                 \"365\" = \"Age: 365 days\",\n",
    "                                                 \"547\" = \"Age: 547 days\",\n",
    "                                                 \"730\" = \"Age: 730 days\",\n",
    "                                                 \"900\" = \"Age: 900 days\",\n",
    "                                                 \"1095\" = \"Age: 1095 days\"))\n",
    "  ) + theme_bw() + \n",
    "  theme(panel.grid.minor = element_blank(),panel.grid.major = element_line(colour = \"grey65\", size = 0.2),\n",
    "        strip.background = element_rect(\n",
    "          color=\"black\", fill=\"white\", linetype = \"blank\"),\n",
    "        strip.text = element_text(size=8)\n",
    "  )\n",
    "\n",
    "doy_age\n",
    "ggsave(file = file.path(PATH, 'age_doy.svg'), plot = doy_age)"
   ]
  },
  {
   "cell_type": "code",
   "execution_count": 11,
   "id": "3eb3580c-336f-4d02-a56c-2b73e344caf4",
   "metadata": {},
   "outputs": [],
   "source": [
    "# Model1 for age time steps of 73 days\n",
    "rsv.preddata <- expand.grid(\n",
    "  age_days = as.matrix(c(73,146,219,292,365,\n",
    "                         73+365,146+365,219+365,292+365,365+365,\n",
    "                         73+365+365,146+365+365,219+365+365,292+365+365,365+365+365)),\n",
    "  Birth_doy = seq(from = 1, to = 365, by = 5))"
   ]
  },
  {
   "cell_type": "code",
   "execution_count": 12,
   "id": "9f0cc904-99fc-4596-839d-eec11b870967",
   "metadata": {},
   "outputs": [],
   "source": [
    "# Make predictions for each combination using the GAM model\n",
    "# Do this in a temporary tibble, because two columns are produced: fit and se.fit\n",
    "tmp <- predict(\n",
    "  object = model1,\n",
    "  newdata = rsv.preddata,\n",
    "  type = \"link\",\n",
    "  se.fit = TRUE) %>%\n",
    "  as_tibble"
   ]
  },
  {
   "cell_type": "code",
   "execution_count": 14,
   "id": "8e3ea80f-1e58-44b0-bcac-aa3e2a7adb16",
   "metadata": {},
   "outputs": [],
   "source": [
    "# Bind tmp to rsv.preddata and calculate the p_inf including 95% lower and upper bound\n",
    "rsv.doy_age.preddata_eqstep <- bind_cols(rsv.preddata, tmp) %>%\n",
    "  mutate(\n",
    "    fit_lwr = fit + qnorm(0.025)*se.fit,   \n",
    "    fit_upr = fit + qnorm(0.975)*se.fit,\n",
    "    p_inf = fit %>% plogis,                #create vector of probabilities from log odds\n",
    "    p_inf_lwr = fit_lwr %>% plogis,\n",
    "    p_inf_upr = fit_upr %>% plogis)"
   ]
  },
  {
   "cell_type": "code",
   "execution_count": 15,
   "id": "fcfc2ac8-90f6-480b-9e8c-61710d3f0db5",
   "metadata": {},
   "outputs": [
    {
     "name": "stderr",
     "output_type": "stream",
     "text": [
      "Saving 6.67 x 6.67 in image\n",
      "\n"
     ]
    },
    {
     "data": {
      "image/png": "[encoded data removed]",
      "text/plain": [
       "plot without title"
      ]
     },
     "metadata": {
      "image/png": {
       "height": 420,
       "width": 420
      }
     },
     "output_type": "display_data"
    }
   ],
   "source": [
    "# Plot results ----\n",
    "\n",
    "# Plot Supplement figure\n",
    "doy_age_73 <- ggplot(\n",
    "  data = rsv.doy_age.preddata_eqstep,\n",
    "  mapping = aes(\n",
    "    x = Birth_doy, y = p_inf, ymin = p_inf_lwr, ymax = p_inf_upr)) +\n",
    "  geom_ribbon(\n",
    "    alpha = 0.25) +\n",
    "  geom_line() +\n",
    "  ylab(\"Probability of prior infection\") +\n",
    "  xlab(\"Birth day of year\") +\n",
    "  facet_wrap(facets = ~ age_days, ncol = 5, labeller = labeller(age_days = \n",
    "                                                                  c(\"73\" = \"Age: 73 days\",\n",
    "                                                                    \"146\" = \"Age: 146 days\",\n",
    "                                                                    \"219\" = \"Age: 219 days\",\n",
    "                                                                    \"292\" = \"Age: 292 days\",\n",
    "                                                                    \"365\" = \"Age: 365 days\",\n",
    "                                                                    \"438\" = \"Age: 438 days\",\n",
    "                                                                    \"511\" = \"Age: 511 days\",\n",
    "                                                                    \"584\" = \"Age: 584 days\",\n",
    "                                                                    \"657\" = \"Age: 657 days\",\n",
    "                                                                    \"730\" = \"Age: 730 days\",\n",
    "                                                                    \"803\" = \"Age: 803 days\",\n",
    "                                                                    \"876\" = \"Age: 876 days\",\n",
    "                                                                    \"949\" = \"Age: 949 days\",\n",
    "                                                                    \"1022\" = \"Age: 1022 days\",\n",
    "                                                                    \"1095\" = \"Age: 1095 days\"))) + \n",
    "  theme_bw() + \n",
    "  theme(panel.grid.minor = element_blank(),panel.grid.major = element_line(colour = \"grey65\", size = 0.2),\n",
    "        strip.background = element_rect(\n",
    "          color=\"black\", fill=\"white\", linetype = \"blank\"),\n",
    "        strip.text = element_text(size=8)\n",
    "  )\n",
    "\n",
    "doy_age_73\n",
    "ggsave(file = file.path(PATH, 'age_doy_15grid.svg'), plot = doy_age_73)"
   ]
  },
  {
   "cell_type": "markdown",
   "id": "dceeeba6-d04a-4745-8fa5-270e125c7b4a",
   "metadata": {},
   "source": [
    "**Model 2 with with age, birth doy and Siblings04**"
   ]
  },
  {
   "cell_type": "code",
   "execution_count": 18,
   "id": "f6d365f8-4d43-40f7-b532-0f32b8d3365d",
   "metadata": {},
   "outputs": [
    {
     "name": "stderr",
     "output_type": "stream",
     "text": [
      "Warning message in smooth.construct.tensor.smooth.spec(object, dk$data, dk$knots):\n",
      "\"reparameterization unstable for margin: not done\"\n"
     ]
    },
    {
     "data": {
      "text/plain": [
       "\n",
       "Family: binomial \n",
       "Link function: logit \n",
       "\n",
       "Formula:\n",
       "infection ~ Siblings04 + ti(Birth_doy, bs = \"cp\", k = 11) + ti(age_days, \n",
       "    bs = \"ps\", k = 25)\n",
       "\n",
       "Parametric coefficients:\n",
       "               Estimate Std. Error z value Pr(>|z|)  \n",
       "(Intercept)      1.5587     1.3232   1.178   0.2388  \n",
       "Siblings04True   0.5116     0.2445   2.092   0.0364 *\n",
       "---\n",
       "Signif. codes:  0 '***' 0.001 '**' 0.01 '*' 0.05 '.' 0.1 ' ' 1\n",
       "\n",
       "Approximate significance of smooth terms:\n",
       "                edf Ref.df Chi.sq p-value    \n",
       "ti(Birth_doy) 2.259     10  11.48  0.0018 ** \n",
       "ti(age_days)  3.000      3 140.52  <2e-16 ***\n",
       "---\n",
       "Signif. codes:  0 '***' 0.001 '**' 0.01 '*' 0.05 '.' 0.1 ' ' 1\n",
       "\n",
       "R-sq.(adj) =  0.539   Deviance explained =   49%\n",
       "-REML = 216.15  Scale est. = 1         n = 616"
      ]
     },
     "metadata": {},
     "output_type": "display_data"
    }
   ],
   "source": [
    "model2 <- gam(\n",
    "  formula = infection ~ \n",
    "    Siblings04 + \n",
    "    ti(Birth_doy, bs = \"cp\", k = 11) + \n",
    "    ti(age_days, bs = \"ps\", k = 25),# +\n",
    "  #ti(age_days, bs = \"ps\", k = 15, by = Siblings04),\n",
    "  knots = list(birth_doy = c(1, 365)),\n",
    "  family = binomial,\n",
    "  method = \"REML\",  #restricted maximum likelihood \n",
    "  data = rsv.data)\n",
    "summary(model2)"
   ]
  },
  {
   "cell_type": "code",
   "execution_count": 19,
   "id": "4ae155ec-8f3c-4ac8-962e-c4e9737efd25",
   "metadata": {},
   "outputs": [
    {
     "name": "stderr",
     "output_type": "stream",
     "text": [
      "Saving 6.67 x 6.67 in image\n",
      "\n"
     ]
    },
    {
     "data": {
      "image/png": "[encoded data removed]",
      "text/plain": [
       "plot without title"
      ]
     },
     "metadata": {
      "image/png": {
       "height": 420,
       "width": 420
      }
     },
     "output_type": "display_data"
    }
   ],
   "source": [
    "# Generate some fake data for the model prediction\n",
    "rsv.preddata <- expand.grid(\n",
    "  age_days = c(30,90,180,270,365,547,730,900,1095),\n",
    "  Birth_doy = seq(from = 1, to = 365, by = 5),\n",
    "  Siblings04 = factor(c('True', 'False')))\n",
    "\n",
    "# Make predictions for each combination using the GAM model\n",
    "# Do this in a temporary tibble, because two columns are produced: fit and se.fit\n",
    "tmp <- predict(\n",
    "  object = model2,\n",
    "  newdata = rsv.preddata,\n",
    "  type = \"link\",\n",
    "  se.fit = TRUE) %>%\n",
    "  as_tibble\n",
    "\n",
    "# Bind tmp to rsv.preddata and calculate the p_inf including 95% lower and upper bound\n",
    "rsv.doy_age_sib.preddata <- bind_cols(rsv.preddata, tmp) %>%\n",
    "  mutate(\n",
    "    fit_lwr = fit + qnorm(0.025)*se.fit,   \n",
    "    fit_upr = fit + qnorm(0.975)*se.fit,\n",
    "    p_inf = fit %>% plogis,                #create vector of probabilities from log odds\n",
    "    p_inf_lwr = fit_lwr %>% plogis,\n",
    "    p_inf_upr = fit_upr %>% plogis)\n",
    "\n",
    "#\n",
    "# Plot results ----\n",
    "#\n",
    "\n",
    "# Plot Supplement Figure\n",
    "doy_age_sib <- ggplot(\n",
    "  data = rsv.doy_age_sib.preddata,\n",
    "  mapping = aes(\n",
    "    x = Birth_doy, y = p_inf, ymin = p_inf_lwr, ymax = p_inf_upr,\n",
    "    group = Siblings04, fill = Siblings04, color = Siblings04\n",
    "  )) +\n",
    "  geom_ribbon(\n",
    "    alpha = 0.25, colour = NA) +\n",
    "  geom_line() +\n",
    "  scale_fill_manual(values=c(color_1, color_2)) + \n",
    "  scale_color_manual(values=c(color_1, color_2)) + \n",
    "  ylab(\"Probability of prior infection\") +\n",
    "  xlab(\"Birth day of year\") +\n",
    "  facet_wrap(\n",
    "    facets = ~ age_days, labeller = labeller(age_days = \n",
    "                                               c(\"30\" = \"Age: 30 days\",\n",
    "                                                 \"90\" = \"Age: 90 days\",\n",
    "                                                 \"180\" = \"Age: 180 days\",\n",
    "                                                 \"270\" = \"Age: 270 days\",\n",
    "                                                 \"365\" = \"Age: 365 days\",\n",
    "                                                 \"547\" = \"Age: 547 days\",\n",
    "                                                 \"730\" = \"Age: 730 days\",\n",
    "                                                 \"900\" = \"Age: 900 days\",\n",
    "                                                 \"1095\" = \"Age: 1095 days\"))\n",
    "  )  + theme_bw() + \n",
    "  theme(panel.grid.minor = element_blank(),panel.grid.major = element_line(colour = \"grey65\", size = 0.2),\n",
    "        strip.background = element_rect(\n",
    "          color=\"black\", fill=\"white\", linetype = \"blank\"),\n",
    "        strip.text = element_text(size=8)\n",
    "  )\n",
    "\n",
    "doy_age_sib\n",
    "ggsave(file = file.path(PATH, 'age_doy_sib.svg'), plot = doy_age_sib)"
   ]
  },
  {
   "cell_type": "code",
   "execution_count": 20,
   "id": "3ae941f2-a2dd-4bae-8206-4692c6dd35de",
   "metadata": {},
   "outputs": [
    {
     "name": "stderr",
     "output_type": "stream",
     "text": [
      "Warning message in smooth.construct.tensor.smooth.spec(object, dk$data, dk$knots):\n",
      "\"reparameterization unstable for margin: not done\"\n"
     ]
    },
    {
     "data": {
      "text/plain": [
       "\n",
       "Family: binomial \n",
       "Link function: logit \n",
       "\n",
       "Formula:\n",
       "infection ~ Siblings59 + ti(Birth_doy, bs = \"cp\", k = 11) + ti(age_days, \n",
       "    bs = \"ps\", k = 25)\n",
       "\n",
       "Parametric coefficients:\n",
       "               Estimate Std. Error z value Pr(>|z|)\n",
       "(Intercept)      1.6757     1.2950   1.294    0.196\n",
       "Siblings59True   0.2292     0.2845   0.806    0.420\n",
       "\n",
       "Approximate significance of smooth terms:\n",
       "                edf Ref.df Chi.sq p-value    \n",
       "ti(Birth_doy) 2.239     10   11.1 0.00216 ** \n",
       "ti(age_days)  3.000      3  138.5 < 2e-16 ***\n",
       "---\n",
       "Signif. codes:  0 '***' 0.001 '**' 0.01 '*' 0.05 '.' 0.1 ' ' 1\n",
       "\n",
       "R-sq.(adj) =  0.537   Deviance explained = 48.6%\n",
       "-REML = 217.94  Scale est. = 1         n = 616"
      ]
     },
     "metadata": {},
     "output_type": "display_data"
    },
    {
     "name": "stderr",
     "output_type": "stream",
     "text": [
      "Saving 6.67 x 6.67 in image\n",
      "\n"
     ]
    },
    {
     "data": {
      "image/png": "[encoded data removed]",
      "text/plain": [
       "plot without title"
      ]
     },
     "metadata": {
      "image/png": {
       "height": 420,
       "width": 420
      }
     },
     "output_type": "display_data"
    }
   ],
   "source": [
    "# Additional model 2, with age, birth doy and Siblings59\n",
    "model2.1 <- gam(\n",
    "  formula = infection ~ \n",
    "    Siblings59 + \n",
    "    ti(Birth_doy, bs = \"cp\", k = 11) + \n",
    "    #ti(household04n, bs = \"re\", k = 10) +\n",
    "    ti(age_days, bs = \"ps\", k = 25),# +\n",
    "  #ti(age_days, bs = \"ps\", k = 15, by = siblings04),\n",
    "  knots = list(birth_doy = c(1, 365)),\n",
    "  family = binomial,\n",
    "  method = \"REML\",  #restricted maximum likelihood \n",
    "  data = rsv.data)\n",
    "summary(model2.1)\n",
    "\n",
    "# Generate some fake data for the model prediction\n",
    "rsv.preddata <- expand.grid(\n",
    "  age_days = c(30,90,180,270,365,547,730,900,1095),\n",
    "  Birth_doy = seq(from = 1, to = 365, by = 5),\n",
    "  Siblings59 = factor(c('True', 'False')))\n",
    "\n",
    "# Make predictions for each combination using the GAM model\n",
    "# Do this in a temporary tibble, because two columns are produced: fit and se.fit\n",
    "tmp <- predict(\n",
    "  object = model2.1,\n",
    "  newdata = rsv.preddata,\n",
    "  type = \"link\",\n",
    "  se.fit = TRUE) %>%\n",
    "  as_tibble\n",
    "\n",
    "# Bind tmp to rsv.preddata and calculate the p_inf including 95% lower and upper bound\n",
    "rsv.doy_age_sib59.preddata <- bind_cols(rsv.preddata, tmp) %>%\n",
    "  mutate(\n",
    "    fit_lwr = fit + qnorm(0.025)*se.fit,   \n",
    "    fit_upr = fit + qnorm(0.975)*se.fit,\n",
    "    p_inf = fit %>% plogis,                #create vector of probabilities from log odds\n",
    "    p_inf_lwr = fit_lwr %>% plogis,\n",
    "    p_inf_upr = fit_upr %>% plogis)\n",
    "\n",
    "#\n",
    "# Plot results ----\n",
    "#\n",
    "\n",
    "# Plot Supplement Figure\n",
    "doy_age_sib59 <- ggplot(\n",
    "  data = rsv.doy_age_sib59.preddata,\n",
    "  mapping = aes(\n",
    "    x = Birth_doy, y = p_inf, ymin = p_inf_lwr, ymax = p_inf_upr, \n",
    "    group= Siblings59, col= Siblings59, fill = Siblings59)) +\n",
    "  geom_ribbon(\n",
    "    alpha = 0.25, colour = NA) +\n",
    "  geom_line() +\n",
    "  scale_fill_manual(values=c(color_1, color_2)) + \n",
    "  scale_color_manual(values=c(color_1, color_2)) + \n",
    "  ylab(\"Probability of prior infection\") +\n",
    "  xlab(\"Birth day of year\") +\n",
    "  facet_wrap(\n",
    "    facets = ~ age_days, labeller = labeller(age_days = \n",
    "                                               c(\"30\" = \"Age: 30 days\",\n",
    "                                                 \"90\" = \"Age: 90 days\",\n",
    "                                                 \"180\" = \"Age: 180 days\",\n",
    "                                                 \"270\" = \"Age: 270 days\",\n",
    "                                                 \"365\" = \"Age: 365 days\",\n",
    "                                                 \"547\" = \"Age: 547 days\",\n",
    "                                                 \"730\" = \"Age: 730 days\",\n",
    "                                                 \"900\" = \"Age: 900 days\",\n",
    "                                                 \"1095\" = \"Age: 1095 days\"))\n",
    "  )  + theme_bw() + \n",
    "  theme(panel.grid.minor = element_blank(),panel.grid.major = element_line(colour = \"grey65\", size = 0.2),\n",
    "        strip.background = element_rect(\n",
    "          color=\"black\", fill=\"white\", linetype = \"blank\"),\n",
    "        strip.text = element_text(size=8)\n",
    "  )\n",
    "\n",
    "doy_age_sib59\n",
    "ggsave(file = file.path(PATH, 'age_doy_sib59.svg'), plot = doy_age_sib59)"
   ]
  },
  {
   "cell_type": "markdown",
   "id": "0a93eaef-114e-4cc1-b762-a5b3888965bc",
   "metadata": {},
   "source": [
    "**Model3 with age, birth doy and nursery**"
   ]
  },
  {
   "cell_type": "code",
   "execution_count": 21,
   "id": "3b00ac0d-f7c2-4e2f-9e0d-e579d5557bb7",
   "metadata": {},
   "outputs": [
    {
     "name": "stderr",
     "output_type": "stream",
     "text": [
      "Warning message in smooth.construct.tensor.smooth.spec(object, dk$data, dk$knots):\n",
      "\"reparameterization unstable for margin: not done\"\n"
     ]
    },
    {
     "data": {
      "text/plain": [
       "\n",
       "Family: binomial \n",
       "Link function: logit \n",
       "\n",
       "Formula:\n",
       "infection ~ Nursery + ti(age_days, bs = \"ps\", k = 25) + ti(Birth_doy, \n",
       "    bs = \"cp\", k = 11)\n",
       "\n",
       "Parametric coefficients:\n",
       "            Estimate Std. Error z value Pr(>|z|)    \n",
       "(Intercept)   0.8409     1.1559   0.727    0.467    \n",
       "NurseryTrue   1.1806     0.2521   4.682 2.84e-06 ***\n",
       "---\n",
       "Signif. codes:  0 '***' 0.001 '**' 0.01 '*' 0.05 '.' 0.1 ' ' 1\n",
       "\n",
       "Approximate significance of smooth terms:\n",
       "                edf Ref.df  Chi.sq p-value    \n",
       "ti(age_days)  3.000      3 130.099 < 2e-16 ***\n",
       "ti(Birth_doy) 2.145     10   9.398 0.00506 ** \n",
       "---\n",
       "Signif. codes:  0 '***' 0.001 '**' 0.01 '*' 0.05 '.' 0.1 ' ' 1\n",
       "\n",
       "R-sq.(adj) =  0.568   Deviance explained = 51.1%\n",
       "-REML = 206.98  Scale est. = 1         n = 616"
      ]
     },
     "metadata": {},
     "output_type": "display_data"
    }
   ],
   "source": [
    "model3 <- gam(\n",
    "  formula = infection ~ \n",
    "    Nursery + \n",
    "    ti(age_days, bs = \"ps\", k = 25) + \n",
    "    ti(Birth_doy, bs = \"cp\", k = 11),# +\n",
    "  #ti(contact04, bs = \"re\", k = 20) +\n",
    "  #ti(age_days, bs = \"ps\", k = 25, by = visitnursery_child, m = 1) + \n",
    "  #ti(birth_doy, bs = \"cp\", k = 10, by = visitnursery_child, m = 1),\n",
    "  # ti(contact04, bs = \"re\", k = 20, by = siblings04, m = 1), \n",
    "  \n",
    "  knots = list(birth_doy = c(1, 365)),\n",
    "  family = binomial,\n",
    "  method = \"REML\",  #restricted maximum likelihood \n",
    "  data = rsv.data)\n",
    "summary(model3)"
   ]
  },
  {
   "cell_type": "code",
   "execution_count": 22,
   "id": "b54ff397-7214-47b8-8de8-163f1c81f321",
   "metadata": {},
   "outputs": [
    {
     "name": "stderr",
     "output_type": "stream",
     "text": [
      "Saving 6.67 x 6.67 in image\n",
      "\n"
     ]
    },
    {
     "data": {
      "image/png": "[encoded data removed]",
      "text/plain": [
       "plot without title"
      ]
     },
     "metadata": {
      "image/png": {
       "height": 420,
       "width": 420
      }
     },
     "output_type": "display_data"
    }
   ],
   "source": [
    "# Generate some fake data for the model prediction\n",
    "rsv.preddata <- expand.grid(\n",
    "  age_days = c(30,90,180,270,365,547,730,900,1095),\n",
    "  Birth_doy = seq(from = 1, to = 365, by = 5),\n",
    "  Nursery = factor(c('False', 'True')))\n",
    "\n",
    "# Make predictions for each combination using the GAM model\n",
    "# Do this in a temporary tibble, because two columns are produced: fit and se.fit\n",
    "tmp <- predict(\n",
    "  object = model3,\n",
    "  newdata = rsv.preddata,\n",
    "  type = \"link\",\n",
    "  se.fit = TRUE) %>%\n",
    "  as_tibble\n",
    "\n",
    "# Bind tmp to rsv.preddata and calculate the p_inf including 95% lower and upper bound\n",
    "rsv.doy_age_nur.preddata <- bind_cols(rsv.preddata, tmp) %>%\n",
    "  mutate(\n",
    "    fit_lwr = fit + qnorm(0.025)*se.fit,   \n",
    "    fit_upr = fit + qnorm(0.975)*se.fit,\n",
    "    p_inf = fit %>% plogis,                #create vector of probabilities from log odds\n",
    "    p_inf_lwr = fit_lwr %>% plogis,\n",
    "    p_inf_upr = fit_upr %>% plogis)\n",
    "\n",
    "#\n",
    "# Plot results ----\n",
    "#\n",
    "\n",
    "# Plot Supplement Figure\n",
    "doy_age_nur <- ggplot(\n",
    "  data = rsv.doy_age_nur.preddata,\n",
    "  mapping = aes(\n",
    "    x = Birth_doy, y = p_inf, ymin = p_inf_lwr, ymax = p_inf_upr, \n",
    "    group= Nursery, col= Nursery, fill = Nursery)) +\n",
    "  geom_ribbon(\n",
    "    alpha = 0.25, colour = NA) +\n",
    "  geom_line() +\n",
    "  scale_fill_manual(values=c(color_1, color_2)) + \n",
    "  scale_color_manual(values=c(color_1, color_2)) + \n",
    "  ylab(\"Probability of prior infection\") +\n",
    "  xlab(\"Birth day of year\") +\n",
    "  facet_wrap(\n",
    "    facets = ~ age_days, labeller = labeller(age_days = \n",
    "                                               c(\"30\" = \"Age: 30 days\",\n",
    "                                                 \"90\" = \"Age: 90 days\",\n",
    "                                                 \"180\" = \"Age: 180 days\",\n",
    "                                                 \"270\" = \"Age: 270 days\",\n",
    "                                                 \"365\" = \"Age: 365 days\",\n",
    "                                                 \"547\" = \"Age: 547 days\",\n",
    "                                                 \"730\" = \"Age: 730 days\",\n",
    "                                                 \"900\" = \"Age: 900 days\",\n",
    "                                                 \"1095\" = \"Age: 1095 days\"))\n",
    "  ) + theme_bw() + \n",
    "  theme(panel.grid.minor = element_blank(),panel.grid.major = element_line(colour = \"grey65\", size = 0.2),\n",
    "        strip.background = element_rect(\n",
    "          color=\"black\", fill=\"white\", linetype = \"blank\"),\n",
    "        strip.text = element_text(size=8)\n",
    "  ) + guides(fill=guide_legend(title=\"Day-care\"), col=guide_legend(title=\"Day-care\"))\n",
    "\n",
    "doy_age_nur   \n",
    "ggsave(file = file.path(PATH, 'age_doy_nur.svg'), plot = doy_age_nur)\n"
   ]
  },
  {
   "cell_type": "markdown",
   "id": "6effcf7e-f22f-478c-80bd-20a55fcde94a",
   "metadata": {},
   "source": [
    "**Model4 with age, birth doy, Siblings04 and nursery**"
   ]
  },
  {
   "cell_type": "code",
   "execution_count": 23,
   "id": "c1d2552a-3cf8-4087-bc6b-901bc7a09f10",
   "metadata": {},
   "outputs": [
    {
     "name": "stderr",
     "output_type": "stream",
     "text": [
      "Warning message in smooth.construct.tensor.smooth.spec(object, dk$data, dk$knots):\n",
      "\"reparameterization unstable for margin: not done\"\n"
     ]
    },
    {
     "data": {
      "text/plain": [
       "\n",
       "Family: binomial \n",
       "Link function: logit \n",
       "\n",
       "Formula:\n",
       "infection ~ Nursery + Siblings04 + ti(age_days, bs = \"ps\", k = 25) + \n",
       "    ti(Birth_doy, bs = \"cp\", k = 11)\n",
       "\n",
       "Parametric coefficients:\n",
       "               Estimate Std. Error z value Pr(>|z|)    \n",
       "(Intercept)      0.5808     1.1755   0.494   0.6212    \n",
       "NurseryTrue      1.2275     0.2557   4.801 1.58e-06 ***\n",
       "Siblings04True   0.6034     0.2540   2.376   0.0175 *  \n",
       "---\n",
       "Signif. codes:  0 '***' 0.001 '**' 0.01 '*' 0.05 '.' 0.1 ' ' 1\n",
       "\n",
       "Approximate significance of smooth terms:\n",
       "                edf Ref.df  Chi.sq p-value    \n",
       "ti(age_days)  3.000      3 131.080 < 2e-16 ***\n",
       "ti(Birth_doy) 2.172     10   9.976 0.00376 ** \n",
       "---\n",
       "Signif. codes:  0 '***' 0.001 '**' 0.01 '*' 0.05 '.' 0.1 ' ' 1\n",
       "\n",
       "R-sq.(adj) =  0.571   Deviance explained = 51.8%\n",
       "-REML =  204.5  Scale est. = 1         n = 616"
      ]
     },
     "metadata": {},
     "output_type": "display_data"
    },
    {
     "name": "stderr",
     "output_type": "stream",
     "text": [
      "Saving 6.67 x 6.67 in image\n",
      "\n"
     ]
    },
    {
     "data": {
      "image/png": "[encoded data removed]",
      "text/plain": [
       "plot without title"
      ]
     },
     "metadata": {
      "image/png": {
       "height": 420,
       "width": 420
      }
     },
     "output_type": "display_data"
    }
   ],
   "source": [
    "model4 <- gam(\n",
    "  formula = infection ~ \n",
    "    Nursery + \n",
    "    Siblings04 +\n",
    "    ti(age_days, bs = \"ps\", k = 25) + \n",
    "    ti(Birth_doy, bs = \"cp\", k = 11),# +\n",
    "  #ti(contact04, bs = \"re\", k = 10) +\n",
    "  #ti(age_days, bs = \"ps\", k = 25, by = siblings04, m = 1) + \n",
    "  #ti(birth_doy, bs = \"cp\", k = 10, by = siblings04, m = 1) +\n",
    "  # ti(contact04, bs = \"re\", k = 10, by = siblings04, m = 1) + \n",
    "  #ti(age_days, bs = \"ps\", k = 25, by = visitnursery_child, m = 1) + \n",
    "  #ti(birth_doy, bs = \"cp\", k = 10, by = visitnursery_child, m = 1),# +\n",
    "  # ti(contact04, bs = \"re\", k = 10, by = visitnursery_child, m = 1),# \n",
    "  \n",
    "  knots = list(Birth_doy = c(1, 365)),\n",
    "  family = binomial,\n",
    "  method = \"REML\",  #restricted maximum likelihood \n",
    "  data = rsv.data)\n",
    "summary(model4)\n",
    "\n",
    "# Generate some fake data for the model prediction\n",
    "rsv.preddata <- expand.grid(\n",
    "  age_days = c(30,180,365,547,730,1095),\n",
    "  Birth_doy = seq(from = 1, to = 365, by = 5),\n",
    "  Siblings04 = factor(c('True', 'False')),\n",
    "  Nursery = factor(c('True', 'False')))\n",
    "\n",
    "# Make predictions for each combination using the GAM model\n",
    "# Do this in a temporary tibble, because two columns are produced: fit and se.fit\n",
    "tmp <- predict(\n",
    "  object = model4,\n",
    "  newdata = rsv.preddata,\n",
    "  type = \"link\",\n",
    "  se.fit = TRUE) %>%\n",
    "  as_tibble\n",
    "\n",
    "# Bind tmp to rsv.preddata and calculate the p_inf including 95% lower and upper bound\n",
    "rsv.doy_age_sib_nur.preddata <- bind_cols(rsv.preddata, tmp) %>%\n",
    "  mutate(\n",
    "    fit_lwr = fit + qnorm(0.025)*se.fit,   \n",
    "    fit_upr = fit + qnorm(0.975)*se.fit,\n",
    "    p_inf = fit %>% plogis,                #create vector of probabilities from log odds\n",
    "    p_inf_lwr = fit_lwr %>% plogis,\n",
    "    p_inf_upr = fit_upr %>% plogis)\n",
    "\n",
    "#\n",
    "# Plot results ----\n",
    "#\n",
    "\n",
    "# Plot Figure 4\n",
    "doy_age_sib_nur <- ggplot(\n",
    "  data = rsv.doy_age_sib_nur.preddata,\n",
    "  mapping = aes(\n",
    "    x = Birth_doy, y = p_inf, ymin = p_inf_lwr, ymax = p_inf_upr, \n",
    "    group=Nursery , col= Nursery, fill = Nursery)) +\n",
    "  geom_ribbon(\n",
    "    alpha = 0.25, colour = NA) +\n",
    "  geom_line() +\n",
    "  scale_fill_manual(values=c(color_1, color_2)) + \n",
    "  scale_color_manual(values=c(color_1, color_2)) + \n",
    "  ylab(\"Probability of prior infection\") +\n",
    "  xlab(\"Birth day of year\") +\n",
    "  facet_wrap(\n",
    "    facets = ~ age_days + Siblings04, labeller = labeller(age_days = \n",
    "                                                            c(\"30\" = \"Age: 30 days\",\n",
    "                                                              \"90\" = \"Age: 90 days\",\n",
    "                                                              \"180\" = \"Age: 180 days\",\n",
    "                                                              \"270\" = \"Age: 270 days\",\n",
    "                                                              \"365\" = \"Age: 365 days\",\n",
    "                                                              \"547\" = \"Age: 547 days\",\n",
    "                                                              \"730\" = \"Age: 730 days\",\n",
    "                                                              \"900\" = \"Age: 900 days\",\n",
    "                                                              \"1095\" = \"Age: 1095 days\"),\n",
    "                                                          Siblings04 = c(\"False\" = \"Siblings04: False\",\n",
    "                                                                         \"True\" = \"Siblings04: True\"), .multi_line = FALSE)\n",
    "  ) + theme_bw() + \n",
    "  theme(panel.grid.minor = element_blank(), #remove grid lines between ticks\n",
    "        panel.grid.major = element_line(colour = \"grey65\", size = 0.2), #set size and color of grid lines\n",
    "        strip.background = element_rect(color=\"black\", fill=\"white\", linetype = \"blank\"), #set the background\n",
    "        legend.position = \"bottom\", #remove legend\n",
    "        strip.text = element_text(size=7.4) #set text size for text above the plots\n",
    "  ) + guides(fill=guide_legend(title=\"Day-care\"), col=guide_legend(title=\"Day-care\"))\n",
    "\n",
    "doy_age_sib_nur\n",
    "ggsave(file = file.path(PATH, 'age_doy_sib_nur.svg'), plot = doy_age_sib_nur)\n"
   ]
  },
  {
   "cell_type": "markdown",
   "id": "244d590b-4534-44db-a049-80e4fd0feda9",
   "metadata": {},
   "source": [
    "## Table 1 ##"
   ]
  },
  {
   "cell_type": "code",
   "execution_count": 46,
   "id": "6626433e-b78d-4063-803c-8656c89c5d07",
   "metadata": {},
   "outputs": [],
   "source": [
    "# Table 1\n",
    "rsv.preddata <- expand.grid(\n",
    "  age_days = c(30,365,730),\n",
    "  Birth_doy = c(1,182), # 1 Jan, 1 July\n",
    "  Siblings04 = factor(c('True', 'False')),\n",
    "  Nursery = factor(c('True', 'False')))\n",
    "\n",
    "# Make predictions for each combination using the GAM model\n",
    "# Do this in a temporary tibble, because two columns are produced: fit and se.fit\n",
    "tmp <- predict(\n",
    "  object = model4,\n",
    "  newdata = rsv.preddata,\n",
    "  type = \"link\",\n",
    "  se.fit = TRUE) %>%\n",
    "  as_tibble\n",
    "\n",
    "# Bind tmp to rsv.preddata and calculate the p_inf including 95% lower and upper bound\n",
    "rsv.doy_age_sib_nur.preddata <- bind_cols(rsv.preddata, tmp) %>%\n",
    "  mutate(\n",
    "    fit_lwr = fit + qnorm(0.025)*se.fit,   \n",
    "    fit_upr = fit + qnorm(0.975)*se.fit,\n",
    "    p_inf = fit %>% plogis,                #create vector of probabilities from log odds\n",
    "    p_inf_lwr = fit_lwr %>% plogis,\n",
    "    p_inf_upr = fit_upr %>% plogis)\n",
    "\n",
    "table_model4 <- rsv.doy_age_sib_nur.preddata %>% \n",
    "  mutate(\n",
    "    p_inf = p_inf,# %>% round(digits = 3),\n",
    "    p_inf_lwr = p_inf_lwr,# %>% round(digits = 3),\n",
    "    p_inf_upr = p_inf_upr,# %>% round(digits = 3),\n",
    "    n = rsv.data %>% nrow\n",
    "  ) %>% \n",
    "  select(`Age (days)` = age_days, \n",
    "         DOY = Birth_doy,\n",
    "         Siblings04,\n",
    "         `Day-care` = Nursery,\n",
    "         n,\n",
    "         `Probability of prior infection` = p_inf,\n",
    "         `Lower` = p_inf_lwr,\n",
    "         `Upper` = p_inf_upr) %>% \n",
    "  arrange(`Age (days)`, DOY, Siblings04) %>% \n",
    "  write_xlsx(path = \"tabel_model4.xlsx\")"
   ]
  },
  {
   "cell_type": "code",
   "execution_count": 47,
   "id": "d8fbac83-98c7-46a2-95fd-a16e903018e8",
   "metadata": {},
   "outputs": [
    {
     "ename": "ERROR",
     "evalue": "Error in UseMethod(\"left_join\"): no applicable method for 'left_join' applied to an object of class \"character\"\n",
     "output_type": "error",
     "traceback": [
      "Error in UseMethod(\"left_join\"): no applicable method for 'left_join' applied to an object of class \"character\"\nTraceback:\n",
      "1. table_model4 %>% left_join(table_model1, by = c(\"Age (days)\", \n .     \"DOY\")) %>% left_join(table_model2, by = c(\"Age (days)\", \n .     \"DOY\", \"Siblings04\")) %>% left_join(table_model3, by = c(\"Age (days)\", \n .     \"DOY\", \"Day-care\")) %>% select(`Age (days)`, DOY, `Probability of prior infection m1`, \n .     `Lower m1`, `Upper m1`, Siblings04, `Probability of prior infection m2`, \n .     `Lower m2`, `Upper m2`, `Day-care`, `Probability of prior infection m3`, \n .     `Lower m3`, `Upper m3`, `Probability of prior infection m4`, \n .     `Lower m4`, `Upper m4`) %>% write_xlsx(path = \"voorbeeld_tabel_versie2.xlsx\")",
      "2. write_xlsx(., path = \"voorbeeld_tabel_versie2.xlsx\")",
      "3. is.data.frame(x)",
      "4. select(., `Age (days)`, DOY, `Probability of prior infection m1`, \n .     `Lower m1`, `Upper m1`, Siblings04, `Probability of prior infection m2`, \n .     `Lower m2`, `Upper m2`, `Day-care`, `Probability of prior infection m3`, \n .     `Lower m3`, `Upper m3`, `Probability of prior infection m4`, \n .     `Lower m4`, `Upper m4`)",
      "5. left_join(., table_model3, by = c(\"Age (days)\", \"DOY\", \"Day-care\"))",
      "6. left_join(., table_model2, by = c(\"Age (days)\", \"DOY\", \"Siblings04\"))",
      "7. left_join(., table_model1, by = c(\"Age (days)\", \"DOY\"))"
     ]
    }
   ],
   "source": [
    "# table 1\n",
    "table_complete <- table_model4 %>% \n",
    "  left_join(table_model1, by = c(\"Age (days)\", \"DOY\")) %>% \n",
    "  left_join(table_model2, by = c(\"Age (days)\", \"DOY\", \"Siblings04\")) %>% \n",
    "  left_join(table_model3, by = c(\"Age (days)\", \"DOY\", \"Day-care\")) %>% \n",
    "  select(`Age (days)`, DOY, `Probability of prior infection m1`, `Lower m1`, `Upper m1`,\n",
    "         `Siblings04`, `Probability of prior infection m2`, `Lower m2`, `Upper m2`,\n",
    "         `Day-care`, `Probability of prior infection m3`, `Lower m3`, `Upper m3`,\n",
    "         `Probability of prior infection m4`, `Lower m4`, `Upper m4`) %>% \n",
    "  write_xlsx(path = \"voorbeeld_tabel_versie2.xlsx\")"
   ]
  },
  {
   "cell_type": "code",
   "execution_count": 48,
   "id": "ccc0cc61-aff0-40ba-84b8-074a5e1ef600",
   "metadata": {},
   "outputs": [
    {
     "name": "stderr",
     "output_type": "stream",
     "text": [
      "Warning message in rm(age_groups):\n",
      "\"object 'age_groups' not found\"\n"
     ]
    }
   ],
   "source": [
    "rm(age_groups)"
   ]
  },
  {
   "cell_type": "markdown",
   "id": "fc383bad-f534-4030-a994-1a81b3b4ba95",
   "metadata": {},
   "source": [
    "**Examples/numbers given in the manuscipt**"
   ]
  },
  {
   "cell_type": "code",
   "execution_count": 27,
   "id": "0074d6c1-8ccb-4c73-92a6-f20e90687b41",
   "metadata": {},
   "outputs": [
    {
     "data": {
      "text/html": [
       "<table class=\"dataframe\">\n",
       "<caption>A data.frame: 1 × 3</caption>\n",
       "<thead>\n",
       "\t<tr><th></th><th scope=col>p_inf</th><th scope=col>p_inf_lwr</th><th scope=col>p_inf_upr</th></tr>\n",
       "\t<tr><th></th><th scope=col>&lt;dbl&gt;</th><th scope=col>&lt;dbl&gt;</th><th scope=col>&lt;dbl&gt;</th></tr>\n",
       "</thead>\n",
       "<tbody>\n",
       "\t<tr><th scope=row>8</th><td>0.3239709</td><td>0.2165643</td><td>0.4537914</td></tr>\n",
       "</tbody>\n",
       "</table>\n"
      ],
      "text/latex": [
       "A data.frame: 1 × 3\n",
       "\\begin{tabular}{r|lll}\n",
       "  & p\\_inf & p\\_inf\\_lwr & p\\_inf\\_upr\\\\\n",
       "  & <dbl> & <dbl> & <dbl>\\\\\n",
       "\\hline\n",
       "\t8 & 0.3239709 & 0.2165643 & 0.4537914\\\\\n",
       "\\end{tabular}\n"
      ],
      "text/markdown": [
       "\n",
       "A data.frame: 1 × 3\n",
       "\n",
       "| <!--/--> | p_inf &lt;dbl&gt; | p_inf_lwr &lt;dbl&gt; | p_inf_upr &lt;dbl&gt; |\n",
       "|---|---|---|---|\n",
       "| 8 | 0.3239709 | 0.2165643 | 0.4537914 |\n",
       "\n"
      ],
      "text/plain": [
       "  p_inf     p_inf_lwr p_inf_upr\n",
       "8 0.3239709 0.2165643 0.4537914"
      ]
     },
     "metadata": {},
     "output_type": "display_data"
    },
    {
     "data": {
      "text/html": [
       "<table class=\"dataframe\">\n",
       "<caption>A data.frame: 1 × 3</caption>\n",
       "<thead>\n",
       "\t<tr><th></th><th scope=col>p_inf</th><th scope=col>p_inf_lwr</th><th scope=col>p_inf_upr</th></tr>\n",
       "\t<tr><th></th><th scope=col>&lt;dbl&gt;</th><th scope=col>&lt;dbl&gt;</th><th scope=col>&lt;dbl&gt;</th></tr>\n",
       "</thead>\n",
       "<tbody>\n",
       "\t<tr><th scope=row>2180</th><td>0.5585054</td><td>0.4529868</td><td>0.6589923</td></tr>\n",
       "</tbody>\n",
       "</table>\n"
      ],
      "text/latex": [
       "A data.frame: 1 × 3\n",
       "\\begin{tabular}{r|lll}\n",
       "  & p\\_inf & p\\_inf\\_lwr & p\\_inf\\_upr\\\\\n",
       "  & <dbl> & <dbl> & <dbl>\\\\\n",
       "\\hline\n",
       "\t2180 & 0.5585054 & 0.4529868 & 0.6589923\\\\\n",
       "\\end{tabular}\n"
      ],
      "text/markdown": [
       "\n",
       "A data.frame: 1 × 3\n",
       "\n",
       "| <!--/--> | p_inf &lt;dbl&gt; | p_inf_lwr &lt;dbl&gt; | p_inf_upr &lt;dbl&gt; |\n",
       "|---|---|---|---|\n",
       "| 2180 | 0.5585054 | 0.4529868 | 0.6589923 |\n",
       "\n"
      ],
      "text/plain": [
       "     p_inf     p_inf_lwr p_inf_upr\n",
       "2180 0.5585054 0.4529868 0.6589923"
      ]
     },
     "metadata": {},
     "output_type": "display_data"
    }
   ],
   "source": [
    "#The examples/numbers given in the manuscript\n",
    "# Abstract summer vs winter \n",
    "rsv.doy_age.preddata[rsv.doy_age.preddata$age_days == 365 & rsv.doy_age.preddata$Birth_doy == 1,c('p_inf', 'p_inf_lwr', 'p_inf_upr')]\n",
    "rsv.doy_age.preddata[rsv.doy_age.preddata$age_days == 365 & rsv.doy_age.preddata$Birth_doy == 182,c('p_inf', 'p_inf_lwr', 'p_inf_upr')]"
   ]
  },
  {
   "cell_type": "code",
   "execution_count": 28,
   "id": "7cb6f4d8-eb2a-4984-8abe-0193cae33364",
   "metadata": {},
   "outputs": [
    {
     "data": {
      "text/html": [
       "<table class=\"dataframe\">\n",
       "<caption>A data.frame: 1 × 3</caption>\n",
       "<thead>\n",
       "\t<tr><th></th><th scope=col>p_inf</th><th scope=col>p_inf_lwr</th><th scope=col>p_inf_upr</th></tr>\n",
       "\t<tr><th></th><th scope=col>&lt;dbl&gt;</th><th scope=col>&lt;dbl&gt;</th><th scope=col>&lt;dbl&gt;</th></tr>\n",
       "</thead>\n",
       "<tbody>\n",
       "\t<tr><th scope=row>329</th><td>0.6338039</td><td>0.5076194</td><td>0.7439615</td></tr>\n",
       "</tbody>\n",
       "</table>\n"
      ],
      "text/latex": [
       "A data.frame: 1 × 3\n",
       "\\begin{tabular}{r|lll}\n",
       "  & p\\_inf & p\\_inf\\_lwr & p\\_inf\\_upr\\\\\n",
       "  & <dbl> & <dbl> & <dbl>\\\\\n",
       "\\hline\n",
       "\t329 & 0.6338039 & 0.5076194 & 0.7439615\\\\\n",
       "\\end{tabular}\n"
      ],
      "text/markdown": [
       "\n",
       "A data.frame: 1 × 3\n",
       "\n",
       "| <!--/--> | p_inf &lt;dbl&gt; | p_inf_lwr &lt;dbl&gt; | p_inf_upr &lt;dbl&gt; |\n",
       "|---|---|---|---|\n",
       "| 329 | 0.6338039 | 0.5076194 | 0.7439615 |\n",
       "\n"
      ],
      "text/plain": [
       "    p_inf     p_inf_lwr p_inf_upr\n",
       "329 0.6338039 0.5076194 0.7439615"
      ]
     },
     "metadata": {},
     "output_type": "display_data"
    },
    {
     "data": {
      "text/html": [
       "<table class=\"dataframe\">\n",
       "<caption>A data.frame: 1 × 3</caption>\n",
       "<thead>\n",
       "\t<tr><th></th><th scope=col>p_inf</th><th scope=col>p_inf_lwr</th><th scope=col>p_inf_upr</th></tr>\n",
       "\t<tr><th></th><th scope=col>&lt;dbl&gt;</th><th scope=col>&lt;dbl&gt;</th><th scope=col>&lt;dbl&gt;</th></tr>\n",
       "</thead>\n",
       "<tbody>\n",
       "\t<tr><th scope=row>986</th><td>0.5092355</td><td>0.394448</td><td>0.6230572</td></tr>\n",
       "</tbody>\n",
       "</table>\n"
      ],
      "text/latex": [
       "A data.frame: 1 × 3\n",
       "\\begin{tabular}{r|lll}\n",
       "  & p\\_inf & p\\_inf\\_lwr & p\\_inf\\_upr\\\\\n",
       "  & <dbl> & <dbl> & <dbl>\\\\\n",
       "\\hline\n",
       "\t986 & 0.5092355 & 0.394448 & 0.6230572\\\\\n",
       "\\end{tabular}\n"
      ],
      "text/markdown": [
       "\n",
       "A data.frame: 1 × 3\n",
       "\n",
       "| <!--/--> | p_inf &lt;dbl&gt; | p_inf_lwr &lt;dbl&gt; | p_inf_upr &lt;dbl&gt; |\n",
       "|---|---|---|---|\n",
       "| 986 | 0.5092355 | 0.394448 | 0.6230572 |\n",
       "\n"
      ],
      "text/plain": [
       "    p_inf     p_inf_lwr p_inf_upr\n",
       "986 0.5092355 0.394448  0.6230572"
      ]
     },
     "metadata": {},
     "output_type": "display_data"
    }
   ],
   "source": [
    "# Abstract siblings04 \n",
    "rsv.doy_age_sib.preddata[rsv.doy_age_sib.preddata$age_days == 365 & \n",
    "                           rsv.doy_age_sib.preddata$Birth_doy == 181 & \n",
    "                           rsv.doy_age_sib.preddata$Siblings04 == 'True',c('p_inf', 'p_inf_lwr', 'p_inf_upr')]\n",
    "rsv.doy_age_sib.preddata[rsv.doy_age_sib.preddata$age_days == 365 & \n",
    "                           rsv.doy_age_sib.preddata$Birth_doy == 181 & \n",
    "                           rsv.doy_age_sib.preddata$Siblings04 == 'False',c('p_inf', 'p_inf_lwr', 'p_inf_upr')]"
   ]
  },
  {
   "cell_type": "code",
   "execution_count": 29,
   "id": "eb3a83fb-b3ea-4eab-b5ad-696924dacb4d",
   "metadata": {},
   "outputs": [
    {
     "data": {
      "text/html": [
       "<table class=\"dataframe\">\n",
       "<caption>A data.frame: 1 × 10</caption>\n",
       "<thead>\n",
       "\t<tr><th></th><th scope=col>age_days</th><th scope=col>Birth_doy</th><th scope=col>Nursery</th><th scope=col>fit</th><th scope=col>se.fit</th><th scope=col>fit_lwr</th><th scope=col>fit_upr</th><th scope=col>p_inf</th><th scope=col>p_inf_lwr</th><th scope=col>p_inf_upr</th></tr>\n",
       "\t<tr><th></th><th scope=col>&lt;dbl&gt;</th><th scope=col>&lt;dbl&gt;</th><th scope=col>&lt;fct&gt;</th><th scope=col>&lt;dbl&gt;</th><th scope=col>&lt;dbl&gt;</th><th scope=col>&lt;dbl&gt;</th><th scope=col>&lt;dbl&gt;</th><th scope=col>&lt;dbl&gt;</th><th scope=col>&lt;dbl&gt;</th><th scope=col>&lt;dbl&gt;</th></tr>\n",
       "</thead>\n",
       "<tbody>\n",
       "\t<tr><th scope=row>986</th><td>365</td><td>181</td><td>True</td><td>0.8876548</td><td>0.264588</td><td>0.3690718</td><td>1.406238</td><td>0.708406</td><td>0.5912347</td><td>0.8031719</td></tr>\n",
       "</tbody>\n",
       "</table>\n"
      ],
      "text/latex": [
       "A data.frame: 1 × 10\n",
       "\\begin{tabular}{r|llllllllll}\n",
       "  & age\\_days & Birth\\_doy & Nursery & fit & se.fit & fit\\_lwr & fit\\_upr & p\\_inf & p\\_inf\\_lwr & p\\_inf\\_upr\\\\\n",
       "  & <dbl> & <dbl> & <fct> & <dbl> & <dbl> & <dbl> & <dbl> & <dbl> & <dbl> & <dbl>\\\\\n",
       "\\hline\n",
       "\t986 & 365 & 181 & True & 0.8876548 & 0.264588 & 0.3690718 & 1.406238 & 0.708406 & 0.5912347 & 0.8031719\\\\\n",
       "\\end{tabular}\n"
      ],
      "text/markdown": [
       "\n",
       "A data.frame: 1 × 10\n",
       "\n",
       "| <!--/--> | age_days &lt;dbl&gt; | Birth_doy &lt;dbl&gt; | Nursery &lt;fct&gt; | fit &lt;dbl&gt; | se.fit &lt;dbl&gt; | fit_lwr &lt;dbl&gt; | fit_upr &lt;dbl&gt; | p_inf &lt;dbl&gt; | p_inf_lwr &lt;dbl&gt; | p_inf_upr &lt;dbl&gt; |\n",
       "|---|---|---|---|---|---|---|---|---|---|---|\n",
       "| 986 | 365 | 181 | True | 0.8876548 | 0.264588 | 0.3690718 | 1.406238 | 0.708406 | 0.5912347 | 0.8031719 |\n",
       "\n"
      ],
      "text/plain": [
       "    age_days Birth_doy Nursery fit       se.fit   fit_lwr   fit_upr  p_inf   \n",
       "986 365      181       True    0.8876548 0.264588 0.3690718 1.406238 0.708406\n",
       "    p_inf_lwr p_inf_upr\n",
       "986 0.5912347 0.8031719"
      ]
     },
     "metadata": {},
     "output_type": "display_data"
    },
    {
     "data": {
      "text/html": [
       "<table class=\"dataframe\">\n",
       "<caption>A data.frame: 1 × 3</caption>\n",
       "<thead>\n",
       "\t<tr><th></th><th scope=col>p_inf</th><th scope=col>p_inf_lwr</th><th scope=col>p_inf_upr</th></tr>\n",
       "\t<tr><th></th><th scope=col>&lt;dbl&gt;</th><th scope=col>&lt;dbl&gt;</th><th scope=col>&lt;dbl&gt;</th></tr>\n",
       "</thead>\n",
       "<tbody>\n",
       "\t<tr><th scope=row>329</th><td>0.4272926</td><td>0.314542</td><td>0.5481398</td></tr>\n",
       "</tbody>\n",
       "</table>\n"
      ],
      "text/latex": [
       "A data.frame: 1 × 3\n",
       "\\begin{tabular}{r|lll}\n",
       "  & p\\_inf & p\\_inf\\_lwr & p\\_inf\\_upr\\\\\n",
       "  & <dbl> & <dbl> & <dbl>\\\\\n",
       "\\hline\n",
       "\t329 & 0.4272926 & 0.314542 & 0.5481398\\\\\n",
       "\\end{tabular}\n"
      ],
      "text/markdown": [
       "\n",
       "A data.frame: 1 × 3\n",
       "\n",
       "| <!--/--> | p_inf &lt;dbl&gt; | p_inf_lwr &lt;dbl&gt; | p_inf_upr &lt;dbl&gt; |\n",
       "|---|---|---|---|\n",
       "| 329 | 0.4272926 | 0.314542 | 0.5481398 |\n",
       "\n"
      ],
      "text/plain": [
       "    p_inf     p_inf_lwr p_inf_upr\n",
       "329 0.4272926 0.314542  0.5481398"
      ]
     },
     "metadata": {},
     "output_type": "display_data"
    }
   ],
   "source": [
    "# Abstract nursery\n",
    "rsv.doy_age_nur.preddata[rsv.doy_age_nur.preddata$age_days == 365 & \n",
    "                           rsv.doy_age_nur.preddata$Birth_doy == 181 & \n",
    "                           rsv.doy_age_nur.preddata$Nursery == 'True',]\n",
    "rsv.doy_age_nur.preddata[rsv.doy_age_nur.preddata$age_days == 365 & \n",
    "                           rsv.doy_age_nur.preddata$Birth_doy == 181 & \n",
    "                           rsv.doy_age_nur.preddata$Nursery == 'False',c('p_inf', 'p_inf_lwr', 'p_inf_upr')]"
   ]
  },
  {
   "cell_type": "markdown",
   "id": "5b7cc929-6d5c-4be1-8a63-38523d7492d8",
   "metadata": {},
   "source": [
    "** Results July vs January **"
   ]
  },
  {
   "cell_type": "code",
   "execution_count": 30,
   "id": "e70cc485-ef9b-45d0-8085-ba7cd45d5277",
   "metadata": {},
   "outputs": [
    {
     "data": {
      "text/html": [
       "<table class=\"dataframe\">\n",
       "<caption>A data.frame: 0 × 3</caption>\n",
       "<thead>\n",
       "\t<tr><th scope=col>p_inf</th><th scope=col>p_inf_lwr</th><th scope=col>p_inf_upr</th></tr>\n",
       "\t<tr><th scope=col>&lt;dbl&gt;</th><th scope=col>&lt;dbl&gt;</th><th scope=col>&lt;dbl&gt;</th></tr>\n",
       "</thead>\n",
       "<tbody>\n",
       "</tbody>\n",
       "</table>\n"
      ],
      "text/latex": [
       "A data.frame: 0 × 3\n",
       "\\begin{tabular}{lll}\n",
       " p\\_inf & p\\_inf\\_lwr & p\\_inf\\_upr\\\\\n",
       " <dbl> & <dbl> & <dbl>\\\\\n",
       "\\hline\n",
       "\\end{tabular}\n"
      ],
      "text/markdown": [
       "\n",
       "A data.frame: 0 × 3\n",
       "\n",
       "| p_inf &lt;dbl&gt; | p_inf_lwr &lt;dbl&gt; | p_inf_upr &lt;dbl&gt; |\n",
       "|---|---|---|\n",
       "\n"
      ],
      "text/plain": [
       "     p_inf p_inf_lwr p_inf_upr"
      ]
     },
     "metadata": {},
     "output_type": "display_data"
    },
    {
     "data": {
      "text/html": [
       "<table class=\"dataframe\">\n",
       "<caption>A data.frame: 0 × 3</caption>\n",
       "<thead>\n",
       "\t<tr><th scope=col>p_inf</th><th scope=col>p_inf_lwr</th><th scope=col>p_inf_upr</th></tr>\n",
       "\t<tr><th scope=col>&lt;dbl&gt;</th><th scope=col>&lt;dbl&gt;</th><th scope=col>&lt;dbl&gt;</th></tr>\n",
       "</thead>\n",
       "<tbody>\n",
       "</tbody>\n",
       "</table>\n"
      ],
      "text/latex": [
       "A data.frame: 0 × 3\n",
       "\\begin{tabular}{lll}\n",
       " p\\_inf & p\\_inf\\_lwr & p\\_inf\\_upr\\\\\n",
       " <dbl> & <dbl> & <dbl>\\\\\n",
       "\\hline\n",
       "\\end{tabular}\n"
      ],
      "text/markdown": [
       "\n",
       "A data.frame: 0 × 3\n",
       "\n",
       "| p_inf &lt;dbl&gt; | p_inf_lwr &lt;dbl&gt; | p_inf_upr &lt;dbl&gt; |\n",
       "|---|---|---|\n",
       "\n"
      ],
      "text/plain": [
       "     p_inf p_inf_lwr p_inf_upr"
      ]
     },
     "metadata": {},
     "output_type": "display_data"
    }
   ],
   "source": [
    "#half a year\n",
    "rsv.doy_age.preddata[rsv.doy_age.preddata$age_days == 182 & rsv.doy_age.preddata$Birth_doy == 15,c('p_inf', 'p_inf_lwr', 'p_inf_upr')] #jan. 15\n",
    "rsv.doy_age.preddata[rsv.doy_age.preddata$age_days == 182 & rsv.doy_age.preddata$Birth_doy == 196,c('p_inf', 'p_inf_lwr', 'p_inf_upr')]# juli 15"
   ]
  },
  {
   "cell_type": "code",
   "execution_count": 31,
   "id": "705e24a6-668c-41a6-821b-1c42fbbee05f",
   "metadata": {},
   "outputs": [
    {
     "data": {
      "text/html": [
       "<table class=\"dataframe\">\n",
       "<caption>A data.frame: 1 × 3</caption>\n",
       "<thead>\n",
       "\t<tr><th></th><th scope=col>p_inf</th><th scope=col>p_inf_lwr</th><th scope=col>p_inf_upr</th></tr>\n",
       "\t<tr><th></th><th scope=col>&lt;dbl&gt;</th><th scope=col>&lt;dbl&gt;</th><th scope=col>&lt;dbl&gt;</th></tr>\n",
       "</thead>\n",
       "<tbody>\n",
       "\t<tr><th scope=row>176</th><td>0.3335606</td><td>0.2237074</td><td>0.4650425</td></tr>\n",
       "</tbody>\n",
       "</table>\n"
      ],
      "text/latex": [
       "A data.frame: 1 × 3\n",
       "\\begin{tabular}{r|lll}\n",
       "  & p\\_inf & p\\_inf\\_lwr & p\\_inf\\_upr\\\\\n",
       "  & <dbl> & <dbl> & <dbl>\\\\\n",
       "\\hline\n",
       "\t176 & 0.3335606 & 0.2237074 & 0.4650425\\\\\n",
       "\\end{tabular}\n"
      ],
      "text/markdown": [
       "\n",
       "A data.frame: 1 × 3\n",
       "\n",
       "| <!--/--> | p_inf &lt;dbl&gt; | p_inf_lwr &lt;dbl&gt; | p_inf_upr &lt;dbl&gt; |\n",
       "|---|---|---|---|\n",
       "| 176 | 0.3335606 | 0.2237074 | 0.4650425 |\n",
       "\n"
      ],
      "text/plain": [
       "    p_inf     p_inf_lwr p_inf_upr\n",
       "176 0.3335606 0.2237074 0.4650425"
      ]
     },
     "metadata": {},
     "output_type": "display_data"
    },
    {
     "data": {
      "text/html": [
       "<table class=\"dataframe\">\n",
       "<caption>A data.frame: 1 × 3</caption>\n",
       "<thead>\n",
       "\t<tr><th></th><th scope=col>p_inf</th><th scope=col>p_inf_lwr</th><th scope=col>p_inf_upr</th></tr>\n",
       "\t<tr><th></th><th scope=col>&lt;dbl&gt;</th><th scope=col>&lt;dbl&gt;</th><th scope=col>&lt;dbl&gt;</th></tr>\n",
       "</thead>\n",
       "<tbody>\n",
       "\t<tr><th scope=row>2348</th><td>0.5486712</td><td>0.4426685</td><td>0.6504337</td></tr>\n",
       "</tbody>\n",
       "</table>\n"
      ],
      "text/latex": [
       "A data.frame: 1 × 3\n",
       "\\begin{tabular}{r|lll}\n",
       "  & p\\_inf & p\\_inf\\_lwr & p\\_inf\\_upr\\\\\n",
       "  & <dbl> & <dbl> & <dbl>\\\\\n",
       "\\hline\n",
       "\t2348 & 0.5486712 & 0.4426685 & 0.6504337\\\\\n",
       "\\end{tabular}\n"
      ],
      "text/markdown": [
       "\n",
       "A data.frame: 1 × 3\n",
       "\n",
       "| <!--/--> | p_inf &lt;dbl&gt; | p_inf_lwr &lt;dbl&gt; | p_inf_upr &lt;dbl&gt; |\n",
       "|---|---|---|---|\n",
       "| 2348 | 0.5486712 | 0.4426685 | 0.6504337 |\n",
       "\n"
      ],
      "text/plain": [
       "     p_inf     p_inf_lwr p_inf_upr\n",
       "2348 0.5486712 0.4426685 0.6504337"
      ]
     },
     "metadata": {},
     "output_type": "display_data"
    }
   ],
   "source": [
    "# one year\n",
    "rsv.doy_age.preddata[rsv.doy_age.preddata$age_days == 365 & rsv.doy_age.preddata$Birth_doy == 15,c('p_inf', 'p_inf_lwr', 'p_inf_upr')] #jan. 15\n",
    "rsv.doy_age.preddata[rsv.doy_age.preddata$age_days == 365 & rsv.doy_age.preddata$Birth_doy == 196,c('p_inf', 'p_inf_lwr', 'p_inf_upr')]# juli 15"
   ]
  },
  {
   "cell_type": "markdown",
   "id": "e9acd9fc-bf1b-4c5c-a877-8592b0276cb6",
   "metadata": {},
   "source": [
    "**Results siblings04**"
   ]
  },
  {
   "cell_type": "code",
   "execution_count": 32,
   "id": "8096c3be-89bd-41dc-a925-d3402726b66a",
   "metadata": {},
   "outputs": [
    {
     "data": {
      "text/html": [
       "<table class=\"dataframe\">\n",
       "<caption>A data.frame: 1 × 3</caption>\n",
       "<thead>\n",
       "\t<tr><th></th><th scope=col>p_inf</th><th scope=col>p_inf_lwr</th><th scope=col>p_inf_upr</th></tr>\n",
       "\t<tr><th></th><th scope=col>&lt;dbl&gt;</th><th scope=col>&lt;dbl&gt;</th><th scope=col>&lt;dbl&gt;</th></tr>\n",
       "</thead>\n",
       "<tbody>\n",
       "\t<tr><th scope=row>354</th><td>0.1950232</td><td>0.1186456</td><td>0.3036302</td></tr>\n",
       "</tbody>\n",
       "</table>\n"
      ],
      "text/latex": [
       "A data.frame: 1 × 3\n",
       "\\begin{tabular}{r|lll}\n",
       "  & p\\_inf & p\\_inf\\_lwr & p\\_inf\\_upr\\\\\n",
       "  & <dbl> & <dbl> & <dbl>\\\\\n",
       "\\hline\n",
       "\t354 & 0.1950232 & 0.1186456 & 0.3036302\\\\\n",
       "\\end{tabular}\n"
      ],
      "text/markdown": [
       "\n",
       "A data.frame: 1 × 3\n",
       "\n",
       "| <!--/--> | p_inf &lt;dbl&gt; | p_inf_lwr &lt;dbl&gt; | p_inf_upr &lt;dbl&gt; |\n",
       "|---|---|---|---|\n",
       "| 354 | 0.1950232 | 0.1186456 | 0.3036302 |\n",
       "\n"
      ],
      "text/plain": [
       "    p_inf     p_inf_lwr p_inf_upr\n",
       "354 0.1950232 0.1186456 0.3036302"
      ]
     },
     "metadata": {},
     "output_type": "display_data"
    },
    {
     "data": {
      "text/html": [
       "<table class=\"dataframe\">\n",
       "<caption>A data.frame: 1 × 3</caption>\n",
       "<thead>\n",
       "\t<tr><th></th><th scope=col>p_inf</th><th scope=col>p_inf_lwr</th><th scope=col>p_inf_upr</th></tr>\n",
       "\t<tr><th></th><th scope=col>&lt;dbl&gt;</th><th scope=col>&lt;dbl&gt;</th><th scope=col>&lt;dbl&gt;</th></tr>\n",
       "</thead>\n",
       "<tbody>\n",
       "\t<tr><th scope=row>1011</th><td>0.1268259</td><td>0.07516871</td><td>0.2060728</td></tr>\n",
       "</tbody>\n",
       "</table>\n"
      ],
      "text/latex": [
       "A data.frame: 1 × 3\n",
       "\\begin{tabular}{r|lll}\n",
       "  & p\\_inf & p\\_inf\\_lwr & p\\_inf\\_upr\\\\\n",
       "  & <dbl> & <dbl> & <dbl>\\\\\n",
       "\\hline\n",
       "\t1011 & 0.1268259 & 0.07516871 & 0.2060728\\\\\n",
       "\\end{tabular}\n"
      ],
      "text/markdown": [
       "\n",
       "A data.frame: 1 × 3\n",
       "\n",
       "| <!--/--> | p_inf &lt;dbl&gt; | p_inf_lwr &lt;dbl&gt; | p_inf_upr &lt;dbl&gt; |\n",
       "|---|---|---|---|\n",
       "| 1011 | 0.1268259 | 0.07516871 | 0.2060728 |\n",
       "\n"
      ],
      "text/plain": [
       "     p_inf     p_inf_lwr  p_inf_upr\n",
       "1011 0.1268259 0.07516871 0.2060728"
      ]
     },
     "metadata": {},
     "output_type": "display_data"
    }
   ],
   "source": [
    "# age half a year\n",
    "rsv.doy_age_sib.preddata[rsv.doy_age_sib.preddata$age_days == 180 & \n",
    "                           rsv.doy_age_sib.preddata$Birth_doy == 196 & \n",
    "                           rsv.doy_age_sib.preddata$Siblings04 == 'True',c('p_inf', 'p_inf_lwr', 'p_inf_upr')]\n",
    "rsv.doy_age_sib.preddata[rsv.doy_age_sib.preddata$age_days == 180 & \n",
    "                           rsv.doy_age_sib.preddata$Birth_doy == 196 & \n",
    "                           rsv.doy_age_sib.preddata$Siblings04 == 'False',c('p_inf', 'p_inf_lwr', 'p_inf_upr')]"
   ]
  },
  {
   "cell_type": "code",
   "execution_count": 33,
   "id": "c8e72228-cb54-4573-8f36-78ee38602875",
   "metadata": {},
   "outputs": [
    {
     "data": {
      "text/html": [
       "<table class=\"dataframe\">\n",
       "<caption>A data.frame: 1 × 3</caption>\n",
       "<thead>\n",
       "\t<tr><th></th><th scope=col>p_inf</th><th scope=col>p_inf_lwr</th><th scope=col>p_inf_upr</th></tr>\n",
       "\t<tr><th></th><th scope=col>&lt;dbl&gt;</th><th scope=col>&lt;dbl&gt;</th><th scope=col>&lt;dbl&gt;</th></tr>\n",
       "</thead>\n",
       "<tbody>\n",
       "\t<tr><th scope=row>356</th><td>0.6243597</td><td>0.4969884</td><td>0.7365737</td></tr>\n",
       "</tbody>\n",
       "</table>\n"
      ],
      "text/latex": [
       "A data.frame: 1 × 3\n",
       "\\begin{tabular}{r|lll}\n",
       "  & p\\_inf & p\\_inf\\_lwr & p\\_inf\\_upr\\\\\n",
       "  & <dbl> & <dbl> & <dbl>\\\\\n",
       "\\hline\n",
       "\t356 & 0.6243597 & 0.4969884 & 0.7365737\\\\\n",
       "\\end{tabular}\n"
      ],
      "text/markdown": [
       "\n",
       "A data.frame: 1 × 3\n",
       "\n",
       "| <!--/--> | p_inf &lt;dbl&gt; | p_inf_lwr &lt;dbl&gt; | p_inf_upr &lt;dbl&gt; |\n",
       "|---|---|---|---|\n",
       "| 356 | 0.6243597 | 0.4969884 | 0.7365737 |\n",
       "\n"
      ],
      "text/plain": [
       "    p_inf     p_inf_lwr p_inf_upr\n",
       "356 0.6243597 0.4969884 0.7365737"
      ]
     },
     "metadata": {},
     "output_type": "display_data"
    },
    {
     "data": {
      "text/html": [
       "<table class=\"dataframe\">\n",
       "<caption>A data.frame: 1 × 3</caption>\n",
       "<thead>\n",
       "\t<tr><th></th><th scope=col>p_inf</th><th scope=col>p_inf_lwr</th><th scope=col>p_inf_upr</th></tr>\n",
       "\t<tr><th></th><th scope=col>&lt;dbl&gt;</th><th scope=col>&lt;dbl&gt;</th><th scope=col>&lt;dbl&gt;</th></tr>\n",
       "</thead>\n",
       "<tbody>\n",
       "\t<tr><th scope=row>1013</th><td>0.4991175</td><td>0.3845249</td><td>0.6138028</td></tr>\n",
       "</tbody>\n",
       "</table>\n"
      ],
      "text/latex": [
       "A data.frame: 1 × 3\n",
       "\\begin{tabular}{r|lll}\n",
       "  & p\\_inf & p\\_inf\\_lwr & p\\_inf\\_upr\\\\\n",
       "  & <dbl> & <dbl> & <dbl>\\\\\n",
       "\\hline\n",
       "\t1013 & 0.4991175 & 0.3845249 & 0.6138028\\\\\n",
       "\\end{tabular}\n"
      ],
      "text/markdown": [
       "\n",
       "A data.frame: 1 × 3\n",
       "\n",
       "| <!--/--> | p_inf &lt;dbl&gt; | p_inf_lwr &lt;dbl&gt; | p_inf_upr &lt;dbl&gt; |\n",
       "|---|---|---|---|\n",
       "| 1013 | 0.4991175 | 0.3845249 | 0.6138028 |\n",
       "\n"
      ],
      "text/plain": [
       "     p_inf     p_inf_lwr p_inf_upr\n",
       "1013 0.4991175 0.3845249 0.6138028"
      ]
     },
     "metadata": {},
     "output_type": "display_data"
    }
   ],
   "source": [
    "# age 1 year\n",
    "rsv.doy_age_sib.preddata[rsv.doy_age_sib.preddata$age_days == 365 & \n",
    "                           rsv.doy_age_sib.preddata$Birth_doy == 196 & \n",
    "                           rsv.doy_age_sib.preddata$Siblings04 == 'True',c('p_inf', 'p_inf_lwr', 'p_inf_upr')]\n",
    "rsv.doy_age_sib.preddata[rsv.doy_age_sib.preddata$age_days == 365 & \n",
    "                           rsv.doy_age_sib.preddata$Birth_doy == 196 & \n",
    "                           rsv.doy_age_sib.preddata$Siblings04 == 'False',c('p_inf', 'p_inf_lwr', 'p_inf_upr')]"
   ]
  },
  {
   "cell_type": "markdown",
   "id": "0b36a09e-56e1-4832-be85-d9596b3cacfb",
   "metadata": {},
   "source": [
    "**Results day-care**"
   ]
  },
  {
   "cell_type": "code",
   "execution_count": 34,
   "id": "53ce9b73-66a4-4196-b7ec-508e8f412301",
   "metadata": {},
   "outputs": [
    {
     "data": {
      "text/html": [
       "<table class=\"dataframe\">\n",
       "<caption>A data.frame: 1 × 3</caption>\n",
       "<thead>\n",
       "\t<tr><th></th><th scope=col>p_inf</th><th scope=col>p_inf_lwr</th><th scope=col>p_inf_upr</th></tr>\n",
       "\t<tr><th></th><th scope=col>&lt;dbl&gt;</th><th scope=col>&lt;dbl&gt;</th><th scope=col>&lt;dbl&gt;</th></tr>\n",
       "</thead>\n",
       "<tbody>\n",
       "\t<tr><th scope=row>1011</th><td>0.2647381</td><td>0.164735</td><td>0.3966219</td></tr>\n",
       "</tbody>\n",
       "</table>\n"
      ],
      "text/latex": [
       "A data.frame: 1 × 3\n",
       "\\begin{tabular}{r|lll}\n",
       "  & p\\_inf & p\\_inf\\_lwr & p\\_inf\\_upr\\\\\n",
       "  & <dbl> & <dbl> & <dbl>\\\\\n",
       "\\hline\n",
       "\t1011 & 0.2647381 & 0.164735 & 0.3966219\\\\\n",
       "\\end{tabular}\n"
      ],
      "text/markdown": [
       "\n",
       "A data.frame: 1 × 3\n",
       "\n",
       "| <!--/--> | p_inf &lt;dbl&gt; | p_inf_lwr &lt;dbl&gt; | p_inf_upr &lt;dbl&gt; |\n",
       "|---|---|---|---|\n",
       "| 1011 | 0.2647381 | 0.164735 | 0.3966219 |\n",
       "\n"
      ],
      "text/plain": [
       "     p_inf     p_inf_lwr p_inf_upr\n",
       "1011 0.2647381 0.164735  0.3966219"
      ]
     },
     "metadata": {},
     "output_type": "display_data"
    },
    {
     "data": {
      "text/html": [
       "<table class=\"dataframe\">\n",
       "<caption>A data.frame: 1 × 3</caption>\n",
       "<thead>\n",
       "\t<tr><th></th><th scope=col>p_inf</th><th scope=col>p_inf_lwr</th><th scope=col>p_inf_upr</th></tr>\n",
       "\t<tr><th></th><th scope=col>&lt;dbl&gt;</th><th scope=col>&lt;dbl&gt;</th><th scope=col>&lt;dbl&gt;</th></tr>\n",
       "</thead>\n",
       "<tbody>\n",
       "\t<tr><th scope=row>354</th><td>0.09956686</td><td>0.05711593</td><td>0.1679491</td></tr>\n",
       "</tbody>\n",
       "</table>\n"
      ],
      "text/latex": [
       "A data.frame: 1 × 3\n",
       "\\begin{tabular}{r|lll}\n",
       "  & p\\_inf & p\\_inf\\_lwr & p\\_inf\\_upr\\\\\n",
       "  & <dbl> & <dbl> & <dbl>\\\\\n",
       "\\hline\n",
       "\t354 & 0.09956686 & 0.05711593 & 0.1679491\\\\\n",
       "\\end{tabular}\n"
      ],
      "text/markdown": [
       "\n",
       "A data.frame: 1 × 3\n",
       "\n",
       "| <!--/--> | p_inf &lt;dbl&gt; | p_inf_lwr &lt;dbl&gt; | p_inf_upr &lt;dbl&gt; |\n",
       "|---|---|---|---|\n",
       "| 354 | 0.09956686 | 0.05711593 | 0.1679491 |\n",
       "\n"
      ],
      "text/plain": [
       "    p_inf      p_inf_lwr  p_inf_upr\n",
       "354 0.09956686 0.05711593 0.1679491"
      ]
     },
     "metadata": {},
     "output_type": "display_data"
    }
   ],
   "source": [
    "# age half a year\n",
    "rsv.doy_age_nur.preddata[rsv.doy_age_nur.preddata$age_days == 180 & \n",
    "                           rsv.doy_age_nur.preddata$Birth_doy == 196 & \n",
    "                           rsv.doy_age_nur.preddata$Nursery == 'True',c('p_inf', 'p_inf_lwr', 'p_inf_upr')]\n",
    "rsv.doy_age_nur.preddata[rsv.doy_age_nur.preddata$age_days == 180 & \n",
    "                           rsv.doy_age_nur.preddata$Birth_doy == 196 & \n",
    "                           rsv.doy_age_nur.preddata$Nursery == 'False',c('p_inf', 'p_inf_lwr', 'p_inf_upr')]"
   ]
  },
  {
   "cell_type": "code",
   "execution_count": 35,
   "id": "1a68e6df-5d1b-465c-9dda-d8f1cb97aed3",
   "metadata": {},
   "outputs": [
    {
     "data": {
      "text/html": [
       "<table class=\"dataframe\">\n",
       "<caption>A data.frame: 1 × 3</caption>\n",
       "<thead>\n",
       "\t<tr><th></th><th scope=col>p_inf</th><th scope=col>p_inf_lwr</th><th scope=col>p_inf_upr</th></tr>\n",
       "\t<tr><th></th><th scope=col>&lt;dbl&gt;</th><th scope=col>&lt;dbl&gt;</th><th scope=col>&lt;dbl&gt;</th></tr>\n",
       "</thead>\n",
       "<tbody>\n",
       "\t<tr><th scope=row>1013</th><td>0.698531</td><td>0.5799662</td><td>0.7954329</td></tr>\n",
       "</tbody>\n",
       "</table>\n"
      ],
      "text/latex": [
       "A data.frame: 1 × 3\n",
       "\\begin{tabular}{r|lll}\n",
       "  & p\\_inf & p\\_inf\\_lwr & p\\_inf\\_upr\\\\\n",
       "  & <dbl> & <dbl> & <dbl>\\\\\n",
       "\\hline\n",
       "\t1013 & 0.698531 & 0.5799662 & 0.7954329\\\\\n",
       "\\end{tabular}\n"
      ],
      "text/markdown": [
       "\n",
       "A data.frame: 1 × 3\n",
       "\n",
       "| <!--/--> | p_inf &lt;dbl&gt; | p_inf_lwr &lt;dbl&gt; | p_inf_upr &lt;dbl&gt; |\n",
       "|---|---|---|---|\n",
       "| 1013 | 0.698531 | 0.5799662 | 0.7954329 |\n",
       "\n"
      ],
      "text/plain": [
       "     p_inf    p_inf_lwr p_inf_upr\n",
       "1013 0.698531 0.5799662 0.7954329"
      ]
     },
     "metadata": {},
     "output_type": "display_data"
    },
    {
     "data": {
      "text/html": [
       "<table class=\"dataframe\">\n",
       "<caption>A data.frame: 1 × 3</caption>\n",
       "<thead>\n",
       "\t<tr><th></th><th scope=col>p_inf</th><th scope=col>p_inf_lwr</th><th scope=col>p_inf_upr</th></tr>\n",
       "\t<tr><th></th><th scope=col>&lt;dbl&gt;</th><th scope=col>&lt;dbl&gt;</th><th scope=col>&lt;dbl&gt;</th></tr>\n",
       "</thead>\n",
       "<tbody>\n",
       "\t<tr><th scope=row>356</th><td>0.4157492</td><td>0.3037976</td><td>0.5371272</td></tr>\n",
       "</tbody>\n",
       "</table>\n"
      ],
      "text/latex": [
       "A data.frame: 1 × 3\n",
       "\\begin{tabular}{r|lll}\n",
       "  & p\\_inf & p\\_inf\\_lwr & p\\_inf\\_upr\\\\\n",
       "  & <dbl> & <dbl> & <dbl>\\\\\n",
       "\\hline\n",
       "\t356 & 0.4157492 & 0.3037976 & 0.5371272\\\\\n",
       "\\end{tabular}\n"
      ],
      "text/markdown": [
       "\n",
       "A data.frame: 1 × 3\n",
       "\n",
       "| <!--/--> | p_inf &lt;dbl&gt; | p_inf_lwr &lt;dbl&gt; | p_inf_upr &lt;dbl&gt; |\n",
       "|---|---|---|---|\n",
       "| 356 | 0.4157492 | 0.3037976 | 0.5371272 |\n",
       "\n"
      ],
      "text/plain": [
       "    p_inf     p_inf_lwr p_inf_upr\n",
       "356 0.4157492 0.3037976 0.5371272"
      ]
     },
     "metadata": {},
     "output_type": "display_data"
    }
   ],
   "source": [
    "# age a year\n",
    "rsv.doy_age_nur.preddata[rsv.doy_age_nur.preddata$age_days == 365 & \n",
    "                           rsv.doy_age_nur.preddata$Birth_doy == 196 & \n",
    "                           rsv.doy_age_nur.preddata$Nursery == 'True',c('p_inf', 'p_inf_lwr', 'p_inf_upr')]\n",
    "rsv.doy_age_nur.preddata[rsv.doy_age_nur.preddata$age_days == 365 & \n",
    "                           rsv.doy_age_nur.preddata$Birth_doy == 196 & \n",
    "                           rsv.doy_age_nur.preddata$Nursery == 'False',c('p_inf', 'p_inf_lwr', 'p_inf_upr')]"
   ]
  },
  {
   "cell_type": "markdown",
   "id": "2a3d9fbe-598a-4770-9143-2f0c1339c2e9",
   "metadata": {},
   "source": [
    "**HR vs LR**"
   ]
  },
  {
   "cell_type": "code",
   "execution_count": 36,
   "id": "612dd02b-3f2f-4514-b3b3-057439c2b297",
   "metadata": {},
   "outputs": [
    {
     "data": {
      "text/html": [
       "<table class=\"dataframe\">\n",
       "<caption>A data.frame: 0 × 3</caption>\n",
       "<thead>\n",
       "\t<tr><th scope=col>p_inf</th><th scope=col>p_inf_lwr</th><th scope=col>p_inf_upr</th></tr>\n",
       "\t<tr><th scope=col>&lt;dbl&gt;</th><th scope=col>&lt;dbl&gt;</th><th scope=col>&lt;dbl&gt;</th></tr>\n",
       "</thead>\n",
       "<tbody>\n",
       "</tbody>\n",
       "</table>\n"
      ],
      "text/latex": [
       "A data.frame: 0 × 3\n",
       "\\begin{tabular}{lll}\n",
       " p\\_inf & p\\_inf\\_lwr & p\\_inf\\_upr\\\\\n",
       " <dbl> & <dbl> & <dbl>\\\\\n",
       "\\hline\n",
       "\\end{tabular}\n"
      ],
      "text/markdown": [
       "\n",
       "A data.frame: 0 × 3\n",
       "\n",
       "| p_inf &lt;dbl&gt; | p_inf_lwr &lt;dbl&gt; | p_inf_upr &lt;dbl&gt; |\n",
       "|---|---|---|\n",
       "\n"
      ],
      "text/plain": [
       "     p_inf p_inf_lwr p_inf_upr"
      ]
     },
     "metadata": {},
     "output_type": "display_data"
    },
    {
     "data": {
      "text/html": [
       "<table class=\"dataframe\">\n",
       "<caption>A data.frame: 0 × 3</caption>\n",
       "<thead>\n",
       "\t<tr><th scope=col>p_inf</th><th scope=col>p_inf_lwr</th><th scope=col>p_inf_upr</th></tr>\n",
       "\t<tr><th scope=col>&lt;dbl&gt;</th><th scope=col>&lt;dbl&gt;</th><th scope=col>&lt;dbl&gt;</th></tr>\n",
       "</thead>\n",
       "<tbody>\n",
       "</tbody>\n",
       "</table>\n"
      ],
      "text/latex": [
       "A data.frame: 0 × 3\n",
       "\\begin{tabular}{lll}\n",
       " p\\_inf & p\\_inf\\_lwr & p\\_inf\\_upr\\\\\n",
       " <dbl> & <dbl> & <dbl>\\\\\n",
       "\\hline\n",
       "\\end{tabular}\n"
      ],
      "text/markdown": [
       "\n",
       "A data.frame: 0 × 3\n",
       "\n",
       "| p_inf &lt;dbl&gt; | p_inf_lwr &lt;dbl&gt; | p_inf_upr &lt;dbl&gt; |\n",
       "|---|---|---|\n",
       "\n"
      ],
      "text/plain": [
       "     p_inf p_inf_lwr p_inf_upr"
      ]
     },
     "metadata": {},
     "output_type": "display_data"
    }
   ],
   "source": [
    "# at half a year\n",
    "rsv.doy_age_sib_nur.preddata[rsv.doy_age_sib_nur.preddata$age_days == 180 & \n",
    "                               rsv.doy_age_sib_nur.preddata$Birth_doy == 196 & \n",
    "                               rsv.doy_age_sib_nur.preddata$Siblings04 == 'True' &\n",
    "                               rsv.doy_age_sib_nur.preddata$Nursery == 'True',c('p_inf', 'p_inf_lwr', 'p_inf_upr')]\n",
    "\n",
    "rsv.doy_age_sib_nur.preddata[rsv.doy_age_sib_nur.preddata$age_days == 180 & \n",
    "                               rsv.doy_age_sib_nur.preddata$Birth_doy == 196 & \n",
    "                               rsv.doy_age_sib_nur.preddata$Siblings04 == 'False' &\n",
    "                               rsv.doy_age_sib_nur.preddata$Nursery == 'False',c('p_inf', 'p_inf_lwr', 'p_inf_upr')]"
   ]
  },
  {
   "cell_type": "code",
   "execution_count": 37,
   "id": "d15d2a7c-ac05-4fde-8038-7af0e88059c2",
   "metadata": {},
   "outputs": [
    {
     "data": {
      "text/html": [
       "<table class=\"dataframe\">\n",
       "<caption>A data.frame: 0 × 3</caption>\n",
       "<thead>\n",
       "\t<tr><th scope=col>p_inf</th><th scope=col>p_inf_lwr</th><th scope=col>p_inf_upr</th></tr>\n",
       "\t<tr><th scope=col>&lt;dbl&gt;</th><th scope=col>&lt;dbl&gt;</th><th scope=col>&lt;dbl&gt;</th></tr>\n",
       "</thead>\n",
       "<tbody>\n",
       "</tbody>\n",
       "</table>\n"
      ],
      "text/latex": [
       "A data.frame: 0 × 3\n",
       "\\begin{tabular}{lll}\n",
       " p\\_inf & p\\_inf\\_lwr & p\\_inf\\_upr\\\\\n",
       " <dbl> & <dbl> & <dbl>\\\\\n",
       "\\hline\n",
       "\\end{tabular}\n"
      ],
      "text/markdown": [
       "\n",
       "A data.frame: 0 × 3\n",
       "\n",
       "| p_inf &lt;dbl&gt; | p_inf_lwr &lt;dbl&gt; | p_inf_upr &lt;dbl&gt; |\n",
       "|---|---|---|\n",
       "\n"
      ],
      "text/plain": [
       "     p_inf p_inf_lwr p_inf_upr"
      ]
     },
     "metadata": {},
     "output_type": "display_data"
    },
    {
     "data": {
      "text/html": [
       "<table class=\"dataframe\">\n",
       "<caption>A data.frame: 0 × 3</caption>\n",
       "<thead>\n",
       "\t<tr><th scope=col>p_inf</th><th scope=col>p_inf_lwr</th><th scope=col>p_inf_upr</th></tr>\n",
       "\t<tr><th scope=col>&lt;dbl&gt;</th><th scope=col>&lt;dbl&gt;</th><th scope=col>&lt;dbl&gt;</th></tr>\n",
       "</thead>\n",
       "<tbody>\n",
       "</tbody>\n",
       "</table>\n"
      ],
      "text/latex": [
       "A data.frame: 0 × 3\n",
       "\\begin{tabular}{lll}\n",
       " p\\_inf & p\\_inf\\_lwr & p\\_inf\\_upr\\\\\n",
       " <dbl> & <dbl> & <dbl>\\\\\n",
       "\\hline\n",
       "\\end{tabular}\n"
      ],
      "text/markdown": [
       "\n",
       "A data.frame: 0 × 3\n",
       "\n",
       "| p_inf &lt;dbl&gt; | p_inf_lwr &lt;dbl&gt; | p_inf_upr &lt;dbl&gt; |\n",
       "|---|---|---|\n",
       "\n"
      ],
      "text/plain": [
       "     p_inf p_inf_lwr p_inf_upr"
      ]
     },
     "metadata": {},
     "output_type": "display_data"
    }
   ],
   "source": [
    "# at a year\n",
    "rsv.doy_age_sib_nur.preddata[rsv.doy_age_sib_nur.preddata$age_days == 365 & \n",
    "                               rsv.doy_age_sib_nur.preddata$Birth_doy == 196 & \n",
    "                               rsv.doy_age_sib_nur.preddata$Siblings04 == 'True' &\n",
    "                               rsv.doy_age_sib_nur.preddata$Nursery == 'True',c('p_inf', 'p_inf_lwr', 'p_inf_upr')]\n",
    "\n",
    "rsv.doy_age_sib_nur.preddata[rsv.doy_age_sib_nur.preddata$age_days == 365 & \n",
    "                               rsv.doy_age_sib_nur.preddata$Birth_doy == 196 & \n",
    "                               rsv.doy_age_sib_nur.preddata$Siblings04 == 'False' &\n",
    "                               rsv.doy_age_sib_nur.preddata$Nursery == 'False',c('p_inf', 'p_inf_lwr', 'p_inf_upr')]"
   ]
  },
  {
   "cell_type": "markdown",
   "id": "ea0c63af-e8a5-4a3b-a7e1-431075d54a82",
   "metadata": {},
   "source": [
    "**Discussion**"
   ]
  },
  {
   "cell_type": "code",
   "execution_count": 39,
   "id": "213eafd7-c13a-469f-818c-1ebafe22f58b",
   "metadata": {},
   "outputs": [
    {
     "data": {
      "text/html": [
       "<table class=\"dataframe\">\n",
       "<caption>A data.frame: 1 × 3</caption>\n",
       "<thead>\n",
       "\t<tr><th></th><th scope=col>p_inf</th><th scope=col>p_inf_lwr</th><th scope=col>p_inf_upr</th></tr>\n",
       "\t<tr><th></th><th scope=col>&lt;dbl&gt;</th><th scope=col>&lt;dbl&gt;</th><th scope=col>&lt;dbl&gt;</th></tr>\n",
       "</thead>\n",
       "<tbody>\n",
       "\t<tr><th scope=row>2341</th><td>0.03021948</td><td>0.01101448</td><td>0.08019524</td></tr>\n",
       "</tbody>\n",
       "</table>\n"
      ],
      "text/latex": [
       "A data.frame: 1 × 3\n",
       "\\begin{tabular}{r|lll}\n",
       "  & p\\_inf & p\\_inf\\_lwr & p\\_inf\\_upr\\\\\n",
       "  & <dbl> & <dbl> & <dbl>\\\\\n",
       "\\hline\n",
       "\t2341 & 0.03021948 & 0.01101448 & 0.08019524\\\\\n",
       "\\end{tabular}\n"
      ],
      "text/markdown": [
       "\n",
       "A data.frame: 1 × 3\n",
       "\n",
       "| <!--/--> | p_inf &lt;dbl&gt; | p_inf_lwr &lt;dbl&gt; | p_inf_upr &lt;dbl&gt; |\n",
       "|---|---|---|---|\n",
       "| 2341 | 0.03021948 | 0.01101448 | 0.08019524 |\n",
       "\n"
      ],
      "text/plain": [
       "     p_inf      p_inf_lwr  p_inf_upr \n",
       "2341 0.03021948 0.01101448 0.08019524"
      ]
     },
     "metadata": {},
     "output_type": "display_data"
    }
   ],
   "source": [
    "#month one summer\n",
    "rsv.doy_age.preddata[rsv.doy_age.preddata$age_days == 30 & rsv.doy_age.preddata$Birth_doy == 196, c('p_inf', 'p_inf_lwr', 'p_inf_upr')]"
   ]
  },
  {
   "cell_type": "code",
   "execution_count": 40,
   "id": "5404a9f5-9eca-4f58-a6ce-e07be4e6069e",
   "metadata": {},
   "outputs": [
    {
     "data": {
      "text/html": [
       "<table class=\"dataframe\">\n",
       "<caption>A data.frame: 0 × 3</caption>\n",
       "<thead>\n",
       "\t<tr><th scope=col>p_inf</th><th scope=col>p_inf_lwr</th><th scope=col>p_inf_upr</th></tr>\n",
       "\t<tr><th scope=col>&lt;dbl&gt;</th><th scope=col>&lt;dbl&gt;</th><th scope=col>&lt;dbl&gt;</th></tr>\n",
       "</thead>\n",
       "<tbody>\n",
       "</tbody>\n",
       "</table>\n"
      ],
      "text/latex": [
       "A data.frame: 0 × 3\n",
       "\\begin{tabular}{lll}\n",
       " p\\_inf & p\\_inf\\_lwr & p\\_inf\\_upr\\\\\n",
       " <dbl> & <dbl> & <dbl>\\\\\n",
       "\\hline\n",
       "\\end{tabular}\n"
      ],
      "text/markdown": [
       "\n",
       "A data.frame: 0 × 3\n",
       "\n",
       "| p_inf &lt;dbl&gt; | p_inf_lwr &lt;dbl&gt; | p_inf_upr &lt;dbl&gt; |\n",
       "|---|---|---|\n",
       "\n"
      ],
      "text/plain": [
       "     p_inf p_inf_lwr p_inf_upr"
      ]
     },
     "metadata": {},
     "output_type": "display_data"
    }
   ],
   "source": [
    "#month 24 summer\n",
    "rsv.doy_age.preddata[rsv.doy_age.preddata$age_days == 395 & rsv.doy_age.preddata$Birth_doy == 196, c('p_inf', 'p_inf_lwr', 'p_inf_upr')]\n"
   ]
  },
  {
   "cell_type": "code",
   "execution_count": 41,
   "id": "6a229a37-ffae-4b11-b42a-f5ac0be7f581",
   "metadata": {},
   "outputs": [
    {
     "data": {
      "text/html": [
       "<table class=\"dataframe\">\n",
       "<caption>A data.frame: 1 × 3</caption>\n",
       "<thead>\n",
       "\t<tr><th></th><th scope=col>p_inf</th><th scope=col>p_inf_lwr</th><th scope=col>p_inf_upr</th></tr>\n",
       "\t<tr><th></th><th scope=col>&lt;dbl&gt;</th><th scope=col>&lt;dbl&gt;</th><th scope=col>&lt;dbl&gt;</th></tr>\n",
       "</thead>\n",
       "<tbody>\n",
       "\t<tr><th scope=row>169</th><td>0.01266695</td><td>0.004619221</td><td>0.03425316</td></tr>\n",
       "</tbody>\n",
       "</table>\n"
      ],
      "text/latex": [
       "A data.frame: 1 × 3\n",
       "\\begin{tabular}{r|lll}\n",
       "  & p\\_inf & p\\_inf\\_lwr & p\\_inf\\_upr\\\\\n",
       "  & <dbl> & <dbl> & <dbl>\\\\\n",
       "\\hline\n",
       "\t169 & 0.01266695 & 0.004619221 & 0.03425316\\\\\n",
       "\\end{tabular}\n"
      ],
      "text/markdown": [
       "\n",
       "A data.frame: 1 × 3\n",
       "\n",
       "| <!--/--> | p_inf &lt;dbl&gt; | p_inf_lwr &lt;dbl&gt; | p_inf_upr &lt;dbl&gt; |\n",
       "|---|---|---|---|\n",
       "| 169 | 0.01266695 | 0.004619221 | 0.03425316 |\n",
       "\n"
      ],
      "text/plain": [
       "    p_inf      p_inf_lwr   p_inf_upr \n",
       "169 0.01266695 0.004619221 0.03425316"
      ]
     },
     "metadata": {},
     "output_type": "display_data"
    }
   ],
   "source": [
    "# month one winter\n",
    "rsv.doy_age.preddata[rsv.doy_age.preddata$age_days == 30 & rsv.doy_age.preddata$Birth_doy == 15, c('p_inf', 'p_inf_lwr', 'p_inf_upr')]"
   ]
  },
  {
   "cell_type": "code",
   "execution_count": 42,
   "id": "bca0de65-2c4e-4b92-b10f-a5e938e84aee",
   "metadata": {},
   "outputs": [
    {
     "data": {
      "text/html": [
       "<table class=\"dataframe\">\n",
       "<caption>A data.frame: 0 × 3</caption>\n",
       "<thead>\n",
       "\t<tr><th scope=col>p_inf</th><th scope=col>p_inf_lwr</th><th scope=col>p_inf_upr</th></tr>\n",
       "\t<tr><th scope=col>&lt;dbl&gt;</th><th scope=col>&lt;dbl&gt;</th><th scope=col>&lt;dbl&gt;</th></tr>\n",
       "</thead>\n",
       "<tbody>\n",
       "</tbody>\n",
       "</table>\n"
      ],
      "text/latex": [
       "A data.frame: 0 × 3\n",
       "\\begin{tabular}{lll}\n",
       " p\\_inf & p\\_inf\\_lwr & p\\_inf\\_upr\\\\\n",
       " <dbl> & <dbl> & <dbl>\\\\\n",
       "\\hline\n",
       "\\end{tabular}\n"
      ],
      "text/markdown": [
       "\n",
       "A data.frame: 0 × 3\n",
       "\n",
       "| p_inf &lt;dbl&gt; | p_inf_lwr &lt;dbl&gt; | p_inf_upr &lt;dbl&gt; |\n",
       "|---|---|---|\n",
       "\n"
      ],
      "text/plain": [
       "     p_inf p_inf_lwr p_inf_upr"
      ]
     },
     "metadata": {},
     "output_type": "display_data"
    }
   ],
   "source": [
    "# month 24 winter\n",
    "rsv.doy_age.preddata[rsv.doy_age.preddata$age_days == 395 & rsv.doy_age.preddata$Birth_doy == 15, c('p_inf', 'p_inf_lwr', 'p_inf_upr')]"
   ]
  },
  {
   "cell_type": "markdown",
   "id": "607c22b2-b02e-4178-a758-fe5f081f9481",
   "metadata": {},
   "source": [
    "# Model fit measurements #"
   ]
  },
  {
   "cell_type": "code",
   "execution_count": 44,
   "id": "c1faa3a9-ddca-496c-9a8c-b16bd1cc5cfe",
   "metadata": {},
   "outputs": [],
   "source": [
    "AIC.data <- data.frame(\n",
    "  model = c('model1', 'model2', 'model3', 'model4'),\n",
    "  score = c(model1$aic, model2$aic, model3$aic, model4$aic)\n",
    ")\n",
    "BIC.data <- data.frame(\n",
    "  model = c('model1', 'model2','model3', 'model4'),\n",
    "  score = c(BIC(model1), BIC(model2), BIC(model3),BIC(model4))\n",
    ")\n",
    "\n",
    "r.sq.data <- data.frame(\n",
    "  model = c('model1', 'model2', 'model3', 'model4'),\n",
    "  score = c(summary(model1)$r.sq, summary(model2)$r.sq, summary(model3)$r.sq, summary(model4)$r.sq)\n",
    ")\n",
    "AIC.data$method <- \"AIC\"\n",
    "BIC.data$method <- \"BIC\"\n",
    "r.sq.data$method <- \"r.sq\"\n",
    "model_scores <- rbind(AIC.data, BIC.data, r.sq.data)"
   ]
  },
  {
   "cell_type": "code",
   "execution_count": 45,
   "id": "ec0521da-dee2-4343-9d1f-13b47068e0a5",
   "metadata": {},
   "outputs": [
    {
     "data": {
      "text/html": [
       "<table class=\"dataframe\">\n",
       "<caption>A data.frame: 12 × 3</caption>\n",
       "<thead>\n",
       "\t<tr><th scope=col>model</th><th scope=col>score</th><th scope=col>method</th></tr>\n",
       "\t<tr><th scope=col>&lt;chr&gt;</th><th scope=col>&lt;dbl&gt;</th><th scope=col>&lt;chr&gt;</th></tr>\n",
       "</thead>\n",
       "<tbody>\n",
       "\t<tr><td>model1</td><td>452.3729773</td><td>AIC </td></tr>\n",
       "\t<tr><td>model2</td><td>449.8993555</td><td>AIC </td></tr>\n",
       "\t<tr><td>model3</td><td>431.7232565</td><td>AIC </td></tr>\n",
       "\t<tr><td>model4</td><td>427.8775055</td><td>AIC </td></tr>\n",
       "\t<tr><td>model1</td><td>484.6261305</td><td>BIC </td></tr>\n",
       "\t<tr><td>model2</td><td>486.4854144</td><td>BIC </td></tr>\n",
       "\t<tr><td>model3</td><td>467.8288191</td><td>BIC </td></tr>\n",
       "\t<tr><td>model4</td><td>468.5569981</td><td>BIC </td></tr>\n",
       "\t<tr><td>model1</td><td>  0.5375029</td><td>r.sq</td></tr>\n",
       "\t<tr><td>model2</td><td>  0.5390750</td><td>r.sq</td></tr>\n",
       "\t<tr><td>model3</td><td>  0.5675570</td><td>r.sq</td></tr>\n",
       "\t<tr><td>model4</td><td>  0.5708030</td><td>r.sq</td></tr>\n",
       "</tbody>\n",
       "</table>\n"
      ],
      "text/latex": [
       "A data.frame: 12 × 3\n",
       "\\begin{tabular}{lll}\n",
       " model & score & method\\\\\n",
       " <chr> & <dbl> & <chr>\\\\\n",
       "\\hline\n",
       "\t model1 & 452.3729773 & AIC \\\\\n",
       "\t model2 & 449.8993555 & AIC \\\\\n",
       "\t model3 & 431.7232565 & AIC \\\\\n",
       "\t model4 & 427.8775055 & AIC \\\\\n",
       "\t model1 & 484.6261305 & BIC \\\\\n",
       "\t model2 & 486.4854144 & BIC \\\\\n",
       "\t model3 & 467.8288191 & BIC \\\\\n",
       "\t model4 & 468.5569981 & BIC \\\\\n",
       "\t model1 &   0.5375029 & r.sq\\\\\n",
       "\t model2 &   0.5390750 & r.sq\\\\\n",
       "\t model3 &   0.5675570 & r.sq\\\\\n",
       "\t model4 &   0.5708030 & r.sq\\\\\n",
       "\\end{tabular}\n"
      ],
      "text/markdown": [
       "\n",
       "A data.frame: 12 × 3\n",
       "\n",
       "| model &lt;chr&gt; | score &lt;dbl&gt; | method &lt;chr&gt; |\n",
       "|---|---|---|\n",
       "| model1 | 452.3729773 | AIC  |\n",
       "| model2 | 449.8993555 | AIC  |\n",
       "| model3 | 431.7232565 | AIC  |\n",
       "| model4 | 427.8775055 | AIC  |\n",
       "| model1 | 484.6261305 | BIC  |\n",
       "| model2 | 486.4854144 | BIC  |\n",
       "| model3 | 467.8288191 | BIC  |\n",
       "| model4 | 468.5569981 | BIC  |\n",
       "| model1 |   0.5375029 | r.sq |\n",
       "| model2 |   0.5390750 | r.sq |\n",
       "| model3 |   0.5675570 | r.sq |\n",
       "| model4 |   0.5708030 | r.sq |\n",
       "\n"
      ],
      "text/plain": [
       "   model  score       method\n",
       "1  model1 452.3729773 AIC   \n",
       "2  model2 449.8993555 AIC   \n",
       "3  model3 431.7232565 AIC   \n",
       "4  model4 427.8775055 AIC   \n",
       "5  model1 484.6261305 BIC   \n",
       "6  model2 486.4854144 BIC   \n",
       "7  model3 467.8288191 BIC   \n",
       "8  model4 468.5569981 BIC   \n",
       "9  model1   0.5375029 r.sq  \n",
       "10 model2   0.5390750 r.sq  \n",
       "11 model3   0.5675570 r.sq  \n",
       "12 model4   0.5708030 r.sq  "
      ]
     },
     "metadata": {},
     "output_type": "display_data"
    }
   ],
   "source": [
    "model_scores"
   ]
  }
 ],
 "metadata": {
  "kernelspec": {
   "display_name": "R",
   "language": "R",
   "name": "ir"
  },
  "language_info": {
   "codemirror_mode": "r",
   "file_extension": ".r",
   "mimetype": "text/x-r-source",
   "name": "R",
   "pygments_lexer": "r",
   "version": "4.1.3"
  }
 },
 "nbformat": 4,
 "nbformat_minor": 5
}
