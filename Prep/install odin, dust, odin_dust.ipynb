{
 "cells": [
  {
   "cell_type": "code",
   "execution_count": 1,
   "id": "e089092c-b828-400d-b994-87207894a00a",
   "metadata": {},
   "outputs": [
    {
     "name": "stderr",
     "output_type": "stream",
     "text": [
      "also installing the dependencies 'cinterpolate', 'deSolve', 'ring'\n",
      "\n",
      "\n"
     ]
    },
    {
     "name": "stdout",
     "output_type": "stream",
     "text": [
      "\n",
      "  There is a binary version available but the source version is later:\n",
      "     binary source needs_compilation\n",
      "odin  1.2.4  1.3.6             FALSE\n",
      "\n",
      "package 'cinterpolate' successfully unpacked and MD5 sums checked\n",
      "package 'deSolve' successfully unpacked and MD5 sums checked\n",
      "package 'ring' successfully unpacked and MD5 sums checked\n",
      "\n",
      "The downloaded binary packages are in\n",
      "\tC:\\Users\\julia\\AppData\\Local\\Temp\\RtmpwB0aH3\\downloaded_packages\n"
     ]
    },
    {
     "name": "stderr",
     "output_type": "stream",
     "text": [
      "installing the source package 'odin'\n",
      "\n",
      "\n"
     ]
    }
   ],
   "source": [
    "drat:::add(\"mrc-ide\")\n",
    "install.packages(\"odin\")"
   ]
  },
  {
   "cell_type": "code",
   "execution_count": 3,
   "id": "085cfc86-573f-415f-b560-d000ae35bce0",
   "metadata": {},
   "outputs": [
    {
     "name": "stderr",
     "output_type": "stream",
     "text": [
      "Warning message:\n",
      "\"dependency 'mode' is not available\"\n",
      "also installing the dependency 'decor'\n",
      "\n",
      "\n"
     ]
    },
    {
     "name": "stdout",
     "output_type": "stream",
     "text": [
      "package 'decor' successfully unpacked and MD5 sums checked\n",
      "\n",
      "The downloaded binary packages are in\n",
      "\tC:\\Users\\julia\\AppData\\Local\\Temp\\RtmpwB0aH3\\downloaded_packages\n"
     ]
    },
    {
     "name": "stderr",
     "output_type": "stream",
     "text": [
      "installing the source package 'odin.dust'\n",
      "\n",
      "\n",
      "Warning message in install.packages(\"odin.dust\"):\n",
      "\"installation of package 'odin.dust' had non-zero exit status\"\n"
     ]
    }
   ],
   "source": [
    "drat:::add(\"mrc-ide\")\n",
    "install.packages(\"odin.dust\")"
   ]
  },
  {
   "cell_type": "code",
   "execution_count": 2,
   "id": "ae4a9854-4233-4b0a-91ae-0cfef02001fe",
   "metadata": {},
   "outputs": [
    {
     "name": "stdout",
     "output_type": "stream",
     "text": [
      "package 'dust' successfully unpacked and MD5 sums checked\n",
      "\n",
      "The downloaded binary packages are in\n",
      "\tC:\\Users\\julia\\AppData\\Local\\Temp\\RtmpwB0aH3\\downloaded_packages\n"
     ]
    }
   ],
   "source": [
    "drat:::add(\"ncov-ic\")\n",
    "install.packages(\"dust\")"
   ]
  },
  {
   "cell_type": "code",
   "execution_count": 4,
   "id": "545eb40a-d815-449e-a4f9-02bf7b8ad04d",
   "metadata": {},
   "outputs": [
    {
     "name": "stdout",
     "output_type": "stream",
     "text": [
      "package 'remotes' successfully unpacked and MD5 sums checked\n",
      "\n",
      "The downloaded binary packages are in\n",
      "\tC:\\Users\\julia\\AppData\\Local\\Temp\\RtmpwB0aH3\\downloaded_packages\n"
     ]
    },
    {
     "name": "stderr",
     "output_type": "stream",
     "text": [
      "Downloading GitHub repo mrc-ide/odin.dust@HEAD\n",
      "\n"
     ]
    },
    {
     "name": "stdout",
     "output_type": "stream",
     "text": [
      "dust     (0.11.27 -> 7c9e15679...) [GitHub]\n",
      "mode     (NA      -> 98cbcc860...) [GitHub]\n",
      "odin     (1.3.6   -> f36738bb1...) [GitHub]\n",
      "ps       (1.7.0   -> 1.7.1       ) [CRAN]\n",
      "processx (3.5.3   -> 3.6.1       ) [CRAN]\n"
     ]
    },
    {
     "name": "stderr",
     "output_type": "stream",
     "text": [
      "Downloading GitHub repo mrc-ide/mode@HEAD\n",
      "\n"
     ]
    },
    {
     "name": "stdout",
     "output_type": "stream",
     "text": [
      "dust     (0.11.27 -> 7c9e15679...) [GitHub]\n",
      "processx (3.5.3   -> 3.6.1       ) [CRAN]\n"
     ]
    },
    {
     "name": "stderr",
     "output_type": "stream",
     "text": [
      "Installing 1 packages: processx\n",
      "\n"
     ]
    },
    {
     "name": "stdout",
     "output_type": "stream",
     "text": [
      "package 'processx' successfully unpacked and MD5 sums checked\n",
      "\n",
      "The downloaded binary packages are in\n",
      "\tC:\\Users\\julia\\AppData\\Local\\Temp\\RtmpwB0aH3\\downloaded_packages\n"
     ]
    },
    {
     "name": "stderr",
     "output_type": "stream",
     "text": [
      "Downloading GitHub repo mrc-ide/dust@HEAD\n",
      "\n"
     ]
    },
    {
     "name": "stdout",
     "output_type": "stream",
     "text": [
      "ps (1.7.0 -> 1.7.1) [CRAN]\n"
     ]
    },
    {
     "name": "stderr",
     "output_type": "stream",
     "text": [
      "Installing 1 packages: ps\n",
      "\n"
     ]
    },
    {
     "name": "stdout",
     "output_type": "stream",
     "text": [
      "package 'ps' successfully unpacked and MD5 sums checked\n"
     ]
    },
    {
     "name": "stderr",
     "output_type": "stream",
     "text": [
      "Warning message:\n",
      "\"cannot remove prior installation of package 'ps'\"\n",
      "Warning message in file.copy(savedcopy, lib, recursive = TRUE):\n",
      "\"problem copying C:\\Users\\julia\\anaconda3\\Lib\\R\\library\\00LOCK\\ps\\libs\\x64\\ps.dll to C:\\Users\\julia\\anaconda3\\Lib\\R\\library\\ps\\libs\\x64\\ps.dll: Permission denied\"\n",
      "Warning message:\n",
      "\"restored 'ps'\"\n"
     ]
    },
    {
     "name": "stdout",
     "output_type": "stream",
     "text": [
      "\n",
      "The downloaded binary packages are in\n",
      "\tC:\\Users\\julia\\AppData\\Local\\Temp\\RtmpwB0aH3\\downloaded_packages\n",
      "\u001b[32mv\u001b[39m  \u001b[90mchecking for file 'C:\\Users\\julia\\AppData\\Local\\Temp\\RtmpwB0aH3\\remotes542018a1297\\mrc-ide-dust-7c9e156/DESCRIPTION'\u001b[39m\u001b[36m\u001b[39m\n",
      "\u001b[90m-\u001b[39m\u001b[90m  \u001b[39m\u001b[90mpreparing 'dust':\u001b[39m\u001b[36m\u001b[36m (871ms)\u001b[36m\u001b[39m\n",
      "\u001b[32mv\u001b[39m  \u001b[90mchecking DESCRIPTION meta-information\u001b[39m\u001b[36m\u001b[39m\n",
      "\u001b[90m-\u001b[39m\u001b[90m  \u001b[39m\u001b[90mcleaning src\u001b[39m\u001b[36m\u001b[39m\n",
      "\u001b[90m-\u001b[39m\u001b[90m  \u001b[39m\u001b[90mchecking for LF line-endings in source and make files and shell scripts\u001b[39m\u001b[36m\u001b[39m\n",
      "\u001b[90m-\u001b[39m\u001b[90m  \u001b[39m\u001b[90mchecking for empty or unneeded directories\u001b[39m\u001b[36m\u001b[39m\n",
      "\u001b[90m-\u001b[39m\u001b[90m  \u001b[39m\u001b[90mbuilding 'dust_0.11.27.tar.gz'\u001b[39m\u001b[36m\u001b[39m\n",
      "   Warning: file 'dust/inst/random/openmp/configure' did not have execute permissions: corrected\n",
      "   \n",
      "\u001b[32mv\u001b[39m  \u001b[90mchecking for file 'C:\\Users\\julia\\AppData\\Local\\Temp\\RtmpwB0aH3\\remotes5420729577fd\\mrc-ide-mode-98cbcc8/DESCRIPTION'\u001b[39m\u001b[36m\u001b[39m\n",
      "\u001b[90m-\u001b[39m\u001b[90m  \u001b[39m\u001b[90mpreparing 'mode':\u001b[39m\u001b[36m\u001b[39m\n",
      "\u001b[32mv\u001b[39m  \u001b[90mchecking DESCRIPTION meta-information\u001b[39m\u001b[36m\u001b[39m\n",
      "\u001b[90m-\u001b[39m\u001b[90m  \u001b[39m\u001b[90mchecking for LF line-endings in source and make files and shell scripts\u001b[39m\u001b[36m\u001b[39m\n",
      "\u001b[90m-\u001b[39m\u001b[90m  \u001b[39m\u001b[90mchecking for empty or unneeded directories\u001b[39m\u001b[36m\u001b[39m\n",
      "\u001b[90m-\u001b[39m\u001b[90m  \u001b[39m\u001b[90mbuilding 'mode_0.1.3.tar.gz'\u001b[39m\u001b[36m\u001b[39m\n",
      "   \n",
      "\r"
     ]
    },
    {
     "name": "stderr",
     "output_type": "stream",
     "text": [
      "Installing 2 packages: ps, processx\n",
      "\n"
     ]
    },
    {
     "name": "stdout",
     "output_type": "stream",
     "text": [
      "package 'ps' successfully unpacked and MD5 sums checked\n"
     ]
    },
    {
     "name": "stderr",
     "output_type": "stream",
     "text": [
      "Warning message:\n",
      "\"cannot remove prior installation of package 'ps'\"\n",
      "Warning message in file.copy(savedcopy, lib, recursive = TRUE):\n",
      "\"problem copying C:\\Users\\julia\\anaconda3\\Lib\\R\\library\\00LOCK\\ps\\libs\\x64\\ps.dll to C:\\Users\\julia\\anaconda3\\Lib\\R\\library\\ps\\libs\\x64\\ps.dll: Permission denied\"\n",
      "Warning message:\n",
      "\"restored 'ps'\"\n"
     ]
    },
    {
     "name": "stdout",
     "output_type": "stream",
     "text": [
      "package 'processx' successfully unpacked and MD5 sums checked\n"
     ]
    },
    {
     "name": "stderr",
     "output_type": "stream",
     "text": [
      "Warning message:\n",
      "\"cannot remove prior installation of package 'processx'\"\n",
      "Warning message in file.copy(savedcopy, lib, recursive = TRUE):\n",
      "\"problem copying C:\\Users\\julia\\anaconda3\\Lib\\R\\library\\00LOCK\\processx\\libs\\x64\\processx.dll to C:\\Users\\julia\\anaconda3\\Lib\\R\\library\\processx\\libs\\x64\\processx.dll: Permission denied\"\n",
      "Warning message:\n",
      "\"restored 'processx'\"\n"
     ]
    },
    {
     "name": "stdout",
     "output_type": "stream",
     "text": [
      "\n",
      "The downloaded binary packages are in\n",
      "\tC:\\Users\\julia\\AppData\\Local\\Temp\\RtmpwB0aH3\\downloaded_packages\n"
     ]
    },
    {
     "name": "stderr",
     "output_type": "stream",
     "text": [
      "Skipping install of 'dust' from a github remote, the SHA1 (7c9e1567) has not changed since last install.\n",
      "  Use `force = TRUE` to force installation\n",
      "\n",
      "Skipping install of 'mode' from a github remote, the SHA1 (98cbcc86) has not changed since last install.\n",
      "  Use `force = TRUE` to force installation\n",
      "\n",
      "Downloading GitHub repo mrc-ide/odin@HEAD\n",
      "\n"
     ]
    },
    {
     "name": "stdout",
     "output_type": "stream",
     "text": [
      "\n",
      "\u001b[32mv\u001b[39m  \u001b[90mchecking for file 'C:\\Users\\julia\\AppData\\Local\\Temp\\RtmpwB0aH3\\remotes54203fd07530\\mrc-ide-odin-f36738b/DESCRIPTION'\u001b[39m\u001b[36m\u001b[39m\n",
      "\u001b[90m-\u001b[39m\u001b[90m  \u001b[39m\u001b[90mpreparing 'odin':\u001b[39m\u001b[36m\u001b[36m (766ms)\u001b[36m\u001b[39m\n",
      "\u001b[32mv\u001b[39m  \u001b[90mchecking DESCRIPTION meta-information\u001b[39m\u001b[36m\u001b[39m\n",
      "\u001b[90m-\u001b[39m\u001b[90m  \u001b[39m\u001b[90mchecking for LF line-endings in source and make files and shell scripts\u001b[39m\u001b[36m\u001b[39m\n",
      "\u001b[90m-\u001b[39m\u001b[90m  \u001b[39m\u001b[90mchecking for empty or unneeded directories\u001b[39m\u001b[36m\u001b[39m\n",
      "\u001b[90m-\u001b[39m\u001b[90m  \u001b[39m\u001b[90mbuilding 'odin_1.3.6.tar.gz'\u001b[39m\u001b[36m\u001b[39m\n",
      "   \n",
      "\u001b[32mv\u001b[39m  \u001b[90mchecking for file 'C:\\Users\\julia\\AppData\\Local\\Temp\\RtmpwB0aH3\\remotes542037710e7\\mrc-ide-odin.dust-1c58031/DESCRIPTION'\u001b[39m\u001b[36m\u001b[39m\n",
      "\u001b[90m-\u001b[39m\u001b[90m  \u001b[39m\u001b[90mpreparing 'odin.dust':\u001b[39m\u001b[36m\u001b[39m\n",
      "\u001b[32mv\u001b[39m  \u001b[90mchecking DESCRIPTION meta-information\u001b[39m\u001b[36m\u001b[39m\n",
      "\u001b[90m-\u001b[39m\u001b[90m  \u001b[39m\u001b[90mchecking for LF line-endings in source and make files and shell scripts\u001b[39m\u001b[36m\u001b[39m\n",
      "\u001b[90m-\u001b[39m\u001b[90m  \u001b[39m\u001b[90mchecking for empty or unneeded directories\u001b[39m\u001b[36m\u001b[39m\n",
      "   Omitted 'LazyData' from DESCRIPTION\n",
      "\u001b[90m-\u001b[39m\u001b[90m  \u001b[39m\u001b[90mbuilding 'odin.dust_0.2.19.tar.gz'\u001b[39m\u001b[36m\u001b[39m\n",
      "   \n",
      "\r"
     ]
    }
   ],
   "source": [
    "install.packages(\"remotes\")\n",
    "remotes::install_github(\"mrc-ide/odin.dust\")"
   ]
  }
 ],
 "metadata": {
  "kernelspec": {
   "display_name": "R",
   "language": "R",
   "name": "ir"
  },
  "language_info": {
   "codemirror_mode": "r",
   "file_extension": ".r",
   "mimetype": "text/x-r-source",
   "name": "R",
   "pygments_lexer": "r",
   "version": "4.1.3"
  }
 },
 "nbformat": 4,
 "nbformat_minor": 5
}
