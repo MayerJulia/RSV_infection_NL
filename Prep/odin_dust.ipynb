{
 "cells": [
  {
   "cell_type": "code",
   "execution_count": 1,
   "id": "bc2a278b-f268-44e9-94f1-d63beb10f056",
   "metadata": {},
   "outputs": [
    {
     "data": {
      "text/html": [
       "'C:/Users/julia'"
      ],
      "text/latex": [
       "'C:/Users/julia'"
      ],
      "text/markdown": [
       "'C:/Users/julia'"
      ],
      "text/plain": [
       "[1] \"C:/Users/julia\""
      ]
     },
     "metadata": {},
     "output_type": "display_data"
    }
   ],
   "source": [
    "getwd()"
   ]
  },
  {
   "cell_type": "code",
   "execution_count": 6,
   "id": "d3cb8943-bdb4-4a37-98c8-b80ead80258b",
   "metadata": {},
   "outputs": [],
   "source": [
    "library(odin.dust)"
   ]
  },
  {
   "cell_type": "code",
   "execution_count": 7,
   "id": "4a0ed9e4-1519-43b1-9313-8fc59c7ab9bd",
   "metadata": {},
   "outputs": [
    {
     "name": "stderr",
     "output_type": "stream",
     "text": [
      "Loading required namespace: pkgbuild\n",
      "\n",
      "\u001b[36mi\u001b[39m 18 functions decorated with [[cpp11::register]]\n",
      "\n",
      "\u001b[32mv\u001b[39m generated file \u001b[34m\u001b[34mcpp11.R\u001b[34m\u001b[39m\n",
      "\n",
      "\u001b[32mv\u001b[39m generated file \u001b[34m\u001b[34mcpp11.cpp\u001b[34m\u001b[39m\n",
      "\n",
      "Re-compiling sir77a075f7\n",
      "\n"
     ]
    },
    {
     "name": "stdout",
     "output_type": "stream",
     "text": [
      "\u001b[90m-\u001b[39m\u001b[90m  \u001b[39m\u001b[90minstalling *source* package 'sir77a075f7' ...\u001b[39m\u001b[36m\u001b[39m\n",
      "   ** using staged installation\n",
      "   ** libs\n",
      "   g++  -std=gnu++11 -I\"C:/Users/julia/anaconda3/lib/R/include\" -DNDEBUG  -I'C:/Users/julia/anaconda3/Lib/R/library/cpp11/include'     -IC:/Users/julia/anaconda3/Lib/R/library/dust/include -DHAVE_INLINE -fopenmp   -O2 -Wall  -march=x86-64 -mtune=generic  -Wall -pedantic -c cpp11.cpp -o cpp11.o\n",
      "   g++  -std=gnu++11 -I\"C:/Users/julia/anaconda3/lib/R/include\" -DNDEBUG  -I'C:/Users/julia/anaconda3/Lib/R/library/cpp11/include'     -IC:/Users/julia/anaconda3/Lib/R/library/dust/include -DHAVE_INLINE -fopenmp   -O2 -Wall  -march=x86-64 -mtune=generic  -Wall -pedantic -c dust.cpp -o dust.o\n",
      "   dust.cpp: In function 'cpp11::sexp dust::dust_info(const dust::pars_type<T>&) [with T = sir]':\n",
      "   dust.cpp:298:28: warning: variable 'internal' set but not used [-Wunused-but-set-variable]\n",
      "     298 |   const sir::internal_type internal = pars.internal;\n",
      "         |                            ^~~~~~~~\n",
      "   g++ -shared -s -o sir77a075f7.dll tmp.def cpp11.o dust.o -fopenmp -LC:/Users/julia/anaconda3/lib/R/bin/x64 -lR\n",
      "   installing to C:/Users/julia/AppData/Local/Temp/RtmpARAWUW/devtools_install_484c3e497cdd/00LOCK-file484c10eb7e11/00new/sir77a075f7/libs/x64\n",
      "\u001b[90m-\u001b[39m\u001b[90m  \u001b[39m\u001b[90mDONE (sir77a075f7)\u001b[39m\u001b[36m\u001b[39m\n",
      "\r"
     ]
    },
    {
     "name": "stderr",
     "output_type": "stream",
     "text": [
      "\u001b[36mi\u001b[39m Loading \u001b[34m\u001b[34msir77a075f7\u001b[34m\u001b[39m\n",
      "\n"
     ]
    }
   ],
   "source": [
    "gen_sir <- odin.dust::odin_dust(\"sir.R\")"
   ]
  },
  {
   "cell_type": "code",
   "execution_count": 8,
   "id": "10a83ced-15b6-495d-a48b-696c30f95ec4",
   "metadata": {},
   "outputs": [],
   "source": [
    "sir_model <- gen_sir$new(pars = list(dt = 1,\n",
    "                                     S_ini = 1000,\n",
    "                                     I_ini = 10,\n",
    "                                     beta = 0.2,\n",
    "                                     gamma = 0.1),\n",
    "                         step = 1,\n",
    "                         n_particles = 10L,\n",
    "                         n_threads = 4L,\n",
    "                         seed = 1L)"
   ]
  },
  {
   "cell_type": "markdown",
   "id": "9e806e3b-749f-4a04-8420-29da802626d2",
   "metadata": {},
   "source": [
    "The initial state is ten particles wide, four states deep (t, S, I, R):"
   ]
  },
  {
   "cell_type": "code",
   "execution_count": 9,
   "id": "c499a7ae-19e0-42dc-8761-8f526a53700a",
   "metadata": {},
   "outputs": [
    {
     "data": {
      "text/html": [
       "<table class=\"dataframe\">\n",
       "<caption>A matrix: 4 × 10 of type dbl</caption>\n",
       "<tbody>\n",
       "\t<tr><td>   0</td><td>   0</td><td>   0</td><td>   0</td><td>   0</td><td>   0</td><td>   0</td><td>   0</td><td>   0</td><td>   0</td></tr>\n",
       "\t<tr><td>1000</td><td>1000</td><td>1000</td><td>1000</td><td>1000</td><td>1000</td><td>1000</td><td>1000</td><td>1000</td><td>1000</td></tr>\n",
       "\t<tr><td>  10</td><td>  10</td><td>  10</td><td>  10</td><td>  10</td><td>  10</td><td>  10</td><td>  10</td><td>  10</td><td>  10</td></tr>\n",
       "\t<tr><td>   0</td><td>   0</td><td>   0</td><td>   0</td><td>   0</td><td>   0</td><td>   0</td><td>   0</td><td>   0</td><td>   0</td></tr>\n",
       "</tbody>\n",
       "</table>\n"
      ],
      "text/latex": [
       "A matrix: 4 × 10 of type dbl\n",
       "\\begin{tabular}{llllllllll}\n",
       "\t    0 &    0 &    0 &    0 &    0 &    0 &    0 &    0 &    0 &    0\\\\\n",
       "\t 1000 & 1000 & 1000 & 1000 & 1000 & 1000 & 1000 & 1000 & 1000 & 1000\\\\\n",
       "\t   10 &   10 &   10 &   10 &   10 &   10 &   10 &   10 &   10 &   10\\\\\n",
       "\t    0 &    0 &    0 &    0 &    0 &    0 &    0 &    0 &    0 &    0\\\\\n",
       "\\end{tabular}\n"
      ],
      "text/markdown": [
       "\n",
       "A matrix: 4 × 10 of type dbl\n",
       "\n",
       "|    0 |    0 |    0 |    0 |    0 |    0 |    0 |    0 |    0 |    0 |\n",
       "| 1000 | 1000 | 1000 | 1000 | 1000 | 1000 | 1000 | 1000 | 1000 | 1000 |\n",
       "|   10 |   10 |   10 |   10 |   10 |   10 |   10 |   10 |   10 |   10 |\n",
       "|    0 |    0 |    0 |    0 |    0 |    0 |    0 |    0 |    0 |    0 |\n",
       "\n"
      ],
      "text/plain": [
       "     [,1] [,2] [,3] [,4] [,5] [,6] [,7] [,8] [,9] [,10]\n",
       "[1,]    0    0    0    0    0    0    0    0    0    0 \n",
       "[2,] 1000 1000 1000 1000 1000 1000 1000 1000 1000 1000 \n",
       "[3,]   10   10   10   10   10   10   10   10   10   10 \n",
       "[4,]    0    0    0    0    0    0    0    0    0    0 "
      ]
     },
     "metadata": {},
     "output_type": "display_data"
    }
   ],
   "source": [
    "sir_model$state()"
   ]
  },
  {
   "cell_type": "markdown",
   "id": "74c01227-0dc7-45c8-bdd0-bc25693552ea",
   "metadata": {},
   "source": [
    "Run the particles (repeats) forward 10 steps of length dt, followed by another 10 steps:"
   ]
  },
  {
   "cell_type": "code",
   "execution_count": 10,
   "id": "f57d63af-06c6-4936-95fd-ca88c5298509",
   "metadata": {},
   "outputs": [
    {
     "data": {
      "text/html": [
       "<table class=\"dataframe\">\n",
       "<caption>A matrix: 4 × 10 of type dbl</caption>\n",
       "<tbody>\n",
       "\t<tr><td> 10</td><td> 10</td><td> 10</td><td> 10</td><td> 10</td><td> 10</td><td> 10</td><td> 10</td><td> 10</td><td> 10</td></tr>\n",
       "\t<tr><td>988</td><td>974</td><td>979</td><td>967</td><td>972</td><td>966</td><td>956</td><td>975</td><td>987</td><td>955</td></tr>\n",
       "\t<tr><td> 15</td><td> 27</td><td> 24</td><td> 28</td><td> 29</td><td> 29</td><td> 36</td><td> 19</td><td> 13</td><td> 42</td></tr>\n",
       "\t<tr><td>  7</td><td>  9</td><td>  7</td><td> 15</td><td>  9</td><td> 15</td><td> 18</td><td> 16</td><td> 10</td><td> 13</td></tr>\n",
       "</tbody>\n",
       "</table>\n"
      ],
      "text/latex": [
       "A matrix: 4 × 10 of type dbl\n",
       "\\begin{tabular}{llllllllll}\n",
       "\t  10 &  10 &  10 &  10 &  10 &  10 &  10 &  10 &  10 &  10\\\\\n",
       "\t 988 & 974 & 979 & 967 & 972 & 966 & 956 & 975 & 987 & 955\\\\\n",
       "\t  15 &  27 &  24 &  28 &  29 &  29 &  36 &  19 &  13 &  42\\\\\n",
       "\t   7 &   9 &   7 &  15 &   9 &  15 &  18 &  16 &  10 &  13\\\\\n",
       "\\end{tabular}\n"
      ],
      "text/markdown": [
       "\n",
       "A matrix: 4 × 10 of type dbl\n",
       "\n",
       "|  10 |  10 |  10 |  10 |  10 |  10 |  10 |  10 |  10 |  10 |\n",
       "| 988 | 974 | 979 | 967 | 972 | 966 | 956 | 975 | 987 | 955 |\n",
       "|  15 |  27 |  24 |  28 |  29 |  29 |  36 |  19 |  13 |  42 |\n",
       "|   7 |   9 |   7 |  15 |   9 |  15 |  18 |  16 |  10 |  13 |\n",
       "\n"
      ],
      "text/plain": [
       "     [,1] [,2] [,3] [,4] [,5] [,6] [,7] [,8] [,9] [,10]\n",
       "[1,]  10   10   10   10   10   10   10   10   10   10  \n",
       "[2,] 988  974  979  967  972  966  956  975  987  955  \n",
       "[3,]  15   27   24   28   29   29   36   19   13   42  \n",
       "[4,]   7    9    7   15    9   15   18   16   10   13  "
      ]
     },
     "metadata": {},
     "output_type": "display_data"
    }
   ],
   "source": [
    "sir_model$run(10)"
   ]
  },
  {
   "cell_type": "code",
   "execution_count": 11,
   "id": "51757142-31a3-49b2-8e9d-ed344ee33c9d",
   "metadata": {},
   "outputs": [
    {
     "data": {
      "text/html": [
       "<table class=\"dataframe\">\n",
       "<caption>A matrix: 4 × 10 of type dbl</caption>\n",
       "<tbody>\n",
       "\t<tr><td> 20</td><td> 20</td><td> 20</td><td> 20</td><td> 20</td><td> 20</td><td> 20</td><td> 20</td><td> 20</td><td> 20</td></tr>\n",
       "\t<tr><td>937</td><td>907</td><td>898</td><td>870</td><td>897</td><td>881</td><td>870</td><td>917</td><td>933</td><td>867</td></tr>\n",
       "\t<tr><td> 36</td><td> 54</td><td> 69</td><td> 79</td><td> 66</td><td> 74</td><td> 71</td><td> 38</td><td> 41</td><td> 71</td></tr>\n",
       "\t<tr><td> 37</td><td> 49</td><td> 43</td><td> 61</td><td> 47</td><td> 55</td><td> 69</td><td> 55</td><td> 36</td><td> 72</td></tr>\n",
       "</tbody>\n",
       "</table>\n"
      ],
      "text/latex": [
       "A matrix: 4 × 10 of type dbl\n",
       "\\begin{tabular}{llllllllll}\n",
       "\t  20 &  20 &  20 &  20 &  20 &  20 &  20 &  20 &  20 &  20\\\\\n",
       "\t 937 & 907 & 898 & 870 & 897 & 881 & 870 & 917 & 933 & 867\\\\\n",
       "\t  36 &  54 &  69 &  79 &  66 &  74 &  71 &  38 &  41 &  71\\\\\n",
       "\t  37 &  49 &  43 &  61 &  47 &  55 &  69 &  55 &  36 &  72\\\\\n",
       "\\end{tabular}\n"
      ],
      "text/markdown": [
       "\n",
       "A matrix: 4 × 10 of type dbl\n",
       "\n",
       "|  20 |  20 |  20 |  20 |  20 |  20 |  20 |  20 |  20 |  20 |\n",
       "| 937 | 907 | 898 | 870 | 897 | 881 | 870 | 917 | 933 | 867 |\n",
       "|  36 |  54 |  69 |  79 |  66 |  74 |  71 |  38 |  41 |  71 |\n",
       "|  37 |  49 |  43 |  61 |  47 |  55 |  69 |  55 |  36 |  72 |\n",
       "\n"
      ],
      "text/plain": [
       "     [,1] [,2] [,3] [,4] [,5] [,6] [,7] [,8] [,9] [,10]\n",
       "[1,]  20   20   20   20   20   20   20   20   20   20  \n",
       "[2,] 937  907  898  870  897  881  870  917  933  867  \n",
       "[3,]  36   54   69   79   66   74   71   38   41   71  \n",
       "[4,]  37   49   43   61   47   55   69   55   36   72  "
      ]
     },
     "metadata": {},
     "output_type": "display_data"
    }
   ],
   "source": [
    "sir_model$run(20)"
   ]
  },
  {
   "cell_type": "markdown",
   "id": "e64ed735-ab2d-42c2-8510-bac30a98a3c5",
   "metadata": {},
   "source": [
    "We can change the parameters, say by increasing the infection rate and the population size, by reinitalising the model with reset(). We will also use a smaller time step to calculate multiple transitions per unit time:"
   ]
  },
  {
   "cell_type": "code",
   "execution_count": 12,
   "id": "0ba67f55-4859-4b11-8384-0bca1cbd8591",
   "metadata": {},
   "outputs": [
    {
     "data": {
      "text/html": [
       "<table class=\"dataframe\">\n",
       "<caption>A matrix: 4 × 10 of type dbl</caption>\n",
       "<tbody>\n",
       "\t<tr><td>   0</td><td>   0</td><td>   0</td><td>   0</td><td>   0</td><td>   0</td><td>   0</td><td>   0</td><td>   0</td><td>   0</td></tr>\n",
       "\t<tr><td>2000</td><td>2000</td><td>2000</td><td>2000</td><td>2000</td><td>2000</td><td>2000</td><td>2000</td><td>2000</td><td>2000</td></tr>\n",
       "\t<tr><td>  10</td><td>  10</td><td>  10</td><td>  10</td><td>  10</td><td>  10</td><td>  10</td><td>  10</td><td>  10</td><td>  10</td></tr>\n",
       "\t<tr><td>   0</td><td>   0</td><td>   0</td><td>   0</td><td>   0</td><td>   0</td><td>   0</td><td>   0</td><td>   0</td><td>   0</td></tr>\n",
       "</tbody>\n",
       "</table>\n"
      ],
      "text/latex": [
       "A matrix: 4 × 10 of type dbl\n",
       "\\begin{tabular}{llllllllll}\n",
       "\t    0 &    0 &    0 &    0 &    0 &    0 &    0 &    0 &    0 &    0\\\\\n",
       "\t 2000 & 2000 & 2000 & 2000 & 2000 & 2000 & 2000 & 2000 & 2000 & 2000\\\\\n",
       "\t   10 &   10 &   10 &   10 &   10 &   10 &   10 &   10 &   10 &   10\\\\\n",
       "\t    0 &    0 &    0 &    0 &    0 &    0 &    0 &    0 &    0 &    0\\\\\n",
       "\\end{tabular}\n"
      ],
      "text/markdown": [
       "\n",
       "A matrix: 4 × 10 of type dbl\n",
       "\n",
       "|    0 |    0 |    0 |    0 |    0 |    0 |    0 |    0 |    0 |    0 |\n",
       "| 2000 | 2000 | 2000 | 2000 | 2000 | 2000 | 2000 | 2000 | 2000 | 2000 |\n",
       "|   10 |   10 |   10 |   10 |   10 |   10 |   10 |   10 |   10 |   10 |\n",
       "|    0 |    0 |    0 |    0 |    0 |    0 |    0 |    0 |    0 |    0 |\n",
       "\n"
      ],
      "text/plain": [
       "     [,1] [,2] [,3] [,4] [,5] [,6] [,7] [,8] [,9] [,10]\n",
       "[1,]    0    0    0    0    0    0    0    0    0    0 \n",
       "[2,] 2000 2000 2000 2000 2000 2000 2000 2000 2000 2000 \n",
       "[3,]   10   10   10   10   10   10   10   10   10   10 \n",
       "[4,]    0    0    0    0    0    0    0    0    0    0 "
      ]
     },
     "metadata": {},
     "output_type": "display_data"
    }
   ],
   "source": [
    "dt <- 0.25\n",
    "n_particles <- 10L\n",
    "p_new <- list(dt = dt, S_ini = 2000, I_ini = 10, beta = 0.4, gamma = 0.1)\n",
    "sir_model$update_state(pars = p_new, step = 0)\n",
    "sir_model$state()"
   ]
  },
  {
   "cell_type": "markdown",
   "id": "15e5dc3c-9e78-41bd-af4c-5d866b311b79",
   "metadata": {},
   "source": [
    "Let’s run this epidemic forward, and plot the trajectories:"
   ]
  },
  {
   "cell_type": "code",
   "execution_count": 13,
   "id": "0fe20d97-65b3-436d-ba2c-4565f2c985dd",
   "metadata": {},
   "outputs": [
    {
     "data": {
      "image/png": "[encoded data removed]",
      "text/plain": [
       "plot without title"
      ]
     },
     "metadata": {
      "image/png": {
       "height": 420,
       "width": 420
      }
     },
     "output_type": "display_data"
    }
   ],
   "source": [
    "n_steps <- 200\n",
    "x <- array(NA, dim = c(sir_model$info()$len, n_particles, n_steps))\n",
    "\n",
    "for (t in seq_len(n_steps)) {\n",
    "  x[ , , t] <- sir_model$run(t)\n",
    "}\n",
    "time <- x[1, 1, ]\n",
    "x <- x[-1, , ]\n",
    "\n",
    "par(mar = c(4.1, 5.1, 0.5, 0.5), las = 1)\n",
    "cols <- c(S = \"#8c8cd9\", I = \"#cc0044\", R = \"#999966\")\n",
    "matplot(time, t(x[1, , ]), type = \"l\",\n",
    "         xlab = \"Time\", ylab = \"Number of individuals\",\n",
    "         col = cols[[\"S\"]], lty = 1, ylim = range(x))\n",
    "matlines(time, t(x[2, , ]), col = cols[[\"I\"]], lty = 1)\n",
    "matlines(time, t(x[3, , ]), col = cols[[\"R\"]], lty = 1)\n",
    "legend(\"left\", lwd = 1, col = cols, legend = names(cols), bty = \"n\")"
   ]
  }
 ],
 "metadata": {
  "kernelspec": {
   "display_name": "R",
   "language": "R",
   "name": "ir"
  },
  "language_info": {
   "codemirror_mode": "r",
   "file_extension": ".r",
   "mimetype": "text/x-r-source",
   "name": "R",
   "pygments_lexer": "r",
   "version": "4.1.3"
  }
 },
 "nbformat": 4,
 "nbformat_minor": 5
}
