{
 "cells": [
  {
   "cell_type": "code",
   "execution_count": 2,
   "id": "a67a5fc3-1c36-4fc5-824d-215e8ceef051",
   "metadata": {},
   "outputs": [
    {
     "name": "stderr",
     "output_type": "stream",
     "text": [
      "Installing package into 'C:/Users/julia/OneDrive - London School of Hygiene and Tropical Medicine/Documents/R/win-library/4.1'\n",
      "(as 'lib' is unspecified)\n",
      "\n"
     ]
    },
    {
     "name": "stdout",
     "output_type": "stream",
     "text": [
      "package 'dust' successfully unpacked and MD5 sums checked\n",
      "\n",
      "The downloaded binary packages are in\n",
      "\tC:\\Users\\julia\\AppData\\Local\\Temp\\RtmpoblK7e\\downloaded_packages\n"
     ]
    }
   ],
   "source": [
    "# install.packages(\"drat\") # -- if you don't have drat installed\n",
    "drat:::add(\"ncov-ic\")\n",
    "install.packages(\"dust\")"
   ]
  },
  {
   "cell_type": "code",
   "execution_count": 17,
   "id": "70c80b49-2d28-4ca9-8746-8e42b2fdd669",
   "metadata": {},
   "outputs": [
    {
     "name": "stderr",
     "output_type": "stream",
     "text": [
      "Installing package into 'C:/Users/julia/OneDrive - London School of Hygiene and Tropical Medicine/Documents/R/win-library/4.1'\n",
      "(as 'lib' is unspecified)\n",
      "\n",
      "installing the source package 'mcstate'\n",
      "\n",
      "\n"
     ]
    }
   ],
   "source": [
    "install.packages(\"mcstate\")"
   ]
  },
  {
   "cell_type": "code",
   "execution_count": 41,
   "id": "5b2a36b2-d6d8-4ae9-8ef1-d47614752b1b",
   "metadata": {},
   "outputs": [
    {
     "name": "stderr",
     "output_type": "stream",
     "text": [
      "Installing package into 'C:/Users/julia/OneDrive - London School of Hygiene and Tropical Medicine/Documents/R/win-library/4.1'\n",
      "(as 'lib' is unspecified)\n",
      "\n"
     ]
    },
    {
     "name": "stdout",
     "output_type": "stream",
     "text": [
      "\n",
      "  There is a binary version available but the source version is later:\n",
      "     binary source needs_compilation\n",
      "odin  1.2.4  1.3.4             FALSE\n",
      "\n"
     ]
    },
    {
     "name": "stderr",
     "output_type": "stream",
     "text": [
      "installing the source package 'odin'\n",
      "\n",
      "\n",
      "Installing package into 'C:/Users/julia/OneDrive - London School of Hygiene and Tropical Medicine/Documents/R/win-library/4.1'\n",
      "(as 'lib' is unspecified)\n",
      "\n"
     ]
    },
    {
     "name": "stdout",
     "output_type": "stream",
     "text": [
      "package 'remotes' successfully unpacked and MD5 sums checked\n",
      "\n",
      "The downloaded binary packages are in\n",
      "\tC:\\Users\\julia\\AppData\\Local\\Temp\\RtmpoblK7e\\downloaded_packages\n"
     ]
    },
    {
     "name": "stderr",
     "output_type": "stream",
     "text": [
      "Downloading GitHub repo mrc-ide/odin.dust@HEAD\n",
      "\n"
     ]
    },
    {
     "name": "stdout",
     "output_type": "stream",
     "text": [
      "dust     (0.11.27 -> 7c9e15679...) [GitHub]\n",
      "mode     (NA      -> 24c938b09...) [GitHub]\n",
      "odin     (1.3.4   -> 905b18265...) [GitHub]\n",
      "glue     (1.6.0   -> 1.6.2       ) [CRAN]\n",
      "vctrs    (0.3.8   -> 0.4.1       ) [CRAN]\n",
      "fansi    (0.5.0   -> 1.0.3       ) [CRAN]\n",
      "ps       (1.7.0   -> 1.7.1       ) [CRAN]\n",
      "processx (3.5.3   -> 3.6.1       ) [CRAN]\n",
      "magrittr (2.0.1   -> 2.0.3       ) [CRAN]\n",
      "jsonlite (1.7.2   -> 1.8.0       ) [CRAN]\n",
      "tibble   (3.1.6   -> 3.1.7       ) [CRAN]\n"
     ]
    },
    {
     "name": "stderr",
     "output_type": "stream",
     "text": [
      "Downloading GitHub repo mrc-ide/mode@HEAD\n",
      "\n"
     ]
    },
    {
     "name": "stdout",
     "output_type": "stream",
     "text": [
      "dust     (0.11.27 -> 7c9e15679...) [GitHub]\n",
      "glue     (1.6.0   -> 1.6.2       ) [CRAN]\n",
      "processx (3.5.3   -> 3.6.1       ) [CRAN]\n"
     ]
    },
    {
     "name": "stderr",
     "output_type": "stream",
     "text": [
      "Installing 2 packages: glue, processx\n",
      "\n",
      "Installing packages into 'C:/Users/julia/OneDrive - London School of Hygiene and Tropical Medicine/Documents/R/win-library/4.1'\n",
      "(as 'lib' is unspecified)\n",
      "\n"
     ]
    },
    {
     "name": "stdout",
     "output_type": "stream",
     "text": [
      "package 'glue' successfully unpacked and MD5 sums checked\n"
     ]
    },
    {
     "name": "stderr",
     "output_type": "stream",
     "text": [
      "Warning message:\n",
      "\"cannot remove prior installation of package 'glue'\"\n",
      "Warning message in file.copy(savedcopy, lib, recursive = TRUE):\n",
      "\"problem copying C:\\Users\\julia\\OneDrive - London School of Hygiene and Tropical Medicine\\Documents\\R\\win-library\\4.1\\00LOCK\\glue\\libs\\x64\\glue.dll to C:\\Users\\julia\\OneDrive - London School of Hygiene and Tropical Medicine\\Documents\\R\\win-library\\4.1\\glue\\libs\\x64\\glue.dll: Permission denied\"\n",
      "Warning message:\n",
      "\"restored 'glue'\"\n"
     ]
    },
    {
     "name": "stdout",
     "output_type": "stream",
     "text": [
      "package 'processx' successfully unpacked and MD5 sums checked\n",
      "\n",
      "The downloaded binary packages are in\n",
      "\tC:\\Users\\julia\\AppData\\Local\\Temp\\RtmpoblK7e\\downloaded_packages\n"
     ]
    },
    {
     "name": "stderr",
     "output_type": "stream",
     "text": [
      "Downloading GitHub repo mrc-ide/dust@HEAD\n",
      "\n"
     ]
    },
    {
     "name": "stdout",
     "output_type": "stream",
     "text": [
      "glue (1.6.0 -> 1.6.2) [CRAN]\n",
      "ps   (1.7.0 -> 1.7.1) [CRAN]\n"
     ]
    },
    {
     "name": "stderr",
     "output_type": "stream",
     "text": [
      "Installing 2 packages: glue, ps\n",
      "\n",
      "Installing packages into 'C:/Users/julia/OneDrive - London School of Hygiene and Tropical Medicine/Documents/R/win-library/4.1'\n",
      "(as 'lib' is unspecified)\n",
      "\n"
     ]
    },
    {
     "name": "stdout",
     "output_type": "stream",
     "text": [
      "\n",
      "  There is a binary version available but the source version is later:\n",
      "   binary source needs_compilation\n",
      "ps  1.7.0  1.7.1              TRUE\n",
      "\n",
      "package 'glue' successfully unpacked and MD5 sums checked\n"
     ]
    },
    {
     "name": "stderr",
     "output_type": "stream",
     "text": [
      "Warning message:\n",
      "\"cannot remove prior installation of package 'glue'\"\n",
      "Warning message in file.copy(savedcopy, lib, recursive = TRUE):\n",
      "\"problem copying C:\\Users\\julia\\OneDrive - London School of Hygiene and Tropical Medicine\\Documents\\R\\win-library\\4.1\\00LOCK\\glue\\libs\\x64\\glue.dll to C:\\Users\\julia\\OneDrive - London School of Hygiene and Tropical Medicine\\Documents\\R\\win-library\\4.1\\glue\\libs\\x64\\glue.dll: Permission denied\"\n",
      "Warning message:\n",
      "\"restored 'glue'\"\n"
     ]
    },
    {
     "name": "stdout",
     "output_type": "stream",
     "text": [
      "\n",
      "The downloaded binary packages are in\n",
      "\tC:\\Users\\julia\\AppData\\Local\\Temp\\RtmpoblK7e\\downloaded_packages\n"
     ]
    },
    {
     "name": "stderr",
     "output_type": "stream",
     "text": [
      "installing the source package 'ps'\n",
      "\n",
      "\n",
      "Warning message in i.p(...):\n",
      "\"installation of package 'ps' had non-zero exit status\"\n"
     ]
    },
    {
     "name": "stdout",
     "output_type": "stream",
     "text": [
      "\u001b[32mv\u001b[39m  \u001b[90mchecking for file 'C:\\Users\\julia\\AppData\\Local\\Temp\\RtmpoblK7e\\remotes47c87e022e1a\\mrc-ide-dust-7c9e156/DESCRIPTION'\u001b[39m\u001b[36m\u001b[36m (524ms)\u001b[36m\u001b[39m\n",
      "\u001b[90m-\u001b[39m\u001b[90m  \u001b[39m\u001b[90mpreparing 'dust':\u001b[39m\u001b[36m\u001b[36m (2.4s)\u001b[36m\u001b[39m\n",
      "\u001b[32mv\u001b[39m  \u001b[90mchecking DESCRIPTION meta-information\u001b[39m\u001b[36m\u001b[39m\n",
      "\u001b[90m-\u001b[39m\u001b[90m  \u001b[39m\u001b[90mcleaning src\u001b[39m\u001b[36m\u001b[39m\n",
      "\u001b[90m-\u001b[39m\u001b[90m  \u001b[39m\u001b[90mchecking for LF line-endings in source and make files and shell scripts\u001b[39m\u001b[36m\u001b[39m\n",
      "\u001b[90m-\u001b[39m\u001b[90m  \u001b[39m\u001b[90mchecking for empty or unneeded directories\u001b[39m\u001b[36m\u001b[39m\n",
      "\u001b[90m-\u001b[39m\u001b[90m  \u001b[39m\u001b[90mbuilding 'dust_0.11.27.tar.gz'\u001b[39m\u001b[36m\u001b[39m\n",
      "   Warning: file 'dust/inst/random/openmp/configure' did not have execute permissions: corrected\n",
      "   \n",
      "\r"
     ]
    },
    {
     "name": "stderr",
     "output_type": "stream",
     "text": [
      "Installing package into 'C:/Users/julia/OneDrive - London School of Hygiene and Tropical Medicine/Documents/R/win-library/4.1'\n",
      "(as 'lib' is unspecified)\n",
      "\n",
      "Warning message in i.p(...):\n",
      "\"installation of package 'C:/Users/julia/AppData/Local/Temp/RtmpoblK7e/file47c8337fa19/dust_0.11.27.tar.gz' had non-zero exit status\"\n"
     ]
    },
    {
     "name": "stdout",
     "output_type": "stream",
     "text": [
      "\u001b[32mv\u001b[39m  \u001b[90mchecking for file 'C:\\Users\\julia\\AppData\\Local\\Temp\\RtmpoblK7e\\remotes47c85804d50\\mrc-ide-mode-24c938b/DESCRIPTION'\u001b[39m\u001b[36m\u001b[36m (407ms)\u001b[36m\u001b[39m\n",
      "\u001b[90m-\u001b[39m\u001b[90m  \u001b[39m\u001b[90mpreparing 'mode':\u001b[39m\u001b[36m\u001b[36m (363ms)\u001b[36m\u001b[39m\n",
      "\u001b[32mv\u001b[39m  \u001b[90mchecking DESCRIPTION meta-information\u001b[39m\u001b[36m\u001b[39m\n",
      "\u001b[90m-\u001b[39m\u001b[90m  \u001b[39m\u001b[90mchecking for LF line-endings in source and make files and shell scripts\u001b[39m\u001b[36m\u001b[39m\n",
      "\u001b[90m-\u001b[39m\u001b[90m  \u001b[39m\u001b[90mchecking for empty or unneeded directories\u001b[39m\u001b[36m\u001b[39m\n",
      "\u001b[90m-\u001b[39m\u001b[90m  \u001b[39m\u001b[90mbuilding 'mode_0.1.1.tar.gz'\u001b[39m\u001b[36m\u001b[39m\n",
      "   \n",
      "\r"
     ]
    },
    {
     "name": "stderr",
     "output_type": "stream",
     "text": [
      "Installing package into 'C:/Users/julia/OneDrive - London School of Hygiene and Tropical Medicine/Documents/R/win-library/4.1'\n",
      "(as 'lib' is unspecified)\n",
      "\n",
      "Installing 8 packages: glue, vctrs, fansi, ps, processx, magrittr, jsonlite, tibble\n",
      "\n",
      "Installing packages into 'C:/Users/julia/OneDrive - London School of Hygiene and Tropical Medicine/Documents/R/win-library/4.1'\n",
      "(as 'lib' is unspecified)\n",
      "\n"
     ]
    },
    {
     "name": "stdout",
     "output_type": "stream",
     "text": [
      "\n",
      "  There is a binary version available but the source version is later:\n",
      "   binary source needs_compilation\n",
      "ps  1.7.0  1.7.1              TRUE\n",
      "\n",
      "  Binaries will be installed\n",
      "package 'glue' successfully unpacked and MD5 sums checked\n"
     ]
    },
    {
     "name": "stderr",
     "output_type": "stream",
     "text": [
      "Warning message:\n",
      "\"cannot remove prior installation of package 'glue'\"\n",
      "Warning message in file.copy(savedcopy, lib, recursive = TRUE):\n",
      "\"problem copying C:\\Users\\julia\\OneDrive - London School of Hygiene and Tropical Medicine\\Documents\\R\\win-library\\4.1\\00LOCK\\glue\\libs\\x64\\glue.dll to C:\\Users\\julia\\OneDrive - London School of Hygiene and Tropical Medicine\\Documents\\R\\win-library\\4.1\\glue\\libs\\x64\\glue.dll: Permission denied\"\n",
      "Warning message:\n",
      "\"restored 'glue'\"\n"
     ]
    },
    {
     "name": "stdout",
     "output_type": "stream",
     "text": [
      "package 'vctrs' successfully unpacked and MD5 sums checked\n"
     ]
    },
    {
     "name": "stderr",
     "output_type": "stream",
     "text": [
      "Warning message:\n",
      "\"cannot remove prior installation of package 'vctrs'\"\n",
      "Warning message in file.copy(savedcopy, lib, recursive = TRUE):\n",
      "\"problem copying C:\\Users\\julia\\OneDrive - London School of Hygiene and Tropical Medicine\\Documents\\R\\win-library\\4.1\\00LOCK\\vctrs\\libs\\x64\\vctrs.dll to C:\\Users\\julia\\OneDrive - London School of Hygiene and Tropical Medicine\\Documents\\R\\win-library\\4.1\\vctrs\\libs\\x64\\vctrs.dll: Permission denied\"\n",
      "Warning message:\n",
      "\"restored 'vctrs'\"\n"
     ]
    },
    {
     "name": "stdout",
     "output_type": "stream",
     "text": [
      "package 'fansi' successfully unpacked and MD5 sums checked\n"
     ]
    },
    {
     "name": "stderr",
     "output_type": "stream",
     "text": [
      "Warning message:\n",
      "\"cannot remove prior installation of package 'fansi'\"\n",
      "Warning message in file.copy(savedcopy, lib, recursive = TRUE):\n",
      "\"problem copying C:\\Users\\julia\\OneDrive - London School of Hygiene and Tropical Medicine\\Documents\\R\\win-library\\4.1\\00LOCK\\fansi\\libs\\x64\\fansi.dll to C:\\Users\\julia\\OneDrive - London School of Hygiene and Tropical Medicine\\Documents\\R\\win-library\\4.1\\fansi\\libs\\x64\\fansi.dll: Permission denied\"\n",
      "Warning message:\n",
      "\"restored 'fansi'\"\n"
     ]
    },
    {
     "name": "stdout",
     "output_type": "stream",
     "text": [
      "package 'ps' successfully unpacked and MD5 sums checked\n"
     ]
    },
    {
     "name": "stderr",
     "output_type": "stream",
     "text": [
      "Warning message:\n",
      "\"cannot remove prior installation of package 'ps'\"\n",
      "Warning message in file.copy(savedcopy, lib, recursive = TRUE):\n",
      "\"problem copying C:\\Users\\julia\\OneDrive - London School of Hygiene and Tropical Medicine\\Documents\\R\\win-library\\4.1\\00LOCK\\ps\\libs\\x64\\ps.dll to C:\\Users\\julia\\OneDrive - London School of Hygiene and Tropical Medicine\\Documents\\R\\win-library\\4.1\\ps\\libs\\x64\\ps.dll: Permission denied\"\n",
      "Warning message:\n",
      "\"restored 'ps'\"\n"
     ]
    },
    {
     "name": "stdout",
     "output_type": "stream",
     "text": [
      "package 'processx' successfully unpacked and MD5 sums checked\n"
     ]
    },
    {
     "name": "stderr",
     "output_type": "stream",
     "text": [
      "Warning message:\n",
      "\"cannot remove prior installation of package 'processx'\"\n",
      "Warning message in file.copy(savedcopy, lib, recursive = TRUE):\n",
      "\"problem copying C:\\Users\\julia\\OneDrive - London School of Hygiene and Tropical Medicine\\Documents\\R\\win-library\\4.1\\00LOCK\\processx\\libs\\x64\\processx.dll to C:\\Users\\julia\\OneDrive - London School of Hygiene and Tropical Medicine\\Documents\\R\\win-library\\4.1\\processx\\libs\\x64\\processx.dll: Permission denied\"\n",
      "Warning message:\n",
      "\"restored 'processx'\"\n"
     ]
    },
    {
     "name": "stdout",
     "output_type": "stream",
     "text": [
      "package 'magrittr' successfully unpacked and MD5 sums checked\n"
     ]
    },
    {
     "name": "stderr",
     "output_type": "stream",
     "text": [
      "Warning message:\n",
      "\"cannot remove prior installation of package 'magrittr'\"\n",
      "Warning message in file.copy(savedcopy, lib, recursive = TRUE):\n",
      "\"problem copying C:\\Users\\julia\\OneDrive - London School of Hygiene and Tropical Medicine\\Documents\\R\\win-library\\4.1\\00LOCK\\magrittr\\libs\\x64\\magrittr.dll to C:\\Users\\julia\\OneDrive - London School of Hygiene and Tropical Medicine\\Documents\\R\\win-library\\4.1\\magrittr\\libs\\x64\\magrittr.dll: Permission denied\"\n",
      "Warning message:\n",
      "\"restored 'magrittr'\"\n"
     ]
    },
    {
     "name": "stdout",
     "output_type": "stream",
     "text": [
      "package 'jsonlite' successfully unpacked and MD5 sums checked\n"
     ]
    },
    {
     "name": "stderr",
     "output_type": "stream",
     "text": [
      "Warning message:\n",
      "\"cannot remove prior installation of package 'jsonlite'\"\n",
      "Warning message in file.copy(savedcopy, lib, recursive = TRUE):\n",
      "\"problem copying C:\\Users\\julia\\OneDrive - London School of Hygiene and Tropical Medicine\\Documents\\R\\win-library\\4.1\\00LOCK\\jsonlite\\libs\\x64\\jsonlite.dll to C:\\Users\\julia\\OneDrive - London School of Hygiene and Tropical Medicine\\Documents\\R\\win-library\\4.1\\jsonlite\\libs\\x64\\jsonlite.dll: Permission denied\"\n",
      "Warning message:\n",
      "\"restored 'jsonlite'\"\n"
     ]
    },
    {
     "name": "stdout",
     "output_type": "stream",
     "text": [
      "package 'tibble' successfully unpacked and MD5 sums checked\n"
     ]
    },
    {
     "name": "stderr",
     "output_type": "stream",
     "text": [
      "Warning message:\n",
      "\"cannot remove prior installation of package 'tibble'\"\n",
      "Warning message in file.copy(savedcopy, lib, recursive = TRUE):\n",
      "\"problem copying C:\\Users\\julia\\OneDrive - London School of Hygiene and Tropical Medicine\\Documents\\R\\win-library\\4.1\\00LOCK\\tibble\\libs\\x64\\tibble.dll to C:\\Users\\julia\\OneDrive - London School of Hygiene and Tropical Medicine\\Documents\\R\\win-library\\4.1\\tibble\\libs\\x64\\tibble.dll: Permission denied\"\n",
      "Warning message:\n",
      "\"restored 'tibble'\"\n"
     ]
    },
    {
     "name": "stdout",
     "output_type": "stream",
     "text": [
      "\n",
      "The downloaded binary packages are in\n",
      "\tC:\\Users\\julia\\AppData\\Local\\Temp\\RtmpoblK7e\\downloaded_packages\n"
     ]
    },
    {
     "name": "stderr",
     "output_type": "stream",
     "text": [
      "Downloading GitHub repo mrc-ide/dust@HEAD\n",
      "\n",
      "Skipping dust, it is already being installed\n",
      "\n",
      "Skipping install of 'mode' from a github remote, the SHA1 (24c938b0) has not changed since last install.\n",
      "  Use `force = TRUE` to force installation\n",
      "\n",
      "Downloading GitHub repo mrc-ide/odin@HEAD\n",
      "\n"
     ]
    },
    {
     "name": "stdout",
     "output_type": "stream",
     "text": [
      "jsonlite (1.7.2 -> 1.8.0) [CRAN]\n",
      "glue     (1.6.0 -> 1.6.2) [CRAN]\n"
     ]
    },
    {
     "name": "stderr",
     "output_type": "stream",
     "text": [
      "Installing 2 packages: jsonlite, glue\n",
      "\n",
      "Installing packages into 'C:/Users/julia/OneDrive - London School of Hygiene and Tropical Medicine/Documents/R/win-library/4.1'\n",
      "(as 'lib' is unspecified)\n",
      "\n"
     ]
    },
    {
     "name": "stdout",
     "output_type": "stream",
     "text": [
      "package 'jsonlite' successfully unpacked and MD5 sums checked\n"
     ]
    },
    {
     "name": "stderr",
     "output_type": "stream",
     "text": [
      "Warning message:\n",
      "\"cannot remove prior installation of package 'jsonlite'\"\n",
      "Warning message in file.copy(savedcopy, lib, recursive = TRUE):\n",
      "\"problem copying C:\\Users\\julia\\OneDrive - London School of Hygiene and Tropical Medicine\\Documents\\R\\win-library\\4.1\\00LOCK\\jsonlite\\libs\\x64\\jsonlite.dll to C:\\Users\\julia\\OneDrive - London School of Hygiene and Tropical Medicine\\Documents\\R\\win-library\\4.1\\jsonlite\\libs\\x64\\jsonlite.dll: Permission denied\"\n",
      "Warning message:\n",
      "\"restored 'jsonlite'\"\n"
     ]
    },
    {
     "name": "stdout",
     "output_type": "stream",
     "text": [
      "package 'glue' successfully unpacked and MD5 sums checked\n"
     ]
    },
    {
     "name": "stderr",
     "output_type": "stream",
     "text": [
      "Warning message:\n",
      "\"cannot remove prior installation of package 'glue'\"\n",
      "Warning message in file.copy(savedcopy, lib, recursive = TRUE):\n",
      "\"problem copying C:\\Users\\julia\\OneDrive - London School of Hygiene and Tropical Medicine\\Documents\\R\\win-library\\4.1\\00LOCK\\glue\\libs\\x64\\glue.dll to C:\\Users\\julia\\OneDrive - London School of Hygiene and Tropical Medicine\\Documents\\R\\win-library\\4.1\\glue\\libs\\x64\\glue.dll: Permission denied\"\n",
      "Warning message:\n",
      "\"restored 'glue'\"\n"
     ]
    },
    {
     "name": "stdout",
     "output_type": "stream",
     "text": [
      "\n",
      "The downloaded binary packages are in\n",
      "\tC:\\Users\\julia\\AppData\\Local\\Temp\\RtmpoblK7e\\downloaded_packages\n",
      "\u001b[32mv\u001b[39m  \u001b[90mchecking for file 'C:\\Users\\julia\\AppData\\Local\\Temp\\RtmpoblK7e\\remotes47c871b1787b\\mrc-ide-odin-905b182/DESCRIPTION'\u001b[39m\u001b[36m\u001b[36m (418ms)\u001b[36m\u001b[39m\n",
      "\u001b[90m-\u001b[39m\u001b[90m  \u001b[39m\u001b[90mpreparing 'odin':\u001b[39m\u001b[36m\u001b[36m (1.8s)\u001b[36m\u001b[39m\n",
      "\u001b[32mv\u001b[39m  \u001b[90mchecking DESCRIPTION meta-information\u001b[39m\u001b[36m\u001b[39m\n",
      "\u001b[90m-\u001b[39m\u001b[90m  \u001b[39m\u001b[90mchecking for LF line-endings in source and make files and shell scripts\u001b[39m\u001b[36m\u001b[39m\n",
      "\u001b[90m-\u001b[39m\u001b[90m  \u001b[39m\u001b[90mchecking for empty or unneeded directories\u001b[39m\u001b[36m\u001b[39m\n",
      "\u001b[90m-\u001b[39m\u001b[90m  \u001b[39m\u001b[90mbuilding 'odin_1.3.5.tar.gz'\u001b[39m\u001b[36m\u001b[39m\n",
      "   \n",
      "\r"
     ]
    },
    {
     "name": "stderr",
     "output_type": "stream",
     "text": [
      "Installing package into 'C:/Users/julia/OneDrive - London School of Hygiene and Tropical Medicine/Documents/R/win-library/4.1'\n",
      "(as 'lib' is unspecified)\n",
      "\n"
     ]
    },
    {
     "name": "stdout",
     "output_type": "stream",
     "text": [
      "\u001b[32mv\u001b[39m  \u001b[90mchecking for file 'C:\\Users\\julia\\AppData\\Local\\Temp\\RtmpoblK7e\\remotes47c8755545cf\\mrc-ide-odin.dust-54abe06/DESCRIPTION'\u001b[39m\u001b[36m\u001b[36m (409ms)\u001b[36m\u001b[39m\n",
      "\u001b[90m-\u001b[39m\u001b[90m  \u001b[39m\u001b[90mpreparing 'odin.dust':\u001b[39m\u001b[36m\u001b[36m (517ms)\u001b[36m\u001b[39m\n",
      "\u001b[32mv\u001b[39m  \u001b[90mchecking DESCRIPTION meta-information\u001b[39m\u001b[36m\u001b[39m\n",
      "\u001b[90m-\u001b[39m\u001b[90m  \u001b[39m\u001b[90mchecking for LF line-endings in source and make files and shell scripts\u001b[39m\u001b[36m\u001b[39m\n",
      "\u001b[90m-\u001b[39m\u001b[90m  \u001b[39m\u001b[90mchecking for empty or unneeded directories\u001b[39m\u001b[36m\u001b[39m\n",
      "   Omitted 'LazyData' from DESCRIPTION\n",
      "\u001b[90m-\u001b[39m\u001b[90m  \u001b[39m\u001b[90mbuilding 'odin.dust_0.2.16.tar.gz'\u001b[39m\u001b[36m\u001b[39m\n",
      "   \n",
      "\r"
     ]
    },
    {
     "name": "stderr",
     "output_type": "stream",
     "text": [
      "Installing package into 'C:/Users/julia/OneDrive - London School of Hygiene and Tropical Medicine/Documents/R/win-library/4.1'\n",
      "(as 'lib' is unspecified)\n",
      "\n"
     ]
    },
    {
     "name": "stdout",
     "output_type": "stream",
     "text": [
      "\u001b[32mv\u001b[39m  \u001b[90mchecking for file 'C:\\Users\\julia\\AppData\\Local\\Temp\\RtmpoblK7e\\remotes47c8755545cf\\mrc-ide-odin.dust-54abe06/DESCRIPTION'\u001b[39m\u001b[36m\u001b[36m (409ms)\u001b[36m\u001b[39m\n",
      "\u001b[90m-\u001b[39m\u001b[90m  \u001b[39m\u001b[90mpreparing 'odin.dust':\u001b[39m\u001b[36m\u001b[36m (517ms)\u001b[36m\u001b[39m\n",
      "\u001b[32mv\u001b[39m  \u001b[90mchecking DESCRIPTION meta-information\u001b[39m\u001b[36m\u001b[39m\n",
      "\u001b[90m-\u001b[39m\u001b[90m  \u001b[39m\u001b[90mchecking for LF line-endings in source and make files and shell scripts\u001b[39m\u001b[36m\u001b[39m\n",
      "\u001b[90m-\u001b[39m\u001b[90m  \u001b[39m\u001b[90mchecking for empty or unneeded directories\u001b[39m\u001b[36m\u001b[39m\n",
      "   Omitted 'LazyData' from DESCRIPTION\n",
      "\u001b[90m-\u001b[39m\u001b[90m  \u001b[39m\u001b[90mbuilding 'odin.dust_0.2.16.tar.gz'\u001b[39m\u001b[36m\u001b[39m\n",
      "\u001b[32mv\u001b[39m  \u001b[90mchecking for file 'C:\\Users\\julia\\AppData\\Local\\Temp\\RtmpoblK7e\\remotes47c8755545cf\\mrc-ide-odin.dust-54abe06/DESCRIPTION'\u001b[39m\u001b[36m\u001b[36m (409ms)\u001b[36m\u001b[39m\n",
      "\u001b[90m-\u001b[39m\u001b[90m  \u001b[39m\u001b[90mpreparing 'odin.dust':\u001b[39m\u001b[36m\u001b[36m (517ms)\u001b[36m\u001b[39m\n",
      "\u001b[32mv\u001b[39m  \u001b[90mchecking DESCRIPTION meta-information\u001b[39m\u001b[36m\u001b[39m\n",
      "\u001b[90m-\u001b[39m\u001b[90m  \u001b[39m\u001b[90mchecking for LF line-endings in source and make files and shell scripts\u001b[39m\u001b[36m\u001b[39m\n",
      "\u001b[90m-\u001b[39m\u001b[90m  \u001b[39m\u001b[90mchecking for empty or unneeded directories\u001b[39m\u001b[36m\u001b[39m\n",
      "   Omitted 'LazyData' from DESCRIPTION\n",
      "\u001b[32mv\u001b[39m  \u001b[90mchecking for file 'C:\\Users\\julia\\AppData\\Local\\Temp\\RtmpoblK7e\\remotes47c8755545cf\\mrc-ide-odin.dust-54abe06/DESCRIPTION'\u001b[39m\u001b[36m\u001b[36m (409ms)\u001b[36m\u001b[39m\n",
      "\u001b[90m-\u001b[39m\u001b[90m  \u001b[39m\u001b[90mpreparing 'odin.dust':\u001b[39m\u001b[36m\u001b[36m (517ms)\u001b[36m\u001b[39m\n",
      "\u001b[32mv\u001b[39m  \u001b[90mchecking DESCRIPTION meta-information\u001b[39m\u001b[36m\u001b[39m\n",
      "\u001b[90m-\u001b[39m\u001b[90m  \u001b[39m\u001b[90mchecking for LF line-endings in source and make files and shell scripts\u001b[39m\u001b[36m\u001b[39m\n",
      "\u001b[90m-\u001b[39m\u001b[90m  \u001b[39m\u001b[90mchecking for empty or unneeded directories\u001b[39m\u001b[36m\u001b[39m\n",
      "\u001b[32mv\u001b[39m  \u001b[90mchecking for file 'C:\\Users\\julia\\AppData\\Local\\Temp\\RtmpoblK7e\\remotes47c8755545cf\\mrc-ide-odin.dust-54abe06/DESCRIPTION'\u001b[39m\u001b[36m\u001b[36m (409ms)\u001b[36m\u001b[39m\n",
      "\u001b[90m-\u001b[39m\u001b[90m  \u001b[39m\u001b[90mpreparing 'odin.dust':\u001b[39m\u001b[36m\u001b[36m (517ms)\u001b[36m\u001b[39m\n",
      "\u001b[32mv\u001b[39m  \u001b[90mchecking DESCRIPTION meta-information\u001b[39m\u001b[36m\u001b[39m\n",
      "\u001b[90m-\u001b[39m\u001b[90m  \u001b[39m\u001b[90mchecking for LF line-endings in source and make files and shell scripts\u001b[39m\u001b[36m\u001b[39m\n",
      "\u001b[32mv\u001b[39m  \u001b[90mchecking for file 'C:\\Users\\julia\\AppData\\Local\\Temp\\RtmpoblK7e\\remotes47c8755545cf\\mrc-ide-odin.dust-54abe06/DESCRIPTION'\u001b[39m\u001b[36m\u001b[36m (409ms)\u001b[36m\u001b[39m\n",
      "\u001b[90m-\u001b[39m\u001b[90m  \u001b[39m\u001b[90mpreparing 'odin.dust':\u001b[39m\u001b[36m\u001b[36m (517ms)\u001b[36m\u001b[39m\n",
      "\u001b[32mv\u001b[39m  \u001b[90mchecking DESCRIPTION meta-information\u001b[39m\u001b[36m\u001b[39m\n",
      "\u001b[32mv\u001b[39m  \u001b[90mchecking for file 'C:\\Users\\julia\\AppData\\Local\\Temp\\RtmpoblK7e\\remotes47c8755545cf\\mrc-ide-odin.dust-54abe06/DESCRIPTION'\u001b[39m\u001b[36m\u001b[36m (409ms)\u001b[36m\u001b[39m\n",
      "\u001b[90m-\u001b[39m\u001b[90m  \u001b[39m\u001b[90mpreparing 'odin.dust':\u001b[39m\u001b[36m\u001b[36m (517ms)\u001b[36m\u001b[39m\n",
      "\u001b[32mv\u001b[39m  \u001b[90mchecking for file 'C:\\Users\\julia\\AppData\\Local\\Temp\\RtmpoblK7e\\remotes47c8755545cf\\mrc-ide-odin.dust-54abe06/DESCRIPTION'\u001b[39m\u001b[36m\u001b[36m (409ms)\u001b[36m\u001b[39m\n",
      "\n",
      "The downloaded binary packages are in\n",
      "\tC:\\Users\\julia\\AppData\\Local\\Temp\\RtmpoblK7e\\downloaded_packages\n",
      "\u001b[32mv\u001b[39m  \u001b[90mchecking for file 'C:\\Users\\julia\\AppData\\Local\\Temp\\RtmpoblK7e\\remotes47c871b1787b\\mrc-ide-odin-905b182/DESCRIPTION'\u001b[39m\u001b[36m\u001b[36m (418ms)\u001b[36m\u001b[39m\n",
      "\u001b[90m-\u001b[39m\u001b[90m  \u001b[39m\u001b[90mpreparing 'odin':\u001b[39m\u001b[36m\u001b[36m (1.8s)\u001b[36m\u001b[39m\n",
      "\u001b[32mv\u001b[39m  \u001b[90mchecking DESCRIPTION meta-information\u001b[39m\u001b[36m\u001b[39m\n",
      "\u001b[90m-\u001b[39m\u001b[90m  \u001b[39m\u001b[90mchecking for LF line-endings in source and make files and shell scripts\u001b[39m\u001b[36m\u001b[39m\n",
      "\u001b[90m-\u001b[39m\u001b[90m  \u001b[39m\u001b[90mchecking for empty or unneeded directories\u001b[39m\u001b[36m\u001b[39m\n",
      "\n",
      "The downloaded binary packages are in\n",
      "\tC:\\Users\\julia\\AppData\\Local\\Temp\\RtmpoblK7e\\downloaded_packages\n",
      "\u001b[32mv\u001b[39m  \u001b[90mchecking for file 'C:\\Users\\julia\\AppData\\Local\\Temp\\RtmpoblK7e\\remotes47c871b1787b\\mrc-ide-odin-905b182/DESCRIPTION'\u001b[39m\u001b[36m\u001b[36m (418ms)\u001b[36m\u001b[39m\n",
      "\u001b[90m-\u001b[39m\u001b[90m  \u001b[39m\u001b[90mpreparing 'odin':\u001b[39m\u001b[36m\u001b[36m (1.8s)\u001b[36m\u001b[39m\n",
      "\u001b[32mv\u001b[39m  \u001b[90mchecking DESCRIPTION meta-information\u001b[39m\u001b[36m\u001b[39m\n",
      "\u001b[90m-\u001b[39m\u001b[90m  \u001b[39m\u001b[90mchecking for LF line-endings in source and make files and shell scripts\u001b[39m\u001b[36m\u001b[39m\n",
      "\n",
      "The downloaded binary packages are in\n",
      "\tC:\\Users\\julia\\AppData\\Local\\Temp\\RtmpoblK7e\\downloaded_packages\n",
      "\u001b[32mv\u001b[39m  \u001b[90mchecking for file 'C:\\Users\\julia\\AppData\\Local\\Temp\\RtmpoblK7e\\remotes47c871b1787b\\mrc-ide-odin-905b182/DESCRIPTION'\u001b[39m\u001b[36m\u001b[36m (418ms)\u001b[36m\u001b[39m\n",
      "\u001b[90m-\u001b[39m\u001b[90m  \u001b[39m\u001b[90mpreparing 'odin':\u001b[39m\u001b[36m\u001b[36m (1.8s)\u001b[36m\u001b[39m\n",
      "\u001b[32mv\u001b[39m  \u001b[90mchecking DESCRIPTION meta-information\u001b[39m\u001b[36m\u001b[39m\n",
      "\n",
      "The downloaded binary packages are in\n",
      "\tC:\\Users\\julia\\AppData\\Local\\Temp\\RtmpoblK7e\\downloaded_packages\n",
      "\u001b[32mv\u001b[39m  \u001b[90mchecking for file 'C:\\Users\\julia\\AppData\\Local\\Temp\\RtmpoblK7e\\remotes47c871b1787b\\mrc-ide-odin-905b182/DESCRIPTION'\u001b[39m\u001b[36m\u001b[36m (418ms)\u001b[36m\u001b[39m\n",
      "\u001b[90m-\u001b[39m\u001b[90m  \u001b[39m\u001b[90mpreparing 'odin':\u001b[39m\u001b[36m\u001b[36m (1.8s)\u001b[36m\u001b[39m\n",
      "\n",
      "The downloaded binary packages are in\n",
      "\tC:\\Users\\julia\\AppData\\Local\\Temp\\RtmpoblK7e\\downloaded_packages\n",
      "\u001b[32mv\u001b[39m  \u001b[90mchecking for file 'C:\\Users\\julia\\AppData\\Local\\Temp\\RtmpoblK7e\\remotes47c871b1787b\\mrc-ide-odin-905b182/DESCRIPTION'\u001b[39m\u001b[36m\u001b[36m (418ms)\u001b[36m\u001b[39m\n"
     ]
    },
    {
     "name": "stderr",
     "output_type": "stream",
     "text": [
      "Warning message:\n",
      "\"cannot remove prior installation of package 'glue'\"\n"
     ]
    },
    {
     "name": "stdout",
     "output_type": "stream",
     "text": [
      "\u001b[32mv\u001b[39m  \u001b[90mchecking for file 'C:\\Users\\julia\\AppData\\Local\\Temp\\RtmpoblK7e\\remotes47c85804d50\\mrc-ide-mode-24c938b/DESCRIPTION'\u001b[39m\u001b[36m\u001b[36m (407ms)\u001b[36m\u001b[39m\n",
      "\u001b[90m-\u001b[39m\u001b[90m  \u001b[39m\u001b[90mpreparing 'mode':\u001b[39m\u001b[36m\u001b[36m (363ms)\u001b[36m\u001b[39m\n",
      "\u001b[32mv\u001b[39m  \u001b[90mchecking DESCRIPTION meta-information\u001b[39m\u001b[36m\u001b[39m\n",
      "\u001b[90m-\u001b[39m\u001b[90m  \u001b[39m\u001b[90mchecking for LF line-endings in source and make files and shell scripts\u001b[39m\u001b[36m\u001b[39m\n",
      "\u001b[90m-\u001b[39m\u001b[90m  \u001b[39m\u001b[90mchecking for empty or unneeded directories\u001b[39m\u001b[36m\u001b[39m\n",
      "\u001b[90m-\u001b[39m\u001b[90m  \u001b[39m\u001b[90mbuilding 'mode_0.1.1.tar.gz'\u001b[39m\u001b[36m\u001b[39m\n",
      "\u001b[32mv\u001b[39m  \u001b[90mchecking for file 'C:\\Users\\julia\\AppData\\Local\\Temp\\RtmpoblK7e\\remotes47c85804d50\\mrc-ide-mode-24c938b/DESCRIPTION'\u001b[39m\u001b[36m\u001b[36m (407ms)\u001b[36m\u001b[39m\n",
      "\u001b[90m-\u001b[39m\u001b[90m  \u001b[39m\u001b[90mpreparing 'mode':\u001b[39m\u001b[36m\u001b[36m (363ms)\u001b[36m\u001b[39m\n",
      "\u001b[32mv\u001b[39m  \u001b[90mchecking DESCRIPTION meta-information\u001b[39m\u001b[36m\u001b[39m\n",
      "\u001b[90m-\u001b[39m\u001b[90m  \u001b[39m\u001b[90mchecking for LF line-endings in source and make files and shell scripts\u001b[39m\u001b[36m\u001b[39m\n",
      "\u001b[90m-\u001b[39m\u001b[90m  \u001b[39m\u001b[90mchecking for empty or unneeded directories\u001b[39m\u001b[36m\u001b[39m\n",
      "\u001b[32mv\u001b[39m  \u001b[90mchecking for file 'C:\\Users\\julia\\AppData\\Local\\Temp\\RtmpoblK7e\\remotes47c85804d50\\mrc-ide-mode-24c938b/DESCRIPTION'\u001b[39m\u001b[36m\u001b[36m (407ms)\u001b[36m\u001b[39m\n",
      "\u001b[90m-\u001b[39m\u001b[90m  \u001b[39m\u001b[90mpreparing 'mode':\u001b[39m\u001b[36m\u001b[36m (363ms)\u001b[36m\u001b[39m\n",
      "\u001b[32mv\u001b[39m  \u001b[90mchecking DESCRIPTION meta-information\u001b[39m\u001b[36m\u001b[39m\n",
      "\u001b[90m-\u001b[39m\u001b[90m  \u001b[39m\u001b[90mchecking for LF line-endings in source and make files and shell scripts\u001b[39m\u001b[36m\u001b[39m\n",
      "\u001b[32mv\u001b[39m  \u001b[90mchecking for file 'C:\\Users\\julia\\AppData\\Local\\Temp\\RtmpoblK7e\\remotes47c85804d50\\mrc-ide-mode-24c938b/DESCRIPTION'\u001b[39m\u001b[36m\u001b[36m (407ms)\u001b[36m\u001b[39m\n",
      "\u001b[90m-\u001b[39m\u001b[90m  \u001b[39m\u001b[90mpreparing 'mode':\u001b[39m\u001b[36m\u001b[36m (363ms)\u001b[36m\u001b[39m\n",
      "\u001b[32mv\u001b[39m  \u001b[90mchecking DESCRIPTION meta-information\u001b[39m\u001b[36m\u001b[39m\n",
      "\u001b[32mv\u001b[39m  \u001b[90mchecking for file 'C:\\Users\\julia\\AppData\\Local\\Temp\\RtmpoblK7e\\remotes47c85804d50\\mrc-ide-mode-24c938b/DESCRIPTION'\u001b[39m\u001b[36m\u001b[36m (407ms)\u001b[36m\u001b[39m\n",
      "\u001b[90m-\u001b[39m\u001b[90m  \u001b[39m\u001b[90mpreparing 'mode':\u001b[39m\u001b[36m\u001b[36m (363ms)\u001b[36m\u001b[39m\n",
      "\u001b[32mv\u001b[39m  \u001b[90mchecking for file 'C:\\Users\\julia\\AppData\\Local\\Temp\\RtmpoblK7e\\remotes47c85804d50\\mrc-ide-mode-24c938b/DESCRIPTION'\u001b[39m\u001b[36m\u001b[36m (407ms)\u001b[36m\u001b[39m\n",
      "\u001b[32mv\u001b[39m  \u001b[90mchecking for file 'C:\\Users\\julia\\AppData\\Local\\Temp\\RtmpoblK7e\\remotes47c87e022e1a\\mrc-ide-dust-7c9e156/DESCRIPTION'\u001b[39m\u001b[36m\u001b[36m (524ms)\u001b[36m\u001b[39m\n",
      "\u001b[90m-\u001b[39m\u001b[90m  \u001b[39m\u001b[90mpreparing 'dust':\u001b[39m\u001b[36m\u001b[36m (2.4s)\u001b[36m\u001b[39m\n",
      "\u001b[32mv\u001b[39m  \u001b[90mchecking DESCRIPTION meta-information\u001b[39m\u001b[36m\u001b[39m\n",
      "\u001b[90m-\u001b[39m\u001b[90m  \u001b[39m\u001b[90mcleaning src\u001b[39m\u001b[36m\u001b[39m\n",
      "\u001b[90m-\u001b[39m\u001b[90m  \u001b[39m\u001b[90mchecking for LF line-endings in source and make files and shell scripts\u001b[39m\u001b[36m\u001b[39m\n",
      "\u001b[90m-\u001b[39m\u001b[90m  \u001b[39m\u001b[90mchecking for empty or unneeded directories\u001b[39m\u001b[36m\u001b[39m\n",
      "\u001b[90m-\u001b[39m\u001b[90m  \u001b[39m\u001b[90mbuilding 'dust_0.11.27.tar.gz'\u001b[39m\u001b[36m\u001b[39m\n",
      "   Warning: file 'dust/inst/random/openmp/configure' did not have execute permissions: corrected\n",
      "\u001b[32mv\u001b[39m  \u001b[90mchecking for file 'C:\\Users\\julia\\AppData\\Local\\Temp\\RtmpoblK7e\\remotes47c87e022e1a\\mrc-ide-dust-7c9e156/DESCRIPTION'\u001b[39m\u001b[36m\u001b[36m (524ms)\u001b[36m\u001b[39m\n",
      "\u001b[90m-\u001b[39m\u001b[90m  \u001b[39m\u001b[90mpreparing 'dust':\u001b[39m\u001b[36m\u001b[36m (2.4s)\u001b[36m\u001b[39m\n",
      "\u001b[32mv\u001b[39m  \u001b[90mchecking DESCRIPTION meta-information\u001b[39m\u001b[36m\u001b[39m\n",
      "\u001b[90m-\u001b[39m\u001b[90m  \u001b[39m\u001b[90mcleaning src\u001b[39m\u001b[36m\u001b[39m\n",
      "\u001b[90m-\u001b[39m\u001b[90m  \u001b[39m\u001b[90mchecking for LF line-endings in source and make files and shell scripts\u001b[39m\u001b[36m\u001b[39m\n",
      "\u001b[90m-\u001b[39m\u001b[90m  \u001b[39m\u001b[90mchecking for empty or unneeded directories\u001b[39m\u001b[36m\u001b[39m\n",
      "\u001b[90m-\u001b[39m\u001b[90m  \u001b[39m\u001b[90mbuilding 'dust_0.11.27.tar.gz'\u001b[39m\u001b[36m\u001b[39m\n",
      "\u001b[32mv\u001b[39m  \u001b[90mchecking for file 'C:\\Users\\julia\\AppData\\Local\\Temp\\RtmpoblK7e\\remotes47c87e022e1a\\mrc-ide-dust-7c9e156/DESCRIPTION'\u001b[39m\u001b[36m\u001b[36m (524ms)\u001b[36m\u001b[39m\n",
      "\u001b[90m-\u001b[39m\u001b[90m  \u001b[39m\u001b[90mpreparing 'dust':\u001b[39m\u001b[36m\u001b[36m (2.4s)\u001b[36m\u001b[39m\n",
      "\u001b[32mv\u001b[39m  \u001b[90mchecking DESCRIPTION meta-information\u001b[39m\u001b[36m\u001b[39m\n",
      "\u001b[90m-\u001b[39m\u001b[90m  \u001b[39m\u001b[90mcleaning src\u001b[39m\u001b[36m\u001b[39m\n",
      "\u001b[90m-\u001b[39m\u001b[90m  \u001b[39m\u001b[90mchecking for LF line-endings in source and make files and shell scripts\u001b[39m\u001b[36m\u001b[39m\n",
      "\u001b[90m-\u001b[39m\u001b[90m  \u001b[39m\u001b[90mchecking for empty or unneeded directories\u001b[39m\u001b[36m\u001b[39m\n",
      "\u001b[32mv\u001b[39m  \u001b[90mchecking for file 'C:\\Users\\julia\\AppData\\Local\\Temp\\RtmpoblK7e\\remotes47c87e022e1a\\mrc-ide-dust-7c9e156/DESCRIPTION'\u001b[39m\u001b[36m\u001b[36m (524ms)\u001b[36m\u001b[39m\n",
      "\u001b[90m-\u001b[39m\u001b[90m  \u001b[39m\u001b[90mpreparing 'dust':\u001b[39m\u001b[36m\u001b[36m (2.4s)\u001b[36m\u001b[39m\n",
      "\u001b[32mv\u001b[39m  \u001b[90mchecking DESCRIPTION meta-information\u001b[39m\u001b[36m\u001b[39m\n",
      "\u001b[90m-\u001b[39m\u001b[90m  \u001b[39m\u001b[90mcleaning src\u001b[39m\u001b[36m\u001b[39m\n",
      "\u001b[90m-\u001b[39m\u001b[90m  \u001b[39m\u001b[90mchecking for LF line-endings in source and make files and shell scripts\u001b[39m\u001b[36m\u001b[39m\n",
      "\u001b[32mv\u001b[39m  \u001b[90mchecking for file 'C:\\Users\\julia\\AppData\\Local\\Temp\\RtmpoblK7e\\remotes47c87e022e1a\\mrc-ide-dust-7c9e156/DESCRIPTION'\u001b[39m\u001b[36m\u001b[36m (524ms)\u001b[36m\u001b[39m\n",
      "\u001b[90m-\u001b[39m\u001b[90m  \u001b[39m\u001b[90mpreparing 'dust':\u001b[39m\u001b[36m\u001b[36m (2.4s)\u001b[36m\u001b[39m\n",
      "\u001b[32mv\u001b[39m  \u001b[90mchecking DESCRIPTION meta-information\u001b[39m\u001b[36m\u001b[39m\n",
      "\u001b[90m-\u001b[39m\u001b[90m  \u001b[39m\u001b[90mcleaning src\u001b[39m\u001b[36m\u001b[39m\n",
      "\u001b[32mv\u001b[39m  \u001b[90mchecking for file 'C:\\Users\\julia\\AppData\\Local\\Temp\\RtmpoblK7e\\remotes47c87e022e1a\\mrc-ide-dust-7c9e156/DESCRIPTION'\u001b[39m\u001b[36m\u001b[36m (524ms)\u001b[36m\u001b[39m\n",
      "\u001b[90m-\u001b[39m\u001b[90m  \u001b[39m\u001b[90mpreparing 'dust':\u001b[39m\u001b[36m\u001b[36m (2.4s)\u001b[36m\u001b[39m\n",
      "\u001b[32mv\u001b[39m  \u001b[90mchecking DESCRIPTION meta-information\u001b[39m\u001b[36m\u001b[39m\n",
      "\u001b[32mv\u001b[39m  \u001b[90mchecking for file 'C:\\Users\\julia\\AppData\\Local\\Temp\\RtmpoblK7e\\remotes47c87e022e1a\\mrc-ide-dust-7c9e156/DESCRIPTION'\u001b[39m\u001b[36m\u001b[36m (524ms)\u001b[36m\u001b[39m\n",
      "\u001b[90m-\u001b[39m\u001b[90m  \u001b[39m\u001b[90mpreparing 'dust':\u001b[39m\u001b[36m\u001b[36m (2.4s)\u001b[36m\u001b[39m\n",
      "\u001b[32mv\u001b[39m  \u001b[90mchecking for file 'C:\\Users\\julia\\AppData\\Local\\Temp\\RtmpoblK7e\\remotes47c87e022e1a\\mrc-ide-dust-7c9e156/DESCRIPTION'\u001b[39m\u001b[36m\u001b[36m (524ms)\u001b[36m\u001b[39m\n"
     ]
    }
   ],
   "source": [
    "drat:::add(\"mrc-ide\")\n",
    "install.packages(\"odin\")\n",
    "install.packages(\"remotes\")\n",
    "remotes::install_github(\"mrc-ide/odin.dust\")"
   ]
  },
  {
   "cell_type": "code",
   "execution_count": 3,
   "id": "6d28b287-8058-4162-b9fd-be2df9bfa191",
   "metadata": {},
   "outputs": [],
   "source": [
    "gen_sir <- dust::dust_example(\"sir\")"
   ]
  },
  {
   "cell_type": "code",
   "execution_count": 5,
   "id": "c7a03ebf-aced-498e-aa63-7e9709535507",
   "metadata": {},
   "outputs": [
    {
     "data": {
      "text/html": [
       "<dl>\n",
       "\t<dt>$I0</dt>\n",
       "\t\t<dd><strong>$required</strong> = FALSE</dd>\n",
       "\t<dt>$beta</dt>\n",
       "\t\t<dd><strong>$required</strong> = FALSE</dd>\n",
       "\t<dt>$gamma</dt>\n",
       "\t\t<dd><strong>$required</strong> = FALSE</dd>\n",
       "\t<dt>$exp_noise</dt>\n",
       "\t\t<dd><strong>$required</strong> = FALSE</dd>\n",
       "</dl>\n"
      ],
      "text/latex": [
       "\\begin{description}\n",
       "\\item[\\$I0] \\textbf{\\$required} = FALSE\n",
       "\\item[\\$beta] \\textbf{\\$required} = FALSE\n",
       "\\item[\\$gamma] \\textbf{\\$required} = FALSE\n",
       "\\item[\\$exp\\_noise] \\textbf{\\$required} = FALSE\n",
       "\\end{description}\n"
      ],
      "text/markdown": [
       "$I0\n",
       ":   **$required** = FALSE\n",
       "$beta\n",
       ":   **$required** = FALSE\n",
       "$gamma\n",
       ":   **$required** = FALSE\n",
       "$exp_noise\n",
       ":   **$required** = FALSE\n",
       "\n",
       "\n"
      ],
      "text/plain": [
       "$I0\n",
       "$I0$required\n",
       "[1] FALSE\n",
       "\n",
       "\n",
       "$beta\n",
       "$beta$required\n",
       "[1] FALSE\n",
       "\n",
       "\n",
       "$gamma\n",
       "$gamma$required\n",
       "[1] FALSE\n",
       "\n",
       "\n",
       "$exp_noise\n",
       "$exp_noise$required\n",
       "[1] FALSE\n",
       "\n"
      ]
     },
     "metadata": {},
     "output_type": "display_data"
    }
   ],
   "source": [
    "coef(gen_sir)"
   ]
  },
  {
   "cell_type": "code",
   "execution_count": 13,
   "id": "673b92f8-5c6f-40ec-a7be-55322a4835de",
   "metadata": {},
   "outputs": [],
   "source": [
    "model <- gen_sir$new(list(), 0, 20)"
   ]
  },
  {
   "cell_type": "code",
   "execution_count": 11,
   "id": "3faf509e-b245-4bbf-8b86-9fa9041643b2",
   "metadata": {},
   "outputs": [
    {
     "data": {
      "text/html": [
       "<dl>\n",
       "\t<dt>$vars</dt>\n",
       "\t\t<dd><style>\n",
       ".list-inline {list-style: none; margin:0; padding: 0}\n",
       ".list-inline>li {display: inline-block}\n",
       ".list-inline>li:not(:last-child)::after {content: \"\\00b7\"; padding: 0 .5ex}\n",
       "</style>\n",
       "<ol class=list-inline><li>'S'</li><li>'I'</li><li>'R'</li><li>'cases_cumul'</li><li>'cases_inc'</li></ol>\n",
       "</dd>\n",
       "\t<dt>$pars</dt>\n",
       "\t\t<dd><dl>\n",
       "\t<dt>$beta</dt>\n",
       "\t\t<dd>0.2</dd>\n",
       "\t<dt>$gamma</dt>\n",
       "\t\t<dd>0.1</dd>\n",
       "</dl>\n",
       "</dd>\n",
       "</dl>\n"
      ],
      "text/latex": [
       "\\begin{description}\n",
       "\\item[\\$vars] \\begin{enumerate*}\n",
       "\\item 'S'\n",
       "\\item 'I'\n",
       "\\item 'R'\n",
       "\\item 'cases\\_cumul'\n",
       "\\item 'cases\\_inc'\n",
       "\\end{enumerate*}\n",
       "\n",
       "\\item[\\$pars] \\begin{description}\n",
       "\\item[\\$beta] 0.2\n",
       "\\item[\\$gamma] 0.1\n",
       "\\end{description}\n",
       "\n",
       "\\end{description}\n"
      ],
      "text/markdown": [
       "$vars\n",
       ":   1. 'S'\n",
       "2. 'I'\n",
       "3. 'R'\n",
       "4. 'cases_cumul'\n",
       "5. 'cases_inc'\n",
       "\n",
       "\n",
       "\n",
       "$pars\n",
       ":   $beta\n",
       ":   0.2\n",
       "$gamma\n",
       ":   0.1\n",
       "\n",
       "\n",
       "\n",
       "\n",
       "\n"
      ],
      "text/plain": [
       "$vars\n",
       "[1] \"S\"           \"I\"           \"R\"           \"cases_cumul\" \"cases_inc\"  \n",
       "\n",
       "$pars\n",
       "$pars$beta\n",
       "[1] 0.2\n",
       "\n",
       "$pars$gamma\n",
       "[1] 0.1\n",
       "\n"
      ]
     },
     "metadata": {},
     "output_type": "display_data"
    }
   ],
   "source": [
    "model$info()"
   ]
  },
  {
   "cell_type": "code",
   "execution_count": 14,
   "id": "bf28d89a-ad26-4dd9-b40f-9ba3967999ec",
   "metadata": {},
   "outputs": [
    {
     "data": {
      "text/html": [
       "<table class=\"dataframe\">\n",
       "<caption>A matrix: 5 × 20 of type dbl</caption>\n",
       "<tbody>\n",
       "\t<tr><td>1000</td><td>1000</td><td>1000</td><td>1000</td><td>1000</td><td>1000</td><td>1000</td><td>1000</td><td>1000</td><td>1000</td><td>1000</td><td>1000</td><td>1000</td><td>1000</td><td>1000</td><td>1000</td><td>1000</td><td>1000</td><td>1000</td><td>1000</td></tr>\n",
       "\t<tr><td>  10</td><td>  10</td><td>  10</td><td>  10</td><td>  10</td><td>  10</td><td>  10</td><td>  10</td><td>  10</td><td>  10</td><td>  10</td><td>  10</td><td>  10</td><td>  10</td><td>  10</td><td>  10</td><td>  10</td><td>  10</td><td>  10</td><td>  10</td></tr>\n",
       "\t<tr><td>   0</td><td>   0</td><td>   0</td><td>   0</td><td>   0</td><td>   0</td><td>   0</td><td>   0</td><td>   0</td><td>   0</td><td>   0</td><td>   0</td><td>   0</td><td>   0</td><td>   0</td><td>   0</td><td>   0</td><td>   0</td><td>   0</td><td>   0</td></tr>\n",
       "\t<tr><td>   0</td><td>   0</td><td>   0</td><td>   0</td><td>   0</td><td>   0</td><td>   0</td><td>   0</td><td>   0</td><td>   0</td><td>   0</td><td>   0</td><td>   0</td><td>   0</td><td>   0</td><td>   0</td><td>   0</td><td>   0</td><td>   0</td><td>   0</td></tr>\n",
       "\t<tr><td>   0</td><td>   0</td><td>   0</td><td>   0</td><td>   0</td><td>   0</td><td>   0</td><td>   0</td><td>   0</td><td>   0</td><td>   0</td><td>   0</td><td>   0</td><td>   0</td><td>   0</td><td>   0</td><td>   0</td><td>   0</td><td>   0</td><td>   0</td></tr>\n",
       "</tbody>\n",
       "</table>\n"
      ],
      "text/latex": [
       "A matrix: 5 × 20 of type dbl\n",
       "\\begin{tabular}{llllllllllllllllllll}\n",
       "\t 1000 & 1000 & 1000 & 1000 & 1000 & 1000 & 1000 & 1000 & 1000 & 1000 & 1000 & 1000 & 1000 & 1000 & 1000 & 1000 & 1000 & 1000 & 1000 & 1000\\\\\n",
       "\t   10 &   10 &   10 &   10 &   10 &   10 &   10 &   10 &   10 &   10 &   10 &   10 &   10 &   10 &   10 &   10 &   10 &   10 &   10 &   10\\\\\n",
       "\t    0 &    0 &    0 &    0 &    0 &    0 &    0 &    0 &    0 &    0 &    0 &    0 &    0 &    0 &    0 &    0 &    0 &    0 &    0 &    0\\\\\n",
       "\t    0 &    0 &    0 &    0 &    0 &    0 &    0 &    0 &    0 &    0 &    0 &    0 &    0 &    0 &    0 &    0 &    0 &    0 &    0 &    0\\\\\n",
       "\t    0 &    0 &    0 &    0 &    0 &    0 &    0 &    0 &    0 &    0 &    0 &    0 &    0 &    0 &    0 &    0 &    0 &    0 &    0 &    0\\\\\n",
       "\\end{tabular}\n"
      ],
      "text/markdown": [
       "\n",
       "A matrix: 5 × 20 of type dbl\n",
       "\n",
       "| 1000 | 1000 | 1000 | 1000 | 1000 | 1000 | 1000 | 1000 | 1000 | 1000 | 1000 | 1000 | 1000 | 1000 | 1000 | 1000 | 1000 | 1000 | 1000 | 1000 |\n",
       "|   10 |   10 |   10 |   10 |   10 |   10 |   10 |   10 |   10 |   10 |   10 |   10 |   10 |   10 |   10 |   10 |   10 |   10 |   10 |   10 |\n",
       "|    0 |    0 |    0 |    0 |    0 |    0 |    0 |    0 |    0 |    0 |    0 |    0 |    0 |    0 |    0 |    0 |    0 |    0 |    0 |    0 |\n",
       "|    0 |    0 |    0 |    0 |    0 |    0 |    0 |    0 |    0 |    0 |    0 |    0 |    0 |    0 |    0 |    0 |    0 |    0 |    0 |    0 |\n",
       "|    0 |    0 |    0 |    0 |    0 |    0 |    0 |    0 |    0 |    0 |    0 |    0 |    0 |    0 |    0 |    0 |    0 |    0 |    0 |    0 |\n",
       "\n"
      ],
      "text/plain": [
       "     [,1] [,2] [,3] [,4] [,5] [,6] [,7] [,8] [,9] [,10] [,11] [,12] [,13] [,14]\n",
       "[1,] 1000 1000 1000 1000 1000 1000 1000 1000 1000 1000  1000  1000  1000  1000 \n",
       "[2,]   10   10   10   10   10   10   10   10   10   10    10    10    10    10 \n",
       "[3,]    0    0    0    0    0    0    0    0    0    0     0     0     0     0 \n",
       "[4,]    0    0    0    0    0    0    0    0    0    0     0     0     0     0 \n",
       "[5,]    0    0    0    0    0    0    0    0    0    0     0     0     0     0 \n",
       "     [,15] [,16] [,17] [,18] [,19] [,20]\n",
       "[1,] 1000  1000  1000  1000  1000  1000 \n",
       "[2,]   10    10    10    10    10    10 \n",
       "[3,]    0     0     0     0     0     0 \n",
       "[4,]    0     0     0     0     0     0 \n",
       "[5,]    0     0     0     0     0     0 "
      ]
     },
     "metadata": {},
     "output_type": "display_data"
    }
   ],
   "source": [
    "model$state()"
   ]
  },
  {
   "cell_type": "markdown",
   "id": "67ed96fd-7202-460c-b8b6-c86bf4ae1ad7",
   "metadata": {},
   "source": [
    "## Inferring parameters with mcstate##"
   ]
  },
  {
   "cell_type": "code",
   "execution_count": 18,
   "id": "3e72cf50-2be3-4c1b-99e7-5f4d9bd5b2b7",
   "metadata": {},
   "outputs": [],
   "source": [
    "incidence <- read.csv(system.file(\"sir_incidence.csv\", package = \"mcstate\"))"
   ]
  },
  {
   "cell_type": "code",
   "execution_count": 19,
   "id": "dae0fdff-21bf-471b-bc1e-f97a3c6c6cf1",
   "metadata": {},
   "outputs": [
    {
     "data": {
      "text/html": [
       "<table class=\"dataframe\">\n",
       "<caption>A paged_df: 100 × 5</caption>\n",
       "<thead>\n",
       "\t<tr><th scope=col>day_start</th><th scope=col>day_end</th><th scope=col>step_start</th><th scope=col>step_end</th><th scope=col>cases</th></tr>\n",
       "\t<tr><th scope=col>&lt;int&gt;</th><th scope=col>&lt;int&gt;</th><th scope=col>&lt;int&gt;</th><th scope=col>&lt;int&gt;</th><th scope=col>&lt;int&gt;</th></tr>\n",
       "</thead>\n",
       "<tbody>\n",
       "\t<tr><td> 0</td><td> 1</td><td>  0</td><td>  4</td><td> 3</td></tr>\n",
       "\t<tr><td> 1</td><td> 2</td><td>  4</td><td>  8</td><td> 2</td></tr>\n",
       "\t<tr><td> 2</td><td> 3</td><td>  8</td><td> 12</td><td> 2</td></tr>\n",
       "\t<tr><td> 3</td><td> 4</td><td> 12</td><td> 16</td><td> 2</td></tr>\n",
       "\t<tr><td> 4</td><td> 5</td><td> 16</td><td> 20</td><td> 1</td></tr>\n",
       "\t<tr><td> 5</td><td> 6</td><td> 20</td><td> 24</td><td> 3</td></tr>\n",
       "\t<tr><td> 6</td><td> 7</td><td> 24</td><td> 28</td><td> 2</td></tr>\n",
       "\t<tr><td> 7</td><td> 8</td><td> 28</td><td> 32</td><td> 5</td></tr>\n",
       "\t<tr><td> 8</td><td> 9</td><td> 32</td><td> 36</td><td> 5</td></tr>\n",
       "\t<tr><td> 9</td><td>10</td><td> 36</td><td> 40</td><td> 6</td></tr>\n",
       "\t<tr><td>10</td><td>11</td><td> 40</td><td> 44</td><td> 9</td></tr>\n",
       "\t<tr><td>11</td><td>12</td><td> 44</td><td> 48</td><td> 3</td></tr>\n",
       "\t<tr><td>12</td><td>13</td><td> 48</td><td> 52</td><td> 5</td></tr>\n",
       "\t<tr><td>13</td><td>14</td><td> 52</td><td> 56</td><td> 7</td></tr>\n",
       "\t<tr><td>14</td><td>15</td><td> 56</td><td> 60</td><td> 9</td></tr>\n",
       "\t<tr><td>15</td><td>16</td><td> 60</td><td> 64</td><td>12</td></tr>\n",
       "\t<tr><td>16</td><td>17</td><td> 64</td><td> 68</td><td>13</td></tr>\n",
       "\t<tr><td>17</td><td>18</td><td> 68</td><td> 72</td><td>13</td></tr>\n",
       "\t<tr><td>18</td><td>19</td><td> 72</td><td> 76</td><td>17</td></tr>\n",
       "\t<tr><td>19</td><td>20</td><td> 76</td><td> 80</td><td>16</td></tr>\n",
       "\t<tr><td>20</td><td>21</td><td> 80</td><td> 84</td><td>14</td></tr>\n",
       "\t<tr><td>21</td><td>22</td><td> 84</td><td> 88</td><td>24</td></tr>\n",
       "\t<tr><td>22</td><td>23</td><td> 88</td><td> 92</td><td>16</td></tr>\n",
       "\t<tr><td>23</td><td>24</td><td> 92</td><td> 96</td><td>16</td></tr>\n",
       "\t<tr><td>24</td><td>25</td><td> 96</td><td>100</td><td>21</td></tr>\n",
       "\t<tr><td>25</td><td>26</td><td>100</td><td>104</td><td>18</td></tr>\n",
       "\t<tr><td>26</td><td>27</td><td>104</td><td>108</td><td>17</td></tr>\n",
       "\t<tr><td>27</td><td>28</td><td>108</td><td>112</td><td>14</td></tr>\n",
       "\t<tr><td>28</td><td>29</td><td>112</td><td>116</td><td>15</td></tr>\n",
       "\t<tr><td>29</td><td>30</td><td>116</td><td>120</td><td>18</td></tr>\n",
       "\t<tr><td>⋮</td><td>⋮</td><td>⋮</td><td>⋮</td><td>⋮</td></tr>\n",
       "\t<tr><td>70</td><td> 71</td><td>280</td><td>284</td><td>4</td></tr>\n",
       "\t<tr><td>71</td><td> 72</td><td>284</td><td>288</td><td>1</td></tr>\n",
       "\t<tr><td>72</td><td> 73</td><td>288</td><td>292</td><td>1</td></tr>\n",
       "\t<tr><td>73</td><td> 74</td><td>292</td><td>296</td><td>0</td></tr>\n",
       "\t<tr><td>74</td><td> 75</td><td>296</td><td>300</td><td>3</td></tr>\n",
       "\t<tr><td>75</td><td> 76</td><td>300</td><td>304</td><td>3</td></tr>\n",
       "\t<tr><td>76</td><td> 77</td><td>304</td><td>308</td><td>4</td></tr>\n",
       "\t<tr><td>77</td><td> 78</td><td>308</td><td>312</td><td>1</td></tr>\n",
       "\t<tr><td>78</td><td> 79</td><td>312</td><td>316</td><td>3</td></tr>\n",
       "\t<tr><td>79</td><td> 80</td><td>316</td><td>320</td><td>1</td></tr>\n",
       "\t<tr><td>80</td><td> 81</td><td>320</td><td>324</td><td>0</td></tr>\n",
       "\t<tr><td>81</td><td> 82</td><td>324</td><td>328</td><td>0</td></tr>\n",
       "\t<tr><td>82</td><td> 83</td><td>328</td><td>332</td><td>3</td></tr>\n",
       "\t<tr><td>83</td><td> 84</td><td>332</td><td>336</td><td>3</td></tr>\n",
       "\t<tr><td>84</td><td> 85</td><td>336</td><td>340</td><td>1</td></tr>\n",
       "\t<tr><td>85</td><td> 86</td><td>340</td><td>344</td><td>0</td></tr>\n",
       "\t<tr><td>86</td><td> 87</td><td>344</td><td>348</td><td>0</td></tr>\n",
       "\t<tr><td>87</td><td> 88</td><td>348</td><td>352</td><td>3</td></tr>\n",
       "\t<tr><td>88</td><td> 89</td><td>352</td><td>356</td><td>1</td></tr>\n",
       "\t<tr><td>89</td><td> 90</td><td>356</td><td>360</td><td>3</td></tr>\n",
       "\t<tr><td>90</td><td> 91</td><td>360</td><td>364</td><td>7</td></tr>\n",
       "\t<tr><td>91</td><td> 92</td><td>364</td><td>368</td><td>5</td></tr>\n",
       "\t<tr><td>92</td><td> 93</td><td>368</td><td>372</td><td>0</td></tr>\n",
       "\t<tr><td>93</td><td> 94</td><td>372</td><td>376</td><td>1</td></tr>\n",
       "\t<tr><td>94</td><td> 95</td><td>376</td><td>380</td><td>0</td></tr>\n",
       "\t<tr><td>95</td><td> 96</td><td>380</td><td>384</td><td>4</td></tr>\n",
       "\t<tr><td>96</td><td> 97</td><td>384</td><td>388</td><td>1</td></tr>\n",
       "\t<tr><td>97</td><td> 98</td><td>388</td><td>392</td><td>0</td></tr>\n",
       "\t<tr><td>98</td><td> 99</td><td>392</td><td>396</td><td>5</td></tr>\n",
       "\t<tr><td>99</td><td>100</td><td>396</td><td>400</td><td>1</td></tr>\n",
       "</tbody>\n",
       "</table>\n"
      ],
      "text/latex": [
       "A paged\\_df: 100 × 5\n",
       "\\begin{tabular}{lllll}\n",
       " day\\_start & day\\_end & step\\_start & step\\_end & cases\\\\\n",
       " <int> & <int> & <int> & <int> & <int>\\\\\n",
       "\\hline\n",
       "\t  0 &  1 &   0 &   4 &  3\\\\\n",
       "\t  1 &  2 &   4 &   8 &  2\\\\\n",
       "\t  2 &  3 &   8 &  12 &  2\\\\\n",
       "\t  3 &  4 &  12 &  16 &  2\\\\\n",
       "\t  4 &  5 &  16 &  20 &  1\\\\\n",
       "\t  5 &  6 &  20 &  24 &  3\\\\\n",
       "\t  6 &  7 &  24 &  28 &  2\\\\\n",
       "\t  7 &  8 &  28 &  32 &  5\\\\\n",
       "\t  8 &  9 &  32 &  36 &  5\\\\\n",
       "\t  9 & 10 &  36 &  40 &  6\\\\\n",
       "\t 10 & 11 &  40 &  44 &  9\\\\\n",
       "\t 11 & 12 &  44 &  48 &  3\\\\\n",
       "\t 12 & 13 &  48 &  52 &  5\\\\\n",
       "\t 13 & 14 &  52 &  56 &  7\\\\\n",
       "\t 14 & 15 &  56 &  60 &  9\\\\\n",
       "\t 15 & 16 &  60 &  64 & 12\\\\\n",
       "\t 16 & 17 &  64 &  68 & 13\\\\\n",
       "\t 17 & 18 &  68 &  72 & 13\\\\\n",
       "\t 18 & 19 &  72 &  76 & 17\\\\\n",
       "\t 19 & 20 &  76 &  80 & 16\\\\\n",
       "\t 20 & 21 &  80 &  84 & 14\\\\\n",
       "\t 21 & 22 &  84 &  88 & 24\\\\\n",
       "\t 22 & 23 &  88 &  92 & 16\\\\\n",
       "\t 23 & 24 &  92 &  96 & 16\\\\\n",
       "\t 24 & 25 &  96 & 100 & 21\\\\\n",
       "\t 25 & 26 & 100 & 104 & 18\\\\\n",
       "\t 26 & 27 & 104 & 108 & 17\\\\\n",
       "\t 27 & 28 & 108 & 112 & 14\\\\\n",
       "\t 28 & 29 & 112 & 116 & 15\\\\\n",
       "\t 29 & 30 & 116 & 120 & 18\\\\\n",
       "\t ⋮ & ⋮ & ⋮ & ⋮ & ⋮\\\\\n",
       "\t 70 &  71 & 280 & 284 & 4\\\\\n",
       "\t 71 &  72 & 284 & 288 & 1\\\\\n",
       "\t 72 &  73 & 288 & 292 & 1\\\\\n",
       "\t 73 &  74 & 292 & 296 & 0\\\\\n",
       "\t 74 &  75 & 296 & 300 & 3\\\\\n",
       "\t 75 &  76 & 300 & 304 & 3\\\\\n",
       "\t 76 &  77 & 304 & 308 & 4\\\\\n",
       "\t 77 &  78 & 308 & 312 & 1\\\\\n",
       "\t 78 &  79 & 312 & 316 & 3\\\\\n",
       "\t 79 &  80 & 316 & 320 & 1\\\\\n",
       "\t 80 &  81 & 320 & 324 & 0\\\\\n",
       "\t 81 &  82 & 324 & 328 & 0\\\\\n",
       "\t 82 &  83 & 328 & 332 & 3\\\\\n",
       "\t 83 &  84 & 332 & 336 & 3\\\\\n",
       "\t 84 &  85 & 336 & 340 & 1\\\\\n",
       "\t 85 &  86 & 340 & 344 & 0\\\\\n",
       "\t 86 &  87 & 344 & 348 & 0\\\\\n",
       "\t 87 &  88 & 348 & 352 & 3\\\\\n",
       "\t 88 &  89 & 352 & 356 & 1\\\\\n",
       "\t 89 &  90 & 356 & 360 & 3\\\\\n",
       "\t 90 &  91 & 360 & 364 & 7\\\\\n",
       "\t 91 &  92 & 364 & 368 & 5\\\\\n",
       "\t 92 &  93 & 368 & 372 & 0\\\\\n",
       "\t 93 &  94 & 372 & 376 & 1\\\\\n",
       "\t 94 &  95 & 376 & 380 & 0\\\\\n",
       "\t 95 &  96 & 380 & 384 & 4\\\\\n",
       "\t 96 &  97 & 384 & 388 & 1\\\\\n",
       "\t 97 &  98 & 388 & 392 & 0\\\\\n",
       "\t 98 &  99 & 392 & 396 & 5\\\\\n",
       "\t 99 & 100 & 396 & 400 & 1\\\\\n",
       "\\end{tabular}\n"
      ],
      "text/markdown": [
       "\n",
       "A paged_df: 100 × 5\n",
       "\n",
       "| day_start &lt;int&gt; | day_end &lt;int&gt; | step_start &lt;int&gt; | step_end &lt;int&gt; | cases &lt;int&gt; |\n",
       "|---|---|---|---|---|\n",
       "|  0 |  1 |   0 |   4 |  3 |\n",
       "|  1 |  2 |   4 |   8 |  2 |\n",
       "|  2 |  3 |   8 |  12 |  2 |\n",
       "|  3 |  4 |  12 |  16 |  2 |\n",
       "|  4 |  5 |  16 |  20 |  1 |\n",
       "|  5 |  6 |  20 |  24 |  3 |\n",
       "|  6 |  7 |  24 |  28 |  2 |\n",
       "|  7 |  8 |  28 |  32 |  5 |\n",
       "|  8 |  9 |  32 |  36 |  5 |\n",
       "|  9 | 10 |  36 |  40 |  6 |\n",
       "| 10 | 11 |  40 |  44 |  9 |\n",
       "| 11 | 12 |  44 |  48 |  3 |\n",
       "| 12 | 13 |  48 |  52 |  5 |\n",
       "| 13 | 14 |  52 |  56 |  7 |\n",
       "| 14 | 15 |  56 |  60 |  9 |\n",
       "| 15 | 16 |  60 |  64 | 12 |\n",
       "| 16 | 17 |  64 |  68 | 13 |\n",
       "| 17 | 18 |  68 |  72 | 13 |\n",
       "| 18 | 19 |  72 |  76 | 17 |\n",
       "| 19 | 20 |  76 |  80 | 16 |\n",
       "| 20 | 21 |  80 |  84 | 14 |\n",
       "| 21 | 22 |  84 |  88 | 24 |\n",
       "| 22 | 23 |  88 |  92 | 16 |\n",
       "| 23 | 24 |  92 |  96 | 16 |\n",
       "| 24 | 25 |  96 | 100 | 21 |\n",
       "| 25 | 26 | 100 | 104 | 18 |\n",
       "| 26 | 27 | 104 | 108 | 17 |\n",
       "| 27 | 28 | 108 | 112 | 14 |\n",
       "| 28 | 29 | 112 | 116 | 15 |\n",
       "| 29 | 30 | 116 | 120 | 18 |\n",
       "| ⋮ | ⋮ | ⋮ | ⋮ | ⋮ |\n",
       "| 70 |  71 | 280 | 284 | 4 |\n",
       "| 71 |  72 | 284 | 288 | 1 |\n",
       "| 72 |  73 | 288 | 292 | 1 |\n",
       "| 73 |  74 | 292 | 296 | 0 |\n",
       "| 74 |  75 | 296 | 300 | 3 |\n",
       "| 75 |  76 | 300 | 304 | 3 |\n",
       "| 76 |  77 | 304 | 308 | 4 |\n",
       "| 77 |  78 | 308 | 312 | 1 |\n",
       "| 78 |  79 | 312 | 316 | 3 |\n",
       "| 79 |  80 | 316 | 320 | 1 |\n",
       "| 80 |  81 | 320 | 324 | 0 |\n",
       "| 81 |  82 | 324 | 328 | 0 |\n",
       "| 82 |  83 | 328 | 332 | 3 |\n",
       "| 83 |  84 | 332 | 336 | 3 |\n",
       "| 84 |  85 | 336 | 340 | 1 |\n",
       "| 85 |  86 | 340 | 344 | 0 |\n",
       "| 86 |  87 | 344 | 348 | 0 |\n",
       "| 87 |  88 | 348 | 352 | 3 |\n",
       "| 88 |  89 | 352 | 356 | 1 |\n",
       "| 89 |  90 | 356 | 360 | 3 |\n",
       "| 90 |  91 | 360 | 364 | 7 |\n",
       "| 91 |  92 | 364 | 368 | 5 |\n",
       "| 92 |  93 | 368 | 372 | 0 |\n",
       "| 93 |  94 | 372 | 376 | 1 |\n",
       "| 94 |  95 | 376 | 380 | 0 |\n",
       "| 95 |  96 | 380 | 384 | 4 |\n",
       "| 96 |  97 | 384 | 388 | 1 |\n",
       "| 97 |  98 | 388 | 392 | 0 |\n",
       "| 98 |  99 | 392 | 396 | 5 |\n",
       "| 99 | 100 | 396 | 400 | 1 |\n",
       "\n"
      ],
      "text/plain": [
       "    day_start day_end step_start step_end cases\n",
       "1    0         1        0          4       3   \n",
       "2    1         2        4          8       2   \n",
       "3    2         3        8         12       2   \n",
       "4    3         4       12         16       2   \n",
       "5    4         5       16         20       1   \n",
       "6    5         6       20         24       3   \n",
       "7    6         7       24         28       2   \n",
       "8    7         8       28         32       5   \n",
       "9    8         9       32         36       5   \n",
       "10   9        10       36         40       6   \n",
       "11  10        11       40         44       9   \n",
       "12  11        12       44         48       3   \n",
       "13  12        13       48         52       5   \n",
       "14  13        14       52         56       7   \n",
       "15  14        15       56         60       9   \n",
       "16  15        16       60         64      12   \n",
       "17  16        17       64         68      13   \n",
       "18  17        18       68         72      13   \n",
       "19  18        19       72         76      17   \n",
       "20  19        20       76         80      16   \n",
       "21  20        21       80         84      14   \n",
       "22  21        22       84         88      24   \n",
       "23  22        23       88         92      16   \n",
       "24  23        24       92         96      16   \n",
       "25  24        25       96        100      21   \n",
       "26  25        26      100        104      18   \n",
       "27  26        27      104        108      17   \n",
       "28  27        28      108        112      14   \n",
       "29  28        29      112        116      15   \n",
       "30  29        30      116        120      18   \n",
       "<U+22EE>   <U+22EE>  <U+22EE> <U+22EE>   <U+22EE> <U+22EE>\n",
       "71  70         71     280        284      4    \n",
       "72  71         72     284        288      1    \n",
       "73  72         73     288        292      1    \n",
       "74  73         74     292        296      0    \n",
       "75  74         75     296        300      3    \n",
       "76  75         76     300        304      3    \n",
       "77  76         77     304        308      4    \n",
       "78  77         78     308        312      1    \n",
       "79  78         79     312        316      3    \n",
       "80  79         80     316        320      1    \n",
       "81  80         81     320        324      0    \n",
       "82  81         82     324        328      0    \n",
       "83  82         83     328        332      3    \n",
       "84  83         84     332        336      3    \n",
       "85  84         85     336        340      1    \n",
       "86  85         86     340        344      0    \n",
       "87  86         87     344        348      0    \n",
       "88  87         88     348        352      3    \n",
       "89  88         89     352        356      1    \n",
       "90  89         90     356        360      3    \n",
       "91  90         91     360        364      7    \n",
       "92  91         92     364        368      5    \n",
       "93  92         93     368        372      0    \n",
       "94  93         94     372        376      1    \n",
       "95  94         95     376        380      0    \n",
       "96  95         96     380        384      4    \n",
       "97  96         97     384        388      1    \n",
       "98  97         98     388        392      0    \n",
       "99  98         99     392        396      5    \n",
       "100 99        100     396        400      1    "
      ]
     },
     "metadata": {},
     "output_type": "display_data"
    }
   ],
   "source": [
    "dt <- 0.25\n",
    "sir_data <- mcstate::particle_filter_data(data = incidence,\n",
    "                                          time = \"day\",\n",
    "                                          rate = 1 / dt)\n",
    "rmarkdown::paged_table(sir_data)"
   ]
  },
  {
   "cell_type": "code",
   "execution_count": 20,
   "id": "dd0dad29-a183-4241-8054-ef3ecb95cdff",
   "metadata": {},
   "outputs": [
    {
     "data": {
      "image/png": "[encoded data removed]",
      "text/plain": [
       "plot without title"
      ]
     },
     "metadata": {
      "image/png": {
       "height": 420,
       "width": 420
      }
     },
     "output_type": "display_data"
    }
   ],
   "source": [
    "plot(incidence$day, incidence$cases,\n",
    "     type = \"l\", xlab = \"Day\", ylab = \"New cases\")"
   ]
  },
  {
   "cell_type": "code",
   "execution_count": 21,
   "id": "36126aa0-2b07-448a-b426-d3e1874561b4",
   "metadata": {},
   "outputs": [
    {
     "data": {
      "text/html": [
       "<table class=\"dataframe\">\n",
       "<caption>A data.frame: 6 × 2</caption>\n",
       "<thead>\n",
       "\t<tr><th></th><th scope=col>cases</th><th scope=col>day</th></tr>\n",
       "\t<tr><th></th><th scope=col>&lt;int&gt;</th><th scope=col>&lt;int&gt;</th></tr>\n",
       "</thead>\n",
       "<tbody>\n",
       "\t<tr><th scope=row>1</th><td>3</td><td>1</td></tr>\n",
       "\t<tr><th scope=row>2</th><td>2</td><td>2</td></tr>\n",
       "\t<tr><th scope=row>3</th><td>2</td><td>3</td></tr>\n",
       "\t<tr><th scope=row>4</th><td>2</td><td>4</td></tr>\n",
       "\t<tr><th scope=row>5</th><td>1</td><td>5</td></tr>\n",
       "\t<tr><th scope=row>6</th><td>3</td><td>6</td></tr>\n",
       "</tbody>\n",
       "</table>\n"
      ],
      "text/latex": [
       "A data.frame: 6 × 2\n",
       "\\begin{tabular}{r|ll}\n",
       "  & cases & day\\\\\n",
       "  & <int> & <int>\\\\\n",
       "\\hline\n",
       "\t1 & 3 & 1\\\\\n",
       "\t2 & 2 & 2\\\\\n",
       "\t3 & 2 & 3\\\\\n",
       "\t4 & 2 & 4\\\\\n",
       "\t5 & 1 & 5\\\\\n",
       "\t6 & 3 & 6\\\\\n",
       "\\end{tabular}\n"
      ],
      "text/markdown": [
       "\n",
       "A data.frame: 6 × 2\n",
       "\n",
       "| <!--/--> | cases &lt;int&gt; | day &lt;int&gt; |\n",
       "|---|---|---|\n",
       "| 1 | 3 | 1 |\n",
       "| 2 | 2 | 2 |\n",
       "| 3 | 2 | 3 |\n",
       "| 4 | 2 | 4 |\n",
       "| 5 | 1 | 5 |\n",
       "| 6 | 3 | 6 |\n",
       "\n"
      ],
      "text/plain": [
       "  cases day\n",
       "1 3     1  \n",
       "2 2     2  \n",
       "3 2     3  \n",
       "4 2     4  \n",
       "5 1     5  \n",
       "6 3     6  "
      ]
     },
     "metadata": {},
     "output_type": "display_data"
    }
   ],
   "source": [
    "head(incidence)"
   ]
  },
  {
   "cell_type": "markdown",
   "id": "d33fc26a-443e-45aa-9424-056a152cd1b4",
   "metadata": {},
   "source": [
    "## Defining the comparison function ##\n",
    "The comparison function will typically be a likelihood, the probability of the simulation run given the data. This can be any function in R which takes the current simulated state, a data row for the current time point and a list of any parameters pars the function needs.\n",
    "\n",
    "For this model the daily number of cases is calculated within update function and returned as the 5th state element. In this comparison function, the number of cases within each time interval is modelled as being Poisson distributed. A small amount of noise is added to prevent zero expectations."
   ]
  },
  {
   "cell_type": "code",
   "execution_count": 22,
   "id": "56a437e4-f36a-4603-ac25-dade23127f15",
   "metadata": {},
   "outputs": [],
   "source": [
    "case_compare <- function(state, observed, pars = NULL) {\n",
    "  exp_noise <- 1e6\n",
    "\n",
    "  incidence_modelled <- state[5, , drop = TRUE]\n",
    "  incidence_observed <- observed$cases\n",
    "  lambda <- incidence_modelled +\n",
    "    rexp(n = length(incidence_modelled), rate = exp_noise)\n",
    "  dpois(x = incidence_observed, lambda = lambda, log = TRUE)\n",
    "}"
   ]
  },
  {
   "cell_type": "code",
   "execution_count": 23,
   "id": "d012c1b0-e24d-4126-9d45-460549a44422",
   "metadata": {},
   "outputs": [],
   "source": [
    "incidence_compare <- function(state, prev_state, observed, pars = NULL) {\n",
    "  exp_noise <- 1e6\n",
    "\n",
    "  lambda <- state[4, , drop = TRUE] +\n",
    "    rexp(n = length(incidence_modelled), rate = exp_noise)\n",
    "  dpois(x = observed$cases, lambda = lambda, log = TRUE)\n",
    "}"
   ]
  },
  {
   "cell_type": "markdown",
   "id": "1afaa34f-4942-4976-86a9-50182a7dee5e",
   "metadata": {},
   "source": [
    "**Inferring parameters**"
   ]
  },
  {
   "cell_type": "code",
   "execution_count": 24,
   "id": "7cd490ef-e5c3-4701-ab76-512150da5f2e",
   "metadata": {},
   "outputs": [],
   "source": [
    "n_particles <- 100\n",
    "filter <- mcstate::particle_filter$new(data = sir_data,\n",
    "                                       model = gen_sir,\n",
    "                                       n_particles = n_particles,\n",
    "                                       compare = case_compare,\n",
    "                                       seed = 1L)"
   ]
  },
  {
   "cell_type": "markdown",
   "id": "0cfd0b34-e8bd-43d4-a2b2-db17f68e84ce",
   "metadata": {},
   "source": [
    "We can now run the particle filter forward, which will run and resample 100 trajectories, and return the final likelihood. It is important to set the correct time-step dt here, as we are using 0.25, rather than the default value of 1 defined in the odin model. We will also save the history, which allows us to plot the particle trajectories, as well as use the likelihood:"
   ]
  },
  {
   "cell_type": "code",
   "execution_count": 25,
   "id": "d484e8d1-3bed-4b12-8294-1972f7d55959",
   "metadata": {},
   "outputs": [
    {
     "data": {
      "text/html": [
       "-245.655815422475"
      ],
      "text/latex": [
       "-245.655815422475"
      ],
      "text/markdown": [
       "-245.655815422475"
      ],
      "text/plain": [
       "[1] -245.6558"
      ]
     },
     "metadata": {},
     "output_type": "display_data"
    }
   ],
   "source": [
    "filter$run(save_history = TRUE, pars = list(dt = dt))"
   ]
  },
  {
   "cell_type": "markdown",
   "id": "8a006321-d3f0-4d42-928a-8ea508c92b85",
   "metadata": {},
   "source": [
    "If we plot these along with the data, we can see compared to above that only trajectories consistent with the data are kept, and the variance between particles has been reduced compared to the simulations shown in the odin.dust vignette:"
   ]
  },
  {
   "cell_type": "code",
   "execution_count": 34,
   "id": "4e941a71-1b17-427c-9532-8479e3e47432",
   "metadata": {},
   "outputs": [
    {
     "ename": "ERROR",
     "evalue": "Error in t(true_history[1:3, , -1]): object 'true_history' not found\n",
     "output_type": "error",
     "traceback": [
      "Error in t(true_history[1:3, , -1]): object 'true_history' not found\nTraceback:\n",
      "1. plot_particle_filter(filter$history(), true_history, incidence$day)",
      "2. matpoints(times[1:obs_end], t(true_history[1:3, , -1]), pch = 19, \n .     col = cols)   # at line 13-14 of file <text>",
      "3. matplot(x = x, y = y, type = type, lty = lty, lwd = lwd, pch = pch, \n .     col = col, add = TRUE, ...)",
      "4. t(true_history[1:3, , -1])   # at line 13-14 of file <text>"
     ]
    },
    {
     "data": {
      "image/png": "[encoded data removed]",
      "text/plain": [
       "plot without title"
      ]
     },
     "metadata": {
      "image/png": {
       "height": 420,
       "width": 420
      }
     },
     "output_type": "display_data"
    }
   ],
   "source": [
    "plot_particle_filter <- function(history, true_history, times, obs_end = NULL) {\n",
    "  if (is.null(obs_end)) {\n",
    "    obs_end <- max(times)\n",
    "  }\n",
    "\n",
    "  par(mar = c(4.1, 5.1, 0.5, 0.5), las = 1)\n",
    "  cols <- c(S = \"#8c8cd9\", I = \"#cc0044\", R = \"#999966\")\n",
    "  matplot(times, t(history[1, , -1]), type = \"l\",\n",
    "          xlab = \"Time\", ylab = \"Number of individuals\",\n",
    "          col = cols[[\"S\"]], lty = 1, ylim = range(history))\n",
    "  matlines(times, t(history[2, , -1]), col = cols[[\"I\"]], lty = 1)\n",
    "  matlines(times, t(history[3, , -1]), col = cols[[\"R\"]], lty = 1)\n",
    "  matpoints(times[1:obs_end], t(true_history[1:3, , -1]), pch = 19,\n",
    "            col = cols)\n",
    "  legend(\"left\", lwd = 1, col = cols, legend = names(cols), bty = \"n\")\n",
    "}\n",
    "\n",
    "#true_history <- readRDS(\"sir_true_history.rds\")\n",
    "plot_particle_filter(filter$history(), true_history, incidence$day)"
   ]
  },
  {
   "cell_type": "markdown",
   "id": "4a59a44a-dd10-4e65-9ebe-1d2e4d605be9",
   "metadata": {},
   "source": [
    "Doing the same with a β and γ which are further from the truth yields a lower likelihood:"
   ]
  },
  {
   "cell_type": "code",
   "execution_count": 35,
   "id": "909e7478-202b-4567-9c88-77fea399905e",
   "metadata": {},
   "outputs": [
    {
     "data": {
      "text/html": [
       "-260.193032147692"
      ],
      "text/latex": [
       "-260.193032147692"
      ],
      "text/markdown": [
       "-260.193032147692"
      ],
      "text/plain": [
       "[1] -260.193"
      ]
     },
     "metadata": {},
     "output_type": "display_data"
    },
    {
     "ename": "ERROR",
     "evalue": "Error in t(true_history[1:3, , -1]): object 'true_history' not found\n",
     "output_type": "error",
     "traceback": [
      "Error in t(true_history[1:3, , -1]): object 'true_history' not found\nTraceback:\n",
      "1. plot_particle_filter(filter$history(), true_history, incidence$day)",
      "2. matpoints(times[1:obs_end], t(true_history[1:3, , -1]), pch = 19, \n .     col = cols)   # at line 13-14 of file <text>",
      "3. matplot(x = x, y = y, type = type, lty = lty, lwd = lwd, pch = pch, \n .     col = col, add = TRUE, ...)",
      "4. t(true_history[1:3, , -1])   # at line 13-14 of file <text>"
     ]
    },
    {
     "data": {
      "image/png": "[encoded data removed]",
      "text/plain": [
       "plot without title"
      ]
     },
     "metadata": {
      "image/png": {
       "height": 420,
       "width": 420
      }
     },
     "output_type": "display_data"
    }
   ],
   "source": [
    "filter$run(save_history = TRUE, pars = list(dt = dt, beta = 0.4, gamma = 0.2))\n",
    "plot_particle_filter(filter$history(), true_history, incidence$day)"
   ]
  },
  {
   "cell_type": "markdown",
   "id": "244d31f7-5f9e-4ae8-ac2a-b53f1561e6fa",
   "metadata": {},
   "source": [
    "**Using MCMC to infer parameters**\n",
    "Using this, we can do a MCMC using the Metropolis-Hastings algorithm to infer the values of β and γ from daily case counts. Let’s first describe the parameters we wish to infer, giving a minimum, maximum. For γ we will also apply a gamma prior with shape 1 and rate 0.2: Γ(1,0.2):"
   ]
  },
  {
   "cell_type": "code",
   "execution_count": 28,
   "id": "490e1263-737a-4ebb-a32a-84ba3114f16e",
   "metadata": {},
   "outputs": [],
   "source": [
    "beta <- mcstate::pmcmc_parameter(\"beta\", 0.2, min = 0)\n",
    "gamma <- mcstate::pmcmc_parameter(\"gamma\", 0.1, min = 0, prior = function(p)\n",
    "  dgamma(p, shape = 1, scale = 0.2, log = TRUE))\n",
    "\n",
    "proposal_matrix <- diag(0.1, 2)\n",
    "mcmc_pars <- mcstate::pmcmc_parameters$new(list(beta = beta, gamma = gamma),\n",
    "                                           proposal_matrix)"
   ]
  },
  {
   "cell_type": "markdown",
   "id": "26748dba-cdf7-4fe2-b76e-5cab3c37041d",
   "metadata": {},
   "source": [
    "The proposals for each MCMC step are also set here. Proposals are drawn from a multi-variate normal distribution, with the variance-covariance matrix set here. In this case we have simply set βn+1∼N(βn,0.01) and γn+1∼N(γn,0.01) so there is no covariance. We show how to improve this below.\n",
    "\n",
    "The sampler can now be run using these parameters, and the particle filter defined above."
   ]
  },
  {
   "cell_type": "code",
   "execution_count": 29,
   "id": "429c70fe-f90f-4409-a7ec-7e7975600cc9",
   "metadata": {},
   "outputs": [],
   "source": [
    "n_steps <- 500\n",
    "n_burnin <- 200"
   ]
  },
  {
   "cell_type": "markdown",
   "id": "c08d0707-9d7a-4fe0-a36f-64e74d6228c5",
   "metadata": {},
   "source": [
    "Taking 500 steps on a single chain:"
   ]
  },
  {
   "cell_type": "code",
   "execution_count": 31,
   "id": "9dee119d-627c-4b55-9de6-46d8e22b8cf4",
   "metadata": {},
   "outputs": [
    {
     "name": "stderr",
     "output_type": "stream",
     "text": [
      "Running chain 1 / 1\n",
      "\n",
      "\n",
      "Step 3 / 500 [-------------------------------------] ETA 42s | 00:00:00 so far\n",
      "\n",
      "Step 4 / 500 [-------------------------------------] ETA 46s | 00:00:00 so far\n",
      "\n",
      "Step 5 / 500 [-------------------------------------] ETA 44s | 00:00:00 so far\n",
      "\n",
      "Step 6 / 500 [-------------------------------------] ETA 43s | 00:00:00 so far\n",
      "\n",
      "Step 7 / 500 [>------------------------------------] ETA 42s | 00:00:00 so far\n",
      "\n",
      "Step 8 / 500 [>------------------------------------] ETA 41s | 00:00:00 so far\n",
      "\n",
      "Step 9 / 500 [>------------------------------------] ETA 40s | 00:00:00 so far\n",
      "\n",
      "Step 10 / 500 [>-----------------------------------] ETA 39s | 00:00:00 so far\n",
      "\n",
      "Step 11 / 500 [>-----------------------------------] ETA 38s | 00:00:00 so far\n",
      "\n",
      "Step 12 / 500 [>-----------------------------------] ETA 38s | 00:00:00 so far\n",
      "\n",
      "Step 13 / 500 [>-----------------------------------] ETA 39s | 00:00:01 so far\n",
      "\n",
      "Step 14 / 500 [>-----------------------------------] ETA 38s | 00:00:01 so far\n",
      "\n",
      "Step 15 / 500 [>-----------------------------------] ETA 38s | 00:00:01 so far\n",
      "\n",
      "Step 16 / 500 [>-----------------------------------] ETA 37s | 00:00:01 so far\n",
      "\n",
      "Step 17 / 500 [>-----------------------------------] ETA 37s | 00:00:01 so far\n",
      "\n",
      "Step 18 / 500 [>-----------------------------------] ETA 37s | 00:00:01 so far\n",
      "\n",
      "Step 19 / 500 [>-----------------------------------] ETA 36s | 00:00:01 so far\n",
      "\n",
      "Step 20 / 500 [>-----------------------------------] ETA 36s | 00:00:01 so far\n",
      "\n",
      "Step 21 / 500 [=>----------------------------------] ETA 36s | 00:00:01 so far\n",
      "\n",
      "Step 22 / 500 [=>----------------------------------] ETA 35s | 00:00:01 so far\n",
      "\n",
      "Step 23 / 500 [=>----------------------------------] ETA 37s | 00:00:01 so far\n",
      "\n",
      "Step 24 / 500 [=>----------------------------------] ETA 37s | 00:00:01 so far\n",
      "\n",
      "Step 25 / 500 [=>----------------------------------] ETA 36s | 00:00:01 so far\n",
      "\n",
      "Step 26 / 500 [=>----------------------------------] ETA 36s | 00:00:01 so far\n",
      "\n",
      "Step 27 / 500 [=>----------------------------------] ETA 36s | 00:00:02 so far\n",
      "\n",
      "Step 28 / 500 [=>----------------------------------] ETA 36s | 00:00:02 so far\n",
      "\n",
      "Step 29 / 500 [=>----------------------------------] ETA 35s | 00:00:02 so far\n",
      "\n",
      "Step 30 / 500 [=>----------------------------------] ETA 35s | 00:00:02 so far\n",
      "\n",
      "Step 31 / 500 [=>----------------------------------] ETA 35s | 00:00:02 so far\n",
      "\n",
      "Step 32 / 500 [=>----------------------------------] ETA 34s | 00:00:02 so far\n",
      "\n",
      "Step 33 / 500 [=>----------------------------------] ETA 34s | 00:00:02 so far\n",
      "\n",
      "Step 34 / 500 [=>----------------------------------] ETA 34s | 00:00:02 so far\n",
      "\n",
      "Step 35 / 500 [==>---------------------------------] ETA 34s | 00:00:02 so far\n",
      "\n",
      "Step 36 / 500 [==>---------------------------------] ETA 34s | 00:00:02 so far\n",
      "\n",
      "Step 37 / 500 [==>---------------------------------] ETA 34s | 00:00:02 so far\n",
      "\n",
      "Step 38 / 500 [==>---------------------------------] ETA 33s | 00:00:02 so far\n",
      "\n",
      "Step 39 / 500 [==>---------------------------------] ETA 33s | 00:00:02 so far\n",
      "\n",
      "Step 40 / 500 [==>---------------------------------] ETA 33s | 00:00:02 so far\n",
      "\n",
      "Step 41 / 500 [==>---------------------------------] ETA 33s | 00:00:02 so far\n",
      "\n",
      "Step 42 / 500 [==>---------------------------------] ETA 33s | 00:00:03 so far\n",
      "\n",
      "Step 43 / 500 [==>---------------------------------] ETA 33s | 00:00:03 so far\n",
      "\n",
      "Step 44 / 500 [==>---------------------------------] ETA 33s | 00:00:03 so far\n",
      "\n",
      "Step 45 / 500 [==>---------------------------------] ETA 33s | 00:00:03 so far\n",
      "\n",
      "Step 46 / 500 [==>---------------------------------] ETA 32s | 00:00:03 so far\n",
      "\n",
      "Step 47 / 500 [==>---------------------------------] ETA 32s | 00:00:03 so far\n",
      "\n",
      "Step 48 / 500 [==>---------------------------------] ETA 32s | 00:00:03 so far\n",
      "\n",
      "Step 49 / 500 [===>--------------------------------] ETA 32s | 00:00:03 so far\n",
      "\n",
      "Step 50 / 500 [===>--------------------------------] ETA 32s | 00:00:03 so far\n",
      "\n",
      "Step 51 / 500 [===>--------------------------------] ETA 32s | 00:00:03 so far\n",
      "\n",
      "Step 52 / 500 [===>--------------------------------] ETA 32s | 00:00:03 so far\n",
      "\n",
      "Step 53 / 500 [===>--------------------------------] ETA 32s | 00:00:03 so far\n",
      "\n",
      "Step 54 / 500 [===>--------------------------------] ETA 32s | 00:00:03 so far\n",
      "\n",
      "Step 55 / 500 [===>--------------------------------] ETA 32s | 00:00:03 so far\n",
      "\n",
      "Step 56 / 500 [===>--------------------------------] ETA 32s | 00:00:03 so far\n",
      "\n",
      "Step 57 / 500 [===>--------------------------------] ETA 32s | 00:00:04 so far\n",
      "\n",
      "Step 58 / 500 [===>--------------------------------] ETA 32s | 00:00:04 so far\n",
      "\n",
      "Step 59 / 500 [===>--------------------------------] ETA 31s | 00:00:04 so far\n",
      "\n",
      "Step 60 / 500 [===>--------------------------------] ETA 31s | 00:00:04 so far\n",
      "\n",
      "Step 61 / 500 [===>--------------------------------] ETA 32s | 00:00:04 so far\n",
      "\n",
      "Step 62 / 500 [===>--------------------------------] ETA 32s | 00:00:04 so far\n",
      "\n",
      "Step 63 / 500 [====>-------------------------------] ETA 32s | 00:00:04 so far\n",
      "\n",
      "Step 64 / 500 [====>-------------------------------] ETA 31s | 00:00:04 so far\n",
      "\n",
      "Step 65 / 500 [====>-------------------------------] ETA 31s | 00:00:04 so far\n",
      "\n",
      "Step 66 / 500 [====>-------------------------------] ETA 31s | 00:00:04 so far\n",
      "\n",
      "Step 67 / 500 [====>-------------------------------] ETA 31s | 00:00:04 so far\n",
      "\n",
      "Step 68 / 500 [====>-------------------------------] ETA 31s | 00:00:04 so far\n",
      "\n",
      "Step 69 / 500 [====>-------------------------------] ETA 31s | 00:00:04 so far\n",
      "\n",
      "Step 70 / 500 [====>-------------------------------] ETA 31s | 00:00:04 so far\n",
      "\n",
      "Step 71 / 500 [====>-------------------------------] ETA 31s | 00:00:05 so far\n",
      "\n",
      "Step 72 / 500 [====>-------------------------------] ETA 30s | 00:00:05 so far\n",
      "\n",
      "Step 73 / 500 [====>-------------------------------] ETA 30s | 00:00:05 so far\n",
      "\n",
      "Step 74 / 500 [====>-------------------------------] ETA 30s | 00:00:05 so far\n",
      "\n",
      "Step 75 / 500 [====>-------------------------------] ETA 30s | 00:00:05 so far\n",
      "\n",
      "Step 76 / 500 [====>-------------------------------] ETA 30s | 00:00:05 so far\n",
      "\n",
      "Step 77 / 500 [=====>------------------------------] ETA 30s | 00:00:05 so far\n",
      "\n",
      "Step 78 / 500 [=====>------------------------------] ETA 30s | 00:00:05 so far\n",
      "\n",
      "Step 79 / 500 [=====>------------------------------] ETA 30s | 00:00:05 so far\n",
      "\n",
      "Step 80 / 500 [=====>------------------------------] ETA 30s | 00:00:05 so far\n",
      "\n",
      "Step 81 / 500 [=====>------------------------------] ETA 30s | 00:00:05 so far\n",
      "\n",
      "Step 82 / 500 [=====>------------------------------] ETA 30s | 00:00:05 so far\n",
      "\n",
      "Step 83 / 500 [=====>------------------------------] ETA 29s | 00:00:05 so far\n",
      "\n",
      "Step 84 / 500 [=====>------------------------------] ETA 29s | 00:00:05 so far\n",
      "\n",
      "Step 85 / 500 [=====>------------------------------] ETA 29s | 00:00:05 so far\n",
      "\n",
      "Step 86 / 500 [=====>------------------------------] ETA 29s | 00:00:06 so far\n",
      "\n",
      "Step 87 / 500 [=====>------------------------------] ETA 29s | 00:00:06 so far\n",
      "\n",
      "Step 88 / 500 [=====>------------------------------] ETA 29s | 00:00:06 so far\n",
      "\n",
      "Step 89 / 500 [=====>------------------------------] ETA 29s | 00:00:06 so far\n",
      "\n",
      "Step 90 / 500 [=====>------------------------------] ETA 29s | 00:00:06 so far\n",
      "\n",
      "Step 91 / 500 [======>-----------------------------] ETA 29s | 00:00:06 so far\n",
      "\n",
      "Step 92 / 500 [======>-----------------------------] ETA 29s | 00:00:06 so far\n",
      "\n",
      "Step 93 / 500 [======>-----------------------------] ETA 28s | 00:00:06 so far\n",
      "\n",
      "Step 94 / 500 [======>-----------------------------] ETA 28s | 00:00:06 so far\n",
      "\n",
      "Step 95 / 500 [======>-----------------------------] ETA 28s | 00:00:06 so far\n",
      "\n",
      "Step 96 / 500 [======>-----------------------------] ETA 28s | 00:00:06 so far\n",
      "\n",
      "Step 97 / 500 [======>-----------------------------] ETA 28s | 00:00:06 so far\n",
      "\n",
      "Step 98 / 500 [======>-----------------------------] ETA 28s | 00:00:06 so far\n",
      "\n",
      "Step 99 / 500 [======>-----------------------------] ETA 28s | 00:00:06 so far\n",
      "\n",
      "Step 100 / 500 [======>----------------------------] ETA 28s | 00:00:06 so far\n",
      "\n",
      "Step 101 / 500 [======>----------------------------] ETA 28s | 00:00:07 so far\n",
      "\n",
      "Step 102 / 500 [======>----------------------------] ETA 28s | 00:00:07 so far\n",
      "\n",
      "Step 103 / 500 [======>----------------------------] ETA 28s | 00:00:07 so far\n",
      "\n",
      "Step 104 / 500 [======>----------------------------] ETA 28s | 00:00:07 so far\n",
      "\n",
      "Step 105 / 500 [======>----------------------------] ETA 28s | 00:00:07 so far\n",
      "\n",
      "Step 106 / 500 [======>----------------------------] ETA 27s | 00:00:07 so far\n",
      "\n",
      "Step 107 / 500 [======>----------------------------] ETA 27s | 00:00:07 so far\n",
      "\n",
      "Step 108 / 500 [=======>---------------------------] ETA 27s | 00:00:07 so far\n",
      "\n",
      "Step 109 / 500 [=======>---------------------------] ETA 27s | 00:00:07 so far\n",
      "\n",
      "Step 110 / 500 [=======>---------------------------] ETA 27s | 00:00:07 so far\n",
      "\n",
      "Step 111 / 500 [=======>---------------------------] ETA 27s | 00:00:07 so far\n",
      "\n",
      "Step 112 / 500 [=======>---------------------------] ETA 27s | 00:00:07 so far\n",
      "\n",
      "Step 113 / 500 [=======>---------------------------] ETA 27s | 00:00:07 so far\n",
      "\n",
      "Step 114 / 500 [=======>---------------------------] ETA 27s | 00:00:07 so far\n",
      "\n",
      "Step 115 / 500 [=======>---------------------------] ETA 27s | 00:00:07 so far\n",
      "\n",
      "Step 116 / 500 [=======>---------------------------] ETA 26s | 00:00:07 so far\n",
      "\n",
      "Step 117 / 500 [=======>---------------------------] ETA 26s | 00:00:08 so far\n",
      "\n",
      "Step 118 / 500 [=======>---------------------------] ETA 26s | 00:00:08 so far\n",
      "\n",
      "Step 119 / 500 [=======>---------------------------] ETA 26s | 00:00:08 so far\n",
      "\n",
      "Step 120 / 500 [=======>---------------------------] ETA 26s | 00:00:08 so far\n",
      "\n",
      "Step 121 / 500 [=======>---------------------------] ETA 26s | 00:00:08 so far\n",
      "\n",
      "Step 122 / 500 [========>--------------------------] ETA 26s | 00:00:08 so far\n",
      "\n",
      "Step 123 / 500 [========>--------------------------] ETA 26s | 00:00:08 so far\n",
      "\n",
      "Step 124 / 500 [========>--------------------------] ETA 26s | 00:00:08 so far\n",
      "\n",
      "Step 125 / 500 [========>--------------------------] ETA 26s | 00:00:08 so far\n",
      "\n",
      "Step 126 / 500 [========>--------------------------] ETA 26s | 00:00:08 so far\n",
      "\n",
      "Step 127 / 500 [========>--------------------------] ETA 26s | 00:00:08 so far\n",
      "\n",
      "Step 128 / 500 [========>--------------------------] ETA 25s | 00:00:08 so far\n",
      "\n",
      "Step 129 / 500 [========>--------------------------] ETA 25s | 00:00:08 so far\n",
      "\n",
      "Step 130 / 500 [========>--------------------------] ETA 25s | 00:00:08 so far\n",
      "\n",
      "Step 131 / 500 [========>--------------------------] ETA 25s | 00:00:08 so far\n",
      "\n",
      "Step 132 / 500 [========>--------------------------] ETA 25s | 00:00:09 so far\n",
      "\n",
      "Step 133 / 500 [========>--------------------------] ETA 25s | 00:00:09 so far\n",
      "\n",
      "Step 134 / 500 [========>--------------------------] ETA 25s | 00:00:09 so far\n",
      "\n",
      "Step 135 / 500 [========>--------------------------] ETA 25s | 00:00:09 so far\n",
      "\n",
      "Step 136 / 500 [=========>-------------------------] ETA 25s | 00:00:09 so far\n",
      "\n",
      "Step 137 / 500 [=========>-------------------------] ETA 25s | 00:00:09 so far\n",
      "\n",
      "Step 138 / 500 [=========>-------------------------] ETA 25s | 00:00:09 so far\n",
      "\n",
      "Step 139 / 500 [=========>-------------------------] ETA 25s | 00:00:09 so far\n",
      "\n",
      "Step 140 / 500 [=========>-------------------------] ETA 25s | 00:00:09 so far\n",
      "\n",
      "Step 141 / 500 [=========>-------------------------] ETA 24s | 00:00:09 so far\n",
      "\n",
      "Step 142 / 500 [=========>-------------------------] ETA 24s | 00:00:09 so far\n",
      "\n",
      "Step 143 / 500 [=========>-------------------------] ETA 24s | 00:00:09 so far\n",
      "\n",
      "Step 144 / 500 [=========>-------------------------] ETA 24s | 00:00:09 so far\n",
      "\n",
      "Step 145 / 500 [=========>-------------------------] ETA 24s | 00:00:09 so far\n",
      "\n",
      "Step 146 / 500 [=========>-------------------------] ETA 24s | 00:00:09 so far\n",
      "\n",
      "Step 147 / 500 [=========>-------------------------] ETA 24s | 00:00:09 so far\n",
      "\n",
      "Step 148 / 500 [=========>-------------------------] ETA 24s | 00:00:10 so far\n",
      "\n",
      "Step 149 / 500 [=========>-------------------------] ETA 24s | 00:00:10 so far\n",
      "\n",
      "Step 150 / 500 [=========>-------------------------] ETA 24s | 00:00:10 so far\n",
      "\n",
      "Step 151 / 500 [==========>------------------------] ETA 24s | 00:00:10 so far\n",
      "\n",
      "Step 152 / 500 [==========>------------------------] ETA 24s | 00:00:10 so far\n",
      "\n",
      "Step 153 / 500 [==========>------------------------] ETA 24s | 00:00:10 so far\n",
      "\n",
      "Step 154 / 500 [==========>------------------------] ETA 23s | 00:00:10 so far\n",
      "\n",
      "Step 155 / 500 [==========>------------------------] ETA 23s | 00:00:10 so far\n",
      "\n",
      "Step 156 / 500 [==========>------------------------] ETA 23s | 00:00:10 so far\n",
      "\n",
      "Step 157 / 500 [==========>------------------------] ETA 23s | 00:00:10 so far\n",
      "\n",
      "Step 158 / 500 [==========>------------------------] ETA 23s | 00:00:10 so far\n",
      "\n",
      "Step 159 / 500 [==========>------------------------] ETA 23s | 00:00:10 so far\n",
      "\n",
      "Step 160 / 500 [==========>------------------------] ETA 23s | 00:00:10 so far\n",
      "\n",
      "Step 161 / 500 [==========>------------------------] ETA 23s | 00:00:10 so far\n",
      "\n",
      "Step 162 / 500 [==========>------------------------] ETA 23s | 00:00:10 so far\n",
      "\n",
      "Step 163 / 500 [==========>------------------------] ETA 23s | 00:00:10 so far\n",
      "\n",
      "Step 164 / 500 [==========>------------------------] ETA 23s | 00:00:11 so far\n",
      "\n",
      "Step 165 / 500 [===========>-----------------------] ETA 23s | 00:00:11 so far\n",
      "\n",
      "Step 166 / 500 [===========>-----------------------] ETA 23s | 00:00:11 so far\n",
      "\n",
      "Step 167 / 500 [===========>-----------------------] ETA 22s | 00:00:11 so far\n",
      "\n",
      "Step 168 / 500 [===========>-----------------------] ETA 22s | 00:00:11 so far\n",
      "\n",
      "Step 169 / 500 [===========>-----------------------] ETA 22s | 00:00:11 so far\n",
      "\n",
      "Step 170 / 500 [===========>-----------------------] ETA 22s | 00:00:11 so far\n",
      "\n",
      "Step 171 / 500 [===========>-----------------------] ETA 22s | 00:00:11 so far\n",
      "\n",
      "Step 172 / 500 [===========>-----------------------] ETA 22s | 00:00:11 so far\n",
      "\n",
      "Step 173 / 500 [===========>-----------------------] ETA 22s | 00:00:11 so far\n",
      "\n",
      "Step 174 / 500 [===========>-----------------------] ETA 22s | 00:00:11 so far\n",
      "\n",
      "Step 175 / 500 [===========>-----------------------] ETA 22s | 00:00:11 so far\n",
      "\n",
      "Step 176 / 500 [===========>-----------------------] ETA 22s | 00:00:11 so far\n",
      "\n",
      "Step 177 / 500 [===========>-----------------------] ETA 22s | 00:00:11 so far\n",
      "\n",
      "Step 178 / 500 [===========>-----------------------] ETA 22s | 00:00:11 so far\n",
      "\n",
      "Step 179 / 500 [============>----------------------] ETA 22s | 00:00:12 so far\n",
      "\n",
      "Step 180 / 500 [============>----------------------] ETA 22s | 00:00:12 so far\n",
      "\n",
      "Step 181 / 500 [============>----------------------] ETA 22s | 00:00:12 so far\n",
      "\n",
      "Step 182 / 500 [============>----------------------] ETA 21s | 00:00:12 so far\n",
      "\n",
      "Step 183 / 500 [============>----------------------] ETA 21s | 00:00:12 so far\n",
      "\n",
      "Step 184 / 500 [============>----------------------] ETA 21s | 00:00:12 so far\n",
      "\n",
      "Step 185 / 500 [============>----------------------] ETA 21s | 00:00:12 so far\n",
      "\n",
      "Step 186 / 500 [============>----------------------] ETA 21s | 00:00:12 so far\n",
      "\n",
      "Step 187 / 500 [============>----------------------] ETA 21s | 00:00:12 so far\n",
      "\n",
      "Step 188 / 500 [============>----------------------] ETA 21s | 00:00:12 so far\n",
      "\n",
      "Step 189 / 500 [============>----------------------] ETA 21s | 00:00:12 so far\n",
      "\n",
      "Step 190 / 500 [============>----------------------] ETA 21s | 00:00:12 so far\n",
      "\n",
      "Step 191 / 500 [============>----------------------] ETA 21s | 00:00:12 so far\n",
      "\n",
      "Step 192 / 500 [============>----------------------] ETA 21s | 00:00:12 so far\n",
      "\n",
      "Step 193 / 500 [=============>---------------------] ETA 21s | 00:00:13 so far\n",
      "\n",
      "Step 194 / 500 [=============>---------------------] ETA 21s | 00:00:13 so far\n",
      "\n",
      "Step 195 / 500 [=============>---------------------] ETA 21s | 00:00:13 so far\n",
      "\n",
      "Step 196 / 500 [=============>---------------------] ETA 21s | 00:00:13 so far\n",
      "\n",
      "Step 197 / 500 [=============>---------------------] ETA 20s | 00:00:13 so far\n",
      "\n",
      "Step 198 / 500 [=============>---------------------] ETA 20s | 00:00:13 so far\n",
      "\n",
      "Step 199 / 500 [=============>---------------------] ETA 20s | 00:00:13 so far\n",
      "\n",
      "Step 200 / 500 [=============>---------------------] ETA 20s | 00:00:13 so far\n",
      "\n",
      "Step 201 / 500 [=============>---------------------] ETA 20s | 00:00:13 so far\n",
      "\n",
      "Step 202 / 500 [=============>---------------------] ETA 20s | 00:00:13 so far\n",
      "\n",
      "Step 203 / 500 [=============>---------------------] ETA 20s | 00:00:13 so far\n",
      "\n",
      "Step 204 / 500 [=============>---------------------] ETA 20s | 00:00:13 so far\n",
      "\n",
      "Step 205 / 500 [=============>---------------------] ETA 20s | 00:00:13 so far\n",
      "\n",
      "Step 206 / 500 [=============>---------------------] ETA 20s | 00:00:13 so far\n",
      "\n",
      "Step 207 / 500 [=============>---------------------] ETA 20s | 00:00:13 so far\n",
      "\n",
      "Step 208 / 500 [==============>--------------------] ETA 20s | 00:00:14 so far\n",
      "\n",
      "Step 209 / 500 [==============>--------------------] ETA 20s | 00:00:14 so far\n",
      "\n",
      "Step 210 / 500 [==============>--------------------] ETA 20s | 00:00:14 so far\n",
      "\n",
      "Step 211 / 500 [==============>--------------------] ETA 19s | 00:00:14 so far\n",
      "\n",
      "Step 212 / 500 [==============>--------------------] ETA 19s | 00:00:14 so far\n",
      "\n",
      "Step 213 / 500 [==============>--------------------] ETA 19s | 00:00:14 so far\n",
      "\n",
      "Step 214 / 500 [==============>--------------------] ETA 19s | 00:00:14 so far\n",
      "\n",
      "Step 215 / 500 [==============>--------------------] ETA 19s | 00:00:14 so far\n",
      "\n",
      "Step 216 / 500 [==============>--------------------] ETA 19s | 00:00:14 so far\n",
      "\n",
      "Step 217 / 500 [==============>--------------------] ETA 19s | 00:00:14 so far\n",
      "\n",
      "Step 218 / 500 [==============>--------------------] ETA 19s | 00:00:14 so far\n",
      "\n",
      "Step 219 / 500 [==============>--------------------] ETA 19s | 00:00:14 so far\n",
      "\n",
      "Step 220 / 500 [==============>--------------------] ETA 19s | 00:00:14 so far\n",
      "\n",
      "Step 221 / 500 [==============>--------------------] ETA 19s | 00:00:14 so far\n",
      "\n",
      "Step 222 / 500 [===============>-------------------] ETA 19s | 00:00:14 so far\n",
      "\n",
      "Step 223 / 500 [===============>-------------------] ETA 19s | 00:00:14 so far\n",
      "\n",
      "Step 224 / 500 [===============>-------------------] ETA 19s | 00:00:15 so far\n",
      "\n",
      "Step 225 / 500 [===============>-------------------] ETA 18s | 00:00:15 so far\n",
      "\n",
      "Step 226 / 500 [===============>-------------------] ETA 18s | 00:00:15 so far\n",
      "\n",
      "Step 227 / 500 [===============>-------------------] ETA 18s | 00:00:15 so far\n",
      "\n",
      "Step 228 / 500 [===============>-------------------] ETA 18s | 00:00:15 so far\n",
      "\n",
      "Step 229 / 500 [===============>-------------------] ETA 18s | 00:00:15 so far\n",
      "\n",
      "Step 230 / 500 [===============>-------------------] ETA 18s | 00:00:15 so far\n",
      "\n",
      "Step 231 / 500 [===============>-------------------] ETA 18s | 00:00:15 so far\n",
      "\n",
      "Step 232 / 500 [===============>-------------------] ETA 18s | 00:00:15 so far\n",
      "\n",
      "Step 233 / 500 [===============>-------------------] ETA 18s | 00:00:15 so far\n",
      "\n",
      "Step 234 / 500 [===============>-------------------] ETA 18s | 00:00:15 so far\n",
      "\n",
      "Step 235 / 500 [===============>-------------------] ETA 18s | 00:00:15 so far\n",
      "\n",
      "Step 236 / 500 [================>------------------] ETA 18s | 00:00:15 so far\n",
      "\n",
      "Step 237 / 500 [================>------------------] ETA 18s | 00:00:15 so far\n",
      "\n",
      "Step 238 / 500 [================>------------------] ETA 18s | 00:00:15 so far\n",
      "\n",
      "Step 239 / 500 [================>------------------] ETA 18s | 00:00:16 so far\n",
      "\n",
      "Step 240 / 500 [================>------------------] ETA 17s | 00:00:16 so far\n",
      "\n",
      "Step 241 / 500 [================>------------------] ETA 17s | 00:00:16 so far\n",
      "\n",
      "Step 242 / 500 [================>------------------] ETA 17s | 00:00:16 so far\n",
      "\n",
      "Step 243 / 500 [================>------------------] ETA 17s | 00:00:16 so far\n",
      "\n",
      "Step 244 / 500 [================>------------------] ETA 17s | 00:00:16 so far\n",
      "\n",
      "Step 245 / 500 [================>------------------] ETA 17s | 00:00:16 so far\n",
      "\n",
      "Step 246 / 500 [================>------------------] ETA 17s | 00:00:16 so far\n",
      "\n",
      "Step 247 / 500 [================>------------------] ETA 17s | 00:00:16 so far\n",
      "\n",
      "Step 248 / 500 [================>------------------] ETA 17s | 00:00:16 so far\n",
      "\n",
      "Step 249 / 500 [================>------------------] ETA 17s | 00:00:16 so far\n",
      "\n",
      "Step 250 / 500 [=================>-----------------] ETA 17s | 00:00:16 so far\n",
      "\n",
      "Step 251 / 500 [=================>-----------------] ETA 17s | 00:00:16 so far\n",
      "\n",
      "Step 252 / 500 [=================>-----------------] ETA 17s | 00:00:16 so far\n",
      "\n",
      "Step 253 / 500 [=================>-----------------] ETA 17s | 00:00:16 so far\n",
      "\n",
      "Step 254 / 500 [=================>-----------------] ETA 16s | 00:00:16 so far\n",
      "\n",
      "Step 255 / 500 [=================>-----------------] ETA 16s | 00:00:17 so far\n",
      "\n",
      "Step 256 / 500 [=================>-----------------] ETA 16s | 00:00:17 so far\n",
      "\n",
      "Step 257 / 500 [=================>-----------------] ETA 16s | 00:00:17 so far\n",
      "\n",
      "Step 258 / 500 [=================>-----------------] ETA 16s | 00:00:17 so far\n",
      "\n",
      "Step 259 / 500 [=================>-----------------] ETA 16s | 00:00:17 so far\n",
      "\n",
      "Step 260 / 500 [=================>-----------------] ETA 16s | 00:00:17 so far\n",
      "\n",
      "Step 261 / 500 [=================>-----------------] ETA 16s | 00:00:17 so far\n",
      "\n",
      "Step 262 / 500 [=================>-----------------] ETA 16s | 00:00:17 so far\n",
      "\n",
      "Step 263 / 500 [=================>-----------------] ETA 16s | 00:00:17 so far\n",
      "\n",
      "Step 264 / 500 [=================>-----------------] ETA 16s | 00:00:17 so far\n",
      "\n",
      "Step 265 / 500 [==================>----------------] ETA 16s | 00:00:17 so far\n",
      "\n",
      "Step 266 / 500 [==================>----------------] ETA 16s | 00:00:17 so far\n",
      "\n",
      "Step 267 / 500 [==================>----------------] ETA 16s | 00:00:17 so far\n",
      "\n",
      "Step 268 / 500 [==================>----------------] ETA 16s | 00:00:17 so far\n",
      "\n",
      "Step 269 / 500 [==================>----------------] ETA 15s | 00:00:18 so far\n",
      "\n",
      "Step 270 / 500 [==================>----------------] ETA 15s | 00:00:18 so far\n",
      "\n",
      "Step 271 / 500 [==================>----------------] ETA 15s | 00:00:18 so far\n",
      "\n",
      "Step 272 / 500 [==================>----------------] ETA 15s | 00:00:18 so far\n",
      "\n",
      "Step 273 / 500 [==================>----------------] ETA 15s | 00:00:18 so far\n",
      "\n",
      "Step 274 / 500 [==================>----------------] ETA 15s | 00:00:18 so far\n",
      "\n",
      "Step 275 / 500 [==================>----------------] ETA 15s | 00:00:18 so far\n",
      "\n",
      "Step 276 / 500 [==================>----------------] ETA 15s | 00:00:18 so far\n",
      "\n",
      "Step 277 / 500 [==================>----------------] ETA 15s | 00:00:18 so far\n",
      "\n",
      "Step 278 / 500 [==================>----------------] ETA 15s | 00:00:18 so far\n",
      "\n",
      "Step 279 / 500 [===================>---------------] ETA 15s | 00:00:18 so far\n",
      "\n",
      "Step 280 / 500 [===================>---------------] ETA 15s | 00:00:18 so far\n",
      "\n",
      "Step 281 / 500 [===================>---------------] ETA 15s | 00:00:18 so far\n",
      "\n",
      "Step 282 / 500 [===================>---------------] ETA 15s | 00:00:18 so far\n",
      "\n",
      "Step 283 / 500 [===================>---------------] ETA 15s | 00:00:18 so far\n",
      "\n",
      "Step 284 / 500 [===================>---------------] ETA 14s | 00:00:19 so far\n",
      "\n",
      "Step 285 / 500 [===================>---------------] ETA 14s | 00:00:19 so far\n",
      "\n",
      "Step 286 / 500 [===================>---------------] ETA 14s | 00:00:19 so far\n",
      "\n",
      "Step 287 / 500 [===================>---------------] ETA 14s | 00:00:19 so far\n",
      "\n",
      "Step 288 / 500 [===================>---------------] ETA 14s | 00:00:19 so far\n",
      "\n",
      "Step 289 / 500 [===================>---------------] ETA 14s | 00:00:19 so far\n",
      "\n",
      "Step 290 / 500 [===================>---------------] ETA 14s | 00:00:19 so far\n",
      "\n",
      "Step 291 / 500 [===================>---------------] ETA 14s | 00:00:19 so far\n",
      "\n",
      "Step 292 / 500 [===================>---------------] ETA 14s | 00:00:19 so far\n",
      "\n",
      "Step 293 / 500 [====================>--------------] ETA 14s | 00:00:19 so far\n",
      "\n",
      "Step 294 / 500 [====================>--------------] ETA 14s | 00:00:19 so far\n",
      "\n",
      "Step 295 / 500 [====================>--------------] ETA 14s | 00:00:19 so far\n",
      "\n",
      "Step 296 / 500 [====================>--------------] ETA 14s | 00:00:19 so far\n",
      "\n",
      "Step 297 / 500 [====================>--------------] ETA 14s | 00:00:19 so far\n",
      "\n",
      "Step 298 / 500 [====================>--------------] ETA 14s | 00:00:19 so far\n",
      "\n",
      "Step 299 / 500 [====================>--------------] ETA 13s | 00:00:19 so far\n",
      "\n",
      "Step 300 / 500 [====================>--------------] ETA 13s | 00:00:20 so far\n",
      "\n",
      "Step 301 / 500 [====================>--------------] ETA 13s | 00:00:20 so far\n",
      "\n",
      "Step 302 / 500 [====================>--------------] ETA 13s | 00:00:20 so far\n",
      "\n",
      "Step 303 / 500 [====================>--------------] ETA 13s | 00:00:20 so far\n",
      "\n",
      "Step 304 / 500 [====================>--------------] ETA 13s | 00:00:20 so far\n",
      "\n",
      "Step 305 / 500 [====================>--------------] ETA 13s | 00:00:20 so far\n",
      "\n",
      "Step 306 / 500 [====================>--------------] ETA 13s | 00:00:20 so far\n",
      "\n",
      "Step 307 / 500 [====================>--------------] ETA 13s | 00:00:20 so far\n",
      "\n",
      "Step 308 / 500 [=====================>-------------] ETA 13s | 00:00:20 so far\n",
      "\n",
      "Step 309 / 500 [=====================>-------------] ETA 13s | 00:00:20 so far\n",
      "\n",
      "Step 310 / 500 [=====================>-------------] ETA 13s | 00:00:20 so far\n",
      "\n",
      "Step 311 / 500 [=====================>-------------] ETA 13s | 00:00:20 so far\n",
      "\n",
      "Step 312 / 500 [=====================>-------------] ETA 13s | 00:00:20 so far\n",
      "\n",
      "Step 313 / 500 [=====================>-------------] ETA 12s | 00:00:20 so far\n",
      "\n",
      "Step 314 / 500 [=====================>-------------] ETA 12s | 00:00:20 so far\n",
      "\n",
      "Step 315 / 500 [=====================>-------------] ETA 12s | 00:00:20 so far\n",
      "\n",
      "Step 316 / 500 [=====================>-------------] ETA 12s | 00:00:21 so far\n",
      "\n",
      "Step 317 / 500 [=====================>-------------] ETA 12s | 00:00:21 so far\n",
      "\n",
      "Step 318 / 500 [=====================>-------------] ETA 12s | 00:00:21 so far\n",
      "\n",
      "Step 319 / 500 [=====================>-------------] ETA 12s | 00:00:21 so far\n",
      "\n",
      "Step 320 / 500 [=====================>-------------] ETA 12s | 00:00:21 so far\n",
      "\n",
      "Step 321 / 500 [=====================>-------------] ETA 12s | 00:00:21 so far\n",
      "\n",
      "Step 322 / 500 [======================>------------] ETA 12s | 00:00:21 so far\n",
      "\n",
      "Step 323 / 500 [======================>------------] ETA 12s | 00:00:21 so far\n",
      "\n",
      "Step 324 / 500 [======================>------------] ETA 12s | 00:00:21 so far\n",
      "\n",
      "Step 325 / 500 [======================>------------] ETA 12s | 00:00:21 so far\n",
      "\n",
      "Step 326 / 500 [======================>------------] ETA 12s | 00:00:21 so far\n",
      "\n",
      "Step 327 / 500 [======================>------------] ETA 12s | 00:00:21 so far\n",
      "\n",
      "Step 328 / 500 [======================>------------] ETA 11s | 00:00:21 so far\n",
      "\n",
      "Step 329 / 500 [======================>------------] ETA 11s | 00:00:21 so far\n",
      "\n",
      "Step 330 / 500 [======================>------------] ETA 11s | 00:00:21 so far\n",
      "\n",
      "Step 331 / 500 [======================>------------] ETA 11s | 00:00:21 so far\n",
      "\n",
      "Step 332 / 500 [======================>------------] ETA 11s | 00:00:22 so far\n",
      "\n",
      "Step 333 / 500 [======================>------------] ETA 11s | 00:00:22 so far\n",
      "\n",
      "Step 334 / 500 [======================>------------] ETA 11s | 00:00:22 so far\n",
      "\n",
      "Step 335 / 500 [======================>------------] ETA 11s | 00:00:22 so far\n",
      "\n",
      "Step 336 / 500 [=======================>-----------] ETA 11s | 00:00:22 so far\n",
      "\n",
      "Step 337 / 500 [=======================>-----------] ETA 11s | 00:00:22 so far\n",
      "\n",
      "Step 338 / 500 [=======================>-----------] ETA 11s | 00:00:22 so far\n",
      "\n",
      "Step 339 / 500 [=======================>-----------] ETA 11s | 00:00:22 so far\n",
      "\n",
      "Step 340 / 500 [=======================>-----------] ETA 11s | 00:00:22 so far\n",
      "\n",
      "Step 341 / 500 [=======================>-----------] ETA 11s | 00:00:22 so far\n",
      "\n",
      "Step 342 / 500 [=======================>-----------] ETA 10s | 00:00:22 so far\n",
      "\n",
      "Step 343 / 500 [=======================>-----------] ETA 10s | 00:00:22 so far\n",
      "\n",
      "Step 344 / 500 [=======================>-----------] ETA 10s | 00:00:22 so far\n",
      "\n",
      "Step 345 / 500 [=======================>-----------] ETA 10s | 00:00:22 so far\n",
      "\n",
      "Step 346 / 500 [=======================>-----------] ETA 10s | 00:00:22 so far\n",
      "\n",
      "Step 347 / 500 [=======================>-----------] ETA 10s | 00:00:22 so far\n",
      "\n",
      "Step 348 / 500 [=======================>-----------] ETA 10s | 00:00:23 so far\n",
      "\n",
      "Step 349 / 500 [=======================>-----------] ETA 10s | 00:00:23 so far\n",
      "\n",
      "Step 350 / 500 [=======================>-----------] ETA 10s | 00:00:23 so far\n",
      "\n",
      "Step 351 / 500 [========================>----------] ETA 10s | 00:00:23 so far\n",
      "\n",
      "Step 352 / 500 [========================>----------] ETA 10s | 00:00:23 so far\n",
      "\n",
      "Step 353 / 500 [========================>----------] ETA 10s | 00:00:23 so far\n",
      "\n",
      "Step 354 / 500 [========================>----------] ETA 10s | 00:00:23 so far\n",
      "\n",
      "Step 355 / 500 [========================>----------] ETA 10s | 00:00:23 so far\n",
      "\n",
      "Step 356 / 500 [========================>----------] ETA 10s | 00:00:23 so far\n",
      "\n",
      "Step 357 / 500 [========================>----------] ETA  9s | 00:00:23 so far\n",
      "\n",
      "Step 358 / 500 [========================>----------] ETA  9s | 00:00:23 so far\n",
      "\n",
      "Step 359 / 500 [========================>----------] ETA  9s | 00:00:23 so far\n",
      "\n",
      "Step 360 / 500 [========================>----------] ETA  9s | 00:00:23 so far\n",
      "\n",
      "Step 361 / 500 [========================>----------] ETA  9s | 00:00:23 so far\n",
      "\n",
      "Step 362 / 500 [========================>----------] ETA  9s | 00:00:23 so far\n",
      "\n",
      "Step 363 / 500 [========================>----------] ETA  9s | 00:00:24 so far\n",
      "\n",
      "Step 364 / 500 [========================>----------] ETA  9s | 00:00:24 so far\n",
      "\n",
      "Step 365 / 500 [=========================>---------] ETA  9s | 00:00:24 so far\n",
      "\n",
      "Step 366 / 500 [=========================>---------] ETA  9s | 00:00:24 so far\n",
      "\n",
      "Step 367 / 500 [=========================>---------] ETA  9s | 00:00:24 so far\n",
      "\n",
      "Step 368 / 500 [=========================>---------] ETA  9s | 00:00:24 so far\n",
      "\n",
      "Step 369 / 500 [=========================>---------] ETA  9s | 00:00:24 so far\n",
      "\n",
      "Step 370 / 500 [=========================>---------] ETA  9s | 00:00:24 so far\n",
      "\n",
      "Step 371 / 500 [=========================>---------] ETA  9s | 00:00:24 so far\n",
      "\n",
      "Step 372 / 500 [=========================>---------] ETA  8s | 00:00:24 so far\n",
      "\n",
      "Step 373 / 500 [=========================>---------] ETA  8s | 00:00:24 so far\n",
      "\n",
      "Step 374 / 500 [=========================>---------] ETA  8s | 00:00:24 so far\n",
      "\n",
      "Step 375 / 500 [=========================>---------] ETA  8s | 00:00:24 so far\n",
      "\n",
      "Step 376 / 500 [=========================>---------] ETA  8s | 00:00:24 so far\n",
      "\n",
      "Step 377 / 500 [=========================>---------] ETA  8s | 00:00:25 so far\n",
      "\n",
      "Step 378 / 500 [=========================>---------] ETA  8s | 00:00:25 so far\n",
      "\n",
      "Step 379 / 500 [==========================>--------] ETA  8s | 00:00:25 so far\n",
      "\n",
      "Step 380 / 500 [==========================>--------] ETA  8s | 00:00:25 so far\n",
      "\n",
      "Step 381 / 500 [==========================>--------] ETA  8s | 00:00:25 so far\n",
      "\n",
      "Step 382 / 500 [==========================>--------] ETA  8s | 00:00:25 so far\n",
      "\n",
      "Step 383 / 500 [==========================>--------] ETA  8s | 00:00:25 so far\n",
      "\n",
      "Step 384 / 500 [==========================>--------] ETA  8s | 00:00:25 so far\n",
      "\n",
      "Step 385 / 500 [==========================>--------] ETA  8s | 00:00:25 so far\n",
      "\n",
      "Step 386 / 500 [==========================>--------] ETA  8s | 00:00:25 so far\n",
      "\n",
      "Step 387 / 500 [==========================>--------] ETA  8s | 00:00:25 so far\n",
      "\n",
      "Step 388 / 500 [==========================>--------] ETA  7s | 00:00:25 so far\n",
      "\n",
      "Step 389 / 500 [==========================>--------] ETA  7s | 00:00:25 so far\n",
      "\n",
      "Step 390 / 500 [==========================>--------] ETA  7s | 00:00:25 so far\n",
      "\n",
      "Step 391 / 500 [==========================>--------] ETA  7s | 00:00:26 so far\n",
      "\n",
      "Step 392 / 500 [==========================>--------] ETA  7s | 00:00:26 so far\n",
      "\n",
      "Step 393 / 500 [===========================>-------] ETA  7s | 00:00:26 so far\n",
      "\n",
      "Step 394 / 500 [===========================>-------] ETA  7s | 00:00:26 so far\n",
      "\n",
      "Step 395 / 500 [===========================>-------] ETA  7s | 00:00:26 so far\n",
      "\n",
      "Step 396 / 500 [===========================>-------] ETA  7s | 00:00:26 so far\n",
      "\n",
      "Step 397 / 500 [===========================>-------] ETA  7s | 00:00:26 so far\n",
      "\n",
      "Step 398 / 500 [===========================>-------] ETA  7s | 00:00:26 so far\n",
      "\n",
      "Step 399 / 500 [===========================>-------] ETA  7s | 00:00:26 so far\n",
      "\n",
      "Step 400 / 500 [===========================>-------] ETA  7s | 00:00:26 so far\n",
      "\n",
      "Step 401 / 500 [===========================>-------] ETA  7s | 00:00:26 so far\n",
      "\n",
      "Step 402 / 500 [===========================>-------] ETA  7s | 00:00:26 so far\n",
      "\n",
      "Step 403 / 500 [===========================>-------] ETA  6s | 00:00:26 so far\n",
      "\n",
      "Step 404 / 500 [===========================>-------] ETA  6s | 00:00:26 so far\n",
      "\n",
      "Step 405 / 500 [===========================>-------] ETA  6s | 00:00:27 so far\n",
      "\n",
      "Step 406 / 500 [===========================>-------] ETA  6s | 00:00:27 so far\n",
      "\n",
      "Step 407 / 500 [===========================>-------] ETA  6s | 00:00:27 so far\n",
      "\n",
      "Step 408 / 500 [============================>------] ETA  6s | 00:00:27 so far\n",
      "\n",
      "Step 409 / 500 [============================>------] ETA  6s | 00:00:27 so far\n",
      "\n",
      "Step 410 / 500 [============================>------] ETA  6s | 00:00:27 so far\n",
      "\n",
      "Step 411 / 500 [============================>------] ETA  6s | 00:00:27 so far\n",
      "\n",
      "Step 412 / 500 [============================>------] ETA  6s | 00:00:27 so far\n",
      "\n",
      "Step 413 / 500 [============================>------] ETA  6s | 00:00:27 so far\n",
      "\n",
      "Step 414 / 500 [============================>------] ETA  6s | 00:00:27 so far\n",
      "\n",
      "Step 415 / 500 [============================>------] ETA  6s | 00:00:27 so far\n",
      "\n",
      "Step 416 / 500 [============================>------] ETA  6s | 00:00:27 so far\n",
      "\n",
      "Step 417 / 500 [============================>------] ETA  6s | 00:00:27 so far\n",
      "\n",
      "Step 418 / 500 [============================>------] ETA  5s | 00:00:27 so far\n",
      "\n",
      "Step 419 / 500 [============================>------] ETA  5s | 00:00:27 so far\n",
      "\n",
      "Step 420 / 500 [============================>------] ETA  5s | 00:00:28 so far\n",
      "\n",
      "Step 421 / 500 [============================>------] ETA  5s | 00:00:28 so far\n",
      "\n",
      "Step 422 / 500 [=============================>-----] ETA  5s | 00:00:28 so far\n",
      "\n",
      "Step 423 / 500 [=============================>-----] ETA  5s | 00:00:28 so far\n",
      "\n",
      "Step 424 / 500 [=============================>-----] ETA  5s | 00:00:28 so far\n",
      "\n",
      "Step 425 / 500 [=============================>-----] ETA  5s | 00:00:28 so far\n",
      "\n",
      "Step 426 / 500 [=============================>-----] ETA  5s | 00:00:28 so far\n",
      "\n",
      "Step 427 / 500 [=============================>-----] ETA  5s | 00:00:28 so far\n",
      "\n",
      "Step 428 / 500 [=============================>-----] ETA  5s | 00:00:28 so far\n",
      "\n",
      "Step 429 / 500 [=============================>-----] ETA  5s | 00:00:28 so far\n",
      "\n",
      "Step 430 / 500 [=============================>-----] ETA  5s | 00:00:28 so far\n",
      "\n",
      "Step 431 / 500 [=============================>-----] ETA  5s | 00:00:28 so far\n",
      "\n",
      "Step 432 / 500 [=============================>-----] ETA  5s | 00:00:28 so far\n",
      "\n",
      "Step 433 / 500 [=============================>-----] ETA  4s | 00:00:28 so far\n",
      "\n",
      "Step 434 / 500 [=============================>-----] ETA  4s | 00:00:28 so far\n",
      "\n",
      "Step 435 / 500 [=============================>-----] ETA  4s | 00:00:28 so far\n",
      "\n",
      "Step 436 / 500 [==============================>----] ETA  4s | 00:00:29 so far\n",
      "\n",
      "Step 437 / 500 [==============================>----] ETA  4s | 00:00:29 so far\n",
      "\n",
      "Step 438 / 500 [==============================>----] ETA  4s | 00:00:29 so far\n",
      "\n",
      "Step 439 / 500 [==============================>----] ETA  4s | 00:00:29 so far\n",
      "\n",
      "Step 440 / 500 [==============================>----] ETA  4s | 00:00:29 so far\n",
      "\n",
      "Step 441 / 500 [==============================>----] ETA  4s | 00:00:29 so far\n",
      "\n",
      "Step 442 / 500 [==============================>----] ETA  4s | 00:00:29 so far\n",
      "\n",
      "Step 443 / 500 [==============================>----] ETA  4s | 00:00:29 so far\n",
      "\n",
      "Step 444 / 500 [==============================>----] ETA  4s | 00:00:29 so far\n",
      "\n",
      "Step 445 / 500 [==============================>----] ETA  4s | 00:00:29 so far\n",
      "\n",
      "Step 446 / 500 [==============================>----] ETA  4s | 00:00:29 so far\n",
      "\n",
      "Step 447 / 500 [==============================>----] ETA  4s | 00:00:29 so far\n",
      "\n",
      "Step 448 / 500 [==============================>----] ETA  3s | 00:00:29 so far\n",
      "\n",
      "Step 449 / 500 [==============================>----] ETA  3s | 00:00:29 so far\n",
      "\n",
      "Step 450 / 500 [===============================>---] ETA  3s | 00:00:29 so far\n",
      "\n",
      "Step 451 / 500 [===============================>---] ETA  3s | 00:00:30 so far\n",
      "\n",
      "Step 452 / 500 [===============================>---] ETA  3s | 00:00:30 so far\n",
      "\n",
      "Step 453 / 500 [===============================>---] ETA  3s | 00:00:30 so far\n",
      "\n",
      "Step 454 / 500 [===============================>---] ETA  3s | 00:00:30 so far\n",
      "\n",
      "Step 455 / 500 [===============================>---] ETA  3s | 00:00:30 so far\n",
      "\n",
      "Step 456 / 500 [===============================>---] ETA  3s | 00:00:30 so far\n",
      "\n",
      "Step 457 / 500 [===============================>---] ETA  3s | 00:00:30 so far\n",
      "\n",
      "Step 458 / 500 [===============================>---] ETA  3s | 00:00:30 so far\n",
      "\n",
      "Step 459 / 500 [===============================>---] ETA  3s | 00:00:30 so far\n",
      "\n",
      "Step 460 / 500 [===============================>---] ETA  3s | 00:00:30 so far\n",
      "\n",
      "Step 461 / 500 [===============================>---] ETA  3s | 00:00:30 so far\n",
      "\n",
      "Step 462 / 500 [===============================>---] ETA  3s | 00:00:30 so far\n",
      "\n",
      "Step 463 / 500 [===============================>---] ETA  2s | 00:00:30 so far\n",
      "\n",
      "Step 464 / 500 [===============================>---] ETA  2s | 00:00:30 so far\n",
      "\n",
      "Step 465 / 500 [================================>--] ETA  2s | 00:00:30 so far\n",
      "\n",
      "Step 466 / 500 [================================>--] ETA  2s | 00:00:30 so far\n",
      "\n",
      "Step 467 / 500 [================================>--] ETA  2s | 00:00:31 so far\n",
      "\n",
      "Step 468 / 500 [================================>--] ETA  2s | 00:00:31 so far\n",
      "\n",
      "Step 469 / 500 [================================>--] ETA  2s | 00:00:31 so far\n",
      "\n",
      "Step 470 / 500 [================================>--] ETA  2s | 00:00:31 so far\n",
      "\n",
      "Step 471 / 500 [================================>--] ETA  2s | 00:00:31 so far\n",
      "\n",
      "Step 472 / 500 [================================>--] ETA  2s | 00:00:31 so far\n",
      "\n",
      "Step 473 / 500 [================================>--] ETA  2s | 00:00:31 so far\n",
      "\n",
      "Step 474 / 500 [================================>--] ETA  2s | 00:00:31 so far\n",
      "\n",
      "Step 475 / 500 [================================>--] ETA  2s | 00:00:31 so far\n",
      "\n",
      "Step 476 / 500 [================================>--] ETA  2s | 00:00:31 so far\n",
      "\n",
      "Step 477 / 500 [================================>--] ETA  2s | 00:00:31 so far\n",
      "\n",
      "Step 478 / 500 [================================>--] ETA  1s | 00:00:31 so far\n",
      "\n",
      "Step 479 / 500 [=================================>-] ETA  1s | 00:00:31 so far\n",
      "\n",
      "Step 480 / 500 [=================================>-] ETA  1s | 00:00:31 so far\n",
      "\n",
      "Step 481 / 500 [=================================>-] ETA  1s | 00:00:31 so far\n",
      "\n",
      "Step 482 / 500 [=================================>-] ETA  1s | 00:00:32 so far\n",
      "\n",
      "Step 483 / 500 [=================================>-] ETA  1s | 00:00:32 so far\n",
      "\n",
      "Step 484 / 500 [=================================>-] ETA  1s | 00:00:32 so far\n",
      "\n",
      "Step 485 / 500 [=================================>-] ETA  1s | 00:00:32 so far\n",
      "\n",
      "Step 486 / 500 [=================================>-] ETA  1s | 00:00:32 so far\n",
      "\n",
      "Step 487 / 500 [=================================>-] ETA  1s | 00:00:32 so far\n",
      "\n",
      "Step 488 / 500 [=================================>-] ETA  1s | 00:00:32 so far\n",
      "\n",
      "Step 489 / 500 [=================================>-] ETA  1s | 00:00:32 so far\n",
      "\n",
      "Step 490 / 500 [=================================>-] ETA  1s | 00:00:32 so far\n",
      "\n",
      "Step 491 / 500 [=================================>-] ETA  1s | 00:00:32 so far\n",
      "\n",
      "Step 492 / 500 [=================================>-] ETA  1s | 00:00:32 so far\n",
      "\n",
      "Step 493 / 500 [==================================>] ETA  0s | 00:00:32 so far\n",
      "\n",
      "Step 494 / 500 [==================================>] ETA  0s | 00:00:32 so far\n",
      "\n",
      "Step 495 / 500 [==================================>] ETA  0s | 00:00:32 so far\n",
      "\n",
      "Step 496 / 500 [==================================>] ETA  0s | 00:00:32 so far\n",
      "\n",
      "Step 497 / 500 [==================================>] ETA  0s | 00:00:32 so far\n",
      "\n",
      "Step 498 / 500 [==================================>] ETA  0s | 00:00:33 so far\n",
      "\n",
      "Step 499 / 500 [==================================>] ETA  0s | 00:00:33 so far\n",
      "\n",
      "Step 500 / 500 [===================================] ETA  0s | 00:00:33 so far\n",
      "                                                                              \n",
      "\n",
      "Finished 500 steps in 33 secs\n",
      "\n"
     ]
    }
   ],
   "source": [
    "control <- mcstate::pmcmc_control(\n",
    "    n_steps,\n",
    "    save_state = TRUE,\n",
    "    save_trajectories = TRUE,\n",
    "    progress = TRUE)\n",
    "pmcmc_run <- mcstate::pmcmc(mcmc_pars, filter, control = control)"
   ]
  },
  {
   "cell_type": "code",
   "execution_count": 32,
   "id": "550a1fcc-9182-464d-acef-b854dee0f134",
   "metadata": {},
   "outputs": [
    {
     "ename": "ERROR",
     "evalue": "Error in t(true_history[1:3, , -1]): object 'true_history' not found\n",
     "output_type": "error",
     "traceback": [
      "Error in t(true_history[1:3, , -1]): object 'true_history' not found\nTraceback:\n",
      "1. plot_particle_filter(pmcmc_run$trajectories$state, true_history, \n .     incidence$day)",
      "2. matpoints(times[1:obs_end], t(true_history[1:3, , -1]), pch = 19, \n .     col = cols)   # at line 13-14 of file <text>",
      "3. matplot(x = x, y = y, type = type, lty = lty, lwd = lwd, pch = pch, \n .     col = col, add = TRUE, ...)",
      "4. t(true_history[1:3, , -1])   # at line 13-14 of file <text>"
     ]
    },
    {
     "data": {
      "image/png": "[encoded data removed]",
      "text/plain": [
       "plot without title"
      ]
     },
     "metadata": {
      "image/png": {
       "height": 420,
       "width": 420
      }
     },
     "output_type": "display_data"
    }
   ],
   "source": [
    "plot_particle_filter(pmcmc_run$trajectories$state, true_history, incidence$day)"
   ]
  },
  {
   "cell_type": "markdown",
   "id": "512ad5f0-7245-49e5-839f-92e6550f6c85",
   "metadata": {},
   "source": [
    "We also provide some basic tools for dealing with this output, before running prediction (see below). We can remove burn-in and thin the four chains as follows:"
   ]
  },
  {
   "cell_type": "code",
   "execution_count": 33,
   "id": "95819081-6ec2-4191-8710-4e0c107324ad",
   "metadata": {},
   "outputs": [
    {
     "data": {
      "text/html": [
       "<style>\n",
       ".dl-inline {width: auto; margin:0; padding: 0}\n",
       ".dl-inline>dt, .dl-inline>dd {float: none; width: auto; display: inline-block}\n",
       ".dl-inline>dt::after {content: \":\\0020\"; padding-right: .5ex}\n",
       ".dl-inline>dt:not(:first-of-type) {padding-left: .5ex}\n",
       "</style><dl class=dl-inline><dt>beta</dt><dd>0.233118543257102</dd><dt>gamma</dt><dd>0.128834158561022</dd></dl>\n"
      ],
      "text/latex": [
       "\\begin{description*}\n",
       "\\item[beta] 0.233118543257102\n",
       "\\item[gamma] 0.128834158561022\n",
       "\\end{description*}\n"
      ],
      "text/markdown": [
       "beta\n",
       ":   0.233118543257102gamma\n",
       ":   0.128834158561022\n",
       "\n"
      ],
      "text/plain": [
       "     beta     gamma \n",
       "0.2331185 0.1288342 "
      ]
     },
     "metadata": {},
     "output_type": "display_data"
    }
   ],
   "source": [
    "processed_chains <- mcstate::pmcmc_thin(pmcmc_run, burnin = n_burnin, thin = 2)\n",
    "parameter_mean_hpd <- apply(processed_chains$pars, 2, mean)\n",
    "parameter_mean_hpd"
   ]
  },
  {
   "cell_type": "markdown",
   "id": "99bb51f5-c7ec-426c-b07b-1d7ecaf2c0d6",
   "metadata": {},
   "source": [
    "## Running predictions ##\n",
    "Going back to the simple SIR model above, we can easily continue running the fitted model forward in time using the posterior estimated by pmcmc() to create a forecast past the end of the data, sampling 10 particles:"
   ]
  },
  {
   "cell_type": "code",
   "execution_count": 36,
   "id": "cefd6988-59d6-4d52-b0c1-2554af20074c",
   "metadata": {},
   "outputs": [
    {
     "ename": "ERROR",
     "evalue": "Error in t(true_history[1:3, , -1]): object 'true_history' not found\n",
     "output_type": "error",
     "traceback": [
      "Error in t(true_history[1:3, , -1]): object 'true_history' not found\nTraceback:\n",
      "1. plot_particle_filter(mini_forecast, true_history, seq_len(200), \n .     obs_end = max(incidence$day))",
      "2. matpoints(times[1:obs_end], t(true_history[1:3, , -1]), pch = 19, \n .     col = cols)   # at line 13-14 of file <text>",
      "3. matplot(x = x, y = y, type = type, lty = lty, lwd = lwd, pch = pch, \n .     col = col, add = TRUE, ...)",
      "4. t(true_history[1:3, , -1])   # at line 13-14 of file <text>"
     ]
    },
    {
     "data": {
      "image/png": "[encoded data removed]",
      "text/plain": [
       "plot without title"
      ]
     },
     "metadata": {
      "image/png": {
       "height": 420,
       "width": 420
      }
     },
     "output_type": "display_data"
    }
   ],
   "source": [
    "forecast <- predict(processed_chains,\n",
    "                    steps = seq(400, 800, 4),\n",
    "                    prepend_trajectories = TRUE,\n",
    "                    seed = processed_chains$predict$seed)\n",
    "\n",
    "keep <- sample.int(ncol(forecast$state), size = 10)\n",
    "mini_forecast <- forecast$state[, keep, ]\n",
    "\n",
    "plot_particle_filter(mini_forecast,\n",
    "                     true_history,\n",
    "                     seq_len(200),\n",
    "                     obs_end = max(incidence$day))"
   ]
  },
  {
   "cell_type": "markdown",
   "id": "2b6dee83-bde0-4377-8ea5-bbe06ca4c62d",
   "metadata": {},
   "source": [
    "## Fitting to multiple datastreams ##\n",
    "The set up of the particle filter and observation function makes it easy to fit to multiple datastreams within a Bayesian framework. Let us model a disease where a proportion of infected cases pdeath=0.05 die rather than recover by adding the following lines to the odin code:"
   ]
  },
  {
   "cell_type": "code",
   "execution_count": 44,
   "id": "f04c1d47-982e-410c-ad26-f084151d6bb3",
   "metadata": {},
   "outputs": [
    {
     "ename": "ERROR",
     "evalue": "Error in initial(time) <- 0: could not find function \"initial<-\"\n",
     "output_type": "error",
     "traceback": [
      "Error in initial(time) <- 0: could not find function \"initial<-\"\nTraceback:\n"
     ]
    }
   ],
   "source": [
    "## Definition of the time-step and output as \"time\"\n",
    "steps_per_day <- 1\n",
    "dt <- 1 / steps_per_day\n",
    "initial(time) <- 0\n",
    "update(time) <- (step + 1) * dt\n",
    "\n",
    "## Core equations for transitions between compartments:\n",
    "update(S) <- S - n_SI\n",
    "update(I) <- I + n_SI - n_IR - n_ID\n",
    "update(R) <- R + n_IR\n",
    "update(D) <- D + n_ID\n",
    "\n",
    "## Individual probabilities of transition:\n",
    "p_SI <- 1 - exp(-beta * I / N) # S to I\n",
    "p_IR <- 1 - exp(-gamma) # I to R\n",
    "\n",
    "## Draws from binomial distributions for numbers changing between\n",
    "## compartments, dealing competing hazards for I -> R and I -> D\n",
    "n_Ix <- rbinom(I, p_IR * dt)\n",
    "n_IR <- rbinom(n_Ix, 1 - p_death)\n",
    "n_ID <- n_Ix - n_IR\n",
    "n_SI <- rbinom(S, p_SI * dt)\n",
    "\n",
    "## Total population size\n",
    "N <- S + I + R\n",
    "\n",
    "## Initial states:\n",
    "initial(S) <- S_ini\n",
    "initial(I) <- I_ini\n",
    "initial(R) <- 0\n",
    "initial(D) <- 0\n",
    "\n",
    "## Convert some cumulative values into incidence:\n",
    "initial(S_inc) <- 0\n",
    "initial(D_inc) <- 0\n",
    "update(S_inc) <- if (step %% steps_per_day == 0) n_SI else S_inc + n_SI\n",
    "update(D_inc) <- if (step %% steps_per_day == 0) n_ID else D_inc + n_ID\n",
    "\n",
    "## User defined parameters - default in parentheses:\n",
    "S_ini <- 1000\n",
    "I_ini <- 10\n",
    "beta <- 0.2\n",
    "gamma <- 0.1\n",
    "p_death <- 0.05"
   ]
  },
  {
   "cell_type": "code",
   "execution_count": 43,
   "id": "6b24909f-a5c4-483f-8205-fbc0eb28076b",
   "metadata": {},
   "outputs": [
    {
     "ename": "ERROR",
     "evalue": "Error in odin_preprocess_detect(x, type): 'deaths.R' looks like a filename, but file does not exist\n",
     "output_type": "error",
     "traceback": [
      "Error in odin_preprocess_detect(x, type): 'deaths.R' looks like a filename, but file does not exist\nTraceback:\n",
      "1. odin.dust::odin_dust(\"deaths.R\", verbose = FALSE)",
      "2. odin_dust_(xx, ..., options = options)",
      "3. odin::odin_parse_(x, options)",
      "4. ir_parse(x, options, type)",
      "5. odin_preprocess(x, type)",
      "6. odin_preprocess_detect(x, type)",
      "7. stop(sprintf(\"'%s' looks like a filename, but file does not exist\", \n .     x))"
     ]
    }
   ],
   "source": [
    "gen_death <- odin.dust::odin_dust(\"deaths.R\", verbose = FALSE)"
   ]
  }
 ],
 "metadata": {
  "kernelspec": {
   "display_name": "R",
   "language": "R",
   "name": "ir"
  },
  "language_info": {
   "codemirror_mode": "r",
   "file_extension": ".r",
   "mimetype": "text/x-r-source",
   "name": "R",
   "pygments_lexer": "r",
   "version": "4.1.3"
  }
 },
 "nbformat": 4,
 "nbformat_minor": 5
}
